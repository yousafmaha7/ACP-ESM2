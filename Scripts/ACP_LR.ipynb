{
 "cells": [
  {
   "cell_type": "code",
   "execution_count": 1,
   "id": "29058435-b4a2-464a-a7da-0b9715a98a5a",
   "metadata": {},
   "outputs": [
    {
     "name": "stdout",
     "output_type": "stream",
     "text": [
      "Current Working Directory: D:\\ACP\n"
     ]
    }
   ],
   "source": [
    "import os\n",
    "# Set working directory\n",
    "os.chdir(\"D:/ACP\")  # Windows path fix: use forward slash or raw string\n",
    "\n",
    "print(\"Current Working Directory:\", os.getcwd())"
   ]
  },
  {
   "cell_type": "code",
   "execution_count": 2,
   "id": "4e2766f2-f71c-46d9-8a9a-96684ebea04d",
   "metadata": {},
   "outputs": [],
   "source": [
    "import pandas as pd\n",
    "import joblib\n",
    "import numpy as np\n",
    "from sklearn.linear_model import LogisticRegression\n",
    "from sklearn.model_selection import GridSearchCV, cross_val_score\n",
    "from sklearn.model_selection import StratifiedKFold\n",
    "from sklearn.metrics import (\n",
    "    classification_report, confusion_matrix, accuracy_score, roc_auc_score, roc_curve, auc\n",
    ")\n",
    "import matplotlib.pyplot as plt"
   ]
  },
  {
   "cell_type": "code",
   "execution_count": 3,
   "id": "93f8badd-652f-425d-b546-8be9fd14ac61",
   "metadata": {},
   "outputs": [],
   "source": [
    "# Step 1: Load the datasets (datasets were already splited and saved as csv files, 80,20 split)\n",
    "train_data = pd.read_csv(\"acp_train_data.csv\") #train data\n",
    "test_data = pd.read_csv(\"acp_test_data.csv\") #test data\n",
    "# Step 2: Separate labels and features\n",
    "y_train, X_train = train_data.iloc[:, 2], train_data.iloc[:, 3:] # third column: Label, # from fourth column onward: features\n",
    "y_test, X_test = test_data.iloc[:, 2], test_data.iloc[:, 3:]"
   ]
  },
  {
   "cell_type": "code",
   "execution_count": 4,
   "id": "893bbb6d-f497-49be-9e0f-891ac412c5ae",
   "metadata": {
    "scrolled": true
   },
   "outputs": [
    {
     "name": "stdout",
     "output_type": "stream",
     "text": [
      "Fitting 5 folds for each of 240 candidates, totalling 1200 fits\n",
      "[CV] END C=0.001, class_weight=None, max_iter=100, penalty=l2, solver=liblinear; total time=   0.2s\n",
      "[CV] END C=0.001, class_weight=None, max_iter=100, penalty=l2, solver=liblinear; total time=   0.2s\n",
      "[CV] END C=0.001, class_weight=None, max_iter=100, penalty=l2, solver=liblinear; total time=   0.2s\n",
      "[CV] END C=0.001, class_weight=None, max_iter=100, penalty=l2, solver=liblinear; total time=   0.2s\n",
      "[CV] END C=0.001, class_weight=None, max_iter=100, penalty=l2, solver=liblinear; total time=   0.2s\n",
      "[CV] END C=0.001, class_weight=None, max_iter=100, penalty=l2, solver=saga; total time=   3.2s\n",
      "[CV] END C=0.001, class_weight=None, max_iter=100, penalty=l2, solver=saga; total time=   3.2s\n",
      "[CV] END C=0.001, class_weight=None, max_iter=100, penalty=l2, solver=saga; total time=   3.2s\n",
      "[CV] END C=0.001, class_weight=None, max_iter=100, penalty=l2, solver=saga; total time=   2.6s\n",
      "[CV] END C=0.001, class_weight=None, max_iter=100, penalty=l2, solver=saga; total time=   1.6s\n",
      "[CV] END C=0.001, class_weight=None, max_iter=100, penalty=l1, solver=liblinear; total time=   0.1s\n",
      "[CV] END C=0.001, class_weight=None, max_iter=100, penalty=l1, solver=liblinear; total time=   0.1s\n",
      "[CV] END C=0.001, class_weight=None, max_iter=100, penalty=l1, solver=liblinear; total time=   0.1s\n",
      "[CV] END C=0.001, class_weight=None, max_iter=100, penalty=l1, solver=liblinear; total time=   0.1s\n",
      "[CV] END C=0.001, class_weight=None, max_iter=100, penalty=l1, solver=liblinear; total time=   0.1s\n",
      "[CV] END C=0.001, class_weight=None, max_iter=100, penalty=l1, solver=saga; total time=   0.1s\n",
      "[CV] END C=0.001, class_weight=None, max_iter=100, penalty=l1, solver=saga; total time=   0.1s\n",
      "[CV] END C=0.001, class_weight=None, max_iter=100, penalty=l1, solver=saga; total time=   0.1s\n",
      "[CV] END C=0.001, class_weight=None, max_iter=100, penalty=l1, solver=saga; total time=   0.1s\n",
      "[CV] END C=0.001, class_weight=None, max_iter=100, penalty=l1, solver=saga; total time=   0.1s\n",
      "[CV] END C=0.001, class_weight=None, max_iter=200, penalty=l2, solver=liblinear; total time=   0.1s\n",
      "[CV] END C=0.001, class_weight=None, max_iter=200, penalty=l2, solver=liblinear; total time=   0.1s\n",
      "[CV] END C=0.001, class_weight=None, max_iter=200, penalty=l2, solver=liblinear; total time=   0.1s\n",
      "[CV] END C=0.001, class_weight=None, max_iter=200, penalty=l2, solver=liblinear; total time=   0.2s\n",
      "[CV] END C=0.001, class_weight=None, max_iter=200, penalty=l2, solver=liblinear; total time=   0.2s\n",
      "[CV] END C=0.001, class_weight=None, max_iter=200, penalty=l2, solver=saga; total time=   2.6s\n",
      "[CV] END C=0.001, class_weight=None, max_iter=200, penalty=l2, solver=saga; total time=   2.9s\n",
      "[CV] END C=0.001, class_weight=None, max_iter=200, penalty=l2, solver=saga; total time=   3.1s\n",
      "[CV] END C=0.001, class_weight=None, max_iter=200, penalty=l2, solver=saga; total time=   3.1s\n",
      "[CV] END C=0.001, class_weight=None, max_iter=200, penalty=l2, solver=saga; total time=   2.6s\n",
      "[CV] END C=0.001, class_weight=None, max_iter=200, penalty=l1, solver=liblinear; total time=   0.2s\n",
      "[CV] END C=0.001, class_weight=None, max_iter=200, penalty=l1, solver=liblinear; total time=   0.2s\n",
      "[CV] END C=0.001, class_weight=None, max_iter=200, penalty=l1, solver=liblinear; total time=   0.1s\n",
      "[CV] END C=0.001, class_weight=None, max_iter=200, penalty=l1, solver=liblinear; total time=   0.2s\n",
      "[CV] END C=0.001, class_weight=None, max_iter=200, penalty=l1, solver=liblinear; total time=   0.2s\n",
      "[CV] END C=0.001, class_weight=None, max_iter=200, penalty=l1, solver=saga; total time=   0.2s\n",
      "[CV] END C=0.001, class_weight=None, max_iter=200, penalty=l1, solver=saga; total time=   0.2s\n",
      "[CV] END C=0.001, class_weight=None, max_iter=200, penalty=l1, solver=saga; total time=   0.1s\n",
      "[CV] END C=0.001, class_weight=None, max_iter=200, penalty=l1, solver=saga; total time=   0.1s\n",
      "[CV] END C=0.001, class_weight=None, max_iter=200, penalty=l1, solver=saga; total time=   0.1s\n",
      "[CV] END C=0.001, class_weight=None, max_iter=500, penalty=l2, solver=liblinear; total time=   0.1s\n",
      "[CV] END C=0.001, class_weight=None, max_iter=500, penalty=l2, solver=liblinear; total time=   0.1s\n",
      "[CV] END C=0.001, class_weight=None, max_iter=500, penalty=l2, solver=liblinear; total time=   0.1s\n",
      "[CV] END C=0.001, class_weight=None, max_iter=500, penalty=l2, solver=liblinear; total time=   0.1s\n",
      "[CV] END C=0.001, class_weight=None, max_iter=500, penalty=l2, solver=liblinear; total time=   0.1s\n",
      "[CV] END C=0.001, class_weight=None, max_iter=500, penalty=l2, solver=saga; total time=   1.8s\n",
      "[CV] END C=0.001, class_weight=None, max_iter=500, penalty=l2, solver=saga; total time=   2.4s\n",
      "[CV] END C=0.001, class_weight=None, max_iter=500, penalty=l2, solver=saga; total time=   3.2s\n",
      "[CV] END C=0.001, class_weight=None, max_iter=500, penalty=l2, solver=saga; total time=   3.2s\n",
      "[CV] END C=0.001, class_weight=None, max_iter=500, penalty=l2, solver=saga; total time=   2.9s\n",
      "[CV] END C=0.001, class_weight=None, max_iter=500, penalty=l1, solver=liblinear; total time=   0.1s\n",
      "[CV] END C=0.001, class_weight=None, max_iter=500, penalty=l1, solver=liblinear; total time=   0.2s\n",
      "[CV] END C=0.001, class_weight=None, max_iter=500, penalty=l1, solver=liblinear; total time=   0.2s\n",
      "[CV] END C=0.001, class_weight=None, max_iter=500, penalty=l1, solver=liblinear; total time=   0.2s\n",
      "[CV] END C=0.001, class_weight=None, max_iter=500, penalty=l1, solver=liblinear; total time=   0.2s\n",
      "[CV] END C=0.001, class_weight=None, max_iter=500, penalty=l1, solver=saga; total time=   0.2s\n",
      "[CV] END C=0.001, class_weight=None, max_iter=500, penalty=l1, solver=saga; total time=   0.2s\n",
      "[CV] END C=0.001, class_weight=None, max_iter=500, penalty=l1, solver=saga; total time=   0.2s\n",
      "[CV] END C=0.001, class_weight=None, max_iter=500, penalty=l1, solver=saga; total time=   0.2s\n",
      "[CV] END C=0.001, class_weight=None, max_iter=500, penalty=l1, solver=saga; total time=   0.2s\n",
      "[CV] END C=0.001, class_weight=None, max_iter=700, penalty=l2, solver=liblinear; total time=   0.2s\n",
      "[CV] END C=0.001, class_weight=None, max_iter=700, penalty=l2, solver=liblinear; total time=   0.2s\n",
      "[CV] END C=0.001, class_weight=None, max_iter=700, penalty=l2, solver=liblinear; total time=   0.2s\n",
      "[CV] END C=0.001, class_weight=None, max_iter=700, penalty=l2, solver=liblinear; total time=   0.2s\n",
      "[CV] END C=0.001, class_weight=None, max_iter=700, penalty=l2, solver=liblinear; total time=   0.2s\n",
      "[CV] END C=0.001, class_weight=None, max_iter=700, penalty=l2, solver=saga; total time=   2.9s\n",
      "[CV] END C=0.001, class_weight=None, max_iter=700, penalty=l2, solver=saga; total time=   1.9s\n",
      "[CV] END C=0.001, class_weight=None, max_iter=700, penalty=l2, solver=saga; total time=   1.8s\n",
      "[CV] END C=0.001, class_weight=None, max_iter=700, penalty=l2, solver=saga; total time=   2.6s\n",
      "[CV] END C=0.001, class_weight=None, max_iter=700, penalty=l2, solver=saga; total time=   2.8s\n",
      "[CV] END C=0.001, class_weight=None, max_iter=700, penalty=l1, solver=liblinear; total time=   0.2s\n",
      "[CV] END C=0.001, class_weight=None, max_iter=700, penalty=l1, solver=liblinear; total time=   0.2s\n",
      "[CV] END C=0.001, class_weight=None, max_iter=700, penalty=l1, solver=liblinear; total time=   0.2s\n",
      "[CV] END C=0.001, class_weight=None, max_iter=700, penalty=l1, solver=liblinear; total time=   0.2s\n",
      "[CV] END C=0.001, class_weight=None, max_iter=700, penalty=l1, solver=liblinear; total time=   0.2s\n",
      "[CV] END C=0.001, class_weight=None, max_iter=700, penalty=l1, solver=saga; total time=   0.2s\n",
      "[CV] END C=0.001, class_weight=None, max_iter=700, penalty=l1, solver=saga; total time=   0.2s\n",
      "[CV] END C=0.001, class_weight=None, max_iter=700, penalty=l1, solver=saga; total time=   0.2s\n",
      "[CV] END C=0.001, class_weight=None, max_iter=700, penalty=l1, solver=saga; total time=   0.2s\n",
      "[CV] END C=0.001, class_weight=None, max_iter=700, penalty=l1, solver=saga; total time=   0.2s\n",
      "[CV] END C=0.001, class_weight=None, max_iter=1000, penalty=l2, solver=liblinear; total time=   0.2s\n",
      "[CV] END C=0.001, class_weight=None, max_iter=1000, penalty=l2, solver=liblinear; total time=   0.2s\n",
      "[CV] END C=0.001, class_weight=None, max_iter=1000, penalty=l2, solver=liblinear; total time=   0.2s\n",
      "[CV] END C=0.001, class_weight=None, max_iter=1000, penalty=l2, solver=liblinear; total time=   0.1s\n",
      "[CV] END C=0.001, class_weight=None, max_iter=1000, penalty=l2, solver=liblinear; total time=   0.2s\n",
      "[CV] END C=0.001, class_weight=None, max_iter=1000, penalty=l2, solver=saga; total time=   3.3s\n",
      "[CV] END C=0.001, class_weight=None, max_iter=1000, penalty=l2, solver=saga; total time=   3.2s\n",
      "[CV] END C=0.001, class_weight=None, max_iter=1000, penalty=l2, solver=saga; total time=   2.4s\n",
      "[CV] END C=0.001, class_weight=None, max_iter=1000, penalty=l2, solver=saga; total time=   1.7s\n",
      "[CV] END C=0.001, class_weight=None, max_iter=1000, penalty=l2, solver=saga; total time=   1.6s\n",
      "[CV] END C=0.001, class_weight=None, max_iter=1000, penalty=l1, solver=liblinear; total time=   0.1s\n",
      "[CV] END C=0.001, class_weight=None, max_iter=1000, penalty=l1, solver=liblinear; total time=   0.1s\n",
      "[CV] END C=0.001, class_weight=None, max_iter=1000, penalty=l1, solver=liblinear; total time=   0.1s\n",
      "[CV] END C=0.001, class_weight=None, max_iter=1000, penalty=l1, solver=liblinear; total time=   0.1s\n",
      "[CV] END C=0.001, class_weight=None, max_iter=1000, penalty=l1, solver=liblinear; total time=   0.2s\n",
      "[CV] END C=0.001, class_weight=None, max_iter=1000, penalty=l1, solver=saga; total time=   0.2s\n",
      "[CV] END C=0.001, class_weight=None, max_iter=1000, penalty=l1, solver=saga; total time=   0.2s\n",
      "[CV] END C=0.001, class_weight=None, max_iter=1000, penalty=l1, solver=saga; total time=   0.2s\n",
      "[CV] END C=0.001, class_weight=None, max_iter=1000, penalty=l1, solver=saga; total time=   0.2s\n",
      "[CV] END C=0.001, class_weight=None, max_iter=1000, penalty=l1, solver=saga; total time=   0.2s\n",
      "[CV] END C=0.001, class_weight=balanced, max_iter=100, penalty=l2, solver=liblinear; total time=   0.1s\n",
      "[CV] END C=0.001, class_weight=balanced, max_iter=100, penalty=l2, solver=liblinear; total time=   0.2s\n",
      "[CV] END C=0.001, class_weight=balanced, max_iter=100, penalty=l2, solver=liblinear; total time=   0.2s\n",
      "[CV] END C=0.001, class_weight=balanced, max_iter=100, penalty=l2, solver=liblinear; total time=   0.2s\n",
      "[CV] END C=0.001, class_weight=balanced, max_iter=100, penalty=l2, solver=liblinear; total time=   0.2s\n",
      "[CV] END C=0.001, class_weight=balanced, max_iter=100, penalty=l2, solver=saga; total time=   3.5s\n",
      "[CV] END C=0.001, class_weight=balanced, max_iter=100, penalty=l2, solver=saga; total time=   3.3s\n",
      "[CV] END C=0.001, class_weight=balanced, max_iter=100, penalty=l2, solver=saga; total time=   3.5s\n",
      "[CV] END C=0.001, class_weight=balanced, max_iter=100, penalty=l2, solver=saga; total time=   3.2s\n",
      "[CV] END C=0.001, class_weight=balanced, max_iter=100, penalty=l2, solver=saga; total time=   1.7s\n",
      "[CV] END C=0.001, class_weight=balanced, max_iter=100, penalty=l1, solver=liblinear; total time=   0.1s\n",
      "[CV] END C=0.001, class_weight=balanced, max_iter=100, penalty=l1, solver=liblinear; total time=   0.1s\n",
      "[CV] END C=0.001, class_weight=balanced, max_iter=100, penalty=l1, solver=liblinear; total time=   0.1s\n",
      "[CV] END C=0.001, class_weight=balanced, max_iter=100, penalty=l1, solver=liblinear; total time=   0.1s\n",
      "[CV] END C=0.001, class_weight=balanced, max_iter=100, penalty=l1, solver=liblinear; total time=   0.1s\n",
      "[CV] END C=0.001, class_weight=balanced, max_iter=100, penalty=l1, solver=saga; total time=   0.1s\n",
      "[CV] END C=0.001, class_weight=balanced, max_iter=100, penalty=l1, solver=saga; total time=   0.1s\n",
      "[CV] END C=0.001, class_weight=balanced, max_iter=100, penalty=l1, solver=saga; total time=   0.1s\n",
      "[CV] END C=0.001, class_weight=balanced, max_iter=100, penalty=l1, solver=saga; total time=   0.1s\n",
      "[CV] END C=0.001, class_weight=balanced, max_iter=100, penalty=l1, solver=saga; total time=   0.2s\n",
      "[CV] END C=0.001, class_weight=balanced, max_iter=200, penalty=l2, solver=liblinear; total time=   0.1s\n",
      "[CV] END C=0.001, class_weight=balanced, max_iter=200, penalty=l2, solver=liblinear; total time=   0.1s\n",
      "[CV] END C=0.001, class_weight=balanced, max_iter=200, penalty=l2, solver=liblinear; total time=   0.1s\n",
      "[CV] END C=0.001, class_weight=balanced, max_iter=200, penalty=l2, solver=liblinear; total time=   0.1s\n",
      "[CV] END C=0.001, class_weight=balanced, max_iter=200, penalty=l2, solver=liblinear; total time=   0.1s\n",
      "[CV] END C=0.001, class_weight=balanced, max_iter=200, penalty=l2, solver=saga; total time=   3.2s\n",
      "[CV] END C=0.001, class_weight=balanced, max_iter=200, penalty=l2, solver=saga; total time=   3.3s\n",
      "[CV] END C=0.001, class_weight=balanced, max_iter=200, penalty=l2, solver=saga; total time=   3.4s\n",
      "[CV] END C=0.001, class_weight=balanced, max_iter=200, penalty=l2, solver=saga; total time=   3.1s\n",
      "[CV] END C=0.001, class_weight=balanced, max_iter=200, penalty=l2, solver=saga; total time=   2.8s\n",
      "[CV] END C=0.001, class_weight=balanced, max_iter=200, penalty=l1, solver=liblinear; total time=   0.2s\n",
      "[CV] END C=0.001, class_weight=balanced, max_iter=200, penalty=l1, solver=liblinear; total time=   0.1s\n",
      "[CV] END C=0.001, class_weight=balanced, max_iter=200, penalty=l1, solver=liblinear; total time=   0.1s\n",
      "[CV] END C=0.001, class_weight=balanced, max_iter=200, penalty=l1, solver=liblinear; total time=   0.2s\n",
      "[CV] END C=0.001, class_weight=balanced, max_iter=200, penalty=l1, solver=liblinear; total time=   0.1s\n",
      "[CV] END C=0.001, class_weight=balanced, max_iter=200, penalty=l1, solver=saga; total time=   0.2s\n",
      "[CV] END C=0.001, class_weight=balanced, max_iter=200, penalty=l1, solver=saga; total time=   0.1s\n",
      "[CV] END C=0.001, class_weight=balanced, max_iter=200, penalty=l1, solver=saga; total time=   0.1s\n",
      "[CV] END C=0.001, class_weight=balanced, max_iter=200, penalty=l1, solver=saga; total time=   0.1s\n",
      "[CV] END C=0.001, class_weight=balanced, max_iter=200, penalty=l1, solver=saga; total time=   0.1s\n",
      "[CV] END C=0.001, class_weight=balanced, max_iter=500, penalty=l2, solver=liblinear; total time=   0.1s\n",
      "[CV] END C=0.001, class_weight=balanced, max_iter=500, penalty=l2, solver=liblinear; total time=   0.1s\n",
      "[CV] END C=0.001, class_weight=balanced, max_iter=500, penalty=l2, solver=liblinear; total time=   0.1s\n",
      "[CV] END C=0.001, class_weight=balanced, max_iter=500, penalty=l2, solver=liblinear; total time=   0.1s\n",
      "[CV] END C=0.001, class_weight=balanced, max_iter=500, penalty=l2, solver=liblinear; total time=   0.1s\n",
      "[CV] END C=0.001, class_weight=balanced, max_iter=500, penalty=l2, solver=saga; total time=   1.9s\n",
      "[CV] END C=0.001, class_weight=balanced, max_iter=500, penalty=l2, solver=saga; total time=   2.6s\n",
      "[CV] END C=0.001, class_weight=balanced, max_iter=500, penalty=l2, solver=saga; total time=   3.3s\n",
      "[CV] END C=0.001, class_weight=balanced, max_iter=500, penalty=l2, solver=saga; total time=   3.0s\n",
      "[CV] END C=0.001, class_weight=balanced, max_iter=500, penalty=l2, solver=saga; total time=   3.1s\n",
      "[CV] END C=0.001, class_weight=balanced, max_iter=500, penalty=l1, solver=liblinear; total time=   0.1s\n",
      "[CV] END C=0.001, class_weight=balanced, max_iter=500, penalty=l1, solver=liblinear; total time=   0.1s\n",
      "[CV] END C=0.001, class_weight=balanced, max_iter=500, penalty=l1, solver=liblinear; total time=   0.1s\n",
      "[CV] END C=0.001, class_weight=balanced, max_iter=500, penalty=l1, solver=liblinear; total time=   0.1s\n",
      "[CV] END C=0.001, class_weight=balanced, max_iter=500, penalty=l1, solver=liblinear; total time=   0.1s\n",
      "[CV] END C=0.001, class_weight=balanced, max_iter=500, penalty=l1, solver=saga; total time=   0.2s\n",
      "[CV] END C=0.001, class_weight=balanced, max_iter=500, penalty=l1, solver=saga; total time=   0.2s\n",
      "[CV] END C=0.001, class_weight=balanced, max_iter=500, penalty=l1, solver=saga; total time=   0.2s\n",
      "[CV] END C=0.001, class_weight=balanced, max_iter=500, penalty=l1, solver=saga; total time=   0.2s\n",
      "[CV] END C=0.001, class_weight=balanced, max_iter=500, penalty=l1, solver=saga; total time=   0.2s\n",
      "[CV] END C=0.001, class_weight=balanced, max_iter=700, penalty=l2, solver=liblinear; total time=   0.2s\n",
      "[CV] END C=0.001, class_weight=balanced, max_iter=700, penalty=l2, solver=liblinear; total time=   0.1s\n",
      "[CV] END C=0.001, class_weight=balanced, max_iter=700, penalty=l2, solver=liblinear; total time=   0.1s\n",
      "[CV] END C=0.001, class_weight=balanced, max_iter=700, penalty=l2, solver=liblinear; total time=   0.1s\n",
      "[CV] END C=0.001, class_weight=balanced, max_iter=700, penalty=l2, solver=liblinear; total time=   0.1s\n",
      "[CV] END C=0.001, class_weight=balanced, max_iter=700, penalty=l2, solver=saga; total time=   2.9s\n",
      "[CV] END C=0.001, class_weight=balanced, max_iter=700, penalty=l2, solver=saga; total time=   2.1s\n",
      "[CV] END C=0.001, class_weight=balanced, max_iter=700, penalty=l2, solver=saga; total time=   1.6s\n",
      "[CV] END C=0.001, class_weight=balanced, max_iter=700, penalty=l2, solver=saga; total time=   2.9s\n",
      "[CV] END C=0.001, class_weight=balanced, max_iter=700, penalty=l2, solver=saga; total time=   3.1s\n",
      "[CV] END C=0.001, class_weight=balanced, max_iter=700, penalty=l1, solver=liblinear; total time=   0.1s\n",
      "[CV] END C=0.001, class_weight=balanced, max_iter=700, penalty=l1, solver=liblinear; total time=   0.2s\n",
      "[CV] END C=0.001, class_weight=balanced, max_iter=700, penalty=l1, solver=liblinear; total time=   0.1s\n",
      "[CV] END C=0.001, class_weight=balanced, max_iter=700, penalty=l1, solver=liblinear; total time=   0.1s\n",
      "[CV] END C=0.001, class_weight=balanced, max_iter=700, penalty=l1, solver=liblinear; total time=   0.2s\n",
      "[CV] END C=0.001, class_weight=balanced, max_iter=700, penalty=l1, solver=saga; total time=   0.2s\n",
      "[CV] END C=0.001, class_weight=balanced, max_iter=700, penalty=l1, solver=saga; total time=   0.2s\n",
      "[CV] END C=0.001, class_weight=balanced, max_iter=700, penalty=l1, solver=saga; total time=   0.2s\n",
      "[CV] END C=0.001, class_weight=balanced, max_iter=700, penalty=l1, solver=saga; total time=   0.2s\n",
      "[CV] END C=0.001, class_weight=balanced, max_iter=700, penalty=l1, solver=saga; total time=   0.2s\n",
      "[CV] END C=0.001, class_weight=balanced, max_iter=1000, penalty=l2, solver=liblinear; total time=   0.1s\n",
      "[CV] END C=0.001, class_weight=balanced, max_iter=1000, penalty=l2, solver=liblinear; total time=   0.1s\n",
      "[CV] END C=0.001, class_weight=balanced, max_iter=1000, penalty=l2, solver=liblinear; total time=   0.2s\n",
      "[CV] END C=0.001, class_weight=balanced, max_iter=1000, penalty=l2, solver=liblinear; total time=   0.2s\n",
      "[CV] END C=0.001, class_weight=balanced, max_iter=1000, penalty=l2, solver=liblinear; total time=   0.2s\n",
      "[CV] END C=0.001, class_weight=balanced, max_iter=1000, penalty=l2, solver=saga; total time=   3.4s\n",
      "[CV] END C=0.001, class_weight=balanced, max_iter=1000, penalty=l2, solver=saga; total time=   3.4s\n",
      "[CV] END C=0.001, class_weight=balanced, max_iter=1000, penalty=l2, solver=saga; total time=   1.9s\n",
      "[CV] END C=0.001, class_weight=balanced, max_iter=1000, penalty=l2, solver=saga; total time=   1.9s\n",
      "[CV] END C=0.001, class_weight=balanced, max_iter=1000, penalty=l2, solver=saga; total time=   2.2s\n",
      "[CV] END C=0.001, class_weight=balanced, max_iter=1000, penalty=l1, solver=liblinear; total time=   0.2s\n",
      "[CV] END C=0.001, class_weight=balanced, max_iter=1000, penalty=l1, solver=liblinear; total time=   0.1s\n",
      "[CV] END C=0.001, class_weight=balanced, max_iter=1000, penalty=l1, solver=liblinear; total time=   0.1s\n",
      "[CV] END C=0.001, class_weight=balanced, max_iter=1000, penalty=l1, solver=liblinear; total time=   0.2s\n",
      "[CV] END C=0.001, class_weight=balanced, max_iter=1000, penalty=l1, solver=liblinear; total time=   0.2s\n",
      "[CV] END C=0.001, class_weight=balanced, max_iter=1000, penalty=l1, solver=saga; total time=   0.2s\n",
      "[CV] END C=0.001, class_weight=balanced, max_iter=1000, penalty=l1, solver=saga; total time=   0.2s\n",
      "[CV] END C=0.001, class_weight=balanced, max_iter=1000, penalty=l1, solver=saga; total time=   0.2s\n",
      "[CV] END C=0.001, class_weight=balanced, max_iter=1000, penalty=l1, solver=saga; total time=   0.2s\n",
      "[CV] END C=0.001, class_weight=balanced, max_iter=1000, penalty=l1, solver=saga; total time=   0.2s\n",
      "[CV] END C=0.01, class_weight=None, max_iter=100, penalty=l2, solver=liblinear; total time=   0.2s\n",
      "[CV] END C=0.01, class_weight=None, max_iter=100, penalty=l2, solver=liblinear; total time=   0.1s\n",
      "[CV] END C=0.01, class_weight=None, max_iter=100, penalty=l2, solver=liblinear; total time=   0.1s\n",
      "[CV] END C=0.01, class_weight=None, max_iter=100, penalty=l2, solver=liblinear; total time=   0.2s\n",
      "[CV] END C=0.01, class_weight=None, max_iter=100, penalty=l2, solver=liblinear; total time=   0.2s\n"
     ]
    },
    {
     "name": "stderr",
     "output_type": "stream",
     "text": [
      "C:\\Users\\myousaf23\\anaconda3\\Lib\\site-packages\\sklearn\\linear_model\\_sag.py:349: ConvergenceWarning: The max_iter was reached which means the coef_ did not converge\n",
      "  warnings.warn(\n"
     ]
    },
    {
     "name": "stdout",
     "output_type": "stream",
     "text": [
      "[CV] END C=0.01, class_weight=None, max_iter=100, penalty=l2, solver=saga; total time=   7.9s\n"
     ]
    },
    {
     "name": "stderr",
     "output_type": "stream",
     "text": [
      "C:\\Users\\myousaf23\\anaconda3\\Lib\\site-packages\\sklearn\\linear_model\\_sag.py:349: ConvergenceWarning: The max_iter was reached which means the coef_ did not converge\n",
      "  warnings.warn(\n"
     ]
    },
    {
     "name": "stdout",
     "output_type": "stream",
     "text": [
      "[CV] END C=0.01, class_weight=None, max_iter=100, penalty=l2, solver=saga; total time=   7.9s\n"
     ]
    },
    {
     "name": "stderr",
     "output_type": "stream",
     "text": [
      "C:\\Users\\myousaf23\\anaconda3\\Lib\\site-packages\\sklearn\\linear_model\\_sag.py:349: ConvergenceWarning: The max_iter was reached which means the coef_ did not converge\n",
      "  warnings.warn(\n"
     ]
    },
    {
     "name": "stdout",
     "output_type": "stream",
     "text": [
      "[CV] END C=0.01, class_weight=None, max_iter=100, penalty=l2, solver=saga; total time=   6.4s\n"
     ]
    },
    {
     "name": "stderr",
     "output_type": "stream",
     "text": [
      "C:\\Users\\myousaf23\\anaconda3\\Lib\\site-packages\\sklearn\\linear_model\\_sag.py:349: ConvergenceWarning: The max_iter was reached which means the coef_ did not converge\n",
      "  warnings.warn(\n"
     ]
    },
    {
     "name": "stdout",
     "output_type": "stream",
     "text": [
      "[CV] END C=0.01, class_weight=None, max_iter=100, penalty=l2, solver=saga; total time=   5.7s\n"
     ]
    },
    {
     "name": "stderr",
     "output_type": "stream",
     "text": [
      "C:\\Users\\myousaf23\\anaconda3\\Lib\\site-packages\\sklearn\\linear_model\\_sag.py:349: ConvergenceWarning: The max_iter was reached which means the coef_ did not converge\n",
      "  warnings.warn(\n"
     ]
    },
    {
     "name": "stdout",
     "output_type": "stream",
     "text": [
      "[CV] END C=0.01, class_weight=None, max_iter=100, penalty=l2, solver=saga; total time=   7.6s\n",
      "[CV] END C=0.01, class_weight=None, max_iter=100, penalty=l1, solver=liblinear; total time=   0.2s\n",
      "[CV] END C=0.01, class_weight=None, max_iter=100, penalty=l1, solver=liblinear; total time=   0.2s\n",
      "[CV] END C=0.01, class_weight=None, max_iter=100, penalty=l1, solver=liblinear; total time=   0.2s\n",
      "[CV] END C=0.01, class_weight=None, max_iter=100, penalty=l1, solver=liblinear; total time=   0.2s\n",
      "[CV] END C=0.01, class_weight=None, max_iter=100, penalty=l1, solver=liblinear; total time=   0.2s\n",
      "[CV] END C=0.01, class_weight=None, max_iter=100, penalty=l1, solver=saga; total time=   0.7s\n",
      "[CV] END C=0.01, class_weight=None, max_iter=100, penalty=l1, solver=saga; total time=   0.6s\n",
      "[CV] END C=0.01, class_weight=None, max_iter=100, penalty=l1, solver=saga; total time=   0.5s\n",
      "[CV] END C=0.01, class_weight=None, max_iter=100, penalty=l1, solver=saga; total time=   0.4s\n",
      "[CV] END C=0.01, class_weight=None, max_iter=100, penalty=l1, solver=saga; total time=   0.5s\n",
      "[CV] END C=0.01, class_weight=None, max_iter=200, penalty=l2, solver=liblinear; total time=   0.1s\n",
      "[CV] END C=0.01, class_weight=None, max_iter=200, penalty=l2, solver=liblinear; total time=   0.2s\n",
      "[CV] END C=0.01, class_weight=None, max_iter=200, penalty=l2, solver=liblinear; total time=   0.1s\n",
      "[CV] END C=0.01, class_weight=None, max_iter=200, penalty=l2, solver=liblinear; total time=   0.2s\n",
      "[CV] END C=0.01, class_weight=None, max_iter=200, penalty=l2, solver=liblinear; total time=   0.2s\n",
      "[CV] END C=0.01, class_weight=None, max_iter=200, penalty=l2, solver=saga; total time=  11.6s\n",
      "[CV] END C=0.01, class_weight=None, max_iter=200, penalty=l2, solver=saga; total time=  12.0s\n",
      "[CV] END C=0.01, class_weight=None, max_iter=200, penalty=l2, solver=saga; total time=  13.2s\n",
      "[CV] END C=0.01, class_weight=None, max_iter=200, penalty=l2, solver=saga; total time=   8.7s\n",
      "[CV] END C=0.01, class_weight=None, max_iter=200, penalty=l2, solver=saga; total time=  12.3s\n",
      "[CV] END C=0.01, class_weight=None, max_iter=200, penalty=l1, solver=liblinear; total time=   0.1s\n",
      "[CV] END C=0.01, class_weight=None, max_iter=200, penalty=l1, solver=liblinear; total time=   0.2s\n",
      "[CV] END C=0.01, class_weight=None, max_iter=200, penalty=l1, solver=liblinear; total time=   0.1s\n",
      "[CV] END C=0.01, class_weight=None, max_iter=200, penalty=l1, solver=liblinear; total time=   0.2s\n",
      "[CV] END C=0.01, class_weight=None, max_iter=200, penalty=l1, solver=liblinear; total time=   0.1s\n",
      "[CV] END C=0.01, class_weight=None, max_iter=200, penalty=l1, solver=saga; total time=   0.2s\n",
      "[CV] END C=0.01, class_weight=None, max_iter=200, penalty=l1, solver=saga; total time=   0.4s\n",
      "[CV] END C=0.01, class_weight=None, max_iter=200, penalty=l1, solver=saga; total time=   0.4s\n",
      "[CV] END C=0.01, class_weight=None, max_iter=200, penalty=l1, solver=saga; total time=   0.4s\n",
      "[CV] END C=0.01, class_weight=None, max_iter=200, penalty=l1, solver=saga; total time=   0.4s\n",
      "[CV] END C=0.01, class_weight=None, max_iter=500, penalty=l2, solver=liblinear; total time=   0.1s\n",
      "[CV] END C=0.01, class_weight=None, max_iter=500, penalty=l2, solver=liblinear; total time=   0.1s\n",
      "[CV] END C=0.01, class_weight=None, max_iter=500, penalty=l2, solver=liblinear; total time=   0.2s\n",
      "[CV] END C=0.01, class_weight=None, max_iter=500, penalty=l2, solver=liblinear; total time=   0.2s\n",
      "[CV] END C=0.01, class_weight=None, max_iter=500, penalty=l2, solver=liblinear; total time=   0.2s\n",
      "[CV] END C=0.01, class_weight=None, max_iter=500, penalty=l2, solver=saga; total time=  11.5s\n",
      "[CV] END C=0.01, class_weight=None, max_iter=500, penalty=l2, solver=saga; total time=  12.8s\n",
      "[CV] END C=0.01, class_weight=None, max_iter=500, penalty=l2, solver=saga; total time=  13.2s\n",
      "[CV] END C=0.01, class_weight=None, max_iter=500, penalty=l2, solver=saga; total time=   8.6s\n",
      "[CV] END C=0.01, class_weight=None, max_iter=500, penalty=l2, solver=saga; total time=  12.3s\n",
      "[CV] END C=0.01, class_weight=None, max_iter=500, penalty=l1, solver=liblinear; total time=   0.1s\n",
      "[CV] END C=0.01, class_weight=None, max_iter=500, penalty=l1, solver=liblinear; total time=   0.2s\n",
      "[CV] END C=0.01, class_weight=None, max_iter=500, penalty=l1, solver=liblinear; total time=   0.1s\n",
      "[CV] END C=0.01, class_weight=None, max_iter=500, penalty=l1, solver=liblinear; total time=   0.2s\n",
      "[CV] END C=0.01, class_weight=None, max_iter=500, penalty=l1, solver=liblinear; total time=   0.1s\n",
      "[CV] END C=0.01, class_weight=None, max_iter=500, penalty=l1, solver=saga; total time=   0.6s\n",
      "[CV] END C=0.01, class_weight=None, max_iter=500, penalty=l1, solver=saga; total time=   0.4s\n",
      "[CV] END C=0.01, class_weight=None, max_iter=500, penalty=l1, solver=saga; total time=   0.6s\n",
      "[CV] END C=0.01, class_weight=None, max_iter=500, penalty=l1, solver=saga; total time=   0.4s\n",
      "[CV] END C=0.01, class_weight=None, max_iter=500, penalty=l1, solver=saga; total time=   0.4s\n",
      "[CV] END C=0.01, class_weight=None, max_iter=700, penalty=l2, solver=liblinear; total time=   0.2s\n",
      "[CV] END C=0.01, class_weight=None, max_iter=700, penalty=l2, solver=liblinear; total time=   0.2s\n",
      "[CV] END C=0.01, class_weight=None, max_iter=700, penalty=l2, solver=liblinear; total time=   0.2s\n",
      "[CV] END C=0.01, class_weight=None, max_iter=700, penalty=l2, solver=liblinear; total time=   0.2s\n",
      "[CV] END C=0.01, class_weight=None, max_iter=700, penalty=l2, solver=liblinear; total time=   0.2s\n",
      "[CV] END C=0.01, class_weight=None, max_iter=700, penalty=l2, solver=saga; total time=  10.4s\n",
      "[CV] END C=0.01, class_weight=None, max_iter=700, penalty=l2, solver=saga; total time=  13.4s\n",
      "[CV] END C=0.01, class_weight=None, max_iter=700, penalty=l2, solver=saga; total time=  12.9s\n",
      "[CV] END C=0.01, class_weight=None, max_iter=700, penalty=l2, solver=saga; total time=   8.5s\n",
      "[CV] END C=0.01, class_weight=None, max_iter=700, penalty=l2, solver=saga; total time=  12.4s\n",
      "[CV] END C=0.01, class_weight=None, max_iter=700, penalty=l1, solver=liblinear; total time=   0.1s\n",
      "[CV] END C=0.01, class_weight=None, max_iter=700, penalty=l1, solver=liblinear; total time=   0.1s\n",
      "[CV] END C=0.01, class_weight=None, max_iter=700, penalty=l1, solver=liblinear; total time=   0.2s\n",
      "[CV] END C=0.01, class_weight=None, max_iter=700, penalty=l1, solver=liblinear; total time=   0.1s\n",
      "[CV] END C=0.01, class_weight=None, max_iter=700, penalty=l1, solver=liblinear; total time=   0.1s\n",
      "[CV] END C=0.01, class_weight=None, max_iter=700, penalty=l1, solver=saga; total time=   0.5s\n",
      "[CV] END C=0.01, class_weight=None, max_iter=700, penalty=l1, solver=saga; total time=   0.7s\n",
      "[CV] END C=0.01, class_weight=None, max_iter=700, penalty=l1, solver=saga; total time=   0.2s\n",
      "[CV] END C=0.01, class_weight=None, max_iter=700, penalty=l1, solver=saga; total time=   0.5s\n",
      "[CV] END C=0.01, class_weight=None, max_iter=700, penalty=l1, solver=saga; total time=   0.4s\n",
      "[CV] END C=0.01, class_weight=None, max_iter=1000, penalty=l2, solver=liblinear; total time=   0.2s\n",
      "[CV] END C=0.01, class_weight=None, max_iter=1000, penalty=l2, solver=liblinear; total time=   0.2s\n",
      "[CV] END C=0.01, class_weight=None, max_iter=1000, penalty=l2, solver=liblinear; total time=   0.2s\n",
      "[CV] END C=0.01, class_weight=None, max_iter=1000, penalty=l2, solver=liblinear; total time=   0.2s\n",
      "[CV] END C=0.01, class_weight=None, max_iter=1000, penalty=l2, solver=liblinear; total time=   0.2s\n",
      "[CV] END C=0.01, class_weight=None, max_iter=1000, penalty=l2, solver=saga; total time=  10.1s\n",
      "[CV] END C=0.01, class_weight=None, max_iter=1000, penalty=l2, solver=saga; total time=  13.7s\n",
      "[CV] END C=0.01, class_weight=None, max_iter=1000, penalty=l2, solver=saga; total time=  12.1s\n",
      "[CV] END C=0.01, class_weight=None, max_iter=1000, penalty=l2, solver=saga; total time=   9.4s\n",
      "[CV] END C=0.01, class_weight=None, max_iter=1000, penalty=l2, solver=saga; total time=  12.0s\n",
      "[CV] END C=0.01, class_weight=None, max_iter=1000, penalty=l1, solver=liblinear; total time=   0.1s\n",
      "[CV] END C=0.01, class_weight=None, max_iter=1000, penalty=l1, solver=liblinear; total time=   0.1s\n",
      "[CV] END C=0.01, class_weight=None, max_iter=1000, penalty=l1, solver=liblinear; total time=   0.1s\n",
      "[CV] END C=0.01, class_weight=None, max_iter=1000, penalty=l1, solver=liblinear; total time=   0.1s\n",
      "[CV] END C=0.01, class_weight=None, max_iter=1000, penalty=l1, solver=liblinear; total time=   0.1s\n",
      "[CV] END C=0.01, class_weight=None, max_iter=1000, penalty=l1, solver=saga; total time=   0.5s\n",
      "[CV] END C=0.01, class_weight=None, max_iter=1000, penalty=l1, solver=saga; total time=   0.5s\n",
      "[CV] END C=0.01, class_weight=None, max_iter=1000, penalty=l1, solver=saga; total time=   0.4s\n",
      "[CV] END C=0.01, class_weight=None, max_iter=1000, penalty=l1, solver=saga; total time=   0.5s\n",
      "[CV] END C=0.01, class_weight=None, max_iter=1000, penalty=l1, solver=saga; total time=   0.4s\n",
      "[CV] END C=0.01, class_weight=balanced, max_iter=100, penalty=l2, solver=liblinear; total time=   0.2s\n",
      "[CV] END C=0.01, class_weight=balanced, max_iter=100, penalty=l2, solver=liblinear; total time=   0.2s\n",
      "[CV] END C=0.01, class_weight=balanced, max_iter=100, penalty=l2, solver=liblinear; total time=   0.2s\n",
      "[CV] END C=0.01, class_weight=balanced, max_iter=100, penalty=l2, solver=liblinear; total time=   0.2s\n",
      "[CV] END C=0.01, class_weight=balanced, max_iter=100, penalty=l2, solver=liblinear; total time=   0.2s\n"
     ]
    },
    {
     "name": "stderr",
     "output_type": "stream",
     "text": [
      "C:\\Users\\myousaf23\\anaconda3\\Lib\\site-packages\\sklearn\\linear_model\\_sag.py:349: ConvergenceWarning: The max_iter was reached which means the coef_ did not converge\n",
      "  warnings.warn(\n"
     ]
    },
    {
     "name": "stdout",
     "output_type": "stream",
     "text": [
      "[CV] END C=0.01, class_weight=balanced, max_iter=100, penalty=l2, solver=saga; total time=   6.0s\n"
     ]
    },
    {
     "name": "stderr",
     "output_type": "stream",
     "text": [
      "C:\\Users\\myousaf23\\anaconda3\\Lib\\site-packages\\sklearn\\linear_model\\_sag.py:349: ConvergenceWarning: The max_iter was reached which means the coef_ did not converge\n",
      "  warnings.warn(\n"
     ]
    },
    {
     "name": "stdout",
     "output_type": "stream",
     "text": [
      "[CV] END C=0.01, class_weight=balanced, max_iter=100, penalty=l2, solver=saga; total time=   6.3s\n"
     ]
    },
    {
     "name": "stderr",
     "output_type": "stream",
     "text": [
      "C:\\Users\\myousaf23\\anaconda3\\Lib\\site-packages\\sklearn\\linear_model\\_sag.py:349: ConvergenceWarning: The max_iter was reached which means the coef_ did not converge\n",
      "  warnings.warn(\n"
     ]
    },
    {
     "name": "stdout",
     "output_type": "stream",
     "text": [
      "[CV] END C=0.01, class_weight=balanced, max_iter=100, penalty=l2, solver=saga; total time=   7.6s\n"
     ]
    },
    {
     "name": "stderr",
     "output_type": "stream",
     "text": [
      "C:\\Users\\myousaf23\\anaconda3\\Lib\\site-packages\\sklearn\\linear_model\\_sag.py:349: ConvergenceWarning: The max_iter was reached which means the coef_ did not converge\n",
      "  warnings.warn(\n"
     ]
    },
    {
     "name": "stdout",
     "output_type": "stream",
     "text": [
      "[CV] END C=0.01, class_weight=balanced, max_iter=100, penalty=l2, solver=saga; total time=   7.6s\n"
     ]
    },
    {
     "name": "stderr",
     "output_type": "stream",
     "text": [
      "C:\\Users\\myousaf23\\anaconda3\\Lib\\site-packages\\sklearn\\linear_model\\_sag.py:349: ConvergenceWarning: The max_iter was reached which means the coef_ did not converge\n",
      "  warnings.warn(\n"
     ]
    },
    {
     "name": "stdout",
     "output_type": "stream",
     "text": [
      "[CV] END C=0.01, class_weight=balanced, max_iter=100, penalty=l2, solver=saga; total time=   7.3s\n",
      "[CV] END C=0.01, class_weight=balanced, max_iter=100, penalty=l1, solver=liblinear; total time=   0.1s\n",
      "[CV] END C=0.01, class_weight=balanced, max_iter=100, penalty=l1, solver=liblinear; total time=   0.1s\n",
      "[CV] END C=0.01, class_weight=balanced, max_iter=100, penalty=l1, solver=liblinear; total time=   0.1s\n",
      "[CV] END C=0.01, class_weight=balanced, max_iter=100, penalty=l1, solver=liblinear; total time=   0.1s\n",
      "[CV] END C=0.01, class_weight=balanced, max_iter=100, penalty=l1, solver=liblinear; total time=   0.1s\n",
      "[CV] END C=0.01, class_weight=balanced, max_iter=100, penalty=l1, solver=saga; total time=   0.2s\n",
      "[CV] END C=0.01, class_weight=balanced, max_iter=100, penalty=l1, solver=saga; total time=   0.3s\n",
      "[CV] END C=0.01, class_weight=balanced, max_iter=100, penalty=l1, solver=saga; total time=   0.3s\n",
      "[CV] END C=0.01, class_weight=balanced, max_iter=100, penalty=l1, solver=saga; total time=   0.2s\n",
      "[CV] END C=0.01, class_weight=balanced, max_iter=100, penalty=l1, solver=saga; total time=   0.3s\n",
      "[CV] END C=0.01, class_weight=balanced, max_iter=200, penalty=l2, solver=liblinear; total time=   0.1s\n",
      "[CV] END C=0.01, class_weight=balanced, max_iter=200, penalty=l2, solver=liblinear; total time=   0.1s\n",
      "[CV] END C=0.01, class_weight=balanced, max_iter=200, penalty=l2, solver=liblinear; total time=   0.1s\n",
      "[CV] END C=0.01, class_weight=balanced, max_iter=200, penalty=l2, solver=liblinear; total time=   0.1s\n",
      "[CV] END C=0.01, class_weight=balanced, max_iter=200, penalty=l2, solver=liblinear; total time=   0.1s\n",
      "[CV] END C=0.01, class_weight=balanced, max_iter=200, penalty=l2, solver=saga; total time=  13.0s\n",
      "[CV] END C=0.01, class_weight=balanced, max_iter=200, penalty=l2, solver=saga; total time=  13.5s\n",
      "[CV] END C=0.01, class_weight=balanced, max_iter=200, penalty=l2, solver=saga; total time=   9.9s\n",
      "[CV] END C=0.01, class_weight=balanced, max_iter=200, penalty=l2, solver=saga; total time=  12.0s\n",
      "[CV] END C=0.01, class_weight=balanced, max_iter=200, penalty=l2, solver=saga; total time=  10.9s\n",
      "[CV] END C=0.01, class_weight=balanced, max_iter=200, penalty=l1, solver=liblinear; total time=   0.1s\n",
      "[CV] END C=0.01, class_weight=balanced, max_iter=200, penalty=l1, solver=liblinear; total time=   0.1s\n",
      "[CV] END C=0.01, class_weight=balanced, max_iter=200, penalty=l1, solver=liblinear; total time=   0.1s\n",
      "[CV] END C=0.01, class_weight=balanced, max_iter=200, penalty=l1, solver=liblinear; total time=   0.1s\n",
      "[CV] END C=0.01, class_weight=balanced, max_iter=200, penalty=l1, solver=liblinear; total time=   0.1s\n",
      "[CV] END C=0.01, class_weight=balanced, max_iter=200, penalty=l1, solver=saga; total time=   0.2s\n",
      "[CV] END C=0.01, class_weight=balanced, max_iter=200, penalty=l1, solver=saga; total time=   0.1s\n",
      "[CV] END C=0.01, class_weight=balanced, max_iter=200, penalty=l1, solver=saga; total time=   0.3s\n",
      "[CV] END C=0.01, class_weight=balanced, max_iter=200, penalty=l1, solver=saga; total time=   0.1s\n",
      "[CV] END C=0.01, class_weight=balanced, max_iter=200, penalty=l1, solver=saga; total time=   0.3s\n",
      "[CV] END C=0.01, class_weight=balanced, max_iter=500, penalty=l2, solver=liblinear; total time=   0.1s\n",
      "[CV] END C=0.01, class_weight=balanced, max_iter=500, penalty=l2, solver=liblinear; total time=   0.1s\n",
      "[CV] END C=0.01, class_weight=balanced, max_iter=500, penalty=l2, solver=liblinear; total time=   0.1s\n",
      "[CV] END C=0.01, class_weight=balanced, max_iter=500, penalty=l2, solver=liblinear; total time=   0.2s\n",
      "[CV] END C=0.01, class_weight=balanced, max_iter=500, penalty=l2, solver=liblinear; total time=   0.2s\n",
      "[CV] END C=0.01, class_weight=balanced, max_iter=500, penalty=l2, solver=saga; total time=  13.4s\n",
      "[CV] END C=0.01, class_weight=balanced, max_iter=500, penalty=l2, solver=saga; total time=  12.9s\n",
      "[CV] END C=0.01, class_weight=balanced, max_iter=500, penalty=l2, solver=saga; total time=  10.2s\n",
      "[CV] END C=0.01, class_weight=balanced, max_iter=500, penalty=l2, solver=saga; total time=  12.3s\n",
      "[CV] END C=0.01, class_weight=balanced, max_iter=500, penalty=l2, solver=saga; total time=  10.4s\n",
      "[CV] END C=0.01, class_weight=balanced, max_iter=500, penalty=l1, solver=liblinear; total time=   0.1s\n",
      "[CV] END C=0.01, class_weight=balanced, max_iter=500, penalty=l1, solver=liblinear; total time=   0.1s\n",
      "[CV] END C=0.01, class_weight=balanced, max_iter=500, penalty=l1, solver=liblinear; total time=   0.1s\n",
      "[CV] END C=0.01, class_weight=balanced, max_iter=500, penalty=l1, solver=liblinear; total time=   0.1s\n",
      "[CV] END C=0.01, class_weight=balanced, max_iter=500, penalty=l1, solver=liblinear; total time=   0.1s\n",
      "[CV] END C=0.01, class_weight=balanced, max_iter=500, penalty=l1, solver=saga; total time=   0.2s\n",
      "[CV] END C=0.01, class_weight=balanced, max_iter=500, penalty=l1, solver=saga; total time=   0.1s\n",
      "[CV] END C=0.01, class_weight=balanced, max_iter=500, penalty=l1, solver=saga; total time=   0.3s\n",
      "[CV] END C=0.01, class_weight=balanced, max_iter=500, penalty=l1, solver=saga; total time=   0.4s\n",
      "[CV] END C=0.01, class_weight=balanced, max_iter=500, penalty=l1, solver=saga; total time=   0.5s\n",
      "[CV] END C=0.01, class_weight=balanced, max_iter=700, penalty=l2, solver=liblinear; total time=   0.2s\n",
      "[CV] END C=0.01, class_weight=balanced, max_iter=700, penalty=l2, solver=liblinear; total time=   0.2s\n",
      "[CV] END C=0.01, class_weight=balanced, max_iter=700, penalty=l2, solver=liblinear; total time=   0.2s\n",
      "[CV] END C=0.01, class_weight=balanced, max_iter=700, penalty=l2, solver=liblinear; total time=   0.2s\n",
      "[CV] END C=0.01, class_weight=balanced, max_iter=700, penalty=l2, solver=liblinear; total time=   0.2s\n",
      "[CV] END C=0.01, class_weight=balanced, max_iter=700, penalty=l2, solver=saga; total time=  13.0s\n",
      "[CV] END C=0.01, class_weight=balanced, max_iter=700, penalty=l2, solver=saga; total time=  13.6s\n",
      "[CV] END C=0.01, class_weight=balanced, max_iter=700, penalty=l2, solver=saga; total time=   9.8s\n",
      "[CV] END C=0.01, class_weight=balanced, max_iter=700, penalty=l2, solver=saga; total time=  12.2s\n",
      "[CV] END C=0.01, class_weight=balanced, max_iter=700, penalty=l2, solver=saga; total time=  12.3s\n",
      "[CV] END C=0.01, class_weight=balanced, max_iter=700, penalty=l1, solver=liblinear; total time=   0.2s\n",
      "[CV] END C=0.01, class_weight=balanced, max_iter=700, penalty=l1, solver=liblinear; total time=   0.2s\n",
      "[CV] END C=0.01, class_weight=balanced, max_iter=700, penalty=l1, solver=liblinear; total time=   0.2s\n",
      "[CV] END C=0.01, class_weight=balanced, max_iter=700, penalty=l1, solver=liblinear; total time=   0.2s\n",
      "[CV] END C=0.01, class_weight=balanced, max_iter=700, penalty=l1, solver=liblinear; total time=   0.2s\n",
      "[CV] END C=0.01, class_weight=balanced, max_iter=700, penalty=l1, solver=saga; total time=   0.6s\n",
      "[CV] END C=0.01, class_weight=balanced, max_iter=700, penalty=l1, solver=saga; total time=   0.2s\n",
      "[CV] END C=0.01, class_weight=balanced, max_iter=700, penalty=l1, solver=saga; total time=   0.4s\n",
      "[CV] END C=0.01, class_weight=balanced, max_iter=700, penalty=l1, solver=saga; total time=   0.2s\n",
      "[CV] END C=0.01, class_weight=balanced, max_iter=700, penalty=l1, solver=saga; total time=   0.4s\n",
      "[CV] END C=0.01, class_weight=balanced, max_iter=1000, penalty=l2, solver=liblinear; total time=   0.2s\n",
      "[CV] END C=0.01, class_weight=balanced, max_iter=1000, penalty=l2, solver=liblinear; total time=   0.2s\n",
      "[CV] END C=0.01, class_weight=balanced, max_iter=1000, penalty=l2, solver=liblinear; total time=   0.2s\n",
      "[CV] END C=0.01, class_weight=balanced, max_iter=1000, penalty=l2, solver=liblinear; total time=   0.2s\n",
      "[CV] END C=0.01, class_weight=balanced, max_iter=1000, penalty=l2, solver=liblinear; total time=   0.2s\n",
      "[CV] END C=0.01, class_weight=balanced, max_iter=1000, penalty=l2, solver=saga; total time=  10.4s\n",
      "[CV] END C=0.01, class_weight=balanced, max_iter=1000, penalty=l2, solver=saga; total time=  13.9s\n",
      "[CV] END C=0.01, class_weight=balanced, max_iter=1000, penalty=l2, solver=saga; total time=  12.5s\n",
      "[CV] END C=0.01, class_weight=balanced, max_iter=1000, penalty=l2, solver=saga; total time=  10.0s\n",
      "[CV] END C=0.01, class_weight=balanced, max_iter=1000, penalty=l2, solver=saga; total time=  11.0s\n",
      "[CV] END C=0.01, class_weight=balanced, max_iter=1000, penalty=l1, solver=liblinear; total time=   0.1s\n",
      "[CV] END C=0.01, class_weight=balanced, max_iter=1000, penalty=l1, solver=liblinear; total time=   0.1s\n",
      "[CV] END C=0.01, class_weight=balanced, max_iter=1000, penalty=l1, solver=liblinear; total time=   0.1s\n",
      "[CV] END C=0.01, class_weight=balanced, max_iter=1000, penalty=l1, solver=liblinear; total time=   0.1s\n",
      "[CV] END C=0.01, class_weight=balanced, max_iter=1000, penalty=l1, solver=liblinear; total time=   0.1s\n",
      "[CV] END C=0.01, class_weight=balanced, max_iter=1000, penalty=l1, solver=saga; total time=   0.4s\n",
      "[CV] END C=0.01, class_weight=balanced, max_iter=1000, penalty=l1, solver=saga; total time=   0.4s\n",
      "[CV] END C=0.01, class_weight=balanced, max_iter=1000, penalty=l1, solver=saga; total time=   0.4s\n",
      "[CV] END C=0.01, class_weight=balanced, max_iter=1000, penalty=l1, solver=saga; total time=   0.4s\n",
      "[CV] END C=0.01, class_weight=balanced, max_iter=1000, penalty=l1, solver=saga; total time=   0.2s\n",
      "[CV] END C=0.1, class_weight=None, max_iter=100, penalty=l2, solver=liblinear; total time=   0.2s\n",
      "[CV] END C=0.1, class_weight=None, max_iter=100, penalty=l2, solver=liblinear; total time=   0.2s\n",
      "[CV] END C=0.1, class_weight=None, max_iter=100, penalty=l2, solver=liblinear; total time=   0.2s\n",
      "[CV] END C=0.1, class_weight=None, max_iter=100, penalty=l2, solver=liblinear; total time=   0.2s\n",
      "[CV] END C=0.1, class_weight=None, max_iter=100, penalty=l2, solver=liblinear; total time=   0.2s\n"
     ]
    },
    {
     "name": "stderr",
     "output_type": "stream",
     "text": [
      "C:\\Users\\myousaf23\\anaconda3\\Lib\\site-packages\\sklearn\\linear_model\\_sag.py:349: ConvergenceWarning: The max_iter was reached which means the coef_ did not converge\n",
      "  warnings.warn(\n"
     ]
    },
    {
     "name": "stdout",
     "output_type": "stream",
     "text": [
      "[CV] END C=0.1, class_weight=None, max_iter=100, penalty=l2, solver=saga; total time=   7.6s\n"
     ]
    },
    {
     "name": "stderr",
     "output_type": "stream",
     "text": [
      "C:\\Users\\myousaf23\\anaconda3\\Lib\\site-packages\\sklearn\\linear_model\\_sag.py:349: ConvergenceWarning: The max_iter was reached which means the coef_ did not converge\n",
      "  warnings.warn(\n"
     ]
    },
    {
     "name": "stdout",
     "output_type": "stream",
     "text": [
      "[CV] END C=0.1, class_weight=None, max_iter=100, penalty=l2, solver=saga; total time=   7.8s\n"
     ]
    },
    {
     "name": "stderr",
     "output_type": "stream",
     "text": [
      "C:\\Users\\myousaf23\\anaconda3\\Lib\\site-packages\\sklearn\\linear_model\\_sag.py:349: ConvergenceWarning: The max_iter was reached which means the coef_ did not converge\n",
      "  warnings.warn(\n"
     ]
    },
    {
     "name": "stdout",
     "output_type": "stream",
     "text": [
      "[CV] END C=0.1, class_weight=None, max_iter=100, penalty=l2, solver=saga; total time=   6.2s\n",
      "[CV] END C=0.1, class_weight=None, max_iter=100, penalty=l2, solver=saga; total time=   5.4s\n"
     ]
    },
    {
     "name": "stderr",
     "output_type": "stream",
     "text": [
      "C:\\Users\\myousaf23\\anaconda3\\Lib\\site-packages\\sklearn\\linear_model\\_sag.py:349: ConvergenceWarning: The max_iter was reached which means the coef_ did not converge\n",
      "  warnings.warn(\n"
     ]
    },
    {
     "name": "stdout",
     "output_type": "stream",
     "text": [
      "[CV] END C=0.1, class_weight=None, max_iter=100, penalty=l2, solver=saga; total time=   7.7s\n",
      "[CV] END C=0.1, class_weight=None, max_iter=100, penalty=l1, solver=liblinear; total time=   0.2s\n",
      "[CV] END C=0.1, class_weight=None, max_iter=100, penalty=l1, solver=liblinear; total time=   0.2s\n",
      "[CV] END C=0.1, class_weight=None, max_iter=100, penalty=l1, solver=liblinear; total time=   0.2s\n",
      "[CV] END C=0.1, class_weight=None, max_iter=100, penalty=l1, solver=liblinear; total time=   0.2s\n",
      "[CV] END C=0.1, class_weight=None, max_iter=100, penalty=l1, solver=liblinear; total time=   0.2s\n"
     ]
    },
    {
     "name": "stderr",
     "output_type": "stream",
     "text": [
      "C:\\Users\\myousaf23\\anaconda3\\Lib\\site-packages\\sklearn\\linear_model\\_sag.py:349: ConvergenceWarning: The max_iter was reached which means the coef_ did not converge\n",
      "  warnings.warn(\n"
     ]
    },
    {
     "name": "stdout",
     "output_type": "stream",
     "text": [
      "[CV] END C=0.1, class_weight=None, max_iter=100, penalty=l1, solver=saga; total time=   9.6s\n"
     ]
    },
    {
     "name": "stderr",
     "output_type": "stream",
     "text": [
      "C:\\Users\\myousaf23\\anaconda3\\Lib\\site-packages\\sklearn\\linear_model\\_sag.py:349: ConvergenceWarning: The max_iter was reached which means the coef_ did not converge\n",
      "  warnings.warn(\n"
     ]
    },
    {
     "name": "stdout",
     "output_type": "stream",
     "text": [
      "[CV] END C=0.1, class_weight=None, max_iter=100, penalty=l1, solver=saga; total time=   9.5s\n"
     ]
    },
    {
     "name": "stderr",
     "output_type": "stream",
     "text": [
      "C:\\Users\\myousaf23\\anaconda3\\Lib\\site-packages\\sklearn\\linear_model\\_sag.py:349: ConvergenceWarning: The max_iter was reached which means the coef_ did not converge\n",
      "  warnings.warn(\n"
     ]
    },
    {
     "name": "stdout",
     "output_type": "stream",
     "text": [
      "[CV] END C=0.1, class_weight=None, max_iter=100, penalty=l1, solver=saga; total time=   6.9s\n"
     ]
    },
    {
     "name": "stderr",
     "output_type": "stream",
     "text": [
      "C:\\Users\\myousaf23\\anaconda3\\Lib\\site-packages\\sklearn\\linear_model\\_sag.py:349: ConvergenceWarning: The max_iter was reached which means the coef_ did not converge\n",
      "  warnings.warn(\n"
     ]
    },
    {
     "name": "stdout",
     "output_type": "stream",
     "text": [
      "[CV] END C=0.1, class_weight=None, max_iter=100, penalty=l1, solver=saga; total time=   9.7s\n"
     ]
    },
    {
     "name": "stderr",
     "output_type": "stream",
     "text": [
      "C:\\Users\\myousaf23\\anaconda3\\Lib\\site-packages\\sklearn\\linear_model\\_sag.py:349: ConvergenceWarning: The max_iter was reached which means the coef_ did not converge\n",
      "  warnings.warn(\n"
     ]
    },
    {
     "name": "stdout",
     "output_type": "stream",
     "text": [
      "[CV] END C=0.1, class_weight=None, max_iter=100, penalty=l1, solver=saga; total time=   9.6s\n",
      "[CV] END C=0.1, class_weight=None, max_iter=200, penalty=l2, solver=liblinear; total time=   0.2s\n",
      "[CV] END C=0.1, class_weight=None, max_iter=200, penalty=l2, solver=liblinear; total time=   0.2s\n",
      "[CV] END C=0.1, class_weight=None, max_iter=200, penalty=l2, solver=liblinear; total time=   0.2s\n",
      "[CV] END C=0.1, class_weight=None, max_iter=200, penalty=l2, solver=liblinear; total time=   0.2s\n",
      "[CV] END C=0.1, class_weight=None, max_iter=200, penalty=l2, solver=liblinear; total time=   0.2s\n"
     ]
    },
    {
     "name": "stderr",
     "output_type": "stream",
     "text": [
      "C:\\Users\\myousaf23\\anaconda3\\Lib\\site-packages\\sklearn\\linear_model\\_sag.py:349: ConvergenceWarning: The max_iter was reached which means the coef_ did not converge\n",
      "  warnings.warn(\n"
     ]
    },
    {
     "name": "stdout",
     "output_type": "stream",
     "text": [
      "[CV] END C=0.1, class_weight=None, max_iter=200, penalty=l2, solver=saga; total time=  14.8s\n"
     ]
    },
    {
     "name": "stderr",
     "output_type": "stream",
     "text": [
      "C:\\Users\\myousaf23\\anaconda3\\Lib\\site-packages\\sklearn\\linear_model\\_sag.py:349: ConvergenceWarning: The max_iter was reached which means the coef_ did not converge\n",
      "  warnings.warn(\n"
     ]
    },
    {
     "name": "stdout",
     "output_type": "stream",
     "text": [
      "[CV] END C=0.1, class_weight=None, max_iter=200, penalty=l2, solver=saga; total time=  12.3s\n",
      "[CV] END C=0.1, class_weight=None, max_iter=200, penalty=l2, solver=saga; total time=  12.6s\n",
      "[CV] END C=0.1, class_weight=None, max_iter=200, penalty=l2, solver=saga; total time=   6.8s\n"
     ]
    },
    {
     "name": "stderr",
     "output_type": "stream",
     "text": [
      "C:\\Users\\myousaf23\\anaconda3\\Lib\\site-packages\\sklearn\\linear_model\\_sag.py:349: ConvergenceWarning: The max_iter was reached which means the coef_ did not converge\n",
      "  warnings.warn(\n"
     ]
    },
    {
     "name": "stdout",
     "output_type": "stream",
     "text": [
      "[CV] END C=0.1, class_weight=None, max_iter=200, penalty=l2, solver=saga; total time=  12.3s\n",
      "[CV] END C=0.1, class_weight=None, max_iter=200, penalty=l1, solver=liblinear; total time=   0.2s\n",
      "[CV] END C=0.1, class_weight=None, max_iter=200, penalty=l1, solver=liblinear; total time=   0.1s\n",
      "[CV] END C=0.1, class_weight=None, max_iter=200, penalty=l1, solver=liblinear; total time=   0.2s\n",
      "[CV] END C=0.1, class_weight=None, max_iter=200, penalty=l1, solver=liblinear; total time=   0.2s\n",
      "[CV] END C=0.1, class_weight=None, max_iter=200, penalty=l1, solver=liblinear; total time=   0.2s\n"
     ]
    },
    {
     "name": "stderr",
     "output_type": "stream",
     "text": [
      "C:\\Users\\myousaf23\\anaconda3\\Lib\\site-packages\\sklearn\\linear_model\\_sag.py:349: ConvergenceWarning: The max_iter was reached which means the coef_ did not converge\n",
      "  warnings.warn(\n"
     ]
    },
    {
     "name": "stdout",
     "output_type": "stream",
     "text": [
      "[CV] END C=0.1, class_weight=None, max_iter=200, penalty=l1, solver=saga; total time=  19.3s\n"
     ]
    },
    {
     "name": "stderr",
     "output_type": "stream",
     "text": [
      "C:\\Users\\myousaf23\\anaconda3\\Lib\\site-packages\\sklearn\\linear_model\\_sag.py:349: ConvergenceWarning: The max_iter was reached which means the coef_ did not converge\n",
      "  warnings.warn(\n"
     ]
    },
    {
     "name": "stdout",
     "output_type": "stream",
     "text": [
      "[CV] END C=0.1, class_weight=None, max_iter=200, penalty=l1, solver=saga; total time=  17.0s\n"
     ]
    },
    {
     "name": "stderr",
     "output_type": "stream",
     "text": [
      "C:\\Users\\myousaf23\\anaconda3\\Lib\\site-packages\\sklearn\\linear_model\\_sag.py:349: ConvergenceWarning: The max_iter was reached which means the coef_ did not converge\n",
      "  warnings.warn(\n"
     ]
    },
    {
     "name": "stdout",
     "output_type": "stream",
     "text": [
      "[CV] END C=0.1, class_weight=None, max_iter=200, penalty=l1, solver=saga; total time=  18.1s\n"
     ]
    },
    {
     "name": "stderr",
     "output_type": "stream",
     "text": [
      "C:\\Users\\myousaf23\\anaconda3\\Lib\\site-packages\\sklearn\\linear_model\\_sag.py:349: ConvergenceWarning: The max_iter was reached which means the coef_ did not converge\n",
      "  warnings.warn(\n"
     ]
    },
    {
     "name": "stdout",
     "output_type": "stream",
     "text": [
      "[CV] END C=0.1, class_weight=None, max_iter=200, penalty=l1, solver=saga; total time=  19.0s\n",
      "[CV] END C=0.1, class_weight=None, max_iter=200, penalty=l1, solver=saga; total time=  11.8s\n",
      "[CV] END C=0.1, class_weight=None, max_iter=500, penalty=l2, solver=liblinear; total time=   0.2s\n",
      "[CV] END C=0.1, class_weight=None, max_iter=500, penalty=l2, solver=liblinear; total time=   0.2s\n",
      "[CV] END C=0.1, class_weight=None, max_iter=500, penalty=l2, solver=liblinear; total time=   0.2s\n",
      "[CV] END C=0.1, class_weight=None, max_iter=500, penalty=l2, solver=liblinear; total time=   0.2s\n",
      "[CV] END C=0.1, class_weight=None, max_iter=500, penalty=l2, solver=liblinear; total time=   0.2s\n",
      "[CV] END C=0.1, class_weight=None, max_iter=500, penalty=l2, solver=saga; total time=  18.6s\n",
      "[CV] END C=0.1, class_weight=None, max_iter=500, penalty=l2, solver=saga; total time=  17.2s\n",
      "[CV] END C=0.1, class_weight=None, max_iter=500, penalty=l2, solver=saga; total time=  12.6s\n",
      "[CV] END C=0.1, class_weight=None, max_iter=500, penalty=l2, solver=saga; total time=   6.6s\n",
      "[CV] END C=0.1, class_weight=None, max_iter=500, penalty=l2, solver=saga; total time=  17.0s\n",
      "[CV] END C=0.1, class_weight=None, max_iter=500, penalty=l1, solver=liblinear; total time=   0.2s\n",
      "[CV] END C=0.1, class_weight=None, max_iter=500, penalty=l1, solver=liblinear; total time=   0.2s\n",
      "[CV] END C=0.1, class_weight=None, max_iter=500, penalty=l1, solver=liblinear; total time=   0.2s\n",
      "[CV] END C=0.1, class_weight=None, max_iter=500, penalty=l1, solver=liblinear; total time=   0.2s\n",
      "[CV] END C=0.1, class_weight=None, max_iter=500, penalty=l1, solver=liblinear; total time=   0.2s\n",
      "[CV] END C=0.1, class_weight=None, max_iter=500, penalty=l1, solver=saga; total time=  24.4s\n",
      "[CV] END C=0.1, class_weight=None, max_iter=500, penalty=l1, solver=saga; total time=  20.5s\n",
      "[CV] END C=0.1, class_weight=None, max_iter=500, penalty=l1, solver=saga; total time=  22.8s\n",
      "[CV] END C=0.1, class_weight=None, max_iter=500, penalty=l1, solver=saga; total time=  21.7s\n",
      "[CV] END C=0.1, class_weight=None, max_iter=500, penalty=l1, solver=saga; total time=  13.9s\n",
      "[CV] END C=0.1, class_weight=None, max_iter=700, penalty=l2, solver=liblinear; total time=   0.2s\n",
      "[CV] END C=0.1, class_weight=None, max_iter=700, penalty=l2, solver=liblinear; total time=   0.2s\n",
      "[CV] END C=0.1, class_weight=None, max_iter=700, penalty=l2, solver=liblinear; total time=   0.2s\n",
      "[CV] END C=0.1, class_weight=None, max_iter=700, penalty=l2, solver=liblinear; total time=   0.2s\n",
      "[CV] END C=0.1, class_weight=None, max_iter=700, penalty=l2, solver=liblinear; total time=   0.2s\n",
      "[CV] END C=0.1, class_weight=None, max_iter=700, penalty=l2, solver=saga; total time=  15.3s\n",
      "[CV] END C=0.1, class_weight=None, max_iter=700, penalty=l2, solver=saga; total time=  20.8s\n",
      "[CV] END C=0.1, class_weight=None, max_iter=700, penalty=l2, solver=saga; total time=  10.1s\n",
      "[CV] END C=0.1, class_weight=None, max_iter=700, penalty=l2, solver=saga; total time=   6.6s\n",
      "[CV] END C=0.1, class_weight=None, max_iter=700, penalty=l2, solver=saga; total time=  20.0s\n",
      "[CV] END C=0.1, class_weight=None, max_iter=700, penalty=l1, solver=liblinear; total time=   0.2s\n",
      "[CV] END C=0.1, class_weight=None, max_iter=700, penalty=l1, solver=liblinear; total time=   0.2s\n",
      "[CV] END C=0.1, class_weight=None, max_iter=700, penalty=l1, solver=liblinear; total time=   0.2s\n",
      "[CV] END C=0.1, class_weight=None, max_iter=700, penalty=l1, solver=liblinear; total time=   0.2s\n",
      "[CV] END C=0.1, class_weight=None, max_iter=700, penalty=l1, solver=liblinear; total time=   0.2s\n",
      "[CV] END C=0.1, class_weight=None, max_iter=700, penalty=l1, solver=saga; total time=  21.2s\n",
      "[CV] END C=0.1, class_weight=None, max_iter=700, penalty=l1, solver=saga; total time=  24.0s\n",
      "[CV] END C=0.1, class_weight=None, max_iter=700, penalty=l1, solver=saga; total time=  20.3s\n",
      "[CV] END C=0.1, class_weight=None, max_iter=700, penalty=l1, solver=saga; total time=  24.6s\n",
      "[CV] END C=0.1, class_weight=None, max_iter=700, penalty=l1, solver=saga; total time=  14.8s\n",
      "[CV] END C=0.1, class_weight=None, max_iter=1000, penalty=l2, solver=liblinear; total time=   0.2s\n",
      "[CV] END C=0.1, class_weight=None, max_iter=1000, penalty=l2, solver=liblinear; total time=   0.2s\n",
      "[CV] END C=0.1, class_weight=None, max_iter=1000, penalty=l2, solver=liblinear; total time=   0.2s\n",
      "[CV] END C=0.1, class_weight=None, max_iter=1000, penalty=l2, solver=liblinear; total time=   0.2s\n",
      "[CV] END C=0.1, class_weight=None, max_iter=1000, penalty=l2, solver=liblinear; total time=   0.2s\n",
      "[CV] END C=0.1, class_weight=None, max_iter=1000, penalty=l2, solver=saga; total time=  15.6s\n",
      "[CV] END C=0.1, class_weight=None, max_iter=1000, penalty=l2, solver=saga; total time=  21.5s\n",
      "[CV] END C=0.1, class_weight=None, max_iter=1000, penalty=l2, solver=saga; total time=  13.4s\n",
      "[CV] END C=0.1, class_weight=None, max_iter=1000, penalty=l2, solver=saga; total time=   4.5s\n",
      "[CV] END C=0.1, class_weight=None, max_iter=1000, penalty=l2, solver=saga; total time=  19.5s\n",
      "[CV] END C=0.1, class_weight=None, max_iter=1000, penalty=l1, solver=liblinear; total time=   0.2s\n",
      "[CV] END C=0.1, class_weight=None, max_iter=1000, penalty=l1, solver=liblinear; total time=   0.1s\n",
      "[CV] END C=0.1, class_weight=None, max_iter=1000, penalty=l1, solver=liblinear; total time=   0.2s\n",
      "[CV] END C=0.1, class_weight=None, max_iter=1000, penalty=l1, solver=liblinear; total time=   0.2s\n",
      "[CV] END C=0.1, class_weight=None, max_iter=1000, penalty=l1, solver=liblinear; total time=   0.2s\n",
      "[CV] END C=0.1, class_weight=None, max_iter=1000, penalty=l1, solver=saga; total time=  24.6s\n",
      "[CV] END C=0.1, class_weight=None, max_iter=1000, penalty=l1, solver=saga; total time=  22.2s\n",
      "[CV] END C=0.1, class_weight=None, max_iter=1000, penalty=l1, solver=saga; total time=  23.4s\n",
      "[CV] END C=0.1, class_weight=None, max_iter=1000, penalty=l1, solver=saga; total time=  22.6s\n",
      "[CV] END C=0.1, class_weight=None, max_iter=1000, penalty=l1, solver=saga; total time=  14.2s\n",
      "[CV] END C=0.1, class_weight=balanced, max_iter=100, penalty=l2, solver=liblinear; total time=   0.2s\n",
      "[CV] END C=0.1, class_weight=balanced, max_iter=100, penalty=l2, solver=liblinear; total time=   0.2s\n",
      "[CV] END C=0.1, class_weight=balanced, max_iter=100, penalty=l2, solver=liblinear; total time=   0.2s\n",
      "[CV] END C=0.1, class_weight=balanced, max_iter=100, penalty=l2, solver=liblinear; total time=   0.2s\n",
      "[CV] END C=0.1, class_weight=balanced, max_iter=100, penalty=l2, solver=liblinear; total time=   0.2s\n"
     ]
    },
    {
     "name": "stderr",
     "output_type": "stream",
     "text": [
      "C:\\Users\\myousaf23\\anaconda3\\Lib\\site-packages\\sklearn\\linear_model\\_sag.py:349: ConvergenceWarning: The max_iter was reached which means the coef_ did not converge\n",
      "  warnings.warn(\n"
     ]
    },
    {
     "name": "stdout",
     "output_type": "stream",
     "text": [
      "[CV] END C=0.1, class_weight=balanced, max_iter=100, penalty=l2, solver=saga; total time=   7.5s\n"
     ]
    },
    {
     "name": "stderr",
     "output_type": "stream",
     "text": [
      "C:\\Users\\myousaf23\\anaconda3\\Lib\\site-packages\\sklearn\\linear_model\\_sag.py:349: ConvergenceWarning: The max_iter was reached which means the coef_ did not converge\n",
      "  warnings.warn(\n"
     ]
    },
    {
     "name": "stdout",
     "output_type": "stream",
     "text": [
      "[CV] END C=0.1, class_weight=balanced, max_iter=100, penalty=l2, solver=saga; total time=   5.6s\n"
     ]
    },
    {
     "name": "stderr",
     "output_type": "stream",
     "text": [
      "C:\\Users\\myousaf23\\anaconda3\\Lib\\site-packages\\sklearn\\linear_model\\_sag.py:349: ConvergenceWarning: The max_iter was reached which means the coef_ did not converge\n",
      "  warnings.warn(\n"
     ]
    },
    {
     "name": "stdout",
     "output_type": "stream",
     "text": [
      "[CV] END C=0.1, class_weight=balanced, max_iter=100, penalty=l2, solver=saga; total time=   6.8s\n",
      "[CV] END C=0.1, class_weight=balanced, max_iter=100, penalty=l2, solver=saga; total time=   7.6s\n"
     ]
    },
    {
     "name": "stderr",
     "output_type": "stream",
     "text": [
      "C:\\Users\\myousaf23\\anaconda3\\Lib\\site-packages\\sklearn\\linear_model\\_sag.py:349: ConvergenceWarning: The max_iter was reached which means the coef_ did not converge\n",
      "  warnings.warn(\n"
     ]
    },
    {
     "name": "stdout",
     "output_type": "stream",
     "text": [
      "[CV] END C=0.1, class_weight=balanced, max_iter=100, penalty=l2, solver=saga; total time=   8.0s\n",
      "[CV] END C=0.1, class_weight=balanced, max_iter=100, penalty=l1, solver=liblinear; total time=   0.2s\n",
      "[CV] END C=0.1, class_weight=balanced, max_iter=100, penalty=l1, solver=liblinear; total time=   0.2s\n",
      "[CV] END C=0.1, class_weight=balanced, max_iter=100, penalty=l1, solver=liblinear; total time=   0.2s\n",
      "[CV] END C=0.1, class_weight=balanced, max_iter=100, penalty=l1, solver=liblinear; total time=   0.2s\n",
      "[CV] END C=0.1, class_weight=balanced, max_iter=100, penalty=l1, solver=liblinear; total time=   0.2s\n"
     ]
    },
    {
     "name": "stderr",
     "output_type": "stream",
     "text": [
      "C:\\Users\\myousaf23\\anaconda3\\Lib\\site-packages\\sklearn\\linear_model\\_sag.py:349: ConvergenceWarning: The max_iter was reached which means the coef_ did not converge\n",
      "  warnings.warn(\n"
     ]
    },
    {
     "name": "stdout",
     "output_type": "stream",
     "text": [
      "[CV] END C=0.1, class_weight=balanced, max_iter=100, penalty=l1, solver=saga; total time=  10.3s\n"
     ]
    },
    {
     "name": "stderr",
     "output_type": "stream",
     "text": [
      "C:\\Users\\myousaf23\\anaconda3\\Lib\\site-packages\\sklearn\\linear_model\\_sag.py:349: ConvergenceWarning: The max_iter was reached which means the coef_ did not converge\n",
      "  warnings.warn(\n"
     ]
    },
    {
     "name": "stdout",
     "output_type": "stream",
     "text": [
      "[CV] END C=0.1, class_weight=balanced, max_iter=100, penalty=l1, solver=saga; total time=  10.2s\n"
     ]
    },
    {
     "name": "stderr",
     "output_type": "stream",
     "text": [
      "C:\\Users\\myousaf23\\anaconda3\\Lib\\site-packages\\sklearn\\linear_model\\_sag.py:349: ConvergenceWarning: The max_iter was reached which means the coef_ did not converge\n",
      "  warnings.warn(\n"
     ]
    },
    {
     "name": "stdout",
     "output_type": "stream",
     "text": [
      "[CV] END C=0.1, class_weight=balanced, max_iter=100, penalty=l1, solver=saga; total time=   6.4s\n"
     ]
    },
    {
     "name": "stderr",
     "output_type": "stream",
     "text": [
      "C:\\Users\\myousaf23\\anaconda3\\Lib\\site-packages\\sklearn\\linear_model\\_sag.py:349: ConvergenceWarning: The max_iter was reached which means the coef_ did not converge\n",
      "  warnings.warn(\n"
     ]
    },
    {
     "name": "stdout",
     "output_type": "stream",
     "text": [
      "[CV] END C=0.1, class_weight=balanced, max_iter=100, penalty=l1, solver=saga; total time=  10.0s\n"
     ]
    },
    {
     "name": "stderr",
     "output_type": "stream",
     "text": [
      "C:\\Users\\myousaf23\\anaconda3\\Lib\\site-packages\\sklearn\\linear_model\\_sag.py:349: ConvergenceWarning: The max_iter was reached which means the coef_ did not converge\n",
      "  warnings.warn(\n"
     ]
    },
    {
     "name": "stdout",
     "output_type": "stream",
     "text": [
      "[CV] END C=0.1, class_weight=balanced, max_iter=100, penalty=l1, solver=saga; total time=   9.9s\n",
      "[CV] END C=0.1, class_weight=balanced, max_iter=200, penalty=l2, solver=liblinear; total time=   0.2s\n",
      "[CV] END C=0.1, class_weight=balanced, max_iter=200, penalty=l2, solver=liblinear; total time=   0.2s\n",
      "[CV] END C=0.1, class_weight=balanced, max_iter=200, penalty=l2, solver=liblinear; total time=   0.2s\n",
      "[CV] END C=0.1, class_weight=balanced, max_iter=200, penalty=l2, solver=liblinear; total time=   0.2s\n",
      "[CV] END C=0.1, class_weight=balanced, max_iter=200, penalty=l2, solver=liblinear; total time=   0.2s\n"
     ]
    },
    {
     "name": "stderr",
     "output_type": "stream",
     "text": [
      "C:\\Users\\myousaf23\\anaconda3\\Lib\\site-packages\\sklearn\\linear_model\\_sag.py:349: ConvergenceWarning: The max_iter was reached which means the coef_ did not converge\n",
      "  warnings.warn(\n"
     ]
    },
    {
     "name": "stdout",
     "output_type": "stream",
     "text": [
      "[CV] END C=0.1, class_weight=balanced, max_iter=200, penalty=l2, solver=saga; total time=  15.9s\n"
     ]
    },
    {
     "name": "stderr",
     "output_type": "stream",
     "text": [
      "C:\\Users\\myousaf23\\anaconda3\\Lib\\site-packages\\sklearn\\linear_model\\_sag.py:349: ConvergenceWarning: The max_iter was reached which means the coef_ did not converge\n",
      "  warnings.warn(\n"
     ]
    },
    {
     "name": "stdout",
     "output_type": "stream",
     "text": [
      "[CV] END C=0.1, class_weight=balanced, max_iter=200, penalty=l2, solver=saga; total time=  12.1s\n",
      "[CV] END C=0.1, class_weight=balanced, max_iter=200, penalty=l2, solver=saga; total time=  14.2s\n",
      "[CV] END C=0.1, class_weight=balanced, max_iter=200, penalty=l2, solver=saga; total time=   7.5s\n"
     ]
    },
    {
     "name": "stderr",
     "output_type": "stream",
     "text": [
      "C:\\Users\\myousaf23\\anaconda3\\Lib\\site-packages\\sklearn\\linear_model\\_sag.py:349: ConvergenceWarning: The max_iter was reached which means the coef_ did not converge\n",
      "  warnings.warn(\n"
     ]
    },
    {
     "name": "stdout",
     "output_type": "stream",
     "text": [
      "[CV] END C=0.1, class_weight=balanced, max_iter=200, penalty=l2, solver=saga; total time=  15.8s\n",
      "[CV] END C=0.1, class_weight=balanced, max_iter=200, penalty=l1, solver=liblinear; total time=   0.2s\n",
      "[CV] END C=0.1, class_weight=balanced, max_iter=200, penalty=l1, solver=liblinear; total time=   0.2s\n",
      "[CV] END C=0.1, class_weight=balanced, max_iter=200, penalty=l1, solver=liblinear; total time=   0.2s\n",
      "[CV] END C=0.1, class_weight=balanced, max_iter=200, penalty=l1, solver=liblinear; total time=   0.2s\n",
      "[CV] END C=0.1, class_weight=balanced, max_iter=200, penalty=l1, solver=liblinear; total time=   0.2s\n"
     ]
    },
    {
     "name": "stderr",
     "output_type": "stream",
     "text": [
      "C:\\Users\\myousaf23\\anaconda3\\Lib\\site-packages\\sklearn\\linear_model\\_sag.py:349: ConvergenceWarning: The max_iter was reached which means the coef_ did not converge\n",
      "  warnings.warn(\n"
     ]
    },
    {
     "name": "stdout",
     "output_type": "stream",
     "text": [
      "[CV] END C=0.1, class_weight=balanced, max_iter=200, penalty=l1, solver=saga; total time=  16.1s\n"
     ]
    },
    {
     "name": "stderr",
     "output_type": "stream",
     "text": [
      "C:\\Users\\myousaf23\\anaconda3\\Lib\\site-packages\\sklearn\\linear_model\\_sag.py:349: ConvergenceWarning: The max_iter was reached which means the coef_ did not converge\n",
      "  warnings.warn(\n"
     ]
    },
    {
     "name": "stdout",
     "output_type": "stream",
     "text": [
      "[CV] END C=0.1, class_weight=balanced, max_iter=200, penalty=l1, solver=saga; total time=  20.3s\n"
     ]
    },
    {
     "name": "stderr",
     "output_type": "stream",
     "text": [
      "C:\\Users\\myousaf23\\anaconda3\\Lib\\site-packages\\sklearn\\linear_model\\_sag.py:349: ConvergenceWarning: The max_iter was reached which means the coef_ did not converge\n",
      "  warnings.warn(\n"
     ]
    },
    {
     "name": "stdout",
     "output_type": "stream",
     "text": [
      "[CV] END C=0.1, class_weight=balanced, max_iter=200, penalty=l1, solver=saga; total time=  17.3s\n"
     ]
    },
    {
     "name": "stderr",
     "output_type": "stream",
     "text": [
      "C:\\Users\\myousaf23\\anaconda3\\Lib\\site-packages\\sklearn\\linear_model\\_sag.py:349: ConvergenceWarning: The max_iter was reached which means the coef_ did not converge\n",
      "  warnings.warn(\n"
     ]
    },
    {
     "name": "stdout",
     "output_type": "stream",
     "text": [
      "[CV] END C=0.1, class_weight=balanced, max_iter=200, penalty=l1, solver=saga; total time=  20.0s\n",
      "[CV] END C=0.1, class_weight=balanced, max_iter=200, penalty=l1, solver=saga; total time=  14.7s\n",
      "[CV] END C=0.1, class_weight=balanced, max_iter=500, penalty=l2, solver=liblinear; total time=   0.2s\n",
      "[CV] END C=0.1, class_weight=balanced, max_iter=500, penalty=l2, solver=liblinear; total time=   0.2s\n",
      "[CV] END C=0.1, class_weight=balanced, max_iter=500, penalty=l2, solver=liblinear; total time=   0.2s\n",
      "[CV] END C=0.1, class_weight=balanced, max_iter=500, penalty=l2, solver=liblinear; total time=   0.2s\n",
      "[CV] END C=0.1, class_weight=balanced, max_iter=500, penalty=l2, solver=liblinear; total time=   0.2s\n",
      "[CV] END C=0.1, class_weight=balanced, max_iter=500, penalty=l2, solver=saga; total time=  15.5s\n",
      "[CV] END C=0.1, class_weight=balanced, max_iter=500, penalty=l2, solver=saga; total time=  22.1s\n",
      "[CV] END C=0.1, class_weight=balanced, max_iter=500, penalty=l2, solver=saga; total time=  13.5s\n",
      "[CV] END C=0.1, class_weight=balanced, max_iter=500, penalty=l2, solver=saga; total time=   5.7s\n",
      "[CV] END C=0.1, class_weight=balanced, max_iter=500, penalty=l2, solver=saga; total time=  19.6s\n",
      "[CV] END C=0.1, class_weight=balanced, max_iter=500, penalty=l1, solver=liblinear; total time=   0.2s\n",
      "[CV] END C=0.1, class_weight=balanced, max_iter=500, penalty=l1, solver=liblinear; total time=   0.2s\n",
      "[CV] END C=0.1, class_weight=balanced, max_iter=500, penalty=l1, solver=liblinear; total time=   0.2s\n",
      "[CV] END C=0.1, class_weight=balanced, max_iter=500, penalty=l1, solver=liblinear; total time=   0.2s\n",
      "[CV] END C=0.1, class_weight=balanced, max_iter=500, penalty=l1, solver=liblinear; total time=   0.2s\n",
      "[CV] END C=0.1, class_weight=balanced, max_iter=500, penalty=l1, solver=saga; total time=  24.9s\n",
      "[CV] END C=0.1, class_weight=balanced, max_iter=500, penalty=l1, solver=saga; total time=  22.2s\n",
      "[CV] END C=0.1, class_weight=balanced, max_iter=500, penalty=l1, solver=saga; total time=  23.4s\n",
      "[CV] END C=0.1, class_weight=balanced, max_iter=500, penalty=l1, solver=saga; total time=  19.6s\n",
      "[CV] END C=0.1, class_weight=balanced, max_iter=500, penalty=l1, solver=saga; total time=  11.0s\n",
      "[CV] END C=0.1, class_weight=balanced, max_iter=700, penalty=l2, solver=liblinear; total time=   0.1s\n",
      "[CV] END C=0.1, class_weight=balanced, max_iter=700, penalty=l2, solver=liblinear; total time=   0.1s\n",
      "[CV] END C=0.1, class_weight=balanced, max_iter=700, penalty=l2, solver=liblinear; total time=   0.1s\n",
      "[CV] END C=0.1, class_weight=balanced, max_iter=700, penalty=l2, solver=liblinear; total time=   0.1s\n",
      "[CV] END C=0.1, class_weight=balanced, max_iter=700, penalty=l2, solver=liblinear; total time=   0.1s\n",
      "[CV] END C=0.1, class_weight=balanced, max_iter=700, penalty=l2, solver=saga; total time=  13.3s\n",
      "[CV] END C=0.1, class_weight=balanced, max_iter=700, penalty=l2, solver=saga; total time=  16.9s\n",
      "[CV] END C=0.1, class_weight=balanced, max_iter=700, penalty=l2, solver=saga; total time=  10.1s\n",
      "[CV] END C=0.1, class_weight=balanced, max_iter=700, penalty=l2, solver=saga; total time=   5.9s\n",
      "[CV] END C=0.1, class_weight=balanced, max_iter=700, penalty=l2, solver=saga; total time=  15.2s\n",
      "[CV] END C=0.1, class_weight=balanced, max_iter=700, penalty=l1, solver=liblinear; total time=   0.1s\n",
      "[CV] END C=0.1, class_weight=balanced, max_iter=700, penalty=l1, solver=liblinear; total time=   0.1s\n",
      "[CV] END C=0.1, class_weight=balanced, max_iter=700, penalty=l1, solver=liblinear; total time=   0.1s\n",
      "[CV] END C=0.1, class_weight=balanced, max_iter=700, penalty=l1, solver=liblinear; total time=   0.1s\n",
      "[CV] END C=0.1, class_weight=balanced, max_iter=700, penalty=l1, solver=liblinear; total time=   0.1s\n",
      "[CV] END C=0.1, class_weight=balanced, max_iter=700, penalty=l1, solver=saga; total time=  19.1s\n",
      "[CV] END C=0.1, class_weight=balanced, max_iter=700, penalty=l1, solver=saga; total time=  19.2s\n",
      "[CV] END C=0.1, class_weight=balanced, max_iter=700, penalty=l1, solver=saga; total time=  18.0s\n",
      "[CV] END C=0.1, class_weight=balanced, max_iter=700, penalty=l1, solver=saga; total time=  20.0s\n",
      "[CV] END C=0.1, class_weight=balanced, max_iter=700, penalty=l1, solver=saga; total time=  12.1s\n",
      "[CV] END C=0.1, class_weight=balanced, max_iter=1000, penalty=l2, solver=liblinear; total time=   0.1s\n",
      "[CV] END C=0.1, class_weight=balanced, max_iter=1000, penalty=l2, solver=liblinear; total time=   0.1s\n",
      "[CV] END C=0.1, class_weight=balanced, max_iter=1000, penalty=l2, solver=liblinear; total time=   0.1s\n",
      "[CV] END C=0.1, class_weight=balanced, max_iter=1000, penalty=l2, solver=liblinear; total time=   0.1s\n",
      "[CV] END C=0.1, class_weight=balanced, max_iter=1000, penalty=l2, solver=liblinear; total time=   0.1s\n",
      "[CV] END C=0.1, class_weight=balanced, max_iter=1000, penalty=l2, solver=saga; total time=  16.0s\n",
      "[CV] END C=0.1, class_weight=balanced, max_iter=1000, penalty=l2, solver=saga; total time=  17.8s\n",
      "[CV] END C=0.1, class_weight=balanced, max_iter=1000, penalty=l2, solver=saga; total time=  10.2s\n",
      "[CV] END C=0.1, class_weight=balanced, max_iter=1000, penalty=l2, solver=saga; total time=   7.9s\n",
      "[CV] END C=0.1, class_weight=balanced, max_iter=1000, penalty=l2, solver=saga; total time=  17.3s\n",
      "[CV] END C=0.1, class_weight=balanced, max_iter=1000, penalty=l1, solver=liblinear; total time=   0.1s\n",
      "[CV] END C=0.1, class_weight=balanced, max_iter=1000, penalty=l1, solver=liblinear; total time=   0.1s\n",
      "[CV] END C=0.1, class_weight=balanced, max_iter=1000, penalty=l1, solver=liblinear; total time=   0.1s\n",
      "[CV] END C=0.1, class_weight=balanced, max_iter=1000, penalty=l1, solver=liblinear; total time=   0.1s\n",
      "[CV] END C=0.1, class_weight=balanced, max_iter=1000, penalty=l1, solver=liblinear; total time=   0.1s\n",
      "[CV] END C=0.1, class_weight=balanced, max_iter=1000, penalty=l1, solver=saga; total time=  19.8s\n",
      "[CV] END C=0.1, class_weight=balanced, max_iter=1000, penalty=l1, solver=saga; total time=  21.1s\n",
      "[CV] END C=0.1, class_weight=balanced, max_iter=1000, penalty=l1, solver=saga; total time=  18.5s\n",
      "[CV] END C=0.1, class_weight=balanced, max_iter=1000, penalty=l1, solver=saga; total time=  21.3s\n",
      "[CV] END C=0.1, class_weight=balanced, max_iter=1000, penalty=l1, solver=saga; total time=  10.8s\n",
      "[CV] END C=1, class_weight=None, max_iter=100, penalty=l2, solver=liblinear; total time=   0.2s\n",
      "[CV] END C=1, class_weight=None, max_iter=100, penalty=l2, solver=liblinear; total time=   0.2s\n",
      "[CV] END C=1, class_weight=None, max_iter=100, penalty=l2, solver=liblinear; total time=   0.2s\n",
      "[CV] END C=1, class_weight=None, max_iter=100, penalty=l2, solver=liblinear; total time=   0.2s\n",
      "[CV] END C=1, class_weight=None, max_iter=100, penalty=l2, solver=liblinear; total time=   0.2s\n"
     ]
    },
    {
     "name": "stderr",
     "output_type": "stream",
     "text": [
      "C:\\Users\\myousaf23\\anaconda3\\Lib\\site-packages\\sklearn\\linear_model\\_sag.py:349: ConvergenceWarning: The max_iter was reached which means the coef_ did not converge\n",
      "  warnings.warn(\n"
     ]
    },
    {
     "name": "stdout",
     "output_type": "stream",
     "text": [
      "[CV] END C=1, class_weight=None, max_iter=100, penalty=l2, solver=saga; total time=   8.0s\n"
     ]
    },
    {
     "name": "stderr",
     "output_type": "stream",
     "text": [
      "C:\\Users\\myousaf23\\anaconda3\\Lib\\site-packages\\sklearn\\linear_model\\_sag.py:349: ConvergenceWarning: The max_iter was reached which means the coef_ did not converge\n",
      "  warnings.warn(\n"
     ]
    },
    {
     "name": "stdout",
     "output_type": "stream",
     "text": [
      "[CV] END C=1, class_weight=None, max_iter=100, penalty=l2, solver=saga; total time=   4.8s\n"
     ]
    },
    {
     "name": "stderr",
     "output_type": "stream",
     "text": [
      "C:\\Users\\myousaf23\\anaconda3\\Lib\\site-packages\\sklearn\\linear_model\\_sag.py:349: ConvergenceWarning: The max_iter was reached which means the coef_ did not converge\n",
      "  warnings.warn(\n"
     ]
    },
    {
     "name": "stdout",
     "output_type": "stream",
     "text": [
      "[CV] END C=1, class_weight=None, max_iter=100, penalty=l2, solver=saga; total time=   7.9s\n"
     ]
    },
    {
     "name": "stderr",
     "output_type": "stream",
     "text": [
      "C:\\Users\\myousaf23\\anaconda3\\Lib\\site-packages\\sklearn\\linear_model\\_sag.py:349: ConvergenceWarning: The max_iter was reached which means the coef_ did not converge\n",
      "  warnings.warn(\n"
     ]
    },
    {
     "name": "stdout",
     "output_type": "stream",
     "text": [
      "[CV] END C=1, class_weight=None, max_iter=100, penalty=l2, solver=saga; total time=   5.5s\n"
     ]
    },
    {
     "name": "stderr",
     "output_type": "stream",
     "text": [
      "C:\\Users\\myousaf23\\anaconda3\\Lib\\site-packages\\sklearn\\linear_model\\_sag.py:349: ConvergenceWarning: The max_iter was reached which means the coef_ did not converge\n",
      "  warnings.warn(\n"
     ]
    },
    {
     "name": "stdout",
     "output_type": "stream",
     "text": [
      "[CV] END C=1, class_weight=None, max_iter=100, penalty=l2, solver=saga; total time=   7.0s\n",
      "[CV] END C=1, class_weight=None, max_iter=100, penalty=l1, solver=liblinear; total time=   0.2s\n",
      "[CV] END C=1, class_weight=None, max_iter=100, penalty=l1, solver=liblinear; total time=   0.2s\n",
      "[CV] END C=1, class_weight=None, max_iter=100, penalty=l1, solver=liblinear; total time=   0.2s\n",
      "[CV] END C=1, class_weight=None, max_iter=100, penalty=l1, solver=liblinear; total time=   0.2s\n",
      "[CV] END C=1, class_weight=None, max_iter=100, penalty=l1, solver=liblinear; total time=   0.2s\n"
     ]
    },
    {
     "name": "stderr",
     "output_type": "stream",
     "text": [
      "C:\\Users\\myousaf23\\anaconda3\\Lib\\site-packages\\sklearn\\linear_model\\_sag.py:349: ConvergenceWarning: The max_iter was reached which means the coef_ did not converge\n",
      "  warnings.warn(\n"
     ]
    },
    {
     "name": "stdout",
     "output_type": "stream",
     "text": [
      "[CV] END C=1, class_weight=None, max_iter=100, penalty=l1, solver=saga; total time=  10.7s\n"
     ]
    },
    {
     "name": "stderr",
     "output_type": "stream",
     "text": [
      "C:\\Users\\myousaf23\\anaconda3\\Lib\\site-packages\\sklearn\\linear_model\\_sag.py:349: ConvergenceWarning: The max_iter was reached which means the coef_ did not converge\n",
      "  warnings.warn(\n"
     ]
    },
    {
     "name": "stdout",
     "output_type": "stream",
     "text": [
      "[CV] END C=1, class_weight=None, max_iter=100, penalty=l1, solver=saga; total time=   6.9s\n"
     ]
    },
    {
     "name": "stderr",
     "output_type": "stream",
     "text": [
      "C:\\Users\\myousaf23\\anaconda3\\Lib\\site-packages\\sklearn\\linear_model\\_sag.py:349: ConvergenceWarning: The max_iter was reached which means the coef_ did not converge\n",
      "  warnings.warn(\n"
     ]
    },
    {
     "name": "stdout",
     "output_type": "stream",
     "text": [
      "[CV] END C=1, class_weight=None, max_iter=100, penalty=l1, solver=saga; total time=  10.3s\n"
     ]
    },
    {
     "name": "stderr",
     "output_type": "stream",
     "text": [
      "C:\\Users\\myousaf23\\anaconda3\\Lib\\site-packages\\sklearn\\linear_model\\_sag.py:349: ConvergenceWarning: The max_iter was reached which means the coef_ did not converge\n",
      "  warnings.warn(\n"
     ]
    },
    {
     "name": "stdout",
     "output_type": "stream",
     "text": [
      "[CV] END C=1, class_weight=None, max_iter=100, penalty=l1, solver=saga; total time=   8.8s\n"
     ]
    },
    {
     "name": "stderr",
     "output_type": "stream",
     "text": [
      "C:\\Users\\myousaf23\\anaconda3\\Lib\\site-packages\\sklearn\\linear_model\\_sag.py:349: ConvergenceWarning: The max_iter was reached which means the coef_ did not converge\n",
      "  warnings.warn(\n"
     ]
    },
    {
     "name": "stdout",
     "output_type": "stream",
     "text": [
      "[CV] END C=1, class_weight=None, max_iter=100, penalty=l1, solver=saga; total time=   8.2s\n",
      "[CV] END C=1, class_weight=None, max_iter=200, penalty=l2, solver=liblinear; total time=   0.2s\n",
      "[CV] END C=1, class_weight=None, max_iter=200, penalty=l2, solver=liblinear; total time=   0.2s\n",
      "[CV] END C=1, class_weight=None, max_iter=200, penalty=l2, solver=liblinear; total time=   0.2s\n",
      "[CV] END C=1, class_weight=None, max_iter=200, penalty=l2, solver=liblinear; total time=   0.2s\n",
      "[CV] END C=1, class_weight=None, max_iter=200, penalty=l2, solver=liblinear; total time=   0.2s\n"
     ]
    },
    {
     "name": "stderr",
     "output_type": "stream",
     "text": [
      "C:\\Users\\myousaf23\\anaconda3\\Lib\\site-packages\\sklearn\\linear_model\\_sag.py:349: ConvergenceWarning: The max_iter was reached which means the coef_ did not converge\n",
      "  warnings.warn(\n"
     ]
    },
    {
     "name": "stdout",
     "output_type": "stream",
     "text": [
      "[CV] END C=1, class_weight=None, max_iter=200, penalty=l2, solver=saga; total time=  14.1s\n"
     ]
    },
    {
     "name": "stderr",
     "output_type": "stream",
     "text": [
      "C:\\Users\\myousaf23\\anaconda3\\Lib\\site-packages\\sklearn\\linear_model\\_sag.py:349: ConvergenceWarning: The max_iter was reached which means the coef_ did not converge\n",
      "  warnings.warn(\n"
     ]
    },
    {
     "name": "stdout",
     "output_type": "stream",
     "text": [
      "[CV] END C=1, class_weight=None, max_iter=200, penalty=l2, solver=saga; total time=  13.8s\n"
     ]
    },
    {
     "name": "stderr",
     "output_type": "stream",
     "text": [
      "C:\\Users\\myousaf23\\anaconda3\\Lib\\site-packages\\sklearn\\linear_model\\_sag.py:349: ConvergenceWarning: The max_iter was reached which means the coef_ did not converge\n",
      "  warnings.warn(\n"
     ]
    },
    {
     "name": "stdout",
     "output_type": "stream",
     "text": [
      "[CV] END C=1, class_weight=None, max_iter=200, penalty=l2, solver=saga; total time=  12.2s\n"
     ]
    },
    {
     "name": "stderr",
     "output_type": "stream",
     "text": [
      "C:\\Users\\myousaf23\\anaconda3\\Lib\\site-packages\\sklearn\\linear_model\\_sag.py:349: ConvergenceWarning: The max_iter was reached which means the coef_ did not converge\n",
      "  warnings.warn(\n"
     ]
    },
    {
     "name": "stdout",
     "output_type": "stream",
     "text": [
      "[CV] END C=1, class_weight=None, max_iter=200, penalty=l2, solver=saga; total time=  15.9s\n"
     ]
    },
    {
     "name": "stderr",
     "output_type": "stream",
     "text": [
      "C:\\Users\\myousaf23\\anaconda3\\Lib\\site-packages\\sklearn\\linear_model\\_sag.py:349: ConvergenceWarning: The max_iter was reached which means the coef_ did not converge\n",
      "  warnings.warn(\n"
     ]
    },
    {
     "name": "stdout",
     "output_type": "stream",
     "text": [
      "[CV] END C=1, class_weight=None, max_iter=200, penalty=l2, solver=saga; total time=  12.3s\n",
      "[CV] END C=1, class_weight=None, max_iter=200, penalty=l1, solver=liblinear; total time=   0.2s\n",
      "[CV] END C=1, class_weight=None, max_iter=200, penalty=l1, solver=liblinear; total time=   0.2s\n",
      "[CV] END C=1, class_weight=None, max_iter=200, penalty=l1, solver=liblinear; total time=   0.2s\n",
      "[CV] END C=1, class_weight=None, max_iter=200, penalty=l1, solver=liblinear; total time=   0.2s\n",
      "[CV] END C=1, class_weight=None, max_iter=200, penalty=l1, solver=liblinear; total time=   0.2s\n"
     ]
    },
    {
     "name": "stderr",
     "output_type": "stream",
     "text": [
      "C:\\Users\\myousaf23\\anaconda3\\Lib\\site-packages\\sklearn\\linear_model\\_sag.py:349: ConvergenceWarning: The max_iter was reached which means the coef_ did not converge\n",
      "  warnings.warn(\n"
     ]
    },
    {
     "name": "stdout",
     "output_type": "stream",
     "text": [
      "[CV] END C=1, class_weight=None, max_iter=200, penalty=l1, solver=saga; total time=  17.3s\n"
     ]
    },
    {
     "name": "stderr",
     "output_type": "stream",
     "text": [
      "C:\\Users\\myousaf23\\anaconda3\\Lib\\site-packages\\sklearn\\linear_model\\_sag.py:349: ConvergenceWarning: The max_iter was reached which means the coef_ did not converge\n",
      "  warnings.warn(\n"
     ]
    },
    {
     "name": "stdout",
     "output_type": "stream",
     "text": [
      "[CV] END C=1, class_weight=None, max_iter=200, penalty=l1, solver=saga; total time=  20.2s\n"
     ]
    },
    {
     "name": "stderr",
     "output_type": "stream",
     "text": [
      "C:\\Users\\myousaf23\\anaconda3\\Lib\\site-packages\\sklearn\\linear_model\\_sag.py:349: ConvergenceWarning: The max_iter was reached which means the coef_ did not converge\n",
      "  warnings.warn(\n"
     ]
    },
    {
     "name": "stdout",
     "output_type": "stream",
     "text": [
      "[CV] END C=1, class_weight=None, max_iter=200, penalty=l1, solver=saga; total time=  17.7s\n"
     ]
    },
    {
     "name": "stderr",
     "output_type": "stream",
     "text": [
      "C:\\Users\\myousaf23\\anaconda3\\Lib\\site-packages\\sklearn\\linear_model\\_sag.py:349: ConvergenceWarning: The max_iter was reached which means the coef_ did not converge\n",
      "  warnings.warn(\n"
     ]
    },
    {
     "name": "stdout",
     "output_type": "stream",
     "text": [
      "[CV] END C=1, class_weight=None, max_iter=200, penalty=l1, solver=saga; total time=  17.3s\n"
     ]
    },
    {
     "name": "stderr",
     "output_type": "stream",
     "text": [
      "C:\\Users\\myousaf23\\anaconda3\\Lib\\site-packages\\sklearn\\linear_model\\_sag.py:349: ConvergenceWarning: The max_iter was reached which means the coef_ did not converge\n",
      "  warnings.warn(\n"
     ]
    },
    {
     "name": "stdout",
     "output_type": "stream",
     "text": [
      "[CV] END C=1, class_weight=None, max_iter=200, penalty=l1, solver=saga; total time=  16.8s\n",
      "[CV] END C=1, class_weight=None, max_iter=500, penalty=l2, solver=liblinear; total time=   0.2s\n",
      "[CV] END C=1, class_weight=None, max_iter=500, penalty=l2, solver=liblinear; total time=   0.2s\n",
      "[CV] END C=1, class_weight=None, max_iter=500, penalty=l2, solver=liblinear; total time=   0.2s\n",
      "[CV] END C=1, class_weight=None, max_iter=500, penalty=l2, solver=liblinear; total time=   0.2s\n",
      "[CV] END C=1, class_weight=None, max_iter=500, penalty=l2, solver=liblinear; total time=   0.2s\n",
      "[CV] END C=1, class_weight=None, max_iter=500, penalty=l2, solver=saga; total time=  19.5s\n",
      "[CV] END C=1, class_weight=None, max_iter=500, penalty=l2, solver=saga; total time=  20.4s\n",
      "[CV] END C=1, class_weight=None, max_iter=500, penalty=l2, solver=saga; total time=  18.5s\n",
      "[CV] END C=1, class_weight=None, max_iter=500, penalty=l2, solver=saga; total time=  17.9s\n",
      "[CV] END C=1, class_weight=None, max_iter=500, penalty=l2, solver=saga; total time=  16.9s\n",
      "[CV] END C=1, class_weight=None, max_iter=500, penalty=l1, solver=liblinear; total time=   0.1s\n",
      "[CV] END C=1, class_weight=None, max_iter=500, penalty=l1, solver=liblinear; total time=   0.1s\n",
      "[CV] END C=1, class_weight=None, max_iter=500, penalty=l1, solver=liblinear; total time=   0.1s\n",
      "[CV] END C=1, class_weight=None, max_iter=500, penalty=l1, solver=liblinear; total time=   0.1s\n",
      "[CV] END C=1, class_weight=None, max_iter=500, penalty=l1, solver=liblinear; total time=   0.1s\n"
     ]
    },
    {
     "name": "stderr",
     "output_type": "stream",
     "text": [
      "C:\\Users\\myousaf23\\anaconda3\\Lib\\site-packages\\sklearn\\linear_model\\_sag.py:349: ConvergenceWarning: The max_iter was reached which means the coef_ did not converge\n",
      "  warnings.warn(\n"
     ]
    },
    {
     "name": "stdout",
     "output_type": "stream",
     "text": [
      "[CV] END C=1, class_weight=None, max_iter=500, penalty=l1, solver=saga; total time=  45.6s\n"
     ]
    },
    {
     "name": "stderr",
     "output_type": "stream",
     "text": [
      "C:\\Users\\myousaf23\\anaconda3\\Lib\\site-packages\\sklearn\\linear_model\\_sag.py:349: ConvergenceWarning: The max_iter was reached which means the coef_ did not converge\n",
      "  warnings.warn(\n"
     ]
    },
    {
     "name": "stdout",
     "output_type": "stream",
     "text": [
      "[CV] END C=1, class_weight=None, max_iter=500, penalty=l1, solver=saga; total time=  45.9s\n"
     ]
    },
    {
     "name": "stderr",
     "output_type": "stream",
     "text": [
      "C:\\Users\\myousaf23\\anaconda3\\Lib\\site-packages\\sklearn\\linear_model\\_sag.py:349: ConvergenceWarning: The max_iter was reached which means the coef_ did not converge\n",
      "  warnings.warn(\n"
     ]
    },
    {
     "name": "stdout",
     "output_type": "stream",
     "text": [
      "[CV] END C=1, class_weight=None, max_iter=500, penalty=l1, solver=saga; total time=  47.3s\n"
     ]
    },
    {
     "name": "stderr",
     "output_type": "stream",
     "text": [
      "C:\\Users\\myousaf23\\anaconda3\\Lib\\site-packages\\sklearn\\linear_model\\_sag.py:349: ConvergenceWarning: The max_iter was reached which means the coef_ did not converge\n",
      "  warnings.warn(\n"
     ]
    },
    {
     "name": "stdout",
     "output_type": "stream",
     "text": [
      "[CV] END C=1, class_weight=None, max_iter=500, penalty=l1, solver=saga; total time=  44.4s\n"
     ]
    },
    {
     "name": "stderr",
     "output_type": "stream",
     "text": [
      "C:\\Users\\myousaf23\\anaconda3\\Lib\\site-packages\\sklearn\\linear_model\\_sag.py:349: ConvergenceWarning: The max_iter was reached which means the coef_ did not converge\n",
      "  warnings.warn(\n"
     ]
    },
    {
     "name": "stdout",
     "output_type": "stream",
     "text": [
      "[CV] END C=1, class_weight=None, max_iter=500, penalty=l1, solver=saga; total time=  47.3s\n",
      "[CV] END C=1, class_weight=None, max_iter=700, penalty=l2, solver=liblinear; total time=   0.2s\n",
      "[CV] END C=1, class_weight=None, max_iter=700, penalty=l2, solver=liblinear; total time=   0.2s\n",
      "[CV] END C=1, class_weight=None, max_iter=700, penalty=l2, solver=liblinear; total time=   0.2s\n",
      "[CV] END C=1, class_weight=None, max_iter=700, penalty=l2, solver=liblinear; total time=   0.2s\n",
      "[CV] END C=1, class_weight=None, max_iter=700, penalty=l2, solver=liblinear; total time=   0.2s\n",
      "[CV] END C=1, class_weight=None, max_iter=700, penalty=l2, solver=saga; total time=  17.2s\n",
      "[CV] END C=1, class_weight=None, max_iter=700, penalty=l2, solver=saga; total time=  22.2s\n",
      "[CV] END C=1, class_weight=None, max_iter=700, penalty=l2, solver=saga; total time=  18.7s\n",
      "[CV] END C=1, class_weight=None, max_iter=700, penalty=l2, solver=saga; total time=  19.0s\n",
      "[CV] END C=1, class_weight=None, max_iter=700, penalty=l2, solver=saga; total time=  19.7s\n",
      "[CV] END C=1, class_weight=None, max_iter=700, penalty=l1, solver=liblinear; total time=   0.2s\n",
      "[CV] END C=1, class_weight=None, max_iter=700, penalty=l1, solver=liblinear; total time=   0.2s\n",
      "[CV] END C=1, class_weight=None, max_iter=700, penalty=l1, solver=liblinear; total time=   0.2s\n",
      "[CV] END C=1, class_weight=None, max_iter=700, penalty=l1, solver=liblinear; total time=   0.2s\n",
      "[CV] END C=1, class_weight=None, max_iter=700, penalty=l1, solver=liblinear; total time=   0.2s\n"
     ]
    },
    {
     "name": "stderr",
     "output_type": "stream",
     "text": [
      "C:\\Users\\myousaf23\\anaconda3\\Lib\\site-packages\\sklearn\\linear_model\\_sag.py:349: ConvergenceWarning: The max_iter was reached which means the coef_ did not converge\n",
      "  warnings.warn(\n"
     ]
    },
    {
     "name": "stdout",
     "output_type": "stream",
     "text": [
      "[CV] END C=1, class_weight=None, max_iter=700, penalty=l1, solver=saga; total time= 1.1min\n"
     ]
    },
    {
     "name": "stderr",
     "output_type": "stream",
     "text": [
      "C:\\Users\\myousaf23\\anaconda3\\Lib\\site-packages\\sklearn\\linear_model\\_sag.py:349: ConvergenceWarning: The max_iter was reached which means the coef_ did not converge\n",
      "  warnings.warn(\n"
     ]
    },
    {
     "name": "stdout",
     "output_type": "stream",
     "text": [
      "[CV] END C=1, class_weight=None, max_iter=700, penalty=l1, solver=saga; total time= 1.1min\n"
     ]
    },
    {
     "name": "stderr",
     "output_type": "stream",
     "text": [
      "C:\\Users\\myousaf23\\anaconda3\\Lib\\site-packages\\sklearn\\linear_model\\_sag.py:349: ConvergenceWarning: The max_iter was reached which means the coef_ did not converge\n",
      "  warnings.warn(\n"
     ]
    },
    {
     "name": "stdout",
     "output_type": "stream",
     "text": [
      "[CV] END C=1, class_weight=None, max_iter=700, penalty=l1, solver=saga; total time= 1.1min\n"
     ]
    },
    {
     "name": "stderr",
     "output_type": "stream",
     "text": [
      "C:\\Users\\myousaf23\\anaconda3\\Lib\\site-packages\\sklearn\\linear_model\\_sag.py:349: ConvergenceWarning: The max_iter was reached which means the coef_ did not converge\n",
      "  warnings.warn(\n"
     ]
    },
    {
     "name": "stdout",
     "output_type": "stream",
     "text": [
      "[CV] END C=1, class_weight=None, max_iter=700, penalty=l1, solver=saga; total time= 1.1min\n"
     ]
    },
    {
     "name": "stderr",
     "output_type": "stream",
     "text": [
      "C:\\Users\\myousaf23\\anaconda3\\Lib\\site-packages\\sklearn\\linear_model\\_sag.py:349: ConvergenceWarning: The max_iter was reached which means the coef_ did not converge\n",
      "  warnings.warn(\n"
     ]
    },
    {
     "name": "stdout",
     "output_type": "stream",
     "text": [
      "[CV] END C=1, class_weight=None, max_iter=700, penalty=l1, solver=saga; total time= 1.1min\n",
      "[CV] END C=1, class_weight=None, max_iter=1000, penalty=l2, solver=liblinear; total time=   0.2s\n",
      "[CV] END C=1, class_weight=None, max_iter=1000, penalty=l2, solver=liblinear; total time=   0.2s\n",
      "[CV] END C=1, class_weight=None, max_iter=1000, penalty=l2, solver=liblinear; total time=   0.2s\n",
      "[CV] END C=1, class_weight=None, max_iter=1000, penalty=l2, solver=liblinear; total time=   0.2s\n",
      "[CV] END C=1, class_weight=None, max_iter=1000, penalty=l2, solver=liblinear; total time=   0.2s\n",
      "[CV] END C=1, class_weight=None, max_iter=1000, penalty=l2, solver=saga; total time=  17.1s\n",
      "[CV] END C=1, class_weight=None, max_iter=1000, penalty=l2, solver=saga; total time=  22.2s\n",
      "[CV] END C=1, class_weight=None, max_iter=1000, penalty=l2, solver=saga; total time=  18.1s\n",
      "[CV] END C=1, class_weight=None, max_iter=1000, penalty=l2, solver=saga; total time=  22.3s\n",
      "[CV] END C=1, class_weight=None, max_iter=1000, penalty=l2, solver=saga; total time=  15.8s\n",
      "[CV] END C=1, class_weight=None, max_iter=1000, penalty=l1, solver=liblinear; total time=   0.2s\n",
      "[CV] END C=1, class_weight=None, max_iter=1000, penalty=l1, solver=liblinear; total time=   0.2s\n",
      "[CV] END C=1, class_weight=None, max_iter=1000, penalty=l1, solver=liblinear; total time=   0.2s\n",
      "[CV] END C=1, class_weight=None, max_iter=1000, penalty=l1, solver=liblinear; total time=   0.2s\n",
      "[CV] END C=1, class_weight=None, max_iter=1000, penalty=l1, solver=liblinear; total time=   0.2s\n"
     ]
    },
    {
     "name": "stderr",
     "output_type": "stream",
     "text": [
      "C:\\Users\\myousaf23\\anaconda3\\Lib\\site-packages\\sklearn\\linear_model\\_sag.py:349: ConvergenceWarning: The max_iter was reached which means the coef_ did not converge\n",
      "  warnings.warn(\n"
     ]
    },
    {
     "name": "stdout",
     "output_type": "stream",
     "text": [
      "[CV] END C=1, class_weight=None, max_iter=1000, penalty=l1, solver=saga; total time= 1.6min\n"
     ]
    },
    {
     "name": "stderr",
     "output_type": "stream",
     "text": [
      "C:\\Users\\myousaf23\\anaconda3\\Lib\\site-packages\\sklearn\\linear_model\\_sag.py:349: ConvergenceWarning: The max_iter was reached which means the coef_ did not converge\n",
      "  warnings.warn(\n"
     ]
    },
    {
     "name": "stdout",
     "output_type": "stream",
     "text": [
      "[CV] END C=1, class_weight=None, max_iter=1000, penalty=l1, solver=saga; total time= 1.6min\n"
     ]
    },
    {
     "name": "stderr",
     "output_type": "stream",
     "text": [
      "C:\\Users\\myousaf23\\anaconda3\\Lib\\site-packages\\sklearn\\linear_model\\_sag.py:349: ConvergenceWarning: The max_iter was reached which means the coef_ did not converge\n",
      "  warnings.warn(\n"
     ]
    },
    {
     "name": "stdout",
     "output_type": "stream",
     "text": [
      "[CV] END C=1, class_weight=None, max_iter=1000, penalty=l1, solver=saga; total time= 1.5min\n"
     ]
    },
    {
     "name": "stderr",
     "output_type": "stream",
     "text": [
      "C:\\Users\\myousaf23\\anaconda3\\Lib\\site-packages\\sklearn\\linear_model\\_sag.py:349: ConvergenceWarning: The max_iter was reached which means the coef_ did not converge\n",
      "  warnings.warn(\n"
     ]
    },
    {
     "name": "stdout",
     "output_type": "stream",
     "text": [
      "[CV] END C=1, class_weight=None, max_iter=1000, penalty=l1, solver=saga; total time= 1.5min\n",
      "[CV] END C=1, class_weight=None, max_iter=1000, penalty=l1, solver=saga; total time= 1.5min\n",
      "[CV] END C=1, class_weight=balanced, max_iter=100, penalty=l2, solver=liblinear; total time=   0.2s\n",
      "[CV] END C=1, class_weight=balanced, max_iter=100, penalty=l2, solver=liblinear; total time=   0.2s\n",
      "[CV] END C=1, class_weight=balanced, max_iter=100, penalty=l2, solver=liblinear; total time=   0.2s\n",
      "[CV] END C=1, class_weight=balanced, max_iter=100, penalty=l2, solver=liblinear; total time=   0.2s\n",
      "[CV] END C=1, class_weight=balanced, max_iter=100, penalty=l2, solver=liblinear; total time=   0.2s\n"
     ]
    },
    {
     "name": "stderr",
     "output_type": "stream",
     "text": [
      "C:\\Users\\myousaf23\\anaconda3\\Lib\\site-packages\\sklearn\\linear_model\\_sag.py:349: ConvergenceWarning: The max_iter was reached which means the coef_ did not converge\n",
      "  warnings.warn(\n"
     ]
    },
    {
     "name": "stdout",
     "output_type": "stream",
     "text": [
      "[CV] END C=1, class_weight=balanced, max_iter=100, penalty=l2, solver=saga; total time=   7.9s\n"
     ]
    },
    {
     "name": "stderr",
     "output_type": "stream",
     "text": [
      "C:\\Users\\myousaf23\\anaconda3\\Lib\\site-packages\\sklearn\\linear_model\\_sag.py:349: ConvergenceWarning: The max_iter was reached which means the coef_ did not converge\n",
      "  warnings.warn(\n"
     ]
    },
    {
     "name": "stdout",
     "output_type": "stream",
     "text": [
      "[CV] END C=1, class_weight=balanced, max_iter=100, penalty=l2, solver=saga; total time=   8.0s\n"
     ]
    },
    {
     "name": "stderr",
     "output_type": "stream",
     "text": [
      "C:\\Users\\myousaf23\\anaconda3\\Lib\\site-packages\\sklearn\\linear_model\\_sag.py:349: ConvergenceWarning: The max_iter was reached which means the coef_ did not converge\n",
      "  warnings.warn(\n"
     ]
    },
    {
     "name": "stdout",
     "output_type": "stream",
     "text": [
      "[CV] END C=1, class_weight=balanced, max_iter=100, penalty=l2, solver=saga; total time=   8.1s\n"
     ]
    },
    {
     "name": "stderr",
     "output_type": "stream",
     "text": [
      "C:\\Users\\myousaf23\\anaconda3\\Lib\\site-packages\\sklearn\\linear_model\\_sag.py:349: ConvergenceWarning: The max_iter was reached which means the coef_ did not converge\n",
      "  warnings.warn(\n"
     ]
    },
    {
     "name": "stdout",
     "output_type": "stream",
     "text": [
      "[CV] END C=1, class_weight=balanced, max_iter=100, penalty=l2, solver=saga; total time=   7.9s\n"
     ]
    },
    {
     "name": "stderr",
     "output_type": "stream",
     "text": [
      "C:\\Users\\myousaf23\\anaconda3\\Lib\\site-packages\\sklearn\\linear_model\\_sag.py:349: ConvergenceWarning: The max_iter was reached which means the coef_ did not converge\n",
      "  warnings.warn(\n"
     ]
    },
    {
     "name": "stdout",
     "output_type": "stream",
     "text": [
      "[CV] END C=1, class_weight=balanced, max_iter=100, penalty=l2, solver=saga; total time=   7.0s\n",
      "[CV] END C=1, class_weight=balanced, max_iter=100, penalty=l1, solver=liblinear; total time=   0.1s\n",
      "[CV] END C=1, class_weight=balanced, max_iter=100, penalty=l1, solver=liblinear; total time=   0.1s\n",
      "[CV] END C=1, class_weight=balanced, max_iter=100, penalty=l1, solver=liblinear; total time=   0.1s\n",
      "[CV] END C=1, class_weight=balanced, max_iter=100, penalty=l1, solver=liblinear; total time=   0.1s\n",
      "[CV] END C=1, class_weight=balanced, max_iter=100, penalty=l1, solver=liblinear; total time=   0.1s\n"
     ]
    },
    {
     "name": "stderr",
     "output_type": "stream",
     "text": [
      "C:\\Users\\myousaf23\\anaconda3\\Lib\\site-packages\\sklearn\\linear_model\\_sag.py:349: ConvergenceWarning: The max_iter was reached which means the coef_ did not converge\n",
      "  warnings.warn(\n"
     ]
    },
    {
     "name": "stdout",
     "output_type": "stream",
     "text": [
      "[CV] END C=1, class_weight=balanced, max_iter=100, penalty=l1, solver=saga; total time=   8.9s\n"
     ]
    },
    {
     "name": "stderr",
     "output_type": "stream",
     "text": [
      "C:\\Users\\myousaf23\\anaconda3\\Lib\\site-packages\\sklearn\\linear_model\\_sag.py:349: ConvergenceWarning: The max_iter was reached which means the coef_ did not converge\n",
      "  warnings.warn(\n"
     ]
    },
    {
     "name": "stdout",
     "output_type": "stream",
     "text": [
      "[CV] END C=1, class_weight=balanced, max_iter=100, penalty=l1, solver=saga; total time=  10.6s\n"
     ]
    },
    {
     "name": "stderr",
     "output_type": "stream",
     "text": [
      "C:\\Users\\myousaf23\\anaconda3\\Lib\\site-packages\\sklearn\\linear_model\\_sag.py:349: ConvergenceWarning: The max_iter was reached which means the coef_ did not converge\n",
      "  warnings.warn(\n"
     ]
    },
    {
     "name": "stdout",
     "output_type": "stream",
     "text": [
      "[CV] END C=1, class_weight=balanced, max_iter=100, penalty=l1, solver=saga; total time=   9.9s\n"
     ]
    },
    {
     "name": "stderr",
     "output_type": "stream",
     "text": [
      "C:\\Users\\myousaf23\\anaconda3\\Lib\\site-packages\\sklearn\\linear_model\\_sag.py:349: ConvergenceWarning: The max_iter was reached which means the coef_ did not converge\n",
      "  warnings.warn(\n"
     ]
    },
    {
     "name": "stdout",
     "output_type": "stream",
     "text": [
      "[CV] END C=1, class_weight=balanced, max_iter=100, penalty=l1, solver=saga; total time=  10.2s\n"
     ]
    },
    {
     "name": "stderr",
     "output_type": "stream",
     "text": [
      "C:\\Users\\myousaf23\\anaconda3\\Lib\\site-packages\\sklearn\\linear_model\\_sag.py:349: ConvergenceWarning: The max_iter was reached which means the coef_ did not converge\n",
      "  warnings.warn(\n"
     ]
    },
    {
     "name": "stdout",
     "output_type": "stream",
     "text": [
      "[CV] END C=1, class_weight=balanced, max_iter=100, penalty=l1, solver=saga; total time=   9.1s\n",
      "[CV] END C=1, class_weight=balanced, max_iter=200, penalty=l2, solver=liblinear; total time=   0.1s\n",
      "[CV] END C=1, class_weight=balanced, max_iter=200, penalty=l2, solver=liblinear; total time=   0.1s\n",
      "[CV] END C=1, class_weight=balanced, max_iter=200, penalty=l2, solver=liblinear; total time=   0.1s\n",
      "[CV] END C=1, class_weight=balanced, max_iter=200, penalty=l2, solver=liblinear; total time=   0.1s\n",
      "[CV] END C=1, class_weight=balanced, max_iter=200, penalty=l2, solver=liblinear; total time=   0.1s\n"
     ]
    },
    {
     "name": "stderr",
     "output_type": "stream",
     "text": [
      "C:\\Users\\myousaf23\\anaconda3\\Lib\\site-packages\\sklearn\\linear_model\\_sag.py:349: ConvergenceWarning: The max_iter was reached which means the coef_ did not converge\n",
      "  warnings.warn(\n"
     ]
    },
    {
     "name": "stdout",
     "output_type": "stream",
     "text": [
      "[CV] END C=1, class_weight=balanced, max_iter=200, penalty=l2, solver=saga; total time=  14.4s\n"
     ]
    },
    {
     "name": "stderr",
     "output_type": "stream",
     "text": [
      "C:\\Users\\myousaf23\\anaconda3\\Lib\\site-packages\\sklearn\\linear_model\\_sag.py:349: ConvergenceWarning: The max_iter was reached which means the coef_ did not converge\n",
      "  warnings.warn(\n"
     ]
    },
    {
     "name": "stdout",
     "output_type": "stream",
     "text": [
      "[CV] END C=1, class_weight=balanced, max_iter=200, penalty=l2, solver=saga; total time=  16.0s\n"
     ]
    },
    {
     "name": "stderr",
     "output_type": "stream",
     "text": [
      "C:\\Users\\myousaf23\\anaconda3\\Lib\\site-packages\\sklearn\\linear_model\\_sag.py:349: ConvergenceWarning: The max_iter was reached which means the coef_ did not converge\n",
      "  warnings.warn(\n"
     ]
    },
    {
     "name": "stdout",
     "output_type": "stream",
     "text": [
      "[CV] END C=1, class_weight=balanced, max_iter=200, penalty=l2, solver=saga; total time=  15.8s\n"
     ]
    },
    {
     "name": "stderr",
     "output_type": "stream",
     "text": [
      "C:\\Users\\myousaf23\\anaconda3\\Lib\\site-packages\\sklearn\\linear_model\\_sag.py:349: ConvergenceWarning: The max_iter was reached which means the coef_ did not converge\n",
      "  warnings.warn(\n"
     ]
    },
    {
     "name": "stdout",
     "output_type": "stream",
     "text": [
      "[CV] END C=1, class_weight=balanced, max_iter=200, penalty=l2, solver=saga; total time=  12.3s\n"
     ]
    },
    {
     "name": "stderr",
     "output_type": "stream",
     "text": [
      "C:\\Users\\myousaf23\\anaconda3\\Lib\\site-packages\\sklearn\\linear_model\\_sag.py:349: ConvergenceWarning: The max_iter was reached which means the coef_ did not converge\n",
      "  warnings.warn(\n"
     ]
    },
    {
     "name": "stdout",
     "output_type": "stream",
     "text": [
      "[CV] END C=1, class_weight=balanced, max_iter=200, penalty=l2, solver=saga; total time=  15.7s\n",
      "[CV] END C=1, class_weight=balanced, max_iter=200, penalty=l1, solver=liblinear; total time=   0.2s\n",
      "[CV] END C=1, class_weight=balanced, max_iter=200, penalty=l1, solver=liblinear; total time=   0.2s\n",
      "[CV] END C=1, class_weight=balanced, max_iter=200, penalty=l1, solver=liblinear; total time=   0.2s\n",
      "[CV] END C=1, class_weight=balanced, max_iter=200, penalty=l1, solver=liblinear; total time=   0.2s\n",
      "[CV] END C=1, class_weight=balanced, max_iter=200, penalty=l1, solver=liblinear; total time=   0.2s\n"
     ]
    },
    {
     "name": "stderr",
     "output_type": "stream",
     "text": [
      "C:\\Users\\myousaf23\\anaconda3\\Lib\\site-packages\\sklearn\\linear_model\\_sag.py:349: ConvergenceWarning: The max_iter was reached which means the coef_ did not converge\n",
      "  warnings.warn(\n"
     ]
    },
    {
     "name": "stdout",
     "output_type": "stream",
     "text": [
      "[CV] END C=1, class_weight=balanced, max_iter=200, penalty=l1, solver=saga; total time=  20.7s\n"
     ]
    },
    {
     "name": "stderr",
     "output_type": "stream",
     "text": [
      "C:\\Users\\myousaf23\\anaconda3\\Lib\\site-packages\\sklearn\\linear_model\\_sag.py:349: ConvergenceWarning: The max_iter was reached which means the coef_ did not converge\n",
      "  warnings.warn(\n"
     ]
    },
    {
     "name": "stdout",
     "output_type": "stream",
     "text": [
      "[CV] END C=1, class_weight=balanced, max_iter=200, penalty=l1, solver=saga; total time=  17.4s\n"
     ]
    },
    {
     "name": "stderr",
     "output_type": "stream",
     "text": [
      "C:\\Users\\myousaf23\\anaconda3\\Lib\\site-packages\\sklearn\\linear_model\\_sag.py:349: ConvergenceWarning: The max_iter was reached which means the coef_ did not converge\n",
      "  warnings.warn(\n"
     ]
    },
    {
     "name": "stdout",
     "output_type": "stream",
     "text": [
      "[CV] END C=1, class_weight=balanced, max_iter=200, penalty=l1, solver=saga; total time=  20.8s\n"
     ]
    },
    {
     "name": "stderr",
     "output_type": "stream",
     "text": [
      "C:\\Users\\myousaf23\\anaconda3\\Lib\\site-packages\\sklearn\\linear_model\\_sag.py:349: ConvergenceWarning: The max_iter was reached which means the coef_ did not converge\n",
      "  warnings.warn(\n"
     ]
    },
    {
     "name": "stdout",
     "output_type": "stream",
     "text": [
      "[CV] END C=1, class_weight=balanced, max_iter=200, penalty=l1, solver=saga; total time=  17.1s\n"
     ]
    },
    {
     "name": "stderr",
     "output_type": "stream",
     "text": [
      "C:\\Users\\myousaf23\\anaconda3\\Lib\\site-packages\\sklearn\\linear_model\\_sag.py:349: ConvergenceWarning: The max_iter was reached which means the coef_ did not converge\n",
      "  warnings.warn(\n"
     ]
    },
    {
     "name": "stdout",
     "output_type": "stream",
     "text": [
      "[CV] END C=1, class_weight=balanced, max_iter=200, penalty=l1, solver=saga; total time=  19.7s\n",
      "[CV] END C=1, class_weight=balanced, max_iter=500, penalty=l2, solver=liblinear; total time=   0.2s\n",
      "[CV] END C=1, class_weight=balanced, max_iter=500, penalty=l2, solver=liblinear; total time=   0.2s\n",
      "[CV] END C=1, class_weight=balanced, max_iter=500, penalty=l2, solver=liblinear; total time=   0.2s\n",
      "[CV] END C=1, class_weight=balanced, max_iter=500, penalty=l2, solver=liblinear; total time=   0.2s\n",
      "[CV] END C=1, class_weight=balanced, max_iter=500, penalty=l2, solver=liblinear; total time=   0.2s\n",
      "[CV] END C=1, class_weight=balanced, max_iter=500, penalty=l2, solver=saga; total time=  21.1s\n",
      "[CV] END C=1, class_weight=balanced, max_iter=500, penalty=l2, solver=saga; total time=  18.5s\n",
      "[CV] END C=1, class_weight=balanced, max_iter=500, penalty=l2, solver=saga; total time=  21.8s\n",
      "[CV] END C=1, class_weight=balanced, max_iter=500, penalty=l2, solver=saga; total time=  18.5s\n",
      "[CV] END C=1, class_weight=balanced, max_iter=500, penalty=l2, solver=saga; total time=  19.0s\n",
      "[CV] END C=1, class_weight=balanced, max_iter=500, penalty=l1, solver=liblinear; total time=   0.2s\n",
      "[CV] END C=1, class_weight=balanced, max_iter=500, penalty=l1, solver=liblinear; total time=   0.2s\n",
      "[CV] END C=1, class_weight=balanced, max_iter=500, penalty=l1, solver=liblinear; total time=   0.2s\n",
      "[CV] END C=1, class_weight=balanced, max_iter=500, penalty=l1, solver=liblinear; total time=   0.2s\n",
      "[CV] END C=1, class_weight=balanced, max_iter=500, penalty=l1, solver=liblinear; total time=   0.2s\n"
     ]
    },
    {
     "name": "stderr",
     "output_type": "stream",
     "text": [
      "C:\\Users\\myousaf23\\anaconda3\\Lib\\site-packages\\sklearn\\linear_model\\_sag.py:349: ConvergenceWarning: The max_iter was reached which means the coef_ did not converge\n",
      "  warnings.warn(\n"
     ]
    },
    {
     "name": "stdout",
     "output_type": "stream",
     "text": [
      "[CV] END C=1, class_weight=balanced, max_iter=500, penalty=l1, solver=saga; total time=  47.2s\n"
     ]
    },
    {
     "name": "stderr",
     "output_type": "stream",
     "text": [
      "C:\\Users\\myousaf23\\anaconda3\\Lib\\site-packages\\sklearn\\linear_model\\_sag.py:349: ConvergenceWarning: The max_iter was reached which means the coef_ did not converge\n",
      "  warnings.warn(\n"
     ]
    },
    {
     "name": "stdout",
     "output_type": "stream",
     "text": [
      "[CV] END C=1, class_weight=balanced, max_iter=500, penalty=l1, solver=saga; total time=  47.4s\n"
     ]
    },
    {
     "name": "stderr",
     "output_type": "stream",
     "text": [
      "C:\\Users\\myousaf23\\anaconda3\\Lib\\site-packages\\sklearn\\linear_model\\_sag.py:349: ConvergenceWarning: The max_iter was reached which means the coef_ did not converge\n",
      "  warnings.warn(\n"
     ]
    },
    {
     "name": "stdout",
     "output_type": "stream",
     "text": [
      "[CV] END C=1, class_weight=balanced, max_iter=500, penalty=l1, solver=saga; total time=  47.6s\n"
     ]
    },
    {
     "name": "stderr",
     "output_type": "stream",
     "text": [
      "C:\\Users\\myousaf23\\anaconda3\\Lib\\site-packages\\sklearn\\linear_model\\_sag.py:349: ConvergenceWarning: The max_iter was reached which means the coef_ did not converge\n",
      "  warnings.warn(\n"
     ]
    },
    {
     "name": "stdout",
     "output_type": "stream",
     "text": [
      "[CV] END C=1, class_weight=balanced, max_iter=500, penalty=l1, solver=saga; total time=  47.2s\n"
     ]
    },
    {
     "name": "stderr",
     "output_type": "stream",
     "text": [
      "C:\\Users\\myousaf23\\anaconda3\\Lib\\site-packages\\sklearn\\linear_model\\_sag.py:349: ConvergenceWarning: The max_iter was reached which means the coef_ did not converge\n",
      "  warnings.warn(\n"
     ]
    },
    {
     "name": "stdout",
     "output_type": "stream",
     "text": [
      "[CV] END C=1, class_weight=balanced, max_iter=500, penalty=l1, solver=saga; total time=  47.9s\n",
      "[CV] END C=1, class_weight=balanced, max_iter=700, penalty=l2, solver=liblinear; total time=   0.2s\n",
      "[CV] END C=1, class_weight=balanced, max_iter=700, penalty=l2, solver=liblinear; total time=   0.2s\n",
      "[CV] END C=1, class_weight=balanced, max_iter=700, penalty=l2, solver=liblinear; total time=   0.2s\n",
      "[CV] END C=1, class_weight=balanced, max_iter=700, penalty=l2, solver=liblinear; total time=   0.2s\n",
      "[CV] END C=1, class_weight=balanced, max_iter=700, penalty=l2, solver=liblinear; total time=   0.2s\n",
      "[CV] END C=1, class_weight=balanced, max_iter=700, penalty=l2, solver=saga; total time=  20.8s\n",
      "[CV] END C=1, class_weight=balanced, max_iter=700, penalty=l2, solver=saga; total time=  22.2s\n",
      "[CV] END C=1, class_weight=balanced, max_iter=700, penalty=l2, solver=saga; total time=  18.3s\n",
      "[CV] END C=1, class_weight=balanced, max_iter=700, penalty=l2, solver=saga; total time=  21.9s\n",
      "[CV] END C=1, class_weight=balanced, max_iter=700, penalty=l2, solver=saga; total time=  15.3s\n",
      "[CV] END C=1, class_weight=balanced, max_iter=700, penalty=l1, solver=liblinear; total time=   0.2s\n",
      "[CV] END C=1, class_weight=balanced, max_iter=700, penalty=l1, solver=liblinear; total time=   0.2s\n",
      "[CV] END C=1, class_weight=balanced, max_iter=700, penalty=l1, solver=liblinear; total time=   0.2s\n",
      "[CV] END C=1, class_weight=balanced, max_iter=700, penalty=l1, solver=liblinear; total time=   0.2s\n",
      "[CV] END C=1, class_weight=balanced, max_iter=700, penalty=l1, solver=liblinear; total time=   0.2s\n"
     ]
    },
    {
     "name": "stderr",
     "output_type": "stream",
     "text": [
      "C:\\Users\\myousaf23\\anaconda3\\Lib\\site-packages\\sklearn\\linear_model\\_sag.py:349: ConvergenceWarning: The max_iter was reached which means the coef_ did not converge\n",
      "  warnings.warn(\n"
     ]
    },
    {
     "name": "stdout",
     "output_type": "stream",
     "text": [
      "[CV] END C=1, class_weight=balanced, max_iter=700, penalty=l1, solver=saga; total time=  51.6s\n"
     ]
    },
    {
     "name": "stderr",
     "output_type": "stream",
     "text": [
      "C:\\Users\\myousaf23\\anaconda3\\Lib\\site-packages\\sklearn\\linear_model\\_sag.py:349: ConvergenceWarning: The max_iter was reached which means the coef_ did not converge\n",
      "  warnings.warn(\n"
     ]
    },
    {
     "name": "stdout",
     "output_type": "stream",
     "text": [
      "[CV] END C=1, class_weight=balanced, max_iter=700, penalty=l1, solver=saga; total time=  52.5s\n"
     ]
    },
    {
     "name": "stderr",
     "output_type": "stream",
     "text": [
      "C:\\Users\\myousaf23\\anaconda3\\Lib\\site-packages\\sklearn\\linear_model\\_sag.py:349: ConvergenceWarning: The max_iter was reached which means the coef_ did not converge\n",
      "  warnings.warn(\n"
     ]
    },
    {
     "name": "stdout",
     "output_type": "stream",
     "text": [
      "[CV] END C=1, class_weight=balanced, max_iter=700, penalty=l1, solver=saga; total time=  52.0s\n"
     ]
    },
    {
     "name": "stderr",
     "output_type": "stream",
     "text": [
      "C:\\Users\\myousaf23\\anaconda3\\Lib\\site-packages\\sklearn\\linear_model\\_sag.py:349: ConvergenceWarning: The max_iter was reached which means the coef_ did not converge\n",
      "  warnings.warn(\n"
     ]
    },
    {
     "name": "stdout",
     "output_type": "stream",
     "text": [
      "[CV] END C=1, class_weight=balanced, max_iter=700, penalty=l1, solver=saga; total time=  56.3s\n"
     ]
    },
    {
     "name": "stderr",
     "output_type": "stream",
     "text": [
      "C:\\Users\\myousaf23\\anaconda3\\Lib\\site-packages\\sklearn\\linear_model\\_sag.py:349: ConvergenceWarning: The max_iter was reached which means the coef_ did not converge\n",
      "  warnings.warn(\n"
     ]
    },
    {
     "name": "stdout",
     "output_type": "stream",
     "text": [
      "[CV] END C=1, class_weight=balanced, max_iter=700, penalty=l1, solver=saga; total time=  56.5s\n",
      "[CV] END C=1, class_weight=balanced, max_iter=1000, penalty=l2, solver=liblinear; total time=   0.1s\n",
      "[CV] END C=1, class_weight=balanced, max_iter=1000, penalty=l2, solver=liblinear; total time=   0.1s\n",
      "[CV] END C=1, class_weight=balanced, max_iter=1000, penalty=l2, solver=liblinear; total time=   0.2s\n",
      "[CV] END C=1, class_weight=balanced, max_iter=1000, penalty=l2, solver=liblinear; total time=   0.2s\n",
      "[CV] END C=1, class_weight=balanced, max_iter=1000, penalty=l2, solver=liblinear; total time=   0.2s\n",
      "[CV] END C=1, class_weight=balanced, max_iter=1000, penalty=l2, solver=saga; total time=  17.8s\n",
      "[CV] END C=1, class_weight=balanced, max_iter=1000, penalty=l2, solver=saga; total time=  19.0s\n",
      "[CV] END C=1, class_weight=balanced, max_iter=1000, penalty=l2, solver=saga; total time=  17.9s\n",
      "[CV] END C=1, class_weight=balanced, max_iter=1000, penalty=l2, solver=saga; total time=  16.8s\n",
      "[CV] END C=1, class_weight=balanced, max_iter=1000, penalty=l2, solver=saga; total time=  15.4s\n",
      "[CV] END C=1, class_weight=balanced, max_iter=1000, penalty=l1, solver=liblinear; total time=   0.1s\n",
      "[CV] END C=1, class_weight=balanced, max_iter=1000, penalty=l1, solver=liblinear; total time=   0.1s\n",
      "[CV] END C=1, class_weight=balanced, max_iter=1000, penalty=l1, solver=liblinear; total time=   0.1s\n",
      "[CV] END C=1, class_weight=balanced, max_iter=1000, penalty=l1, solver=liblinear; total time=   0.1s\n",
      "[CV] END C=1, class_weight=balanced, max_iter=1000, penalty=l1, solver=liblinear; total time=   0.1s\n"
     ]
    },
    {
     "name": "stderr",
     "output_type": "stream",
     "text": [
      "C:\\Users\\myousaf23\\anaconda3\\Lib\\site-packages\\sklearn\\linear_model\\_sag.py:349: ConvergenceWarning: The max_iter was reached which means the coef_ did not converge\n",
      "  warnings.warn(\n"
     ]
    },
    {
     "name": "stdout",
     "output_type": "stream",
     "text": [
      "[CV] END C=1, class_weight=balanced, max_iter=1000, penalty=l1, solver=saga; total time= 1.5min\n"
     ]
    },
    {
     "name": "stderr",
     "output_type": "stream",
     "text": [
      "C:\\Users\\myousaf23\\anaconda3\\Lib\\site-packages\\sklearn\\linear_model\\_sag.py:349: ConvergenceWarning: The max_iter was reached which means the coef_ did not converge\n",
      "  warnings.warn(\n"
     ]
    },
    {
     "name": "stdout",
     "output_type": "stream",
     "text": [
      "[CV] END C=1, class_weight=balanced, max_iter=1000, penalty=l1, solver=saga; total time= 1.5min\n"
     ]
    },
    {
     "name": "stderr",
     "output_type": "stream",
     "text": [
      "C:\\Users\\myousaf23\\anaconda3\\Lib\\site-packages\\sklearn\\linear_model\\_sag.py:349: ConvergenceWarning: The max_iter was reached which means the coef_ did not converge\n",
      "  warnings.warn(\n"
     ]
    },
    {
     "name": "stdout",
     "output_type": "stream",
     "text": [
      "[CV] END C=1, class_weight=balanced, max_iter=1000, penalty=l1, solver=saga; total time= 1.5min\n"
     ]
    },
    {
     "name": "stderr",
     "output_type": "stream",
     "text": [
      "C:\\Users\\myousaf23\\anaconda3\\Lib\\site-packages\\sklearn\\linear_model\\_sag.py:349: ConvergenceWarning: The max_iter was reached which means the coef_ did not converge\n",
      "  warnings.warn(\n"
     ]
    },
    {
     "name": "stdout",
     "output_type": "stream",
     "text": [
      "[CV] END C=1, class_weight=balanced, max_iter=1000, penalty=l1, solver=saga; total time= 1.5min\n",
      "[CV] END C=1, class_weight=balanced, max_iter=1000, penalty=l1, solver=saga; total time= 1.5min\n",
      "[CV] END C=10, class_weight=None, max_iter=100, penalty=l2, solver=liblinear; total time=   0.2s\n",
      "[CV] END C=10, class_weight=None, max_iter=100, penalty=l2, solver=liblinear; total time=   0.2s\n",
      "[CV] END C=10, class_weight=None, max_iter=100, penalty=l2, solver=liblinear; total time=   0.2s\n",
      "[CV] END C=10, class_weight=None, max_iter=100, penalty=l2, solver=liblinear; total time=   0.2s\n",
      "[CV] END C=10, class_weight=None, max_iter=100, penalty=l2, solver=liblinear; total time=   0.2s\n"
     ]
    },
    {
     "name": "stderr",
     "output_type": "stream",
     "text": [
      "C:\\Users\\myousaf23\\anaconda3\\Lib\\site-packages\\sklearn\\linear_model\\_sag.py:349: ConvergenceWarning: The max_iter was reached which means the coef_ did not converge\n",
      "  warnings.warn(\n"
     ]
    },
    {
     "name": "stdout",
     "output_type": "stream",
     "text": [
      "[CV] END C=10, class_weight=None, max_iter=100, penalty=l2, solver=saga; total time=   8.1s\n"
     ]
    },
    {
     "name": "stderr",
     "output_type": "stream",
     "text": [
      "C:\\Users\\myousaf23\\anaconda3\\Lib\\site-packages\\sklearn\\linear_model\\_sag.py:349: ConvergenceWarning: The max_iter was reached which means the coef_ did not converge\n",
      "  warnings.warn(\n"
     ]
    },
    {
     "name": "stdout",
     "output_type": "stream",
     "text": [
      "[CV] END C=10, class_weight=None, max_iter=100, penalty=l2, solver=saga; total time=   7.4s\n"
     ]
    },
    {
     "name": "stderr",
     "output_type": "stream",
     "text": [
      "C:\\Users\\myousaf23\\anaconda3\\Lib\\site-packages\\sklearn\\linear_model\\_sag.py:349: ConvergenceWarning: The max_iter was reached which means the coef_ did not converge\n",
      "  warnings.warn(\n"
     ]
    },
    {
     "name": "stdout",
     "output_type": "stream",
     "text": [
      "[CV] END C=10, class_weight=None, max_iter=100, penalty=l2, solver=saga; total time=   5.3s\n"
     ]
    },
    {
     "name": "stderr",
     "output_type": "stream",
     "text": [
      "C:\\Users\\myousaf23\\anaconda3\\Lib\\site-packages\\sklearn\\linear_model\\_sag.py:349: ConvergenceWarning: The max_iter was reached which means the coef_ did not converge\n",
      "  warnings.warn(\n"
     ]
    },
    {
     "name": "stdout",
     "output_type": "stream",
     "text": [
      "[CV] END C=10, class_weight=None, max_iter=100, penalty=l2, solver=saga; total time=   8.1s\n"
     ]
    },
    {
     "name": "stderr",
     "output_type": "stream",
     "text": [
      "C:\\Users\\myousaf23\\anaconda3\\Lib\\site-packages\\sklearn\\linear_model\\_sag.py:349: ConvergenceWarning: The max_iter was reached which means the coef_ did not converge\n",
      "  warnings.warn(\n"
     ]
    },
    {
     "name": "stdout",
     "output_type": "stream",
     "text": [
      "[CV] END C=10, class_weight=None, max_iter=100, penalty=l2, solver=saga; total time=   8.0s\n",
      "[CV] END C=10, class_weight=None, max_iter=100, penalty=l1, solver=liblinear; total time=   0.2s\n",
      "[CV] END C=10, class_weight=None, max_iter=100, penalty=l1, solver=liblinear; total time=   0.3s\n",
      "[CV] END C=10, class_weight=None, max_iter=100, penalty=l1, solver=liblinear; total time=   0.2s\n",
      "[CV] END C=10, class_weight=None, max_iter=100, penalty=l1, solver=liblinear; total time=   0.2s\n",
      "[CV] END C=10, class_weight=None, max_iter=100, penalty=l1, solver=liblinear; total time=   0.2s\n"
     ]
    },
    {
     "name": "stderr",
     "output_type": "stream",
     "text": [
      "C:\\Users\\myousaf23\\anaconda3\\Lib\\site-packages\\sklearn\\linear_model\\_sag.py:349: ConvergenceWarning: The max_iter was reached which means the coef_ did not converge\n",
      "  warnings.warn(\n"
     ]
    },
    {
     "name": "stdout",
     "output_type": "stream",
     "text": [
      "[CV] END C=10, class_weight=None, max_iter=100, penalty=l1, solver=saga; total time=  11.9s\n"
     ]
    },
    {
     "name": "stderr",
     "output_type": "stream",
     "text": [
      "C:\\Users\\myousaf23\\anaconda3\\Lib\\site-packages\\sklearn\\linear_model\\_sag.py:349: ConvergenceWarning: The max_iter was reached which means the coef_ did not converge\n",
      "  warnings.warn(\n"
     ]
    },
    {
     "name": "stdout",
     "output_type": "stream",
     "text": [
      "[CV] END C=10, class_weight=None, max_iter=100, penalty=l1, solver=saga; total time=  12.2s\n"
     ]
    },
    {
     "name": "stderr",
     "output_type": "stream",
     "text": [
      "C:\\Users\\myousaf23\\anaconda3\\Lib\\site-packages\\sklearn\\linear_model\\_sag.py:349: ConvergenceWarning: The max_iter was reached which means the coef_ did not converge\n",
      "  warnings.warn(\n"
     ]
    },
    {
     "name": "stdout",
     "output_type": "stream",
     "text": [
      "[CV] END C=10, class_weight=None, max_iter=100, penalty=l1, solver=saga; total time=  13.4s\n"
     ]
    },
    {
     "name": "stderr",
     "output_type": "stream",
     "text": [
      "C:\\Users\\myousaf23\\anaconda3\\Lib\\site-packages\\sklearn\\linear_model\\_sag.py:349: ConvergenceWarning: The max_iter was reached which means the coef_ did not converge\n",
      "  warnings.warn(\n"
     ]
    },
    {
     "name": "stdout",
     "output_type": "stream",
     "text": [
      "[CV] END C=10, class_weight=None, max_iter=100, penalty=l1, solver=saga; total time=  10.6s\n"
     ]
    },
    {
     "name": "stderr",
     "output_type": "stream",
     "text": [
      "C:\\Users\\myousaf23\\anaconda3\\Lib\\site-packages\\sklearn\\linear_model\\_sag.py:349: ConvergenceWarning: The max_iter was reached which means the coef_ did not converge\n",
      "  warnings.warn(\n"
     ]
    },
    {
     "name": "stdout",
     "output_type": "stream",
     "text": [
      "[CV] END C=10, class_weight=None, max_iter=100, penalty=l1, solver=saga; total time=  13.3s\n",
      "[CV] END C=10, class_weight=None, max_iter=200, penalty=l2, solver=liblinear; total time=   0.2s\n",
      "[CV] END C=10, class_weight=None, max_iter=200, penalty=l2, solver=liblinear; total time=   0.2s\n",
      "[CV] END C=10, class_weight=None, max_iter=200, penalty=l2, solver=liblinear; total time=   0.2s\n",
      "[CV] END C=10, class_weight=None, max_iter=200, penalty=l2, solver=liblinear; total time=   0.2s\n",
      "[CV] END C=10, class_weight=None, max_iter=200, penalty=l2, solver=liblinear; total time=   0.2s\n"
     ]
    },
    {
     "name": "stderr",
     "output_type": "stream",
     "text": [
      "C:\\Users\\myousaf23\\anaconda3\\Lib\\site-packages\\sklearn\\linear_model\\_sag.py:349: ConvergenceWarning: The max_iter was reached which means the coef_ did not converge\n",
      "  warnings.warn(\n"
     ]
    },
    {
     "name": "stdout",
     "output_type": "stream",
     "text": [
      "[CV] END C=10, class_weight=None, max_iter=200, penalty=l2, solver=saga; total time=  14.9s\n"
     ]
    },
    {
     "name": "stderr",
     "output_type": "stream",
     "text": [
      "C:\\Users\\myousaf23\\anaconda3\\Lib\\site-packages\\sklearn\\linear_model\\_sag.py:349: ConvergenceWarning: The max_iter was reached which means the coef_ did not converge\n",
      "  warnings.warn(\n"
     ]
    },
    {
     "name": "stdout",
     "output_type": "stream",
     "text": [
      "[CV] END C=10, class_weight=None, max_iter=200, penalty=l2, solver=saga; total time=  13.2s\n"
     ]
    },
    {
     "name": "stderr",
     "output_type": "stream",
     "text": [
      "C:\\Users\\myousaf23\\anaconda3\\Lib\\site-packages\\sklearn\\linear_model\\_sag.py:349: ConvergenceWarning: The max_iter was reached which means the coef_ did not converge\n",
      "  warnings.warn(\n"
     ]
    },
    {
     "name": "stdout",
     "output_type": "stream",
     "text": [
      "[CV] END C=10, class_weight=None, max_iter=200, penalty=l2, solver=saga; total time=  15.5s\n"
     ]
    },
    {
     "name": "stderr",
     "output_type": "stream",
     "text": [
      "C:\\Users\\myousaf23\\anaconda3\\Lib\\site-packages\\sklearn\\linear_model\\_sag.py:349: ConvergenceWarning: The max_iter was reached which means the coef_ did not converge\n",
      "  warnings.warn(\n"
     ]
    },
    {
     "name": "stdout",
     "output_type": "stream",
     "text": [
      "[CV] END C=10, class_weight=None, max_iter=200, penalty=l2, solver=saga; total time=  12.2s\n"
     ]
    },
    {
     "name": "stderr",
     "output_type": "stream",
     "text": [
      "C:\\Users\\myousaf23\\anaconda3\\Lib\\site-packages\\sklearn\\linear_model\\_sag.py:349: ConvergenceWarning: The max_iter was reached which means the coef_ did not converge\n",
      "  warnings.warn(\n"
     ]
    },
    {
     "name": "stdout",
     "output_type": "stream",
     "text": [
      "[CV] END C=10, class_weight=None, max_iter=200, penalty=l2, solver=saga; total time=  15.9s\n",
      "[CV] END C=10, class_weight=None, max_iter=200, penalty=l1, solver=liblinear; total time=   0.2s\n",
      "[CV] END C=10, class_weight=None, max_iter=200, penalty=l1, solver=liblinear; total time=   0.2s\n",
      "[CV] END C=10, class_weight=None, max_iter=200, penalty=l1, solver=liblinear; total time=   0.2s\n",
      "[CV] END C=10, class_weight=None, max_iter=200, penalty=l1, solver=liblinear; total time=   0.2s\n",
      "[CV] END C=10, class_weight=None, max_iter=200, penalty=l1, solver=liblinear; total time=   0.2s\n"
     ]
    },
    {
     "name": "stderr",
     "output_type": "stream",
     "text": [
      "C:\\Users\\myousaf23\\anaconda3\\Lib\\site-packages\\sklearn\\linear_model\\_sag.py:349: ConvergenceWarning: The max_iter was reached which means the coef_ did not converge\n",
      "  warnings.warn(\n"
     ]
    },
    {
     "name": "stdout",
     "output_type": "stream",
     "text": [
      "[CV] END C=10, class_weight=None, max_iter=200, penalty=l1, solver=saga; total time=  22.2s\n"
     ]
    },
    {
     "name": "stderr",
     "output_type": "stream",
     "text": [
      "C:\\Users\\myousaf23\\anaconda3\\Lib\\site-packages\\sklearn\\linear_model\\_sag.py:349: ConvergenceWarning: The max_iter was reached which means the coef_ did not converge\n",
      "  warnings.warn(\n"
     ]
    },
    {
     "name": "stdout",
     "output_type": "stream",
     "text": [
      "[CV] END C=10, class_weight=None, max_iter=200, penalty=l1, solver=saga; total time=  23.5s\n"
     ]
    },
    {
     "name": "stderr",
     "output_type": "stream",
     "text": [
      "C:\\Users\\myousaf23\\anaconda3\\Lib\\site-packages\\sklearn\\linear_model\\_sag.py:349: ConvergenceWarning: The max_iter was reached which means the coef_ did not converge\n",
      "  warnings.warn(\n"
     ]
    },
    {
     "name": "stdout",
     "output_type": "stream",
     "text": [
      "[CV] END C=10, class_weight=None, max_iter=200, penalty=l1, solver=saga; total time=  24.1s\n"
     ]
    },
    {
     "name": "stderr",
     "output_type": "stream",
     "text": [
      "C:\\Users\\myousaf23\\anaconda3\\Lib\\site-packages\\sklearn\\linear_model\\_sag.py:349: ConvergenceWarning: The max_iter was reached which means the coef_ did not converge\n",
      "  warnings.warn(\n"
     ]
    },
    {
     "name": "stdout",
     "output_type": "stream",
     "text": [
      "[CV] END C=10, class_weight=None, max_iter=200, penalty=l1, solver=saga; total time=  22.2s\n"
     ]
    },
    {
     "name": "stderr",
     "output_type": "stream",
     "text": [
      "C:\\Users\\myousaf23\\anaconda3\\Lib\\site-packages\\sklearn\\linear_model\\_sag.py:349: ConvergenceWarning: The max_iter was reached which means the coef_ did not converge\n",
      "  warnings.warn(\n"
     ]
    },
    {
     "name": "stdout",
     "output_type": "stream",
     "text": [
      "[CV] END C=10, class_weight=None, max_iter=200, penalty=l1, solver=saga; total time=  22.7s\n",
      "[CV] END C=10, class_weight=None, max_iter=500, penalty=l2, solver=liblinear; total time=   0.1s\n",
      "[CV] END C=10, class_weight=None, max_iter=500, penalty=l2, solver=liblinear; total time=   0.1s\n",
      "[CV] END C=10, class_weight=None, max_iter=500, penalty=l2, solver=liblinear; total time=   0.1s\n",
      "[CV] END C=10, class_weight=None, max_iter=500, penalty=l2, solver=liblinear; total time=   0.2s\n",
      "[CV] END C=10, class_weight=None, max_iter=500, penalty=l2, solver=liblinear; total time=   0.1s\n"
     ]
    },
    {
     "name": "stderr",
     "output_type": "stream",
     "text": [
      "C:\\Users\\myousaf23\\anaconda3\\Lib\\site-packages\\sklearn\\linear_model\\_sag.py:349: ConvergenceWarning: The max_iter was reached which means the coef_ did not converge\n",
      "  warnings.warn(\n"
     ]
    },
    {
     "name": "stdout",
     "output_type": "stream",
     "text": [
      "[CV] END C=10, class_weight=None, max_iter=500, penalty=l2, solver=saga; total time=  35.5s\n"
     ]
    },
    {
     "name": "stderr",
     "output_type": "stream",
     "text": [
      "C:\\Users\\myousaf23\\anaconda3\\Lib\\site-packages\\sklearn\\linear_model\\_sag.py:349: ConvergenceWarning: The max_iter was reached which means the coef_ did not converge\n",
      "  warnings.warn(\n"
     ]
    },
    {
     "name": "stdout",
     "output_type": "stream",
     "text": [
      "[CV] END C=10, class_weight=None, max_iter=500, penalty=l2, solver=saga; total time=  35.0s\n"
     ]
    },
    {
     "name": "stderr",
     "output_type": "stream",
     "text": [
      "C:\\Users\\myousaf23\\anaconda3\\Lib\\site-packages\\sklearn\\linear_model\\_sag.py:349: ConvergenceWarning: The max_iter was reached which means the coef_ did not converge\n",
      "  warnings.warn(\n"
     ]
    },
    {
     "name": "stdout",
     "output_type": "stream",
     "text": [
      "[CV] END C=10, class_weight=None, max_iter=500, penalty=l2, solver=saga; total time=  35.8s\n"
     ]
    },
    {
     "name": "stderr",
     "output_type": "stream",
     "text": [
      "C:\\Users\\myousaf23\\anaconda3\\Lib\\site-packages\\sklearn\\linear_model\\_sag.py:349: ConvergenceWarning: The max_iter was reached which means the coef_ did not converge\n",
      "  warnings.warn(\n"
     ]
    },
    {
     "name": "stdout",
     "output_type": "stream",
     "text": [
      "[CV] END C=10, class_weight=None, max_iter=500, penalty=l2, solver=saga; total time=  35.9s\n"
     ]
    },
    {
     "name": "stderr",
     "output_type": "stream",
     "text": [
      "C:\\Users\\myousaf23\\anaconda3\\Lib\\site-packages\\sklearn\\linear_model\\_sag.py:349: ConvergenceWarning: The max_iter was reached which means the coef_ did not converge\n",
      "  warnings.warn(\n"
     ]
    },
    {
     "name": "stdout",
     "output_type": "stream",
     "text": [
      "[CV] END C=10, class_weight=None, max_iter=500, penalty=l2, solver=saga; total time=  36.4s\n",
      "[CV] END C=10, class_weight=None, max_iter=500, penalty=l1, solver=liblinear; total time=   0.2s\n",
      "[CV] END C=10, class_weight=None, max_iter=500, penalty=l1, solver=liblinear; total time=   0.3s\n",
      "[CV] END C=10, class_weight=None, max_iter=500, penalty=l1, solver=liblinear; total time=   0.3s\n",
      "[CV] END C=10, class_weight=None, max_iter=500, penalty=l1, solver=liblinear; total time=   0.2s\n",
      "[CV] END C=10, class_weight=None, max_iter=500, penalty=l1, solver=liblinear; total time=   0.2s\n"
     ]
    },
    {
     "name": "stderr",
     "output_type": "stream",
     "text": [
      "C:\\Users\\myousaf23\\anaconda3\\Lib\\site-packages\\sklearn\\linear_model\\_sag.py:349: ConvergenceWarning: The max_iter was reached which means the coef_ did not converge\n",
      "  warnings.warn(\n"
     ]
    },
    {
     "name": "stdout",
     "output_type": "stream",
     "text": [
      "[CV] END C=10, class_weight=None, max_iter=500, penalty=l1, solver=saga; total time=  54.4s\n"
     ]
    },
    {
     "name": "stderr",
     "output_type": "stream",
     "text": [
      "C:\\Users\\myousaf23\\anaconda3\\Lib\\site-packages\\sklearn\\linear_model\\_sag.py:349: ConvergenceWarning: The max_iter was reached which means the coef_ did not converge\n",
      "  warnings.warn(\n"
     ]
    },
    {
     "name": "stdout",
     "output_type": "stream",
     "text": [
      "[CV] END C=10, class_weight=None, max_iter=500, penalty=l1, solver=saga; total time=  54.5s\n"
     ]
    },
    {
     "name": "stderr",
     "output_type": "stream",
     "text": [
      "C:\\Users\\myousaf23\\anaconda3\\Lib\\site-packages\\sklearn\\linear_model\\_sag.py:349: ConvergenceWarning: The max_iter was reached which means the coef_ did not converge\n",
      "  warnings.warn(\n"
     ]
    },
    {
     "name": "stdout",
     "output_type": "stream",
     "text": [
      "[CV] END C=10, class_weight=None, max_iter=500, penalty=l1, solver=saga; total time=  53.5s\n"
     ]
    },
    {
     "name": "stderr",
     "output_type": "stream",
     "text": [
      "C:\\Users\\myousaf23\\anaconda3\\Lib\\site-packages\\sklearn\\linear_model\\_sag.py:349: ConvergenceWarning: The max_iter was reached which means the coef_ did not converge\n",
      "  warnings.warn(\n"
     ]
    },
    {
     "name": "stdout",
     "output_type": "stream",
     "text": [
      "[CV] END C=10, class_weight=None, max_iter=500, penalty=l1, solver=saga; total time=  51.4s\n"
     ]
    },
    {
     "name": "stderr",
     "output_type": "stream",
     "text": [
      "C:\\Users\\myousaf23\\anaconda3\\Lib\\site-packages\\sklearn\\linear_model\\_sag.py:349: ConvergenceWarning: The max_iter was reached which means the coef_ did not converge\n",
      "  warnings.warn(\n"
     ]
    },
    {
     "name": "stdout",
     "output_type": "stream",
     "text": [
      "[CV] END C=10, class_weight=None, max_iter=500, penalty=l1, solver=saga; total time=  54.0s\n",
      "[CV] END C=10, class_weight=None, max_iter=700, penalty=l2, solver=liblinear; total time=   0.2s\n",
      "[CV] END C=10, class_weight=None, max_iter=700, penalty=l2, solver=liblinear; total time=   0.2s\n",
      "[CV] END C=10, class_weight=None, max_iter=700, penalty=l2, solver=liblinear; total time=   0.2s\n",
      "[CV] END C=10, class_weight=None, max_iter=700, penalty=l2, solver=liblinear; total time=   0.2s\n",
      "[CV] END C=10, class_weight=None, max_iter=700, penalty=l2, solver=liblinear; total time=   0.2s\n"
     ]
    },
    {
     "name": "stderr",
     "output_type": "stream",
     "text": [
      "C:\\Users\\myousaf23\\anaconda3\\Lib\\site-packages\\sklearn\\linear_model\\_sag.py:349: ConvergenceWarning: The max_iter was reached which means the coef_ did not converge\n",
      "  warnings.warn(\n"
     ]
    },
    {
     "name": "stdout",
     "output_type": "stream",
     "text": [
      "[CV] END C=10, class_weight=None, max_iter=700, penalty=l2, solver=saga; total time=  50.7s\n"
     ]
    },
    {
     "name": "stderr",
     "output_type": "stream",
     "text": [
      "C:\\Users\\myousaf23\\anaconda3\\Lib\\site-packages\\sklearn\\linear_model\\_sag.py:349: ConvergenceWarning: The max_iter was reached which means the coef_ did not converge\n",
      "  warnings.warn(\n"
     ]
    },
    {
     "name": "stdout",
     "output_type": "stream",
     "text": [
      "[CV] END C=10, class_weight=None, max_iter=700, penalty=l2, solver=saga; total time=  50.8s\n"
     ]
    },
    {
     "name": "stderr",
     "output_type": "stream",
     "text": [
      "C:\\Users\\myousaf23\\anaconda3\\Lib\\site-packages\\sklearn\\linear_model\\_sag.py:349: ConvergenceWarning: The max_iter was reached which means the coef_ did not converge\n",
      "  warnings.warn(\n"
     ]
    },
    {
     "name": "stdout",
     "output_type": "stream",
     "text": [
      "[CV] END C=10, class_weight=None, max_iter=700, penalty=l2, solver=saga; total time=  51.3s\n"
     ]
    },
    {
     "name": "stderr",
     "output_type": "stream",
     "text": [
      "C:\\Users\\myousaf23\\anaconda3\\Lib\\site-packages\\sklearn\\linear_model\\_sag.py:349: ConvergenceWarning: The max_iter was reached which means the coef_ did not converge\n",
      "  warnings.warn(\n"
     ]
    },
    {
     "name": "stdout",
     "output_type": "stream",
     "text": [
      "[CV] END C=10, class_weight=None, max_iter=700, penalty=l2, solver=saga; total time=  50.6s\n"
     ]
    },
    {
     "name": "stderr",
     "output_type": "stream",
     "text": [
      "C:\\Users\\myousaf23\\anaconda3\\Lib\\site-packages\\sklearn\\linear_model\\_sag.py:349: ConvergenceWarning: The max_iter was reached which means the coef_ did not converge\n",
      "  warnings.warn(\n"
     ]
    },
    {
     "name": "stdout",
     "output_type": "stream",
     "text": [
      "[CV] END C=10, class_weight=None, max_iter=700, penalty=l2, solver=saga; total time=  48.3s\n",
      "[CV] END C=10, class_weight=None, max_iter=700, penalty=l1, solver=liblinear; total time=   0.1s\n",
      "[CV] END C=10, class_weight=None, max_iter=700, penalty=l1, solver=liblinear; total time=   0.1s\n",
      "[CV] END C=10, class_weight=None, max_iter=700, penalty=l1, solver=liblinear; total time=   0.2s\n",
      "[CV] END C=10, class_weight=None, max_iter=700, penalty=l1, solver=liblinear; total time=   0.1s\n",
      "[CV] END C=10, class_weight=None, max_iter=700, penalty=l1, solver=liblinear; total time=   0.2s\n"
     ]
    },
    {
     "name": "stderr",
     "output_type": "stream",
     "text": [
      "C:\\Users\\myousaf23\\anaconda3\\Lib\\site-packages\\sklearn\\linear_model\\_sag.py:349: ConvergenceWarning: The max_iter was reached which means the coef_ did not converge\n",
      "  warnings.warn(\n"
     ]
    },
    {
     "name": "stdout",
     "output_type": "stream",
     "text": [
      "[CV] END C=10, class_weight=None, max_iter=700, penalty=l1, solver=saga; total time= 1.3min\n"
     ]
    },
    {
     "name": "stderr",
     "output_type": "stream",
     "text": [
      "C:\\Users\\myousaf23\\anaconda3\\Lib\\site-packages\\sklearn\\linear_model\\_sag.py:349: ConvergenceWarning: The max_iter was reached which means the coef_ did not converge\n",
      "  warnings.warn(\n"
     ]
    },
    {
     "name": "stdout",
     "output_type": "stream",
     "text": [
      "[CV] END C=10, class_weight=None, max_iter=700, penalty=l1, solver=saga; total time= 1.2min\n"
     ]
    },
    {
     "name": "stderr",
     "output_type": "stream",
     "text": [
      "C:\\Users\\myousaf23\\anaconda3\\Lib\\site-packages\\sklearn\\linear_model\\_sag.py:349: ConvergenceWarning: The max_iter was reached which means the coef_ did not converge\n",
      "  warnings.warn(\n"
     ]
    },
    {
     "name": "stdout",
     "output_type": "stream",
     "text": [
      "[CV] END C=10, class_weight=None, max_iter=700, penalty=l1, solver=saga; total time= 1.3min\n"
     ]
    },
    {
     "name": "stderr",
     "output_type": "stream",
     "text": [
      "C:\\Users\\myousaf23\\anaconda3\\Lib\\site-packages\\sklearn\\linear_model\\_sag.py:349: ConvergenceWarning: The max_iter was reached which means the coef_ did not converge\n",
      "  warnings.warn(\n"
     ]
    },
    {
     "name": "stdout",
     "output_type": "stream",
     "text": [
      "[CV] END C=10, class_weight=None, max_iter=700, penalty=l1, solver=saga; total time= 1.2min\n"
     ]
    },
    {
     "name": "stderr",
     "output_type": "stream",
     "text": [
      "C:\\Users\\myousaf23\\anaconda3\\Lib\\site-packages\\sklearn\\linear_model\\_sag.py:349: ConvergenceWarning: The max_iter was reached which means the coef_ did not converge\n",
      "  warnings.warn(\n"
     ]
    },
    {
     "name": "stdout",
     "output_type": "stream",
     "text": [
      "[CV] END C=10, class_weight=None, max_iter=700, penalty=l1, solver=saga; total time= 1.2min\n",
      "[CV] END C=10, class_weight=None, max_iter=1000, penalty=l2, solver=liblinear; total time=   0.2s\n",
      "[CV] END C=10, class_weight=None, max_iter=1000, penalty=l2, solver=liblinear; total time=   0.2s\n",
      "[CV] END C=10, class_weight=None, max_iter=1000, penalty=l2, solver=liblinear; total time=   0.2s\n",
      "[CV] END C=10, class_weight=None, max_iter=1000, penalty=l2, solver=liblinear; total time=   0.2s\n",
      "[CV] END C=10, class_weight=None, max_iter=1000, penalty=l2, solver=liblinear; total time=   0.3s\n",
      "[CV] END C=10, class_weight=None, max_iter=1000, penalty=l2, solver=saga; total time= 1.1min\n"
     ]
    },
    {
     "name": "stderr",
     "output_type": "stream",
     "text": [
      "C:\\Users\\myousaf23\\anaconda3\\Lib\\site-packages\\sklearn\\linear_model\\_sag.py:349: ConvergenceWarning: The max_iter was reached which means the coef_ did not converge\n",
      "  warnings.warn(\n"
     ]
    },
    {
     "name": "stdout",
     "output_type": "stream",
     "text": [
      "[CV] END C=10, class_weight=None, max_iter=1000, penalty=l2, solver=saga; total time= 1.2min\n",
      "[CV] END C=10, class_weight=None, max_iter=1000, penalty=l2, solver=saga; total time= 1.1min\n"
     ]
    },
    {
     "name": "stderr",
     "output_type": "stream",
     "text": [
      "C:\\Users\\myousaf23\\anaconda3\\Lib\\site-packages\\sklearn\\linear_model\\_sag.py:349: ConvergenceWarning: The max_iter was reached which means the coef_ did not converge\n",
      "  warnings.warn(\n"
     ]
    },
    {
     "name": "stdout",
     "output_type": "stream",
     "text": [
      "[CV] END C=10, class_weight=None, max_iter=1000, penalty=l2, solver=saga; total time= 1.2min\n",
      "[CV] END C=10, class_weight=None, max_iter=1000, penalty=l2, solver=saga; total time= 1.1min\n",
      "[CV] END C=10, class_weight=None, max_iter=1000, penalty=l1, solver=liblinear; total time=   0.2s\n",
      "[CV] END C=10, class_weight=None, max_iter=1000, penalty=l1, solver=liblinear; total time=   0.2s\n",
      "[CV] END C=10, class_weight=None, max_iter=1000, penalty=l1, solver=liblinear; total time=   0.2s\n",
      "[CV] END C=10, class_weight=None, max_iter=1000, penalty=l1, solver=liblinear; total time=   0.2s\n",
      "[CV] END C=10, class_weight=None, max_iter=1000, penalty=l1, solver=liblinear; total time=   0.2s\n"
     ]
    },
    {
     "name": "stderr",
     "output_type": "stream",
     "text": [
      "C:\\Users\\myousaf23\\anaconda3\\Lib\\site-packages\\sklearn\\linear_model\\_sag.py:349: ConvergenceWarning: The max_iter was reached which means the coef_ did not converge\n",
      "  warnings.warn(\n"
     ]
    },
    {
     "name": "stdout",
     "output_type": "stream",
     "text": [
      "[CV] END C=10, class_weight=None, max_iter=1000, penalty=l1, solver=saga; total time= 1.8min\n"
     ]
    },
    {
     "name": "stderr",
     "output_type": "stream",
     "text": [
      "C:\\Users\\myousaf23\\anaconda3\\Lib\\site-packages\\sklearn\\linear_model\\_sag.py:349: ConvergenceWarning: The max_iter was reached which means the coef_ did not converge\n",
      "  warnings.warn(\n"
     ]
    },
    {
     "name": "stdout",
     "output_type": "stream",
     "text": [
      "[CV] END C=10, class_weight=None, max_iter=1000, penalty=l1, solver=saga; total time= 1.7min\n"
     ]
    },
    {
     "name": "stderr",
     "output_type": "stream",
     "text": [
      "C:\\Users\\myousaf23\\anaconda3\\Lib\\site-packages\\sklearn\\linear_model\\_sag.py:349: ConvergenceWarning: The max_iter was reached which means the coef_ did not converge\n",
      "  warnings.warn(\n"
     ]
    },
    {
     "name": "stdout",
     "output_type": "stream",
     "text": [
      "[CV] END C=10, class_weight=None, max_iter=1000, penalty=l1, solver=saga; total time= 1.4min\n"
     ]
    },
    {
     "name": "stderr",
     "output_type": "stream",
     "text": [
      "C:\\Users\\myousaf23\\anaconda3\\Lib\\site-packages\\sklearn\\linear_model\\_sag.py:349: ConvergenceWarning: The max_iter was reached which means the coef_ did not converge\n",
      "  warnings.warn(\n"
     ]
    },
    {
     "name": "stdout",
     "output_type": "stream",
     "text": [
      "[CV] END C=10, class_weight=None, max_iter=1000, penalty=l1, solver=saga; total time= 1.4min\n"
     ]
    },
    {
     "name": "stderr",
     "output_type": "stream",
     "text": [
      "C:\\Users\\myousaf23\\anaconda3\\Lib\\site-packages\\sklearn\\linear_model\\_sag.py:349: ConvergenceWarning: The max_iter was reached which means the coef_ did not converge\n",
      "  warnings.warn(\n"
     ]
    },
    {
     "name": "stdout",
     "output_type": "stream",
     "text": [
      "[CV] END C=10, class_weight=None, max_iter=1000, penalty=l1, solver=saga; total time= 1.5min\n",
      "[CV] END C=10, class_weight=balanced, max_iter=100, penalty=l2, solver=liblinear; total time=   0.2s\n",
      "[CV] END C=10, class_weight=balanced, max_iter=100, penalty=l2, solver=liblinear; total time=   0.2s\n",
      "[CV] END C=10, class_weight=balanced, max_iter=100, penalty=l2, solver=liblinear; total time=   0.2s\n",
      "[CV] END C=10, class_weight=balanced, max_iter=100, penalty=l2, solver=liblinear; total time=   0.2s\n",
      "[CV] END C=10, class_weight=balanced, max_iter=100, penalty=l2, solver=liblinear; total time=   0.2s\n"
     ]
    },
    {
     "name": "stderr",
     "output_type": "stream",
     "text": [
      "C:\\Users\\myousaf23\\anaconda3\\Lib\\site-packages\\sklearn\\linear_model\\_sag.py:349: ConvergenceWarning: The max_iter was reached which means the coef_ did not converge\n",
      "  warnings.warn(\n"
     ]
    },
    {
     "name": "stdout",
     "output_type": "stream",
     "text": [
      "[CV] END C=10, class_weight=balanced, max_iter=100, penalty=l2, solver=saga; total time=   4.4s\n"
     ]
    },
    {
     "name": "stderr",
     "output_type": "stream",
     "text": [
      "C:\\Users\\myousaf23\\anaconda3\\Lib\\site-packages\\sklearn\\linear_model\\_sag.py:349: ConvergenceWarning: The max_iter was reached which means the coef_ did not converge\n",
      "  warnings.warn(\n"
     ]
    },
    {
     "name": "stdout",
     "output_type": "stream",
     "text": [
      "[CV] END C=10, class_weight=balanced, max_iter=100, penalty=l2, solver=saga; total time=   7.8s\n"
     ]
    },
    {
     "name": "stderr",
     "output_type": "stream",
     "text": [
      "C:\\Users\\myousaf23\\anaconda3\\Lib\\site-packages\\sklearn\\linear_model\\_sag.py:349: ConvergenceWarning: The max_iter was reached which means the coef_ did not converge\n",
      "  warnings.warn(\n"
     ]
    },
    {
     "name": "stdout",
     "output_type": "stream",
     "text": [
      "[CV] END C=10, class_weight=balanced, max_iter=100, penalty=l2, solver=saga; total time=   6.2s\n"
     ]
    },
    {
     "name": "stderr",
     "output_type": "stream",
     "text": [
      "C:\\Users\\myousaf23\\anaconda3\\Lib\\site-packages\\sklearn\\linear_model\\_sag.py:349: ConvergenceWarning: The max_iter was reached which means the coef_ did not converge\n",
      "  warnings.warn(\n"
     ]
    },
    {
     "name": "stdout",
     "output_type": "stream",
     "text": [
      "[CV] END C=10, class_weight=balanced, max_iter=100, penalty=l2, solver=saga; total time=   6.1s\n"
     ]
    },
    {
     "name": "stderr",
     "output_type": "stream",
     "text": [
      "C:\\Users\\myousaf23\\anaconda3\\Lib\\site-packages\\sklearn\\linear_model\\_sag.py:349: ConvergenceWarning: The max_iter was reached which means the coef_ did not converge\n",
      "  warnings.warn(\n"
     ]
    },
    {
     "name": "stdout",
     "output_type": "stream",
     "text": [
      "[CV] END C=10, class_weight=balanced, max_iter=100, penalty=l2, solver=saga; total time=   7.5s\n",
      "[CV] END C=10, class_weight=balanced, max_iter=100, penalty=l1, solver=liblinear; total time=   0.2s\n",
      "[CV] END C=10, class_weight=balanced, max_iter=100, penalty=l1, solver=liblinear; total time=   0.1s\n",
      "[CV] END C=10, class_weight=balanced, max_iter=100, penalty=l1, solver=liblinear; total time=   0.2s\n",
      "[CV] END C=10, class_weight=balanced, max_iter=100, penalty=l1, solver=liblinear; total time=   0.2s\n",
      "[CV] END C=10, class_weight=balanced, max_iter=100, penalty=l1, solver=liblinear; total time=   0.1s\n"
     ]
    },
    {
     "name": "stderr",
     "output_type": "stream",
     "text": [
      "C:\\Users\\myousaf23\\anaconda3\\Lib\\site-packages\\sklearn\\linear_model\\_sag.py:349: ConvergenceWarning: The max_iter was reached which means the coef_ did not converge\n",
      "  warnings.warn(\n"
     ]
    },
    {
     "name": "stdout",
     "output_type": "stream",
     "text": [
      "[CV] END C=10, class_weight=balanced, max_iter=100, penalty=l1, solver=saga; total time=  11.6s\n"
     ]
    },
    {
     "name": "stderr",
     "output_type": "stream",
     "text": [
      "C:\\Users\\myousaf23\\anaconda3\\Lib\\site-packages\\sklearn\\linear_model\\_sag.py:349: ConvergenceWarning: The max_iter was reached which means the coef_ did not converge\n",
      "  warnings.warn(\n"
     ]
    },
    {
     "name": "stdout",
     "output_type": "stream",
     "text": [
      "[CV] END C=10, class_weight=balanced, max_iter=100, penalty=l1, solver=saga; total time=  10.5s\n"
     ]
    },
    {
     "name": "stderr",
     "output_type": "stream",
     "text": [
      "C:\\Users\\myousaf23\\anaconda3\\Lib\\site-packages\\sklearn\\linear_model\\_sag.py:349: ConvergenceWarning: The max_iter was reached which means the coef_ did not converge\n",
      "  warnings.warn(\n"
     ]
    },
    {
     "name": "stdout",
     "output_type": "stream",
     "text": [
      "[CV] END C=10, class_weight=balanced, max_iter=100, penalty=l1, solver=saga; total time=  11.3s\n"
     ]
    },
    {
     "name": "stderr",
     "output_type": "stream",
     "text": [
      "C:\\Users\\myousaf23\\anaconda3\\Lib\\site-packages\\sklearn\\linear_model\\_sag.py:349: ConvergenceWarning: The max_iter was reached which means the coef_ did not converge\n",
      "  warnings.warn(\n"
     ]
    },
    {
     "name": "stdout",
     "output_type": "stream",
     "text": [
      "[CV] END C=10, class_weight=balanced, max_iter=100, penalty=l1, solver=saga; total time=  12.7s\n"
     ]
    },
    {
     "name": "stderr",
     "output_type": "stream",
     "text": [
      "C:\\Users\\myousaf23\\anaconda3\\Lib\\site-packages\\sklearn\\linear_model\\_sag.py:349: ConvergenceWarning: The max_iter was reached which means the coef_ did not converge\n",
      "  warnings.warn(\n"
     ]
    },
    {
     "name": "stdout",
     "output_type": "stream",
     "text": [
      "[CV] END C=10, class_weight=balanced, max_iter=100, penalty=l1, solver=saga; total time=  10.4s\n",
      "[CV] END C=10, class_weight=balanced, max_iter=200, penalty=l2, solver=liblinear; total time=   0.2s\n",
      "[CV] END C=10, class_weight=balanced, max_iter=200, penalty=l2, solver=liblinear; total time=   0.2s\n",
      "[CV] END C=10, class_weight=balanced, max_iter=200, penalty=l2, solver=liblinear; total time=   0.2s\n",
      "[CV] END C=10, class_weight=balanced, max_iter=200, penalty=l2, solver=liblinear; total time=   0.2s\n",
      "[CV] END C=10, class_weight=balanced, max_iter=200, penalty=l2, solver=liblinear; total time=   0.2s\n"
     ]
    },
    {
     "name": "stderr",
     "output_type": "stream",
     "text": [
      "C:\\Users\\myousaf23\\anaconda3\\Lib\\site-packages\\sklearn\\linear_model\\_sag.py:349: ConvergenceWarning: The max_iter was reached which means the coef_ did not converge\n",
      "  warnings.warn(\n"
     ]
    },
    {
     "name": "stdout",
     "output_type": "stream",
     "text": [
      "[CV] END C=10, class_weight=balanced, max_iter=200, penalty=l2, solver=saga; total time=  12.0s\n"
     ]
    },
    {
     "name": "stderr",
     "output_type": "stream",
     "text": [
      "C:\\Users\\myousaf23\\anaconda3\\Lib\\site-packages\\sklearn\\linear_model\\_sag.py:349: ConvergenceWarning: The max_iter was reached which means the coef_ did not converge\n",
      "  warnings.warn(\n"
     ]
    },
    {
     "name": "stdout",
     "output_type": "stream",
     "text": [
      "[CV] END C=10, class_weight=balanced, max_iter=200, penalty=l2, solver=saga; total time=  12.6s\n"
     ]
    },
    {
     "name": "stderr",
     "output_type": "stream",
     "text": [
      "C:\\Users\\myousaf23\\anaconda3\\Lib\\site-packages\\sklearn\\linear_model\\_sag.py:349: ConvergenceWarning: The max_iter was reached which means the coef_ did not converge\n",
      "  warnings.warn(\n"
     ]
    },
    {
     "name": "stdout",
     "output_type": "stream",
     "text": [
      "[CV] END C=10, class_weight=balanced, max_iter=200, penalty=l2, solver=saga; total time=  14.1s\n"
     ]
    },
    {
     "name": "stderr",
     "output_type": "stream",
     "text": [
      "C:\\Users\\myousaf23\\anaconda3\\Lib\\site-packages\\sklearn\\linear_model\\_sag.py:349: ConvergenceWarning: The max_iter was reached which means the coef_ did not converge\n",
      "  warnings.warn(\n"
     ]
    },
    {
     "name": "stdout",
     "output_type": "stream",
     "text": [
      "[CV] END C=10, class_weight=balanced, max_iter=200, penalty=l2, solver=saga; total time=  13.8s\n"
     ]
    },
    {
     "name": "stderr",
     "output_type": "stream",
     "text": [
      "C:\\Users\\myousaf23\\anaconda3\\Lib\\site-packages\\sklearn\\linear_model\\_sag.py:349: ConvergenceWarning: The max_iter was reached which means the coef_ did not converge\n",
      "  warnings.warn(\n"
     ]
    },
    {
     "name": "stdout",
     "output_type": "stream",
     "text": [
      "[CV] END C=10, class_weight=balanced, max_iter=200, penalty=l2, solver=saga; total time=  12.1s\n",
      "[CV] END C=10, class_weight=balanced, max_iter=200, penalty=l1, solver=liblinear; total time=   0.2s\n",
      "[CV] END C=10, class_weight=balanced, max_iter=200, penalty=l1, solver=liblinear; total time=   0.2s\n",
      "[CV] END C=10, class_weight=balanced, max_iter=200, penalty=l1, solver=liblinear; total time=   0.2s\n",
      "[CV] END C=10, class_weight=balanced, max_iter=200, penalty=l1, solver=liblinear; total time=   0.2s\n",
      "[CV] END C=10, class_weight=balanced, max_iter=200, penalty=l1, solver=liblinear; total time=   0.2s\n"
     ]
    },
    {
     "name": "stderr",
     "output_type": "stream",
     "text": [
      "C:\\Users\\myousaf23\\anaconda3\\Lib\\site-packages\\sklearn\\linear_model\\_sag.py:349: ConvergenceWarning: The max_iter was reached which means the coef_ did not converge\n",
      "  warnings.warn(\n"
     ]
    },
    {
     "name": "stdout",
     "output_type": "stream",
     "text": [
      "[CV] END C=10, class_weight=balanced, max_iter=200, penalty=l1, solver=saga; total time=  22.1s\n"
     ]
    },
    {
     "name": "stderr",
     "output_type": "stream",
     "text": [
      "C:\\Users\\myousaf23\\anaconda3\\Lib\\site-packages\\sklearn\\linear_model\\_sag.py:349: ConvergenceWarning: The max_iter was reached which means the coef_ did not converge\n",
      "  warnings.warn(\n"
     ]
    },
    {
     "name": "stdout",
     "output_type": "stream",
     "text": [
      "[CV] END C=10, class_weight=balanced, max_iter=200, penalty=l1, solver=saga; total time=  21.9s\n"
     ]
    },
    {
     "name": "stderr",
     "output_type": "stream",
     "text": [
      "C:\\Users\\myousaf23\\anaconda3\\Lib\\site-packages\\sklearn\\linear_model\\_sag.py:349: ConvergenceWarning: The max_iter was reached which means the coef_ did not converge\n",
      "  warnings.warn(\n"
     ]
    },
    {
     "name": "stdout",
     "output_type": "stream",
     "text": [
      "[CV] END C=10, class_weight=balanced, max_iter=200, penalty=l1, solver=saga; total time=  22.5s\n"
     ]
    },
    {
     "name": "stderr",
     "output_type": "stream",
     "text": [
      "C:\\Users\\myousaf23\\anaconda3\\Lib\\site-packages\\sklearn\\linear_model\\_sag.py:349: ConvergenceWarning: The max_iter was reached which means the coef_ did not converge\n",
      "  warnings.warn(\n"
     ]
    },
    {
     "name": "stdout",
     "output_type": "stream",
     "text": [
      "[CV] END C=10, class_weight=balanced, max_iter=200, penalty=l1, solver=saga; total time=  22.9s\n"
     ]
    },
    {
     "name": "stderr",
     "output_type": "stream",
     "text": [
      "C:\\Users\\myousaf23\\anaconda3\\Lib\\site-packages\\sklearn\\linear_model\\_sag.py:349: ConvergenceWarning: The max_iter was reached which means the coef_ did not converge\n",
      "  warnings.warn(\n"
     ]
    },
    {
     "name": "stdout",
     "output_type": "stream",
     "text": [
      "[CV] END C=10, class_weight=balanced, max_iter=200, penalty=l1, solver=saga; total time=  23.0s\n",
      "[CV] END C=10, class_weight=balanced, max_iter=500, penalty=l2, solver=liblinear; total time=   0.2s\n",
      "[CV] END C=10, class_weight=balanced, max_iter=500, penalty=l2, solver=liblinear; total time=   0.2s\n",
      "[CV] END C=10, class_weight=balanced, max_iter=500, penalty=l2, solver=liblinear; total time=   0.2s\n",
      "[CV] END C=10, class_weight=balanced, max_iter=500, penalty=l2, solver=liblinear; total time=   0.2s\n",
      "[CV] END C=10, class_weight=balanced, max_iter=500, penalty=l2, solver=liblinear; total time=   0.1s\n"
     ]
    },
    {
     "name": "stderr",
     "output_type": "stream",
     "text": [
      "C:\\Users\\myousaf23\\anaconda3\\Lib\\site-packages\\sklearn\\linear_model\\_sag.py:349: ConvergenceWarning: The max_iter was reached which means the coef_ did not converge\n",
      "  warnings.warn(\n"
     ]
    },
    {
     "name": "stdout",
     "output_type": "stream",
     "text": [
      "[CV] END C=10, class_weight=balanced, max_iter=500, penalty=l2, solver=saga; total time=  32.5s\n"
     ]
    },
    {
     "name": "stderr",
     "output_type": "stream",
     "text": [
      "C:\\Users\\myousaf23\\anaconda3\\Lib\\site-packages\\sklearn\\linear_model\\_sag.py:349: ConvergenceWarning: The max_iter was reached which means the coef_ did not converge\n",
      "  warnings.warn(\n"
     ]
    },
    {
     "name": "stdout",
     "output_type": "stream",
     "text": [
      "[CV] END C=10, class_weight=balanced, max_iter=500, penalty=l2, solver=saga; total time=  35.4s\n"
     ]
    },
    {
     "name": "stderr",
     "output_type": "stream",
     "text": [
      "C:\\Users\\myousaf23\\anaconda3\\Lib\\site-packages\\sklearn\\linear_model\\_sag.py:349: ConvergenceWarning: The max_iter was reached which means the coef_ did not converge\n",
      "  warnings.warn(\n"
     ]
    },
    {
     "name": "stdout",
     "output_type": "stream",
     "text": [
      "[CV] END C=10, class_weight=balanced, max_iter=500, penalty=l2, solver=saga; total time=  35.4s\n"
     ]
    },
    {
     "name": "stderr",
     "output_type": "stream",
     "text": [
      "C:\\Users\\myousaf23\\anaconda3\\Lib\\site-packages\\sklearn\\linear_model\\_sag.py:349: ConvergenceWarning: The max_iter was reached which means the coef_ did not converge\n",
      "  warnings.warn(\n"
     ]
    },
    {
     "name": "stdout",
     "output_type": "stream",
     "text": [
      "[CV] END C=10, class_weight=balanced, max_iter=500, penalty=l2, solver=saga; total time=  31.5s\n"
     ]
    },
    {
     "name": "stderr",
     "output_type": "stream",
     "text": [
      "C:\\Users\\myousaf23\\anaconda3\\Lib\\site-packages\\sklearn\\linear_model\\_sag.py:349: ConvergenceWarning: The max_iter was reached which means the coef_ did not converge\n",
      "  warnings.warn(\n"
     ]
    },
    {
     "name": "stdout",
     "output_type": "stream",
     "text": [
      "[CV] END C=10, class_weight=balanced, max_iter=500, penalty=l2, solver=saga; total time=  35.7s\n",
      "[CV] END C=10, class_weight=balanced, max_iter=500, penalty=l1, solver=liblinear; total time=   0.2s\n",
      "[CV] END C=10, class_weight=balanced, max_iter=500, penalty=l1, solver=liblinear; total time=   0.2s\n",
      "[CV] END C=10, class_weight=balanced, max_iter=500, penalty=l1, solver=liblinear; total time=   0.3s\n",
      "[CV] END C=10, class_weight=balanced, max_iter=500, penalty=l1, solver=liblinear; total time=   0.2s\n",
      "[CV] END C=10, class_weight=balanced, max_iter=500, penalty=l1, solver=liblinear; total time=   0.2s\n"
     ]
    },
    {
     "name": "stderr",
     "output_type": "stream",
     "text": [
      "C:\\Users\\myousaf23\\anaconda3\\Lib\\site-packages\\sklearn\\linear_model\\_sag.py:349: ConvergenceWarning: The max_iter was reached which means the coef_ did not converge\n",
      "  warnings.warn(\n"
     ]
    },
    {
     "name": "stdout",
     "output_type": "stream",
     "text": [
      "[CV] END C=10, class_weight=balanced, max_iter=500, penalty=l1, solver=saga; total time=  51.4s\n"
     ]
    },
    {
     "name": "stderr",
     "output_type": "stream",
     "text": [
      "C:\\Users\\myousaf23\\anaconda3\\Lib\\site-packages\\sklearn\\linear_model\\_sag.py:349: ConvergenceWarning: The max_iter was reached which means the coef_ did not converge\n",
      "  warnings.warn(\n"
     ]
    },
    {
     "name": "stdout",
     "output_type": "stream",
     "text": [
      "[CV] END C=10, class_weight=balanced, max_iter=500, penalty=l1, solver=saga; total time=  51.2s\n"
     ]
    },
    {
     "name": "stderr",
     "output_type": "stream",
     "text": [
      "C:\\Users\\myousaf23\\anaconda3\\Lib\\site-packages\\sklearn\\linear_model\\_sag.py:349: ConvergenceWarning: The max_iter was reached which means the coef_ did not converge\n",
      "  warnings.warn(\n"
     ]
    },
    {
     "name": "stdout",
     "output_type": "stream",
     "text": [
      "[CV] END C=10, class_weight=balanced, max_iter=500, penalty=l1, solver=saga; total time=  54.3s\n"
     ]
    },
    {
     "name": "stderr",
     "output_type": "stream",
     "text": [
      "C:\\Users\\myousaf23\\anaconda3\\Lib\\site-packages\\sklearn\\linear_model\\_sag.py:349: ConvergenceWarning: The max_iter was reached which means the coef_ did not converge\n",
      "  warnings.warn(\n"
     ]
    },
    {
     "name": "stdout",
     "output_type": "stream",
     "text": [
      "[CV] END C=10, class_weight=balanced, max_iter=500, penalty=l1, solver=saga; total time=  51.4s\n"
     ]
    },
    {
     "name": "stderr",
     "output_type": "stream",
     "text": [
      "C:\\Users\\myousaf23\\anaconda3\\Lib\\site-packages\\sklearn\\linear_model\\_sag.py:349: ConvergenceWarning: The max_iter was reached which means the coef_ did not converge\n",
      "  warnings.warn(\n"
     ]
    },
    {
     "name": "stdout",
     "output_type": "stream",
     "text": [
      "[CV] END C=10, class_weight=balanced, max_iter=500, penalty=l1, solver=saga; total time=  53.7s\n",
      "[CV] END C=10, class_weight=balanced, max_iter=700, penalty=l2, solver=liblinear; total time=   0.2s\n",
      "[CV] END C=10, class_weight=balanced, max_iter=700, penalty=l2, solver=liblinear; total time=   0.2s\n",
      "[CV] END C=10, class_weight=balanced, max_iter=700, penalty=l2, solver=liblinear; total time=   0.3s\n",
      "[CV] END C=10, class_weight=balanced, max_iter=700, penalty=l2, solver=liblinear; total time=   0.1s\n",
      "[CV] END C=10, class_weight=balanced, max_iter=700, penalty=l2, solver=liblinear; total time=   0.1s\n"
     ]
    },
    {
     "name": "stderr",
     "output_type": "stream",
     "text": [
      "C:\\Users\\myousaf23\\anaconda3\\Lib\\site-packages\\sklearn\\linear_model\\_sag.py:349: ConvergenceWarning: The max_iter was reached which means the coef_ did not converge\n",
      "  warnings.warn(\n"
     ]
    },
    {
     "name": "stdout",
     "output_type": "stream",
     "text": [
      "[CV] END C=10, class_weight=balanced, max_iter=700, penalty=l2, solver=saga; total time=  47.9s\n"
     ]
    },
    {
     "name": "stderr",
     "output_type": "stream",
     "text": [
      "C:\\Users\\myousaf23\\anaconda3\\Lib\\site-packages\\sklearn\\linear_model\\_sag.py:349: ConvergenceWarning: The max_iter was reached which means the coef_ did not converge\n",
      "  warnings.warn(\n"
     ]
    },
    {
     "name": "stdout",
     "output_type": "stream",
     "text": [
      "[CV] END C=10, class_weight=balanced, max_iter=700, penalty=l2, solver=saga; total time=  50.9s\n"
     ]
    },
    {
     "name": "stderr",
     "output_type": "stream",
     "text": [
      "C:\\Users\\myousaf23\\anaconda3\\Lib\\site-packages\\sklearn\\linear_model\\_sag.py:349: ConvergenceWarning: The max_iter was reached which means the coef_ did not converge\n",
      "  warnings.warn(\n"
     ]
    },
    {
     "name": "stdout",
     "output_type": "stream",
     "text": [
      "[CV] END C=10, class_weight=balanced, max_iter=700, penalty=l2, solver=saga; total time=  47.1s\n"
     ]
    },
    {
     "name": "stderr",
     "output_type": "stream",
     "text": [
      "C:\\Users\\myousaf23\\anaconda3\\Lib\\site-packages\\sklearn\\linear_model\\_sag.py:349: ConvergenceWarning: The max_iter was reached which means the coef_ did not converge\n",
      "  warnings.warn(\n"
     ]
    },
    {
     "name": "stdout",
     "output_type": "stream",
     "text": [
      "[CV] END C=10, class_weight=balanced, max_iter=700, penalty=l2, solver=saga; total time=  51.2s\n"
     ]
    },
    {
     "name": "stderr",
     "output_type": "stream",
     "text": [
      "C:\\Users\\myousaf23\\anaconda3\\Lib\\site-packages\\sklearn\\linear_model\\_sag.py:349: ConvergenceWarning: The max_iter was reached which means the coef_ did not converge\n",
      "  warnings.warn(\n"
     ]
    },
    {
     "name": "stdout",
     "output_type": "stream",
     "text": [
      "[CV] END C=10, class_weight=balanced, max_iter=700, penalty=l2, solver=saga; total time=  51.0s\n",
      "[CV] END C=10, class_weight=balanced, max_iter=700, penalty=l1, solver=liblinear; total time=   0.2s\n",
      "[CV] END C=10, class_weight=balanced, max_iter=700, penalty=l1, solver=liblinear; total time=   0.2s\n",
      "[CV] END C=10, class_weight=balanced, max_iter=700, penalty=l1, solver=liblinear; total time=   0.2s\n",
      "[CV] END C=10, class_weight=balanced, max_iter=700, penalty=l1, solver=liblinear; total time=   0.2s\n",
      "[CV] END C=10, class_weight=balanced, max_iter=700, penalty=l1, solver=liblinear; total time=   0.2s\n"
     ]
    },
    {
     "name": "stderr",
     "output_type": "stream",
     "text": [
      "C:\\Users\\myousaf23\\anaconda3\\Lib\\site-packages\\sklearn\\linear_model\\_sag.py:349: ConvergenceWarning: The max_iter was reached which means the coef_ did not converge\n",
      "  warnings.warn(\n"
     ]
    },
    {
     "name": "stdout",
     "output_type": "stream",
     "text": [
      "[CV] END C=10, class_weight=balanced, max_iter=700, penalty=l1, solver=saga; total time= 1.2min\n"
     ]
    },
    {
     "name": "stderr",
     "output_type": "stream",
     "text": [
      "C:\\Users\\myousaf23\\anaconda3\\Lib\\site-packages\\sklearn\\linear_model\\_sag.py:349: ConvergenceWarning: The max_iter was reached which means the coef_ did not converge\n",
      "  warnings.warn(\n"
     ]
    },
    {
     "name": "stdout",
     "output_type": "stream",
     "text": [
      "[CV] END C=10, class_weight=balanced, max_iter=700, penalty=l1, solver=saga; total time= 1.2min\n"
     ]
    },
    {
     "name": "stderr",
     "output_type": "stream",
     "text": [
      "C:\\Users\\myousaf23\\anaconda3\\Lib\\site-packages\\sklearn\\linear_model\\_sag.py:349: ConvergenceWarning: The max_iter was reached which means the coef_ did not converge\n",
      "  warnings.warn(\n"
     ]
    },
    {
     "name": "stdout",
     "output_type": "stream",
     "text": [
      "[CV] END C=10, class_weight=balanced, max_iter=700, penalty=l1, solver=saga; total time= 1.2min\n"
     ]
    },
    {
     "name": "stderr",
     "output_type": "stream",
     "text": [
      "C:\\Users\\myousaf23\\anaconda3\\Lib\\site-packages\\sklearn\\linear_model\\_sag.py:349: ConvergenceWarning: The max_iter was reached which means the coef_ did not converge\n",
      "  warnings.warn(\n"
     ]
    },
    {
     "name": "stdout",
     "output_type": "stream",
     "text": [
      "[CV] END C=10, class_weight=balanced, max_iter=700, penalty=l1, solver=saga; total time= 1.2min\n"
     ]
    },
    {
     "name": "stderr",
     "output_type": "stream",
     "text": [
      "C:\\Users\\myousaf23\\anaconda3\\Lib\\site-packages\\sklearn\\linear_model\\_sag.py:349: ConvergenceWarning: The max_iter was reached which means the coef_ did not converge\n",
      "  warnings.warn(\n"
     ]
    },
    {
     "name": "stdout",
     "output_type": "stream",
     "text": [
      "[CV] END C=10, class_weight=balanced, max_iter=700, penalty=l1, solver=saga; total time= 1.2min\n",
      "[CV] END C=10, class_weight=balanced, max_iter=1000, penalty=l2, solver=liblinear; total time=   0.2s\n",
      "[CV] END C=10, class_weight=balanced, max_iter=1000, penalty=l2, solver=liblinear; total time=   0.2s\n",
      "[CV] END C=10, class_weight=balanced, max_iter=1000, penalty=l2, solver=liblinear; total time=   0.2s\n",
      "[CV] END C=10, class_weight=balanced, max_iter=1000, penalty=l2, solver=liblinear; total time=   0.2s\n",
      "[CV] END C=10, class_weight=balanced, max_iter=1000, penalty=l2, solver=liblinear; total time=   0.2s\n",
      "[CV] END C=10, class_weight=balanced, max_iter=1000, penalty=l2, solver=saga; total time= 1.0min\n"
     ]
    },
    {
     "name": "stderr",
     "output_type": "stream",
     "text": [
      "C:\\Users\\myousaf23\\anaconda3\\Lib\\site-packages\\sklearn\\linear_model\\_sag.py:349: ConvergenceWarning: The max_iter was reached which means the coef_ did not converge\n",
      "  warnings.warn(\n"
     ]
    },
    {
     "name": "stdout",
     "output_type": "stream",
     "text": [
      "[CV] END C=10, class_weight=balanced, max_iter=1000, penalty=l2, solver=saga; total time= 1.2min\n",
      "[CV] END C=10, class_weight=balanced, max_iter=1000, penalty=l2, solver=saga; total time= 1.1min\n"
     ]
    },
    {
     "name": "stderr",
     "output_type": "stream",
     "text": [
      "C:\\Users\\myousaf23\\anaconda3\\Lib\\site-packages\\sklearn\\linear_model\\_sag.py:349: ConvergenceWarning: The max_iter was reached which means the coef_ did not converge\n",
      "  warnings.warn(\n"
     ]
    },
    {
     "name": "stdout",
     "output_type": "stream",
     "text": [
      "[CV] END C=10, class_weight=balanced, max_iter=1000, penalty=l2, solver=saga; total time= 1.2min\n",
      "[CV] END C=10, class_weight=balanced, max_iter=1000, penalty=l2, solver=saga; total time= 1.1min\n",
      "[CV] END C=10, class_weight=balanced, max_iter=1000, penalty=l1, solver=liblinear; total time=   0.2s\n",
      "[CV] END C=10, class_weight=balanced, max_iter=1000, penalty=l1, solver=liblinear; total time=   0.2s\n",
      "[CV] END C=10, class_weight=balanced, max_iter=1000, penalty=l1, solver=liblinear; total time=   0.3s\n",
      "[CV] END C=10, class_weight=balanced, max_iter=1000, penalty=l1, solver=liblinear; total time=   0.2s\n",
      "[CV] END C=10, class_weight=balanced, max_iter=1000, penalty=l1, solver=liblinear; total time=   0.2s\n"
     ]
    },
    {
     "name": "stderr",
     "output_type": "stream",
     "text": [
      "C:\\Users\\myousaf23\\anaconda3\\Lib\\site-packages\\sklearn\\linear_model\\_sag.py:349: ConvergenceWarning: The max_iter was reached which means the coef_ did not converge\n",
      "  warnings.warn(\n"
     ]
    },
    {
     "name": "stdout",
     "output_type": "stream",
     "text": [
      "[CV] END C=10, class_weight=balanced, max_iter=1000, penalty=l1, solver=saga; total time= 1.7min\n"
     ]
    },
    {
     "name": "stderr",
     "output_type": "stream",
     "text": [
      "C:\\Users\\myousaf23\\anaconda3\\Lib\\site-packages\\sklearn\\linear_model\\_sag.py:349: ConvergenceWarning: The max_iter was reached which means the coef_ did not converge\n",
      "  warnings.warn(\n"
     ]
    },
    {
     "name": "stdout",
     "output_type": "stream",
     "text": [
      "[CV] END C=10, class_weight=balanced, max_iter=1000, penalty=l1, solver=saga; total time= 1.7min\n"
     ]
    },
    {
     "name": "stderr",
     "output_type": "stream",
     "text": [
      "C:\\Users\\myousaf23\\anaconda3\\Lib\\site-packages\\sklearn\\linear_model\\_sag.py:349: ConvergenceWarning: The max_iter was reached which means the coef_ did not converge\n",
      "  warnings.warn(\n"
     ]
    },
    {
     "name": "stdout",
     "output_type": "stream",
     "text": [
      "[CV] END C=10, class_weight=balanced, max_iter=1000, penalty=l1, solver=saga; total time= 1.7min\n"
     ]
    },
    {
     "name": "stderr",
     "output_type": "stream",
     "text": [
      "C:\\Users\\myousaf23\\anaconda3\\Lib\\site-packages\\sklearn\\linear_model\\_sag.py:349: ConvergenceWarning: The max_iter was reached which means the coef_ did not converge\n",
      "  warnings.warn(\n"
     ]
    },
    {
     "name": "stdout",
     "output_type": "stream",
     "text": [
      "[CV] END C=10, class_weight=balanced, max_iter=1000, penalty=l1, solver=saga; total time= 1.7min\n"
     ]
    },
    {
     "name": "stderr",
     "output_type": "stream",
     "text": [
      "C:\\Users\\myousaf23\\anaconda3\\Lib\\site-packages\\sklearn\\linear_model\\_sag.py:349: ConvergenceWarning: The max_iter was reached which means the coef_ did not converge\n",
      "  warnings.warn(\n"
     ]
    },
    {
     "name": "stdout",
     "output_type": "stream",
     "text": [
      "[CV] END C=10, class_weight=balanced, max_iter=1000, penalty=l1, solver=saga; total time= 1.7min\n",
      "[CV] END C=100, class_weight=None, max_iter=100, penalty=l2, solver=liblinear; total time=   0.3s\n",
      "[CV] END C=100, class_weight=None, max_iter=100, penalty=l2, solver=liblinear; total time=   0.2s\n",
      "[CV] END C=100, class_weight=None, max_iter=100, penalty=l2, solver=liblinear; total time=   0.2s\n",
      "[CV] END C=100, class_weight=None, max_iter=100, penalty=l2, solver=liblinear; total time=   0.2s\n",
      "[CV] END C=100, class_weight=None, max_iter=100, penalty=l2, solver=liblinear; total time=   0.3s\n"
     ]
    },
    {
     "name": "stderr",
     "output_type": "stream",
     "text": [
      "C:\\Users\\myousaf23\\anaconda3\\Lib\\site-packages\\sklearn\\linear_model\\_sag.py:349: ConvergenceWarning: The max_iter was reached which means the coef_ did not converge\n",
      "  warnings.warn(\n"
     ]
    },
    {
     "name": "stdout",
     "output_type": "stream",
     "text": [
      "[CV] END C=100, class_weight=None, max_iter=100, penalty=l2, solver=saga; total time=   8.0s\n"
     ]
    },
    {
     "name": "stderr",
     "output_type": "stream",
     "text": [
      "C:\\Users\\myousaf23\\anaconda3\\Lib\\site-packages\\sklearn\\linear_model\\_sag.py:349: ConvergenceWarning: The max_iter was reached which means the coef_ did not converge\n",
      "  warnings.warn(\n"
     ]
    },
    {
     "name": "stdout",
     "output_type": "stream",
     "text": [
      "[CV] END C=100, class_weight=None, max_iter=100, penalty=l2, solver=saga; total time=   8.0s\n"
     ]
    },
    {
     "name": "stderr",
     "output_type": "stream",
     "text": [
      "C:\\Users\\myousaf23\\anaconda3\\Lib\\site-packages\\sklearn\\linear_model\\_sag.py:349: ConvergenceWarning: The max_iter was reached which means the coef_ did not converge\n",
      "  warnings.warn(\n"
     ]
    },
    {
     "name": "stdout",
     "output_type": "stream",
     "text": [
      "[CV] END C=100, class_weight=None, max_iter=100, penalty=l2, solver=saga; total time=   7.9s\n"
     ]
    },
    {
     "name": "stderr",
     "output_type": "stream",
     "text": [
      "C:\\Users\\myousaf23\\anaconda3\\Lib\\site-packages\\sklearn\\linear_model\\_sag.py:349: ConvergenceWarning: The max_iter was reached which means the coef_ did not converge\n",
      "  warnings.warn(\n"
     ]
    },
    {
     "name": "stdout",
     "output_type": "stream",
     "text": [
      "[CV] END C=100, class_weight=None, max_iter=100, penalty=l2, solver=saga; total time=   8.0s\n"
     ]
    },
    {
     "name": "stderr",
     "output_type": "stream",
     "text": [
      "C:\\Users\\myousaf23\\anaconda3\\Lib\\site-packages\\sklearn\\linear_model\\_sag.py:349: ConvergenceWarning: The max_iter was reached which means the coef_ did not converge\n",
      "  warnings.warn(\n"
     ]
    },
    {
     "name": "stdout",
     "output_type": "stream",
     "text": [
      "[CV] END C=100, class_weight=None, max_iter=100, penalty=l2, solver=saga; total time=   4.6s\n",
      "[CV] END C=100, class_weight=None, max_iter=100, penalty=l1, solver=liblinear; total time=   0.2s\n",
      "[CV] END C=100, class_weight=None, max_iter=100, penalty=l1, solver=liblinear; total time=   0.2s\n",
      "[CV] END C=100, class_weight=None, max_iter=100, penalty=l1, solver=liblinear; total time=   0.2s\n",
      "[CV] END C=100, class_weight=None, max_iter=100, penalty=l1, solver=liblinear; total time=   0.2s\n",
      "[CV] END C=100, class_weight=None, max_iter=100, penalty=l1, solver=liblinear; total time=   0.2s\n"
     ]
    },
    {
     "name": "stderr",
     "output_type": "stream",
     "text": [
      "C:\\Users\\myousaf23\\anaconda3\\Lib\\site-packages\\sklearn\\linear_model\\_sag.py:349: ConvergenceWarning: The max_iter was reached which means the coef_ did not converge\n",
      "  warnings.warn(\n"
     ]
    },
    {
     "name": "stdout",
     "output_type": "stream",
     "text": [
      "[CV] END C=100, class_weight=None, max_iter=100, penalty=l1, solver=saga; total time=  14.8s\n"
     ]
    },
    {
     "name": "stderr",
     "output_type": "stream",
     "text": [
      "C:\\Users\\myousaf23\\anaconda3\\Lib\\site-packages\\sklearn\\linear_model\\_sag.py:349: ConvergenceWarning: The max_iter was reached which means the coef_ did not converge\n",
      "  warnings.warn(\n"
     ]
    },
    {
     "name": "stdout",
     "output_type": "stream",
     "text": [
      "[CV] END C=100, class_weight=None, max_iter=100, penalty=l1, solver=saga; total time=  15.0s\n"
     ]
    },
    {
     "name": "stderr",
     "output_type": "stream",
     "text": [
      "C:\\Users\\myousaf23\\anaconda3\\Lib\\site-packages\\sklearn\\linear_model\\_sag.py:349: ConvergenceWarning: The max_iter was reached which means the coef_ did not converge\n",
      "  warnings.warn(\n"
     ]
    },
    {
     "name": "stdout",
     "output_type": "stream",
     "text": [
      "[CV] END C=100, class_weight=None, max_iter=100, penalty=l1, solver=saga; total time=  15.0s\n"
     ]
    },
    {
     "name": "stderr",
     "output_type": "stream",
     "text": [
      "C:\\Users\\myousaf23\\anaconda3\\Lib\\site-packages\\sklearn\\linear_model\\_sag.py:349: ConvergenceWarning: The max_iter was reached which means the coef_ did not converge\n",
      "  warnings.warn(\n"
     ]
    },
    {
     "name": "stdout",
     "output_type": "stream",
     "text": [
      "[CV] END C=100, class_weight=None, max_iter=100, penalty=l1, solver=saga; total time=  12.7s\n"
     ]
    },
    {
     "name": "stderr",
     "output_type": "stream",
     "text": [
      "C:\\Users\\myousaf23\\anaconda3\\Lib\\site-packages\\sklearn\\linear_model\\_sag.py:349: ConvergenceWarning: The max_iter was reached which means the coef_ did not converge\n",
      "  warnings.warn(\n"
     ]
    },
    {
     "name": "stdout",
     "output_type": "stream",
     "text": [
      "[CV] END C=100, class_weight=None, max_iter=100, penalty=l1, solver=saga; total time=  14.8s\n",
      "[CV] END C=100, class_weight=None, max_iter=200, penalty=l2, solver=liblinear; total time=   0.3s\n",
      "[CV] END C=100, class_weight=None, max_iter=200, penalty=l2, solver=liblinear; total time=   0.3s\n",
      "[CV] END C=100, class_weight=None, max_iter=200, penalty=l2, solver=liblinear; total time=   0.3s\n",
      "[CV] END C=100, class_weight=None, max_iter=200, penalty=l2, solver=liblinear; total time=   0.3s\n",
      "[CV] END C=100, class_weight=None, max_iter=200, penalty=l2, solver=liblinear; total time=   0.2s\n"
     ]
    },
    {
     "name": "stderr",
     "output_type": "stream",
     "text": [
      "C:\\Users\\myousaf23\\anaconda3\\Lib\\site-packages\\sklearn\\linear_model\\_sag.py:349: ConvergenceWarning: The max_iter was reached which means the coef_ did not converge\n",
      "  warnings.warn(\n"
     ]
    },
    {
     "name": "stdout",
     "output_type": "stream",
     "text": [
      "[CV] END C=100, class_weight=None, max_iter=200, penalty=l2, solver=saga; total time=  15.4s\n"
     ]
    },
    {
     "name": "stderr",
     "output_type": "stream",
     "text": [
      "C:\\Users\\myousaf23\\anaconda3\\Lib\\site-packages\\sklearn\\linear_model\\_sag.py:349: ConvergenceWarning: The max_iter was reached which means the coef_ did not converge\n",
      "  warnings.warn(\n"
     ]
    },
    {
     "name": "stdout",
     "output_type": "stream",
     "text": [
      "[CV] END C=100, class_weight=None, max_iter=200, penalty=l2, solver=saga; total time=  14.0s\n"
     ]
    },
    {
     "name": "stderr",
     "output_type": "stream",
     "text": [
      "C:\\Users\\myousaf23\\anaconda3\\Lib\\site-packages\\sklearn\\linear_model\\_sag.py:349: ConvergenceWarning: The max_iter was reached which means the coef_ did not converge\n",
      "  warnings.warn(\n"
     ]
    },
    {
     "name": "stdout",
     "output_type": "stream",
     "text": [
      "[CV] END C=100, class_weight=None, max_iter=200, penalty=l2, solver=saga; total time=  14.1s\n"
     ]
    },
    {
     "name": "stderr",
     "output_type": "stream",
     "text": [
      "C:\\Users\\myousaf23\\anaconda3\\Lib\\site-packages\\sklearn\\linear_model\\_sag.py:349: ConvergenceWarning: The max_iter was reached which means the coef_ did not converge\n",
      "  warnings.warn(\n"
     ]
    },
    {
     "name": "stdout",
     "output_type": "stream",
     "text": [
      "[CV] END C=100, class_weight=None, max_iter=200, penalty=l2, solver=saga; total time=  15.7s\n"
     ]
    },
    {
     "name": "stderr",
     "output_type": "stream",
     "text": [
      "C:\\Users\\myousaf23\\anaconda3\\Lib\\site-packages\\sklearn\\linear_model\\_sag.py:349: ConvergenceWarning: The max_iter was reached which means the coef_ did not converge\n",
      "  warnings.warn(\n"
     ]
    },
    {
     "name": "stdout",
     "output_type": "stream",
     "text": [
      "[CV] END C=100, class_weight=None, max_iter=200, penalty=l2, solver=saga; total time=  15.7s\n",
      "[CV] END C=100, class_weight=None, max_iter=200, penalty=l1, solver=liblinear; total time=   0.2s\n",
      "[CV] END C=100, class_weight=None, max_iter=200, penalty=l1, solver=liblinear; total time=   0.2s\n",
      "[CV] END C=100, class_weight=None, max_iter=200, penalty=l1, solver=liblinear; total time=   0.2s\n",
      "[CV] END C=100, class_weight=None, max_iter=200, penalty=l1, solver=liblinear; total time=   0.2s\n",
      "[CV] END C=100, class_weight=None, max_iter=200, penalty=l1, solver=liblinear; total time=   0.2s\n"
     ]
    },
    {
     "name": "stderr",
     "output_type": "stream",
     "text": [
      "C:\\Users\\myousaf23\\anaconda3\\Lib\\site-packages\\sklearn\\linear_model\\_sag.py:349: ConvergenceWarning: The max_iter was reached which means the coef_ did not converge\n",
      "  warnings.warn(\n"
     ]
    },
    {
     "name": "stdout",
     "output_type": "stream",
     "text": [
      "[CV] END C=100, class_weight=None, max_iter=200, penalty=l1, solver=saga; total time=  26.6s\n"
     ]
    },
    {
     "name": "stderr",
     "output_type": "stream",
     "text": [
      "C:\\Users\\myousaf23\\anaconda3\\Lib\\site-packages\\sklearn\\linear_model\\_sag.py:349: ConvergenceWarning: The max_iter was reached which means the coef_ did not converge\n",
      "  warnings.warn(\n"
     ]
    },
    {
     "name": "stdout",
     "output_type": "stream",
     "text": [
      "[CV] END C=100, class_weight=None, max_iter=200, penalty=l1, solver=saga; total time=  29.4s\n"
     ]
    },
    {
     "name": "stderr",
     "output_type": "stream",
     "text": [
      "C:\\Users\\myousaf23\\anaconda3\\Lib\\site-packages\\sklearn\\linear_model\\_sag.py:349: ConvergenceWarning: The max_iter was reached which means the coef_ did not converge\n",
      "  warnings.warn(\n"
     ]
    },
    {
     "name": "stdout",
     "output_type": "stream",
     "text": [
      "[CV] END C=100, class_weight=None, max_iter=200, penalty=l1, solver=saga; total time=  26.9s\n"
     ]
    },
    {
     "name": "stderr",
     "output_type": "stream",
     "text": [
      "C:\\Users\\myousaf23\\anaconda3\\Lib\\site-packages\\sklearn\\linear_model\\_sag.py:349: ConvergenceWarning: The max_iter was reached which means the coef_ did not converge\n",
      "  warnings.warn(\n"
     ]
    },
    {
     "name": "stdout",
     "output_type": "stream",
     "text": [
      "[CV] END C=100, class_weight=None, max_iter=200, penalty=l1, solver=saga; total time=  29.4s\n"
     ]
    },
    {
     "name": "stderr",
     "output_type": "stream",
     "text": [
      "C:\\Users\\myousaf23\\anaconda3\\Lib\\site-packages\\sklearn\\linear_model\\_sag.py:349: ConvergenceWarning: The max_iter was reached which means the coef_ did not converge\n",
      "  warnings.warn(\n"
     ]
    },
    {
     "name": "stdout",
     "output_type": "stream",
     "text": [
      "[CV] END C=100, class_weight=None, max_iter=200, penalty=l1, solver=saga; total time=  27.0s\n",
      "[CV] END C=100, class_weight=None, max_iter=500, penalty=l2, solver=liblinear; total time=   0.2s\n",
      "[CV] END C=100, class_weight=None, max_iter=500, penalty=l2, solver=liblinear; total time=   0.2s\n",
      "[CV] END C=100, class_weight=None, max_iter=500, penalty=l2, solver=liblinear; total time=   0.3s\n",
      "[CV] END C=100, class_weight=None, max_iter=500, penalty=l2, solver=liblinear; total time=   0.2s\n",
      "[CV] END C=100, class_weight=None, max_iter=500, penalty=l2, solver=liblinear; total time=   0.2s\n"
     ]
    },
    {
     "name": "stderr",
     "output_type": "stream",
     "text": [
      "C:\\Users\\myousaf23\\anaconda3\\Lib\\site-packages\\sklearn\\linear_model\\_sag.py:349: ConvergenceWarning: The max_iter was reached which means the coef_ did not converge\n",
      "  warnings.warn(\n"
     ]
    },
    {
     "name": "stdout",
     "output_type": "stream",
     "text": [
      "[CV] END C=100, class_weight=None, max_iter=500, penalty=l2, solver=saga; total time=  35.4s\n"
     ]
    },
    {
     "name": "stderr",
     "output_type": "stream",
     "text": [
      "C:\\Users\\myousaf23\\anaconda3\\Lib\\site-packages\\sklearn\\linear_model\\_sag.py:349: ConvergenceWarning: The max_iter was reached which means the coef_ did not converge\n",
      "  warnings.warn(\n"
     ]
    },
    {
     "name": "stdout",
     "output_type": "stream",
     "text": [
      "[CV] END C=100, class_weight=None, max_iter=500, penalty=l2, solver=saga; total time=  28.3s\n"
     ]
    },
    {
     "name": "stderr",
     "output_type": "stream",
     "text": [
      "C:\\Users\\myousaf23\\anaconda3\\Lib\\site-packages\\sklearn\\linear_model\\_sag.py:349: ConvergenceWarning: The max_iter was reached which means the coef_ did not converge\n",
      "  warnings.warn(\n"
     ]
    },
    {
     "name": "stdout",
     "output_type": "stream",
     "text": [
      "[CV] END C=100, class_weight=None, max_iter=500, penalty=l2, solver=saga; total time=  29.3s\n"
     ]
    },
    {
     "name": "stderr",
     "output_type": "stream",
     "text": [
      "C:\\Users\\myousaf23\\anaconda3\\Lib\\site-packages\\sklearn\\linear_model\\_sag.py:349: ConvergenceWarning: The max_iter was reached which means the coef_ did not converge\n",
      "  warnings.warn(\n"
     ]
    },
    {
     "name": "stdout",
     "output_type": "stream",
     "text": [
      "[CV] END C=100, class_weight=None, max_iter=500, penalty=l2, solver=saga; total time=  29.7s\n"
     ]
    },
    {
     "name": "stderr",
     "output_type": "stream",
     "text": [
      "C:\\Users\\myousaf23\\anaconda3\\Lib\\site-packages\\sklearn\\linear_model\\_sag.py:349: ConvergenceWarning: The max_iter was reached which means the coef_ did not converge\n",
      "  warnings.warn(\n"
     ]
    },
    {
     "name": "stdout",
     "output_type": "stream",
     "text": [
      "[CV] END C=100, class_weight=None, max_iter=500, penalty=l2, solver=saga; total time=  28.4s\n",
      "[CV] END C=100, class_weight=None, max_iter=500, penalty=l1, solver=liblinear; total time=   0.2s\n",
      "[CV] END C=100, class_weight=None, max_iter=500, penalty=l1, solver=liblinear; total time=   0.2s\n",
      "[CV] END C=100, class_weight=None, max_iter=500, penalty=l1, solver=liblinear; total time=   0.2s\n",
      "[CV] END C=100, class_weight=None, max_iter=500, penalty=l1, solver=liblinear; total time=   0.2s\n",
      "[CV] END C=100, class_weight=None, max_iter=500, penalty=l1, solver=liblinear; total time=   0.2s\n"
     ]
    },
    {
     "name": "stderr",
     "output_type": "stream",
     "text": [
      "C:\\Users\\myousaf23\\anaconda3\\Lib\\site-packages\\sklearn\\linear_model\\_sag.py:349: ConvergenceWarning: The max_iter was reached which means the coef_ did not converge\n",
      "  warnings.warn(\n"
     ]
    },
    {
     "name": "stdout",
     "output_type": "stream",
     "text": [
      "[CV] END C=100, class_weight=None, max_iter=500, penalty=l1, solver=saga; total time=  58.3s\n"
     ]
    },
    {
     "name": "stderr",
     "output_type": "stream",
     "text": [
      "C:\\Users\\myousaf23\\anaconda3\\Lib\\site-packages\\sklearn\\linear_model\\_sag.py:349: ConvergenceWarning: The max_iter was reached which means the coef_ did not converge\n",
      "  warnings.warn(\n"
     ]
    },
    {
     "name": "stdout",
     "output_type": "stream",
     "text": [
      "[CV] END C=100, class_weight=None, max_iter=500, penalty=l1, solver=saga; total time= 1.0min\n"
     ]
    },
    {
     "name": "stderr",
     "output_type": "stream",
     "text": [
      "C:\\Users\\myousaf23\\anaconda3\\Lib\\site-packages\\sklearn\\linear_model\\_sag.py:349: ConvergenceWarning: The max_iter was reached which means the coef_ did not converge\n",
      "  warnings.warn(\n"
     ]
    },
    {
     "name": "stdout",
     "output_type": "stream",
     "text": [
      "[CV] END C=100, class_weight=None, max_iter=500, penalty=l1, solver=saga; total time= 1.0min\n"
     ]
    },
    {
     "name": "stderr",
     "output_type": "stream",
     "text": [
      "C:\\Users\\myousaf23\\anaconda3\\Lib\\site-packages\\sklearn\\linear_model\\_sag.py:349: ConvergenceWarning: The max_iter was reached which means the coef_ did not converge\n",
      "  warnings.warn(\n"
     ]
    },
    {
     "name": "stdout",
     "output_type": "stream",
     "text": [
      "[CV] END C=100, class_weight=None, max_iter=500, penalty=l1, solver=saga; total time= 1.1min\n"
     ]
    },
    {
     "name": "stderr",
     "output_type": "stream",
     "text": [
      "C:\\Users\\myousaf23\\anaconda3\\Lib\\site-packages\\sklearn\\linear_model\\_sag.py:349: ConvergenceWarning: The max_iter was reached which means the coef_ did not converge\n",
      "  warnings.warn(\n"
     ]
    },
    {
     "name": "stdout",
     "output_type": "stream",
     "text": [
      "[CV] END C=100, class_weight=None, max_iter=500, penalty=l1, solver=saga; total time= 1.0min\n",
      "[CV] END C=100, class_weight=None, max_iter=700, penalty=l2, solver=liblinear; total time=   0.1s\n",
      "[CV] END C=100, class_weight=None, max_iter=700, penalty=l2, solver=liblinear; total time=   0.1s\n",
      "[CV] END C=100, class_weight=None, max_iter=700, penalty=l2, solver=liblinear; total time=   0.2s\n",
      "[CV] END C=100, class_weight=None, max_iter=700, penalty=l2, solver=liblinear; total time=   0.2s\n",
      "[CV] END C=100, class_weight=None, max_iter=700, penalty=l2, solver=liblinear; total time=   0.2s\n"
     ]
    },
    {
     "name": "stderr",
     "output_type": "stream",
     "text": [
      "C:\\Users\\myousaf23\\anaconda3\\Lib\\site-packages\\sklearn\\linear_model\\_sag.py:349: ConvergenceWarning: The max_iter was reached which means the coef_ did not converge\n",
      "  warnings.warn(\n"
     ]
    },
    {
     "name": "stdout",
     "output_type": "stream",
     "text": [
      "[CV] END C=100, class_weight=None, max_iter=700, penalty=l2, solver=saga; total time=  48.9s\n"
     ]
    },
    {
     "name": "stderr",
     "output_type": "stream",
     "text": [
      "C:\\Users\\myousaf23\\anaconda3\\Lib\\site-packages\\sklearn\\linear_model\\_sag.py:349: ConvergenceWarning: The max_iter was reached which means the coef_ did not converge\n",
      "  warnings.warn(\n"
     ]
    },
    {
     "name": "stdout",
     "output_type": "stream",
     "text": [
      "[CV] END C=100, class_weight=None, max_iter=700, penalty=l2, solver=saga; total time=  49.2s\n"
     ]
    },
    {
     "name": "stderr",
     "output_type": "stream",
     "text": [
      "C:\\Users\\myousaf23\\anaconda3\\Lib\\site-packages\\sklearn\\linear_model\\_sag.py:349: ConvergenceWarning: The max_iter was reached which means the coef_ did not converge\n",
      "  warnings.warn(\n"
     ]
    },
    {
     "name": "stdout",
     "output_type": "stream",
     "text": [
      "[CV] END C=100, class_weight=None, max_iter=700, penalty=l2, solver=saga; total time=  49.6s\n"
     ]
    },
    {
     "name": "stderr",
     "output_type": "stream",
     "text": [
      "C:\\Users\\myousaf23\\anaconda3\\Lib\\site-packages\\sklearn\\linear_model\\_sag.py:349: ConvergenceWarning: The max_iter was reached which means the coef_ did not converge\n",
      "  warnings.warn(\n"
     ]
    },
    {
     "name": "stdout",
     "output_type": "stream",
     "text": [
      "[CV] END C=100, class_weight=None, max_iter=700, penalty=l2, solver=saga; total time=  48.2s\n"
     ]
    },
    {
     "name": "stderr",
     "output_type": "stream",
     "text": [
      "C:\\Users\\myousaf23\\anaconda3\\Lib\\site-packages\\sklearn\\linear_model\\_sag.py:349: ConvergenceWarning: The max_iter was reached which means the coef_ did not converge\n",
      "  warnings.warn(\n"
     ]
    },
    {
     "name": "stdout",
     "output_type": "stream",
     "text": [
      "[CV] END C=100, class_weight=None, max_iter=700, penalty=l2, solver=saga; total time=  48.1s\n",
      "[CV] END C=100, class_weight=None, max_iter=700, penalty=l1, solver=liblinear; total time=   0.2s\n",
      "[CV] END C=100, class_weight=None, max_iter=700, penalty=l1, solver=liblinear; total time=   0.2s\n",
      "[CV] END C=100, class_weight=None, max_iter=700, penalty=l1, solver=liblinear; total time=   0.2s\n",
      "[CV] END C=100, class_weight=None, max_iter=700, penalty=l1, solver=liblinear; total time=   0.2s\n",
      "[CV] END C=100, class_weight=None, max_iter=700, penalty=l1, solver=liblinear; total time=   0.2s\n"
     ]
    },
    {
     "name": "stderr",
     "output_type": "stream",
     "text": [
      "C:\\Users\\myousaf23\\anaconda3\\Lib\\site-packages\\sklearn\\linear_model\\_sag.py:349: ConvergenceWarning: The max_iter was reached which means the coef_ did not converge\n",
      "  warnings.warn(\n"
     ]
    },
    {
     "name": "stdout",
     "output_type": "stream",
     "text": [
      "[CV] END C=100, class_weight=None, max_iter=700, penalty=l1, solver=saga; total time= 1.5min\n"
     ]
    },
    {
     "name": "stderr",
     "output_type": "stream",
     "text": [
      "C:\\Users\\myousaf23\\anaconda3\\Lib\\site-packages\\sklearn\\linear_model\\_sag.py:349: ConvergenceWarning: The max_iter was reached which means the coef_ did not converge\n",
      "  warnings.warn(\n"
     ]
    },
    {
     "name": "stdout",
     "output_type": "stream",
     "text": [
      "[CV] END C=100, class_weight=None, max_iter=700, penalty=l1, solver=saga; total time= 1.5min\n"
     ]
    },
    {
     "name": "stderr",
     "output_type": "stream",
     "text": [
      "C:\\Users\\myousaf23\\anaconda3\\Lib\\site-packages\\sklearn\\linear_model\\_sag.py:349: ConvergenceWarning: The max_iter was reached which means the coef_ did not converge\n",
      "  warnings.warn(\n"
     ]
    },
    {
     "name": "stdout",
     "output_type": "stream",
     "text": [
      "[CV] END C=100, class_weight=None, max_iter=700, penalty=l1, solver=saga; total time= 1.5min\n"
     ]
    },
    {
     "name": "stderr",
     "output_type": "stream",
     "text": [
      "C:\\Users\\myousaf23\\anaconda3\\Lib\\site-packages\\sklearn\\linear_model\\_sag.py:349: ConvergenceWarning: The max_iter was reached which means the coef_ did not converge\n",
      "  warnings.warn(\n"
     ]
    },
    {
     "name": "stdout",
     "output_type": "stream",
     "text": [
      "[CV] END C=100, class_weight=None, max_iter=700, penalty=l1, solver=saga; total time= 1.5min\n"
     ]
    },
    {
     "name": "stderr",
     "output_type": "stream",
     "text": [
      "C:\\Users\\myousaf23\\anaconda3\\Lib\\site-packages\\sklearn\\linear_model\\_sag.py:349: ConvergenceWarning: The max_iter was reached which means the coef_ did not converge\n",
      "  warnings.warn(\n"
     ]
    },
    {
     "name": "stdout",
     "output_type": "stream",
     "text": [
      "[CV] END C=100, class_weight=None, max_iter=700, penalty=l1, solver=saga; total time= 1.5min\n",
      "[CV] END C=100, class_weight=None, max_iter=1000, penalty=l2, solver=liblinear; total time=   0.2s\n",
      "[CV] END C=100, class_weight=None, max_iter=1000, penalty=l2, solver=liblinear; total time=   0.3s\n",
      "[CV] END C=100, class_weight=None, max_iter=1000, penalty=l2, solver=liblinear; total time=   0.3s\n",
      "[CV] END C=100, class_weight=None, max_iter=1000, penalty=l2, solver=liblinear; total time=   0.3s\n",
      "[CV] END C=100, class_weight=None, max_iter=1000, penalty=l2, solver=liblinear; total time=   0.2s\n"
     ]
    },
    {
     "name": "stderr",
     "output_type": "stream",
     "text": [
      "C:\\Users\\myousaf23\\anaconda3\\Lib\\site-packages\\sklearn\\linear_model\\_sag.py:349: ConvergenceWarning: The max_iter was reached which means the coef_ did not converge\n",
      "  warnings.warn(\n"
     ]
    },
    {
     "name": "stdout",
     "output_type": "stream",
     "text": [
      "[CV] END C=100, class_weight=None, max_iter=1000, penalty=l2, solver=saga; total time= 1.2min\n"
     ]
    },
    {
     "name": "stderr",
     "output_type": "stream",
     "text": [
      "C:\\Users\\myousaf23\\anaconda3\\Lib\\site-packages\\sklearn\\linear_model\\_sag.py:349: ConvergenceWarning: The max_iter was reached which means the coef_ did not converge\n",
      "  warnings.warn(\n"
     ]
    },
    {
     "name": "stdout",
     "output_type": "stream",
     "text": [
      "[CV] END C=100, class_weight=None, max_iter=1000, penalty=l2, solver=saga; total time= 1.2min\n"
     ]
    },
    {
     "name": "stderr",
     "output_type": "stream",
     "text": [
      "C:\\Users\\myousaf23\\anaconda3\\Lib\\site-packages\\sklearn\\linear_model\\_sag.py:349: ConvergenceWarning: The max_iter was reached which means the coef_ did not converge\n",
      "  warnings.warn(\n"
     ]
    },
    {
     "name": "stdout",
     "output_type": "stream",
     "text": [
      "[CV] END C=100, class_weight=None, max_iter=1000, penalty=l2, solver=saga; total time= 1.2min\n"
     ]
    },
    {
     "name": "stderr",
     "output_type": "stream",
     "text": [
      "C:\\Users\\myousaf23\\anaconda3\\Lib\\site-packages\\sklearn\\linear_model\\_sag.py:349: ConvergenceWarning: The max_iter was reached which means the coef_ did not converge\n",
      "  warnings.warn(\n"
     ]
    },
    {
     "name": "stdout",
     "output_type": "stream",
     "text": [
      "[CV] END C=100, class_weight=None, max_iter=1000, penalty=l2, solver=saga; total time= 1.2min\n"
     ]
    },
    {
     "name": "stderr",
     "output_type": "stream",
     "text": [
      "C:\\Users\\myousaf23\\anaconda3\\Lib\\site-packages\\sklearn\\linear_model\\_sag.py:349: ConvergenceWarning: The max_iter was reached which means the coef_ did not converge\n",
      "  warnings.warn(\n"
     ]
    },
    {
     "name": "stdout",
     "output_type": "stream",
     "text": [
      "[CV] END C=100, class_weight=None, max_iter=1000, penalty=l2, solver=saga; total time= 1.2min\n",
      "[CV] END C=100, class_weight=None, max_iter=1000, penalty=l1, solver=liblinear; total time=   0.2s\n",
      "[CV] END C=100, class_weight=None, max_iter=1000, penalty=l1, solver=liblinear; total time=   0.2s\n",
      "[CV] END C=100, class_weight=None, max_iter=1000, penalty=l1, solver=liblinear; total time=   0.2s\n",
      "[CV] END C=100, class_weight=None, max_iter=1000, penalty=l1, solver=liblinear; total time=   0.2s\n",
      "[CV] END C=100, class_weight=None, max_iter=1000, penalty=l1, solver=liblinear; total time=   0.2s\n"
     ]
    },
    {
     "name": "stderr",
     "output_type": "stream",
     "text": [
      "C:\\Users\\myousaf23\\anaconda3\\Lib\\site-packages\\sklearn\\linear_model\\_sag.py:349: ConvergenceWarning: The max_iter was reached which means the coef_ did not converge\n",
      "  warnings.warn(\n"
     ]
    },
    {
     "name": "stdout",
     "output_type": "stream",
     "text": [
      "[CV] END C=100, class_weight=None, max_iter=1000, penalty=l1, solver=saga; total time= 2.2min\n"
     ]
    },
    {
     "name": "stderr",
     "output_type": "stream",
     "text": [
      "C:\\Users\\myousaf23\\anaconda3\\Lib\\site-packages\\sklearn\\linear_model\\_sag.py:349: ConvergenceWarning: The max_iter was reached which means the coef_ did not converge\n",
      "  warnings.warn(\n"
     ]
    },
    {
     "name": "stdout",
     "output_type": "stream",
     "text": [
      "[CV] END C=100, class_weight=None, max_iter=1000, penalty=l1, solver=saga; total time= 2.2min\n"
     ]
    },
    {
     "name": "stderr",
     "output_type": "stream",
     "text": [
      "C:\\Users\\myousaf23\\anaconda3\\Lib\\site-packages\\sklearn\\linear_model\\_sag.py:349: ConvergenceWarning: The max_iter was reached which means the coef_ did not converge\n",
      "  warnings.warn(\n"
     ]
    },
    {
     "name": "stdout",
     "output_type": "stream",
     "text": [
      "[CV] END C=100, class_weight=None, max_iter=1000, penalty=l1, solver=saga; total time= 2.1min\n"
     ]
    },
    {
     "name": "stderr",
     "output_type": "stream",
     "text": [
      "C:\\Users\\myousaf23\\anaconda3\\Lib\\site-packages\\sklearn\\linear_model\\_sag.py:349: ConvergenceWarning: The max_iter was reached which means the coef_ did not converge\n",
      "  warnings.warn(\n"
     ]
    },
    {
     "name": "stdout",
     "output_type": "stream",
     "text": [
      "[CV] END C=100, class_weight=None, max_iter=1000, penalty=l1, solver=saga; total time= 2.2min\n"
     ]
    },
    {
     "name": "stderr",
     "output_type": "stream",
     "text": [
      "C:\\Users\\myousaf23\\anaconda3\\Lib\\site-packages\\sklearn\\linear_model\\_sag.py:349: ConvergenceWarning: The max_iter was reached which means the coef_ did not converge\n",
      "  warnings.warn(\n"
     ]
    },
    {
     "name": "stdout",
     "output_type": "stream",
     "text": [
      "[CV] END C=100, class_weight=None, max_iter=1000, penalty=l1, solver=saga; total time= 2.2min\n",
      "[CV] END C=100, class_weight=balanced, max_iter=100, penalty=l2, solver=liblinear; total time=   0.3s\n",
      "[CV] END C=100, class_weight=balanced, max_iter=100, penalty=l2, solver=liblinear; total time=   0.2s\n",
      "[CV] END C=100, class_weight=balanced, max_iter=100, penalty=l2, solver=liblinear; total time=   0.2s\n",
      "[CV] END C=100, class_weight=balanced, max_iter=100, penalty=l2, solver=liblinear; total time=   0.3s\n",
      "[CV] END C=100, class_weight=balanced, max_iter=100, penalty=l2, solver=liblinear; total time=   0.2s\n"
     ]
    },
    {
     "name": "stderr",
     "output_type": "stream",
     "text": [
      "C:\\Users\\myousaf23\\anaconda3\\Lib\\site-packages\\sklearn\\linear_model\\_sag.py:349: ConvergenceWarning: The max_iter was reached which means the coef_ did not converge\n",
      "  warnings.warn(\n"
     ]
    },
    {
     "name": "stdout",
     "output_type": "stream",
     "text": [
      "[CV] END C=100, class_weight=balanced, max_iter=100, penalty=l2, solver=saga; total time=   7.7s\n"
     ]
    },
    {
     "name": "stderr",
     "output_type": "stream",
     "text": [
      "C:\\Users\\myousaf23\\anaconda3\\Lib\\site-packages\\sklearn\\linear_model\\_sag.py:349: ConvergenceWarning: The max_iter was reached which means the coef_ did not converge\n",
      "  warnings.warn(\n"
     ]
    },
    {
     "name": "stdout",
     "output_type": "stream",
     "text": [
      "[CV] END C=100, class_weight=balanced, max_iter=100, penalty=l2, solver=saga; total time=   8.1s\n"
     ]
    },
    {
     "name": "stderr",
     "output_type": "stream",
     "text": [
      "C:\\Users\\myousaf23\\anaconda3\\Lib\\site-packages\\sklearn\\linear_model\\_sag.py:349: ConvergenceWarning: The max_iter was reached which means the coef_ did not converge\n",
      "  warnings.warn(\n"
     ]
    },
    {
     "name": "stdout",
     "output_type": "stream",
     "text": [
      "[CV] END C=100, class_weight=balanced, max_iter=100, penalty=l2, solver=saga; total time=   5.3s\n"
     ]
    },
    {
     "name": "stderr",
     "output_type": "stream",
     "text": [
      "C:\\Users\\myousaf23\\anaconda3\\Lib\\site-packages\\sklearn\\linear_model\\_sag.py:349: ConvergenceWarning: The max_iter was reached which means the coef_ did not converge\n",
      "  warnings.warn(\n"
     ]
    },
    {
     "name": "stdout",
     "output_type": "stream",
     "text": [
      "[CV] END C=100, class_weight=balanced, max_iter=100, penalty=l2, solver=saga; total time=   7.1s\n"
     ]
    },
    {
     "name": "stderr",
     "output_type": "stream",
     "text": [
      "C:\\Users\\myousaf23\\anaconda3\\Lib\\site-packages\\sklearn\\linear_model\\_sag.py:349: ConvergenceWarning: The max_iter was reached which means the coef_ did not converge\n",
      "  warnings.warn(\n"
     ]
    },
    {
     "name": "stdout",
     "output_type": "stream",
     "text": [
      "[CV] END C=100, class_weight=balanced, max_iter=100, penalty=l2, solver=saga; total time=   8.1s\n",
      "[CV] END C=100, class_weight=balanced, max_iter=100, penalty=l1, solver=liblinear; total time=   0.2s\n",
      "[CV] END C=100, class_weight=balanced, max_iter=100, penalty=l1, solver=liblinear; total time=   0.2s\n",
      "[CV] END C=100, class_weight=balanced, max_iter=100, penalty=l1, solver=liblinear; total time=   0.2s\n",
      "[CV] END C=100, class_weight=balanced, max_iter=100, penalty=l1, solver=liblinear; total time=   0.2s\n",
      "[CV] END C=100, class_weight=balanced, max_iter=100, penalty=l1, solver=liblinear; total time=   0.2s\n"
     ]
    },
    {
     "name": "stderr",
     "output_type": "stream",
     "text": [
      "C:\\Users\\myousaf23\\anaconda3\\Lib\\site-packages\\sklearn\\linear_model\\_sag.py:349: ConvergenceWarning: The max_iter was reached which means the coef_ did not converge\n",
      "  warnings.warn(\n"
     ]
    },
    {
     "name": "stdout",
     "output_type": "stream",
     "text": [
      "[CV] END C=100, class_weight=balanced, max_iter=100, penalty=l1, solver=saga; total time=  15.3s\n"
     ]
    },
    {
     "name": "stderr",
     "output_type": "stream",
     "text": [
      "C:\\Users\\myousaf23\\anaconda3\\Lib\\site-packages\\sklearn\\linear_model\\_sag.py:349: ConvergenceWarning: The max_iter was reached which means the coef_ did not converge\n",
      "  warnings.warn(\n"
     ]
    },
    {
     "name": "stdout",
     "output_type": "stream",
     "text": [
      "[CV] END C=100, class_weight=balanced, max_iter=100, penalty=l1, solver=saga; total time=  15.0s\n"
     ]
    },
    {
     "name": "stderr",
     "output_type": "stream",
     "text": [
      "C:\\Users\\myousaf23\\anaconda3\\Lib\\site-packages\\sklearn\\linear_model\\_sag.py:349: ConvergenceWarning: The max_iter was reached which means the coef_ did not converge\n",
      "  warnings.warn(\n"
     ]
    },
    {
     "name": "stdout",
     "output_type": "stream",
     "text": [
      "[CV] END C=100, class_weight=balanced, max_iter=100, penalty=l1, solver=saga; total time=  12.3s\n"
     ]
    },
    {
     "name": "stderr",
     "output_type": "stream",
     "text": [
      "C:\\Users\\myousaf23\\anaconda3\\Lib\\site-packages\\sklearn\\linear_model\\_sag.py:349: ConvergenceWarning: The max_iter was reached which means the coef_ did not converge\n",
      "  warnings.warn(\n"
     ]
    },
    {
     "name": "stdout",
     "output_type": "stream",
     "text": [
      "[CV] END C=100, class_weight=balanced, max_iter=100, penalty=l1, solver=saga; total time=  15.2s\n"
     ]
    },
    {
     "name": "stderr",
     "output_type": "stream",
     "text": [
      "C:\\Users\\myousaf23\\anaconda3\\Lib\\site-packages\\sklearn\\linear_model\\_sag.py:349: ConvergenceWarning: The max_iter was reached which means the coef_ did not converge\n",
      "  warnings.warn(\n"
     ]
    },
    {
     "name": "stdout",
     "output_type": "stream",
     "text": [
      "[CV] END C=100, class_weight=balanced, max_iter=100, penalty=l1, solver=saga; total time=  14.7s\n",
      "[CV] END C=100, class_weight=balanced, max_iter=200, penalty=l2, solver=liblinear; total time=   0.2s\n",
      "[CV] END C=100, class_weight=balanced, max_iter=200, penalty=l2, solver=liblinear; total time=   0.2s\n",
      "[CV] END C=100, class_weight=balanced, max_iter=200, penalty=l2, solver=liblinear; total time=   0.2s\n",
      "[CV] END C=100, class_weight=balanced, max_iter=200, penalty=l2, solver=liblinear; total time=   0.2s\n",
      "[CV] END C=100, class_weight=balanced, max_iter=200, penalty=l2, solver=liblinear; total time=   0.3s\n"
     ]
    },
    {
     "name": "stderr",
     "output_type": "stream",
     "text": [
      "C:\\Users\\myousaf23\\anaconda3\\Lib\\site-packages\\sklearn\\linear_model\\_sag.py:349: ConvergenceWarning: The max_iter was reached which means the coef_ did not converge\n",
      "  warnings.warn(\n"
     ]
    },
    {
     "name": "stdout",
     "output_type": "stream",
     "text": [
      "[CV] END C=100, class_weight=balanced, max_iter=200, penalty=l2, solver=saga; total time=  13.2s\n"
     ]
    },
    {
     "name": "stderr",
     "output_type": "stream",
     "text": [
      "C:\\Users\\myousaf23\\anaconda3\\Lib\\site-packages\\sklearn\\linear_model\\_sag.py:349: ConvergenceWarning: The max_iter was reached which means the coef_ did not converge\n",
      "  warnings.warn(\n"
     ]
    },
    {
     "name": "stdout",
     "output_type": "stream",
     "text": [
      "[CV] END C=100, class_weight=balanced, max_iter=200, penalty=l2, solver=saga; total time=  14.9s\n"
     ]
    },
    {
     "name": "stderr",
     "output_type": "stream",
     "text": [
      "C:\\Users\\myousaf23\\anaconda3\\Lib\\site-packages\\sklearn\\linear_model\\_sag.py:349: ConvergenceWarning: The max_iter was reached which means the coef_ did not converge\n",
      "  warnings.warn(\n"
     ]
    },
    {
     "name": "stdout",
     "output_type": "stream",
     "text": [
      "[CV] END C=100, class_weight=balanced, max_iter=200, penalty=l2, solver=saga; total time=  15.7s\n"
     ]
    },
    {
     "name": "stderr",
     "output_type": "stream",
     "text": [
      "C:\\Users\\myousaf23\\anaconda3\\Lib\\site-packages\\sklearn\\linear_model\\_sag.py:349: ConvergenceWarning: The max_iter was reached which means the coef_ did not converge\n",
      "  warnings.warn(\n"
     ]
    },
    {
     "name": "stdout",
     "output_type": "stream",
     "text": [
      "[CV] END C=100, class_weight=balanced, max_iter=200, penalty=l2, solver=saga; total time=  16.1s\n"
     ]
    },
    {
     "name": "stderr",
     "output_type": "stream",
     "text": [
      "C:\\Users\\myousaf23\\anaconda3\\Lib\\site-packages\\sklearn\\linear_model\\_sag.py:349: ConvergenceWarning: The max_iter was reached which means the coef_ did not converge\n",
      "  warnings.warn(\n"
     ]
    },
    {
     "name": "stdout",
     "output_type": "stream",
     "text": [
      "[CV] END C=100, class_weight=balanced, max_iter=200, penalty=l2, solver=saga; total time=  12.2s\n",
      "[CV] END C=100, class_weight=balanced, max_iter=200, penalty=l1, solver=liblinear; total time=   0.2s\n",
      "[CV] END C=100, class_weight=balanced, max_iter=200, penalty=l1, solver=liblinear; total time=   0.2s\n",
      "[CV] END C=100, class_weight=balanced, max_iter=200, penalty=l1, solver=liblinear; total time=   0.2s\n",
      "[CV] END C=100, class_weight=balanced, max_iter=200, penalty=l1, solver=liblinear; total time=   0.2s\n",
      "[CV] END C=100, class_weight=balanced, max_iter=200, penalty=l1, solver=liblinear; total time=   0.2s\n"
     ]
    },
    {
     "name": "stderr",
     "output_type": "stream",
     "text": [
      "C:\\Users\\myousaf23\\anaconda3\\Lib\\site-packages\\sklearn\\linear_model\\_sag.py:349: ConvergenceWarning: The max_iter was reached which means the coef_ did not converge\n",
      "  warnings.warn(\n"
     ]
    },
    {
     "name": "stdout",
     "output_type": "stream",
     "text": [
      "[CV] END C=100, class_weight=balanced, max_iter=200, penalty=l1, solver=saga; total time=  30.0s\n"
     ]
    },
    {
     "name": "stderr",
     "output_type": "stream",
     "text": [
      "C:\\Users\\myousaf23\\anaconda3\\Lib\\site-packages\\sklearn\\linear_model\\_sag.py:349: ConvergenceWarning: The max_iter was reached which means the coef_ did not converge\n",
      "  warnings.warn(\n"
     ]
    },
    {
     "name": "stdout",
     "output_type": "stream",
     "text": [
      "[CV] END C=100, class_weight=balanced, max_iter=200, penalty=l1, solver=saga; total time=  26.9s\n"
     ]
    },
    {
     "name": "stderr",
     "output_type": "stream",
     "text": [
      "C:\\Users\\myousaf23\\anaconda3\\Lib\\site-packages\\sklearn\\linear_model\\_sag.py:349: ConvergenceWarning: The max_iter was reached which means the coef_ did not converge\n",
      "  warnings.warn(\n"
     ]
    },
    {
     "name": "stdout",
     "output_type": "stream",
     "text": [
      "[CV] END C=100, class_weight=balanced, max_iter=200, penalty=l1, solver=saga; total time=  30.1s\n"
     ]
    },
    {
     "name": "stderr",
     "output_type": "stream",
     "text": [
      "C:\\Users\\myousaf23\\anaconda3\\Lib\\site-packages\\sklearn\\linear_model\\_sag.py:349: ConvergenceWarning: The max_iter was reached which means the coef_ did not converge\n",
      "  warnings.warn(\n"
     ]
    },
    {
     "name": "stdout",
     "output_type": "stream",
     "text": [
      "[CV] END C=100, class_weight=balanced, max_iter=200, penalty=l1, solver=saga; total time=  26.9s\n"
     ]
    },
    {
     "name": "stderr",
     "output_type": "stream",
     "text": [
      "C:\\Users\\myousaf23\\anaconda3\\Lib\\site-packages\\sklearn\\linear_model\\_sag.py:349: ConvergenceWarning: The max_iter was reached which means the coef_ did not converge\n",
      "  warnings.warn(\n"
     ]
    },
    {
     "name": "stdout",
     "output_type": "stream",
     "text": [
      "[CV] END C=100, class_weight=balanced, max_iter=200, penalty=l1, solver=saga; total time=  30.0s\n",
      "[CV] END C=100, class_weight=balanced, max_iter=500, penalty=l2, solver=liblinear; total time=   0.2s\n",
      "[CV] END C=100, class_weight=balanced, max_iter=500, penalty=l2, solver=liblinear; total time=   0.2s\n",
      "[CV] END C=100, class_weight=balanced, max_iter=500, penalty=l2, solver=liblinear; total time=   0.2s\n",
      "[CV] END C=100, class_weight=balanced, max_iter=500, penalty=l2, solver=liblinear; total time=   0.2s\n",
      "[CV] END C=100, class_weight=balanced, max_iter=500, penalty=l2, solver=liblinear; total time=   0.2s\n"
     ]
    },
    {
     "name": "stderr",
     "output_type": "stream",
     "text": [
      "C:\\Users\\myousaf23\\anaconda3\\Lib\\site-packages\\sklearn\\linear_model\\_sag.py:349: ConvergenceWarning: The max_iter was reached which means the coef_ did not converge\n",
      "  warnings.warn(\n"
     ]
    },
    {
     "name": "stdout",
     "output_type": "stream",
     "text": [
      "[CV] END C=100, class_weight=balanced, max_iter=500, penalty=l2, solver=saga; total time=  35.7s\n"
     ]
    },
    {
     "name": "stderr",
     "output_type": "stream",
     "text": [
      "C:\\Users\\myousaf23\\anaconda3\\Lib\\site-packages\\sklearn\\linear_model\\_sag.py:349: ConvergenceWarning: The max_iter was reached which means the coef_ did not converge\n",
      "  warnings.warn(\n"
     ]
    },
    {
     "name": "stdout",
     "output_type": "stream",
     "text": [
      "[CV] END C=100, class_weight=balanced, max_iter=500, penalty=l2, solver=saga; total time=  35.5s\n"
     ]
    },
    {
     "name": "stderr",
     "output_type": "stream",
     "text": [
      "C:\\Users\\myousaf23\\anaconda3\\Lib\\site-packages\\sklearn\\linear_model\\_sag.py:349: ConvergenceWarning: The max_iter was reached which means the coef_ did not converge\n",
      "  warnings.warn(\n"
     ]
    },
    {
     "name": "stdout",
     "output_type": "stream",
     "text": [
      "[CV] END C=100, class_weight=balanced, max_iter=500, penalty=l2, solver=saga; total time=  39.5s\n"
     ]
    },
    {
     "name": "stderr",
     "output_type": "stream",
     "text": [
      "C:\\Users\\myousaf23\\anaconda3\\Lib\\site-packages\\sklearn\\linear_model\\_sag.py:349: ConvergenceWarning: The max_iter was reached which means the coef_ did not converge\n",
      "  warnings.warn(\n"
     ]
    },
    {
     "name": "stdout",
     "output_type": "stream",
     "text": [
      "[CV] END C=100, class_weight=balanced, max_iter=500, penalty=l2, solver=saga; total time=  35.8s\n"
     ]
    },
    {
     "name": "stderr",
     "output_type": "stream",
     "text": [
      "C:\\Users\\myousaf23\\anaconda3\\Lib\\site-packages\\sklearn\\linear_model\\_sag.py:349: ConvergenceWarning: The max_iter was reached which means the coef_ did not converge\n",
      "  warnings.warn(\n"
     ]
    },
    {
     "name": "stdout",
     "output_type": "stream",
     "text": [
      "[CV] END C=100, class_weight=balanced, max_iter=500, penalty=l2, solver=saga; total time=  36.1s\n",
      "[CV] END C=100, class_weight=balanced, max_iter=500, penalty=l1, solver=liblinear; total time=   0.2s\n",
      "[CV] END C=100, class_weight=balanced, max_iter=500, penalty=l1, solver=liblinear; total time=   0.2s\n",
      "[CV] END C=100, class_weight=balanced, max_iter=500, penalty=l1, solver=liblinear; total time=   0.2s\n",
      "[CV] END C=100, class_weight=balanced, max_iter=500, penalty=l1, solver=liblinear; total time=   0.2s\n",
      "[CV] END C=100, class_weight=balanced, max_iter=500, penalty=l1, solver=liblinear; total time=   0.2s\n"
     ]
    },
    {
     "name": "stderr",
     "output_type": "stream",
     "text": [
      "C:\\Users\\myousaf23\\anaconda3\\Lib\\site-packages\\sklearn\\linear_model\\_sag.py:349: ConvergenceWarning: The max_iter was reached which means the coef_ did not converge\n",
      "  warnings.warn(\n"
     ]
    },
    {
     "name": "stdout",
     "output_type": "stream",
     "text": [
      "[CV] END C=100, class_weight=balanced, max_iter=500, penalty=l1, solver=saga; total time= 1.2min\n"
     ]
    },
    {
     "name": "stderr",
     "output_type": "stream",
     "text": [
      "C:\\Users\\myousaf23\\anaconda3\\Lib\\site-packages\\sklearn\\linear_model\\_sag.py:349: ConvergenceWarning: The max_iter was reached which means the coef_ did not converge\n",
      "  warnings.warn(\n"
     ]
    },
    {
     "name": "stdout",
     "output_type": "stream",
     "text": [
      "[CV] END C=100, class_weight=balanced, max_iter=500, penalty=l1, solver=saga; total time= 1.2min\n"
     ]
    },
    {
     "name": "stderr",
     "output_type": "stream",
     "text": [
      "C:\\Users\\myousaf23\\anaconda3\\Lib\\site-packages\\sklearn\\linear_model\\_sag.py:349: ConvergenceWarning: The max_iter was reached which means the coef_ did not converge\n",
      "  warnings.warn(\n"
     ]
    },
    {
     "name": "stdout",
     "output_type": "stream",
     "text": [
      "[CV] END C=100, class_weight=balanced, max_iter=500, penalty=l1, solver=saga; total time=  57.9s\n"
     ]
    },
    {
     "name": "stderr",
     "output_type": "stream",
     "text": [
      "C:\\Users\\myousaf23\\anaconda3\\Lib\\site-packages\\sklearn\\linear_model\\_sag.py:349: ConvergenceWarning: The max_iter was reached which means the coef_ did not converge\n",
      "  warnings.warn(\n"
     ]
    },
    {
     "name": "stdout",
     "output_type": "stream",
     "text": [
      "[CV] END C=100, class_weight=balanced, max_iter=500, penalty=l1, solver=saga; total time=  58.3s\n"
     ]
    },
    {
     "name": "stderr",
     "output_type": "stream",
     "text": [
      "C:\\Users\\myousaf23\\anaconda3\\Lib\\site-packages\\sklearn\\linear_model\\_sag.py:349: ConvergenceWarning: The max_iter was reached which means the coef_ did not converge\n",
      "  warnings.warn(\n"
     ]
    },
    {
     "name": "stdout",
     "output_type": "stream",
     "text": [
      "[CV] END C=100, class_weight=balanced, max_iter=500, penalty=l1, solver=saga; total time=  57.0s\n",
      "[CV] END C=100, class_weight=balanced, max_iter=700, penalty=l2, solver=liblinear; total time=   0.1s\n",
      "[CV] END C=100, class_weight=balanced, max_iter=700, penalty=l2, solver=liblinear; total time=   0.2s\n",
      "[CV] END C=100, class_weight=balanced, max_iter=700, penalty=l2, solver=liblinear; total time=   0.2s\n",
      "[CV] END C=100, class_weight=balanced, max_iter=700, penalty=l2, solver=liblinear; total time=   0.2s\n",
      "[CV] END C=100, class_weight=balanced, max_iter=700, penalty=l2, solver=liblinear; total time=   0.2s\n"
     ]
    },
    {
     "name": "stderr",
     "output_type": "stream",
     "text": [
      "C:\\Users\\myousaf23\\anaconda3\\Lib\\site-packages\\sklearn\\linear_model\\_sag.py:349: ConvergenceWarning: The max_iter was reached which means the coef_ did not converge\n",
      "  warnings.warn(\n"
     ]
    },
    {
     "name": "stdout",
     "output_type": "stream",
     "text": [
      "[CV] END C=100, class_weight=balanced, max_iter=700, penalty=l2, solver=saga; total time=  45.4s\n"
     ]
    },
    {
     "name": "stderr",
     "output_type": "stream",
     "text": [
      "C:\\Users\\myousaf23\\anaconda3\\Lib\\site-packages\\sklearn\\linear_model\\_sag.py:349: ConvergenceWarning: The max_iter was reached which means the coef_ did not converge\n",
      "  warnings.warn(\n"
     ]
    },
    {
     "name": "stdout",
     "output_type": "stream",
     "text": [
      "[CV] END C=100, class_weight=balanced, max_iter=700, penalty=l2, solver=saga; total time=  43.9s\n"
     ]
    },
    {
     "name": "stderr",
     "output_type": "stream",
     "text": [
      "C:\\Users\\myousaf23\\anaconda3\\Lib\\site-packages\\sklearn\\linear_model\\_sag.py:349: ConvergenceWarning: The max_iter was reached which means the coef_ did not converge\n",
      "  warnings.warn(\n"
     ]
    },
    {
     "name": "stdout",
     "output_type": "stream",
     "text": [
      "[CV] END C=100, class_weight=balanced, max_iter=700, penalty=l2, solver=saga; total time=  44.7s\n"
     ]
    },
    {
     "name": "stderr",
     "output_type": "stream",
     "text": [
      "C:\\Users\\myousaf23\\anaconda3\\Lib\\site-packages\\sklearn\\linear_model\\_sag.py:349: ConvergenceWarning: The max_iter was reached which means the coef_ did not converge\n",
      "  warnings.warn(\n"
     ]
    },
    {
     "name": "stdout",
     "output_type": "stream",
     "text": [
      "[CV] END C=100, class_weight=balanced, max_iter=700, penalty=l2, solver=saga; total time=  44.5s\n"
     ]
    },
    {
     "name": "stderr",
     "output_type": "stream",
     "text": [
      "C:\\Users\\myousaf23\\anaconda3\\Lib\\site-packages\\sklearn\\linear_model\\_sag.py:349: ConvergenceWarning: The max_iter was reached which means the coef_ did not converge\n",
      "  warnings.warn(\n"
     ]
    },
    {
     "name": "stdout",
     "output_type": "stream",
     "text": [
      "[CV] END C=100, class_weight=balanced, max_iter=700, penalty=l2, solver=saga; total time=  46.3s\n",
      "[CV] END C=100, class_weight=balanced, max_iter=700, penalty=l1, solver=liblinear; total time=   0.1s\n",
      "[CV] END C=100, class_weight=balanced, max_iter=700, penalty=l1, solver=liblinear; total time=   0.1s\n",
      "[CV] END C=100, class_weight=balanced, max_iter=700, penalty=l1, solver=liblinear; total time=   0.1s\n",
      "[CV] END C=100, class_weight=balanced, max_iter=700, penalty=l1, solver=liblinear; total time=   0.1s\n",
      "[CV] END C=100, class_weight=balanced, max_iter=700, penalty=l1, solver=liblinear; total time=   0.1s\n"
     ]
    },
    {
     "name": "stderr",
     "output_type": "stream",
     "text": [
      "C:\\Users\\myousaf23\\anaconda3\\Lib\\site-packages\\sklearn\\linear_model\\_sag.py:349: ConvergenceWarning: The max_iter was reached which means the coef_ did not converge\n",
      "  warnings.warn(\n"
     ]
    },
    {
     "name": "stdout",
     "output_type": "stream",
     "text": [
      "[CV] END C=100, class_weight=balanced, max_iter=700, penalty=l1, solver=saga; total time= 1.5min\n"
     ]
    },
    {
     "name": "stderr",
     "output_type": "stream",
     "text": [
      "C:\\Users\\myousaf23\\anaconda3\\Lib\\site-packages\\sklearn\\linear_model\\_sag.py:349: ConvergenceWarning: The max_iter was reached which means the coef_ did not converge\n",
      "  warnings.warn(\n"
     ]
    },
    {
     "name": "stdout",
     "output_type": "stream",
     "text": [
      "[CV] END C=100, class_weight=balanced, max_iter=700, penalty=l1, solver=saga; total time= 1.5min\n"
     ]
    },
    {
     "name": "stderr",
     "output_type": "stream",
     "text": [
      "C:\\Users\\myousaf23\\anaconda3\\Lib\\site-packages\\sklearn\\linear_model\\_sag.py:349: ConvergenceWarning: The max_iter was reached which means the coef_ did not converge\n",
      "  warnings.warn(\n"
     ]
    },
    {
     "name": "stdout",
     "output_type": "stream",
     "text": [
      "[CV] END C=100, class_weight=balanced, max_iter=700, penalty=l1, solver=saga; total time= 1.5min\n"
     ]
    },
    {
     "name": "stderr",
     "output_type": "stream",
     "text": [
      "C:\\Users\\myousaf23\\anaconda3\\Lib\\site-packages\\sklearn\\linear_model\\_sag.py:349: ConvergenceWarning: The max_iter was reached which means the coef_ did not converge\n",
      "  warnings.warn(\n"
     ]
    },
    {
     "name": "stdout",
     "output_type": "stream",
     "text": [
      "[CV] END C=100, class_weight=balanced, max_iter=700, penalty=l1, solver=saga; total time= 1.5min\n"
     ]
    },
    {
     "name": "stderr",
     "output_type": "stream",
     "text": [
      "C:\\Users\\myousaf23\\anaconda3\\Lib\\site-packages\\sklearn\\linear_model\\_sag.py:349: ConvergenceWarning: The max_iter was reached which means the coef_ did not converge\n",
      "  warnings.warn(\n"
     ]
    },
    {
     "name": "stdout",
     "output_type": "stream",
     "text": [
      "[CV] END C=100, class_weight=balanced, max_iter=700, penalty=l1, solver=saga; total time= 1.5min\n",
      "[CV] END C=100, class_weight=balanced, max_iter=1000, penalty=l2, solver=liblinear; total time=   0.2s\n",
      "[CV] END C=100, class_weight=balanced, max_iter=1000, penalty=l2, solver=liblinear; total time=   0.2s\n",
      "[CV] END C=100, class_weight=balanced, max_iter=1000, penalty=l2, solver=liblinear; total time=   0.3s\n",
      "[CV] END C=100, class_weight=balanced, max_iter=1000, penalty=l2, solver=liblinear; total time=   0.3s\n",
      "[CV] END C=100, class_weight=balanced, max_iter=1000, penalty=l2, solver=liblinear; total time=   0.2s\n"
     ]
    },
    {
     "name": "stderr",
     "output_type": "stream",
     "text": [
      "C:\\Users\\myousaf23\\anaconda3\\Lib\\site-packages\\sklearn\\linear_model\\_sag.py:349: ConvergenceWarning: The max_iter was reached which means the coef_ did not converge\n",
      "  warnings.warn(\n"
     ]
    },
    {
     "name": "stdout",
     "output_type": "stream",
     "text": [
      "[CV] END C=100, class_weight=balanced, max_iter=1000, penalty=l2, solver=saga; total time= 1.2min\n"
     ]
    },
    {
     "name": "stderr",
     "output_type": "stream",
     "text": [
      "C:\\Users\\myousaf23\\anaconda3\\Lib\\site-packages\\sklearn\\linear_model\\_sag.py:349: ConvergenceWarning: The max_iter was reached which means the coef_ did not converge\n",
      "  warnings.warn(\n"
     ]
    },
    {
     "name": "stdout",
     "output_type": "stream",
     "text": [
      "[CV] END C=100, class_weight=balanced, max_iter=1000, penalty=l2, solver=saga; total time= 1.2min\n"
     ]
    },
    {
     "name": "stderr",
     "output_type": "stream",
     "text": [
      "C:\\Users\\myousaf23\\anaconda3\\Lib\\site-packages\\sklearn\\linear_model\\_sag.py:349: ConvergenceWarning: The max_iter was reached which means the coef_ did not converge\n",
      "  warnings.warn(\n"
     ]
    },
    {
     "name": "stdout",
     "output_type": "stream",
     "text": [
      "[CV] END C=100, class_weight=balanced, max_iter=1000, penalty=l2, solver=saga; total time= 1.2min\n"
     ]
    },
    {
     "name": "stderr",
     "output_type": "stream",
     "text": [
      "C:\\Users\\myousaf23\\anaconda3\\Lib\\site-packages\\sklearn\\linear_model\\_sag.py:349: ConvergenceWarning: The max_iter was reached which means the coef_ did not converge\n",
      "  warnings.warn(\n"
     ]
    },
    {
     "name": "stdout",
     "output_type": "stream",
     "text": [
      "[CV] END C=100, class_weight=balanced, max_iter=1000, penalty=l2, solver=saga; total time= 1.2min\n"
     ]
    },
    {
     "name": "stderr",
     "output_type": "stream",
     "text": [
      "C:\\Users\\myousaf23\\anaconda3\\Lib\\site-packages\\sklearn\\linear_model\\_sag.py:349: ConvergenceWarning: The max_iter was reached which means the coef_ did not converge\n",
      "  warnings.warn(\n"
     ]
    },
    {
     "name": "stdout",
     "output_type": "stream",
     "text": [
      "[CV] END C=100, class_weight=balanced, max_iter=1000, penalty=l2, solver=saga; total time= 1.2min\n",
      "[CV] END C=100, class_weight=balanced, max_iter=1000, penalty=l1, solver=liblinear; total time=   0.2s\n",
      "[CV] END C=100, class_weight=balanced, max_iter=1000, penalty=l1, solver=liblinear; total time=   0.2s\n",
      "[CV] END C=100, class_weight=balanced, max_iter=1000, penalty=l1, solver=liblinear; total time=   0.2s\n",
      "[CV] END C=100, class_weight=balanced, max_iter=1000, penalty=l1, solver=liblinear; total time=   0.2s\n",
      "[CV] END C=100, class_weight=balanced, max_iter=1000, penalty=l1, solver=liblinear; total time=   0.2s\n"
     ]
    },
    {
     "name": "stderr",
     "output_type": "stream",
     "text": [
      "C:\\Users\\myousaf23\\anaconda3\\Lib\\site-packages\\sklearn\\linear_model\\_sag.py:349: ConvergenceWarning: The max_iter was reached which means the coef_ did not converge\n",
      "  warnings.warn(\n"
     ]
    },
    {
     "name": "stdout",
     "output_type": "stream",
     "text": [
      "[CV] END C=100, class_weight=balanced, max_iter=1000, penalty=l1, solver=saga; total time= 2.1min\n"
     ]
    },
    {
     "name": "stderr",
     "output_type": "stream",
     "text": [
      "C:\\Users\\myousaf23\\anaconda3\\Lib\\site-packages\\sklearn\\linear_model\\_sag.py:349: ConvergenceWarning: The max_iter was reached which means the coef_ did not converge\n",
      "  warnings.warn(\n"
     ]
    },
    {
     "name": "stdout",
     "output_type": "stream",
     "text": [
      "[CV] END C=100, class_weight=balanced, max_iter=1000, penalty=l1, solver=saga; total time= 2.1min\n"
     ]
    },
    {
     "name": "stderr",
     "output_type": "stream",
     "text": [
      "C:\\Users\\myousaf23\\anaconda3\\Lib\\site-packages\\sklearn\\linear_model\\_sag.py:349: ConvergenceWarning: The max_iter was reached which means the coef_ did not converge\n",
      "  warnings.warn(\n"
     ]
    },
    {
     "name": "stdout",
     "output_type": "stream",
     "text": [
      "[CV] END C=100, class_weight=balanced, max_iter=1000, penalty=l1, solver=saga; total time= 2.1min\n"
     ]
    },
    {
     "name": "stderr",
     "output_type": "stream",
     "text": [
      "C:\\Users\\myousaf23\\anaconda3\\Lib\\site-packages\\sklearn\\linear_model\\_sag.py:349: ConvergenceWarning: The max_iter was reached which means the coef_ did not converge\n",
      "  warnings.warn(\n"
     ]
    },
    {
     "name": "stdout",
     "output_type": "stream",
     "text": [
      "[CV] END C=100, class_weight=balanced, max_iter=1000, penalty=l1, solver=saga; total time= 2.1min\n"
     ]
    },
    {
     "name": "stderr",
     "output_type": "stream",
     "text": [
      "C:\\Users\\myousaf23\\anaconda3\\Lib\\site-packages\\sklearn\\linear_model\\_sag.py:349: ConvergenceWarning: The max_iter was reached which means the coef_ did not converge\n",
      "  warnings.warn(\n"
     ]
    },
    {
     "name": "stdout",
     "output_type": "stream",
     "text": [
      "[CV] END C=100, class_weight=balanced, max_iter=1000, penalty=l1, solver=saga; total time= 2.1min\n",
      "Best Parameters: {'C': 1, 'class_weight': None, 'max_iter': 200, 'penalty': 'l1', 'solver': 'liblinear'}\n",
      "Best model information has been saved to 'best_model_info_logreg.txt'\n"
     ]
    },
    {
     "data": {
      "text/plain": [
       "['best_logreg_model.pkl']"
      ]
     },
     "execution_count": 4,
     "metadata": {},
     "output_type": "execute_result"
    }
   ],
   "source": [
    "# Step 4: Define hyperparameter grid\n",
    "param_grid = {\n",
    "    'C': [0.001, 0.01, 0.1, 1, 10, 100],           # Regularization strength (inverse of penalty), [0.001, 0.01, 0.1, 1, 10, 100], default value=1.0\n",
    "    'penalty': ['l2', 'l1'],               # Regularization type (l1 = Lasso, l2 = Ridge)['l1', 'l2'] (use 'elasticnet' with caution), default=l2\n",
    "    'solver': ['liblinear', 'saga'],               # Solver that supports l1 and l2, ['liblinear', 'saga'] (for l1 or imbalanced data), default= lbfgs\n",
    "    'max_iter': [100, 200, 500, 700, 1000],           # Maximum number of iterations to converge, [100, 200, 500, 1000], default =100\n",
    "    'class_weight': [None, 'balanced']     # Handles class imbalance, [None, 'balanced'], default=none\n",
    "}\n",
    "\n",
    "# Step 5: Grid Search with Cross-Validation\n",
    "logreg = LogisticRegression()\n",
    "cv = StratifiedKFold(n_splits=5, shuffle=True, random_state=42)\n",
    "grid_search = GridSearchCV(logreg, param_grid, cv=cv, scoring='accuracy', n_jobs=1, verbose=2)\n",
    "grid_search.fit(X_train, y_train)\n",
    "\n",
    "# Step 6: Best model\n",
    "best_logreg_model = grid_search.best_estimator_\n",
    "print(\"Best Parameters:\", grid_search.best_params_)\n",
    "\n",
    "# Step 6: Use the best model from GridSearchCV\n",
    "best_logreg_model = grid_search.best_estimator_\n",
    "\n",
    "# Save best hyperparameters to a file\n",
    "with open('best_model_info_.txt', 'w') as f:\n",
    "    f.write(\"Best Hyperparameters:\\n\")\n",
    "    for param, value in grid_search.best_params_.items():\n",
    "        f.write(f\"{param}: {value}\\n\")\n",
    "\n",
    "print(\"Best model information has been saved to 'best_model_info_logreg.txt'\")\n",
    "\n",
    "#save best model to a file\n",
    "joblib.dump(best_logreg_model, \"best_logreg_model.pkl\")"
   ]
  },
  {
   "cell_type": "code",
   "execution_count": 11,
   "id": "f05dc189-9b99-4cb6-b158-c61d604ff03a",
   "metadata": {},
   "outputs": [
    {
     "name": "stdout",
     "output_type": "stream",
     "text": [
      "logreg Test Accuracy: 81.62%\n",
      "Confusion Matrix (Test Data):\n",
      " [[71 20]\n",
      " [14 80]]\n",
      "Test Data - Sensitivity: 0.851063829787234 Specificity: 0.7802197802197802\n"
     ]
    }
   ],
   "source": [
    "# Step 8: Fit the model on the training data\n",
    "best_logreg_model.fit(X_train, y_train)\n",
    "\n",
    "# Evaluate on the test dataset\n",
    "y_test_pred = best_logreg_model.predict(X_test)\n",
    "y_test_prob = best_logreg_model.predict_proba(X_test)[:, 1]\n",
    "\n",
    "# Calculate and print accuracy, classification reports, and confusion matrices\n",
    "test_accuracy = accuracy_score(y_test, y_test_pred)\n",
    "print(f\"logreg Test Accuracy: {test_accuracy * 100:.2f}%\")\n",
    "\n",
    "# Confusion Matrices\n",
    "confusion_matrix_test = confusion_matrix(y_test, y_test_pred)\n",
    "print(\"Confusion Matrix (Test Data):\\n\", confusion_matrix_test)\n",
    "\n",
    "# Sensitivity and Specificity calculation\n",
    "def calculate_sensitivity_specificity(conf_matrix):\n",
    "    tn, fp, fn, tp = conf_matrix.ravel()\n",
    "    sensitivity = tp / (tp + fn)\n",
    "    specificity = tn / (tn + fp)\n",
    "    return sensitivity, specificity\n",
    "\n",
    "sensitivity_test, specificity_test = calculate_sensitivity_specificity(confusion_matrix_test)\n",
    "print(\"Test Data - Sensitivity:\", sensitivity_test, \"Specificity:\", specificity_test)"
   ]
  },
  {
   "cell_type": "code",
   "execution_count": 6,
   "id": "63358604-e4a8-47bf-b601-7f1d5244a7c9",
   "metadata": {},
   "outputs": [
    {
     "name": "stdout",
     "output_type": "stream",
     "text": [
      "Confusion Matrix (Test Data):\n",
      "TN: 71  FP: 20\n",
      "FN: 14  TP: 80\n"
     ]
    }
   ],
   "source": [
    "print(\"Confusion Matrix (Test Data):\")\n",
    "print(f\"TN: {confusion_matrix_test[0,0]}  FP: {confusion_matrix_test[0,1]}\")\n",
    "print(f\"FN: {confusion_matrix_test[1,0]}  TP: {confusion_matrix_test[1,1]}\")"
   ]
  },
  {
   "cell_type": "code",
   "execution_count": 7,
   "id": "7d636622-afc2-4cef-84ad-a8724264b718",
   "metadata": {},
   "outputs": [
    {
     "name": "stdout",
     "output_type": "stream",
     "text": [
      "F1 Score (Test Data): 0.8247422680412371\n",
      "Classification Report (Test Data):\n",
      "               precision    recall  f1-score   support\n",
      "\n",
      "           0       0.84      0.78      0.81        91\n",
      "           1       0.80      0.85      0.82        94\n",
      "\n",
      "    accuracy                           0.82       185\n",
      "   macro avg       0.82      0.82      0.82       185\n",
      "weighted avg       0.82      0.82      0.82       185\n",
      "\n",
      "Precision: 0.8\n",
      "Recall: 0.851063829787234\n",
      "F1 Score: 0.8247422680412371\n",
      "Matthews Correlation Coefficient (MCC): 0.6332856890886263\n"
     ]
    }
   ],
   "source": [
    "from sklearn.metrics import f1_score\n",
    "# calculation of F1 score\n",
    "f1_test = f1_score(y_test, y_test_pred)\n",
    "print(\"F1 Score (Test Data):\", f1_test)\n",
    "\n",
    "#calculation of classification report for test and evaluation data\n",
    "print(\"Classification Report (Test Data):\\n\", classification_report(y_test, y_test_pred))\n",
    "\n",
    "from sklearn.metrics import precision_score, recall_score, f1_score, matthews_corrcoef\n",
    "# Compute metrics\n",
    "precision = precision_score(y_test, y_test_pred)\n",
    "recall = recall_score(y_test, y_test_pred)\n",
    "f1 = f1_score(y_test, y_test_pred)\n",
    "mcc = matthews_corrcoef(y_test, y_test_pred)\n",
    "\n",
    "# Print the results\n",
    "print(\"Precision:\", precision)\n",
    "print(\"Recall:\", recall)\n",
    "print(\"F1 Score:\", f1)\n",
    "print(\"Matthews Correlation Coefficient (MCC):\", mcc)"
   ]
  },
  {
   "cell_type": "code",
   "execution_count": 8,
   "id": "86e003f0-f4ad-4539-af7d-63769364a56e",
   "metadata": {},
   "outputs": [
    {
     "name": "stdout",
     "output_type": "stream",
     "text": [
      "Test Data ROC AUC: 0.899929857376666\n",
      "Test Data FPR: [0.         0.         0.         0.01098901 0.01098901 0.02197802\n",
      " 0.02197802 0.03296703 0.03296703 0.04395604 0.04395604 0.06593407\n",
      " 0.06593407 0.07692308 0.07692308 0.08791209 0.08791209 0.0989011\n",
      " 0.0989011  0.13186813 0.13186813 0.14285714 0.14285714 0.15384615\n",
      " 0.15384615 0.16483516 0.16483516 0.20879121 0.20879121 0.23076923\n",
      " 0.23076923 0.28571429 0.28571429 0.30769231 0.30769231 0.31868132\n",
      " 0.31868132 0.42857143 0.42857143 0.46153846 0.46153846 0.48351648\n",
      " 0.48351648 0.50549451 0.50549451 0.56043956 0.56043956 0.58241758\n",
      " 0.58241758 0.64835165 0.64835165 0.85714286 0.85714286 1.        ]\n",
      "Test Data TPR: [0.         0.0106383  0.35106383 0.35106383 0.43617021 0.43617021\n",
      " 0.59574468 0.59574468 0.60638298 0.60638298 0.62765957 0.62765957\n",
      " 0.63829787 0.63829787 0.64893617 0.64893617 0.65957447 0.65957447\n",
      " 0.70212766 0.70212766 0.73404255 0.73404255 0.77659574 0.77659574\n",
      " 0.82978723 0.82978723 0.84042553 0.84042553 0.85106383 0.85106383\n",
      " 0.88297872 0.88297872 0.89361702 0.89361702 0.90425532 0.90425532\n",
      " 0.91489362 0.91489362 0.92553191 0.92553191 0.93617021 0.93617021\n",
      " 0.94680851 0.94680851 0.95744681 0.95744681 0.96808511 0.96808511\n",
      " 0.9787234  0.9787234  0.9893617  0.9893617  1.         1.        ]\n",
      "Test Data Thresholds: [       inf 0.99818094 0.93389901 0.93022734 0.91242529 0.91239027\n",
      " 0.8761258  0.87300026 0.85658926 0.85616022 0.84961934 0.83926321\n",
      " 0.83230483 0.82610524 0.80104057 0.80026762 0.78961629 0.77868948\n",
      " 0.73876336 0.71350161 0.67559964 0.65892041 0.61593734 0.6067425\n",
      " 0.5598843  0.55067296 0.53717773 0.51690051 0.51162185 0.47891507\n",
      " 0.45701176 0.41147542 0.40193255 0.36465503 0.34666828 0.34440637\n",
      " 0.33667807 0.19656801 0.19556276 0.18964596 0.18938218 0.17283832\n",
      " 0.14137017 0.12680677 0.12569584 0.1091275  0.10536946 0.09023016\n",
      " 0.09010571 0.07787597 0.07154163 0.02708971 0.0269573  0.00304268]\n",
      "ROC curve saved as 'logreg_roc_auc_curve.png'.\n"
     ]
    },
    {
     "data": {
      "image/png": "[encoded data removed]",
      "text/plain": [
       "<Figure size 600x600 with 1 Axes>"
      ]
     },
     "metadata": {},
     "output_type": "display_data"
    }
   ],
   "source": [
    "# Evaluate on the test dataset\n",
    "y_test_pred = best_logreg_model.predict(X_test)\n",
    "y_test_prob = best_logreg_model.predict_proba(X_test)[:, 1]\n",
    "\n",
    "import matplotlib.pyplot as plt\n",
    "from sklearn.metrics import roc_curve, auc\n",
    "\n",
    "# Generate ROC for test dataset\n",
    "fpr_test, tpr_test, thresholds_test = roc_curve(y_test, y_test_prob)\n",
    "roc_auc_test = auc(fpr_test, tpr_test)\n",
    "\n",
    "# Print the values\n",
    "print(\"Test Data ROC AUC:\", roc_auc_test)\n",
    "print(\"Test Data FPR:\", fpr_test)\n",
    "print(\"Test Data TPR:\", tpr_test)\n",
    "print(\"Test Data Thresholds:\", thresholds_test)\n",
    "\n",
    "# Create a plot\n",
    "fig, ax = plt.subplots(figsize=(6, 6))  # This defines 'ax' properly\n",
    "\n",
    "# Plot ROC curve\n",
    "ax.plot(fpr_test, tpr_test, label=f\"ROC AUC = {roc_auc_test:.2f}\", color=\"blue\")\n",
    "ax.plot([0, 1], [0, 1], 'k--', label=\"Random Classifier (AUC = 0.50)\")\n",
    "ax.set_title(\"Test Data - ROC Curve\")\n",
    "ax.set_xlabel(\"False Positive Rate\")\n",
    "ax.set_ylabel(\"True Positive Rate\")\n",
    "ax.legend(loc=\"lower right\")\n",
    "\n",
    "# Adjust layout and save figure\n",
    "plt.tight_layout()\n",
    "plt.savefig(\"logreg_roc_auc_curve.png\", dpi=500)\n",
    "print(\"ROC curve saved as 'logreg_roc_auc_curve.png'.\")\n",
    "\n",
    "# Show the plot\n",
    "plt.show()"
   ]
  },
  {
   "cell_type": "code",
   "execution_count": 9,
   "id": "7d7d73e2-3f33-4dcf-81f6-707eb379169e",
   "metadata": {},
   "outputs": [
    {
     "name": "stdout",
     "output_type": "stream",
     "text": [
      "10-Fold Cross-Validation Accuracy Scores: [0.77027027 0.90540541 0.71621622 0.82432432 0.72972973 0.77027027\n",
      " 0.7972973  0.75675676 0.79452055 0.83561644]\n",
      "Mean 10-Fold CV Accuracy: 0.790040725657164\n",
      "Accuracy of each fold has been saved to 'cv_accuracies_logreg.txt'\n"
     ]
    }
   ],
   "source": [
    "# Perform 10-fold cross-validation on the best model\n",
    "cross_val_scores = cross_val_score(best_logreg_model, X_train, y_train, cv=10, scoring='accuracy')\n",
    "print(\"10-Fold Cross-Validation Accuracy Scores:\", cross_val_scores)\n",
    "print(\"Mean 10-Fold CV Accuracy:\", cross_val_scores.mean())\n",
    "\n",
    "# save accuracy of each fold to a text file\n",
    "with open('cv_accuracies_logreg.txt', 'w') as f:\n",
    "    f.write(\"Cross-Validation Accuracies for each fold:\\n\")\n",
    "    for i, score in enumerate(cross_val_scores):\n",
    "        f.write(f\"Fold {i+1} Accuracy: {score:.4f}\\n\")\n",
    "\n",
    "print(\"Accuracy of each fold has been saved to 'cv_accuracies_logreg.txt'\")"
   ]
  },
  {
   "cell_type": "code",
   "execution_count": 10,
   "id": "d525b695-491d-4548-bd45-72a4b49ff79c",
   "metadata": {},
   "outputs": [
    {
     "name": "stdout",
     "output_type": "stream",
     "text": [
      "Mean Accuracy: 79.00\n",
      "Mean AUC: 0.9857\n"
     ]
    },
    {
     "data": {
      "image/png": "[encoded data removed]",
      "text/plain": [
       "<Figure size 640x480 with 1 Axes>"
      ]
     },
     "metadata": {},
     "output_type": "display_data"
    }
   ],
   "source": [
    "# make roc curve of all folds with mean auc and mean accuracy printed on the plot\n",
    "mean_accuracy = cross_val_scores.mean() * 100\n",
    "print(f\"Mean Accuracy: {mean_accuracy:.2f}\")\n",
    "# Step 6: Generate ROC Curve\n",
    "mean_auc = roc_auc_score(y_train, best_logreg_model.predict_proba(X_train)[:, 1])\n",
    "print(f\"Mean AUC: {mean_auc:.4f}\")\n",
    "\n",
    "cv = StratifiedKFold(n_splits=10)\n",
    "tprs = []\n",
    "aucs = []\n",
    "mean_fpr = np.linspace(0, 1, 100)\n",
    "for i, (train_idx, test_idx) in enumerate(cv.split(X_train, y_train)):\n",
    "    best_logreg_model.fit(X_train.iloc[train_idx], y_train.iloc[train_idx])\n",
    "    y_prob = best_logreg_model.predict_proba(X_train.iloc[test_idx])[:, 1]\n",
    "    fpr, tpr, _ = roc_curve(y_train.iloc[test_idx], y_prob)\n",
    "    tprs.append(np.interp(mean_fpr, fpr, tpr))\n",
    "    roc_auc = auc(fpr, tpr)\n",
    "    aucs.append(roc_auc)\n",
    "    plt.plot(fpr, tpr, lw=1, alpha=0.3, label=f'Fold {i+1} (AUC = {roc_auc:.2f})')\n",
    "\n",
    "plt.plot([0, 1], [0, 1], color='gray', linestyle='--')\n",
    "mean_tpr = np.mean(tprs, axis=0)\n",
    "mean_auc = auc(mean_fpr, mean_tpr)\n",
    "plt.plot(mean_fpr, mean_tpr, label=f'Mean ROC (AUC = {mean_auc:.2f})', lw=2)\n",
    "\n",
    "plt.xlabel('False Positive Rate')\n",
    "plt.ylabel('True Positive Rate')\n",
    "plt.title('ROC Curve')\n",
    "plt.legend(loc=\"lower right\")\n",
    "plt.savefig(\"cv_roc_curve_logreg.png\", dpi=500)\n",
    "plt.show()"
   ]
  },
  {
   "cell_type": "code",
   "execution_count": null,
   "id": "25508b68-d200-4f64-8cc7-df48170bfe99",
   "metadata": {},
   "outputs": [],
   "source": []
  }
 ],
 "metadata": {
  "kernelspec": {
   "display_name": "Python 3 (ipykernel)",
   "language": "python",
   "name": "python3"
  },
  "language_info": {
   "codemirror_mode": {
    "name": "ipython",
    "version": 3
   },
   "file_extension": ".py",
   "mimetype": "text/x-python",
   "name": "python",
   "nbconvert_exporter": "python",
   "pygments_lexer": "ipython3",
   "version": "3.11.5"
  }
 },
 "nbformat": 4,
 "nbformat_minor": 5
}
