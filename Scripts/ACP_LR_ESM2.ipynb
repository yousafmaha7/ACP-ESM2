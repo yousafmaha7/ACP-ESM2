{
 "cells": [
  {
   "cell_type": "code",
   "execution_count": 1,
   "id": "94f927df-7ead-43b0-9096-5bbbcfc3078e",
   "metadata": {},
   "outputs": [
    {
     "name": "stdout",
     "output_type": "stream",
     "text": [
      "Current Working Directory: D:\\ACP\n"
     ]
    }
   ],
   "source": [
    "import os\n",
    "# Set working directory\n",
    "os.chdir(\"D:/ACP\")  # Windows path fix: use forward slash or raw string\n",
    "\n",
    "print(\"Current Working Directory:\", os.getcwd())"
   ]
  },
  {
   "cell_type": "code",
   "execution_count": 2,
   "id": "b42e1ee1-f37c-4841-92f2-2b75ec28c044",
   "metadata": {},
   "outputs": [],
   "source": [
    "import pandas as pd\n",
    "import joblib\n",
    "import numpy as np\n",
    "from sklearn.linear_model import LogisticRegression\n",
    "from sklearn.model_selection import GridSearchCV, cross_val_score\n",
    "from sklearn.model_selection import StratifiedKFold\n",
    "from sklearn.metrics import (\n",
    "    classification_report, confusion_matrix, accuracy_score, roc_auc_score, roc_curve, auc\n",
    ")\n",
    "import matplotlib.pyplot as plt"
   ]
  },
  {
   "cell_type": "code",
   "execution_count": 3,
   "id": "339f04d0-59b3-4eff-b89a-3ef36aae6422",
   "metadata": {},
   "outputs": [],
   "source": [
    "# Step 1: Load the datasets (datasets were already splited and saved as csv files, 80,20 split)\n",
    "train_data = pd.read_csv(\"acp_train_esm2_features.csv\") #train data\n",
    "test_data = pd.read_csv(\"acp_test_esm2_features.csv\") #test data\n",
    "# Step 2: Separate labels and features\n",
    "y_train, X_train = train_data.iloc[:, 2], train_data.iloc[:, 3:] # third column: Label, # from fourth column onward: features\n",
    "y_test, X_test = test_data.iloc[:, 2], test_data.iloc[:, 3:]"
   ]
  },
  {
   "cell_type": "code",
   "execution_count": 4,
   "id": "4b32bea8-a3ca-4a3a-bb4e-94175f65c08f",
   "metadata": {
    "scrolled": true
   },
   "outputs": [
    {
     "name": "stdout",
     "output_type": "stream",
     "text": [
      "Fitting 5 folds for each of 240 candidates, totalling 1200 fits\n",
      "[CV] END C=0.001, class_weight=None, max_iter=100, penalty=l2, solver=liblinear; total time=   0.0s\n",
      "[CV] END C=0.001, class_weight=None, max_iter=100, penalty=l2, solver=liblinear; total time=   0.0s\n",
      "[CV] END C=0.001, class_weight=None, max_iter=100, penalty=l2, solver=liblinear; total time=   0.0s\n",
      "[CV] END C=0.001, class_weight=None, max_iter=100, penalty=l2, solver=liblinear; total time=   0.0s\n",
      "[CV] END C=0.001, class_weight=None, max_iter=100, penalty=l2, solver=liblinear; total time=   0.0s\n",
      "[CV] END C=0.001, class_weight=None, max_iter=100, penalty=l2, solver=saga; total time=   0.5s\n",
      "[CV] END C=0.001, class_weight=None, max_iter=100, penalty=l2, solver=saga; total time=   0.4s\n",
      "[CV] END C=0.001, class_weight=None, max_iter=100, penalty=l2, solver=saga; total time=   0.5s\n",
      "[CV] END C=0.001, class_weight=None, max_iter=100, penalty=l2, solver=saga; total time=   0.5s\n",
      "[CV] END C=0.001, class_weight=None, max_iter=100, penalty=l2, solver=saga; total time=   0.5s\n",
      "[CV] END C=0.001, class_weight=None, max_iter=100, penalty=l1, solver=liblinear; total time=   0.0s\n",
      "[CV] END C=0.001, class_weight=None, max_iter=100, penalty=l1, solver=liblinear; total time=   0.0s\n",
      "[CV] END C=0.001, class_weight=None, max_iter=100, penalty=l1, solver=liblinear; total time=   0.0s\n",
      "[CV] END C=0.001, class_weight=None, max_iter=100, penalty=l1, solver=liblinear; total time=   0.0s\n",
      "[CV] END C=0.001, class_weight=None, max_iter=100, penalty=l1, solver=liblinear; total time=   0.0s\n",
      "[CV] END C=0.001, class_weight=None, max_iter=100, penalty=l1, solver=saga; total time=   0.0s\n",
      "[CV] END C=0.001, class_weight=None, max_iter=100, penalty=l1, solver=saga; total time=   0.0s\n",
      "[CV] END C=0.001, class_weight=None, max_iter=100, penalty=l1, solver=saga; total time=   0.0s\n",
      "[CV] END C=0.001, class_weight=None, max_iter=100, penalty=l1, solver=saga; total time=   0.0s\n",
      "[CV] END C=0.001, class_weight=None, max_iter=100, penalty=l1, solver=saga; total time=   0.0s\n",
      "[CV] END C=0.001, class_weight=None, max_iter=200, penalty=l2, solver=liblinear; total time=   0.0s\n",
      "[CV] END C=0.001, class_weight=None, max_iter=200, penalty=l2, solver=liblinear; total time=   0.0s\n",
      "[CV] END C=0.001, class_weight=None, max_iter=200, penalty=l2, solver=liblinear; total time=   0.0s\n",
      "[CV] END C=0.001, class_weight=None, max_iter=200, penalty=l2, solver=liblinear; total time=   0.0s\n",
      "[CV] END C=0.001, class_weight=None, max_iter=200, penalty=l2, solver=liblinear; total time=   0.0s\n",
      "[CV] END C=0.001, class_weight=None, max_iter=200, penalty=l2, solver=saga; total time=   0.5s\n",
      "[CV] END C=0.001, class_weight=None, max_iter=200, penalty=l2, solver=saga; total time=   0.4s\n",
      "[CV] END C=0.001, class_weight=None, max_iter=200, penalty=l2, solver=saga; total time=   0.5s\n",
      "[CV] END C=0.001, class_weight=None, max_iter=200, penalty=l2, solver=saga; total time=   0.5s\n",
      "[CV] END C=0.001, class_weight=None, max_iter=200, penalty=l2, solver=saga; total time=   0.4s\n",
      "[CV] END C=0.001, class_weight=None, max_iter=200, penalty=l1, solver=liblinear; total time=   0.0s\n",
      "[CV] END C=0.001, class_weight=None, max_iter=200, penalty=l1, solver=liblinear; total time=   0.0s\n",
      "[CV] END C=0.001, class_weight=None, max_iter=200, penalty=l1, solver=liblinear; total time=   0.0s\n",
      "[CV] END C=0.001, class_weight=None, max_iter=200, penalty=l1, solver=liblinear; total time=   0.0s\n",
      "[CV] END C=0.001, class_weight=None, max_iter=200, penalty=l1, solver=liblinear; total time=   0.0s\n",
      "[CV] END C=0.001, class_weight=None, max_iter=200, penalty=l1, solver=saga; total time=   0.0s\n",
      "[CV] END C=0.001, class_weight=None, max_iter=200, penalty=l1, solver=saga; total time=   0.0s\n",
      "[CV] END C=0.001, class_weight=None, max_iter=200, penalty=l1, solver=saga; total time=   0.0s\n",
      "[CV] END C=0.001, class_weight=None, max_iter=200, penalty=l1, solver=saga; total time=   0.0s\n",
      "[CV] END C=0.001, class_weight=None, max_iter=200, penalty=l1, solver=saga; total time=   0.0s\n",
      "[CV] END C=0.001, class_weight=None, max_iter=500, penalty=l2, solver=liblinear; total time=   0.0s\n",
      "[CV] END C=0.001, class_weight=None, max_iter=500, penalty=l2, solver=liblinear; total time=   0.0s\n",
      "[CV] END C=0.001, class_weight=None, max_iter=500, penalty=l2, solver=liblinear; total time=   0.0s\n",
      "[CV] END C=0.001, class_weight=None, max_iter=500, penalty=l2, solver=liblinear; total time=   0.0s\n",
      "[CV] END C=0.001, class_weight=None, max_iter=500, penalty=l2, solver=liblinear; total time=   0.0s\n",
      "[CV] END C=0.001, class_weight=None, max_iter=500, penalty=l2, solver=saga; total time=   0.5s\n",
      "[CV] END C=0.001, class_weight=None, max_iter=500, penalty=l2, solver=saga; total time=   0.5s\n",
      "[CV] END C=0.001, class_weight=None, max_iter=500, penalty=l2, solver=saga; total time=   0.5s\n",
      "[CV] END C=0.001, class_weight=None, max_iter=500, penalty=l2, solver=saga; total time=   0.5s\n",
      "[CV] END C=0.001, class_weight=None, max_iter=500, penalty=l2, solver=saga; total time=   0.5s\n",
      "[CV] END C=0.001, class_weight=None, max_iter=500, penalty=l1, solver=liblinear; total time=   0.0s\n",
      "[CV] END C=0.001, class_weight=None, max_iter=500, penalty=l1, solver=liblinear; total time=   0.0s\n",
      "[CV] END C=0.001, class_weight=None, max_iter=500, penalty=l1, solver=liblinear; total time=   0.0s\n",
      "[CV] END C=0.001, class_weight=None, max_iter=500, penalty=l1, solver=liblinear; total time=   0.0s\n",
      "[CV] END C=0.001, class_weight=None, max_iter=500, penalty=l1, solver=liblinear; total time=   0.0s\n",
      "[CV] END C=0.001, class_weight=None, max_iter=500, penalty=l1, solver=saga; total time=   0.0s\n",
      "[CV] END C=0.001, class_weight=None, max_iter=500, penalty=l1, solver=saga; total time=   0.0s\n",
      "[CV] END C=0.001, class_weight=None, max_iter=500, penalty=l1, solver=saga; total time=   0.0s\n",
      "[CV] END C=0.001, class_weight=None, max_iter=500, penalty=l1, solver=saga; total time=   0.0s\n",
      "[CV] END C=0.001, class_weight=None, max_iter=500, penalty=l1, solver=saga; total time=   0.0s\n",
      "[CV] END C=0.001, class_weight=None, max_iter=700, penalty=l2, solver=liblinear; total time=   0.0s\n",
      "[CV] END C=0.001, class_weight=None, max_iter=700, penalty=l2, solver=liblinear; total time=   0.0s\n",
      "[CV] END C=0.001, class_weight=None, max_iter=700, penalty=l2, solver=liblinear; total time=   0.0s\n",
      "[CV] END C=0.001, class_weight=None, max_iter=700, penalty=l2, solver=liblinear; total time=   0.0s\n",
      "[CV] END C=0.001, class_weight=None, max_iter=700, penalty=l2, solver=liblinear; total time=   0.0s\n",
      "[CV] END C=0.001, class_weight=None, max_iter=700, penalty=l2, solver=saga; total time=   0.4s\n",
      "[CV] END C=0.001, class_weight=None, max_iter=700, penalty=l2, solver=saga; total time=   0.5s\n",
      "[CV] END C=0.001, class_weight=None, max_iter=700, penalty=l2, solver=saga; total time=   0.4s\n",
      "[CV] END C=0.001, class_weight=None, max_iter=700, penalty=l2, solver=saga; total time=   0.5s\n",
      "[CV] END C=0.001, class_weight=None, max_iter=700, penalty=l2, solver=saga; total time=   0.4s\n",
      "[CV] END C=0.001, class_weight=None, max_iter=700, penalty=l1, solver=liblinear; total time=   0.0s\n",
      "[CV] END C=0.001, class_weight=None, max_iter=700, penalty=l1, solver=liblinear; total time=   0.0s\n",
      "[CV] END C=0.001, class_weight=None, max_iter=700, penalty=l1, solver=liblinear; total time=   0.0s\n",
      "[CV] END C=0.001, class_weight=None, max_iter=700, penalty=l1, solver=liblinear; total time=   0.0s\n",
      "[CV] END C=0.001, class_weight=None, max_iter=700, penalty=l1, solver=liblinear; total time=   0.0s\n",
      "[CV] END C=0.001, class_weight=None, max_iter=700, penalty=l1, solver=saga; total time=   0.0s\n",
      "[CV] END C=0.001, class_weight=None, max_iter=700, penalty=l1, solver=saga; total time=   0.0s\n",
      "[CV] END C=0.001, class_weight=None, max_iter=700, penalty=l1, solver=saga; total time=   0.0s\n",
      "[CV] END C=0.001, class_weight=None, max_iter=700, penalty=l1, solver=saga; total time=   0.0s\n",
      "[CV] END C=0.001, class_weight=None, max_iter=700, penalty=l1, solver=saga; total time=   0.0s\n",
      "[CV] END C=0.001, class_weight=None, max_iter=1000, penalty=l2, solver=liblinear; total time=   0.0s\n",
      "[CV] END C=0.001, class_weight=None, max_iter=1000, penalty=l2, solver=liblinear; total time=   0.0s\n",
      "[CV] END C=0.001, class_weight=None, max_iter=1000, penalty=l2, solver=liblinear; total time=   0.0s\n",
      "[CV] END C=0.001, class_weight=None, max_iter=1000, penalty=l2, solver=liblinear; total time=   0.0s\n",
      "[CV] END C=0.001, class_weight=None, max_iter=1000, penalty=l2, solver=liblinear; total time=   0.0s\n",
      "[CV] END C=0.001, class_weight=None, max_iter=1000, penalty=l2, solver=saga; total time=   0.5s\n",
      "[CV] END C=0.001, class_weight=None, max_iter=1000, penalty=l2, solver=saga; total time=   0.4s\n",
      "[CV] END C=0.001, class_weight=None, max_iter=1000, penalty=l2, solver=saga; total time=   0.4s\n",
      "[CV] END C=0.001, class_weight=None, max_iter=1000, penalty=l2, solver=saga; total time=   0.5s\n",
      "[CV] END C=0.001, class_weight=None, max_iter=1000, penalty=l2, solver=saga; total time=   0.5s\n",
      "[CV] END C=0.001, class_weight=None, max_iter=1000, penalty=l1, solver=liblinear; total time=   0.0s\n",
      "[CV] END C=0.001, class_weight=None, max_iter=1000, penalty=l1, solver=liblinear; total time=   0.0s\n",
      "[CV] END C=0.001, class_weight=None, max_iter=1000, penalty=l1, solver=liblinear; total time=   0.0s\n",
      "[CV] END C=0.001, class_weight=None, max_iter=1000, penalty=l1, solver=liblinear; total time=   0.0s\n",
      "[CV] END C=0.001, class_weight=None, max_iter=1000, penalty=l1, solver=liblinear; total time=   0.0s\n",
      "[CV] END C=0.001, class_weight=None, max_iter=1000, penalty=l1, solver=saga; total time=   0.0s\n",
      "[CV] END C=0.001, class_weight=None, max_iter=1000, penalty=l1, solver=saga; total time=   0.0s\n",
      "[CV] END C=0.001, class_weight=None, max_iter=1000, penalty=l1, solver=saga; total time=   0.0s\n",
      "[CV] END C=0.001, class_weight=None, max_iter=1000, penalty=l1, solver=saga; total time=   0.0s\n",
      "[CV] END C=0.001, class_weight=None, max_iter=1000, penalty=l1, solver=saga; total time=   0.0s\n",
      "[CV] END C=0.001, class_weight=balanced, max_iter=100, penalty=l2, solver=liblinear; total time=   0.0s\n",
      "[CV] END C=0.001, class_weight=balanced, max_iter=100, penalty=l2, solver=liblinear; total time=   0.0s\n",
      "[CV] END C=0.001, class_weight=balanced, max_iter=100, penalty=l2, solver=liblinear; total time=   0.0s\n",
      "[CV] END C=0.001, class_weight=balanced, max_iter=100, penalty=l2, solver=liblinear; total time=   0.0s\n",
      "[CV] END C=0.001, class_weight=balanced, max_iter=100, penalty=l2, solver=liblinear; total time=   0.0s\n",
      "[CV] END C=0.001, class_weight=balanced, max_iter=100, penalty=l2, solver=saga; total time=   0.4s\n",
      "[CV] END C=0.001, class_weight=balanced, max_iter=100, penalty=l2, solver=saga; total time=   0.4s\n",
      "[CV] END C=0.001, class_weight=balanced, max_iter=100, penalty=l2, solver=saga; total time=   0.5s\n",
      "[CV] END C=0.001, class_weight=balanced, max_iter=100, penalty=l2, solver=saga; total time=   0.4s\n",
      "[CV] END C=0.001, class_weight=balanced, max_iter=100, penalty=l2, solver=saga; total time=   0.4s\n",
      "[CV] END C=0.001, class_weight=balanced, max_iter=100, penalty=l1, solver=liblinear; total time=   0.0s\n",
      "[CV] END C=0.001, class_weight=balanced, max_iter=100, penalty=l1, solver=liblinear; total time=   0.0s\n",
      "[CV] END C=0.001, class_weight=balanced, max_iter=100, penalty=l1, solver=liblinear; total time=   0.0s\n",
      "[CV] END C=0.001, class_weight=balanced, max_iter=100, penalty=l1, solver=liblinear; total time=   0.0s\n",
      "[CV] END C=0.001, class_weight=balanced, max_iter=100, penalty=l1, solver=liblinear; total time=   0.0s\n",
      "[CV] END C=0.001, class_weight=balanced, max_iter=100, penalty=l1, solver=saga; total time=   0.0s\n",
      "[CV] END C=0.001, class_weight=balanced, max_iter=100, penalty=l1, solver=saga; total time=   0.0s\n",
      "[CV] END C=0.001, class_weight=balanced, max_iter=100, penalty=l1, solver=saga; total time=   0.0s\n",
      "[CV] END C=0.001, class_weight=balanced, max_iter=100, penalty=l1, solver=saga; total time=   0.0s\n",
      "[CV] END C=0.001, class_weight=balanced, max_iter=100, penalty=l1, solver=saga; total time=   0.0s\n",
      "[CV] END C=0.001, class_weight=balanced, max_iter=200, penalty=l2, solver=liblinear; total time=   0.0s\n",
      "[CV] END C=0.001, class_weight=balanced, max_iter=200, penalty=l2, solver=liblinear; total time=   0.0s\n",
      "[CV] END C=0.001, class_weight=balanced, max_iter=200, penalty=l2, solver=liblinear; total time=   0.0s\n",
      "[CV] END C=0.001, class_weight=balanced, max_iter=200, penalty=l2, solver=liblinear; total time=   0.0s\n",
      "[CV] END C=0.001, class_weight=balanced, max_iter=200, penalty=l2, solver=liblinear; total time=   0.0s\n",
      "[CV] END C=0.001, class_weight=balanced, max_iter=200, penalty=l2, solver=saga; total time=   0.5s\n",
      "[CV] END C=0.001, class_weight=balanced, max_iter=200, penalty=l2, solver=saga; total time=   0.4s\n",
      "[CV] END C=0.001, class_weight=balanced, max_iter=200, penalty=l2, solver=saga; total time=   0.4s\n",
      "[CV] END C=0.001, class_weight=balanced, max_iter=200, penalty=l2, solver=saga; total time=   0.4s\n",
      "[CV] END C=0.001, class_weight=balanced, max_iter=200, penalty=l2, solver=saga; total time=   0.4s\n",
      "[CV] END C=0.001, class_weight=balanced, max_iter=200, penalty=l1, solver=liblinear; total time=   0.0s\n",
      "[CV] END C=0.001, class_weight=balanced, max_iter=200, penalty=l1, solver=liblinear; total time=   0.0s\n",
      "[CV] END C=0.001, class_weight=balanced, max_iter=200, penalty=l1, solver=liblinear; total time=   0.0s\n",
      "[CV] END C=0.001, class_weight=balanced, max_iter=200, penalty=l1, solver=liblinear; total time=   0.0s\n",
      "[CV] END C=0.001, class_weight=balanced, max_iter=200, penalty=l1, solver=liblinear; total time=   0.0s\n",
      "[CV] END C=0.001, class_weight=balanced, max_iter=200, penalty=l1, solver=saga; total time=   0.0s\n",
      "[CV] END C=0.001, class_weight=balanced, max_iter=200, penalty=l1, solver=saga; total time=   0.0s\n",
      "[CV] END C=0.001, class_weight=balanced, max_iter=200, penalty=l1, solver=saga; total time=   0.0s\n",
      "[CV] END C=0.001, class_weight=balanced, max_iter=200, penalty=l1, solver=saga; total time=   0.0s\n",
      "[CV] END C=0.001, class_weight=balanced, max_iter=200, penalty=l1, solver=saga; total time=   0.0s\n",
      "[CV] END C=0.001, class_weight=balanced, max_iter=500, penalty=l2, solver=liblinear; total time=   0.0s\n",
      "[CV] END C=0.001, class_weight=balanced, max_iter=500, penalty=l2, solver=liblinear; total time=   0.0s\n",
      "[CV] END C=0.001, class_weight=balanced, max_iter=500, penalty=l2, solver=liblinear; total time=   0.0s\n",
      "[CV] END C=0.001, class_weight=balanced, max_iter=500, penalty=l2, solver=liblinear; total time=   0.0s\n",
      "[CV] END C=0.001, class_weight=balanced, max_iter=500, penalty=l2, solver=liblinear; total time=   0.0s\n",
      "[CV] END C=0.001, class_weight=balanced, max_iter=500, penalty=l2, solver=saga; total time=   0.4s\n",
      "[CV] END C=0.001, class_weight=balanced, max_iter=500, penalty=l2, solver=saga; total time=   0.4s\n",
      "[CV] END C=0.001, class_weight=balanced, max_iter=500, penalty=l2, solver=saga; total time=   0.5s\n",
      "[CV] END C=0.001, class_weight=balanced, max_iter=500, penalty=l2, solver=saga; total time=   0.4s\n",
      "[CV] END C=0.001, class_weight=balanced, max_iter=500, penalty=l2, solver=saga; total time=   0.4s\n",
      "[CV] END C=0.001, class_weight=balanced, max_iter=500, penalty=l1, solver=liblinear; total time=   0.0s\n",
      "[CV] END C=0.001, class_weight=balanced, max_iter=500, penalty=l1, solver=liblinear; total time=   0.0s\n",
      "[CV] END C=0.001, class_weight=balanced, max_iter=500, penalty=l1, solver=liblinear; total time=   0.0s\n",
      "[CV] END C=0.001, class_weight=balanced, max_iter=500, penalty=l1, solver=liblinear; total time=   0.0s\n",
      "[CV] END C=0.001, class_weight=balanced, max_iter=500, penalty=l1, solver=liblinear; total time=   0.0s\n",
      "[CV] END C=0.001, class_weight=balanced, max_iter=500, penalty=l1, solver=saga; total time=   0.0s\n",
      "[CV] END C=0.001, class_weight=balanced, max_iter=500, penalty=l1, solver=saga; total time=   0.0s\n",
      "[CV] END C=0.001, class_weight=balanced, max_iter=500, penalty=l1, solver=saga; total time=   0.0s\n",
      "[CV] END C=0.001, class_weight=balanced, max_iter=500, penalty=l1, solver=saga; total time=   0.0s\n",
      "[CV] END C=0.001, class_weight=balanced, max_iter=500, penalty=l1, solver=saga; total time=   0.0s\n",
      "[CV] END C=0.001, class_weight=balanced, max_iter=700, penalty=l2, solver=liblinear; total time=   0.0s\n",
      "[CV] END C=0.001, class_weight=balanced, max_iter=700, penalty=l2, solver=liblinear; total time=   0.0s\n",
      "[CV] END C=0.001, class_weight=balanced, max_iter=700, penalty=l2, solver=liblinear; total time=   0.0s\n",
      "[CV] END C=0.001, class_weight=balanced, max_iter=700, penalty=l2, solver=liblinear; total time=   0.0s\n",
      "[CV] END C=0.001, class_weight=balanced, max_iter=700, penalty=l2, solver=liblinear; total time=   0.0s\n",
      "[CV] END C=0.001, class_weight=balanced, max_iter=700, penalty=l2, solver=saga; total time=   0.5s\n",
      "[CV] END C=0.001, class_weight=balanced, max_iter=700, penalty=l2, solver=saga; total time=   0.4s\n",
      "[CV] END C=0.001, class_weight=balanced, max_iter=700, penalty=l2, solver=saga; total time=   0.5s\n",
      "[CV] END C=0.001, class_weight=balanced, max_iter=700, penalty=l2, solver=saga; total time=   0.4s\n",
      "[CV] END C=0.001, class_weight=balanced, max_iter=700, penalty=l2, solver=saga; total time=   0.4s\n",
      "[CV] END C=0.001, class_weight=balanced, max_iter=700, penalty=l1, solver=liblinear; total time=   0.0s\n",
      "[CV] END C=0.001, class_weight=balanced, max_iter=700, penalty=l1, solver=liblinear; total time=   0.0s\n",
      "[CV] END C=0.001, class_weight=balanced, max_iter=700, penalty=l1, solver=liblinear; total time=   0.0s\n",
      "[CV] END C=0.001, class_weight=balanced, max_iter=700, penalty=l1, solver=liblinear; total time=   0.0s\n",
      "[CV] END C=0.001, class_weight=balanced, max_iter=700, penalty=l1, solver=liblinear; total time=   0.0s\n",
      "[CV] END C=0.001, class_weight=balanced, max_iter=700, penalty=l1, solver=saga; total time=   0.0s\n",
      "[CV] END C=0.001, class_weight=balanced, max_iter=700, penalty=l1, solver=saga; total time=   0.0s\n",
      "[CV] END C=0.001, class_weight=balanced, max_iter=700, penalty=l1, solver=saga; total time=   0.0s\n",
      "[CV] END C=0.001, class_weight=balanced, max_iter=700, penalty=l1, solver=saga; total time=   0.0s\n",
      "[CV] END C=0.001, class_weight=balanced, max_iter=700, penalty=l1, solver=saga; total time=   0.0s\n",
      "[CV] END C=0.001, class_weight=balanced, max_iter=1000, penalty=l2, solver=liblinear; total time=   0.0s\n",
      "[CV] END C=0.001, class_weight=balanced, max_iter=1000, penalty=l2, solver=liblinear; total time=   0.0s\n",
      "[CV] END C=0.001, class_weight=balanced, max_iter=1000, penalty=l2, solver=liblinear; total time=   0.0s\n",
      "[CV] END C=0.001, class_weight=balanced, max_iter=1000, penalty=l2, solver=liblinear; total time=   0.0s\n",
      "[CV] END C=0.001, class_weight=balanced, max_iter=1000, penalty=l2, solver=liblinear; total time=   0.0s\n",
      "[CV] END C=0.001, class_weight=balanced, max_iter=1000, penalty=l2, solver=saga; total time=   0.4s\n",
      "[CV] END C=0.001, class_weight=balanced, max_iter=1000, penalty=l2, solver=saga; total time=   0.4s\n",
      "[CV] END C=0.001, class_weight=balanced, max_iter=1000, penalty=l2, solver=saga; total time=   0.4s\n",
      "[CV] END C=0.001, class_weight=balanced, max_iter=1000, penalty=l2, solver=saga; total time=   0.4s\n",
      "[CV] END C=0.001, class_weight=balanced, max_iter=1000, penalty=l2, solver=saga; total time=   0.5s\n",
      "[CV] END C=0.001, class_weight=balanced, max_iter=1000, penalty=l1, solver=liblinear; total time=   0.0s\n",
      "[CV] END C=0.001, class_weight=balanced, max_iter=1000, penalty=l1, solver=liblinear; total time=   0.0s\n",
      "[CV] END C=0.001, class_weight=balanced, max_iter=1000, penalty=l1, solver=liblinear; total time=   0.0s\n",
      "[CV] END C=0.001, class_weight=balanced, max_iter=1000, penalty=l1, solver=liblinear; total time=   0.0s\n",
      "[CV] END C=0.001, class_weight=balanced, max_iter=1000, penalty=l1, solver=liblinear; total time=   0.0s\n",
      "[CV] END C=0.001, class_weight=balanced, max_iter=1000, penalty=l1, solver=saga; total time=   0.0s\n",
      "[CV] END C=0.001, class_weight=balanced, max_iter=1000, penalty=l1, solver=saga; total time=   0.0s\n",
      "[CV] END C=0.001, class_weight=balanced, max_iter=1000, penalty=l1, solver=saga; total time=   0.0s\n",
      "[CV] END C=0.001, class_weight=balanced, max_iter=1000, penalty=l1, solver=saga; total time=   0.0s\n",
      "[CV] END C=0.001, class_weight=balanced, max_iter=1000, penalty=l1, solver=saga; total time=   0.0s\n",
      "[CV] END C=0.01, class_weight=None, max_iter=100, penalty=l2, solver=liblinear; total time=   0.0s\n",
      "[CV] END C=0.01, class_weight=None, max_iter=100, penalty=l2, solver=liblinear; total time=   0.0s\n",
      "[CV] END C=0.01, class_weight=None, max_iter=100, penalty=l2, solver=liblinear; total time=   0.0s\n",
      "[CV] END C=0.01, class_weight=None, max_iter=100, penalty=l2, solver=liblinear; total time=   0.0s\n",
      "[CV] END C=0.01, class_weight=None, max_iter=100, penalty=l2, solver=liblinear; total time=   0.0s\n"
     ]
    },
    {
     "name": "stderr",
     "output_type": "stream",
     "text": [
      "C:\\Users\\myousaf23\\anaconda3\\Lib\\site-packages\\sklearn\\linear_model\\_sag.py:349: ConvergenceWarning: The max_iter was reached which means the coef_ did not converge\n",
      "  warnings.warn(\n"
     ]
    },
    {
     "name": "stdout",
     "output_type": "stream",
     "text": [
      "[CV] END C=0.01, class_weight=None, max_iter=100, penalty=l2, solver=saga; total time=   1.1s\n"
     ]
    },
    {
     "name": "stderr",
     "output_type": "stream",
     "text": [
      "C:\\Users\\myousaf23\\anaconda3\\Lib\\site-packages\\sklearn\\linear_model\\_sag.py:349: ConvergenceWarning: The max_iter was reached which means the coef_ did not converge\n",
      "  warnings.warn(\n"
     ]
    },
    {
     "name": "stdout",
     "output_type": "stream",
     "text": [
      "[CV] END C=0.01, class_weight=None, max_iter=100, penalty=l2, solver=saga; total time=   1.1s\n"
     ]
    },
    {
     "name": "stderr",
     "output_type": "stream",
     "text": [
      "C:\\Users\\myousaf23\\anaconda3\\Lib\\site-packages\\sklearn\\linear_model\\_sag.py:349: ConvergenceWarning: The max_iter was reached which means the coef_ did not converge\n",
      "  warnings.warn(\n"
     ]
    },
    {
     "name": "stdout",
     "output_type": "stream",
     "text": [
      "[CV] END C=0.01, class_weight=None, max_iter=100, penalty=l2, solver=saga; total time=   1.1s\n"
     ]
    },
    {
     "name": "stderr",
     "output_type": "stream",
     "text": [
      "C:\\Users\\myousaf23\\anaconda3\\Lib\\site-packages\\sklearn\\linear_model\\_sag.py:349: ConvergenceWarning: The max_iter was reached which means the coef_ did not converge\n",
      "  warnings.warn(\n"
     ]
    },
    {
     "name": "stdout",
     "output_type": "stream",
     "text": [
      "[CV] END C=0.01, class_weight=None, max_iter=100, penalty=l2, solver=saga; total time=   1.1s\n"
     ]
    },
    {
     "name": "stderr",
     "output_type": "stream",
     "text": [
      "C:\\Users\\myousaf23\\anaconda3\\Lib\\site-packages\\sklearn\\linear_model\\_sag.py:349: ConvergenceWarning: The max_iter was reached which means the coef_ did not converge\n",
      "  warnings.warn(\n"
     ]
    },
    {
     "name": "stdout",
     "output_type": "stream",
     "text": [
      "[CV] END C=0.01, class_weight=None, max_iter=100, penalty=l2, solver=saga; total time=   1.1s\n",
      "[CV] END C=0.01, class_weight=None, max_iter=100, penalty=l1, solver=liblinear; total time=   0.0s\n",
      "[CV] END C=0.01, class_weight=None, max_iter=100, penalty=l1, solver=liblinear; total time=   0.0s\n",
      "[CV] END C=0.01, class_weight=None, max_iter=100, penalty=l1, solver=liblinear; total time=   0.0s\n",
      "[CV] END C=0.01, class_weight=None, max_iter=100, penalty=l1, solver=liblinear; total time=   0.1s\n",
      "[CV] END C=0.01, class_weight=None, max_iter=100, penalty=l1, solver=liblinear; total time=   0.1s\n",
      "[CV] END C=0.01, class_weight=None, max_iter=100, penalty=l1, solver=saga; total time=   0.3s\n",
      "[CV] END C=0.01, class_weight=None, max_iter=100, penalty=l1, solver=saga; total time=   0.2s\n",
      "[CV] END C=0.01, class_weight=None, max_iter=100, penalty=l1, solver=saga; total time=   0.1s\n",
      "[CV] END C=0.01, class_weight=None, max_iter=100, penalty=l1, solver=saga; total time=   0.2s\n",
      "[CV] END C=0.01, class_weight=None, max_iter=100, penalty=l1, solver=saga; total time=   0.2s\n",
      "[CV] END C=0.01, class_weight=None, max_iter=200, penalty=l2, solver=liblinear; total time=   0.0s\n",
      "[CV] END C=0.01, class_weight=None, max_iter=200, penalty=l2, solver=liblinear; total time=   0.0s\n",
      "[CV] END C=0.01, class_weight=None, max_iter=200, penalty=l2, solver=liblinear; total time=   0.0s\n",
      "[CV] END C=0.01, class_weight=None, max_iter=200, penalty=l2, solver=liblinear; total time=   0.0s\n",
      "[CV] END C=0.01, class_weight=None, max_iter=200, penalty=l2, solver=liblinear; total time=   0.0s\n"
     ]
    },
    {
     "name": "stderr",
     "output_type": "stream",
     "text": [
      "C:\\Users\\myousaf23\\anaconda3\\Lib\\site-packages\\sklearn\\linear_model\\_sag.py:349: ConvergenceWarning: The max_iter was reached which means the coef_ did not converge\n",
      "  warnings.warn(\n"
     ]
    },
    {
     "name": "stdout",
     "output_type": "stream",
     "text": [
      "[CV] END C=0.01, class_weight=None, max_iter=200, penalty=l2, solver=saga; total time=   2.2s\n",
      "[CV] END C=0.01, class_weight=None, max_iter=200, penalty=l2, solver=saga; total time=   2.2s\n"
     ]
    },
    {
     "name": "stderr",
     "output_type": "stream",
     "text": [
      "C:\\Users\\myousaf23\\anaconda3\\Lib\\site-packages\\sklearn\\linear_model\\_sag.py:349: ConvergenceWarning: The max_iter was reached which means the coef_ did not converge\n",
      "  warnings.warn(\n"
     ]
    },
    {
     "name": "stdout",
     "output_type": "stream",
     "text": [
      "[CV] END C=0.01, class_weight=None, max_iter=200, penalty=l2, solver=saga; total time=   2.2s\n"
     ]
    },
    {
     "name": "stderr",
     "output_type": "stream",
     "text": [
      "C:\\Users\\myousaf23\\anaconda3\\Lib\\site-packages\\sklearn\\linear_model\\_sag.py:349: ConvergenceWarning: The max_iter was reached which means the coef_ did not converge\n",
      "  warnings.warn(\n"
     ]
    },
    {
     "name": "stdout",
     "output_type": "stream",
     "text": [
      "[CV] END C=0.01, class_weight=None, max_iter=200, penalty=l2, solver=saga; total time=   2.2s\n"
     ]
    },
    {
     "name": "stderr",
     "output_type": "stream",
     "text": [
      "C:\\Users\\myousaf23\\anaconda3\\Lib\\site-packages\\sklearn\\linear_model\\_sag.py:349: ConvergenceWarning: The max_iter was reached which means the coef_ did not converge\n",
      "  warnings.warn(\n"
     ]
    },
    {
     "name": "stdout",
     "output_type": "stream",
     "text": [
      "[CV] END C=0.01, class_weight=None, max_iter=200, penalty=l2, solver=saga; total time=   2.2s\n",
      "[CV] END C=0.01, class_weight=None, max_iter=200, penalty=l1, solver=liblinear; total time=   0.1s\n",
      "[CV] END C=0.01, class_weight=None, max_iter=200, penalty=l1, solver=liblinear; total time=   0.0s\n",
      "[CV] END C=0.01, class_weight=None, max_iter=200, penalty=l1, solver=liblinear; total time=   0.0s\n",
      "[CV] END C=0.01, class_weight=None, max_iter=200, penalty=l1, solver=liblinear; total time=   0.0s\n",
      "[CV] END C=0.01, class_weight=None, max_iter=200, penalty=l1, solver=liblinear; total time=   0.1s\n",
      "[CV] END C=0.01, class_weight=None, max_iter=200, penalty=l1, solver=saga; total time=   0.2s\n",
      "[CV] END C=0.01, class_weight=None, max_iter=200, penalty=l1, solver=saga; total time=   0.2s\n",
      "[CV] END C=0.01, class_weight=None, max_iter=200, penalty=l1, solver=saga; total time=   0.2s\n",
      "[CV] END C=0.01, class_weight=None, max_iter=200, penalty=l1, solver=saga; total time=   0.2s\n",
      "[CV] END C=0.01, class_weight=None, max_iter=200, penalty=l1, solver=saga; total time=   0.2s\n",
      "[CV] END C=0.01, class_weight=None, max_iter=500, penalty=l2, solver=liblinear; total time=   0.0s\n",
      "[CV] END C=0.01, class_weight=None, max_iter=500, penalty=l2, solver=liblinear; total time=   0.0s\n",
      "[CV] END C=0.01, class_weight=None, max_iter=500, penalty=l2, solver=liblinear; total time=   0.0s\n",
      "[CV] END C=0.01, class_weight=None, max_iter=500, penalty=l2, solver=liblinear; total time=   0.0s\n",
      "[CV] END C=0.01, class_weight=None, max_iter=500, penalty=l2, solver=liblinear; total time=   0.0s\n",
      "[CV] END C=0.01, class_weight=None, max_iter=500, penalty=l2, solver=saga; total time=   2.5s\n",
      "[CV] END C=0.01, class_weight=None, max_iter=500, penalty=l2, solver=saga; total time=   2.3s\n",
      "[CV] END C=0.01, class_weight=None, max_iter=500, penalty=l2, solver=saga; total time=   2.6s\n",
      "[CV] END C=0.01, class_weight=None, max_iter=500, penalty=l2, solver=saga; total time=   2.4s\n",
      "[CV] END C=0.01, class_weight=None, max_iter=500, penalty=l2, solver=saga; total time=   2.4s\n",
      "[CV] END C=0.01, class_weight=None, max_iter=500, penalty=l1, solver=liblinear; total time=   0.0s\n",
      "[CV] END C=0.01, class_weight=None, max_iter=500, penalty=l1, solver=liblinear; total time=   0.0s\n",
      "[CV] END C=0.01, class_weight=None, max_iter=500, penalty=l1, solver=liblinear; total time=   0.0s\n",
      "[CV] END C=0.01, class_weight=None, max_iter=500, penalty=l1, solver=liblinear; total time=   0.0s\n",
      "[CV] END C=0.01, class_weight=None, max_iter=500, penalty=l1, solver=liblinear; total time=   0.0s\n",
      "[CV] END C=0.01, class_weight=None, max_iter=500, penalty=l1, solver=saga; total time=   0.3s\n",
      "[CV] END C=0.01, class_weight=None, max_iter=500, penalty=l1, solver=saga; total time=   0.2s\n",
      "[CV] END C=0.01, class_weight=None, max_iter=500, penalty=l1, solver=saga; total time=   0.1s\n",
      "[CV] END C=0.01, class_weight=None, max_iter=500, penalty=l1, solver=saga; total time=   0.3s\n",
      "[CV] END C=0.01, class_weight=None, max_iter=500, penalty=l1, solver=saga; total time=   0.3s\n",
      "[CV] END C=0.01, class_weight=None, max_iter=700, penalty=l2, solver=liblinear; total time=   0.0s\n",
      "[CV] END C=0.01, class_weight=None, max_iter=700, penalty=l2, solver=liblinear; total time=   0.0s\n",
      "[CV] END C=0.01, class_weight=None, max_iter=700, penalty=l2, solver=liblinear; total time=   0.0s\n",
      "[CV] END C=0.01, class_weight=None, max_iter=700, penalty=l2, solver=liblinear; total time=   0.0s\n",
      "[CV] END C=0.01, class_weight=None, max_iter=700, penalty=l2, solver=liblinear; total time=   0.0s\n",
      "[CV] END C=0.01, class_weight=None, max_iter=700, penalty=l2, solver=saga; total time=   2.6s\n",
      "[CV] END C=0.01, class_weight=None, max_iter=700, penalty=l2, solver=saga; total time=   2.3s\n",
      "[CV] END C=0.01, class_weight=None, max_iter=700, penalty=l2, solver=saga; total time=   2.6s\n",
      "[CV] END C=0.01, class_weight=None, max_iter=700, penalty=l2, solver=saga; total time=   2.4s\n",
      "[CV] END C=0.01, class_weight=None, max_iter=700, penalty=l2, solver=saga; total time=   2.6s\n",
      "[CV] END C=0.01, class_weight=None, max_iter=700, penalty=l1, solver=liblinear; total time=   0.0s\n",
      "[CV] END C=0.01, class_weight=None, max_iter=700, penalty=l1, solver=liblinear; total time=   0.0s\n",
      "[CV] END C=0.01, class_weight=None, max_iter=700, penalty=l1, solver=liblinear; total time=   0.0s\n",
      "[CV] END C=0.01, class_weight=None, max_iter=700, penalty=l1, solver=liblinear; total time=   0.0s\n",
      "[CV] END C=0.01, class_weight=None, max_iter=700, penalty=l1, solver=liblinear; total time=   0.0s\n",
      "[CV] END C=0.01, class_weight=None, max_iter=700, penalty=l1, solver=saga; total time=   0.2s\n",
      "[CV] END C=0.01, class_weight=None, max_iter=700, penalty=l1, solver=saga; total time=   0.2s\n",
      "[CV] END C=0.01, class_weight=None, max_iter=700, penalty=l1, solver=saga; total time=   0.3s\n",
      "[CV] END C=0.01, class_weight=None, max_iter=700, penalty=l1, solver=saga; total time=   0.2s\n",
      "[CV] END C=0.01, class_weight=None, max_iter=700, penalty=l1, solver=saga; total time=   0.2s\n",
      "[CV] END C=0.01, class_weight=None, max_iter=1000, penalty=l2, solver=liblinear; total time=   0.1s\n",
      "[CV] END C=0.01, class_weight=None, max_iter=1000, penalty=l2, solver=liblinear; total time=   0.0s\n",
      "[CV] END C=0.01, class_weight=None, max_iter=1000, penalty=l2, solver=liblinear; total time=   0.0s\n",
      "[CV] END C=0.01, class_weight=None, max_iter=1000, penalty=l2, solver=liblinear; total time=   0.0s\n",
      "[CV] END C=0.01, class_weight=None, max_iter=1000, penalty=l2, solver=liblinear; total time=   0.0s\n",
      "[CV] END C=0.01, class_weight=None, max_iter=1000, penalty=l2, solver=saga; total time=   2.5s\n",
      "[CV] END C=0.01, class_weight=None, max_iter=1000, penalty=l2, solver=saga; total time=   2.2s\n",
      "[CV] END C=0.01, class_weight=None, max_iter=1000, penalty=l2, solver=saga; total time=   2.7s\n",
      "[CV] END C=0.01, class_weight=None, max_iter=1000, penalty=l2, solver=saga; total time=   2.4s\n",
      "[CV] END C=0.01, class_weight=None, max_iter=1000, penalty=l2, solver=saga; total time=   2.5s\n",
      "[CV] END C=0.01, class_weight=None, max_iter=1000, penalty=l1, solver=liblinear; total time=   0.0s\n",
      "[CV] END C=0.01, class_weight=None, max_iter=1000, penalty=l1, solver=liblinear; total time=   0.0s\n",
      "[CV] END C=0.01, class_weight=None, max_iter=1000, penalty=l1, solver=liblinear; total time=   0.0s\n",
      "[CV] END C=0.01, class_weight=None, max_iter=1000, penalty=l1, solver=liblinear; total time=   0.0s\n",
      "[CV] END C=0.01, class_weight=None, max_iter=1000, penalty=l1, solver=liblinear; total time=   0.1s\n",
      "[CV] END C=0.01, class_weight=None, max_iter=1000, penalty=l1, solver=saga; total time=   0.3s\n",
      "[CV] END C=0.01, class_weight=None, max_iter=1000, penalty=l1, solver=saga; total time=   0.1s\n",
      "[CV] END C=0.01, class_weight=None, max_iter=1000, penalty=l1, solver=saga; total time=   0.2s\n",
      "[CV] END C=0.01, class_weight=None, max_iter=1000, penalty=l1, solver=saga; total time=   0.2s\n",
      "[CV] END C=0.01, class_weight=None, max_iter=1000, penalty=l1, solver=saga; total time=   0.3s\n",
      "[CV] END C=0.01, class_weight=balanced, max_iter=100, penalty=l2, solver=liblinear; total time=   0.0s\n",
      "[CV] END C=0.01, class_weight=balanced, max_iter=100, penalty=l2, solver=liblinear; total time=   0.0s\n",
      "[CV] END C=0.01, class_weight=balanced, max_iter=100, penalty=l2, solver=liblinear; total time=   0.0s\n",
      "[CV] END C=0.01, class_weight=balanced, max_iter=100, penalty=l2, solver=liblinear; total time=   0.0s\n",
      "[CV] END C=0.01, class_weight=balanced, max_iter=100, penalty=l2, solver=liblinear; total time=   0.0s\n"
     ]
    },
    {
     "name": "stderr",
     "output_type": "stream",
     "text": [
      "C:\\Users\\myousaf23\\anaconda3\\Lib\\site-packages\\sklearn\\linear_model\\_sag.py:349: ConvergenceWarning: The max_iter was reached which means the coef_ did not converge\n",
      "  warnings.warn(\n"
     ]
    },
    {
     "name": "stdout",
     "output_type": "stream",
     "text": [
      "[CV] END C=0.01, class_weight=balanced, max_iter=100, penalty=l2, solver=saga; total time=   1.1s\n"
     ]
    },
    {
     "name": "stderr",
     "output_type": "stream",
     "text": [
      "C:\\Users\\myousaf23\\anaconda3\\Lib\\site-packages\\sklearn\\linear_model\\_sag.py:349: ConvergenceWarning: The max_iter was reached which means the coef_ did not converge\n",
      "  warnings.warn(\n"
     ]
    },
    {
     "name": "stdout",
     "output_type": "stream",
     "text": [
      "[CV] END C=0.01, class_weight=balanced, max_iter=100, penalty=l2, solver=saga; total time=   1.0s\n"
     ]
    },
    {
     "name": "stderr",
     "output_type": "stream",
     "text": [
      "C:\\Users\\myousaf23\\anaconda3\\Lib\\site-packages\\sklearn\\linear_model\\_sag.py:349: ConvergenceWarning: The max_iter was reached which means the coef_ did not converge\n",
      "  warnings.warn(\n"
     ]
    },
    {
     "name": "stdout",
     "output_type": "stream",
     "text": [
      "[CV] END C=0.01, class_weight=balanced, max_iter=100, penalty=l2, solver=saga; total time=   1.1s\n"
     ]
    },
    {
     "name": "stderr",
     "output_type": "stream",
     "text": [
      "C:\\Users\\myousaf23\\anaconda3\\Lib\\site-packages\\sklearn\\linear_model\\_sag.py:349: ConvergenceWarning: The max_iter was reached which means the coef_ did not converge\n",
      "  warnings.warn(\n"
     ]
    },
    {
     "name": "stdout",
     "output_type": "stream",
     "text": [
      "[CV] END C=0.01, class_weight=balanced, max_iter=100, penalty=l2, solver=saga; total time=   1.1s\n"
     ]
    },
    {
     "name": "stderr",
     "output_type": "stream",
     "text": [
      "C:\\Users\\myousaf23\\anaconda3\\Lib\\site-packages\\sklearn\\linear_model\\_sag.py:349: ConvergenceWarning: The max_iter was reached which means the coef_ did not converge\n",
      "  warnings.warn(\n"
     ]
    },
    {
     "name": "stdout",
     "output_type": "stream",
     "text": [
      "[CV] END C=0.01, class_weight=balanced, max_iter=100, penalty=l2, solver=saga; total time=   1.0s\n",
      "[CV] END C=0.01, class_weight=balanced, max_iter=100, penalty=l1, solver=liblinear; total time=   0.0s\n",
      "[CV] END C=0.01, class_weight=balanced, max_iter=100, penalty=l1, solver=liblinear; total time=   0.0s\n",
      "[CV] END C=0.01, class_weight=balanced, max_iter=100, penalty=l1, solver=liblinear; total time=   0.0s\n",
      "[CV] END C=0.01, class_weight=balanced, max_iter=100, penalty=l1, solver=liblinear; total time=   0.0s\n",
      "[CV] END C=0.01, class_weight=balanced, max_iter=100, penalty=l1, solver=liblinear; total time=   0.1s\n",
      "[CV] END C=0.01, class_weight=balanced, max_iter=100, penalty=l1, solver=saga; total time=   0.2s\n",
      "[CV] END C=0.01, class_weight=balanced, max_iter=100, penalty=l1, solver=saga; total time=   0.1s\n",
      "[CV] END C=0.01, class_weight=balanced, max_iter=100, penalty=l1, solver=saga; total time=   0.1s\n",
      "[CV] END C=0.01, class_weight=balanced, max_iter=100, penalty=l1, solver=saga; total time=   0.2s\n",
      "[CV] END C=0.01, class_weight=balanced, max_iter=100, penalty=l1, solver=saga; total time=   0.2s\n",
      "[CV] END C=0.01, class_weight=balanced, max_iter=200, penalty=l2, solver=liblinear; total time=   0.0s\n",
      "[CV] END C=0.01, class_weight=balanced, max_iter=200, penalty=l2, solver=liblinear; total time=   0.0s\n",
      "[CV] END C=0.01, class_weight=balanced, max_iter=200, penalty=l2, solver=liblinear; total time=   0.0s\n",
      "[CV] END C=0.01, class_weight=balanced, max_iter=200, penalty=l2, solver=liblinear; total time=   0.0s\n",
      "[CV] END C=0.01, class_weight=balanced, max_iter=200, penalty=l2, solver=liblinear; total time=   0.0s\n"
     ]
    },
    {
     "name": "stderr",
     "output_type": "stream",
     "text": [
      "C:\\Users\\myousaf23\\anaconda3\\Lib\\site-packages\\sklearn\\linear_model\\_sag.py:349: ConvergenceWarning: The max_iter was reached which means the coef_ did not converge\n",
      "  warnings.warn(\n"
     ]
    },
    {
     "name": "stdout",
     "output_type": "stream",
     "text": [
      "[CV] END C=0.01, class_weight=balanced, max_iter=200, penalty=l2, solver=saga; total time=   2.2s\n"
     ]
    },
    {
     "name": "stderr",
     "output_type": "stream",
     "text": [
      "C:\\Users\\myousaf23\\anaconda3\\Lib\\site-packages\\sklearn\\linear_model\\_sag.py:349: ConvergenceWarning: The max_iter was reached which means the coef_ did not converge\n",
      "  warnings.warn(\n"
     ]
    },
    {
     "name": "stdout",
     "output_type": "stream",
     "text": [
      "[CV] END C=0.01, class_weight=balanced, max_iter=200, penalty=l2, solver=saga; total time=   2.2s\n"
     ]
    },
    {
     "name": "stderr",
     "output_type": "stream",
     "text": [
      "C:\\Users\\myousaf23\\anaconda3\\Lib\\site-packages\\sklearn\\linear_model\\_sag.py:349: ConvergenceWarning: The max_iter was reached which means the coef_ did not converge\n",
      "  warnings.warn(\n"
     ]
    },
    {
     "name": "stdout",
     "output_type": "stream",
     "text": [
      "[CV] END C=0.01, class_weight=balanced, max_iter=200, penalty=l2, solver=saga; total time=   2.2s\n"
     ]
    },
    {
     "name": "stderr",
     "output_type": "stream",
     "text": [
      "C:\\Users\\myousaf23\\anaconda3\\Lib\\site-packages\\sklearn\\linear_model\\_sag.py:349: ConvergenceWarning: The max_iter was reached which means the coef_ did not converge\n",
      "  warnings.warn(\n"
     ]
    },
    {
     "name": "stdout",
     "output_type": "stream",
     "text": [
      "[CV] END C=0.01, class_weight=balanced, max_iter=200, penalty=l2, solver=saga; total time=   2.2s\n"
     ]
    },
    {
     "name": "stderr",
     "output_type": "stream",
     "text": [
      "C:\\Users\\myousaf23\\anaconda3\\Lib\\site-packages\\sklearn\\linear_model\\_sag.py:349: ConvergenceWarning: The max_iter was reached which means the coef_ did not converge\n",
      "  warnings.warn(\n"
     ]
    },
    {
     "name": "stdout",
     "output_type": "stream",
     "text": [
      "[CV] END C=0.01, class_weight=balanced, max_iter=200, penalty=l2, solver=saga; total time=   2.2s\n",
      "[CV] END C=0.01, class_weight=balanced, max_iter=200, penalty=l1, solver=liblinear; total time=   0.1s\n",
      "[CV] END C=0.01, class_weight=balanced, max_iter=200, penalty=l1, solver=liblinear; total time=   0.0s\n",
      "[CV] END C=0.01, class_weight=balanced, max_iter=200, penalty=l1, solver=liblinear; total time=   0.0s\n",
      "[CV] END C=0.01, class_weight=balanced, max_iter=200, penalty=l1, solver=liblinear; total time=   0.0s\n",
      "[CV] END C=0.01, class_weight=balanced, max_iter=200, penalty=l1, solver=liblinear; total time=   0.1s\n",
      "[CV] END C=0.01, class_weight=balanced, max_iter=200, penalty=l1, solver=saga; total time=   0.3s\n",
      "[CV] END C=0.01, class_weight=balanced, max_iter=200, penalty=l1, solver=saga; total time=   0.2s\n",
      "[CV] END C=0.01, class_weight=balanced, max_iter=200, penalty=l1, solver=saga; total time=   0.2s\n",
      "[CV] END C=0.01, class_weight=balanced, max_iter=200, penalty=l1, solver=saga; total time=   0.3s\n",
      "[CV] END C=0.01, class_weight=balanced, max_iter=200, penalty=l1, solver=saga; total time=   0.3s\n",
      "[CV] END C=0.01, class_weight=balanced, max_iter=500, penalty=l2, solver=liblinear; total time=   0.0s\n",
      "[CV] END C=0.01, class_weight=balanced, max_iter=500, penalty=l2, solver=liblinear; total time=   0.0s\n",
      "[CV] END C=0.01, class_weight=balanced, max_iter=500, penalty=l2, solver=liblinear; total time=   0.0s\n",
      "[CV] END C=0.01, class_weight=balanced, max_iter=500, penalty=l2, solver=liblinear; total time=   0.0s\n",
      "[CV] END C=0.01, class_weight=balanced, max_iter=500, penalty=l2, solver=liblinear; total time=   0.0s\n",
      "[CV] END C=0.01, class_weight=balanced, max_iter=500, penalty=l2, solver=saga; total time=   2.5s\n",
      "[CV] END C=0.01, class_weight=balanced, max_iter=500, penalty=l2, solver=saga; total time=   2.3s\n",
      "[CV] END C=0.01, class_weight=balanced, max_iter=500, penalty=l2, solver=saga; total time=   2.5s\n",
      "[CV] END C=0.01, class_weight=balanced, max_iter=500, penalty=l2, solver=saga; total time=   2.3s\n",
      "[CV] END C=0.01, class_weight=balanced, max_iter=500, penalty=l2, solver=saga; total time=   2.4s\n",
      "[CV] END C=0.01, class_weight=balanced, max_iter=500, penalty=l1, solver=liblinear; total time=   0.0s\n",
      "[CV] END C=0.01, class_weight=balanced, max_iter=500, penalty=l1, solver=liblinear; total time=   0.0s\n",
      "[CV] END C=0.01, class_weight=balanced, max_iter=500, penalty=l1, solver=liblinear; total time=   0.0s\n",
      "[CV] END C=0.01, class_weight=balanced, max_iter=500, penalty=l1, solver=liblinear; total time=   0.1s\n",
      "[CV] END C=0.01, class_weight=balanced, max_iter=500, penalty=l1, solver=liblinear; total time=   0.1s\n",
      "[CV] END C=0.01, class_weight=balanced, max_iter=500, penalty=l1, solver=saga; total time=   0.3s\n",
      "[CV] END C=0.01, class_weight=balanced, max_iter=500, penalty=l1, solver=saga; total time=   0.2s\n",
      "[CV] END C=0.01, class_weight=balanced, max_iter=500, penalty=l1, solver=saga; total time=   0.2s\n",
      "[CV] END C=0.01, class_weight=balanced, max_iter=500, penalty=l1, solver=saga; total time=   0.2s\n",
      "[CV] END C=0.01, class_weight=balanced, max_iter=500, penalty=l1, solver=saga; total time=   0.2s\n",
      "[CV] END C=0.01, class_weight=balanced, max_iter=700, penalty=l2, solver=liblinear; total time=   0.0s\n",
      "[CV] END C=0.01, class_weight=balanced, max_iter=700, penalty=l2, solver=liblinear; total time=   0.0s\n",
      "[CV] END C=0.01, class_weight=balanced, max_iter=700, penalty=l2, solver=liblinear; total time=   0.0s\n",
      "[CV] END C=0.01, class_weight=balanced, max_iter=700, penalty=l2, solver=liblinear; total time=   0.0s\n",
      "[CV] END C=0.01, class_weight=balanced, max_iter=700, penalty=l2, solver=liblinear; total time=   0.0s\n",
      "[CV] END C=0.01, class_weight=balanced, max_iter=700, penalty=l2, solver=saga; total time=   2.6s\n",
      "[CV] END C=0.01, class_weight=balanced, max_iter=700, penalty=l2, solver=saga; total time=   2.3s\n",
      "[CV] END C=0.01, class_weight=balanced, max_iter=700, penalty=l2, solver=saga; total time=   2.6s\n",
      "[CV] END C=0.01, class_weight=balanced, max_iter=700, penalty=l2, solver=saga; total time=   2.4s\n",
      "[CV] END C=0.01, class_weight=balanced, max_iter=700, penalty=l2, solver=saga; total time=   2.5s\n",
      "[CV] END C=0.01, class_weight=balanced, max_iter=700, penalty=l1, solver=liblinear; total time=   0.1s\n",
      "[CV] END C=0.01, class_weight=balanced, max_iter=700, penalty=l1, solver=liblinear; total time=   0.0s\n",
      "[CV] END C=0.01, class_weight=balanced, max_iter=700, penalty=l1, solver=liblinear; total time=   0.0s\n",
      "[CV] END C=0.01, class_weight=balanced, max_iter=700, penalty=l1, solver=liblinear; total time=   0.0s\n",
      "[CV] END C=0.01, class_weight=balanced, max_iter=700, penalty=l1, solver=liblinear; total time=   0.1s\n",
      "[CV] END C=0.01, class_weight=balanced, max_iter=700, penalty=l1, solver=saga; total time=   0.2s\n",
      "[CV] END C=0.01, class_weight=balanced, max_iter=700, penalty=l1, solver=saga; total time=   0.2s\n",
      "[CV] END C=0.01, class_weight=balanced, max_iter=700, penalty=l1, solver=saga; total time=   0.2s\n",
      "[CV] END C=0.01, class_weight=balanced, max_iter=700, penalty=l1, solver=saga; total time=   0.3s\n",
      "[CV] END C=0.01, class_weight=balanced, max_iter=700, penalty=l1, solver=saga; total time=   0.3s\n",
      "[CV] END C=0.01, class_weight=balanced, max_iter=1000, penalty=l2, solver=liblinear; total time=   0.1s\n",
      "[CV] END C=0.01, class_weight=balanced, max_iter=1000, penalty=l2, solver=liblinear; total time=   0.0s\n",
      "[CV] END C=0.01, class_weight=balanced, max_iter=1000, penalty=l2, solver=liblinear; total time=   0.0s\n",
      "[CV] END C=0.01, class_weight=balanced, max_iter=1000, penalty=l2, solver=liblinear; total time=   0.1s\n",
      "[CV] END C=0.01, class_weight=balanced, max_iter=1000, penalty=l2, solver=liblinear; total time=   0.0s\n",
      "[CV] END C=0.01, class_weight=balanced, max_iter=1000, penalty=l2, solver=saga; total time=   2.6s\n",
      "[CV] END C=0.01, class_weight=balanced, max_iter=1000, penalty=l2, solver=saga; total time=   2.4s\n",
      "[CV] END C=0.01, class_weight=balanced, max_iter=1000, penalty=l2, solver=saga; total time=   2.5s\n",
      "[CV] END C=0.01, class_weight=balanced, max_iter=1000, penalty=l2, solver=saga; total time=   2.4s\n",
      "[CV] END C=0.01, class_weight=balanced, max_iter=1000, penalty=l2, solver=saga; total time=   2.6s\n",
      "[CV] END C=0.01, class_weight=balanced, max_iter=1000, penalty=l1, solver=liblinear; total time=   0.0s\n",
      "[CV] END C=0.01, class_weight=balanced, max_iter=1000, penalty=l1, solver=liblinear; total time=   0.0s\n",
      "[CV] END C=0.01, class_weight=balanced, max_iter=1000, penalty=l1, solver=liblinear; total time=   0.0s\n",
      "[CV] END C=0.01, class_weight=balanced, max_iter=1000, penalty=l1, solver=liblinear; total time=   0.1s\n",
      "[CV] END C=0.01, class_weight=balanced, max_iter=1000, penalty=l1, solver=liblinear; total time=   0.0s\n",
      "[CV] END C=0.01, class_weight=balanced, max_iter=1000, penalty=l1, solver=saga; total time=   0.2s\n",
      "[CV] END C=0.01, class_weight=balanced, max_iter=1000, penalty=l1, solver=saga; total time=   0.2s\n",
      "[CV] END C=0.01, class_weight=balanced, max_iter=1000, penalty=l1, solver=saga; total time=   0.3s\n",
      "[CV] END C=0.01, class_weight=balanced, max_iter=1000, penalty=l1, solver=saga; total time=   0.2s\n",
      "[CV] END C=0.01, class_weight=balanced, max_iter=1000, penalty=l1, solver=saga; total time=   0.3s\n",
      "[CV] END C=0.1, class_weight=None, max_iter=100, penalty=l2, solver=liblinear; total time=   0.1s\n",
      "[CV] END C=0.1, class_weight=None, max_iter=100, penalty=l2, solver=liblinear; total time=   0.1s\n",
      "[CV] END C=0.1, class_weight=None, max_iter=100, penalty=l2, solver=liblinear; total time=   0.1s\n",
      "[CV] END C=0.1, class_weight=None, max_iter=100, penalty=l2, solver=liblinear; total time=   0.1s\n",
      "[CV] END C=0.1, class_weight=None, max_iter=100, penalty=l2, solver=liblinear; total time=   0.1s\n"
     ]
    },
    {
     "name": "stderr",
     "output_type": "stream",
     "text": [
      "C:\\Users\\myousaf23\\anaconda3\\Lib\\site-packages\\sklearn\\linear_model\\_sag.py:349: ConvergenceWarning: The max_iter was reached which means the coef_ did not converge\n",
      "  warnings.warn(\n"
     ]
    },
    {
     "name": "stdout",
     "output_type": "stream",
     "text": [
      "[CV] END C=0.1, class_weight=None, max_iter=100, penalty=l2, solver=saga; total time=   1.1s\n"
     ]
    },
    {
     "name": "stderr",
     "output_type": "stream",
     "text": [
      "C:\\Users\\myousaf23\\anaconda3\\Lib\\site-packages\\sklearn\\linear_model\\_sag.py:349: ConvergenceWarning: The max_iter was reached which means the coef_ did not converge\n",
      "  warnings.warn(\n"
     ]
    },
    {
     "name": "stdout",
     "output_type": "stream",
     "text": [
      "[CV] END C=0.1, class_weight=None, max_iter=100, penalty=l2, solver=saga; total time=   1.1s\n"
     ]
    },
    {
     "name": "stderr",
     "output_type": "stream",
     "text": [
      "C:\\Users\\myousaf23\\anaconda3\\Lib\\site-packages\\sklearn\\linear_model\\_sag.py:349: ConvergenceWarning: The max_iter was reached which means the coef_ did not converge\n",
      "  warnings.warn(\n"
     ]
    },
    {
     "name": "stdout",
     "output_type": "stream",
     "text": [
      "[CV] END C=0.1, class_weight=None, max_iter=100, penalty=l2, solver=saga; total time=   1.1s\n"
     ]
    },
    {
     "name": "stderr",
     "output_type": "stream",
     "text": [
      "C:\\Users\\myousaf23\\anaconda3\\Lib\\site-packages\\sklearn\\linear_model\\_sag.py:349: ConvergenceWarning: The max_iter was reached which means the coef_ did not converge\n",
      "  warnings.warn(\n"
     ]
    },
    {
     "name": "stdout",
     "output_type": "stream",
     "text": [
      "[CV] END C=0.1, class_weight=None, max_iter=100, penalty=l2, solver=saga; total time=   1.1s\n"
     ]
    },
    {
     "name": "stderr",
     "output_type": "stream",
     "text": [
      "C:\\Users\\myousaf23\\anaconda3\\Lib\\site-packages\\sklearn\\linear_model\\_sag.py:349: ConvergenceWarning: The max_iter was reached which means the coef_ did not converge\n",
      "  warnings.warn(\n"
     ]
    },
    {
     "name": "stdout",
     "output_type": "stream",
     "text": [
      "[CV] END C=0.1, class_weight=None, max_iter=100, penalty=l2, solver=saga; total time=   1.1s\n",
      "[CV] END C=0.1, class_weight=None, max_iter=100, penalty=l1, solver=liblinear; total time=   0.1s\n",
      "[CV] END C=0.1, class_weight=None, max_iter=100, penalty=l1, solver=liblinear; total time=   0.0s\n",
      "[CV] END C=0.1, class_weight=None, max_iter=100, penalty=l1, solver=liblinear; total time=   0.1s\n",
      "[CV] END C=0.1, class_weight=None, max_iter=100, penalty=l1, solver=liblinear; total time=   0.0s\n",
      "[CV] END C=0.1, class_weight=None, max_iter=100, penalty=l1, solver=liblinear; total time=   0.0s\n",
      "[CV] END C=0.1, class_weight=None, max_iter=100, penalty=l1, solver=saga; total time=   1.4s\n",
      "[CV] END C=0.1, class_weight=None, max_iter=100, penalty=l1, solver=saga; total time=   1.2s\n",
      "[CV] END C=0.1, class_weight=None, max_iter=100, penalty=l1, solver=saga; total time=   1.3s\n"
     ]
    },
    {
     "name": "stderr",
     "output_type": "stream",
     "text": [
      "C:\\Users\\myousaf23\\anaconda3\\Lib\\site-packages\\sklearn\\linear_model\\_sag.py:349: ConvergenceWarning: The max_iter was reached which means the coef_ did not converge\n",
      "  warnings.warn(\n"
     ]
    },
    {
     "name": "stdout",
     "output_type": "stream",
     "text": [
      "[CV] END C=0.1, class_weight=None, max_iter=100, penalty=l1, solver=saga; total time=   1.4s\n"
     ]
    },
    {
     "name": "stderr",
     "output_type": "stream",
     "text": [
      "C:\\Users\\myousaf23\\anaconda3\\Lib\\site-packages\\sklearn\\linear_model\\_sag.py:349: ConvergenceWarning: The max_iter was reached which means the coef_ did not converge\n",
      "  warnings.warn(\n"
     ]
    },
    {
     "name": "stdout",
     "output_type": "stream",
     "text": [
      "[CV] END C=0.1, class_weight=None, max_iter=100, penalty=l1, solver=saga; total time=   1.4s\n",
      "[CV] END C=0.1, class_weight=None, max_iter=200, penalty=l2, solver=liblinear; total time=   0.1s\n",
      "[CV] END C=0.1, class_weight=None, max_iter=200, penalty=l2, solver=liblinear; total time=   0.1s\n",
      "[CV] END C=0.1, class_weight=None, max_iter=200, penalty=l2, solver=liblinear; total time=   0.1s\n",
      "[CV] END C=0.1, class_weight=None, max_iter=200, penalty=l2, solver=liblinear; total time=   0.1s\n",
      "[CV] END C=0.1, class_weight=None, max_iter=200, penalty=l2, solver=liblinear; total time=   0.0s\n"
     ]
    },
    {
     "name": "stderr",
     "output_type": "stream",
     "text": [
      "C:\\Users\\myousaf23\\anaconda3\\Lib\\site-packages\\sklearn\\linear_model\\_sag.py:349: ConvergenceWarning: The max_iter was reached which means the coef_ did not converge\n",
      "  warnings.warn(\n"
     ]
    },
    {
     "name": "stdout",
     "output_type": "stream",
     "text": [
      "[CV] END C=0.1, class_weight=None, max_iter=200, penalty=l2, solver=saga; total time=   2.3s\n"
     ]
    },
    {
     "name": "stderr",
     "output_type": "stream",
     "text": [
      "C:\\Users\\myousaf23\\anaconda3\\Lib\\site-packages\\sklearn\\linear_model\\_sag.py:349: ConvergenceWarning: The max_iter was reached which means the coef_ did not converge\n",
      "  warnings.warn(\n"
     ]
    },
    {
     "name": "stdout",
     "output_type": "stream",
     "text": [
      "[CV] END C=0.1, class_weight=None, max_iter=200, penalty=l2, solver=saga; total time=   2.2s\n"
     ]
    },
    {
     "name": "stderr",
     "output_type": "stream",
     "text": [
      "C:\\Users\\myousaf23\\anaconda3\\Lib\\site-packages\\sklearn\\linear_model\\_sag.py:349: ConvergenceWarning: The max_iter was reached which means the coef_ did not converge\n",
      "  warnings.warn(\n"
     ]
    },
    {
     "name": "stdout",
     "output_type": "stream",
     "text": [
      "[CV] END C=0.1, class_weight=None, max_iter=200, penalty=l2, solver=saga; total time=   2.3s\n"
     ]
    },
    {
     "name": "stderr",
     "output_type": "stream",
     "text": [
      "C:\\Users\\myousaf23\\anaconda3\\Lib\\site-packages\\sklearn\\linear_model\\_sag.py:349: ConvergenceWarning: The max_iter was reached which means the coef_ did not converge\n",
      "  warnings.warn(\n"
     ]
    },
    {
     "name": "stdout",
     "output_type": "stream",
     "text": [
      "[CV] END C=0.1, class_weight=None, max_iter=200, penalty=l2, solver=saga; total time=   2.1s\n"
     ]
    },
    {
     "name": "stderr",
     "output_type": "stream",
     "text": [
      "C:\\Users\\myousaf23\\anaconda3\\Lib\\site-packages\\sklearn\\linear_model\\_sag.py:349: ConvergenceWarning: The max_iter was reached which means the coef_ did not converge\n",
      "  warnings.warn(\n"
     ]
    },
    {
     "name": "stdout",
     "output_type": "stream",
     "text": [
      "[CV] END C=0.1, class_weight=None, max_iter=200, penalty=l2, solver=saga; total time=   2.2s\n",
      "[CV] END C=0.1, class_weight=None, max_iter=200, penalty=l1, solver=liblinear; total time=   0.0s\n",
      "[CV] END C=0.1, class_weight=None, max_iter=200, penalty=l1, solver=liblinear; total time=   0.0s\n",
      "[CV] END C=0.1, class_weight=None, max_iter=200, penalty=l1, solver=liblinear; total time=   0.0s\n",
      "[CV] END C=0.1, class_weight=None, max_iter=200, penalty=l1, solver=liblinear; total time=   0.0s\n",
      "[CV] END C=0.1, class_weight=None, max_iter=200, penalty=l1, solver=liblinear; total time=   0.0s\n",
      "[CV] END C=0.1, class_weight=None, max_iter=200, penalty=l1, solver=saga; total time=   1.3s\n",
      "[CV] END C=0.1, class_weight=None, max_iter=200, penalty=l1, solver=saga; total time=   1.2s\n",
      "[CV] END C=0.1, class_weight=None, max_iter=200, penalty=l1, solver=saga; total time=   1.3s\n",
      "[CV] END C=0.1, class_weight=None, max_iter=200, penalty=l1, solver=saga; total time=   1.7s\n"
     ]
    },
    {
     "name": "stderr",
     "output_type": "stream",
     "text": [
      "C:\\Users\\myousaf23\\anaconda3\\Lib\\site-packages\\sklearn\\linear_model\\_sag.py:349: ConvergenceWarning: The max_iter was reached which means the coef_ did not converge\n",
      "  warnings.warn(\n"
     ]
    },
    {
     "name": "stdout",
     "output_type": "stream",
     "text": [
      "[CV] END C=0.1, class_weight=None, max_iter=200, penalty=l1, solver=saga; total time=   2.9s\n",
      "[CV] END C=0.1, class_weight=None, max_iter=500, penalty=l2, solver=liblinear; total time=   0.0s\n",
      "[CV] END C=0.1, class_weight=None, max_iter=500, penalty=l2, solver=liblinear; total time=   0.0s\n",
      "[CV] END C=0.1, class_weight=None, max_iter=500, penalty=l2, solver=liblinear; total time=   0.1s\n",
      "[CV] END C=0.1, class_weight=None, max_iter=500, penalty=l2, solver=liblinear; total time=   0.1s\n",
      "[CV] END C=0.1, class_weight=None, max_iter=500, penalty=l2, solver=liblinear; total time=   0.1s\n",
      "[CV] END C=0.1, class_weight=None, max_iter=500, penalty=l2, solver=saga; total time=   5.5s\n"
     ]
    },
    {
     "name": "stderr",
     "output_type": "stream",
     "text": [
      "C:\\Users\\myousaf23\\anaconda3\\Lib\\site-packages\\sklearn\\linear_model\\_sag.py:349: ConvergenceWarning: The max_iter was reached which means the coef_ did not converge\n",
      "  warnings.warn(\n"
     ]
    },
    {
     "name": "stdout",
     "output_type": "stream",
     "text": [
      "[CV] END C=0.1, class_weight=None, max_iter=500, penalty=l2, solver=saga; total time=   5.6s\n"
     ]
    },
    {
     "name": "stderr",
     "output_type": "stream",
     "text": [
      "C:\\Users\\myousaf23\\anaconda3\\Lib\\site-packages\\sklearn\\linear_model\\_sag.py:349: ConvergenceWarning: The max_iter was reached which means the coef_ did not converge\n",
      "  warnings.warn(\n"
     ]
    },
    {
     "name": "stdout",
     "output_type": "stream",
     "text": [
      "[CV] END C=0.1, class_weight=None, max_iter=500, penalty=l2, solver=saga; total time=   5.5s\n"
     ]
    },
    {
     "name": "stderr",
     "output_type": "stream",
     "text": [
      "C:\\Users\\myousaf23\\anaconda3\\Lib\\site-packages\\sklearn\\linear_model\\_sag.py:349: ConvergenceWarning: The max_iter was reached which means the coef_ did not converge\n",
      "  warnings.warn(\n"
     ]
    },
    {
     "name": "stdout",
     "output_type": "stream",
     "text": [
      "[CV] END C=0.1, class_weight=None, max_iter=500, penalty=l2, solver=saga; total time=   5.6s\n"
     ]
    },
    {
     "name": "stderr",
     "output_type": "stream",
     "text": [
      "C:\\Users\\myousaf23\\anaconda3\\Lib\\site-packages\\sklearn\\linear_model\\_sag.py:349: ConvergenceWarning: The max_iter was reached which means the coef_ did not converge\n",
      "  warnings.warn(\n"
     ]
    },
    {
     "name": "stdout",
     "output_type": "stream",
     "text": [
      "[CV] END C=0.1, class_weight=None, max_iter=500, penalty=l2, solver=saga; total time=   5.8s\n",
      "[CV] END C=0.1, class_weight=None, max_iter=500, penalty=l1, solver=liblinear; total time=   0.1s\n",
      "[CV] END C=0.1, class_weight=None, max_iter=500, penalty=l1, solver=liblinear; total time=   0.0s\n",
      "[CV] END C=0.1, class_weight=None, max_iter=500, penalty=l1, solver=liblinear; total time=   0.0s\n",
      "[CV] END C=0.1, class_weight=None, max_iter=500, penalty=l1, solver=liblinear; total time=   0.1s\n",
      "[CV] END C=0.1, class_weight=None, max_iter=500, penalty=l1, solver=liblinear; total time=   0.0s\n",
      "[CV] END C=0.1, class_weight=None, max_iter=500, penalty=l1, solver=saga; total time=   1.3s\n",
      "[CV] END C=0.1, class_weight=None, max_iter=500, penalty=l1, solver=saga; total time=   1.1s\n",
      "[CV] END C=0.1, class_weight=None, max_iter=500, penalty=l1, solver=saga; total time=   1.3s\n",
      "[CV] END C=0.1, class_weight=None, max_iter=500, penalty=l1, solver=saga; total time=   1.5s\n",
      "[CV] END C=0.1, class_weight=None, max_iter=500, penalty=l1, solver=saga; total time=   4.8s\n",
      "[CV] END C=0.1, class_weight=None, max_iter=700, penalty=l2, solver=liblinear; total time=   0.0s\n",
      "[CV] END C=0.1, class_weight=None, max_iter=700, penalty=l2, solver=liblinear; total time=   0.1s\n",
      "[CV] END C=0.1, class_weight=None, max_iter=700, penalty=l2, solver=liblinear; total time=   0.1s\n",
      "[CV] END C=0.1, class_weight=None, max_iter=700, penalty=l2, solver=liblinear; total time=   0.1s\n",
      "[CV] END C=0.1, class_weight=None, max_iter=700, penalty=l2, solver=liblinear; total time=   0.0s\n",
      "[CV] END C=0.1, class_weight=None, max_iter=700, penalty=l2, solver=saga; total time=   5.4s\n"
     ]
    },
    {
     "name": "stderr",
     "output_type": "stream",
     "text": [
      "C:\\Users\\myousaf23\\anaconda3\\Lib\\site-packages\\sklearn\\linear_model\\_sag.py:349: ConvergenceWarning: The max_iter was reached which means the coef_ did not converge\n",
      "  warnings.warn(\n"
     ]
    },
    {
     "name": "stdout",
     "output_type": "stream",
     "text": [
      "[CV] END C=0.1, class_weight=None, max_iter=700, penalty=l2, solver=saga; total time=   7.7s\n",
      "[CV] END C=0.1, class_weight=None, max_iter=700, penalty=l2, solver=saga; total time=   7.5s\n"
     ]
    },
    {
     "name": "stderr",
     "output_type": "stream",
     "text": [
      "C:\\Users\\myousaf23\\anaconda3\\Lib\\site-packages\\sklearn\\linear_model\\_sag.py:349: ConvergenceWarning: The max_iter was reached which means the coef_ did not converge\n",
      "  warnings.warn(\n"
     ]
    },
    {
     "name": "stdout",
     "output_type": "stream",
     "text": [
      "[CV] END C=0.1, class_weight=None, max_iter=700, penalty=l2, solver=saga; total time=   8.0s\n",
      "[CV] END C=0.1, class_weight=None, max_iter=700, penalty=l2, solver=saga; total time=   7.9s\n",
      "[CV] END C=0.1, class_weight=None, max_iter=700, penalty=l1, solver=liblinear; total time=   0.1s\n",
      "[CV] END C=0.1, class_weight=None, max_iter=700, penalty=l1, solver=liblinear; total time=   0.1s\n",
      "[CV] END C=0.1, class_weight=None, max_iter=700, penalty=l1, solver=liblinear; total time=   0.0s\n",
      "[CV] END C=0.1, class_weight=None, max_iter=700, penalty=l1, solver=liblinear; total time=   0.1s\n",
      "[CV] END C=0.1, class_weight=None, max_iter=700, penalty=l1, solver=liblinear; total time=   0.1s\n",
      "[CV] END C=0.1, class_weight=None, max_iter=700, penalty=l1, solver=saga; total time=   1.3s\n",
      "[CV] END C=0.1, class_weight=None, max_iter=700, penalty=l1, solver=saga; total time=   1.2s\n",
      "[CV] END C=0.1, class_weight=None, max_iter=700, penalty=l1, solver=saga; total time=   1.2s\n",
      "[CV] END C=0.1, class_weight=None, max_iter=700, penalty=l1, solver=saga; total time=   1.6s\n",
      "[CV] END C=0.1, class_weight=None, max_iter=700, penalty=l1, solver=saga; total time=   4.9s\n",
      "[CV] END C=0.1, class_weight=None, max_iter=1000, penalty=l2, solver=liblinear; total time=   0.0s\n",
      "[CV] END C=0.1, class_weight=None, max_iter=1000, penalty=l2, solver=liblinear; total time=   0.0s\n",
      "[CV] END C=0.1, class_weight=None, max_iter=1000, penalty=l2, solver=liblinear; total time=   0.1s\n",
      "[CV] END C=0.1, class_weight=None, max_iter=1000, penalty=l2, solver=liblinear; total time=   0.0s\n",
      "[CV] END C=0.1, class_weight=None, max_iter=1000, penalty=l2, solver=liblinear; total time=   0.0s\n",
      "[CV] END C=0.1, class_weight=None, max_iter=1000, penalty=l2, solver=saga; total time=   5.4s\n",
      "[CV] END C=0.1, class_weight=None, max_iter=1000, penalty=l2, solver=saga; total time=   9.0s\n",
      "[CV] END C=0.1, class_weight=None, max_iter=1000, penalty=l2, solver=saga; total time=   7.9s\n",
      "[CV] END C=0.1, class_weight=None, max_iter=1000, penalty=l2, solver=saga; total time=   8.4s\n",
      "[CV] END C=0.1, class_weight=None, max_iter=1000, penalty=l2, solver=saga; total time=   8.1s\n",
      "[CV] END C=0.1, class_weight=None, max_iter=1000, penalty=l1, solver=liblinear; total time=   0.1s\n",
      "[CV] END C=0.1, class_weight=None, max_iter=1000, penalty=l1, solver=liblinear; total time=   0.0s\n",
      "[CV] END C=0.1, class_weight=None, max_iter=1000, penalty=l1, solver=liblinear; total time=   0.1s\n",
      "[CV] END C=0.1, class_weight=None, max_iter=1000, penalty=l1, solver=liblinear; total time=   0.1s\n",
      "[CV] END C=0.1, class_weight=None, max_iter=1000, penalty=l1, solver=liblinear; total time=   0.1s\n",
      "[CV] END C=0.1, class_weight=None, max_iter=1000, penalty=l1, solver=saga; total time=   1.4s\n",
      "[CV] END C=0.1, class_weight=None, max_iter=1000, penalty=l1, solver=saga; total time=   1.2s\n",
      "[CV] END C=0.1, class_weight=None, max_iter=1000, penalty=l1, solver=saga; total time=   1.3s\n",
      "[CV] END C=0.1, class_weight=None, max_iter=1000, penalty=l1, solver=saga; total time=   1.7s\n",
      "[CV] END C=0.1, class_weight=None, max_iter=1000, penalty=l1, solver=saga; total time=   4.8s\n",
      "[CV] END C=0.1, class_weight=balanced, max_iter=100, penalty=l2, solver=liblinear; total time=   0.1s\n",
      "[CV] END C=0.1, class_weight=balanced, max_iter=100, penalty=l2, solver=liblinear; total time=   0.1s\n",
      "[CV] END C=0.1, class_weight=balanced, max_iter=100, penalty=l2, solver=liblinear; total time=   0.1s\n",
      "[CV] END C=0.1, class_weight=balanced, max_iter=100, penalty=l2, solver=liblinear; total time=   0.1s\n",
      "[CV] END C=0.1, class_weight=balanced, max_iter=100, penalty=l2, solver=liblinear; total time=   0.1s\n"
     ]
    },
    {
     "name": "stderr",
     "output_type": "stream",
     "text": [
      "C:\\Users\\myousaf23\\anaconda3\\Lib\\site-packages\\sklearn\\linear_model\\_sag.py:349: ConvergenceWarning: The max_iter was reached which means the coef_ did not converge\n",
      "  warnings.warn(\n"
     ]
    },
    {
     "name": "stdout",
     "output_type": "stream",
     "text": [
      "[CV] END C=0.1, class_weight=balanced, max_iter=100, penalty=l2, solver=saga; total time=   1.1s\n"
     ]
    },
    {
     "name": "stderr",
     "output_type": "stream",
     "text": [
      "C:\\Users\\myousaf23\\anaconda3\\Lib\\site-packages\\sklearn\\linear_model\\_sag.py:349: ConvergenceWarning: The max_iter was reached which means the coef_ did not converge\n",
      "  warnings.warn(\n"
     ]
    },
    {
     "name": "stdout",
     "output_type": "stream",
     "text": [
      "[CV] END C=0.1, class_weight=balanced, max_iter=100, penalty=l2, solver=saga; total time=   1.2s\n"
     ]
    },
    {
     "name": "stderr",
     "output_type": "stream",
     "text": [
      "C:\\Users\\myousaf23\\anaconda3\\Lib\\site-packages\\sklearn\\linear_model\\_sag.py:349: ConvergenceWarning: The max_iter was reached which means the coef_ did not converge\n",
      "  warnings.warn(\n"
     ]
    },
    {
     "name": "stdout",
     "output_type": "stream",
     "text": [
      "[CV] END C=0.1, class_weight=balanced, max_iter=100, penalty=l2, solver=saga; total time=   1.1s\n"
     ]
    },
    {
     "name": "stderr",
     "output_type": "stream",
     "text": [
      "C:\\Users\\myousaf23\\anaconda3\\Lib\\site-packages\\sklearn\\linear_model\\_sag.py:349: ConvergenceWarning: The max_iter was reached which means the coef_ did not converge\n",
      "  warnings.warn(\n"
     ]
    },
    {
     "name": "stdout",
     "output_type": "stream",
     "text": [
      "[CV] END C=0.1, class_weight=balanced, max_iter=100, penalty=l2, solver=saga; total time=   1.1s\n"
     ]
    },
    {
     "name": "stderr",
     "output_type": "stream",
     "text": [
      "C:\\Users\\myousaf23\\anaconda3\\Lib\\site-packages\\sklearn\\linear_model\\_sag.py:349: ConvergenceWarning: The max_iter was reached which means the coef_ did not converge\n",
      "  warnings.warn(\n"
     ]
    },
    {
     "name": "stdout",
     "output_type": "stream",
     "text": [
      "[CV] END C=0.1, class_weight=balanced, max_iter=100, penalty=l2, solver=saga; total time=   1.1s\n",
      "[CV] END C=0.1, class_weight=balanced, max_iter=100, penalty=l1, solver=liblinear; total time=   0.1s\n",
      "[CV] END C=0.1, class_weight=balanced, max_iter=100, penalty=l1, solver=liblinear; total time=   0.1s\n",
      "[CV] END C=0.1, class_weight=balanced, max_iter=100, penalty=l1, solver=liblinear; total time=   0.1s\n",
      "[CV] END C=0.1, class_weight=balanced, max_iter=100, penalty=l1, solver=liblinear; total time=   0.1s\n",
      "[CV] END C=0.1, class_weight=balanced, max_iter=100, penalty=l1, solver=liblinear; total time=   0.1s\n",
      "[CV] END C=0.1, class_weight=balanced, max_iter=100, penalty=l1, solver=saga; total time=   1.4s\n",
      "[CV] END C=0.1, class_weight=balanced, max_iter=100, penalty=l1, solver=saga; total time=   1.2s\n",
      "[CV] END C=0.1, class_weight=balanced, max_iter=100, penalty=l1, solver=saga; total time=   1.3s\n"
     ]
    },
    {
     "name": "stderr",
     "output_type": "stream",
     "text": [
      "C:\\Users\\myousaf23\\anaconda3\\Lib\\site-packages\\sklearn\\linear_model\\_sag.py:349: ConvergenceWarning: The max_iter was reached which means the coef_ did not converge\n",
      "  warnings.warn(\n"
     ]
    },
    {
     "name": "stdout",
     "output_type": "stream",
     "text": [
      "[CV] END C=0.1, class_weight=balanced, max_iter=100, penalty=l1, solver=saga; total time=   1.4s\n"
     ]
    },
    {
     "name": "stderr",
     "output_type": "stream",
     "text": [
      "C:\\Users\\myousaf23\\anaconda3\\Lib\\site-packages\\sklearn\\linear_model\\_sag.py:349: ConvergenceWarning: The max_iter was reached which means the coef_ did not converge\n",
      "  warnings.warn(\n"
     ]
    },
    {
     "name": "stdout",
     "output_type": "stream",
     "text": [
      "[CV] END C=0.1, class_weight=balanced, max_iter=100, penalty=l1, solver=saga; total time=   1.4s\n",
      "[CV] END C=0.1, class_weight=balanced, max_iter=200, penalty=l2, solver=liblinear; total time=   0.1s\n",
      "[CV] END C=0.1, class_weight=balanced, max_iter=200, penalty=l2, solver=liblinear; total time=   0.1s\n",
      "[CV] END C=0.1, class_weight=balanced, max_iter=200, penalty=l2, solver=liblinear; total time=   0.1s\n",
      "[CV] END C=0.1, class_weight=balanced, max_iter=200, penalty=l2, solver=liblinear; total time=   0.1s\n",
      "[CV] END C=0.1, class_weight=balanced, max_iter=200, penalty=l2, solver=liblinear; total time=   0.1s\n"
     ]
    },
    {
     "name": "stderr",
     "output_type": "stream",
     "text": [
      "C:\\Users\\myousaf23\\anaconda3\\Lib\\site-packages\\sklearn\\linear_model\\_sag.py:349: ConvergenceWarning: The max_iter was reached which means the coef_ did not converge\n",
      "  warnings.warn(\n"
     ]
    },
    {
     "name": "stdout",
     "output_type": "stream",
     "text": [
      "[CV] END C=0.1, class_weight=balanced, max_iter=200, penalty=l2, solver=saga; total time=   2.3s\n"
     ]
    },
    {
     "name": "stderr",
     "output_type": "stream",
     "text": [
      "C:\\Users\\myousaf23\\anaconda3\\Lib\\site-packages\\sklearn\\linear_model\\_sag.py:349: ConvergenceWarning: The max_iter was reached which means the coef_ did not converge\n",
      "  warnings.warn(\n"
     ]
    },
    {
     "name": "stdout",
     "output_type": "stream",
     "text": [
      "[CV] END C=0.1, class_weight=balanced, max_iter=200, penalty=l2, solver=saga; total time=   2.3s\n"
     ]
    },
    {
     "name": "stderr",
     "output_type": "stream",
     "text": [
      "C:\\Users\\myousaf23\\anaconda3\\Lib\\site-packages\\sklearn\\linear_model\\_sag.py:349: ConvergenceWarning: The max_iter was reached which means the coef_ did not converge\n",
      "  warnings.warn(\n"
     ]
    },
    {
     "name": "stdout",
     "output_type": "stream",
     "text": [
      "[CV] END C=0.1, class_weight=balanced, max_iter=200, penalty=l2, solver=saga; total time=   2.3s\n"
     ]
    },
    {
     "name": "stderr",
     "output_type": "stream",
     "text": [
      "C:\\Users\\myousaf23\\anaconda3\\Lib\\site-packages\\sklearn\\linear_model\\_sag.py:349: ConvergenceWarning: The max_iter was reached which means the coef_ did not converge\n",
      "  warnings.warn(\n"
     ]
    },
    {
     "name": "stdout",
     "output_type": "stream",
     "text": [
      "[CV] END C=0.1, class_weight=balanced, max_iter=200, penalty=l2, solver=saga; total time=   2.4s\n"
     ]
    },
    {
     "name": "stderr",
     "output_type": "stream",
     "text": [
      "C:\\Users\\myousaf23\\anaconda3\\Lib\\site-packages\\sklearn\\linear_model\\_sag.py:349: ConvergenceWarning: The max_iter was reached which means the coef_ did not converge\n",
      "  warnings.warn(\n"
     ]
    },
    {
     "name": "stdout",
     "output_type": "stream",
     "text": [
      "[CV] END C=0.1, class_weight=balanced, max_iter=200, penalty=l2, solver=saga; total time=   2.3s\n",
      "[CV] END C=0.1, class_weight=balanced, max_iter=200, penalty=l1, solver=liblinear; total time=   0.0s\n",
      "[CV] END C=0.1, class_weight=balanced, max_iter=200, penalty=l1, solver=liblinear; total time=   0.0s\n",
      "[CV] END C=0.1, class_weight=balanced, max_iter=200, penalty=l1, solver=liblinear; total time=   0.1s\n",
      "[CV] END C=0.1, class_weight=balanced, max_iter=200, penalty=l1, solver=liblinear; total time=   0.1s\n",
      "[CV] END C=0.1, class_weight=balanced, max_iter=200, penalty=l1, solver=liblinear; total time=   0.0s\n",
      "[CV] END C=0.1, class_weight=balanced, max_iter=200, penalty=l1, solver=saga; total time=   1.4s\n",
      "[CV] END C=0.1, class_weight=balanced, max_iter=200, penalty=l1, solver=saga; total time=   1.2s\n",
      "[CV] END C=0.1, class_weight=balanced, max_iter=200, penalty=l1, solver=saga; total time=   1.3s\n",
      "[CV] END C=0.1, class_weight=balanced, max_iter=200, penalty=l1, solver=saga; total time=   1.6s\n"
     ]
    },
    {
     "name": "stderr",
     "output_type": "stream",
     "text": [
      "C:\\Users\\myousaf23\\anaconda3\\Lib\\site-packages\\sklearn\\linear_model\\_sag.py:349: ConvergenceWarning: The max_iter was reached which means the coef_ did not converge\n",
      "  warnings.warn(\n"
     ]
    },
    {
     "name": "stdout",
     "output_type": "stream",
     "text": [
      "[CV] END C=0.1, class_weight=balanced, max_iter=200, penalty=l1, solver=saga; total time=   2.8s\n",
      "[CV] END C=0.1, class_weight=balanced, max_iter=500, penalty=l2, solver=liblinear; total time=   0.1s\n",
      "[CV] END C=0.1, class_weight=balanced, max_iter=500, penalty=l2, solver=liblinear; total time=   0.0s\n",
      "[CV] END C=0.1, class_weight=balanced, max_iter=500, penalty=l2, solver=liblinear; total time=   0.1s\n",
      "[CV] END C=0.1, class_weight=balanced, max_iter=500, penalty=l2, solver=liblinear; total time=   0.0s\n",
      "[CV] END C=0.1, class_weight=balanced, max_iter=500, penalty=l2, solver=liblinear; total time=   0.0s\n"
     ]
    },
    {
     "name": "stderr",
     "output_type": "stream",
     "text": [
      "C:\\Users\\myousaf23\\anaconda3\\Lib\\site-packages\\sklearn\\linear_model\\_sag.py:349: ConvergenceWarning: The max_iter was reached which means the coef_ did not converge\n",
      "  warnings.warn(\n"
     ]
    },
    {
     "name": "stdout",
     "output_type": "stream",
     "text": [
      "[CV] END C=0.1, class_weight=balanced, max_iter=500, penalty=l2, solver=saga; total time=   5.7s\n"
     ]
    },
    {
     "name": "stderr",
     "output_type": "stream",
     "text": [
      "C:\\Users\\myousaf23\\anaconda3\\Lib\\site-packages\\sklearn\\linear_model\\_sag.py:349: ConvergenceWarning: The max_iter was reached which means the coef_ did not converge\n",
      "  warnings.warn(\n"
     ]
    },
    {
     "name": "stdout",
     "output_type": "stream",
     "text": [
      "[CV] END C=0.1, class_weight=balanced, max_iter=500, penalty=l2, solver=saga; total time=   5.7s\n"
     ]
    },
    {
     "name": "stderr",
     "output_type": "stream",
     "text": [
      "C:\\Users\\myousaf23\\anaconda3\\Lib\\site-packages\\sklearn\\linear_model\\_sag.py:349: ConvergenceWarning: The max_iter was reached which means the coef_ did not converge\n",
      "  warnings.warn(\n"
     ]
    },
    {
     "name": "stdout",
     "output_type": "stream",
     "text": [
      "[CV] END C=0.1, class_weight=balanced, max_iter=500, penalty=l2, solver=saga; total time=   5.5s\n"
     ]
    },
    {
     "name": "stderr",
     "output_type": "stream",
     "text": [
      "C:\\Users\\myousaf23\\anaconda3\\Lib\\site-packages\\sklearn\\linear_model\\_sag.py:349: ConvergenceWarning: The max_iter was reached which means the coef_ did not converge\n",
      "  warnings.warn(\n"
     ]
    },
    {
     "name": "stdout",
     "output_type": "stream",
     "text": [
      "[CV] END C=0.1, class_weight=balanced, max_iter=500, penalty=l2, solver=saga; total time=   5.6s\n"
     ]
    },
    {
     "name": "stderr",
     "output_type": "stream",
     "text": [
      "C:\\Users\\myousaf23\\anaconda3\\Lib\\site-packages\\sklearn\\linear_model\\_sag.py:349: ConvergenceWarning: The max_iter was reached which means the coef_ did not converge\n",
      "  warnings.warn(\n"
     ]
    },
    {
     "name": "stdout",
     "output_type": "stream",
     "text": [
      "[CV] END C=0.1, class_weight=balanced, max_iter=500, penalty=l2, solver=saga; total time=   5.9s\n",
      "[CV] END C=0.1, class_weight=balanced, max_iter=500, penalty=l1, solver=liblinear; total time=   0.1s\n",
      "[CV] END C=0.1, class_weight=balanced, max_iter=500, penalty=l1, solver=liblinear; total time=   0.0s\n",
      "[CV] END C=0.1, class_weight=balanced, max_iter=500, penalty=l1, solver=liblinear; total time=   0.1s\n",
      "[CV] END C=0.1, class_weight=balanced, max_iter=500, penalty=l1, solver=liblinear; total time=   0.1s\n",
      "[CV] END C=0.1, class_weight=balanced, max_iter=500, penalty=l1, solver=liblinear; total time=   0.1s\n",
      "[CV] END C=0.1, class_weight=balanced, max_iter=500, penalty=l1, solver=saga; total time=   1.4s\n",
      "[CV] END C=0.1, class_weight=balanced, max_iter=500, penalty=l1, solver=saga; total time=   1.1s\n",
      "[CV] END C=0.1, class_weight=balanced, max_iter=500, penalty=l1, solver=saga; total time=   1.3s\n",
      "[CV] END C=0.1, class_weight=balanced, max_iter=500, penalty=l1, solver=saga; total time=   1.7s\n",
      "[CV] END C=0.1, class_weight=balanced, max_iter=500, penalty=l1, solver=saga; total time=   4.9s\n",
      "[CV] END C=0.1, class_weight=balanced, max_iter=700, penalty=l2, solver=liblinear; total time=   0.1s\n",
      "[CV] END C=0.1, class_weight=balanced, max_iter=700, penalty=l2, solver=liblinear; total time=   0.1s\n",
      "[CV] END C=0.1, class_weight=balanced, max_iter=700, penalty=l2, solver=liblinear; total time=   0.1s\n",
      "[CV] END C=0.1, class_weight=balanced, max_iter=700, penalty=l2, solver=liblinear; total time=   0.1s\n",
      "[CV] END C=0.1, class_weight=balanced, max_iter=700, penalty=l2, solver=liblinear; total time=   0.1s\n",
      "[CV] END C=0.1, class_weight=balanced, max_iter=700, penalty=l2, solver=saga; total time=   6.0s\n"
     ]
    },
    {
     "name": "stderr",
     "output_type": "stream",
     "text": [
      "C:\\Users\\myousaf23\\anaconda3\\Lib\\site-packages\\sklearn\\linear_model\\_sag.py:349: ConvergenceWarning: The max_iter was reached which means the coef_ did not converge\n",
      "  warnings.warn(\n"
     ]
    },
    {
     "name": "stdout",
     "output_type": "stream",
     "text": [
      "[CV] END C=0.1, class_weight=balanced, max_iter=700, penalty=l2, solver=saga; total time=   8.1s\n",
      "[CV] END C=0.1, class_weight=balanced, max_iter=700, penalty=l2, solver=saga; total time=   8.0s\n"
     ]
    },
    {
     "name": "stderr",
     "output_type": "stream",
     "text": [
      "C:\\Users\\myousaf23\\anaconda3\\Lib\\site-packages\\sklearn\\linear_model\\_sag.py:349: ConvergenceWarning: The max_iter was reached which means the coef_ did not converge\n",
      "  warnings.warn(\n"
     ]
    },
    {
     "name": "stdout",
     "output_type": "stream",
     "text": [
      "[CV] END C=0.1, class_weight=balanced, max_iter=700, penalty=l2, solver=saga; total time=   7.9s\n"
     ]
    },
    {
     "name": "stderr",
     "output_type": "stream",
     "text": [
      "C:\\Users\\myousaf23\\anaconda3\\Lib\\site-packages\\sklearn\\linear_model\\_sag.py:349: ConvergenceWarning: The max_iter was reached which means the coef_ did not converge\n",
      "  warnings.warn(\n"
     ]
    },
    {
     "name": "stdout",
     "output_type": "stream",
     "text": [
      "[CV] END C=0.1, class_weight=balanced, max_iter=700, penalty=l2, solver=saga; total time=   7.8s\n",
      "[CV] END C=0.1, class_weight=balanced, max_iter=700, penalty=l1, solver=liblinear; total time=   0.1s\n",
      "[CV] END C=0.1, class_weight=balanced, max_iter=700, penalty=l1, solver=liblinear; total time=   0.1s\n",
      "[CV] END C=0.1, class_weight=balanced, max_iter=700, penalty=l1, solver=liblinear; total time=   0.1s\n",
      "[CV] END C=0.1, class_weight=balanced, max_iter=700, penalty=l1, solver=liblinear; total time=   0.1s\n",
      "[CV] END C=0.1, class_weight=balanced, max_iter=700, penalty=l1, solver=liblinear; total time=   0.0s\n",
      "[CV] END C=0.1, class_weight=balanced, max_iter=700, penalty=l1, solver=saga; total time=   1.3s\n",
      "[CV] END C=0.1, class_weight=balanced, max_iter=700, penalty=l1, solver=saga; total time=   1.1s\n",
      "[CV] END C=0.1, class_weight=balanced, max_iter=700, penalty=l1, solver=saga; total time=   1.2s\n",
      "[CV] END C=0.1, class_weight=balanced, max_iter=700, penalty=l1, solver=saga; total time=   1.5s\n",
      "[CV] END C=0.1, class_weight=balanced, max_iter=700, penalty=l1, solver=saga; total time=   4.7s\n",
      "[CV] END C=0.1, class_weight=balanced, max_iter=1000, penalty=l2, solver=liblinear; total time=   0.0s\n",
      "[CV] END C=0.1, class_weight=balanced, max_iter=1000, penalty=l2, solver=liblinear; total time=   0.1s\n",
      "[CV] END C=0.1, class_weight=balanced, max_iter=1000, penalty=l2, solver=liblinear; total time=   0.1s\n",
      "[CV] END C=0.1, class_weight=balanced, max_iter=1000, penalty=l2, solver=liblinear; total time=   0.1s\n",
      "[CV] END C=0.1, class_weight=balanced, max_iter=1000, penalty=l2, solver=liblinear; total time=   0.0s\n",
      "[CV] END C=0.1, class_weight=balanced, max_iter=1000, penalty=l2, solver=saga; total time=   5.7s\n",
      "[CV] END C=0.1, class_weight=balanced, max_iter=1000, penalty=l2, solver=saga; total time=   9.1s\n",
      "[CV] END C=0.1, class_weight=balanced, max_iter=1000, penalty=l2, solver=saga; total time=   8.1s\n",
      "[CV] END C=0.1, class_weight=balanced, max_iter=1000, penalty=l2, solver=saga; total time=   8.6s\n",
      "[CV] END C=0.1, class_weight=balanced, max_iter=1000, penalty=l2, solver=saga; total time=   8.3s\n",
      "[CV] END C=0.1, class_weight=balanced, max_iter=1000, penalty=l1, solver=liblinear; total time=   0.1s\n",
      "[CV] END C=0.1, class_weight=balanced, max_iter=1000, penalty=l1, solver=liblinear; total time=   0.1s\n",
      "[CV] END C=0.1, class_weight=balanced, max_iter=1000, penalty=l1, solver=liblinear; total time=   0.1s\n",
      "[CV] END C=0.1, class_weight=balanced, max_iter=1000, penalty=l1, solver=liblinear; total time=   0.1s\n",
      "[CV] END C=0.1, class_weight=balanced, max_iter=1000, penalty=l1, solver=liblinear; total time=   0.1s\n",
      "[CV] END C=0.1, class_weight=balanced, max_iter=1000, penalty=l1, solver=saga; total time=   1.4s\n",
      "[CV] END C=0.1, class_weight=balanced, max_iter=1000, penalty=l1, solver=saga; total time=   1.1s\n",
      "[CV] END C=0.1, class_weight=balanced, max_iter=1000, penalty=l1, solver=saga; total time=   1.3s\n",
      "[CV] END C=0.1, class_weight=balanced, max_iter=1000, penalty=l1, solver=saga; total time=   1.5s\n",
      "[CV] END C=0.1, class_weight=balanced, max_iter=1000, penalty=l1, solver=saga; total time=   5.0s\n",
      "[CV] END C=1, class_weight=None, max_iter=100, penalty=l2, solver=liblinear; total time=   0.2s\n",
      "[CV] END C=1, class_weight=None, max_iter=100, penalty=l2, solver=liblinear; total time=   0.2s\n",
      "[CV] END C=1, class_weight=None, max_iter=100, penalty=l2, solver=liblinear; total time=   0.2s\n",
      "[CV] END C=1, class_weight=None, max_iter=100, penalty=l2, solver=liblinear; total time=   0.2s\n",
      "[CV] END C=1, class_weight=None, max_iter=100, penalty=l2, solver=liblinear; total time=   0.2s\n"
     ]
    },
    {
     "name": "stderr",
     "output_type": "stream",
     "text": [
      "C:\\Users\\myousaf23\\anaconda3\\Lib\\site-packages\\sklearn\\linear_model\\_sag.py:349: ConvergenceWarning: The max_iter was reached which means the coef_ did not converge\n",
      "  warnings.warn(\n"
     ]
    },
    {
     "name": "stdout",
     "output_type": "stream",
     "text": [
      "[CV] END C=1, class_weight=None, max_iter=100, penalty=l2, solver=saga; total time=   1.2s\n"
     ]
    },
    {
     "name": "stderr",
     "output_type": "stream",
     "text": [
      "C:\\Users\\myousaf23\\anaconda3\\Lib\\site-packages\\sklearn\\linear_model\\_sag.py:349: ConvergenceWarning: The max_iter was reached which means the coef_ did not converge\n",
      "  warnings.warn(\n"
     ]
    },
    {
     "name": "stdout",
     "output_type": "stream",
     "text": [
      "[CV] END C=1, class_weight=None, max_iter=100, penalty=l2, solver=saga; total time=   1.2s\n"
     ]
    },
    {
     "name": "stderr",
     "output_type": "stream",
     "text": [
      "C:\\Users\\myousaf23\\anaconda3\\Lib\\site-packages\\sklearn\\linear_model\\_sag.py:349: ConvergenceWarning: The max_iter was reached which means the coef_ did not converge\n",
      "  warnings.warn(\n"
     ]
    },
    {
     "name": "stdout",
     "output_type": "stream",
     "text": [
      "[CV] END C=1, class_weight=None, max_iter=100, penalty=l2, solver=saga; total time=   1.1s\n"
     ]
    },
    {
     "name": "stderr",
     "output_type": "stream",
     "text": [
      "C:\\Users\\myousaf23\\anaconda3\\Lib\\site-packages\\sklearn\\linear_model\\_sag.py:349: ConvergenceWarning: The max_iter was reached which means the coef_ did not converge\n",
      "  warnings.warn(\n"
     ]
    },
    {
     "name": "stdout",
     "output_type": "stream",
     "text": [
      "[CV] END C=1, class_weight=None, max_iter=100, penalty=l2, solver=saga; total time=   1.1s\n"
     ]
    },
    {
     "name": "stderr",
     "output_type": "stream",
     "text": [
      "C:\\Users\\myousaf23\\anaconda3\\Lib\\site-packages\\sklearn\\linear_model\\_sag.py:349: ConvergenceWarning: The max_iter was reached which means the coef_ did not converge\n",
      "  warnings.warn(\n"
     ]
    },
    {
     "name": "stdout",
     "output_type": "stream",
     "text": [
      "[CV] END C=1, class_weight=None, max_iter=100, penalty=l2, solver=saga; total time=   1.1s\n",
      "[CV] END C=1, class_weight=None, max_iter=100, penalty=l1, solver=liblinear; total time=   0.0s\n",
      "[CV] END C=1, class_weight=None, max_iter=100, penalty=l1, solver=liblinear; total time=   0.0s\n",
      "[CV] END C=1, class_weight=None, max_iter=100, penalty=l1, solver=liblinear; total time=   0.1s\n",
      "[CV] END C=1, class_weight=None, max_iter=100, penalty=l1, solver=liblinear; total time=   0.1s\n",
      "[CV] END C=1, class_weight=None, max_iter=100, penalty=l1, solver=liblinear; total time=   0.1s\n"
     ]
    },
    {
     "name": "stderr",
     "output_type": "stream",
     "text": [
      "C:\\Users\\myousaf23\\anaconda3\\Lib\\site-packages\\sklearn\\linear_model\\_sag.py:349: ConvergenceWarning: The max_iter was reached which means the coef_ did not converge\n",
      "  warnings.warn(\n"
     ]
    },
    {
     "name": "stdout",
     "output_type": "stream",
     "text": [
      "[CV] END C=1, class_weight=None, max_iter=100, penalty=l1, solver=saga; total time=   1.5s\n"
     ]
    },
    {
     "name": "stderr",
     "output_type": "stream",
     "text": [
      "C:\\Users\\myousaf23\\anaconda3\\Lib\\site-packages\\sklearn\\linear_model\\_sag.py:349: ConvergenceWarning: The max_iter was reached which means the coef_ did not converge\n",
      "  warnings.warn(\n"
     ]
    },
    {
     "name": "stdout",
     "output_type": "stream",
     "text": [
      "[CV] END C=1, class_weight=None, max_iter=100, penalty=l1, solver=saga; total time=   1.4s\n"
     ]
    },
    {
     "name": "stderr",
     "output_type": "stream",
     "text": [
      "C:\\Users\\myousaf23\\anaconda3\\Lib\\site-packages\\sklearn\\linear_model\\_sag.py:349: ConvergenceWarning: The max_iter was reached which means the coef_ did not converge\n",
      "  warnings.warn(\n"
     ]
    },
    {
     "name": "stdout",
     "output_type": "stream",
     "text": [
      "[CV] END C=1, class_weight=None, max_iter=100, penalty=l1, solver=saga; total time=   1.5s\n"
     ]
    },
    {
     "name": "stderr",
     "output_type": "stream",
     "text": [
      "C:\\Users\\myousaf23\\anaconda3\\Lib\\site-packages\\sklearn\\linear_model\\_sag.py:349: ConvergenceWarning: The max_iter was reached which means the coef_ did not converge\n",
      "  warnings.warn(\n"
     ]
    },
    {
     "name": "stdout",
     "output_type": "stream",
     "text": [
      "[CV] END C=1, class_weight=None, max_iter=100, penalty=l1, solver=saga; total time=   1.5s\n"
     ]
    },
    {
     "name": "stderr",
     "output_type": "stream",
     "text": [
      "C:\\Users\\myousaf23\\anaconda3\\Lib\\site-packages\\sklearn\\linear_model\\_sag.py:349: ConvergenceWarning: The max_iter was reached which means the coef_ did not converge\n",
      "  warnings.warn(\n"
     ]
    },
    {
     "name": "stdout",
     "output_type": "stream",
     "text": [
      "[CV] END C=1, class_weight=None, max_iter=100, penalty=l1, solver=saga; total time=   1.5s\n",
      "[CV] END C=1, class_weight=None, max_iter=200, penalty=l2, solver=liblinear; total time=   0.2s\n",
      "[CV] END C=1, class_weight=None, max_iter=200, penalty=l2, solver=liblinear; total time=   0.2s\n",
      "[CV] END C=1, class_weight=None, max_iter=200, penalty=l2, solver=liblinear; total time=   0.2s\n",
      "[CV] END C=1, class_weight=None, max_iter=200, penalty=l2, solver=liblinear; total time=   0.2s\n",
      "[CV] END C=1, class_weight=None, max_iter=200, penalty=l2, solver=liblinear; total time=   0.2s\n"
     ]
    },
    {
     "name": "stderr",
     "output_type": "stream",
     "text": [
      "C:\\Users\\myousaf23\\anaconda3\\Lib\\site-packages\\sklearn\\linear_model\\_sag.py:349: ConvergenceWarning: The max_iter was reached which means the coef_ did not converge\n",
      "  warnings.warn(\n"
     ]
    },
    {
     "name": "stdout",
     "output_type": "stream",
     "text": [
      "[CV] END C=1, class_weight=None, max_iter=200, penalty=l2, solver=saga; total time=   2.3s\n"
     ]
    },
    {
     "name": "stderr",
     "output_type": "stream",
     "text": [
      "C:\\Users\\myousaf23\\anaconda3\\Lib\\site-packages\\sklearn\\linear_model\\_sag.py:349: ConvergenceWarning: The max_iter was reached which means the coef_ did not converge\n",
      "  warnings.warn(\n"
     ]
    },
    {
     "name": "stdout",
     "output_type": "stream",
     "text": [
      "[CV] END C=1, class_weight=None, max_iter=200, penalty=l2, solver=saga; total time=   2.3s\n"
     ]
    },
    {
     "name": "stderr",
     "output_type": "stream",
     "text": [
      "C:\\Users\\myousaf23\\anaconda3\\Lib\\site-packages\\sklearn\\linear_model\\_sag.py:349: ConvergenceWarning: The max_iter was reached which means the coef_ did not converge\n",
      "  warnings.warn(\n"
     ]
    },
    {
     "name": "stdout",
     "output_type": "stream",
     "text": [
      "[CV] END C=1, class_weight=None, max_iter=200, penalty=l2, solver=saga; total time=   2.4s\n"
     ]
    },
    {
     "name": "stderr",
     "output_type": "stream",
     "text": [
      "C:\\Users\\myousaf23\\anaconda3\\Lib\\site-packages\\sklearn\\linear_model\\_sag.py:349: ConvergenceWarning: The max_iter was reached which means the coef_ did not converge\n",
      "  warnings.warn(\n"
     ]
    },
    {
     "name": "stdout",
     "output_type": "stream",
     "text": [
      "[CV] END C=1, class_weight=None, max_iter=200, penalty=l2, solver=saga; total time=   2.3s\n"
     ]
    },
    {
     "name": "stderr",
     "output_type": "stream",
     "text": [
      "C:\\Users\\myousaf23\\anaconda3\\Lib\\site-packages\\sklearn\\linear_model\\_sag.py:349: ConvergenceWarning: The max_iter was reached which means the coef_ did not converge\n",
      "  warnings.warn(\n"
     ]
    },
    {
     "name": "stdout",
     "output_type": "stream",
     "text": [
      "[CV] END C=1, class_weight=None, max_iter=200, penalty=l2, solver=saga; total time=   2.3s\n",
      "[CV] END C=1, class_weight=None, max_iter=200, penalty=l1, solver=liblinear; total time=   0.1s\n",
      "[CV] END C=1, class_weight=None, max_iter=200, penalty=l1, solver=liblinear; total time=   0.0s\n",
      "[CV] END C=1, class_weight=None, max_iter=200, penalty=l1, solver=liblinear; total time=   0.1s\n",
      "[CV] END C=1, class_weight=None, max_iter=200, penalty=l1, solver=liblinear; total time=   0.0s\n",
      "[CV] END C=1, class_weight=None, max_iter=200, penalty=l1, solver=liblinear; total time=   0.1s\n"
     ]
    },
    {
     "name": "stderr",
     "output_type": "stream",
     "text": [
      "C:\\Users\\myousaf23\\anaconda3\\Lib\\site-packages\\sklearn\\linear_model\\_sag.py:349: ConvergenceWarning: The max_iter was reached which means the coef_ did not converge\n",
      "  warnings.warn(\n"
     ]
    },
    {
     "name": "stdout",
     "output_type": "stream",
     "text": [
      "[CV] END C=1, class_weight=None, max_iter=200, penalty=l1, solver=saga; total time=   3.0s\n"
     ]
    },
    {
     "name": "stderr",
     "output_type": "stream",
     "text": [
      "C:\\Users\\myousaf23\\anaconda3\\Lib\\site-packages\\sklearn\\linear_model\\_sag.py:349: ConvergenceWarning: The max_iter was reached which means the coef_ did not converge\n",
      "  warnings.warn(\n"
     ]
    },
    {
     "name": "stdout",
     "output_type": "stream",
     "text": [
      "[CV] END C=1, class_weight=None, max_iter=200, penalty=l1, solver=saga; total time=   2.9s\n"
     ]
    },
    {
     "name": "stderr",
     "output_type": "stream",
     "text": [
      "C:\\Users\\myousaf23\\anaconda3\\Lib\\site-packages\\sklearn\\linear_model\\_sag.py:349: ConvergenceWarning: The max_iter was reached which means the coef_ did not converge\n",
      "  warnings.warn(\n"
     ]
    },
    {
     "name": "stdout",
     "output_type": "stream",
     "text": [
      "[CV] END C=1, class_weight=None, max_iter=200, penalty=l1, solver=saga; total time=   3.0s\n"
     ]
    },
    {
     "name": "stderr",
     "output_type": "stream",
     "text": [
      "C:\\Users\\myousaf23\\anaconda3\\Lib\\site-packages\\sklearn\\linear_model\\_sag.py:349: ConvergenceWarning: The max_iter was reached which means the coef_ did not converge\n",
      "  warnings.warn(\n"
     ]
    },
    {
     "name": "stdout",
     "output_type": "stream",
     "text": [
      "[CV] END C=1, class_weight=None, max_iter=200, penalty=l1, solver=saga; total time=   3.2s\n"
     ]
    },
    {
     "name": "stderr",
     "output_type": "stream",
     "text": [
      "C:\\Users\\myousaf23\\anaconda3\\Lib\\site-packages\\sklearn\\linear_model\\_sag.py:349: ConvergenceWarning: The max_iter was reached which means the coef_ did not converge\n",
      "  warnings.warn(\n"
     ]
    },
    {
     "name": "stdout",
     "output_type": "stream",
     "text": [
      "[CV] END C=1, class_weight=None, max_iter=200, penalty=l1, solver=saga; total time=   2.9s\n",
      "[CV] END C=1, class_weight=None, max_iter=500, penalty=l2, solver=liblinear; total time=   0.1s\n",
      "[CV] END C=1, class_weight=None, max_iter=500, penalty=l2, solver=liblinear; total time=   0.1s\n",
      "[CV] END C=1, class_weight=None, max_iter=500, penalty=l2, solver=liblinear; total time=   0.1s\n",
      "[CV] END C=1, class_weight=None, max_iter=500, penalty=l2, solver=liblinear; total time=   0.2s\n",
      "[CV] END C=1, class_weight=None, max_iter=500, penalty=l2, solver=liblinear; total time=   0.2s\n"
     ]
    },
    {
     "name": "stderr",
     "output_type": "stream",
     "text": [
      "C:\\Users\\myousaf23\\anaconda3\\Lib\\site-packages\\sklearn\\linear_model\\_sag.py:349: ConvergenceWarning: The max_iter was reached which means the coef_ did not converge\n",
      "  warnings.warn(\n"
     ]
    },
    {
     "name": "stdout",
     "output_type": "stream",
     "text": [
      "[CV] END C=1, class_weight=None, max_iter=500, penalty=l2, solver=saga; total time=   5.7s\n"
     ]
    },
    {
     "name": "stderr",
     "output_type": "stream",
     "text": [
      "C:\\Users\\myousaf23\\anaconda3\\Lib\\site-packages\\sklearn\\linear_model\\_sag.py:349: ConvergenceWarning: The max_iter was reached which means the coef_ did not converge\n",
      "  warnings.warn(\n"
     ]
    },
    {
     "name": "stdout",
     "output_type": "stream",
     "text": [
      "[CV] END C=1, class_weight=None, max_iter=500, penalty=l2, solver=saga; total time=   5.7s\n"
     ]
    },
    {
     "name": "stderr",
     "output_type": "stream",
     "text": [
      "C:\\Users\\myousaf23\\anaconda3\\Lib\\site-packages\\sklearn\\linear_model\\_sag.py:349: ConvergenceWarning: The max_iter was reached which means the coef_ did not converge\n",
      "  warnings.warn(\n"
     ]
    },
    {
     "name": "stdout",
     "output_type": "stream",
     "text": [
      "[CV] END C=1, class_weight=None, max_iter=500, penalty=l2, solver=saga; total time=   5.8s\n"
     ]
    },
    {
     "name": "stderr",
     "output_type": "stream",
     "text": [
      "C:\\Users\\myousaf23\\anaconda3\\Lib\\site-packages\\sklearn\\linear_model\\_sag.py:349: ConvergenceWarning: The max_iter was reached which means the coef_ did not converge\n",
      "  warnings.warn(\n"
     ]
    },
    {
     "name": "stdout",
     "output_type": "stream",
     "text": [
      "[CV] END C=1, class_weight=None, max_iter=500, penalty=l2, solver=saga; total time=   5.8s\n"
     ]
    },
    {
     "name": "stderr",
     "output_type": "stream",
     "text": [
      "C:\\Users\\myousaf23\\anaconda3\\Lib\\site-packages\\sklearn\\linear_model\\_sag.py:349: ConvergenceWarning: The max_iter was reached which means the coef_ did not converge\n",
      "  warnings.warn(\n"
     ]
    },
    {
     "name": "stdout",
     "output_type": "stream",
     "text": [
      "[CV] END C=1, class_weight=None, max_iter=500, penalty=l2, solver=saga; total time=   5.9s\n",
      "[CV] END C=1, class_weight=None, max_iter=500, penalty=l1, solver=liblinear; total time=   0.0s\n",
      "[CV] END C=1, class_weight=None, max_iter=500, penalty=l1, solver=liblinear; total time=   0.0s\n",
      "[CV] END C=1, class_weight=None, max_iter=500, penalty=l1, solver=liblinear; total time=   0.0s\n",
      "[CV] END C=1, class_weight=None, max_iter=500, penalty=l1, solver=liblinear; total time=   0.0s\n",
      "[CV] END C=1, class_weight=None, max_iter=500, penalty=l1, solver=liblinear; total time=   0.1s\n"
     ]
    },
    {
     "name": "stderr",
     "output_type": "stream",
     "text": [
      "C:\\Users\\myousaf23\\anaconda3\\Lib\\site-packages\\sklearn\\linear_model\\_sag.py:349: ConvergenceWarning: The max_iter was reached which means the coef_ did not converge\n",
      "  warnings.warn(\n"
     ]
    },
    {
     "name": "stdout",
     "output_type": "stream",
     "text": [
      "[CV] END C=1, class_weight=None, max_iter=500, penalty=l1, solver=saga; total time=   7.4s\n"
     ]
    },
    {
     "name": "stderr",
     "output_type": "stream",
     "text": [
      "C:\\Users\\myousaf23\\anaconda3\\Lib\\site-packages\\sklearn\\linear_model\\_sag.py:349: ConvergenceWarning: The max_iter was reached which means the coef_ did not converge\n",
      "  warnings.warn(\n"
     ]
    },
    {
     "name": "stdout",
     "output_type": "stream",
     "text": [
      "[CV] END C=1, class_weight=None, max_iter=500, penalty=l1, solver=saga; total time=   7.4s\n"
     ]
    },
    {
     "name": "stderr",
     "output_type": "stream",
     "text": [
      "C:\\Users\\myousaf23\\anaconda3\\Lib\\site-packages\\sklearn\\linear_model\\_sag.py:349: ConvergenceWarning: The max_iter was reached which means the coef_ did not converge\n",
      "  warnings.warn(\n"
     ]
    },
    {
     "name": "stdout",
     "output_type": "stream",
     "text": [
      "[CV] END C=1, class_weight=None, max_iter=500, penalty=l1, solver=saga; total time=   7.3s\n"
     ]
    },
    {
     "name": "stderr",
     "output_type": "stream",
     "text": [
      "C:\\Users\\myousaf23\\anaconda3\\Lib\\site-packages\\sklearn\\linear_model\\_sag.py:349: ConvergenceWarning: The max_iter was reached which means the coef_ did not converge\n",
      "  warnings.warn(\n"
     ]
    },
    {
     "name": "stdout",
     "output_type": "stream",
     "text": [
      "[CV] END C=1, class_weight=None, max_iter=500, penalty=l1, solver=saga; total time=   7.5s\n"
     ]
    },
    {
     "name": "stderr",
     "output_type": "stream",
     "text": [
      "C:\\Users\\myousaf23\\anaconda3\\Lib\\site-packages\\sklearn\\linear_model\\_sag.py:349: ConvergenceWarning: The max_iter was reached which means the coef_ did not converge\n",
      "  warnings.warn(\n"
     ]
    },
    {
     "name": "stdout",
     "output_type": "stream",
     "text": [
      "[CV] END C=1, class_weight=None, max_iter=500, penalty=l1, solver=saga; total time=   7.4s\n",
      "[CV] END C=1, class_weight=None, max_iter=700, penalty=l2, solver=liblinear; total time=   0.2s\n",
      "[CV] END C=1, class_weight=None, max_iter=700, penalty=l2, solver=liblinear; total time=   0.2s\n",
      "[CV] END C=1, class_weight=None, max_iter=700, penalty=l2, solver=liblinear; total time=   0.2s\n",
      "[CV] END C=1, class_weight=None, max_iter=700, penalty=l2, solver=liblinear; total time=   0.3s\n",
      "[CV] END C=1, class_weight=None, max_iter=700, penalty=l2, solver=liblinear; total time=   0.2s\n"
     ]
    },
    {
     "name": "stderr",
     "output_type": "stream",
     "text": [
      "C:\\Users\\myousaf23\\anaconda3\\Lib\\site-packages\\sklearn\\linear_model\\_sag.py:349: ConvergenceWarning: The max_iter was reached which means the coef_ did not converge\n",
      "  warnings.warn(\n"
     ]
    },
    {
     "name": "stdout",
     "output_type": "stream",
     "text": [
      "[CV] END C=1, class_weight=None, max_iter=700, penalty=l2, solver=saga; total time=   8.0s\n"
     ]
    },
    {
     "name": "stderr",
     "output_type": "stream",
     "text": [
      "C:\\Users\\myousaf23\\anaconda3\\Lib\\site-packages\\sklearn\\linear_model\\_sag.py:349: ConvergenceWarning: The max_iter was reached which means the coef_ did not converge\n",
      "  warnings.warn(\n"
     ]
    },
    {
     "name": "stdout",
     "output_type": "stream",
     "text": [
      "[CV] END C=1, class_weight=None, max_iter=700, penalty=l2, solver=saga; total time=   8.0s\n"
     ]
    },
    {
     "name": "stderr",
     "output_type": "stream",
     "text": [
      "C:\\Users\\myousaf23\\anaconda3\\Lib\\site-packages\\sklearn\\linear_model\\_sag.py:349: ConvergenceWarning: The max_iter was reached which means the coef_ did not converge\n",
      "  warnings.warn(\n"
     ]
    },
    {
     "name": "stdout",
     "output_type": "stream",
     "text": [
      "[CV] END C=1, class_weight=None, max_iter=700, penalty=l2, solver=saga; total time=   8.0s\n"
     ]
    },
    {
     "name": "stderr",
     "output_type": "stream",
     "text": [
      "C:\\Users\\myousaf23\\anaconda3\\Lib\\site-packages\\sklearn\\linear_model\\_sag.py:349: ConvergenceWarning: The max_iter was reached which means the coef_ did not converge\n",
      "  warnings.warn(\n"
     ]
    },
    {
     "name": "stdout",
     "output_type": "stream",
     "text": [
      "[CV] END C=1, class_weight=None, max_iter=700, penalty=l2, solver=saga; total time=   8.1s\n"
     ]
    },
    {
     "name": "stderr",
     "output_type": "stream",
     "text": [
      "C:\\Users\\myousaf23\\anaconda3\\Lib\\site-packages\\sklearn\\linear_model\\_sag.py:349: ConvergenceWarning: The max_iter was reached which means the coef_ did not converge\n",
      "  warnings.warn(\n"
     ]
    },
    {
     "name": "stdout",
     "output_type": "stream",
     "text": [
      "[CV] END C=1, class_weight=None, max_iter=700, penalty=l2, solver=saga; total time=   8.2s\n",
      "[CV] END C=1, class_weight=None, max_iter=700, penalty=l1, solver=liblinear; total time=   0.0s\n",
      "[CV] END C=1, class_weight=None, max_iter=700, penalty=l1, solver=liblinear; total time=   0.1s\n",
      "[CV] END C=1, class_weight=None, max_iter=700, penalty=l1, solver=liblinear; total time=   0.1s\n",
      "[CV] END C=1, class_weight=None, max_iter=700, penalty=l1, solver=liblinear; total time=   0.1s\n",
      "[CV] END C=1, class_weight=None, max_iter=700, penalty=l1, solver=liblinear; total time=   0.1s\n"
     ]
    },
    {
     "name": "stderr",
     "output_type": "stream",
     "text": [
      "C:\\Users\\myousaf23\\anaconda3\\Lib\\site-packages\\sklearn\\linear_model\\_sag.py:349: ConvergenceWarning: The max_iter was reached which means the coef_ did not converge\n",
      "  warnings.warn(\n"
     ]
    },
    {
     "name": "stdout",
     "output_type": "stream",
     "text": [
      "[CV] END C=1, class_weight=None, max_iter=700, penalty=l1, solver=saga; total time=  10.4s\n"
     ]
    },
    {
     "name": "stderr",
     "output_type": "stream",
     "text": [
      "C:\\Users\\myousaf23\\anaconda3\\Lib\\site-packages\\sklearn\\linear_model\\_sag.py:349: ConvergenceWarning: The max_iter was reached which means the coef_ did not converge\n",
      "  warnings.warn(\n"
     ]
    },
    {
     "name": "stdout",
     "output_type": "stream",
     "text": [
      "[CV] END C=1, class_weight=None, max_iter=700, penalty=l1, solver=saga; total time=  10.3s\n"
     ]
    },
    {
     "name": "stderr",
     "output_type": "stream",
     "text": [
      "C:\\Users\\myousaf23\\anaconda3\\Lib\\site-packages\\sklearn\\linear_model\\_sag.py:349: ConvergenceWarning: The max_iter was reached which means the coef_ did not converge\n",
      "  warnings.warn(\n"
     ]
    },
    {
     "name": "stdout",
     "output_type": "stream",
     "text": [
      "[CV] END C=1, class_weight=None, max_iter=700, penalty=l1, solver=saga; total time=  10.6s\n"
     ]
    },
    {
     "name": "stderr",
     "output_type": "stream",
     "text": [
      "C:\\Users\\myousaf23\\anaconda3\\Lib\\site-packages\\sklearn\\linear_model\\_sag.py:349: ConvergenceWarning: The max_iter was reached which means the coef_ did not converge\n",
      "  warnings.warn(\n"
     ]
    },
    {
     "name": "stdout",
     "output_type": "stream",
     "text": [
      "[CV] END C=1, class_weight=None, max_iter=700, penalty=l1, solver=saga; total time=  10.1s\n"
     ]
    },
    {
     "name": "stderr",
     "output_type": "stream",
     "text": [
      "C:\\Users\\myousaf23\\anaconda3\\Lib\\site-packages\\sklearn\\linear_model\\_sag.py:349: ConvergenceWarning: The max_iter was reached which means the coef_ did not converge\n",
      "  warnings.warn(\n"
     ]
    },
    {
     "name": "stdout",
     "output_type": "stream",
     "text": [
      "[CV] END C=1, class_weight=None, max_iter=700, penalty=l1, solver=saga; total time=  10.2s\n",
      "[CV] END C=1, class_weight=None, max_iter=1000, penalty=l2, solver=liblinear; total time=   0.1s\n",
      "[CV] END C=1, class_weight=None, max_iter=1000, penalty=l2, solver=liblinear; total time=   0.1s\n",
      "[CV] END C=1, class_weight=None, max_iter=1000, penalty=l2, solver=liblinear; total time=   0.2s\n",
      "[CV] END C=1, class_weight=None, max_iter=1000, penalty=l2, solver=liblinear; total time=   0.2s\n",
      "[CV] END C=1, class_weight=None, max_iter=1000, penalty=l2, solver=liblinear; total time=   0.1s\n"
     ]
    },
    {
     "name": "stderr",
     "output_type": "stream",
     "text": [
      "C:\\Users\\myousaf23\\anaconda3\\Lib\\site-packages\\sklearn\\linear_model\\_sag.py:349: ConvergenceWarning: The max_iter was reached which means the coef_ did not converge\n",
      "  warnings.warn(\n"
     ]
    },
    {
     "name": "stdout",
     "output_type": "stream",
     "text": [
      "[CV] END C=1, class_weight=None, max_iter=1000, penalty=l2, solver=saga; total time=  11.3s\n"
     ]
    },
    {
     "name": "stderr",
     "output_type": "stream",
     "text": [
      "C:\\Users\\myousaf23\\anaconda3\\Lib\\site-packages\\sklearn\\linear_model\\_sag.py:349: ConvergenceWarning: The max_iter was reached which means the coef_ did not converge\n",
      "  warnings.warn(\n"
     ]
    },
    {
     "name": "stdout",
     "output_type": "stream",
     "text": [
      "[CV] END C=1, class_weight=None, max_iter=1000, penalty=l2, solver=saga; total time=  11.0s\n"
     ]
    },
    {
     "name": "stderr",
     "output_type": "stream",
     "text": [
      "C:\\Users\\myousaf23\\anaconda3\\Lib\\site-packages\\sklearn\\linear_model\\_sag.py:349: ConvergenceWarning: The max_iter was reached which means the coef_ did not converge\n",
      "  warnings.warn(\n"
     ]
    },
    {
     "name": "stdout",
     "output_type": "stream",
     "text": [
      "[CV] END C=1, class_weight=None, max_iter=1000, penalty=l2, solver=saga; total time=  10.7s\n"
     ]
    },
    {
     "name": "stderr",
     "output_type": "stream",
     "text": [
      "C:\\Users\\myousaf23\\anaconda3\\Lib\\site-packages\\sklearn\\linear_model\\_sag.py:349: ConvergenceWarning: The max_iter was reached which means the coef_ did not converge\n",
      "  warnings.warn(\n"
     ]
    },
    {
     "name": "stdout",
     "output_type": "stream",
     "text": [
      "[CV] END C=1, class_weight=None, max_iter=1000, penalty=l2, solver=saga; total time=  10.6s\n"
     ]
    },
    {
     "name": "stderr",
     "output_type": "stream",
     "text": [
      "C:\\Users\\myousaf23\\anaconda3\\Lib\\site-packages\\sklearn\\linear_model\\_sag.py:349: ConvergenceWarning: The max_iter was reached which means the coef_ did not converge\n",
      "  warnings.warn(\n"
     ]
    },
    {
     "name": "stdout",
     "output_type": "stream",
     "text": [
      "[CV] END C=1, class_weight=None, max_iter=1000, penalty=l2, solver=saga; total time=  11.1s\n",
      "[CV] END C=1, class_weight=None, max_iter=1000, penalty=l1, solver=liblinear; total time=   0.0s\n",
      "[CV] END C=1, class_weight=None, max_iter=1000, penalty=l1, solver=liblinear; total time=   0.0s\n",
      "[CV] END C=1, class_weight=None, max_iter=1000, penalty=l1, solver=liblinear; total time=   0.1s\n",
      "[CV] END C=1, class_weight=None, max_iter=1000, penalty=l1, solver=liblinear; total time=   0.1s\n",
      "[CV] END C=1, class_weight=None, max_iter=1000, penalty=l1, solver=liblinear; total time=   0.1s\n"
     ]
    },
    {
     "name": "stderr",
     "output_type": "stream",
     "text": [
      "C:\\Users\\myousaf23\\anaconda3\\Lib\\site-packages\\sklearn\\linear_model\\_sag.py:349: ConvergenceWarning: The max_iter was reached which means the coef_ did not converge\n",
      "  warnings.warn(\n"
     ]
    },
    {
     "name": "stdout",
     "output_type": "stream",
     "text": [
      "[CV] END C=1, class_weight=None, max_iter=1000, penalty=l1, solver=saga; total time=  14.8s\n"
     ]
    },
    {
     "name": "stderr",
     "output_type": "stream",
     "text": [
      "C:\\Users\\myousaf23\\anaconda3\\Lib\\site-packages\\sklearn\\linear_model\\_sag.py:349: ConvergenceWarning: The max_iter was reached which means the coef_ did not converge\n",
      "  warnings.warn(\n"
     ]
    },
    {
     "name": "stdout",
     "output_type": "stream",
     "text": [
      "[CV] END C=1, class_weight=None, max_iter=1000, penalty=l1, solver=saga; total time=  14.3s\n"
     ]
    },
    {
     "name": "stderr",
     "output_type": "stream",
     "text": [
      "C:\\Users\\myousaf23\\anaconda3\\Lib\\site-packages\\sklearn\\linear_model\\_sag.py:349: ConvergenceWarning: The max_iter was reached which means the coef_ did not converge\n",
      "  warnings.warn(\n"
     ]
    },
    {
     "name": "stdout",
     "output_type": "stream",
     "text": [
      "[CV] END C=1, class_weight=None, max_iter=1000, penalty=l1, solver=saga; total time=  14.7s\n"
     ]
    },
    {
     "name": "stderr",
     "output_type": "stream",
     "text": [
      "C:\\Users\\myousaf23\\anaconda3\\Lib\\site-packages\\sklearn\\linear_model\\_sag.py:349: ConvergenceWarning: The max_iter was reached which means the coef_ did not converge\n",
      "  warnings.warn(\n"
     ]
    },
    {
     "name": "stdout",
     "output_type": "stream",
     "text": [
      "[CV] END C=1, class_weight=None, max_iter=1000, penalty=l1, solver=saga; total time=  14.7s\n"
     ]
    },
    {
     "name": "stderr",
     "output_type": "stream",
     "text": [
      "C:\\Users\\myousaf23\\anaconda3\\Lib\\site-packages\\sklearn\\linear_model\\_sag.py:349: ConvergenceWarning: The max_iter was reached which means the coef_ did not converge\n",
      "  warnings.warn(\n"
     ]
    },
    {
     "name": "stdout",
     "output_type": "stream",
     "text": [
      "[CV] END C=1, class_weight=None, max_iter=1000, penalty=l1, solver=saga; total time=  14.5s\n",
      "[CV] END C=1, class_weight=balanced, max_iter=100, penalty=l2, solver=liblinear; total time=   0.2s\n",
      "[CV] END C=1, class_weight=balanced, max_iter=100, penalty=l2, solver=liblinear; total time=   0.2s\n",
      "[CV] END C=1, class_weight=balanced, max_iter=100, penalty=l2, solver=liblinear; total time=   0.2s\n",
      "[CV] END C=1, class_weight=balanced, max_iter=100, penalty=l2, solver=liblinear; total time=   0.2s\n",
      "[CV] END C=1, class_weight=balanced, max_iter=100, penalty=l2, solver=liblinear; total time=   0.1s\n"
     ]
    },
    {
     "name": "stderr",
     "output_type": "stream",
     "text": [
      "C:\\Users\\myousaf23\\anaconda3\\Lib\\site-packages\\sklearn\\linear_model\\_sag.py:349: ConvergenceWarning: The max_iter was reached which means the coef_ did not converge\n",
      "  warnings.warn(\n"
     ]
    },
    {
     "name": "stdout",
     "output_type": "stream",
     "text": [
      "[CV] END C=1, class_weight=balanced, max_iter=100, penalty=l2, solver=saga; total time=   1.1s\n"
     ]
    },
    {
     "name": "stderr",
     "output_type": "stream",
     "text": [
      "C:\\Users\\myousaf23\\anaconda3\\Lib\\site-packages\\sklearn\\linear_model\\_sag.py:349: ConvergenceWarning: The max_iter was reached which means the coef_ did not converge\n",
      "  warnings.warn(\n"
     ]
    },
    {
     "name": "stdout",
     "output_type": "stream",
     "text": [
      "[CV] END C=1, class_weight=balanced, max_iter=100, penalty=l2, solver=saga; total time=   1.1s\n"
     ]
    },
    {
     "name": "stderr",
     "output_type": "stream",
     "text": [
      "C:\\Users\\myousaf23\\anaconda3\\Lib\\site-packages\\sklearn\\linear_model\\_sag.py:349: ConvergenceWarning: The max_iter was reached which means the coef_ did not converge\n",
      "  warnings.warn(\n"
     ]
    },
    {
     "name": "stdout",
     "output_type": "stream",
     "text": [
      "[CV] END C=1, class_weight=balanced, max_iter=100, penalty=l2, solver=saga; total time=   1.1s\n"
     ]
    },
    {
     "name": "stderr",
     "output_type": "stream",
     "text": [
      "C:\\Users\\myousaf23\\anaconda3\\Lib\\site-packages\\sklearn\\linear_model\\_sag.py:349: ConvergenceWarning: The max_iter was reached which means the coef_ did not converge\n",
      "  warnings.warn(\n"
     ]
    },
    {
     "name": "stdout",
     "output_type": "stream",
     "text": [
      "[CV] END C=1, class_weight=balanced, max_iter=100, penalty=l2, solver=saga; total time=   1.1s\n"
     ]
    },
    {
     "name": "stderr",
     "output_type": "stream",
     "text": [
      "C:\\Users\\myousaf23\\anaconda3\\Lib\\site-packages\\sklearn\\linear_model\\_sag.py:349: ConvergenceWarning: The max_iter was reached which means the coef_ did not converge\n",
      "  warnings.warn(\n"
     ]
    },
    {
     "name": "stdout",
     "output_type": "stream",
     "text": [
      "[CV] END C=1, class_weight=balanced, max_iter=100, penalty=l2, solver=saga; total time=   1.1s\n",
      "[CV] END C=1, class_weight=balanced, max_iter=100, penalty=l1, solver=liblinear; total time=   0.0s\n",
      "[CV] END C=1, class_weight=balanced, max_iter=100, penalty=l1, solver=liblinear; total time=   0.0s\n",
      "[CV] END C=1, class_weight=balanced, max_iter=100, penalty=l1, solver=liblinear; total time=   0.0s\n",
      "[CV] END C=1, class_weight=balanced, max_iter=100, penalty=l1, solver=liblinear; total time=   0.0s\n",
      "[CV] END C=1, class_weight=balanced, max_iter=100, penalty=l1, solver=liblinear; total time=   0.1s\n"
     ]
    },
    {
     "name": "stderr",
     "output_type": "stream",
     "text": [
      "C:\\Users\\myousaf23\\anaconda3\\Lib\\site-packages\\sklearn\\linear_model\\_sag.py:349: ConvergenceWarning: The max_iter was reached which means the coef_ did not converge\n",
      "  warnings.warn(\n"
     ]
    },
    {
     "name": "stdout",
     "output_type": "stream",
     "text": [
      "[CV] END C=1, class_weight=balanced, max_iter=100, penalty=l1, solver=saga; total time=   1.5s\n"
     ]
    },
    {
     "name": "stderr",
     "output_type": "stream",
     "text": [
      "C:\\Users\\myousaf23\\anaconda3\\Lib\\site-packages\\sklearn\\linear_model\\_sag.py:349: ConvergenceWarning: The max_iter was reached which means the coef_ did not converge\n",
      "  warnings.warn(\n"
     ]
    },
    {
     "name": "stdout",
     "output_type": "stream",
     "text": [
      "[CV] END C=1, class_weight=balanced, max_iter=100, penalty=l1, solver=saga; total time=   1.5s\n"
     ]
    },
    {
     "name": "stderr",
     "output_type": "stream",
     "text": [
      "C:\\Users\\myousaf23\\anaconda3\\Lib\\site-packages\\sklearn\\linear_model\\_sag.py:349: ConvergenceWarning: The max_iter was reached which means the coef_ did not converge\n",
      "  warnings.warn(\n"
     ]
    },
    {
     "name": "stdout",
     "output_type": "stream",
     "text": [
      "[CV] END C=1, class_weight=balanced, max_iter=100, penalty=l1, solver=saga; total time=   1.5s\n"
     ]
    },
    {
     "name": "stderr",
     "output_type": "stream",
     "text": [
      "C:\\Users\\myousaf23\\anaconda3\\Lib\\site-packages\\sklearn\\linear_model\\_sag.py:349: ConvergenceWarning: The max_iter was reached which means the coef_ did not converge\n",
      "  warnings.warn(\n"
     ]
    },
    {
     "name": "stdout",
     "output_type": "stream",
     "text": [
      "[CV] END C=1, class_weight=balanced, max_iter=100, penalty=l1, solver=saga; total time=   1.5s\n"
     ]
    },
    {
     "name": "stderr",
     "output_type": "stream",
     "text": [
      "C:\\Users\\myousaf23\\anaconda3\\Lib\\site-packages\\sklearn\\linear_model\\_sag.py:349: ConvergenceWarning: The max_iter was reached which means the coef_ did not converge\n",
      "  warnings.warn(\n"
     ]
    },
    {
     "name": "stdout",
     "output_type": "stream",
     "text": [
      "[CV] END C=1, class_weight=balanced, max_iter=100, penalty=l1, solver=saga; total time=   1.7s\n",
      "[CV] END C=1, class_weight=balanced, max_iter=200, penalty=l2, solver=liblinear; total time=   0.2s\n",
      "[CV] END C=1, class_weight=balanced, max_iter=200, penalty=l2, solver=liblinear; total time=   0.2s\n",
      "[CV] END C=1, class_weight=balanced, max_iter=200, penalty=l2, solver=liblinear; total time=   0.2s\n",
      "[CV] END C=1, class_weight=balanced, max_iter=200, penalty=l2, solver=liblinear; total time=   0.2s\n",
      "[CV] END C=1, class_weight=balanced, max_iter=200, penalty=l2, solver=liblinear; total time=   0.2s\n"
     ]
    },
    {
     "name": "stderr",
     "output_type": "stream",
     "text": [
      "C:\\Users\\myousaf23\\anaconda3\\Lib\\site-packages\\sklearn\\linear_model\\_sag.py:349: ConvergenceWarning: The max_iter was reached which means the coef_ did not converge\n",
      "  warnings.warn(\n"
     ]
    },
    {
     "name": "stdout",
     "output_type": "stream",
     "text": [
      "[CV] END C=1, class_weight=balanced, max_iter=200, penalty=l2, solver=saga; total time=   2.3s\n"
     ]
    },
    {
     "name": "stderr",
     "output_type": "stream",
     "text": [
      "C:\\Users\\myousaf23\\anaconda3\\Lib\\site-packages\\sklearn\\linear_model\\_sag.py:349: ConvergenceWarning: The max_iter was reached which means the coef_ did not converge\n",
      "  warnings.warn(\n"
     ]
    },
    {
     "name": "stdout",
     "output_type": "stream",
     "text": [
      "[CV] END C=1, class_weight=balanced, max_iter=200, penalty=l2, solver=saga; total time=   2.3s\n"
     ]
    },
    {
     "name": "stderr",
     "output_type": "stream",
     "text": [
      "C:\\Users\\myousaf23\\anaconda3\\Lib\\site-packages\\sklearn\\linear_model\\_sag.py:349: ConvergenceWarning: The max_iter was reached which means the coef_ did not converge\n",
      "  warnings.warn(\n"
     ]
    },
    {
     "name": "stdout",
     "output_type": "stream",
     "text": [
      "[CV] END C=1, class_weight=balanced, max_iter=200, penalty=l2, solver=saga; total time=   2.2s\n"
     ]
    },
    {
     "name": "stderr",
     "output_type": "stream",
     "text": [
      "C:\\Users\\myousaf23\\anaconda3\\Lib\\site-packages\\sklearn\\linear_model\\_sag.py:349: ConvergenceWarning: The max_iter was reached which means the coef_ did not converge\n",
      "  warnings.warn(\n"
     ]
    },
    {
     "name": "stdout",
     "output_type": "stream",
     "text": [
      "[CV] END C=1, class_weight=balanced, max_iter=200, penalty=l2, solver=saga; total time=   2.2s\n"
     ]
    },
    {
     "name": "stderr",
     "output_type": "stream",
     "text": [
      "C:\\Users\\myousaf23\\anaconda3\\Lib\\site-packages\\sklearn\\linear_model\\_sag.py:349: ConvergenceWarning: The max_iter was reached which means the coef_ did not converge\n",
      "  warnings.warn(\n"
     ]
    },
    {
     "name": "stdout",
     "output_type": "stream",
     "text": [
      "[CV] END C=1, class_weight=balanced, max_iter=200, penalty=l2, solver=saga; total time=   2.2s\n",
      "[CV] END C=1, class_weight=balanced, max_iter=200, penalty=l1, solver=liblinear; total time=   0.0s\n",
      "[CV] END C=1, class_weight=balanced, max_iter=200, penalty=l1, solver=liblinear; total time=   0.0s\n",
      "[CV] END C=1, class_weight=balanced, max_iter=200, penalty=l1, solver=liblinear; total time=   0.1s\n",
      "[CV] END C=1, class_weight=balanced, max_iter=200, penalty=l1, solver=liblinear; total time=   0.1s\n",
      "[CV] END C=1, class_weight=balanced, max_iter=200, penalty=l1, solver=liblinear; total time=   0.1s\n"
     ]
    },
    {
     "name": "stderr",
     "output_type": "stream",
     "text": [
      "C:\\Users\\myousaf23\\anaconda3\\Lib\\site-packages\\sklearn\\linear_model\\_sag.py:349: ConvergenceWarning: The max_iter was reached which means the coef_ did not converge\n",
      "  warnings.warn(\n"
     ]
    },
    {
     "name": "stdout",
     "output_type": "stream",
     "text": [
      "[CV] END C=1, class_weight=balanced, max_iter=200, penalty=l1, solver=saga; total time=   2.9s\n"
     ]
    },
    {
     "name": "stderr",
     "output_type": "stream",
     "text": [
      "C:\\Users\\myousaf23\\anaconda3\\Lib\\site-packages\\sklearn\\linear_model\\_sag.py:349: ConvergenceWarning: The max_iter was reached which means the coef_ did not converge\n",
      "  warnings.warn(\n"
     ]
    },
    {
     "name": "stdout",
     "output_type": "stream",
     "text": [
      "[CV] END C=1, class_weight=balanced, max_iter=200, penalty=l1, solver=saga; total time=   2.9s\n"
     ]
    },
    {
     "name": "stderr",
     "output_type": "stream",
     "text": [
      "C:\\Users\\myousaf23\\anaconda3\\Lib\\site-packages\\sklearn\\linear_model\\_sag.py:349: ConvergenceWarning: The max_iter was reached which means the coef_ did not converge\n",
      "  warnings.warn(\n"
     ]
    },
    {
     "name": "stdout",
     "output_type": "stream",
     "text": [
      "[CV] END C=1, class_weight=balanced, max_iter=200, penalty=l1, solver=saga; total time=   3.0s\n"
     ]
    },
    {
     "name": "stderr",
     "output_type": "stream",
     "text": [
      "C:\\Users\\myousaf23\\anaconda3\\Lib\\site-packages\\sklearn\\linear_model\\_sag.py:349: ConvergenceWarning: The max_iter was reached which means the coef_ did not converge\n",
      "  warnings.warn(\n"
     ]
    },
    {
     "name": "stdout",
     "output_type": "stream",
     "text": [
      "[CV] END C=1, class_weight=balanced, max_iter=200, penalty=l1, solver=saga; total time=   3.1s\n"
     ]
    },
    {
     "name": "stderr",
     "output_type": "stream",
     "text": [
      "C:\\Users\\myousaf23\\anaconda3\\Lib\\site-packages\\sklearn\\linear_model\\_sag.py:349: ConvergenceWarning: The max_iter was reached which means the coef_ did not converge\n",
      "  warnings.warn(\n"
     ]
    },
    {
     "name": "stdout",
     "output_type": "stream",
     "text": [
      "[CV] END C=1, class_weight=balanced, max_iter=200, penalty=l1, solver=saga; total time=   3.1s\n",
      "[CV] END C=1, class_weight=balanced, max_iter=500, penalty=l2, solver=liblinear; total time=   0.2s\n",
      "[CV] END C=1, class_weight=balanced, max_iter=500, penalty=l2, solver=liblinear; total time=   0.2s\n",
      "[CV] END C=1, class_weight=balanced, max_iter=500, penalty=l2, solver=liblinear; total time=   0.2s\n",
      "[CV] END C=1, class_weight=balanced, max_iter=500, penalty=l2, solver=liblinear; total time=   0.2s\n",
      "[CV] END C=1, class_weight=balanced, max_iter=500, penalty=l2, solver=liblinear; total time=   0.2s\n"
     ]
    },
    {
     "name": "stderr",
     "output_type": "stream",
     "text": [
      "C:\\Users\\myousaf23\\anaconda3\\Lib\\site-packages\\sklearn\\linear_model\\_sag.py:349: ConvergenceWarning: The max_iter was reached which means the coef_ did not converge\n",
      "  warnings.warn(\n"
     ]
    },
    {
     "name": "stdout",
     "output_type": "stream",
     "text": [
      "[CV] END C=1, class_weight=balanced, max_iter=500, penalty=l2, solver=saga; total time=   5.8s\n"
     ]
    },
    {
     "name": "stderr",
     "output_type": "stream",
     "text": [
      "C:\\Users\\myousaf23\\anaconda3\\Lib\\site-packages\\sklearn\\linear_model\\_sag.py:349: ConvergenceWarning: The max_iter was reached which means the coef_ did not converge\n",
      "  warnings.warn(\n"
     ]
    },
    {
     "name": "stdout",
     "output_type": "stream",
     "text": [
      "[CV] END C=1, class_weight=balanced, max_iter=500, penalty=l2, solver=saga; total time=   5.7s\n"
     ]
    },
    {
     "name": "stderr",
     "output_type": "stream",
     "text": [
      "C:\\Users\\myousaf23\\anaconda3\\Lib\\site-packages\\sklearn\\linear_model\\_sag.py:349: ConvergenceWarning: The max_iter was reached which means the coef_ did not converge\n",
      "  warnings.warn(\n"
     ]
    },
    {
     "name": "stdout",
     "output_type": "stream",
     "text": [
      "[CV] END C=1, class_weight=balanced, max_iter=500, penalty=l2, solver=saga; total time=   5.8s\n"
     ]
    },
    {
     "name": "stderr",
     "output_type": "stream",
     "text": [
      "C:\\Users\\myousaf23\\anaconda3\\Lib\\site-packages\\sklearn\\linear_model\\_sag.py:349: ConvergenceWarning: The max_iter was reached which means the coef_ did not converge\n",
      "  warnings.warn(\n"
     ]
    },
    {
     "name": "stdout",
     "output_type": "stream",
     "text": [
      "[CV] END C=1, class_weight=balanced, max_iter=500, penalty=l2, solver=saga; total time=   5.7s\n"
     ]
    },
    {
     "name": "stderr",
     "output_type": "stream",
     "text": [
      "C:\\Users\\myousaf23\\anaconda3\\Lib\\site-packages\\sklearn\\linear_model\\_sag.py:349: ConvergenceWarning: The max_iter was reached which means the coef_ did not converge\n",
      "  warnings.warn(\n"
     ]
    },
    {
     "name": "stdout",
     "output_type": "stream",
     "text": [
      "[CV] END C=1, class_weight=balanced, max_iter=500, penalty=l2, solver=saga; total time=   5.5s\n",
      "[CV] END C=1, class_weight=balanced, max_iter=500, penalty=l1, solver=liblinear; total time=   0.0s\n",
      "[CV] END C=1, class_weight=balanced, max_iter=500, penalty=l1, solver=liblinear; total time=   0.0s\n",
      "[CV] END C=1, class_weight=balanced, max_iter=500, penalty=l1, solver=liblinear; total time=   0.1s\n",
      "[CV] END C=1, class_weight=balanced, max_iter=500, penalty=l1, solver=liblinear; total time=   0.1s\n",
      "[CV] END C=1, class_weight=balanced, max_iter=500, penalty=l1, solver=liblinear; total time=   0.1s\n"
     ]
    },
    {
     "name": "stderr",
     "output_type": "stream",
     "text": [
      "C:\\Users\\myousaf23\\anaconda3\\Lib\\site-packages\\sklearn\\linear_model\\_sag.py:349: ConvergenceWarning: The max_iter was reached which means the coef_ did not converge\n",
      "  warnings.warn(\n"
     ]
    },
    {
     "name": "stdout",
     "output_type": "stream",
     "text": [
      "[CV] END C=1, class_weight=balanced, max_iter=500, penalty=l1, solver=saga; total time=   7.6s\n"
     ]
    },
    {
     "name": "stderr",
     "output_type": "stream",
     "text": [
      "C:\\Users\\myousaf23\\anaconda3\\Lib\\site-packages\\sklearn\\linear_model\\_sag.py:349: ConvergenceWarning: The max_iter was reached which means the coef_ did not converge\n",
      "  warnings.warn(\n"
     ]
    },
    {
     "name": "stdout",
     "output_type": "stream",
     "text": [
      "[CV] END C=1, class_weight=balanced, max_iter=500, penalty=l1, solver=saga; total time=   7.4s\n"
     ]
    },
    {
     "name": "stderr",
     "output_type": "stream",
     "text": [
      "C:\\Users\\myousaf23\\anaconda3\\Lib\\site-packages\\sklearn\\linear_model\\_sag.py:349: ConvergenceWarning: The max_iter was reached which means the coef_ did not converge\n",
      "  warnings.warn(\n"
     ]
    },
    {
     "name": "stdout",
     "output_type": "stream",
     "text": [
      "[CV] END C=1, class_weight=balanced, max_iter=500, penalty=l1, solver=saga; total time=   7.5s\n"
     ]
    },
    {
     "name": "stderr",
     "output_type": "stream",
     "text": [
      "C:\\Users\\myousaf23\\anaconda3\\Lib\\site-packages\\sklearn\\linear_model\\_sag.py:349: ConvergenceWarning: The max_iter was reached which means the coef_ did not converge\n",
      "  warnings.warn(\n"
     ]
    },
    {
     "name": "stdout",
     "output_type": "stream",
     "text": [
      "[CV] END C=1, class_weight=balanced, max_iter=500, penalty=l1, solver=saga; total time=   7.5s\n"
     ]
    },
    {
     "name": "stderr",
     "output_type": "stream",
     "text": [
      "C:\\Users\\myousaf23\\anaconda3\\Lib\\site-packages\\sklearn\\linear_model\\_sag.py:349: ConvergenceWarning: The max_iter was reached which means the coef_ did not converge\n",
      "  warnings.warn(\n"
     ]
    },
    {
     "name": "stdout",
     "output_type": "stream",
     "text": [
      "[CV] END C=1, class_weight=balanced, max_iter=500, penalty=l1, solver=saga; total time=   7.4s\n",
      "[CV] END C=1, class_weight=balanced, max_iter=700, penalty=l2, solver=liblinear; total time=   0.2s\n",
      "[CV] END C=1, class_weight=balanced, max_iter=700, penalty=l2, solver=liblinear; total time=   0.2s\n",
      "[CV] END C=1, class_weight=balanced, max_iter=700, penalty=l2, solver=liblinear; total time=   0.2s\n",
      "[CV] END C=1, class_weight=balanced, max_iter=700, penalty=l2, solver=liblinear; total time=   0.2s\n",
      "[CV] END C=1, class_weight=balanced, max_iter=700, penalty=l2, solver=liblinear; total time=   0.2s\n"
     ]
    },
    {
     "name": "stderr",
     "output_type": "stream",
     "text": [
      "C:\\Users\\myousaf23\\anaconda3\\Lib\\site-packages\\sklearn\\linear_model\\_sag.py:349: ConvergenceWarning: The max_iter was reached which means the coef_ did not converge\n",
      "  warnings.warn(\n"
     ]
    },
    {
     "name": "stdout",
     "output_type": "stream",
     "text": [
      "[CV] END C=1, class_weight=balanced, max_iter=700, penalty=l2, solver=saga; total time=   8.1s\n"
     ]
    },
    {
     "name": "stderr",
     "output_type": "stream",
     "text": [
      "C:\\Users\\myousaf23\\anaconda3\\Lib\\site-packages\\sklearn\\linear_model\\_sag.py:349: ConvergenceWarning: The max_iter was reached which means the coef_ did not converge\n",
      "  warnings.warn(\n"
     ]
    },
    {
     "name": "stdout",
     "output_type": "stream",
     "text": [
      "[CV] END C=1, class_weight=balanced, max_iter=700, penalty=l2, solver=saga; total time=   8.1s\n"
     ]
    },
    {
     "name": "stderr",
     "output_type": "stream",
     "text": [
      "C:\\Users\\myousaf23\\anaconda3\\Lib\\site-packages\\sklearn\\linear_model\\_sag.py:349: ConvergenceWarning: The max_iter was reached which means the coef_ did not converge\n",
      "  warnings.warn(\n"
     ]
    },
    {
     "name": "stdout",
     "output_type": "stream",
     "text": [
      "[CV] END C=1, class_weight=balanced, max_iter=700, penalty=l2, solver=saga; total time=   8.3s\n"
     ]
    },
    {
     "name": "stderr",
     "output_type": "stream",
     "text": [
      "C:\\Users\\myousaf23\\anaconda3\\Lib\\site-packages\\sklearn\\linear_model\\_sag.py:349: ConvergenceWarning: The max_iter was reached which means the coef_ did not converge\n",
      "  warnings.warn(\n"
     ]
    },
    {
     "name": "stdout",
     "output_type": "stream",
     "text": [
      "[CV] END C=1, class_weight=balanced, max_iter=700, penalty=l2, solver=saga; total time=   8.3s\n"
     ]
    },
    {
     "name": "stderr",
     "output_type": "stream",
     "text": [
      "C:\\Users\\myousaf23\\anaconda3\\Lib\\site-packages\\sklearn\\linear_model\\_sag.py:349: ConvergenceWarning: The max_iter was reached which means the coef_ did not converge\n",
      "  warnings.warn(\n"
     ]
    },
    {
     "name": "stdout",
     "output_type": "stream",
     "text": [
      "[CV] END C=1, class_weight=balanced, max_iter=700, penalty=l2, solver=saga; total time=   8.7s\n",
      "[CV] END C=1, class_weight=balanced, max_iter=700, penalty=l1, solver=liblinear; total time=   0.1s\n",
      "[CV] END C=1, class_weight=balanced, max_iter=700, penalty=l1, solver=liblinear; total time=   0.0s\n",
      "[CV] END C=1, class_weight=balanced, max_iter=700, penalty=l1, solver=liblinear; total time=   0.1s\n",
      "[CV] END C=1, class_weight=balanced, max_iter=700, penalty=l1, solver=liblinear; total time=   0.1s\n",
      "[CV] END C=1, class_weight=balanced, max_iter=700, penalty=l1, solver=liblinear; total time=   0.1s\n"
     ]
    },
    {
     "name": "stderr",
     "output_type": "stream",
     "text": [
      "C:\\Users\\myousaf23\\anaconda3\\Lib\\site-packages\\sklearn\\linear_model\\_sag.py:349: ConvergenceWarning: The max_iter was reached which means the coef_ did not converge\n",
      "  warnings.warn(\n"
     ]
    },
    {
     "name": "stdout",
     "output_type": "stream",
     "text": [
      "[CV] END C=1, class_weight=balanced, max_iter=700, penalty=l1, solver=saga; total time=  11.0s\n"
     ]
    },
    {
     "name": "stderr",
     "output_type": "stream",
     "text": [
      "C:\\Users\\myousaf23\\anaconda3\\Lib\\site-packages\\sklearn\\linear_model\\_sag.py:349: ConvergenceWarning: The max_iter was reached which means the coef_ did not converge\n",
      "  warnings.warn(\n"
     ]
    },
    {
     "name": "stdout",
     "output_type": "stream",
     "text": [
      "[CV] END C=1, class_weight=balanced, max_iter=700, penalty=l1, solver=saga; total time=  11.0s\n"
     ]
    },
    {
     "name": "stderr",
     "output_type": "stream",
     "text": [
      "C:\\Users\\myousaf23\\anaconda3\\Lib\\site-packages\\sklearn\\linear_model\\_sag.py:349: ConvergenceWarning: The max_iter was reached which means the coef_ did not converge\n",
      "  warnings.warn(\n"
     ]
    },
    {
     "name": "stdout",
     "output_type": "stream",
     "text": [
      "[CV] END C=1, class_weight=balanced, max_iter=700, penalty=l1, solver=saga; total time=  11.0s\n"
     ]
    },
    {
     "name": "stderr",
     "output_type": "stream",
     "text": [
      "C:\\Users\\myousaf23\\anaconda3\\Lib\\site-packages\\sklearn\\linear_model\\_sag.py:349: ConvergenceWarning: The max_iter was reached which means the coef_ did not converge\n",
      "  warnings.warn(\n"
     ]
    },
    {
     "name": "stdout",
     "output_type": "stream",
     "text": [
      "[CV] END C=1, class_weight=balanced, max_iter=700, penalty=l1, solver=saga; total time=  11.3s\n"
     ]
    },
    {
     "name": "stderr",
     "output_type": "stream",
     "text": [
      "C:\\Users\\myousaf23\\anaconda3\\Lib\\site-packages\\sklearn\\linear_model\\_sag.py:349: ConvergenceWarning: The max_iter was reached which means the coef_ did not converge\n",
      "  warnings.warn(\n"
     ]
    },
    {
     "name": "stdout",
     "output_type": "stream",
     "text": [
      "[CV] END C=1, class_weight=balanced, max_iter=700, penalty=l1, solver=saga; total time=  11.4s\n",
      "[CV] END C=1, class_weight=balanced, max_iter=1000, penalty=l2, solver=liblinear; total time=   0.2s\n",
      "[CV] END C=1, class_weight=balanced, max_iter=1000, penalty=l2, solver=liblinear; total time=   0.2s\n",
      "[CV] END C=1, class_weight=balanced, max_iter=1000, penalty=l2, solver=liblinear; total time=   0.2s\n",
      "[CV] END C=1, class_weight=balanced, max_iter=1000, penalty=l2, solver=liblinear; total time=   0.2s\n",
      "[CV] END C=1, class_weight=balanced, max_iter=1000, penalty=l2, solver=liblinear; total time=   0.2s\n"
     ]
    },
    {
     "name": "stderr",
     "output_type": "stream",
     "text": [
      "C:\\Users\\myousaf23\\anaconda3\\Lib\\site-packages\\sklearn\\linear_model\\_sag.py:349: ConvergenceWarning: The max_iter was reached which means the coef_ did not converge\n",
      "  warnings.warn(\n"
     ]
    },
    {
     "name": "stdout",
     "output_type": "stream",
     "text": [
      "[CV] END C=1, class_weight=balanced, max_iter=1000, penalty=l2, solver=saga; total time=  11.9s\n"
     ]
    },
    {
     "name": "stderr",
     "output_type": "stream",
     "text": [
      "C:\\Users\\myousaf23\\anaconda3\\Lib\\site-packages\\sklearn\\linear_model\\_sag.py:349: ConvergenceWarning: The max_iter was reached which means the coef_ did not converge\n",
      "  warnings.warn(\n"
     ]
    },
    {
     "name": "stdout",
     "output_type": "stream",
     "text": [
      "[CV] END C=1, class_weight=balanced, max_iter=1000, penalty=l2, solver=saga; total time=  12.5s\n"
     ]
    },
    {
     "name": "stderr",
     "output_type": "stream",
     "text": [
      "C:\\Users\\myousaf23\\anaconda3\\Lib\\site-packages\\sklearn\\linear_model\\_sag.py:349: ConvergenceWarning: The max_iter was reached which means the coef_ did not converge\n",
      "  warnings.warn(\n"
     ]
    },
    {
     "name": "stdout",
     "output_type": "stream",
     "text": [
      "[CV] END C=1, class_weight=balanced, max_iter=1000, penalty=l2, solver=saga; total time=  12.2s\n"
     ]
    },
    {
     "name": "stderr",
     "output_type": "stream",
     "text": [
      "C:\\Users\\myousaf23\\anaconda3\\Lib\\site-packages\\sklearn\\linear_model\\_sag.py:349: ConvergenceWarning: The max_iter was reached which means the coef_ did not converge\n",
      "  warnings.warn(\n"
     ]
    },
    {
     "name": "stdout",
     "output_type": "stream",
     "text": [
      "[CV] END C=1, class_weight=balanced, max_iter=1000, penalty=l2, solver=saga; total time=  12.6s\n"
     ]
    },
    {
     "name": "stderr",
     "output_type": "stream",
     "text": [
      "C:\\Users\\myousaf23\\anaconda3\\Lib\\site-packages\\sklearn\\linear_model\\_sag.py:349: ConvergenceWarning: The max_iter was reached which means the coef_ did not converge\n",
      "  warnings.warn(\n"
     ]
    },
    {
     "name": "stdout",
     "output_type": "stream",
     "text": [
      "[CV] END C=1, class_weight=balanced, max_iter=1000, penalty=l2, solver=saga; total time=  12.3s\n",
      "[CV] END C=1, class_weight=balanced, max_iter=1000, penalty=l1, solver=liblinear; total time=   0.0s\n",
      "[CV] END C=1, class_weight=balanced, max_iter=1000, penalty=l1, solver=liblinear; total time=   0.0s\n",
      "[CV] END C=1, class_weight=balanced, max_iter=1000, penalty=l1, solver=liblinear; total time=   0.1s\n",
      "[CV] END C=1, class_weight=balanced, max_iter=1000, penalty=l1, solver=liblinear; total time=   0.1s\n",
      "[CV] END C=1, class_weight=balanced, max_iter=1000, penalty=l1, solver=liblinear; total time=   0.1s\n"
     ]
    },
    {
     "name": "stderr",
     "output_type": "stream",
     "text": [
      "C:\\Users\\myousaf23\\anaconda3\\Lib\\site-packages\\sklearn\\linear_model\\_sag.py:349: ConvergenceWarning: The max_iter was reached which means the coef_ did not converge\n",
      "  warnings.warn(\n"
     ]
    },
    {
     "name": "stdout",
     "output_type": "stream",
     "text": [
      "[CV] END C=1, class_weight=balanced, max_iter=1000, penalty=l1, solver=saga; total time=  15.9s\n"
     ]
    },
    {
     "name": "stderr",
     "output_type": "stream",
     "text": [
      "C:\\Users\\myousaf23\\anaconda3\\Lib\\site-packages\\sklearn\\linear_model\\_sag.py:349: ConvergenceWarning: The max_iter was reached which means the coef_ did not converge\n",
      "  warnings.warn(\n"
     ]
    },
    {
     "name": "stdout",
     "output_type": "stream",
     "text": [
      "[CV] END C=1, class_weight=balanced, max_iter=1000, penalty=l1, solver=saga; total time=  15.5s\n"
     ]
    },
    {
     "name": "stderr",
     "output_type": "stream",
     "text": [
      "C:\\Users\\myousaf23\\anaconda3\\Lib\\site-packages\\sklearn\\linear_model\\_sag.py:349: ConvergenceWarning: The max_iter was reached which means the coef_ did not converge\n",
      "  warnings.warn(\n"
     ]
    },
    {
     "name": "stdout",
     "output_type": "stream",
     "text": [
      "[CV] END C=1, class_weight=balanced, max_iter=1000, penalty=l1, solver=saga; total time=  15.9s\n"
     ]
    },
    {
     "name": "stderr",
     "output_type": "stream",
     "text": [
      "C:\\Users\\myousaf23\\anaconda3\\Lib\\site-packages\\sklearn\\linear_model\\_sag.py:349: ConvergenceWarning: The max_iter was reached which means the coef_ did not converge\n",
      "  warnings.warn(\n"
     ]
    },
    {
     "name": "stdout",
     "output_type": "stream",
     "text": [
      "[CV] END C=1, class_weight=balanced, max_iter=1000, penalty=l1, solver=saga; total time=  15.7s\n"
     ]
    },
    {
     "name": "stderr",
     "output_type": "stream",
     "text": [
      "C:\\Users\\myousaf23\\anaconda3\\Lib\\site-packages\\sklearn\\linear_model\\_sag.py:349: ConvergenceWarning: The max_iter was reached which means the coef_ did not converge\n",
      "  warnings.warn(\n"
     ]
    },
    {
     "name": "stdout",
     "output_type": "stream",
     "text": [
      "[CV] END C=1, class_weight=balanced, max_iter=1000, penalty=l1, solver=saga; total time=  15.6s\n",
      "[CV] END C=10, class_weight=None, max_iter=100, penalty=l2, solver=liblinear; total time=   0.6s\n",
      "[CV] END C=10, class_weight=None, max_iter=100, penalty=l2, solver=liblinear; total time=   0.5s\n",
      "[CV] END C=10, class_weight=None, max_iter=100, penalty=l2, solver=liblinear; total time=   0.5s\n",
      "[CV] END C=10, class_weight=None, max_iter=100, penalty=l2, solver=liblinear; total time=   0.4s\n",
      "[CV] END C=10, class_weight=None, max_iter=100, penalty=l2, solver=liblinear; total time=   0.4s\n"
     ]
    },
    {
     "name": "stderr",
     "output_type": "stream",
     "text": [
      "C:\\Users\\myousaf23\\anaconda3\\Lib\\site-packages\\sklearn\\linear_model\\_sag.py:349: ConvergenceWarning: The max_iter was reached which means the coef_ did not converge\n",
      "  warnings.warn(\n"
     ]
    },
    {
     "name": "stdout",
     "output_type": "stream",
     "text": [
      "[CV] END C=10, class_weight=None, max_iter=100, penalty=l2, solver=saga; total time=   1.2s\n"
     ]
    },
    {
     "name": "stderr",
     "output_type": "stream",
     "text": [
      "C:\\Users\\myousaf23\\anaconda3\\Lib\\site-packages\\sklearn\\linear_model\\_sag.py:349: ConvergenceWarning: The max_iter was reached which means the coef_ did not converge\n",
      "  warnings.warn(\n"
     ]
    },
    {
     "name": "stdout",
     "output_type": "stream",
     "text": [
      "[CV] END C=10, class_weight=None, max_iter=100, penalty=l2, solver=saga; total time=   1.3s\n"
     ]
    },
    {
     "name": "stderr",
     "output_type": "stream",
     "text": [
      "C:\\Users\\myousaf23\\anaconda3\\Lib\\site-packages\\sklearn\\linear_model\\_sag.py:349: ConvergenceWarning: The max_iter was reached which means the coef_ did not converge\n",
      "  warnings.warn(\n"
     ]
    },
    {
     "name": "stdout",
     "output_type": "stream",
     "text": [
      "[CV] END C=10, class_weight=None, max_iter=100, penalty=l2, solver=saga; total time=   1.3s\n"
     ]
    },
    {
     "name": "stderr",
     "output_type": "stream",
     "text": [
      "C:\\Users\\myousaf23\\anaconda3\\Lib\\site-packages\\sklearn\\linear_model\\_sag.py:349: ConvergenceWarning: The max_iter was reached which means the coef_ did not converge\n",
      "  warnings.warn(\n"
     ]
    },
    {
     "name": "stdout",
     "output_type": "stream",
     "text": [
      "[CV] END C=10, class_weight=None, max_iter=100, penalty=l2, solver=saga; total time=   1.2s\n"
     ]
    },
    {
     "name": "stderr",
     "output_type": "stream",
     "text": [
      "C:\\Users\\myousaf23\\anaconda3\\Lib\\site-packages\\sklearn\\linear_model\\_sag.py:349: ConvergenceWarning: The max_iter was reached which means the coef_ did not converge\n",
      "  warnings.warn(\n"
     ]
    },
    {
     "name": "stdout",
     "output_type": "stream",
     "text": [
      "[CV] END C=10, class_weight=None, max_iter=100, penalty=l2, solver=saga; total time=   1.3s\n",
      "[CV] END C=10, class_weight=None, max_iter=100, penalty=l1, solver=liblinear; total time=   0.6s\n",
      "[CV] END C=10, class_weight=None, max_iter=100, penalty=l1, solver=liblinear; total time=   1.5s\n",
      "[CV] END C=10, class_weight=None, max_iter=100, penalty=l1, solver=liblinear; total time=   0.6s\n",
      "[CV] END C=10, class_weight=None, max_iter=100, penalty=l1, solver=liblinear; total time=   0.4s\n",
      "[CV] END C=10, class_weight=None, max_iter=100, penalty=l1, solver=liblinear; total time=   0.5s\n"
     ]
    },
    {
     "name": "stderr",
     "output_type": "stream",
     "text": [
      "C:\\Users\\myousaf23\\anaconda3\\Lib\\site-packages\\sklearn\\linear_model\\_sag.py:349: ConvergenceWarning: The max_iter was reached which means the coef_ did not converge\n",
      "  warnings.warn(\n"
     ]
    },
    {
     "name": "stdout",
     "output_type": "stream",
     "text": [
      "[CV] END C=10, class_weight=None, max_iter=100, penalty=l1, solver=saga; total time=   2.0s\n"
     ]
    },
    {
     "name": "stderr",
     "output_type": "stream",
     "text": [
      "C:\\Users\\myousaf23\\anaconda3\\Lib\\site-packages\\sklearn\\linear_model\\_sag.py:349: ConvergenceWarning: The max_iter was reached which means the coef_ did not converge\n",
      "  warnings.warn(\n"
     ]
    },
    {
     "name": "stdout",
     "output_type": "stream",
     "text": [
      "[CV] END C=10, class_weight=None, max_iter=100, penalty=l1, solver=saga; total time=   2.0s\n"
     ]
    },
    {
     "name": "stderr",
     "output_type": "stream",
     "text": [
      "C:\\Users\\myousaf23\\anaconda3\\Lib\\site-packages\\sklearn\\linear_model\\_sag.py:349: ConvergenceWarning: The max_iter was reached which means the coef_ did not converge\n",
      "  warnings.warn(\n"
     ]
    },
    {
     "name": "stdout",
     "output_type": "stream",
     "text": [
      "[CV] END C=10, class_weight=None, max_iter=100, penalty=l1, solver=saga; total time=   2.1s\n"
     ]
    },
    {
     "name": "stderr",
     "output_type": "stream",
     "text": [
      "C:\\Users\\myousaf23\\anaconda3\\Lib\\site-packages\\sklearn\\linear_model\\_sag.py:349: ConvergenceWarning: The max_iter was reached which means the coef_ did not converge\n",
      "  warnings.warn(\n"
     ]
    },
    {
     "name": "stdout",
     "output_type": "stream",
     "text": [
      "[CV] END C=10, class_weight=None, max_iter=100, penalty=l1, solver=saga; total time=   2.1s\n"
     ]
    },
    {
     "name": "stderr",
     "output_type": "stream",
     "text": [
      "C:\\Users\\myousaf23\\anaconda3\\Lib\\site-packages\\sklearn\\linear_model\\_sag.py:349: ConvergenceWarning: The max_iter was reached which means the coef_ did not converge\n",
      "  warnings.warn(\n"
     ]
    },
    {
     "name": "stdout",
     "output_type": "stream",
     "text": [
      "[CV] END C=10, class_weight=None, max_iter=100, penalty=l1, solver=saga; total time=   2.1s\n",
      "[CV] END C=10, class_weight=None, max_iter=200, penalty=l2, solver=liblinear; total time=   0.5s\n",
      "[CV] END C=10, class_weight=None, max_iter=200, penalty=l2, solver=liblinear; total time=   0.4s\n",
      "[CV] END C=10, class_weight=None, max_iter=200, penalty=l2, solver=liblinear; total time=   0.3s\n",
      "[CV] END C=10, class_weight=None, max_iter=200, penalty=l2, solver=liblinear; total time=   0.4s\n",
      "[CV] END C=10, class_weight=None, max_iter=200, penalty=l2, solver=liblinear; total time=   0.5s\n"
     ]
    },
    {
     "name": "stderr",
     "output_type": "stream",
     "text": [
      "C:\\Users\\myousaf23\\anaconda3\\Lib\\site-packages\\sklearn\\linear_model\\_sag.py:349: ConvergenceWarning: The max_iter was reached which means the coef_ did not converge\n",
      "  warnings.warn(\n"
     ]
    },
    {
     "name": "stdout",
     "output_type": "stream",
     "text": [
      "[CV] END C=10, class_weight=None, max_iter=200, penalty=l2, solver=saga; total time=   2.3s\n"
     ]
    },
    {
     "name": "stderr",
     "output_type": "stream",
     "text": [
      "C:\\Users\\myousaf23\\anaconda3\\Lib\\site-packages\\sklearn\\linear_model\\_sag.py:349: ConvergenceWarning: The max_iter was reached which means the coef_ did not converge\n",
      "  warnings.warn(\n"
     ]
    },
    {
     "name": "stdout",
     "output_type": "stream",
     "text": [
      "[CV] END C=10, class_weight=None, max_iter=200, penalty=l2, solver=saga; total time=   2.4s\n"
     ]
    },
    {
     "name": "stderr",
     "output_type": "stream",
     "text": [
      "C:\\Users\\myousaf23\\anaconda3\\Lib\\site-packages\\sklearn\\linear_model\\_sag.py:349: ConvergenceWarning: The max_iter was reached which means the coef_ did not converge\n",
      "  warnings.warn(\n"
     ]
    },
    {
     "name": "stdout",
     "output_type": "stream",
     "text": [
      "[CV] END C=10, class_weight=None, max_iter=200, penalty=l2, solver=saga; total time=   2.3s\n"
     ]
    },
    {
     "name": "stderr",
     "output_type": "stream",
     "text": [
      "C:\\Users\\myousaf23\\anaconda3\\Lib\\site-packages\\sklearn\\linear_model\\_sag.py:349: ConvergenceWarning: The max_iter was reached which means the coef_ did not converge\n",
      "  warnings.warn(\n"
     ]
    },
    {
     "name": "stdout",
     "output_type": "stream",
     "text": [
      "[CV] END C=10, class_weight=None, max_iter=200, penalty=l2, solver=saga; total time=   2.4s\n"
     ]
    },
    {
     "name": "stderr",
     "output_type": "stream",
     "text": [
      "C:\\Users\\myousaf23\\anaconda3\\Lib\\site-packages\\sklearn\\linear_model\\_sag.py:349: ConvergenceWarning: The max_iter was reached which means the coef_ did not converge\n",
      "  warnings.warn(\n"
     ]
    },
    {
     "name": "stdout",
     "output_type": "stream",
     "text": [
      "[CV] END C=10, class_weight=None, max_iter=200, penalty=l2, solver=saga; total time=   2.3s\n",
      "[CV] END C=10, class_weight=None, max_iter=200, penalty=l1, solver=liblinear; total time=   0.6s\n",
      "[CV] END C=10, class_weight=None, max_iter=200, penalty=l1, solver=liblinear; total time=   1.5s\n",
      "[CV] END C=10, class_weight=None, max_iter=200, penalty=l1, solver=liblinear; total time=   0.6s\n",
      "[CV] END C=10, class_weight=None, max_iter=200, penalty=l1, solver=liblinear; total time=   0.3s\n",
      "[CV] END C=10, class_weight=None, max_iter=200, penalty=l1, solver=liblinear; total time=   0.5s\n"
     ]
    },
    {
     "name": "stderr",
     "output_type": "stream",
     "text": [
      "C:\\Users\\myousaf23\\anaconda3\\Lib\\site-packages\\sklearn\\linear_model\\_sag.py:349: ConvergenceWarning: The max_iter was reached which means the coef_ did not converge\n",
      "  warnings.warn(\n"
     ]
    },
    {
     "name": "stdout",
     "output_type": "stream",
     "text": [
      "[CV] END C=10, class_weight=None, max_iter=200, penalty=l1, solver=saga; total time=   3.9s\n"
     ]
    },
    {
     "name": "stderr",
     "output_type": "stream",
     "text": [
      "C:\\Users\\myousaf23\\anaconda3\\Lib\\site-packages\\sklearn\\linear_model\\_sag.py:349: ConvergenceWarning: The max_iter was reached which means the coef_ did not converge\n",
      "  warnings.warn(\n"
     ]
    },
    {
     "name": "stdout",
     "output_type": "stream",
     "text": [
      "[CV] END C=10, class_weight=None, max_iter=200, penalty=l1, solver=saga; total time=   4.0s\n"
     ]
    },
    {
     "name": "stderr",
     "output_type": "stream",
     "text": [
      "C:\\Users\\myousaf23\\anaconda3\\Lib\\site-packages\\sklearn\\linear_model\\_sag.py:349: ConvergenceWarning: The max_iter was reached which means the coef_ did not converge\n",
      "  warnings.warn(\n"
     ]
    },
    {
     "name": "stdout",
     "output_type": "stream",
     "text": [
      "[CV] END C=10, class_weight=None, max_iter=200, penalty=l1, solver=saga; total time=   4.2s\n"
     ]
    },
    {
     "name": "stderr",
     "output_type": "stream",
     "text": [
      "C:\\Users\\myousaf23\\anaconda3\\Lib\\site-packages\\sklearn\\linear_model\\_sag.py:349: ConvergenceWarning: The max_iter was reached which means the coef_ did not converge\n",
      "  warnings.warn(\n"
     ]
    },
    {
     "name": "stdout",
     "output_type": "stream",
     "text": [
      "[CV] END C=10, class_weight=None, max_iter=200, penalty=l1, solver=saga; total time=   4.2s\n"
     ]
    },
    {
     "name": "stderr",
     "output_type": "stream",
     "text": [
      "C:\\Users\\myousaf23\\anaconda3\\Lib\\site-packages\\sklearn\\linear_model\\_sag.py:349: ConvergenceWarning: The max_iter was reached which means the coef_ did not converge\n",
      "  warnings.warn(\n"
     ]
    },
    {
     "name": "stdout",
     "output_type": "stream",
     "text": [
      "[CV] END C=10, class_weight=None, max_iter=200, penalty=l1, solver=saga; total time=   4.1s\n",
      "[CV] END C=10, class_weight=None, max_iter=500, penalty=l2, solver=liblinear; total time=   0.4s\n",
      "[CV] END C=10, class_weight=None, max_iter=500, penalty=l2, solver=liblinear; total time=   0.6s\n",
      "[CV] END C=10, class_weight=None, max_iter=500, penalty=l2, solver=liblinear; total time=   0.5s\n",
      "[CV] END C=10, class_weight=None, max_iter=500, penalty=l2, solver=liblinear; total time=   0.5s\n",
      "[CV] END C=10, class_weight=None, max_iter=500, penalty=l2, solver=liblinear; total time=   0.5s\n"
     ]
    },
    {
     "name": "stderr",
     "output_type": "stream",
     "text": [
      "C:\\Users\\myousaf23\\anaconda3\\Lib\\site-packages\\sklearn\\linear_model\\_sag.py:349: ConvergenceWarning: The max_iter was reached which means the coef_ did not converge\n",
      "  warnings.warn(\n"
     ]
    },
    {
     "name": "stdout",
     "output_type": "stream",
     "text": [
      "[CV] END C=10, class_weight=None, max_iter=500, penalty=l2, solver=saga; total time=   6.3s\n"
     ]
    },
    {
     "name": "stderr",
     "output_type": "stream",
     "text": [
      "C:\\Users\\myousaf23\\anaconda3\\Lib\\site-packages\\sklearn\\linear_model\\_sag.py:349: ConvergenceWarning: The max_iter was reached which means the coef_ did not converge\n",
      "  warnings.warn(\n"
     ]
    },
    {
     "name": "stdout",
     "output_type": "stream",
     "text": [
      "[CV] END C=10, class_weight=None, max_iter=500, penalty=l2, solver=saga; total time=   6.0s\n"
     ]
    },
    {
     "name": "stderr",
     "output_type": "stream",
     "text": [
      "C:\\Users\\myousaf23\\anaconda3\\Lib\\site-packages\\sklearn\\linear_model\\_sag.py:349: ConvergenceWarning: The max_iter was reached which means the coef_ did not converge\n",
      "  warnings.warn(\n"
     ]
    },
    {
     "name": "stdout",
     "output_type": "stream",
     "text": [
      "[CV] END C=10, class_weight=None, max_iter=500, penalty=l2, solver=saga; total time=   6.5s\n"
     ]
    },
    {
     "name": "stderr",
     "output_type": "stream",
     "text": [
      "C:\\Users\\myousaf23\\anaconda3\\Lib\\site-packages\\sklearn\\linear_model\\_sag.py:349: ConvergenceWarning: The max_iter was reached which means the coef_ did not converge\n",
      "  warnings.warn(\n"
     ]
    },
    {
     "name": "stdout",
     "output_type": "stream",
     "text": [
      "[CV] END C=10, class_weight=None, max_iter=500, penalty=l2, solver=saga; total time=   6.2s\n"
     ]
    },
    {
     "name": "stderr",
     "output_type": "stream",
     "text": [
      "C:\\Users\\myousaf23\\anaconda3\\Lib\\site-packages\\sklearn\\linear_model\\_sag.py:349: ConvergenceWarning: The max_iter was reached which means the coef_ did not converge\n",
      "  warnings.warn(\n"
     ]
    },
    {
     "name": "stdout",
     "output_type": "stream",
     "text": [
      "[CV] END C=10, class_weight=None, max_iter=500, penalty=l2, solver=saga; total time=   6.4s\n",
      "[CV] END C=10, class_weight=None, max_iter=500, penalty=l1, solver=liblinear; total time=   0.5s\n",
      "[CV] END C=10, class_weight=None, max_iter=500, penalty=l1, solver=liblinear; total time=   1.4s\n",
      "[CV] END C=10, class_weight=None, max_iter=500, penalty=l1, solver=liblinear; total time=   0.7s\n",
      "[CV] END C=10, class_weight=None, max_iter=500, penalty=l1, solver=liblinear; total time=   0.5s\n",
      "[CV] END C=10, class_weight=None, max_iter=500, penalty=l1, solver=liblinear; total time=   0.5s\n"
     ]
    },
    {
     "name": "stderr",
     "output_type": "stream",
     "text": [
      "C:\\Users\\myousaf23\\anaconda3\\Lib\\site-packages\\sklearn\\linear_model\\_sag.py:349: ConvergenceWarning: The max_iter was reached which means the coef_ did not converge\n",
      "  warnings.warn(\n"
     ]
    },
    {
     "name": "stdout",
     "output_type": "stream",
     "text": [
      "[CV] END C=10, class_weight=None, max_iter=500, penalty=l1, solver=saga; total time=   9.2s\n"
     ]
    },
    {
     "name": "stderr",
     "output_type": "stream",
     "text": [
      "C:\\Users\\myousaf23\\anaconda3\\Lib\\site-packages\\sklearn\\linear_model\\_sag.py:349: ConvergenceWarning: The max_iter was reached which means the coef_ did not converge\n",
      "  warnings.warn(\n"
     ]
    },
    {
     "name": "stdout",
     "output_type": "stream",
     "text": [
      "[CV] END C=10, class_weight=None, max_iter=500, penalty=l1, solver=saga; total time=   9.1s\n"
     ]
    },
    {
     "name": "stderr",
     "output_type": "stream",
     "text": [
      "C:\\Users\\myousaf23\\anaconda3\\Lib\\site-packages\\sklearn\\linear_model\\_sag.py:349: ConvergenceWarning: The max_iter was reached which means the coef_ did not converge\n",
      "  warnings.warn(\n"
     ]
    },
    {
     "name": "stdout",
     "output_type": "stream",
     "text": [
      "[CV] END C=10, class_weight=None, max_iter=500, penalty=l1, solver=saga; total time=   9.6s\n"
     ]
    },
    {
     "name": "stderr",
     "output_type": "stream",
     "text": [
      "C:\\Users\\myousaf23\\anaconda3\\Lib\\site-packages\\sklearn\\linear_model\\_sag.py:349: ConvergenceWarning: The max_iter was reached which means the coef_ did not converge\n",
      "  warnings.warn(\n"
     ]
    },
    {
     "name": "stdout",
     "output_type": "stream",
     "text": [
      "[CV] END C=10, class_weight=None, max_iter=500, penalty=l1, solver=saga; total time=   9.0s\n"
     ]
    },
    {
     "name": "stderr",
     "output_type": "stream",
     "text": [
      "C:\\Users\\myousaf23\\anaconda3\\Lib\\site-packages\\sklearn\\linear_model\\_sag.py:349: ConvergenceWarning: The max_iter was reached which means the coef_ did not converge\n",
      "  warnings.warn(\n"
     ]
    },
    {
     "name": "stdout",
     "output_type": "stream",
     "text": [
      "[CV] END C=10, class_weight=None, max_iter=500, penalty=l1, solver=saga; total time=   9.4s\n",
      "[CV] END C=10, class_weight=None, max_iter=700, penalty=l2, solver=liblinear; total time=   0.6s\n",
      "[CV] END C=10, class_weight=None, max_iter=700, penalty=l2, solver=liblinear; total time=   0.6s\n",
      "[CV] END C=10, class_weight=None, max_iter=700, penalty=l2, solver=liblinear; total time=   0.5s\n",
      "[CV] END C=10, class_weight=None, max_iter=700, penalty=l2, solver=liblinear; total time=   0.5s\n",
      "[CV] END C=10, class_weight=None, max_iter=700, penalty=l2, solver=liblinear; total time=   0.5s\n"
     ]
    },
    {
     "name": "stderr",
     "output_type": "stream",
     "text": [
      "C:\\Users\\myousaf23\\anaconda3\\Lib\\site-packages\\sklearn\\linear_model\\_sag.py:349: ConvergenceWarning: The max_iter was reached which means the coef_ did not converge\n",
      "  warnings.warn(\n"
     ]
    },
    {
     "name": "stdout",
     "output_type": "stream",
     "text": [
      "[CV] END C=10, class_weight=None, max_iter=700, penalty=l2, solver=saga; total time=   8.8s\n"
     ]
    },
    {
     "name": "stderr",
     "output_type": "stream",
     "text": [
      "C:\\Users\\myousaf23\\anaconda3\\Lib\\site-packages\\sklearn\\linear_model\\_sag.py:349: ConvergenceWarning: The max_iter was reached which means the coef_ did not converge\n",
      "  warnings.warn(\n"
     ]
    },
    {
     "name": "stdout",
     "output_type": "stream",
     "text": [
      "[CV] END C=10, class_weight=None, max_iter=700, penalty=l2, solver=saga; total time=   8.9s\n"
     ]
    },
    {
     "name": "stderr",
     "output_type": "stream",
     "text": [
      "C:\\Users\\myousaf23\\anaconda3\\Lib\\site-packages\\sklearn\\linear_model\\_sag.py:349: ConvergenceWarning: The max_iter was reached which means the coef_ did not converge\n",
      "  warnings.warn(\n"
     ]
    },
    {
     "name": "stdout",
     "output_type": "stream",
     "text": [
      "[CV] END C=10, class_weight=None, max_iter=700, penalty=l2, solver=saga; total time=   8.8s\n"
     ]
    },
    {
     "name": "stderr",
     "output_type": "stream",
     "text": [
      "C:\\Users\\myousaf23\\anaconda3\\Lib\\site-packages\\sklearn\\linear_model\\_sag.py:349: ConvergenceWarning: The max_iter was reached which means the coef_ did not converge\n",
      "  warnings.warn(\n"
     ]
    },
    {
     "name": "stdout",
     "output_type": "stream",
     "text": [
      "[CV] END C=10, class_weight=None, max_iter=700, penalty=l2, solver=saga; total time=   8.6s\n"
     ]
    },
    {
     "name": "stderr",
     "output_type": "stream",
     "text": [
      "C:\\Users\\myousaf23\\anaconda3\\Lib\\site-packages\\sklearn\\linear_model\\_sag.py:349: ConvergenceWarning: The max_iter was reached which means the coef_ did not converge\n",
      "  warnings.warn(\n"
     ]
    },
    {
     "name": "stdout",
     "output_type": "stream",
     "text": [
      "[CV] END C=10, class_weight=None, max_iter=700, penalty=l2, solver=saga; total time=   8.9s\n",
      "[CV] END C=10, class_weight=None, max_iter=700, penalty=l1, solver=liblinear; total time=   0.6s\n",
      "[CV] END C=10, class_weight=None, max_iter=700, penalty=l1, solver=liblinear; total time=   1.4s\n",
      "[CV] END C=10, class_weight=None, max_iter=700, penalty=l1, solver=liblinear; total time=   0.6s\n",
      "[CV] END C=10, class_weight=None, max_iter=700, penalty=l1, solver=liblinear; total time=   0.2s\n",
      "[CV] END C=10, class_weight=None, max_iter=700, penalty=l1, solver=liblinear; total time=   0.5s\n"
     ]
    },
    {
     "name": "stderr",
     "output_type": "stream",
     "text": [
      "C:\\Users\\myousaf23\\anaconda3\\Lib\\site-packages\\sklearn\\linear_model\\_sag.py:349: ConvergenceWarning: The max_iter was reached which means the coef_ did not converge\n",
      "  warnings.warn(\n"
     ]
    },
    {
     "name": "stdout",
     "output_type": "stream",
     "text": [
      "[CV] END C=10, class_weight=None, max_iter=700, penalty=l1, solver=saga; total time=  12.5s\n"
     ]
    },
    {
     "name": "stderr",
     "output_type": "stream",
     "text": [
      "C:\\Users\\myousaf23\\anaconda3\\Lib\\site-packages\\sklearn\\linear_model\\_sag.py:349: ConvergenceWarning: The max_iter was reached which means the coef_ did not converge\n",
      "  warnings.warn(\n"
     ]
    },
    {
     "name": "stdout",
     "output_type": "stream",
     "text": [
      "[CV] END C=10, class_weight=None, max_iter=700, penalty=l1, solver=saga; total time=  12.9s\n"
     ]
    },
    {
     "name": "stderr",
     "output_type": "stream",
     "text": [
      "C:\\Users\\myousaf23\\anaconda3\\Lib\\site-packages\\sklearn\\linear_model\\_sag.py:349: ConvergenceWarning: The max_iter was reached which means the coef_ did not converge\n",
      "  warnings.warn(\n"
     ]
    },
    {
     "name": "stdout",
     "output_type": "stream",
     "text": [
      "[CV] END C=10, class_weight=None, max_iter=700, penalty=l1, solver=saga; total time=  13.2s\n"
     ]
    },
    {
     "name": "stderr",
     "output_type": "stream",
     "text": [
      "C:\\Users\\myousaf23\\anaconda3\\Lib\\site-packages\\sklearn\\linear_model\\_sag.py:349: ConvergenceWarning: The max_iter was reached which means the coef_ did not converge\n",
      "  warnings.warn(\n"
     ]
    },
    {
     "name": "stdout",
     "output_type": "stream",
     "text": [
      "[CV] END C=10, class_weight=None, max_iter=700, penalty=l1, solver=saga; total time=  13.1s\n"
     ]
    },
    {
     "name": "stderr",
     "output_type": "stream",
     "text": [
      "C:\\Users\\myousaf23\\anaconda3\\Lib\\site-packages\\sklearn\\linear_model\\_sag.py:349: ConvergenceWarning: The max_iter was reached which means the coef_ did not converge\n",
      "  warnings.warn(\n"
     ]
    },
    {
     "name": "stdout",
     "output_type": "stream",
     "text": [
      "[CV] END C=10, class_weight=None, max_iter=700, penalty=l1, solver=saga; total time=  12.8s\n",
      "[CV] END C=10, class_weight=None, max_iter=1000, penalty=l2, solver=liblinear; total time=   0.6s\n",
      "[CV] END C=10, class_weight=None, max_iter=1000, penalty=l2, solver=liblinear; total time=   0.6s\n",
      "[CV] END C=10, class_weight=None, max_iter=1000, penalty=l2, solver=liblinear; total time=   0.5s\n",
      "[CV] END C=10, class_weight=None, max_iter=1000, penalty=l2, solver=liblinear; total time=   0.4s\n",
      "[CV] END C=10, class_weight=None, max_iter=1000, penalty=l2, solver=liblinear; total time=   0.5s\n"
     ]
    },
    {
     "name": "stderr",
     "output_type": "stream",
     "text": [
      "C:\\Users\\myousaf23\\anaconda3\\Lib\\site-packages\\sklearn\\linear_model\\_sag.py:349: ConvergenceWarning: The max_iter was reached which means the coef_ did not converge\n",
      "  warnings.warn(\n"
     ]
    },
    {
     "name": "stdout",
     "output_type": "stream",
     "text": [
      "[CV] END C=10, class_weight=None, max_iter=1000, penalty=l2, solver=saga; total time=  12.3s\n"
     ]
    },
    {
     "name": "stderr",
     "output_type": "stream",
     "text": [
      "C:\\Users\\myousaf23\\anaconda3\\Lib\\site-packages\\sklearn\\linear_model\\_sag.py:349: ConvergenceWarning: The max_iter was reached which means the coef_ did not converge\n",
      "  warnings.warn(\n"
     ]
    },
    {
     "name": "stdout",
     "output_type": "stream",
     "text": [
      "[CV] END C=10, class_weight=None, max_iter=1000, penalty=l2, solver=saga; total time=  12.9s\n"
     ]
    },
    {
     "name": "stderr",
     "output_type": "stream",
     "text": [
      "C:\\Users\\myousaf23\\anaconda3\\Lib\\site-packages\\sklearn\\linear_model\\_sag.py:349: ConvergenceWarning: The max_iter was reached which means the coef_ did not converge\n",
      "  warnings.warn(\n"
     ]
    },
    {
     "name": "stdout",
     "output_type": "stream",
     "text": [
      "[CV] END C=10, class_weight=None, max_iter=1000, penalty=l2, solver=saga; total time=  13.0s\n"
     ]
    },
    {
     "name": "stderr",
     "output_type": "stream",
     "text": [
      "C:\\Users\\myousaf23\\anaconda3\\Lib\\site-packages\\sklearn\\linear_model\\_sag.py:349: ConvergenceWarning: The max_iter was reached which means the coef_ did not converge\n",
      "  warnings.warn(\n"
     ]
    },
    {
     "name": "stdout",
     "output_type": "stream",
     "text": [
      "[CV] END C=10, class_weight=None, max_iter=1000, penalty=l2, solver=saga; total time=  12.0s\n"
     ]
    },
    {
     "name": "stderr",
     "output_type": "stream",
     "text": [
      "C:\\Users\\myousaf23\\anaconda3\\Lib\\site-packages\\sklearn\\linear_model\\_sag.py:349: ConvergenceWarning: The max_iter was reached which means the coef_ did not converge\n",
      "  warnings.warn(\n"
     ]
    },
    {
     "name": "stdout",
     "output_type": "stream",
     "text": [
      "[CV] END C=10, class_weight=None, max_iter=1000, penalty=l2, solver=saga; total time=  12.7s\n",
      "[CV] END C=10, class_weight=None, max_iter=1000, penalty=l1, solver=liblinear; total time=   0.6s\n",
      "[CV] END C=10, class_weight=None, max_iter=1000, penalty=l1, solver=liblinear; total time=   1.6s\n",
      "[CV] END C=10, class_weight=None, max_iter=1000, penalty=l1, solver=liblinear; total time=   0.6s\n",
      "[CV] END C=10, class_weight=None, max_iter=1000, penalty=l1, solver=liblinear; total time=   0.5s\n",
      "[CV] END C=10, class_weight=None, max_iter=1000, penalty=l1, solver=liblinear; total time=   0.5s\n"
     ]
    },
    {
     "name": "stderr",
     "output_type": "stream",
     "text": [
      "C:\\Users\\myousaf23\\anaconda3\\Lib\\site-packages\\sklearn\\linear_model\\_sag.py:349: ConvergenceWarning: The max_iter was reached which means the coef_ did not converge\n",
      "  warnings.warn(\n"
     ]
    },
    {
     "name": "stdout",
     "output_type": "stream",
     "text": [
      "[CV] END C=10, class_weight=None, max_iter=1000, penalty=l1, solver=saga; total time=  17.8s\n"
     ]
    },
    {
     "name": "stderr",
     "output_type": "stream",
     "text": [
      "C:\\Users\\myousaf23\\anaconda3\\Lib\\site-packages\\sklearn\\linear_model\\_sag.py:349: ConvergenceWarning: The max_iter was reached which means the coef_ did not converge\n",
      "  warnings.warn(\n"
     ]
    },
    {
     "name": "stdout",
     "output_type": "stream",
     "text": [
      "[CV] END C=10, class_weight=None, max_iter=1000, penalty=l1, solver=saga; total time=  17.7s\n"
     ]
    },
    {
     "name": "stderr",
     "output_type": "stream",
     "text": [
      "C:\\Users\\myousaf23\\anaconda3\\Lib\\site-packages\\sklearn\\linear_model\\_sag.py:349: ConvergenceWarning: The max_iter was reached which means the coef_ did not converge\n",
      "  warnings.warn(\n"
     ]
    },
    {
     "name": "stdout",
     "output_type": "stream",
     "text": [
      "[CV] END C=10, class_weight=None, max_iter=1000, penalty=l1, solver=saga; total time=  18.1s\n"
     ]
    },
    {
     "name": "stderr",
     "output_type": "stream",
     "text": [
      "C:\\Users\\myousaf23\\anaconda3\\Lib\\site-packages\\sklearn\\linear_model\\_sag.py:349: ConvergenceWarning: The max_iter was reached which means the coef_ did not converge\n",
      "  warnings.warn(\n"
     ]
    },
    {
     "name": "stdout",
     "output_type": "stream",
     "text": [
      "[CV] END C=10, class_weight=None, max_iter=1000, penalty=l1, solver=saga; total time=  17.8s\n"
     ]
    },
    {
     "name": "stderr",
     "output_type": "stream",
     "text": [
      "C:\\Users\\myousaf23\\anaconda3\\Lib\\site-packages\\sklearn\\linear_model\\_sag.py:349: ConvergenceWarning: The max_iter was reached which means the coef_ did not converge\n",
      "  warnings.warn(\n"
     ]
    },
    {
     "name": "stdout",
     "output_type": "stream",
     "text": [
      "[CV] END C=10, class_weight=None, max_iter=1000, penalty=l1, solver=saga; total time=  17.7s\n",
      "[CV] END C=10, class_weight=balanced, max_iter=100, penalty=l2, solver=liblinear; total time=   0.6s\n",
      "[CV] END C=10, class_weight=balanced, max_iter=100, penalty=l2, solver=liblinear; total time=   0.6s\n",
      "[CV] END C=10, class_weight=balanced, max_iter=100, penalty=l2, solver=liblinear; total time=   0.5s\n",
      "[CV] END C=10, class_weight=balanced, max_iter=100, penalty=l2, solver=liblinear; total time=   0.5s\n",
      "[CV] END C=10, class_weight=balanced, max_iter=100, penalty=l2, solver=liblinear; total time=   0.5s\n"
     ]
    },
    {
     "name": "stderr",
     "output_type": "stream",
     "text": [
      "C:\\Users\\myousaf23\\anaconda3\\Lib\\site-packages\\sklearn\\linear_model\\_sag.py:349: ConvergenceWarning: The max_iter was reached which means the coef_ did not converge\n",
      "  warnings.warn(\n"
     ]
    },
    {
     "name": "stdout",
     "output_type": "stream",
     "text": [
      "[CV] END C=10, class_weight=balanced, max_iter=100, penalty=l2, solver=saga; total time=   1.2s\n"
     ]
    },
    {
     "name": "stderr",
     "output_type": "stream",
     "text": [
      "C:\\Users\\myousaf23\\anaconda3\\Lib\\site-packages\\sklearn\\linear_model\\_sag.py:349: ConvergenceWarning: The max_iter was reached which means the coef_ did not converge\n",
      "  warnings.warn(\n"
     ]
    },
    {
     "name": "stdout",
     "output_type": "stream",
     "text": [
      "[CV] END C=10, class_weight=balanced, max_iter=100, penalty=l2, solver=saga; total time=   1.2s\n"
     ]
    },
    {
     "name": "stderr",
     "output_type": "stream",
     "text": [
      "C:\\Users\\myousaf23\\anaconda3\\Lib\\site-packages\\sklearn\\linear_model\\_sag.py:349: ConvergenceWarning: The max_iter was reached which means the coef_ did not converge\n",
      "  warnings.warn(\n"
     ]
    },
    {
     "name": "stdout",
     "output_type": "stream",
     "text": [
      "[CV] END C=10, class_weight=balanced, max_iter=100, penalty=l2, solver=saga; total time=   1.3s\n"
     ]
    },
    {
     "name": "stderr",
     "output_type": "stream",
     "text": [
      "C:\\Users\\myousaf23\\anaconda3\\Lib\\site-packages\\sklearn\\linear_model\\_sag.py:349: ConvergenceWarning: The max_iter was reached which means the coef_ did not converge\n",
      "  warnings.warn(\n"
     ]
    },
    {
     "name": "stdout",
     "output_type": "stream",
     "text": [
      "[CV] END C=10, class_weight=balanced, max_iter=100, penalty=l2, solver=saga; total time=   1.2s\n"
     ]
    },
    {
     "name": "stderr",
     "output_type": "stream",
     "text": [
      "C:\\Users\\myousaf23\\anaconda3\\Lib\\site-packages\\sklearn\\linear_model\\_sag.py:349: ConvergenceWarning: The max_iter was reached which means the coef_ did not converge\n",
      "  warnings.warn(\n"
     ]
    },
    {
     "name": "stdout",
     "output_type": "stream",
     "text": [
      "[CV] END C=10, class_weight=balanced, max_iter=100, penalty=l2, solver=saga; total time=   1.1s\n",
      "[CV] END C=10, class_weight=balanced, max_iter=100, penalty=l1, solver=liblinear; total time=   0.5s\n",
      "[CV] END C=10, class_weight=balanced, max_iter=100, penalty=l1, solver=liblinear; total time=   1.4s\n",
      "[CV] END C=10, class_weight=balanced, max_iter=100, penalty=l1, solver=liblinear; total time=   0.6s\n",
      "[CV] END C=10, class_weight=balanced, max_iter=100, penalty=l1, solver=liblinear; total time=   0.5s\n",
      "[CV] END C=10, class_weight=balanced, max_iter=100, penalty=l1, solver=liblinear; total time=   0.5s\n"
     ]
    },
    {
     "name": "stderr",
     "output_type": "stream",
     "text": [
      "C:\\Users\\myousaf23\\anaconda3\\Lib\\site-packages\\sklearn\\linear_model\\_sag.py:349: ConvergenceWarning: The max_iter was reached which means the coef_ did not converge\n",
      "  warnings.warn(\n"
     ]
    },
    {
     "name": "stdout",
     "output_type": "stream",
     "text": [
      "[CV] END C=10, class_weight=balanced, max_iter=100, penalty=l1, solver=saga; total time=   2.1s\n"
     ]
    },
    {
     "name": "stderr",
     "output_type": "stream",
     "text": [
      "C:\\Users\\myousaf23\\anaconda3\\Lib\\site-packages\\sklearn\\linear_model\\_sag.py:349: ConvergenceWarning: The max_iter was reached which means the coef_ did not converge\n",
      "  warnings.warn(\n"
     ]
    },
    {
     "name": "stdout",
     "output_type": "stream",
     "text": [
      "[CV] END C=10, class_weight=balanced, max_iter=100, penalty=l1, solver=saga; total time=   2.0s\n"
     ]
    },
    {
     "name": "stderr",
     "output_type": "stream",
     "text": [
      "C:\\Users\\myousaf23\\anaconda3\\Lib\\site-packages\\sklearn\\linear_model\\_sag.py:349: ConvergenceWarning: The max_iter was reached which means the coef_ did not converge\n",
      "  warnings.warn(\n"
     ]
    },
    {
     "name": "stdout",
     "output_type": "stream",
     "text": [
      "[CV] END C=10, class_weight=balanced, max_iter=100, penalty=l1, solver=saga; total time=   2.0s\n"
     ]
    },
    {
     "name": "stderr",
     "output_type": "stream",
     "text": [
      "C:\\Users\\myousaf23\\anaconda3\\Lib\\site-packages\\sklearn\\linear_model\\_sag.py:349: ConvergenceWarning: The max_iter was reached which means the coef_ did not converge\n",
      "  warnings.warn(\n"
     ]
    },
    {
     "name": "stdout",
     "output_type": "stream",
     "text": [
      "[CV] END C=10, class_weight=balanced, max_iter=100, penalty=l1, solver=saga; total time=   1.9s\n"
     ]
    },
    {
     "name": "stderr",
     "output_type": "stream",
     "text": [
      "C:\\Users\\myousaf23\\anaconda3\\Lib\\site-packages\\sklearn\\linear_model\\_sag.py:349: ConvergenceWarning: The max_iter was reached which means the coef_ did not converge\n",
      "  warnings.warn(\n"
     ]
    },
    {
     "name": "stdout",
     "output_type": "stream",
     "text": [
      "[CV] END C=10, class_weight=balanced, max_iter=100, penalty=l1, solver=saga; total time=   2.0s\n",
      "[CV] END C=10, class_weight=balanced, max_iter=200, penalty=l2, solver=liblinear; total time=   0.6s\n",
      "[CV] END C=10, class_weight=balanced, max_iter=200, penalty=l2, solver=liblinear; total time=   0.6s\n",
      "[CV] END C=10, class_weight=balanced, max_iter=200, penalty=l2, solver=liblinear; total time=   0.5s\n",
      "[CV] END C=10, class_weight=balanced, max_iter=200, penalty=l2, solver=liblinear; total time=   0.5s\n",
      "[CV] END C=10, class_weight=balanced, max_iter=200, penalty=l2, solver=liblinear; total time=   0.5s\n"
     ]
    },
    {
     "name": "stderr",
     "output_type": "stream",
     "text": [
      "C:\\Users\\myousaf23\\anaconda3\\Lib\\site-packages\\sklearn\\linear_model\\_sag.py:349: ConvergenceWarning: The max_iter was reached which means the coef_ did not converge\n",
      "  warnings.warn(\n"
     ]
    },
    {
     "name": "stdout",
     "output_type": "stream",
     "text": [
      "[CV] END C=10, class_weight=balanced, max_iter=200, penalty=l2, solver=saga; total time=   2.3s\n"
     ]
    },
    {
     "name": "stderr",
     "output_type": "stream",
     "text": [
      "C:\\Users\\myousaf23\\anaconda3\\Lib\\site-packages\\sklearn\\linear_model\\_sag.py:349: ConvergenceWarning: The max_iter was reached which means the coef_ did not converge\n",
      "  warnings.warn(\n"
     ]
    },
    {
     "name": "stdout",
     "output_type": "stream",
     "text": [
      "[CV] END C=10, class_weight=balanced, max_iter=200, penalty=l2, solver=saga; total time=   2.4s\n"
     ]
    },
    {
     "name": "stderr",
     "output_type": "stream",
     "text": [
      "C:\\Users\\myousaf23\\anaconda3\\Lib\\site-packages\\sklearn\\linear_model\\_sag.py:349: ConvergenceWarning: The max_iter was reached which means the coef_ did not converge\n",
      "  warnings.warn(\n"
     ]
    },
    {
     "name": "stdout",
     "output_type": "stream",
     "text": [
      "[CV] END C=10, class_weight=balanced, max_iter=200, penalty=l2, solver=saga; total time=   2.4s\n"
     ]
    },
    {
     "name": "stderr",
     "output_type": "stream",
     "text": [
      "C:\\Users\\myousaf23\\anaconda3\\Lib\\site-packages\\sklearn\\linear_model\\_sag.py:349: ConvergenceWarning: The max_iter was reached which means the coef_ did not converge\n",
      "  warnings.warn(\n"
     ]
    },
    {
     "name": "stdout",
     "output_type": "stream",
     "text": [
      "[CV] END C=10, class_weight=balanced, max_iter=200, penalty=l2, solver=saga; total time=   2.4s\n"
     ]
    },
    {
     "name": "stderr",
     "output_type": "stream",
     "text": [
      "C:\\Users\\myousaf23\\anaconda3\\Lib\\site-packages\\sklearn\\linear_model\\_sag.py:349: ConvergenceWarning: The max_iter was reached which means the coef_ did not converge\n",
      "  warnings.warn(\n"
     ]
    },
    {
     "name": "stdout",
     "output_type": "stream",
     "text": [
      "[CV] END C=10, class_weight=balanced, max_iter=200, penalty=l2, solver=saga; total time=   2.4s\n",
      "[CV] END C=10, class_weight=balanced, max_iter=200, penalty=l1, solver=liblinear; total time=   0.6s\n",
      "[CV] END C=10, class_weight=balanced, max_iter=200, penalty=l1, solver=liblinear; total time=   1.5s\n",
      "[CV] END C=10, class_weight=balanced, max_iter=200, penalty=l1, solver=liblinear; total time=   0.6s\n",
      "[CV] END C=10, class_weight=balanced, max_iter=200, penalty=l1, solver=liblinear; total time=   0.8s\n",
      "[CV] END C=10, class_weight=balanced, max_iter=200, penalty=l1, solver=liblinear; total time=   0.5s\n"
     ]
    },
    {
     "name": "stderr",
     "output_type": "stream",
     "text": [
      "C:\\Users\\myousaf23\\anaconda3\\Lib\\site-packages\\sklearn\\linear_model\\_sag.py:349: ConvergenceWarning: The max_iter was reached which means the coef_ did not converge\n",
      "  warnings.warn(\n"
     ]
    },
    {
     "name": "stdout",
     "output_type": "stream",
     "text": [
      "[CV] END C=10, class_weight=balanced, max_iter=200, penalty=l1, solver=saga; total time=   3.9s\n"
     ]
    },
    {
     "name": "stderr",
     "output_type": "stream",
     "text": [
      "C:\\Users\\myousaf23\\anaconda3\\Lib\\site-packages\\sklearn\\linear_model\\_sag.py:349: ConvergenceWarning: The max_iter was reached which means the coef_ did not converge\n",
      "  warnings.warn(\n"
     ]
    },
    {
     "name": "stdout",
     "output_type": "stream",
     "text": [
      "[CV] END C=10, class_weight=balanced, max_iter=200, penalty=l1, solver=saga; total time=   3.9s\n"
     ]
    },
    {
     "name": "stderr",
     "output_type": "stream",
     "text": [
      "C:\\Users\\myousaf23\\anaconda3\\Lib\\site-packages\\sklearn\\linear_model\\_sag.py:349: ConvergenceWarning: The max_iter was reached which means the coef_ did not converge\n",
      "  warnings.warn(\n"
     ]
    },
    {
     "name": "stdout",
     "output_type": "stream",
     "text": [
      "[CV] END C=10, class_weight=balanced, max_iter=200, penalty=l1, solver=saga; total time=   4.1s\n"
     ]
    },
    {
     "name": "stderr",
     "output_type": "stream",
     "text": [
      "C:\\Users\\myousaf23\\anaconda3\\Lib\\site-packages\\sklearn\\linear_model\\_sag.py:349: ConvergenceWarning: The max_iter was reached which means the coef_ did not converge\n",
      "  warnings.warn(\n"
     ]
    },
    {
     "name": "stdout",
     "output_type": "stream",
     "text": [
      "[CV] END C=10, class_weight=balanced, max_iter=200, penalty=l1, solver=saga; total time=   3.9s\n"
     ]
    },
    {
     "name": "stderr",
     "output_type": "stream",
     "text": [
      "C:\\Users\\myousaf23\\anaconda3\\Lib\\site-packages\\sklearn\\linear_model\\_sag.py:349: ConvergenceWarning: The max_iter was reached which means the coef_ did not converge\n",
      "  warnings.warn(\n"
     ]
    },
    {
     "name": "stdout",
     "output_type": "stream",
     "text": [
      "[CV] END C=10, class_weight=balanced, max_iter=200, penalty=l1, solver=saga; total time=   4.1s\n",
      "[CV] END C=10, class_weight=balanced, max_iter=500, penalty=l2, solver=liblinear; total time=   0.5s\n",
      "[CV] END C=10, class_weight=balanced, max_iter=500, penalty=l2, solver=liblinear; total time=   0.5s\n",
      "[CV] END C=10, class_weight=balanced, max_iter=500, penalty=l2, solver=liblinear; total time=   0.5s\n",
      "[CV] END C=10, class_weight=balanced, max_iter=500, penalty=l2, solver=liblinear; total time=   0.5s\n",
      "[CV] END C=10, class_weight=balanced, max_iter=500, penalty=l2, solver=liblinear; total time=   0.5s\n"
     ]
    },
    {
     "name": "stderr",
     "output_type": "stream",
     "text": [
      "C:\\Users\\myousaf23\\anaconda3\\Lib\\site-packages\\sklearn\\linear_model\\_sag.py:349: ConvergenceWarning: The max_iter was reached which means the coef_ did not converge\n",
      "  warnings.warn(\n"
     ]
    },
    {
     "name": "stdout",
     "output_type": "stream",
     "text": [
      "[CV] END C=10, class_weight=balanced, max_iter=500, penalty=l2, solver=saga; total time=   6.3s\n"
     ]
    },
    {
     "name": "stderr",
     "output_type": "stream",
     "text": [
      "C:\\Users\\myousaf23\\anaconda3\\Lib\\site-packages\\sklearn\\linear_model\\_sag.py:349: ConvergenceWarning: The max_iter was reached which means the coef_ did not converge\n",
      "  warnings.warn(\n"
     ]
    },
    {
     "name": "stdout",
     "output_type": "stream",
     "text": [
      "[CV] END C=10, class_weight=balanced, max_iter=500, penalty=l2, solver=saga; total time=   6.1s\n"
     ]
    },
    {
     "name": "stderr",
     "output_type": "stream",
     "text": [
      "C:\\Users\\myousaf23\\anaconda3\\Lib\\site-packages\\sklearn\\linear_model\\_sag.py:349: ConvergenceWarning: The max_iter was reached which means the coef_ did not converge\n",
      "  warnings.warn(\n"
     ]
    },
    {
     "name": "stdout",
     "output_type": "stream",
     "text": [
      "[CV] END C=10, class_weight=balanced, max_iter=500, penalty=l2, solver=saga; total time=   6.5s\n"
     ]
    },
    {
     "name": "stderr",
     "output_type": "stream",
     "text": [
      "C:\\Users\\myousaf23\\anaconda3\\Lib\\site-packages\\sklearn\\linear_model\\_sag.py:349: ConvergenceWarning: The max_iter was reached which means the coef_ did not converge\n",
      "  warnings.warn(\n"
     ]
    },
    {
     "name": "stdout",
     "output_type": "stream",
     "text": [
      "[CV] END C=10, class_weight=balanced, max_iter=500, penalty=l2, solver=saga; total time=   6.3s\n"
     ]
    },
    {
     "name": "stderr",
     "output_type": "stream",
     "text": [
      "C:\\Users\\myousaf23\\anaconda3\\Lib\\site-packages\\sklearn\\linear_model\\_sag.py:349: ConvergenceWarning: The max_iter was reached which means the coef_ did not converge\n",
      "  warnings.warn(\n"
     ]
    },
    {
     "name": "stdout",
     "output_type": "stream",
     "text": [
      "[CV] END C=10, class_weight=balanced, max_iter=500, penalty=l2, solver=saga; total time=   6.4s\n",
      "[CV] END C=10, class_weight=balanced, max_iter=500, penalty=l1, solver=liblinear; total time=   0.6s\n",
      "[CV] END C=10, class_weight=balanced, max_iter=500, penalty=l1, solver=liblinear; total time=   1.4s\n",
      "[CV] END C=10, class_weight=balanced, max_iter=500, penalty=l1, solver=liblinear; total time=   0.6s\n",
      "[CV] END C=10, class_weight=balanced, max_iter=500, penalty=l1, solver=liblinear; total time=   0.6s\n",
      "[CV] END C=10, class_weight=balanced, max_iter=500, penalty=l1, solver=liblinear; total time=   0.5s\n"
     ]
    },
    {
     "name": "stderr",
     "output_type": "stream",
     "text": [
      "C:\\Users\\myousaf23\\anaconda3\\Lib\\site-packages\\sklearn\\linear_model\\_sag.py:349: ConvergenceWarning: The max_iter was reached which means the coef_ did not converge\n",
      "  warnings.warn(\n"
     ]
    },
    {
     "name": "stdout",
     "output_type": "stream",
     "text": [
      "[CV] END C=10, class_weight=balanced, max_iter=500, penalty=l1, solver=saga; total time=   9.4s\n"
     ]
    },
    {
     "name": "stderr",
     "output_type": "stream",
     "text": [
      "C:\\Users\\myousaf23\\anaconda3\\Lib\\site-packages\\sklearn\\linear_model\\_sag.py:349: ConvergenceWarning: The max_iter was reached which means the coef_ did not converge\n",
      "  warnings.warn(\n"
     ]
    },
    {
     "name": "stdout",
     "output_type": "stream",
     "text": [
      "[CV] END C=10, class_weight=balanced, max_iter=500, penalty=l1, solver=saga; total time=   9.9s\n"
     ]
    },
    {
     "name": "stderr",
     "output_type": "stream",
     "text": [
      "C:\\Users\\myousaf23\\anaconda3\\Lib\\site-packages\\sklearn\\linear_model\\_sag.py:349: ConvergenceWarning: The max_iter was reached which means the coef_ did not converge\n",
      "  warnings.warn(\n"
     ]
    },
    {
     "name": "stdout",
     "output_type": "stream",
     "text": [
      "[CV] END C=10, class_weight=balanced, max_iter=500, penalty=l1, solver=saga; total time=   9.6s\n"
     ]
    },
    {
     "name": "stderr",
     "output_type": "stream",
     "text": [
      "C:\\Users\\myousaf23\\anaconda3\\Lib\\site-packages\\sklearn\\linear_model\\_sag.py:349: ConvergenceWarning: The max_iter was reached which means the coef_ did not converge\n",
      "  warnings.warn(\n"
     ]
    },
    {
     "name": "stdout",
     "output_type": "stream",
     "text": [
      "[CV] END C=10, class_weight=balanced, max_iter=500, penalty=l1, solver=saga; total time=  10.0s\n"
     ]
    },
    {
     "name": "stderr",
     "output_type": "stream",
     "text": [
      "C:\\Users\\myousaf23\\anaconda3\\Lib\\site-packages\\sklearn\\linear_model\\_sag.py:349: ConvergenceWarning: The max_iter was reached which means the coef_ did not converge\n",
      "  warnings.warn(\n"
     ]
    },
    {
     "name": "stdout",
     "output_type": "stream",
     "text": [
      "[CV] END C=10, class_weight=balanced, max_iter=500, penalty=l1, solver=saga; total time=   9.9s\n",
      "[CV] END C=10, class_weight=balanced, max_iter=700, penalty=l2, solver=liblinear; total time=   0.6s\n",
      "[CV] END C=10, class_weight=balanced, max_iter=700, penalty=l2, solver=liblinear; total time=   0.6s\n",
      "[CV] END C=10, class_weight=balanced, max_iter=700, penalty=l2, solver=liblinear; total time=   0.3s\n",
      "[CV] END C=10, class_weight=balanced, max_iter=700, penalty=l2, solver=liblinear; total time=   0.4s\n",
      "[CV] END C=10, class_weight=balanced, max_iter=700, penalty=l2, solver=liblinear; total time=   0.4s\n"
     ]
    },
    {
     "name": "stderr",
     "output_type": "stream",
     "text": [
      "C:\\Users\\myousaf23\\anaconda3\\Lib\\site-packages\\sklearn\\linear_model\\_sag.py:349: ConvergenceWarning: The max_iter was reached which means the coef_ did not converge\n",
      "  warnings.warn(\n"
     ]
    },
    {
     "name": "stdout",
     "output_type": "stream",
     "text": [
      "[CV] END C=10, class_weight=balanced, max_iter=700, penalty=l2, solver=saga; total time=   8.6s\n"
     ]
    },
    {
     "name": "stderr",
     "output_type": "stream",
     "text": [
      "C:\\Users\\myousaf23\\anaconda3\\Lib\\site-packages\\sklearn\\linear_model\\_sag.py:349: ConvergenceWarning: The max_iter was reached which means the coef_ did not converge\n",
      "  warnings.warn(\n"
     ]
    },
    {
     "name": "stdout",
     "output_type": "stream",
     "text": [
      "[CV] END C=10, class_weight=balanced, max_iter=700, penalty=l2, solver=saga; total time=   8.7s\n"
     ]
    },
    {
     "name": "stderr",
     "output_type": "stream",
     "text": [
      "C:\\Users\\myousaf23\\anaconda3\\Lib\\site-packages\\sklearn\\linear_model\\_sag.py:349: ConvergenceWarning: The max_iter was reached which means the coef_ did not converge\n",
      "  warnings.warn(\n"
     ]
    },
    {
     "name": "stdout",
     "output_type": "stream",
     "text": [
      "[CV] END C=10, class_weight=balanced, max_iter=700, penalty=l2, solver=saga; total time=   9.0s\n"
     ]
    },
    {
     "name": "stderr",
     "output_type": "stream",
     "text": [
      "C:\\Users\\myousaf23\\anaconda3\\Lib\\site-packages\\sklearn\\linear_model\\_sag.py:349: ConvergenceWarning: The max_iter was reached which means the coef_ did not converge\n",
      "  warnings.warn(\n"
     ]
    },
    {
     "name": "stdout",
     "output_type": "stream",
     "text": [
      "[CV] END C=10, class_weight=balanced, max_iter=700, penalty=l2, solver=saga; total time=   9.0s\n"
     ]
    },
    {
     "name": "stderr",
     "output_type": "stream",
     "text": [
      "C:\\Users\\myousaf23\\anaconda3\\Lib\\site-packages\\sklearn\\linear_model\\_sag.py:349: ConvergenceWarning: The max_iter was reached which means the coef_ did not converge\n",
      "  warnings.warn(\n"
     ]
    },
    {
     "name": "stdout",
     "output_type": "stream",
     "text": [
      "[CV] END C=10, class_weight=balanced, max_iter=700, penalty=l2, solver=saga; total time=   8.8s\n",
      "[CV] END C=10, class_weight=balanced, max_iter=700, penalty=l1, solver=liblinear; total time=   0.5s\n",
      "[CV] END C=10, class_weight=balanced, max_iter=700, penalty=l1, solver=liblinear; total time=   1.5s\n",
      "[CV] END C=10, class_weight=balanced, max_iter=700, penalty=l1, solver=liblinear; total time=   0.6s\n",
      "[CV] END C=10, class_weight=balanced, max_iter=700, penalty=l1, solver=liblinear; total time=   0.6s\n",
      "[CV] END C=10, class_weight=balanced, max_iter=700, penalty=l1, solver=liblinear; total time=   0.5s\n"
     ]
    },
    {
     "name": "stderr",
     "output_type": "stream",
     "text": [
      "C:\\Users\\myousaf23\\anaconda3\\Lib\\site-packages\\sklearn\\linear_model\\_sag.py:349: ConvergenceWarning: The max_iter was reached which means the coef_ did not converge\n",
      "  warnings.warn(\n"
     ]
    },
    {
     "name": "stdout",
     "output_type": "stream",
     "text": [
      "[CV] END C=10, class_weight=balanced, max_iter=700, penalty=l1, solver=saga; total time=  13.1s\n"
     ]
    },
    {
     "name": "stderr",
     "output_type": "stream",
     "text": [
      "C:\\Users\\myousaf23\\anaconda3\\Lib\\site-packages\\sklearn\\linear_model\\_sag.py:349: ConvergenceWarning: The max_iter was reached which means the coef_ did not converge\n",
      "  warnings.warn(\n"
     ]
    },
    {
     "name": "stdout",
     "output_type": "stream",
     "text": [
      "[CV] END C=10, class_weight=balanced, max_iter=700, penalty=l1, solver=saga; total time=  13.1s\n"
     ]
    },
    {
     "name": "stderr",
     "output_type": "stream",
     "text": [
      "C:\\Users\\myousaf23\\anaconda3\\Lib\\site-packages\\sklearn\\linear_model\\_sag.py:349: ConvergenceWarning: The max_iter was reached which means the coef_ did not converge\n",
      "  warnings.warn(\n"
     ]
    },
    {
     "name": "stdout",
     "output_type": "stream",
     "text": [
      "[CV] END C=10, class_weight=balanced, max_iter=700, penalty=l1, solver=saga; total time=  13.4s\n"
     ]
    },
    {
     "name": "stderr",
     "output_type": "stream",
     "text": [
      "C:\\Users\\myousaf23\\anaconda3\\Lib\\site-packages\\sklearn\\linear_model\\_sag.py:349: ConvergenceWarning: The max_iter was reached which means the coef_ did not converge\n",
      "  warnings.warn(\n"
     ]
    },
    {
     "name": "stdout",
     "output_type": "stream",
     "text": [
      "[CV] END C=10, class_weight=balanced, max_iter=700, penalty=l1, solver=saga; total time=  12.8s\n"
     ]
    },
    {
     "name": "stderr",
     "output_type": "stream",
     "text": [
      "C:\\Users\\myousaf23\\anaconda3\\Lib\\site-packages\\sklearn\\linear_model\\_sag.py:349: ConvergenceWarning: The max_iter was reached which means the coef_ did not converge\n",
      "  warnings.warn(\n"
     ]
    },
    {
     "name": "stdout",
     "output_type": "stream",
     "text": [
      "[CV] END C=10, class_weight=balanced, max_iter=700, penalty=l1, solver=saga; total time=  12.9s\n",
      "[CV] END C=10, class_weight=balanced, max_iter=1000, penalty=l2, solver=liblinear; total time=   0.6s\n",
      "[CV] END C=10, class_weight=balanced, max_iter=1000, penalty=l2, solver=liblinear; total time=   0.4s\n",
      "[CV] END C=10, class_weight=balanced, max_iter=1000, penalty=l2, solver=liblinear; total time=   0.4s\n",
      "[CV] END C=10, class_weight=balanced, max_iter=1000, penalty=l2, solver=liblinear; total time=   0.5s\n",
      "[CV] END C=10, class_weight=balanced, max_iter=1000, penalty=l2, solver=liblinear; total time=   0.5s\n"
     ]
    },
    {
     "name": "stderr",
     "output_type": "stream",
     "text": [
      "C:\\Users\\myousaf23\\anaconda3\\Lib\\site-packages\\sklearn\\linear_model\\_sag.py:349: ConvergenceWarning: The max_iter was reached which means the coef_ did not converge\n",
      "  warnings.warn(\n"
     ]
    },
    {
     "name": "stdout",
     "output_type": "stream",
     "text": [
      "[CV] END C=10, class_weight=balanced, max_iter=1000, penalty=l2, solver=saga; total time=  13.0s\n"
     ]
    },
    {
     "name": "stderr",
     "output_type": "stream",
     "text": [
      "C:\\Users\\myousaf23\\anaconda3\\Lib\\site-packages\\sklearn\\linear_model\\_sag.py:349: ConvergenceWarning: The max_iter was reached which means the coef_ did not converge\n",
      "  warnings.warn(\n"
     ]
    },
    {
     "name": "stdout",
     "output_type": "stream",
     "text": [
      "[CV] END C=10, class_weight=balanced, max_iter=1000, penalty=l2, solver=saga; total time=  12.9s\n"
     ]
    },
    {
     "name": "stderr",
     "output_type": "stream",
     "text": [
      "C:\\Users\\myousaf23\\anaconda3\\Lib\\site-packages\\sklearn\\linear_model\\_sag.py:349: ConvergenceWarning: The max_iter was reached which means the coef_ did not converge\n",
      "  warnings.warn(\n"
     ]
    },
    {
     "name": "stdout",
     "output_type": "stream",
     "text": [
      "[CV] END C=10, class_weight=balanced, max_iter=1000, penalty=l2, solver=saga; total time=  12.6s\n"
     ]
    },
    {
     "name": "stderr",
     "output_type": "stream",
     "text": [
      "C:\\Users\\myousaf23\\anaconda3\\Lib\\site-packages\\sklearn\\linear_model\\_sag.py:349: ConvergenceWarning: The max_iter was reached which means the coef_ did not converge\n",
      "  warnings.warn(\n"
     ]
    },
    {
     "name": "stdout",
     "output_type": "stream",
     "text": [
      "[CV] END C=10, class_weight=balanced, max_iter=1000, penalty=l2, solver=saga; total time=  13.1s\n"
     ]
    },
    {
     "name": "stderr",
     "output_type": "stream",
     "text": [
      "C:\\Users\\myousaf23\\anaconda3\\Lib\\site-packages\\sklearn\\linear_model\\_sag.py:349: ConvergenceWarning: The max_iter was reached which means the coef_ did not converge\n",
      "  warnings.warn(\n"
     ]
    },
    {
     "name": "stdout",
     "output_type": "stream",
     "text": [
      "[CV] END C=10, class_weight=balanced, max_iter=1000, penalty=l2, solver=saga; total time=  13.5s\n",
      "[CV] END C=10, class_weight=balanced, max_iter=1000, penalty=l1, solver=liblinear; total time=   0.6s\n",
      "[CV] END C=10, class_weight=balanced, max_iter=1000, penalty=l1, solver=liblinear; total time=   1.4s\n",
      "[CV] END C=10, class_weight=balanced, max_iter=1000, penalty=l1, solver=liblinear; total time=   0.6s\n",
      "[CV] END C=10, class_weight=balanced, max_iter=1000, penalty=l1, solver=liblinear; total time=   0.5s\n",
      "[CV] END C=10, class_weight=balanced, max_iter=1000, penalty=l1, solver=liblinear; total time=   0.5s\n"
     ]
    },
    {
     "name": "stderr",
     "output_type": "stream",
     "text": [
      "C:\\Users\\myousaf23\\anaconda3\\Lib\\site-packages\\sklearn\\linear_model\\_sag.py:349: ConvergenceWarning: The max_iter was reached which means the coef_ did not converge\n",
      "  warnings.warn(\n"
     ]
    },
    {
     "name": "stdout",
     "output_type": "stream",
     "text": [
      "[CV] END C=10, class_weight=balanced, max_iter=1000, penalty=l1, solver=saga; total time=  18.3s\n"
     ]
    },
    {
     "name": "stderr",
     "output_type": "stream",
     "text": [
      "C:\\Users\\myousaf23\\anaconda3\\Lib\\site-packages\\sklearn\\linear_model\\_sag.py:349: ConvergenceWarning: The max_iter was reached which means the coef_ did not converge\n",
      "  warnings.warn(\n"
     ]
    },
    {
     "name": "stdout",
     "output_type": "stream",
     "text": [
      "[CV] END C=10, class_weight=balanced, max_iter=1000, penalty=l1, solver=saga; total time=  18.9s\n"
     ]
    },
    {
     "name": "stderr",
     "output_type": "stream",
     "text": [
      "C:\\Users\\myousaf23\\anaconda3\\Lib\\site-packages\\sklearn\\linear_model\\_sag.py:349: ConvergenceWarning: The max_iter was reached which means the coef_ did not converge\n",
      "  warnings.warn(\n"
     ]
    },
    {
     "name": "stdout",
     "output_type": "stream",
     "text": [
      "[CV] END C=10, class_weight=balanced, max_iter=1000, penalty=l1, solver=saga; total time=  18.1s\n"
     ]
    },
    {
     "name": "stderr",
     "output_type": "stream",
     "text": [
      "C:\\Users\\myousaf23\\anaconda3\\Lib\\site-packages\\sklearn\\linear_model\\_sag.py:349: ConvergenceWarning: The max_iter was reached which means the coef_ did not converge\n",
      "  warnings.warn(\n"
     ]
    },
    {
     "name": "stdout",
     "output_type": "stream",
     "text": [
      "[CV] END C=10, class_weight=balanced, max_iter=1000, penalty=l1, solver=saga; total time=  17.7s\n"
     ]
    },
    {
     "name": "stderr",
     "output_type": "stream",
     "text": [
      "C:\\Users\\myousaf23\\anaconda3\\Lib\\site-packages\\sklearn\\linear_model\\_sag.py:349: ConvergenceWarning: The max_iter was reached which means the coef_ did not converge\n",
      "  warnings.warn(\n"
     ]
    },
    {
     "name": "stdout",
     "output_type": "stream",
     "text": [
      "[CV] END C=10, class_weight=balanced, max_iter=1000, penalty=l1, solver=saga; total time=  18.2s\n",
      "[CV] END C=100, class_weight=None, max_iter=100, penalty=l2, solver=liblinear; total time=   0.9s\n",
      "[CV] END C=100, class_weight=None, max_iter=100, penalty=l2, solver=liblinear; total time=   1.1s\n",
      "[CV] END C=100, class_weight=None, max_iter=100, penalty=l2, solver=liblinear; total time=   1.1s\n",
      "[CV] END C=100, class_weight=None, max_iter=100, penalty=l2, solver=liblinear; total time=   0.8s\n",
      "[CV] END C=100, class_weight=None, max_iter=100, penalty=l2, solver=liblinear; total time=   1.0s\n"
     ]
    },
    {
     "name": "stderr",
     "output_type": "stream",
     "text": [
      "C:\\Users\\myousaf23\\anaconda3\\Lib\\site-packages\\sklearn\\linear_model\\_sag.py:349: ConvergenceWarning: The max_iter was reached which means the coef_ did not converge\n",
      "  warnings.warn(\n"
     ]
    },
    {
     "name": "stdout",
     "output_type": "stream",
     "text": [
      "[CV] END C=100, class_weight=None, max_iter=100, penalty=l2, solver=saga; total time=   1.3s\n"
     ]
    },
    {
     "name": "stderr",
     "output_type": "stream",
     "text": [
      "C:\\Users\\myousaf23\\anaconda3\\Lib\\site-packages\\sklearn\\linear_model\\_sag.py:349: ConvergenceWarning: The max_iter was reached which means the coef_ did not converge\n",
      "  warnings.warn(\n"
     ]
    },
    {
     "name": "stdout",
     "output_type": "stream",
     "text": [
      "[CV] END C=100, class_weight=None, max_iter=100, penalty=l2, solver=saga; total time=   1.2s\n"
     ]
    },
    {
     "name": "stderr",
     "output_type": "stream",
     "text": [
      "C:\\Users\\myousaf23\\anaconda3\\Lib\\site-packages\\sklearn\\linear_model\\_sag.py:349: ConvergenceWarning: The max_iter was reached which means the coef_ did not converge\n",
      "  warnings.warn(\n"
     ]
    },
    {
     "name": "stdout",
     "output_type": "stream",
     "text": [
      "[CV] END C=100, class_weight=None, max_iter=100, penalty=l2, solver=saga; total time=   1.3s\n"
     ]
    },
    {
     "name": "stderr",
     "output_type": "stream",
     "text": [
      "C:\\Users\\myousaf23\\anaconda3\\Lib\\site-packages\\sklearn\\linear_model\\_sag.py:349: ConvergenceWarning: The max_iter was reached which means the coef_ did not converge\n",
      "  warnings.warn(\n"
     ]
    },
    {
     "name": "stdout",
     "output_type": "stream",
     "text": [
      "[CV] END C=100, class_weight=None, max_iter=100, penalty=l2, solver=saga; total time=   1.2s\n"
     ]
    },
    {
     "name": "stderr",
     "output_type": "stream",
     "text": [
      "C:\\Users\\myousaf23\\anaconda3\\Lib\\site-packages\\sklearn\\linear_model\\_sag.py:349: ConvergenceWarning: The max_iter was reached which means the coef_ did not converge\n",
      "  warnings.warn(\n"
     ]
    },
    {
     "name": "stdout",
     "output_type": "stream",
     "text": [
      "[CV] END C=100, class_weight=None, max_iter=100, penalty=l2, solver=saga; total time=   1.2s\n",
      "[CV] END C=100, class_weight=None, max_iter=100, penalty=l1, solver=liblinear; total time=   0.6s\n",
      "[CV] END C=100, class_weight=None, max_iter=100, penalty=l1, solver=liblinear; total time=   0.8s\n",
      "[CV] END C=100, class_weight=None, max_iter=100, penalty=l1, solver=liblinear; total time=   0.8s\n",
      "[CV] END C=100, class_weight=None, max_iter=100, penalty=l1, solver=liblinear; total time=   0.6s\n",
      "[CV] END C=100, class_weight=None, max_iter=100, penalty=l1, solver=liblinear; total time=   0.5s\n"
     ]
    },
    {
     "name": "stderr",
     "output_type": "stream",
     "text": [
      "C:\\Users\\myousaf23\\anaconda3\\Lib\\site-packages\\sklearn\\linear_model\\_sag.py:349: ConvergenceWarning: The max_iter was reached which means the coef_ did not converge\n",
      "  warnings.warn(\n"
     ]
    },
    {
     "name": "stdout",
     "output_type": "stream",
     "text": [
      "[CV] END C=100, class_weight=None, max_iter=100, penalty=l1, solver=saga; total time=   2.1s\n"
     ]
    },
    {
     "name": "stderr",
     "output_type": "stream",
     "text": [
      "C:\\Users\\myousaf23\\anaconda3\\Lib\\site-packages\\sklearn\\linear_model\\_sag.py:349: ConvergenceWarning: The max_iter was reached which means the coef_ did not converge\n",
      "  warnings.warn(\n"
     ]
    },
    {
     "name": "stdout",
     "output_type": "stream",
     "text": [
      "[CV] END C=100, class_weight=None, max_iter=100, penalty=l1, solver=saga; total time=   2.1s\n"
     ]
    },
    {
     "name": "stderr",
     "output_type": "stream",
     "text": [
      "C:\\Users\\myousaf23\\anaconda3\\Lib\\site-packages\\sklearn\\linear_model\\_sag.py:349: ConvergenceWarning: The max_iter was reached which means the coef_ did not converge\n",
      "  warnings.warn(\n"
     ]
    },
    {
     "name": "stdout",
     "output_type": "stream",
     "text": [
      "[CV] END C=100, class_weight=None, max_iter=100, penalty=l1, solver=saga; total time=   2.0s\n"
     ]
    },
    {
     "name": "stderr",
     "output_type": "stream",
     "text": [
      "C:\\Users\\myousaf23\\anaconda3\\Lib\\site-packages\\sklearn\\linear_model\\_sag.py:349: ConvergenceWarning: The max_iter was reached which means the coef_ did not converge\n",
      "  warnings.warn(\n"
     ]
    },
    {
     "name": "stdout",
     "output_type": "stream",
     "text": [
      "[CV] END C=100, class_weight=None, max_iter=100, penalty=l1, solver=saga; total time=   2.1s\n"
     ]
    },
    {
     "name": "stderr",
     "output_type": "stream",
     "text": [
      "C:\\Users\\myousaf23\\anaconda3\\Lib\\site-packages\\sklearn\\linear_model\\_sag.py:349: ConvergenceWarning: The max_iter was reached which means the coef_ did not converge\n",
      "  warnings.warn(\n"
     ]
    },
    {
     "name": "stdout",
     "output_type": "stream",
     "text": [
      "[CV] END C=100, class_weight=None, max_iter=100, penalty=l1, solver=saga; total time=   2.1s\n",
      "[CV] END C=100, class_weight=None, max_iter=200, penalty=l2, solver=liblinear; total time=   0.8s\n",
      "[CV] END C=100, class_weight=None, max_iter=200, penalty=l2, solver=liblinear; total time=   1.0s\n",
      "[CV] END C=100, class_weight=None, max_iter=200, penalty=l2, solver=liblinear; total time=   1.1s\n",
      "[CV] END C=100, class_weight=None, max_iter=200, penalty=l2, solver=liblinear; total time=   0.8s\n",
      "[CV] END C=100, class_weight=None, max_iter=200, penalty=l2, solver=liblinear; total time=   0.8s\n"
     ]
    },
    {
     "name": "stderr",
     "output_type": "stream",
     "text": [
      "C:\\Users\\myousaf23\\anaconda3\\Lib\\site-packages\\sklearn\\linear_model\\_sag.py:349: ConvergenceWarning: The max_iter was reached which means the coef_ did not converge\n",
      "  warnings.warn(\n"
     ]
    },
    {
     "name": "stdout",
     "output_type": "stream",
     "text": [
      "[CV] END C=100, class_weight=None, max_iter=200, penalty=l2, solver=saga; total time=   2.5s\n"
     ]
    },
    {
     "name": "stderr",
     "output_type": "stream",
     "text": [
      "C:\\Users\\myousaf23\\anaconda3\\Lib\\site-packages\\sklearn\\linear_model\\_sag.py:349: ConvergenceWarning: The max_iter was reached which means the coef_ did not converge\n",
      "  warnings.warn(\n"
     ]
    },
    {
     "name": "stdout",
     "output_type": "stream",
     "text": [
      "[CV] END C=100, class_weight=None, max_iter=200, penalty=l2, solver=saga; total time=   2.4s\n"
     ]
    },
    {
     "name": "stderr",
     "output_type": "stream",
     "text": [
      "C:\\Users\\myousaf23\\anaconda3\\Lib\\site-packages\\sklearn\\linear_model\\_sag.py:349: ConvergenceWarning: The max_iter was reached which means the coef_ did not converge\n",
      "  warnings.warn(\n"
     ]
    },
    {
     "name": "stdout",
     "output_type": "stream",
     "text": [
      "[CV] END C=100, class_weight=None, max_iter=200, penalty=l2, solver=saga; total time=   2.4s\n"
     ]
    },
    {
     "name": "stderr",
     "output_type": "stream",
     "text": [
      "C:\\Users\\myousaf23\\anaconda3\\Lib\\site-packages\\sklearn\\linear_model\\_sag.py:349: ConvergenceWarning: The max_iter was reached which means the coef_ did not converge\n",
      "  warnings.warn(\n"
     ]
    },
    {
     "name": "stdout",
     "output_type": "stream",
     "text": [
      "[CV] END C=100, class_weight=None, max_iter=200, penalty=l2, solver=saga; total time=   2.6s\n"
     ]
    },
    {
     "name": "stderr",
     "output_type": "stream",
     "text": [
      "C:\\Users\\myousaf23\\anaconda3\\Lib\\site-packages\\sklearn\\linear_model\\_sag.py:349: ConvergenceWarning: The max_iter was reached which means the coef_ did not converge\n",
      "  warnings.warn(\n"
     ]
    },
    {
     "name": "stdout",
     "output_type": "stream",
     "text": [
      "[CV] END C=100, class_weight=None, max_iter=200, penalty=l2, solver=saga; total time=   2.6s\n",
      "[CV] END C=100, class_weight=None, max_iter=200, penalty=l1, solver=liblinear; total time=   0.5s\n",
      "[CV] END C=100, class_weight=None, max_iter=200, penalty=l1, solver=liblinear; total time=   0.9s\n",
      "[CV] END C=100, class_weight=None, max_iter=200, penalty=l1, solver=liblinear; total time=   1.5s\n",
      "[CV] END C=100, class_weight=None, max_iter=200, penalty=l1, solver=liblinear; total time=   1.0s\n",
      "[CV] END C=100, class_weight=None, max_iter=200, penalty=l1, solver=liblinear; total time=   0.6s\n"
     ]
    },
    {
     "name": "stderr",
     "output_type": "stream",
     "text": [
      "C:\\Users\\myousaf23\\anaconda3\\Lib\\site-packages\\sklearn\\linear_model\\_sag.py:349: ConvergenceWarning: The max_iter was reached which means the coef_ did not converge\n",
      "  warnings.warn(\n"
     ]
    },
    {
     "name": "stdout",
     "output_type": "stream",
     "text": [
      "[CV] END C=100, class_weight=None, max_iter=200, penalty=l1, solver=saga; total time=   4.1s\n"
     ]
    },
    {
     "name": "stderr",
     "output_type": "stream",
     "text": [
      "C:\\Users\\myousaf23\\anaconda3\\Lib\\site-packages\\sklearn\\linear_model\\_sag.py:349: ConvergenceWarning: The max_iter was reached which means the coef_ did not converge\n",
      "  warnings.warn(\n"
     ]
    },
    {
     "name": "stdout",
     "output_type": "stream",
     "text": [
      "[CV] END C=100, class_weight=None, max_iter=200, penalty=l1, solver=saga; total time=   3.9s\n"
     ]
    },
    {
     "name": "stderr",
     "output_type": "stream",
     "text": [
      "C:\\Users\\myousaf23\\anaconda3\\Lib\\site-packages\\sklearn\\linear_model\\_sag.py:349: ConvergenceWarning: The max_iter was reached which means the coef_ did not converge\n",
      "  warnings.warn(\n"
     ]
    },
    {
     "name": "stdout",
     "output_type": "stream",
     "text": [
      "[CV] END C=100, class_weight=None, max_iter=200, penalty=l1, solver=saga; total time=   4.1s\n"
     ]
    },
    {
     "name": "stderr",
     "output_type": "stream",
     "text": [
      "C:\\Users\\myousaf23\\anaconda3\\Lib\\site-packages\\sklearn\\linear_model\\_sag.py:349: ConvergenceWarning: The max_iter was reached which means the coef_ did not converge\n",
      "  warnings.warn(\n"
     ]
    },
    {
     "name": "stdout",
     "output_type": "stream",
     "text": [
      "[CV] END C=100, class_weight=None, max_iter=200, penalty=l1, solver=saga; total time=   4.4s\n"
     ]
    },
    {
     "name": "stderr",
     "output_type": "stream",
     "text": [
      "C:\\Users\\myousaf23\\anaconda3\\Lib\\site-packages\\sklearn\\linear_model\\_sag.py:349: ConvergenceWarning: The max_iter was reached which means the coef_ did not converge\n",
      "  warnings.warn(\n"
     ]
    },
    {
     "name": "stdout",
     "output_type": "stream",
     "text": [
      "[CV] END C=100, class_weight=None, max_iter=200, penalty=l1, solver=saga; total time=   4.3s\n",
      "[CV] END C=100, class_weight=None, max_iter=500, penalty=l2, solver=liblinear; total time=   0.8s\n",
      "[CV] END C=100, class_weight=None, max_iter=500, penalty=l2, solver=liblinear; total time=   1.1s\n",
      "[CV] END C=100, class_weight=None, max_iter=500, penalty=l2, solver=liblinear; total time=   1.1s\n",
      "[CV] END C=100, class_weight=None, max_iter=500, penalty=l2, solver=liblinear; total time=   0.8s\n",
      "[CV] END C=100, class_weight=None, max_iter=500, penalty=l2, solver=liblinear; total time=   0.9s\n"
     ]
    },
    {
     "name": "stderr",
     "output_type": "stream",
     "text": [
      "C:\\Users\\myousaf23\\anaconda3\\Lib\\site-packages\\sklearn\\linear_model\\_sag.py:349: ConvergenceWarning: The max_iter was reached which means the coef_ did not converge\n",
      "  warnings.warn(\n"
     ]
    },
    {
     "name": "stdout",
     "output_type": "stream",
     "text": [
      "[CV] END C=100, class_weight=None, max_iter=500, penalty=l2, solver=saga; total time=   6.3s\n"
     ]
    },
    {
     "name": "stderr",
     "output_type": "stream",
     "text": [
      "C:\\Users\\myousaf23\\anaconda3\\Lib\\site-packages\\sklearn\\linear_model\\_sag.py:349: ConvergenceWarning: The max_iter was reached which means the coef_ did not converge\n",
      "  warnings.warn(\n"
     ]
    },
    {
     "name": "stdout",
     "output_type": "stream",
     "text": [
      "[CV] END C=100, class_weight=None, max_iter=500, penalty=l2, solver=saga; total time=   6.3s\n"
     ]
    },
    {
     "name": "stderr",
     "output_type": "stream",
     "text": [
      "C:\\Users\\myousaf23\\anaconda3\\Lib\\site-packages\\sklearn\\linear_model\\_sag.py:349: ConvergenceWarning: The max_iter was reached which means the coef_ did not converge\n",
      "  warnings.warn(\n"
     ]
    },
    {
     "name": "stdout",
     "output_type": "stream",
     "text": [
      "[CV] END C=100, class_weight=None, max_iter=500, penalty=l2, solver=saga; total time=   6.3s\n"
     ]
    },
    {
     "name": "stderr",
     "output_type": "stream",
     "text": [
      "C:\\Users\\myousaf23\\anaconda3\\Lib\\site-packages\\sklearn\\linear_model\\_sag.py:349: ConvergenceWarning: The max_iter was reached which means the coef_ did not converge\n",
      "  warnings.warn(\n"
     ]
    },
    {
     "name": "stdout",
     "output_type": "stream",
     "text": [
      "[CV] END C=100, class_weight=None, max_iter=500, penalty=l2, solver=saga; total time=   6.4s\n"
     ]
    },
    {
     "name": "stderr",
     "output_type": "stream",
     "text": [
      "C:\\Users\\myousaf23\\anaconda3\\Lib\\site-packages\\sklearn\\linear_model\\_sag.py:349: ConvergenceWarning: The max_iter was reached which means the coef_ did not converge\n",
      "  warnings.warn(\n"
     ]
    },
    {
     "name": "stdout",
     "output_type": "stream",
     "text": [
      "[CV] END C=100, class_weight=None, max_iter=500, penalty=l2, solver=saga; total time=   6.4s\n",
      "[CV] END C=100, class_weight=None, max_iter=500, penalty=l1, solver=liblinear; total time=   0.4s\n",
      "[CV] END C=100, class_weight=None, max_iter=500, penalty=l1, solver=liblinear; total time=   0.9s\n",
      "[CV] END C=100, class_weight=None, max_iter=500, penalty=l1, solver=liblinear; total time=   0.7s\n",
      "[CV] END C=100, class_weight=None, max_iter=500, penalty=l1, solver=liblinear; total time=   0.6s\n",
      "[CV] END C=100, class_weight=None, max_iter=500, penalty=l1, solver=liblinear; total time=   0.5s\n"
     ]
    },
    {
     "name": "stderr",
     "output_type": "stream",
     "text": [
      "C:\\Users\\myousaf23\\anaconda3\\Lib\\site-packages\\sklearn\\linear_model\\_sag.py:349: ConvergenceWarning: The max_iter was reached which means the coef_ did not converge\n",
      "  warnings.warn(\n"
     ]
    },
    {
     "name": "stdout",
     "output_type": "stream",
     "text": [
      "[CV] END C=100, class_weight=None, max_iter=500, penalty=l1, solver=saga; total time=  10.2s\n"
     ]
    },
    {
     "name": "stderr",
     "output_type": "stream",
     "text": [
      "C:\\Users\\myousaf23\\anaconda3\\Lib\\site-packages\\sklearn\\linear_model\\_sag.py:349: ConvergenceWarning: The max_iter was reached which means the coef_ did not converge\n",
      "  warnings.warn(\n"
     ]
    },
    {
     "name": "stdout",
     "output_type": "stream",
     "text": [
      "[CV] END C=100, class_weight=None, max_iter=500, penalty=l1, solver=saga; total time=  10.6s\n"
     ]
    },
    {
     "name": "stderr",
     "output_type": "stream",
     "text": [
      "C:\\Users\\myousaf23\\anaconda3\\Lib\\site-packages\\sklearn\\linear_model\\_sag.py:349: ConvergenceWarning: The max_iter was reached which means the coef_ did not converge\n",
      "  warnings.warn(\n"
     ]
    },
    {
     "name": "stdout",
     "output_type": "stream",
     "text": [
      "[CV] END C=100, class_weight=None, max_iter=500, penalty=l1, solver=saga; total time=  10.0s\n"
     ]
    },
    {
     "name": "stderr",
     "output_type": "stream",
     "text": [
      "C:\\Users\\myousaf23\\anaconda3\\Lib\\site-packages\\sklearn\\linear_model\\_sag.py:349: ConvergenceWarning: The max_iter was reached which means the coef_ did not converge\n",
      "  warnings.warn(\n"
     ]
    },
    {
     "name": "stdout",
     "output_type": "stream",
     "text": [
      "[CV] END C=100, class_weight=None, max_iter=500, penalty=l1, solver=saga; total time=  10.9s\n"
     ]
    },
    {
     "name": "stderr",
     "output_type": "stream",
     "text": [
      "C:\\Users\\myousaf23\\anaconda3\\Lib\\site-packages\\sklearn\\linear_model\\_sag.py:349: ConvergenceWarning: The max_iter was reached which means the coef_ did not converge\n",
      "  warnings.warn(\n"
     ]
    },
    {
     "name": "stdout",
     "output_type": "stream",
     "text": [
      "[CV] END C=100, class_weight=None, max_iter=500, penalty=l1, solver=saga; total time=  10.4s\n",
      "[CV] END C=100, class_weight=None, max_iter=700, penalty=l2, solver=liblinear; total time=   0.7s\n",
      "[CV] END C=100, class_weight=None, max_iter=700, penalty=l2, solver=liblinear; total time=   1.1s\n",
      "[CV] END C=100, class_weight=None, max_iter=700, penalty=l2, solver=liblinear; total time=   1.1s\n",
      "[CV] END C=100, class_weight=None, max_iter=700, penalty=l2, solver=liblinear; total time=   0.8s\n",
      "[CV] END C=100, class_weight=None, max_iter=700, penalty=l2, solver=liblinear; total time=   0.8s\n"
     ]
    },
    {
     "name": "stderr",
     "output_type": "stream",
     "text": [
      "C:\\Users\\myousaf23\\anaconda3\\Lib\\site-packages\\sklearn\\linear_model\\_sag.py:349: ConvergenceWarning: The max_iter was reached which means the coef_ did not converge\n",
      "  warnings.warn(\n"
     ]
    },
    {
     "name": "stdout",
     "output_type": "stream",
     "text": [
      "[CV] END C=100, class_weight=None, max_iter=700, penalty=l2, solver=saga; total time=   8.8s\n"
     ]
    },
    {
     "name": "stderr",
     "output_type": "stream",
     "text": [
      "C:\\Users\\myousaf23\\anaconda3\\Lib\\site-packages\\sklearn\\linear_model\\_sag.py:349: ConvergenceWarning: The max_iter was reached which means the coef_ did not converge\n",
      "  warnings.warn(\n"
     ]
    },
    {
     "name": "stdout",
     "output_type": "stream",
     "text": [
      "[CV] END C=100, class_weight=None, max_iter=700, penalty=l2, solver=saga; total time=   8.9s\n"
     ]
    },
    {
     "name": "stderr",
     "output_type": "stream",
     "text": [
      "C:\\Users\\myousaf23\\anaconda3\\Lib\\site-packages\\sklearn\\linear_model\\_sag.py:349: ConvergenceWarning: The max_iter was reached which means the coef_ did not converge\n",
      "  warnings.warn(\n"
     ]
    },
    {
     "name": "stdout",
     "output_type": "stream",
     "text": [
      "[CV] END C=100, class_weight=None, max_iter=700, penalty=l2, solver=saga; total time=   9.1s\n"
     ]
    },
    {
     "name": "stderr",
     "output_type": "stream",
     "text": [
      "C:\\Users\\myousaf23\\anaconda3\\Lib\\site-packages\\sklearn\\linear_model\\_sag.py:349: ConvergenceWarning: The max_iter was reached which means the coef_ did not converge\n",
      "  warnings.warn(\n"
     ]
    },
    {
     "name": "stdout",
     "output_type": "stream",
     "text": [
      "[CV] END C=100, class_weight=None, max_iter=700, penalty=l2, solver=saga; total time=   9.2s\n"
     ]
    },
    {
     "name": "stderr",
     "output_type": "stream",
     "text": [
      "C:\\Users\\myousaf23\\anaconda3\\Lib\\site-packages\\sklearn\\linear_model\\_sag.py:349: ConvergenceWarning: The max_iter was reached which means the coef_ did not converge\n",
      "  warnings.warn(\n"
     ]
    },
    {
     "name": "stdout",
     "output_type": "stream",
     "text": [
      "[CV] END C=100, class_weight=None, max_iter=700, penalty=l2, solver=saga; total time=   9.0s\n",
      "[CV] END C=100, class_weight=None, max_iter=700, penalty=l1, solver=liblinear; total time=   0.8s\n",
      "[CV] END C=100, class_weight=None, max_iter=700, penalty=l1, solver=liblinear; total time=   1.7s\n",
      "[CV] END C=100, class_weight=None, max_iter=700, penalty=l1, solver=liblinear; total time=   0.7s\n",
      "[CV] END C=100, class_weight=None, max_iter=700, penalty=l1, solver=liblinear; total time=   0.6s\n",
      "[CV] END C=100, class_weight=None, max_iter=700, penalty=l1, solver=liblinear; total time=   0.6s\n"
     ]
    },
    {
     "name": "stderr",
     "output_type": "stream",
     "text": [
      "C:\\Users\\myousaf23\\anaconda3\\Lib\\site-packages\\sklearn\\linear_model\\_sag.py:349: ConvergenceWarning: The max_iter was reached which means the coef_ did not converge\n",
      "  warnings.warn(\n"
     ]
    },
    {
     "name": "stdout",
     "output_type": "stream",
     "text": [
      "[CV] END C=100, class_weight=None, max_iter=700, penalty=l1, solver=saga; total time=  14.7s\n"
     ]
    },
    {
     "name": "stderr",
     "output_type": "stream",
     "text": [
      "C:\\Users\\myousaf23\\anaconda3\\Lib\\site-packages\\sklearn\\linear_model\\_sag.py:349: ConvergenceWarning: The max_iter was reached which means the coef_ did not converge\n",
      "  warnings.warn(\n"
     ]
    },
    {
     "name": "stdout",
     "output_type": "stream",
     "text": [
      "[CV] END C=100, class_weight=None, max_iter=700, penalty=l1, solver=saga; total time=  14.9s\n"
     ]
    },
    {
     "name": "stderr",
     "output_type": "stream",
     "text": [
      "C:\\Users\\myousaf23\\anaconda3\\Lib\\site-packages\\sklearn\\linear_model\\_sag.py:349: ConvergenceWarning: The max_iter was reached which means the coef_ did not converge\n",
      "  warnings.warn(\n"
     ]
    },
    {
     "name": "stdout",
     "output_type": "stream",
     "text": [
      "[CV] END C=100, class_weight=None, max_iter=700, penalty=l1, solver=saga; total time=  15.6s\n"
     ]
    },
    {
     "name": "stderr",
     "output_type": "stream",
     "text": [
      "C:\\Users\\myousaf23\\anaconda3\\Lib\\site-packages\\sklearn\\linear_model\\_sag.py:349: ConvergenceWarning: The max_iter was reached which means the coef_ did not converge\n",
      "  warnings.warn(\n"
     ]
    },
    {
     "name": "stdout",
     "output_type": "stream",
     "text": [
      "[CV] END C=100, class_weight=None, max_iter=700, penalty=l1, solver=saga; total time=  14.7s\n"
     ]
    },
    {
     "name": "stderr",
     "output_type": "stream",
     "text": [
      "C:\\Users\\myousaf23\\anaconda3\\Lib\\site-packages\\sklearn\\linear_model\\_sag.py:349: ConvergenceWarning: The max_iter was reached which means the coef_ did not converge\n",
      "  warnings.warn(\n"
     ]
    },
    {
     "name": "stdout",
     "output_type": "stream",
     "text": [
      "[CV] END C=100, class_weight=None, max_iter=700, penalty=l1, solver=saga; total time=  15.0s\n",
      "[CV] END C=100, class_weight=None, max_iter=1000, penalty=l2, solver=liblinear; total time=   0.7s\n",
      "[CV] END C=100, class_weight=None, max_iter=1000, penalty=l2, solver=liblinear; total time=   1.1s\n",
      "[CV] END C=100, class_weight=None, max_iter=1000, penalty=l2, solver=liblinear; total time=   1.1s\n",
      "[CV] END C=100, class_weight=None, max_iter=1000, penalty=l2, solver=liblinear; total time=   0.5s\n",
      "[CV] END C=100, class_weight=None, max_iter=1000, penalty=l2, solver=liblinear; total time=   0.7s\n"
     ]
    },
    {
     "name": "stderr",
     "output_type": "stream",
     "text": [
      "C:\\Users\\myousaf23\\anaconda3\\Lib\\site-packages\\sklearn\\linear_model\\_sag.py:349: ConvergenceWarning: The max_iter was reached which means the coef_ did not converge\n",
      "  warnings.warn(\n"
     ]
    },
    {
     "name": "stdout",
     "output_type": "stream",
     "text": [
      "[CV] END C=100, class_weight=None, max_iter=1000, penalty=l2, solver=saga; total time=  13.3s\n"
     ]
    },
    {
     "name": "stderr",
     "output_type": "stream",
     "text": [
      "C:\\Users\\myousaf23\\anaconda3\\Lib\\site-packages\\sklearn\\linear_model\\_sag.py:349: ConvergenceWarning: The max_iter was reached which means the coef_ did not converge\n",
      "  warnings.warn(\n"
     ]
    },
    {
     "name": "stdout",
     "output_type": "stream",
     "text": [
      "[CV] END C=100, class_weight=None, max_iter=1000, penalty=l2, solver=saga; total time=  13.0s\n"
     ]
    },
    {
     "name": "stderr",
     "output_type": "stream",
     "text": [
      "C:\\Users\\myousaf23\\anaconda3\\Lib\\site-packages\\sklearn\\linear_model\\_sag.py:349: ConvergenceWarning: The max_iter was reached which means the coef_ did not converge\n",
      "  warnings.warn(\n"
     ]
    },
    {
     "name": "stdout",
     "output_type": "stream",
     "text": [
      "[CV] END C=100, class_weight=None, max_iter=1000, penalty=l2, solver=saga; total time=  13.3s\n"
     ]
    },
    {
     "name": "stderr",
     "output_type": "stream",
     "text": [
      "C:\\Users\\myousaf23\\anaconda3\\Lib\\site-packages\\sklearn\\linear_model\\_sag.py:349: ConvergenceWarning: The max_iter was reached which means the coef_ did not converge\n",
      "  warnings.warn(\n"
     ]
    },
    {
     "name": "stdout",
     "output_type": "stream",
     "text": [
      "[CV] END C=100, class_weight=None, max_iter=1000, penalty=l2, solver=saga; total time=  12.8s\n"
     ]
    },
    {
     "name": "stderr",
     "output_type": "stream",
     "text": [
      "C:\\Users\\myousaf23\\anaconda3\\Lib\\site-packages\\sklearn\\linear_model\\_sag.py:349: ConvergenceWarning: The max_iter was reached which means the coef_ did not converge\n",
      "  warnings.warn(\n"
     ]
    },
    {
     "name": "stdout",
     "output_type": "stream",
     "text": [
      "[CV] END C=100, class_weight=None, max_iter=1000, penalty=l2, solver=saga; total time=  12.4s\n",
      "[CV] END C=100, class_weight=None, max_iter=1000, penalty=l1, solver=liblinear; total time=   0.4s\n",
      "[CV] END C=100, class_weight=None, max_iter=1000, penalty=l1, solver=liblinear; total time=   1.9s\n",
      "[CV] END C=100, class_weight=None, max_iter=1000, penalty=l1, solver=liblinear; total time=   0.7s\n",
      "[CV] END C=100, class_weight=None, max_iter=1000, penalty=l1, solver=liblinear; total time=   0.6s\n",
      "[CV] END C=100, class_weight=None, max_iter=1000, penalty=l1, solver=liblinear; total time=   0.5s\n"
     ]
    },
    {
     "name": "stderr",
     "output_type": "stream",
     "text": [
      "C:\\Users\\myousaf23\\anaconda3\\Lib\\site-packages\\sklearn\\linear_model\\_sag.py:349: ConvergenceWarning: The max_iter was reached which means the coef_ did not converge\n",
      "  warnings.warn(\n"
     ]
    },
    {
     "name": "stdout",
     "output_type": "stream",
     "text": [
      "[CV] END C=100, class_weight=None, max_iter=1000, penalty=l1, solver=saga; total time=  21.1s\n"
     ]
    },
    {
     "name": "stderr",
     "output_type": "stream",
     "text": [
      "C:\\Users\\myousaf23\\anaconda3\\Lib\\site-packages\\sklearn\\linear_model\\_sag.py:349: ConvergenceWarning: The max_iter was reached which means the coef_ did not converge\n",
      "  warnings.warn(\n"
     ]
    },
    {
     "name": "stdout",
     "output_type": "stream",
     "text": [
      "[CV] END C=100, class_weight=None, max_iter=1000, penalty=l1, solver=saga; total time=  20.1s\n"
     ]
    },
    {
     "name": "stderr",
     "output_type": "stream",
     "text": [
      "C:\\Users\\myousaf23\\anaconda3\\Lib\\site-packages\\sklearn\\linear_model\\_sag.py:349: ConvergenceWarning: The max_iter was reached which means the coef_ did not converge\n",
      "  warnings.warn(\n"
     ]
    },
    {
     "name": "stdout",
     "output_type": "stream",
     "text": [
      "[CV] END C=100, class_weight=None, max_iter=1000, penalty=l1, solver=saga; total time=  20.5s\n"
     ]
    },
    {
     "name": "stderr",
     "output_type": "stream",
     "text": [
      "C:\\Users\\myousaf23\\anaconda3\\Lib\\site-packages\\sklearn\\linear_model\\_sag.py:349: ConvergenceWarning: The max_iter was reached which means the coef_ did not converge\n",
      "  warnings.warn(\n"
     ]
    },
    {
     "name": "stdout",
     "output_type": "stream",
     "text": [
      "[CV] END C=100, class_weight=None, max_iter=1000, penalty=l1, solver=saga; total time=  20.1s\n"
     ]
    },
    {
     "name": "stderr",
     "output_type": "stream",
     "text": [
      "C:\\Users\\myousaf23\\anaconda3\\Lib\\site-packages\\sklearn\\linear_model\\_sag.py:349: ConvergenceWarning: The max_iter was reached which means the coef_ did not converge\n",
      "  warnings.warn(\n"
     ]
    },
    {
     "name": "stdout",
     "output_type": "stream",
     "text": [
      "[CV] END C=100, class_weight=None, max_iter=1000, penalty=l1, solver=saga; total time=  20.6s\n",
      "[CV] END C=100, class_weight=balanced, max_iter=100, penalty=l2, solver=liblinear; total time=   0.8s\n",
      "[CV] END C=100, class_weight=balanced, max_iter=100, penalty=l2, solver=liblinear; total time=   1.4s\n",
      "[CV] END C=100, class_weight=balanced, max_iter=100, penalty=l2, solver=liblinear; total time=   1.0s\n",
      "[CV] END C=100, class_weight=balanced, max_iter=100, penalty=l2, solver=liblinear; total time=   1.0s\n",
      "[CV] END C=100, class_weight=balanced, max_iter=100, penalty=l2, solver=liblinear; total time=   0.8s\n"
     ]
    },
    {
     "name": "stderr",
     "output_type": "stream",
     "text": [
      "C:\\Users\\myousaf23\\anaconda3\\Lib\\site-packages\\sklearn\\linear_model\\_sag.py:349: ConvergenceWarning: The max_iter was reached which means the coef_ did not converge\n",
      "  warnings.warn(\n"
     ]
    },
    {
     "name": "stdout",
     "output_type": "stream",
     "text": [
      "[CV] END C=100, class_weight=balanced, max_iter=100, penalty=l2, solver=saga; total time=   1.2s\n"
     ]
    },
    {
     "name": "stderr",
     "output_type": "stream",
     "text": [
      "C:\\Users\\myousaf23\\anaconda3\\Lib\\site-packages\\sklearn\\linear_model\\_sag.py:349: ConvergenceWarning: The max_iter was reached which means the coef_ did not converge\n",
      "  warnings.warn(\n"
     ]
    },
    {
     "name": "stdout",
     "output_type": "stream",
     "text": [
      "[CV] END C=100, class_weight=balanced, max_iter=100, penalty=l2, solver=saga; total time=   1.2s\n"
     ]
    },
    {
     "name": "stderr",
     "output_type": "stream",
     "text": [
      "C:\\Users\\myousaf23\\anaconda3\\Lib\\site-packages\\sklearn\\linear_model\\_sag.py:349: ConvergenceWarning: The max_iter was reached which means the coef_ did not converge\n",
      "  warnings.warn(\n"
     ]
    },
    {
     "name": "stdout",
     "output_type": "stream",
     "text": [
      "[CV] END C=100, class_weight=balanced, max_iter=100, penalty=l2, solver=saga; total time=   1.2s\n"
     ]
    },
    {
     "name": "stderr",
     "output_type": "stream",
     "text": [
      "C:\\Users\\myousaf23\\anaconda3\\Lib\\site-packages\\sklearn\\linear_model\\_sag.py:349: ConvergenceWarning: The max_iter was reached which means the coef_ did not converge\n",
      "  warnings.warn(\n"
     ]
    },
    {
     "name": "stdout",
     "output_type": "stream",
     "text": [
      "[CV] END C=100, class_weight=balanced, max_iter=100, penalty=l2, solver=saga; total time=   1.2s\n"
     ]
    },
    {
     "name": "stderr",
     "output_type": "stream",
     "text": [
      "C:\\Users\\myousaf23\\anaconda3\\Lib\\site-packages\\sklearn\\linear_model\\_sag.py:349: ConvergenceWarning: The max_iter was reached which means the coef_ did not converge\n",
      "  warnings.warn(\n"
     ]
    },
    {
     "name": "stdout",
     "output_type": "stream",
     "text": [
      "[CV] END C=100, class_weight=balanced, max_iter=100, penalty=l2, solver=saga; total time=   1.2s\n",
      "[CV] END C=100, class_weight=balanced, max_iter=100, penalty=l1, solver=liblinear; total time=   0.5s\n",
      "[CV] END C=100, class_weight=balanced, max_iter=100, penalty=l1, solver=liblinear; total time=   1.8s\n",
      "[CV] END C=100, class_weight=balanced, max_iter=100, penalty=l1, solver=liblinear; total time=   0.7s\n",
      "[CV] END C=100, class_weight=balanced, max_iter=100, penalty=l1, solver=liblinear; total time=   1.2s\n",
      "[CV] END C=100, class_weight=balanced, max_iter=100, penalty=l1, solver=liblinear; total time=   0.6s\n"
     ]
    },
    {
     "name": "stderr",
     "output_type": "stream",
     "text": [
      "C:\\Users\\myousaf23\\anaconda3\\Lib\\site-packages\\sklearn\\linear_model\\_sag.py:349: ConvergenceWarning: The max_iter was reached which means the coef_ did not converge\n",
      "  warnings.warn(\n"
     ]
    },
    {
     "name": "stdout",
     "output_type": "stream",
     "text": [
      "[CV] END C=100, class_weight=balanced, max_iter=100, penalty=l1, solver=saga; total time=   1.9s\n"
     ]
    },
    {
     "name": "stderr",
     "output_type": "stream",
     "text": [
      "C:\\Users\\myousaf23\\anaconda3\\Lib\\site-packages\\sklearn\\linear_model\\_sag.py:349: ConvergenceWarning: The max_iter was reached which means the coef_ did not converge\n",
      "  warnings.warn(\n"
     ]
    },
    {
     "name": "stdout",
     "output_type": "stream",
     "text": [
      "[CV] END C=100, class_weight=balanced, max_iter=100, penalty=l1, solver=saga; total time=   2.0s\n"
     ]
    },
    {
     "name": "stderr",
     "output_type": "stream",
     "text": [
      "C:\\Users\\myousaf23\\anaconda3\\Lib\\site-packages\\sklearn\\linear_model\\_sag.py:349: ConvergenceWarning: The max_iter was reached which means the coef_ did not converge\n",
      "  warnings.warn(\n"
     ]
    },
    {
     "name": "stdout",
     "output_type": "stream",
     "text": [
      "[CV] END C=100, class_weight=balanced, max_iter=100, penalty=l1, solver=saga; total time=   2.0s\n"
     ]
    },
    {
     "name": "stderr",
     "output_type": "stream",
     "text": [
      "C:\\Users\\myousaf23\\anaconda3\\Lib\\site-packages\\sklearn\\linear_model\\_sag.py:349: ConvergenceWarning: The max_iter was reached which means the coef_ did not converge\n",
      "  warnings.warn(\n"
     ]
    },
    {
     "name": "stdout",
     "output_type": "stream",
     "text": [
      "[CV] END C=100, class_weight=balanced, max_iter=100, penalty=l1, solver=saga; total time=   2.1s\n"
     ]
    },
    {
     "name": "stderr",
     "output_type": "stream",
     "text": [
      "C:\\Users\\myousaf23\\anaconda3\\Lib\\site-packages\\sklearn\\linear_model\\_sag.py:349: ConvergenceWarning: The max_iter was reached which means the coef_ did not converge\n",
      "  warnings.warn(\n"
     ]
    },
    {
     "name": "stdout",
     "output_type": "stream",
     "text": [
      "[CV] END C=100, class_weight=balanced, max_iter=100, penalty=l1, solver=saga; total time=   2.1s\n",
      "[CV] END C=100, class_weight=balanced, max_iter=200, penalty=l2, solver=liblinear; total time=   0.9s\n",
      "[CV] END C=100, class_weight=balanced, max_iter=200, penalty=l2, solver=liblinear; total time=   1.1s\n",
      "[CV] END C=100, class_weight=balanced, max_iter=200, penalty=l2, solver=liblinear; total time=   0.9s\n",
      "[CV] END C=100, class_weight=balanced, max_iter=200, penalty=l2, solver=liblinear; total time=   1.0s\n",
      "[CV] END C=100, class_weight=balanced, max_iter=200, penalty=l2, solver=liblinear; total time=   0.8s\n"
     ]
    },
    {
     "name": "stderr",
     "output_type": "stream",
     "text": [
      "C:\\Users\\myousaf23\\anaconda3\\Lib\\site-packages\\sklearn\\linear_model\\_sag.py:349: ConvergenceWarning: The max_iter was reached which means the coef_ did not converge\n",
      "  warnings.warn(\n"
     ]
    },
    {
     "name": "stdout",
     "output_type": "stream",
     "text": [
      "[CV] END C=100, class_weight=balanced, max_iter=200, penalty=l2, solver=saga; total time=   2.5s\n"
     ]
    },
    {
     "name": "stderr",
     "output_type": "stream",
     "text": [
      "C:\\Users\\myousaf23\\anaconda3\\Lib\\site-packages\\sklearn\\linear_model\\_sag.py:349: ConvergenceWarning: The max_iter was reached which means the coef_ did not converge\n",
      "  warnings.warn(\n"
     ]
    },
    {
     "name": "stdout",
     "output_type": "stream",
     "text": [
      "[CV] END C=100, class_weight=balanced, max_iter=200, penalty=l2, solver=saga; total time=   2.7s\n"
     ]
    },
    {
     "name": "stderr",
     "output_type": "stream",
     "text": [
      "C:\\Users\\myousaf23\\anaconda3\\Lib\\site-packages\\sklearn\\linear_model\\_sag.py:349: ConvergenceWarning: The max_iter was reached which means the coef_ did not converge\n",
      "  warnings.warn(\n"
     ]
    },
    {
     "name": "stdout",
     "output_type": "stream",
     "text": [
      "[CV] END C=100, class_weight=balanced, max_iter=200, penalty=l2, solver=saga; total time=   2.6s\n"
     ]
    },
    {
     "name": "stderr",
     "output_type": "stream",
     "text": [
      "C:\\Users\\myousaf23\\anaconda3\\Lib\\site-packages\\sklearn\\linear_model\\_sag.py:349: ConvergenceWarning: The max_iter was reached which means the coef_ did not converge\n",
      "  warnings.warn(\n"
     ]
    },
    {
     "name": "stdout",
     "output_type": "stream",
     "text": [
      "[CV] END C=100, class_weight=balanced, max_iter=200, penalty=l2, solver=saga; total time=   2.7s\n"
     ]
    },
    {
     "name": "stderr",
     "output_type": "stream",
     "text": [
      "C:\\Users\\myousaf23\\anaconda3\\Lib\\site-packages\\sklearn\\linear_model\\_sag.py:349: ConvergenceWarning: The max_iter was reached which means the coef_ did not converge\n",
      "  warnings.warn(\n"
     ]
    },
    {
     "name": "stdout",
     "output_type": "stream",
     "text": [
      "[CV] END C=100, class_weight=balanced, max_iter=200, penalty=l2, solver=saga; total time=   2.4s\n",
      "[CV] END C=100, class_weight=balanced, max_iter=200, penalty=l1, solver=liblinear; total time=   0.4s\n",
      "[CV] END C=100, class_weight=balanced, max_iter=200, penalty=l1, solver=liblinear; total time=   0.8s\n",
      "[CV] END C=100, class_weight=balanced, max_iter=200, penalty=l1, solver=liblinear; total time=   1.3s\n",
      "[CV] END C=100, class_weight=balanced, max_iter=200, penalty=l1, solver=liblinear; total time=   0.6s\n",
      "[CV] END C=100, class_weight=balanced, max_iter=200, penalty=l1, solver=liblinear; total time=   0.5s\n"
     ]
    },
    {
     "name": "stderr",
     "output_type": "stream",
     "text": [
      "C:\\Users\\myousaf23\\anaconda3\\Lib\\site-packages\\sklearn\\linear_model\\_sag.py:349: ConvergenceWarning: The max_iter was reached which means the coef_ did not converge\n",
      "  warnings.warn(\n"
     ]
    },
    {
     "name": "stdout",
     "output_type": "stream",
     "text": [
      "[CV] END C=100, class_weight=balanced, max_iter=200, penalty=l1, solver=saga; total time=   3.9s\n"
     ]
    },
    {
     "name": "stderr",
     "output_type": "stream",
     "text": [
      "C:\\Users\\myousaf23\\anaconda3\\Lib\\site-packages\\sklearn\\linear_model\\_sag.py:349: ConvergenceWarning: The max_iter was reached which means the coef_ did not converge\n",
      "  warnings.warn(\n"
     ]
    },
    {
     "name": "stdout",
     "output_type": "stream",
     "text": [
      "[CV] END C=100, class_weight=balanced, max_iter=200, penalty=l1, solver=saga; total time=   4.0s\n"
     ]
    },
    {
     "name": "stderr",
     "output_type": "stream",
     "text": [
      "C:\\Users\\myousaf23\\anaconda3\\Lib\\site-packages\\sklearn\\linear_model\\_sag.py:349: ConvergenceWarning: The max_iter was reached which means the coef_ did not converge\n",
      "  warnings.warn(\n"
     ]
    },
    {
     "name": "stdout",
     "output_type": "stream",
     "text": [
      "[CV] END C=100, class_weight=balanced, max_iter=200, penalty=l1, solver=saga; total time=   4.1s\n"
     ]
    },
    {
     "name": "stderr",
     "output_type": "stream",
     "text": [
      "C:\\Users\\myousaf23\\anaconda3\\Lib\\site-packages\\sklearn\\linear_model\\_sag.py:349: ConvergenceWarning: The max_iter was reached which means the coef_ did not converge\n",
      "  warnings.warn(\n"
     ]
    },
    {
     "name": "stdout",
     "output_type": "stream",
     "text": [
      "[CV] END C=100, class_weight=balanced, max_iter=200, penalty=l1, solver=saga; total time=   4.3s\n"
     ]
    },
    {
     "name": "stderr",
     "output_type": "stream",
     "text": [
      "C:\\Users\\myousaf23\\anaconda3\\Lib\\site-packages\\sklearn\\linear_model\\_sag.py:349: ConvergenceWarning: The max_iter was reached which means the coef_ did not converge\n",
      "  warnings.warn(\n"
     ]
    },
    {
     "name": "stdout",
     "output_type": "stream",
     "text": [
      "[CV] END C=100, class_weight=balanced, max_iter=200, penalty=l1, solver=saga; total time=   4.3s\n",
      "[CV] END C=100, class_weight=balanced, max_iter=500, penalty=l2, solver=liblinear; total time=   0.8s\n",
      "[CV] END C=100, class_weight=balanced, max_iter=500, penalty=l2, solver=liblinear; total time=   1.0s\n",
      "[CV] END C=100, class_weight=balanced, max_iter=500, penalty=l2, solver=liblinear; total time=   0.9s\n",
      "[CV] END C=100, class_weight=balanced, max_iter=500, penalty=l2, solver=liblinear; total time=   1.0s\n",
      "[CV] END C=100, class_weight=balanced, max_iter=500, penalty=l2, solver=liblinear; total time=   0.8s\n"
     ]
    },
    {
     "name": "stderr",
     "output_type": "stream",
     "text": [
      "C:\\Users\\myousaf23\\anaconda3\\Lib\\site-packages\\sklearn\\linear_model\\_sag.py:349: ConvergenceWarning: The max_iter was reached which means the coef_ did not converge\n",
      "  warnings.warn(\n"
     ]
    },
    {
     "name": "stdout",
     "output_type": "stream",
     "text": [
      "[CV] END C=100, class_weight=balanced, max_iter=500, penalty=l2, solver=saga; total time=   6.5s\n"
     ]
    },
    {
     "name": "stderr",
     "output_type": "stream",
     "text": [
      "C:\\Users\\myousaf23\\anaconda3\\Lib\\site-packages\\sklearn\\linear_model\\_sag.py:349: ConvergenceWarning: The max_iter was reached which means the coef_ did not converge\n",
      "  warnings.warn(\n"
     ]
    },
    {
     "name": "stdout",
     "output_type": "stream",
     "text": [
      "[CV] END C=100, class_weight=balanced, max_iter=500, penalty=l2, solver=saga; total time=   6.5s\n"
     ]
    },
    {
     "name": "stderr",
     "output_type": "stream",
     "text": [
      "C:\\Users\\myousaf23\\anaconda3\\Lib\\site-packages\\sklearn\\linear_model\\_sag.py:349: ConvergenceWarning: The max_iter was reached which means the coef_ did not converge\n",
      "  warnings.warn(\n"
     ]
    },
    {
     "name": "stdout",
     "output_type": "stream",
     "text": [
      "[CV] END C=100, class_weight=balanced, max_iter=500, penalty=l2, solver=saga; total time=   6.4s\n"
     ]
    },
    {
     "name": "stderr",
     "output_type": "stream",
     "text": [
      "C:\\Users\\myousaf23\\anaconda3\\Lib\\site-packages\\sklearn\\linear_model\\_sag.py:349: ConvergenceWarning: The max_iter was reached which means the coef_ did not converge\n",
      "  warnings.warn(\n"
     ]
    },
    {
     "name": "stdout",
     "output_type": "stream",
     "text": [
      "[CV] END C=100, class_weight=balanced, max_iter=500, penalty=l2, solver=saga; total time=   6.5s\n"
     ]
    },
    {
     "name": "stderr",
     "output_type": "stream",
     "text": [
      "C:\\Users\\myousaf23\\anaconda3\\Lib\\site-packages\\sklearn\\linear_model\\_sag.py:349: ConvergenceWarning: The max_iter was reached which means the coef_ did not converge\n",
      "  warnings.warn(\n"
     ]
    },
    {
     "name": "stdout",
     "output_type": "stream",
     "text": [
      "[CV] END C=100, class_weight=balanced, max_iter=500, penalty=l2, solver=saga; total time=   6.4s\n",
      "[CV] END C=100, class_weight=balanced, max_iter=500, penalty=l1, solver=liblinear; total time=   0.5s\n",
      "[CV] END C=100, class_weight=balanced, max_iter=500, penalty=l1, solver=liblinear; total time=   1.8s\n",
      "[CV] END C=100, class_weight=balanced, max_iter=500, penalty=l1, solver=liblinear; total time=   0.7s\n",
      "[CV] END C=100, class_weight=balanced, max_iter=500, penalty=l1, solver=liblinear; total time=   0.5s\n",
      "[CV] END C=100, class_weight=balanced, max_iter=500, penalty=l1, solver=liblinear; total time=   0.5s\n"
     ]
    },
    {
     "name": "stderr",
     "output_type": "stream",
     "text": [
      "C:\\Users\\myousaf23\\anaconda3\\Lib\\site-packages\\sklearn\\linear_model\\_sag.py:349: ConvergenceWarning: The max_iter was reached which means the coef_ did not converge\n",
      "  warnings.warn(\n"
     ]
    },
    {
     "name": "stdout",
     "output_type": "stream",
     "text": [
      "[CV] END C=100, class_weight=balanced, max_iter=500, penalty=l1, solver=saga; total time=   9.9s\n"
     ]
    },
    {
     "name": "stderr",
     "output_type": "stream",
     "text": [
      "C:\\Users\\myousaf23\\anaconda3\\Lib\\site-packages\\sklearn\\linear_model\\_sag.py:349: ConvergenceWarning: The max_iter was reached which means the coef_ did not converge\n",
      "  warnings.warn(\n"
     ]
    },
    {
     "name": "stdout",
     "output_type": "stream",
     "text": [
      "[CV] END C=100, class_weight=balanced, max_iter=500, penalty=l1, solver=saga; total time=  10.4s\n"
     ]
    },
    {
     "name": "stderr",
     "output_type": "stream",
     "text": [
      "C:\\Users\\myousaf23\\anaconda3\\Lib\\site-packages\\sklearn\\linear_model\\_sag.py:349: ConvergenceWarning: The max_iter was reached which means the coef_ did not converge\n",
      "  warnings.warn(\n"
     ]
    },
    {
     "name": "stdout",
     "output_type": "stream",
     "text": [
      "[CV] END C=100, class_weight=balanced, max_iter=500, penalty=l1, solver=saga; total time=  10.7s\n"
     ]
    },
    {
     "name": "stderr",
     "output_type": "stream",
     "text": [
      "C:\\Users\\myousaf23\\anaconda3\\Lib\\site-packages\\sklearn\\linear_model\\_sag.py:349: ConvergenceWarning: The max_iter was reached which means the coef_ did not converge\n",
      "  warnings.warn(\n"
     ]
    },
    {
     "name": "stdout",
     "output_type": "stream",
     "text": [
      "[CV] END C=100, class_weight=balanced, max_iter=500, penalty=l1, solver=saga; total time=  10.9s\n"
     ]
    },
    {
     "name": "stderr",
     "output_type": "stream",
     "text": [
      "C:\\Users\\myousaf23\\anaconda3\\Lib\\site-packages\\sklearn\\linear_model\\_sag.py:349: ConvergenceWarning: The max_iter was reached which means the coef_ did not converge\n",
      "  warnings.warn(\n"
     ]
    },
    {
     "name": "stdout",
     "output_type": "stream",
     "text": [
      "[CV] END C=100, class_weight=balanced, max_iter=500, penalty=l1, solver=saga; total time=  10.3s\n",
      "[CV] END C=100, class_weight=balanced, max_iter=700, penalty=l2, solver=liblinear; total time=   0.8s\n",
      "[CV] END C=100, class_weight=balanced, max_iter=700, penalty=l2, solver=liblinear; total time=   1.1s\n",
      "[CV] END C=100, class_weight=balanced, max_iter=700, penalty=l2, solver=liblinear; total time=   1.0s\n",
      "[CV] END C=100, class_weight=balanced, max_iter=700, penalty=l2, solver=liblinear; total time=   1.0s\n",
      "[CV] END C=100, class_weight=balanced, max_iter=700, penalty=l2, solver=liblinear; total time=   0.8s\n"
     ]
    },
    {
     "name": "stderr",
     "output_type": "stream",
     "text": [
      "C:\\Users\\myousaf23\\anaconda3\\Lib\\site-packages\\sklearn\\linear_model\\_sag.py:349: ConvergenceWarning: The max_iter was reached which means the coef_ did not converge\n",
      "  warnings.warn(\n"
     ]
    },
    {
     "name": "stdout",
     "output_type": "stream",
     "text": [
      "[CV] END C=100, class_weight=balanced, max_iter=700, penalty=l2, solver=saga; total time=   9.2s\n"
     ]
    },
    {
     "name": "stderr",
     "output_type": "stream",
     "text": [
      "C:\\Users\\myousaf23\\anaconda3\\Lib\\site-packages\\sklearn\\linear_model\\_sag.py:349: ConvergenceWarning: The max_iter was reached which means the coef_ did not converge\n",
      "  warnings.warn(\n"
     ]
    },
    {
     "name": "stdout",
     "output_type": "stream",
     "text": [
      "[CV] END C=100, class_weight=balanced, max_iter=700, penalty=l2, solver=saga; total time=   9.1s\n"
     ]
    },
    {
     "name": "stderr",
     "output_type": "stream",
     "text": [
      "C:\\Users\\myousaf23\\anaconda3\\Lib\\site-packages\\sklearn\\linear_model\\_sag.py:349: ConvergenceWarning: The max_iter was reached which means the coef_ did not converge\n",
      "  warnings.warn(\n"
     ]
    },
    {
     "name": "stdout",
     "output_type": "stream",
     "text": [
      "[CV] END C=100, class_weight=balanced, max_iter=700, penalty=l2, solver=saga; total time=   9.1s\n"
     ]
    },
    {
     "name": "stderr",
     "output_type": "stream",
     "text": [
      "C:\\Users\\myousaf23\\anaconda3\\Lib\\site-packages\\sklearn\\linear_model\\_sag.py:349: ConvergenceWarning: The max_iter was reached which means the coef_ did not converge\n",
      "  warnings.warn(\n"
     ]
    },
    {
     "name": "stdout",
     "output_type": "stream",
     "text": [
      "[CV] END C=100, class_weight=balanced, max_iter=700, penalty=l2, solver=saga; total time=   9.0s\n"
     ]
    },
    {
     "name": "stderr",
     "output_type": "stream",
     "text": [
      "C:\\Users\\myousaf23\\anaconda3\\Lib\\site-packages\\sklearn\\linear_model\\_sag.py:349: ConvergenceWarning: The max_iter was reached which means the coef_ did not converge\n",
      "  warnings.warn(\n"
     ]
    },
    {
     "name": "stdout",
     "output_type": "stream",
     "text": [
      "[CV] END C=100, class_weight=balanced, max_iter=700, penalty=l2, solver=saga; total time=   9.3s\n",
      "[CV] END C=100, class_weight=balanced, max_iter=700, penalty=l1, solver=liblinear; total time=   0.5s\n",
      "[CV] END C=100, class_weight=balanced, max_iter=700, penalty=l1, solver=liblinear; total time=   1.9s\n",
      "[CV] END C=100, class_weight=balanced, max_iter=700, penalty=l1, solver=liblinear; total time=   1.4s\n",
      "[CV] END C=100, class_weight=balanced, max_iter=700, penalty=l1, solver=liblinear; total time=   0.6s\n",
      "[CV] END C=100, class_weight=balanced, max_iter=700, penalty=l1, solver=liblinear; total time=   0.5s\n"
     ]
    },
    {
     "name": "stderr",
     "output_type": "stream",
     "text": [
      "C:\\Users\\myousaf23\\anaconda3\\Lib\\site-packages\\sklearn\\linear_model\\_sag.py:349: ConvergenceWarning: The max_iter was reached which means the coef_ did not converge\n",
      "  warnings.warn(\n"
     ]
    },
    {
     "name": "stdout",
     "output_type": "stream",
     "text": [
      "[CV] END C=100, class_weight=balanced, max_iter=700, penalty=l1, solver=saga; total time=  14.9s\n"
     ]
    },
    {
     "name": "stderr",
     "output_type": "stream",
     "text": [
      "C:\\Users\\myousaf23\\anaconda3\\Lib\\site-packages\\sklearn\\linear_model\\_sag.py:349: ConvergenceWarning: The max_iter was reached which means the coef_ did not converge\n",
      "  warnings.warn(\n"
     ]
    },
    {
     "name": "stdout",
     "output_type": "stream",
     "text": [
      "[CV] END C=100, class_weight=balanced, max_iter=700, penalty=l1, solver=saga; total time=  14.9s\n"
     ]
    },
    {
     "name": "stderr",
     "output_type": "stream",
     "text": [
      "C:\\Users\\myousaf23\\anaconda3\\Lib\\site-packages\\sklearn\\linear_model\\_sag.py:349: ConvergenceWarning: The max_iter was reached which means the coef_ did not converge\n",
      "  warnings.warn(\n"
     ]
    },
    {
     "name": "stdout",
     "output_type": "stream",
     "text": [
      "[CV] END C=100, class_weight=balanced, max_iter=700, penalty=l1, solver=saga; total time=  15.2s\n"
     ]
    },
    {
     "name": "stderr",
     "output_type": "stream",
     "text": [
      "C:\\Users\\myousaf23\\anaconda3\\Lib\\site-packages\\sklearn\\linear_model\\_sag.py:349: ConvergenceWarning: The max_iter was reached which means the coef_ did not converge\n",
      "  warnings.warn(\n"
     ]
    },
    {
     "name": "stdout",
     "output_type": "stream",
     "text": [
      "[CV] END C=100, class_weight=balanced, max_iter=700, penalty=l1, solver=saga; total time=  14.6s\n"
     ]
    },
    {
     "name": "stderr",
     "output_type": "stream",
     "text": [
      "C:\\Users\\myousaf23\\anaconda3\\Lib\\site-packages\\sklearn\\linear_model\\_sag.py:349: ConvergenceWarning: The max_iter was reached which means the coef_ did not converge\n",
      "  warnings.warn(\n"
     ]
    },
    {
     "name": "stdout",
     "output_type": "stream",
     "text": [
      "[CV] END C=100, class_weight=balanced, max_iter=700, penalty=l1, solver=saga; total time=  15.3s\n",
      "[CV] END C=100, class_weight=balanced, max_iter=1000, penalty=l2, solver=liblinear; total time=   0.6s\n",
      "[CV] END C=100, class_weight=balanced, max_iter=1000, penalty=l2, solver=liblinear; total time=   1.0s\n",
      "[CV] END C=100, class_weight=balanced, max_iter=1000, penalty=l2, solver=liblinear; total time=   0.8s\n",
      "[CV] END C=100, class_weight=balanced, max_iter=1000, penalty=l2, solver=liblinear; total time=   0.9s\n",
      "[CV] END C=100, class_weight=balanced, max_iter=1000, penalty=l2, solver=liblinear; total time=   0.8s\n"
     ]
    },
    {
     "name": "stderr",
     "output_type": "stream",
     "text": [
      "C:\\Users\\myousaf23\\anaconda3\\Lib\\site-packages\\sklearn\\linear_model\\_sag.py:349: ConvergenceWarning: The max_iter was reached which means the coef_ did not converge\n",
      "  warnings.warn(\n"
     ]
    },
    {
     "name": "stdout",
     "output_type": "stream",
     "text": [
      "[CV] END C=100, class_weight=balanced, max_iter=1000, penalty=l2, solver=saga; total time=  13.0s\n"
     ]
    },
    {
     "name": "stderr",
     "output_type": "stream",
     "text": [
      "C:\\Users\\myousaf23\\anaconda3\\Lib\\site-packages\\sklearn\\linear_model\\_sag.py:349: ConvergenceWarning: The max_iter was reached which means the coef_ did not converge\n",
      "  warnings.warn(\n"
     ]
    },
    {
     "name": "stdout",
     "output_type": "stream",
     "text": [
      "[CV] END C=100, class_weight=balanced, max_iter=1000, penalty=l2, solver=saga; total time=  12.9s\n"
     ]
    },
    {
     "name": "stderr",
     "output_type": "stream",
     "text": [
      "C:\\Users\\myousaf23\\anaconda3\\Lib\\site-packages\\sklearn\\linear_model\\_sag.py:349: ConvergenceWarning: The max_iter was reached which means the coef_ did not converge\n",
      "  warnings.warn(\n"
     ]
    },
    {
     "name": "stdout",
     "output_type": "stream",
     "text": [
      "[CV] END C=100, class_weight=balanced, max_iter=1000, penalty=l2, solver=saga; total time=  12.8s\n"
     ]
    },
    {
     "name": "stderr",
     "output_type": "stream",
     "text": [
      "C:\\Users\\myousaf23\\anaconda3\\Lib\\site-packages\\sklearn\\linear_model\\_sag.py:349: ConvergenceWarning: The max_iter was reached which means the coef_ did not converge\n",
      "  warnings.warn(\n"
     ]
    },
    {
     "name": "stdout",
     "output_type": "stream",
     "text": [
      "[CV] END C=100, class_weight=balanced, max_iter=1000, penalty=l2, solver=saga; total time=  12.3s\n"
     ]
    },
    {
     "name": "stderr",
     "output_type": "stream",
     "text": [
      "C:\\Users\\myousaf23\\anaconda3\\Lib\\site-packages\\sklearn\\linear_model\\_sag.py:349: ConvergenceWarning: The max_iter was reached which means the coef_ did not converge\n",
      "  warnings.warn(\n"
     ]
    },
    {
     "name": "stdout",
     "output_type": "stream",
     "text": [
      "[CV] END C=100, class_weight=balanced, max_iter=1000, penalty=l2, solver=saga; total time=  12.9s\n",
      "[CV] END C=100, class_weight=balanced, max_iter=1000, penalty=l1, solver=liblinear; total time=   0.4s\n",
      "[CV] END C=100, class_weight=balanced, max_iter=1000, penalty=l1, solver=liblinear; total time=   0.8s\n",
      "[CV] END C=100, class_weight=balanced, max_iter=1000, penalty=l1, solver=liblinear; total time=   0.7s\n",
      "[CV] END C=100, class_weight=balanced, max_iter=1000, penalty=l1, solver=liblinear; total time=   1.2s\n",
      "[CV] END C=100, class_weight=balanced, max_iter=1000, penalty=l1, solver=liblinear; total time=   0.9s\n"
     ]
    },
    {
     "name": "stderr",
     "output_type": "stream",
     "text": [
      "C:\\Users\\myousaf23\\anaconda3\\Lib\\site-packages\\sklearn\\linear_model\\_sag.py:349: ConvergenceWarning: The max_iter was reached which means the coef_ did not converge\n",
      "  warnings.warn(\n"
     ]
    },
    {
     "name": "stdout",
     "output_type": "stream",
     "text": [
      "[CV] END C=100, class_weight=balanced, max_iter=1000, penalty=l1, solver=saga; total time=  20.4s\n"
     ]
    },
    {
     "name": "stderr",
     "output_type": "stream",
     "text": [
      "C:\\Users\\myousaf23\\anaconda3\\Lib\\site-packages\\sklearn\\linear_model\\_sag.py:349: ConvergenceWarning: The max_iter was reached which means the coef_ did not converge\n",
      "  warnings.warn(\n"
     ]
    },
    {
     "name": "stdout",
     "output_type": "stream",
     "text": [
      "[CV] END C=100, class_weight=balanced, max_iter=1000, penalty=l1, solver=saga; total time=  20.1s\n"
     ]
    },
    {
     "name": "stderr",
     "output_type": "stream",
     "text": [
      "C:\\Users\\myousaf23\\anaconda3\\Lib\\site-packages\\sklearn\\linear_model\\_sag.py:349: ConvergenceWarning: The max_iter was reached which means the coef_ did not converge\n",
      "  warnings.warn(\n"
     ]
    },
    {
     "name": "stdout",
     "output_type": "stream",
     "text": [
      "[CV] END C=100, class_weight=balanced, max_iter=1000, penalty=l1, solver=saga; total time=  20.0s\n"
     ]
    },
    {
     "name": "stderr",
     "output_type": "stream",
     "text": [
      "C:\\Users\\myousaf23\\anaconda3\\Lib\\site-packages\\sklearn\\linear_model\\_sag.py:349: ConvergenceWarning: The max_iter was reached which means the coef_ did not converge\n",
      "  warnings.warn(\n"
     ]
    },
    {
     "name": "stdout",
     "output_type": "stream",
     "text": [
      "[CV] END C=100, class_weight=balanced, max_iter=1000, penalty=l1, solver=saga; total time=  20.1s\n"
     ]
    },
    {
     "name": "stderr",
     "output_type": "stream",
     "text": [
      "C:\\Users\\myousaf23\\anaconda3\\Lib\\site-packages\\sklearn\\linear_model\\_sag.py:349: ConvergenceWarning: The max_iter was reached which means the coef_ did not converge\n",
      "  warnings.warn(\n"
     ]
    },
    {
     "name": "stdout",
     "output_type": "stream",
     "text": [
      "[CV] END C=100, class_weight=balanced, max_iter=1000, penalty=l1, solver=saga; total time=  20.0s\n",
      "Best Parameters: {'C': 1, 'class_weight': 'balanced', 'max_iter': 200, 'penalty': 'l2', 'solver': 'saga'}\n",
      "Best model information has been saved to 'best_model_info_logreg_esm2.txt'\n"
     ]
    },
    {
     "name": "stderr",
     "output_type": "stream",
     "text": [
      "C:\\Users\\myousaf23\\anaconda3\\Lib\\site-packages\\sklearn\\linear_model\\_sag.py:349: ConvergenceWarning: The max_iter was reached which means the coef_ did not converge\n",
      "  warnings.warn(\n"
     ]
    },
    {
     "data": {
      "text/plain": [
       "['best_logreg_esm2_model.pkl']"
      ]
     },
     "execution_count": 4,
     "metadata": {},
     "output_type": "execute_result"
    }
   ],
   "source": [
    "# Step 4: Define hyperparameter grid\n",
    "param_grid = {\n",
    "    'C': [0.001, 0.01, 0.1, 1, 10, 100],           # Regularization strength (inverse of penalty), [0.001, 0.01, 0.1, 1, 10, 100], default value=1.0\n",
    "    'penalty': ['l2', 'l1'],               # Regularization type (l1 = Lasso, l2 = Ridge)['l1', 'l2'] (use 'elasticnet' with caution), default=l2\n",
    "    'solver': ['liblinear', 'saga'],               # Solver that supports l1 and l2, ['liblinear', 'saga'] (for l1 or imbalanced data), default= lbfgs\n",
    "    'max_iter': [100, 200, 500, 700, 1000],           # Maximum number of iterations to converge, [100, 200, 500, 1000], default =100\n",
    "    'class_weight': [None, 'balanced']     # Handles class imbalance, [None, 'balanced'], default=none\n",
    "}\n",
    "\n",
    "# Step 5: Grid Search with Cross-Validation\n",
    "logreg = LogisticRegression()\n",
    "cv = StratifiedKFold(n_splits=5, shuffle=True, random_state=42)\n",
    "grid_search = GridSearchCV(logreg, param_grid, cv=cv, scoring='accuracy', n_jobs=1, verbose=2)\n",
    "grid_search.fit(X_train, y_train)\n",
    "\n",
    "# Step 6: Best model\n",
    "best_logreg_model = grid_search.best_estimator_\n",
    "print(\"Best Parameters:\", grid_search.best_params_)\n",
    "\n",
    "# Step 6: Use the best model from GridSearchCV\n",
    "best_logreg_model = grid_search.best_estimator_\n",
    "\n",
    "# Save best hyperparameters to a file\n",
    "with open('best_model_info_logreg_esm2.txt', 'w') as f:\n",
    "    f.write(\"Best Hyperparameters:\\n\")\n",
    "    for param, value in grid_search.best_params_.items():\n",
    "        f.write(f\"{param}: {value}\\n\")\n",
    "\n",
    "print(\"Best model information has been saved to 'best_model_info_logreg_esm2.txt'\")\n",
    "\n",
    "#save best model to a file\n",
    "joblib.dump(best_logreg_model, \"best_logreg_esm2_model.pkl\")"
   ]
  },
  {
   "cell_type": "code",
   "execution_count": 5,
   "id": "590a2df5-6e94-4c44-bf11-64e469a7237e",
   "metadata": {},
   "outputs": [
    {
     "name": "stdout",
     "output_type": "stream",
     "text": [
      "logreg Test Accuracy: 78.92%\n",
      "Confusion Matrix (Test Data):\n",
      " [[70 21]\n",
      " [18 76]]\n",
      "Test Data - Sensitivity: 0.8085106382978723 Specificity: 0.7692307692307693\n"
     ]
    },
    {
     "name": "stderr",
     "output_type": "stream",
     "text": [
      "C:\\Users\\myousaf23\\anaconda3\\Lib\\site-packages\\sklearn\\linear_model\\_sag.py:349: ConvergenceWarning: The max_iter was reached which means the coef_ did not converge\n",
      "  warnings.warn(\n"
     ]
    }
   ],
   "source": [
    "# Step 8: Fit the model on the training data\n",
    "best_logreg_model.fit(X_train, y_train)\n",
    "\n",
    "# Evaluate on the test dataset\n",
    "y_test_pred = best_logreg_model.predict(X_test)\n",
    "y_test_prob = best_logreg_model.predict_proba(X_test)[:, 1]\n",
    "\n",
    "# Calculate and print accuracy, classification reports, and confusion matrices\n",
    "test_accuracy = accuracy_score(y_test, y_test_pred)\n",
    "print(f\"logreg Test Accuracy: {test_accuracy * 100:.2f}%\")\n",
    "\n",
    "# Confusion Matrices\n",
    "confusion_matrix_test = confusion_matrix(y_test, y_test_pred)\n",
    "print(\"Confusion Matrix (Test Data):\\n\", confusion_matrix_test)\n",
    "\n",
    "# Sensitivity and Specificity calculation\n",
    "def calculate_sensitivity_specificity(conf_matrix):\n",
    "    tn, fp, fn, tp = conf_matrix.ravel()\n",
    "    sensitivity = tp / (tp + fn)\n",
    "    specificity = tn / (tn + fp)\n",
    "    return sensitivity, specificity\n",
    "\n",
    "sensitivity_test, specificity_test = calculate_sensitivity_specificity(confusion_matrix_test)\n",
    "print(\"Test Data - Sensitivity:\", sensitivity_test, \"Specificity:\", specificity_test)"
   ]
  },
  {
   "cell_type": "code",
   "execution_count": 6,
   "id": "8a17d7e1-1609-456d-85d6-099eeefee07f",
   "metadata": {},
   "outputs": [
    {
     "name": "stdout",
     "output_type": "stream",
     "text": [
      "Confusion Matrix (Test Data):\n",
      "TN: 70  FP: 21\n",
      "FN: 18  TP: 76\n"
     ]
    }
   ],
   "source": [
    "print(\"Confusion Matrix (Test Data):\")\n",
    "print(f\"TN: {confusion_matrix_test[0,0]}  FP: {confusion_matrix_test[0,1]}\")\n",
    "print(f\"FN: {confusion_matrix_test[1,0]}  TP: {confusion_matrix_test[1,1]}\")"
   ]
  },
  {
   "cell_type": "code",
   "execution_count": 7,
   "id": "0c3420d8-d1c3-4c68-8c73-54594a8694b3",
   "metadata": {},
   "outputs": [
    {
     "name": "stdout",
     "output_type": "stream",
     "text": [
      "F1 Score (Test Data): 0.7958115183246073\n",
      "Classification Report (Test Data):\n",
      "               precision    recall  f1-score   support\n",
      "\n",
      "           0       0.80      0.77      0.78        91\n",
      "           1       0.78      0.81      0.80        94\n",
      "\n",
      "    accuracy                           0.79       185\n",
      "   macro avg       0.79      0.79      0.79       185\n",
      "weighted avg       0.79      0.79      0.79       185\n",
      "\n",
      "Precision: 0.7835051546391752\n",
      "Recall: 0.8085106382978723\n",
      "F1 Score: 0.7958115183246073\n",
      "Matthews Correlation Coefficient (MCC): 0.5783502330201886\n"
     ]
    }
   ],
   "source": [
    "from sklearn.metrics import f1_score\n",
    "# calculation of F1 score\n",
    "f1_test = f1_score(y_test, y_test_pred)\n",
    "print(\"F1 Score (Test Data):\", f1_test)\n",
    "\n",
    "#calculation of classification report for test and evaluation data\n",
    "print(\"Classification Report (Test Data):\\n\", classification_report(y_test, y_test_pred))\n",
    "\n",
    "from sklearn.metrics import precision_score, recall_score, f1_score, matthews_corrcoef\n",
    "# Compute metrics\n",
    "precision = precision_score(y_test, y_test_pred)\n",
    "recall = recall_score(y_test, y_test_pred)\n",
    "f1 = f1_score(y_test, y_test_pred)\n",
    "mcc = matthews_corrcoef(y_test, y_test_pred)\n",
    "\n",
    "# Print the results\n",
    "print(\"Precision:\", precision)\n",
    "print(\"Recall:\", recall)\n",
    "print(\"F1 Score:\", f1)\n",
    "print(\"Matthews Correlation Coefficient (MCC):\", mcc)"
   ]
  },
  {
   "cell_type": "code",
   "execution_count": 9,
   "id": "e5b394bc-c49a-448c-ba93-1121c8836952",
   "metadata": {
    "scrolled": true
   },
   "outputs": [
    {
     "name": "stdout",
     "output_type": "stream",
     "text": [
      "Test Data ROC AUC: 0.8780687397708674\n",
      "Test Data FPR: [0.         0.         0.         0.01098901 0.01098901 0.03296703\n",
      " 0.03296703 0.04395604 0.04395604 0.05494505 0.05494505 0.06593407\n",
      " 0.06593407 0.08791209 0.08791209 0.0989011  0.0989011  0.10989011\n",
      " 0.10989011 0.13186813 0.13186813 0.14285714 0.14285714 0.15384615\n",
      " 0.15384615 0.16483516 0.16483516 0.18681319 0.18681319 0.21978022\n",
      " 0.21978022 0.23076923 0.23076923 0.25274725 0.25274725 0.27472527\n",
      " 0.27472527 0.28571429 0.28571429 0.2967033  0.2967033  0.31868132\n",
      " 0.31868132 0.34065934 0.34065934 0.36263736 0.36263736 0.42857143\n",
      " 0.42857143 0.47252747 0.47252747 0.50549451 0.50549451 0.83516484\n",
      " 0.83516484 1.        ]\n",
      "Test Data TPR: [0.         0.0106383  0.34042553 0.34042553 0.36170213 0.36170213\n",
      " 0.38297872 0.38297872 0.43617021 0.43617021 0.45744681 0.45744681\n",
      " 0.46808511 0.46808511 0.4787234  0.4787234  0.5        0.5\n",
      " 0.54255319 0.54255319 0.60638298 0.60638298 0.67021277 0.67021277\n",
      " 0.71276596 0.71276596 0.76595745 0.76595745 0.77659574 0.77659574\n",
      " 0.78723404 0.78723404 0.85106383 0.85106383 0.87234043 0.87234043\n",
      " 0.88297872 0.88297872 0.89361702 0.89361702 0.90425532 0.90425532\n",
      " 0.92553191 0.92553191 0.93617021 0.93617021 0.94680851 0.94680851\n",
      " 0.96808511 0.96808511 0.9787234  0.9787234  0.9893617  0.9893617\n",
      " 1.         1.        ]\n",
      "Test Data Thresholds: [       inf 0.99277764 0.90451904 0.89926325 0.89132277 0.88056544\n",
      " 0.87638081 0.87394121 0.86695527 0.86213004 0.85997483 0.85238349\n",
      " 0.85128341 0.84350663 0.84128839 0.84047471 0.83371525 0.82682719\n",
      " 0.82012083 0.79572584 0.773695   0.76895394 0.72799692 0.72373402\n",
      " 0.68955336 0.68402456 0.6055622  0.57888146 0.56342158 0.52875691\n",
      " 0.51408459 0.50921086 0.4591413  0.44089159 0.43959072 0.42047142\n",
      " 0.41925729 0.40253453 0.39409661 0.382107   0.3448476  0.32381872\n",
      " 0.32024698 0.31368141 0.30429068 0.25680557 0.24158289 0.19694354\n",
      " 0.15906764 0.14265924 0.13534283 0.12494165 0.12022337 0.02511439\n",
      " 0.0228002  0.00434812]\n",
      "ROC curve saved as 'logreg_esm2_roc_auc_curve.png'.\n"
     ]
    },
    {
     "data": {
      "image/png": "[encoded data removed]",
      "text/plain": [
       "<Figure size 600x600 with 1 Axes>"
      ]
     },
     "metadata": {},
     "output_type": "display_data"
    }
   ],
   "source": [
    "# Evaluate on the test dataset\n",
    "y_test_pred = best_logreg_model.predict(X_test)\n",
    "y_test_prob = best_logreg_model.predict_proba(X_test)[:, 1]\n",
    "\n",
    "import matplotlib.pyplot as plt\n",
    "from sklearn.metrics import roc_curve, auc\n",
    "\n",
    "# Generate ROC for test dataset\n",
    "fpr_test, tpr_test, thresholds_test = roc_curve(y_test, y_test_prob)\n",
    "roc_auc_test = auc(fpr_test, tpr_test)\n",
    "\n",
    "# Print the values\n",
    "print(\"Test Data ROC AUC:\", roc_auc_test)\n",
    "print(\"Test Data FPR:\", fpr_test)\n",
    "print(\"Test Data TPR:\", tpr_test)\n",
    "print(\"Test Data Thresholds:\", thresholds_test)\n",
    "\n",
    "# Create a plot\n",
    "fig, ax = plt.subplots(figsize=(6, 6))  # This defines 'ax' properly\n",
    "\n",
    "# Plot ROC curve\n",
    "ax.plot(fpr_test, tpr_test, label=f\"ROC AUC = {roc_auc_test:.2f}\", color=\"blue\")\n",
    "ax.plot([0, 1], [0, 1], 'k--', label=\"Random Classifier (AUC = 0.50)\")\n",
    "ax.set_title(\"Test Data - ROC Curve\")\n",
    "ax.set_xlabel(\"False Positive Rate\")\n",
    "ax.set_ylabel(\"True Positive Rate\")\n",
    "ax.legend(loc=\"lower right\")\n",
    "\n",
    "# Adjust layout and save figure\n",
    "plt.tight_layout()\n",
    "plt.savefig(\"logreg_esm2_roc_auc_curve.png\", dpi=500)\n",
    "print(\"ROC curve saved as 'logreg_esm2_roc_auc_curve.png'.\")\n",
    "\n",
    "# Show the plot\n",
    "plt.show()"
   ]
  },
  {
   "cell_type": "code",
   "execution_count": 8,
   "id": "9304c7e0-0b12-4adc-97b6-98622ee28c22",
   "metadata": {
    "scrolled": true
   },
   "outputs": [
    {
     "name": "stderr",
     "output_type": "stream",
     "text": [
      "C:\\Users\\myousaf23\\anaconda3\\Lib\\site-packages\\sklearn\\linear_model\\_sag.py:349: ConvergenceWarning: The max_iter was reached which means the coef_ did not converge\n",
      "  warnings.warn(\n",
      "C:\\Users\\myousaf23\\anaconda3\\Lib\\site-packages\\sklearn\\linear_model\\_sag.py:349: ConvergenceWarning: The max_iter was reached which means the coef_ did not converge\n",
      "  warnings.warn(\n",
      "C:\\Users\\myousaf23\\anaconda3\\Lib\\site-packages\\sklearn\\linear_model\\_sag.py:349: ConvergenceWarning: The max_iter was reached which means the coef_ did not converge\n",
      "  warnings.warn(\n",
      "C:\\Users\\myousaf23\\anaconda3\\Lib\\site-packages\\sklearn\\linear_model\\_sag.py:349: ConvergenceWarning: The max_iter was reached which means the coef_ did not converge\n",
      "  warnings.warn(\n",
      "C:\\Users\\myousaf23\\anaconda3\\Lib\\site-packages\\sklearn\\linear_model\\_sag.py:349: ConvergenceWarning: The max_iter was reached which means the coef_ did not converge\n",
      "  warnings.warn(\n",
      "C:\\Users\\myousaf23\\anaconda3\\Lib\\site-packages\\sklearn\\linear_model\\_sag.py:349: ConvergenceWarning: The max_iter was reached which means the coef_ did not converge\n",
      "  warnings.warn(\n",
      "C:\\Users\\myousaf23\\anaconda3\\Lib\\site-packages\\sklearn\\linear_model\\_sag.py:349: ConvergenceWarning: The max_iter was reached which means the coef_ did not converge\n",
      "  warnings.warn(\n",
      "C:\\Users\\myousaf23\\anaconda3\\Lib\\site-packages\\sklearn\\linear_model\\_sag.py:349: ConvergenceWarning: The max_iter was reached which means the coef_ did not converge\n",
      "  warnings.warn(\n",
      "C:\\Users\\myousaf23\\anaconda3\\Lib\\site-packages\\sklearn\\linear_model\\_sag.py:349: ConvergenceWarning: The max_iter was reached which means the coef_ did not converge\n",
      "  warnings.warn(\n"
     ]
    },
    {
     "name": "stdout",
     "output_type": "stream",
     "text": [
      "10-Fold Cross-Validation Accuracy Scores: [0.74324324 0.86486486 0.71621622 0.83783784 0.83783784 0.77027027\n",
      " 0.90540541 0.72972973 0.80821918 0.89041096]\n",
      "Mean 10-Fold CV Accuracy: 0.8104035542391707\n",
      "Accuracy of each fold has been saved to 'cv_accuracies_logreg_esm2.txt'\n"
     ]
    },
    {
     "name": "stderr",
     "output_type": "stream",
     "text": [
      "C:\\Users\\myousaf23\\anaconda3\\Lib\\site-packages\\sklearn\\linear_model\\_sag.py:349: ConvergenceWarning: The max_iter was reached which means the coef_ did not converge\n",
      "  warnings.warn(\n"
     ]
    }
   ],
   "source": [
    "# Perform 10-fold cross-validation on the best model\n",
    "cross_val_scores = cross_val_score(best_logreg_model, X_train, y_train, cv=10, scoring='accuracy')\n",
    "print(\"10-Fold Cross-Validation Accuracy Scores:\", cross_val_scores)\n",
    "print(\"Mean 10-Fold CV Accuracy:\", cross_val_scores.mean())\n",
    "\n",
    "# save accuracy of each fold to a text file\n",
    "with open('cv_accuracies_logreg_esm2.txt', 'w') as f:\n",
    "    f.write(\"Cross-Validation Accuracies for each fold:\\n\")\n",
    "    for i, score in enumerate(cross_val_scores):\n",
    "        f.write(f\"Fold {i+1} Accuracy: {score:.4f}\\n\")\n",
    "\n",
    "print(\"Accuracy of each fold has been saved to 'cv_accuracies_logreg_esm2.txt'\")"
   ]
  },
  {
   "cell_type": "code",
   "execution_count": 10,
   "id": "f0581c35-8e68-4a99-a48a-63a5549819af",
   "metadata": {
    "scrolled": true
   },
   "outputs": [
    {
     "name": "stdout",
     "output_type": "stream",
     "text": [
      "Mean Accuracy: 81.04\n",
      "Mean AUC: 0.9415\n"
     ]
    },
    {
     "name": "stderr",
     "output_type": "stream",
     "text": [
      "C:\\Users\\myousaf23\\anaconda3\\Lib\\site-packages\\sklearn\\linear_model\\_sag.py:349: ConvergenceWarning: The max_iter was reached which means the coef_ did not converge\n",
      "  warnings.warn(\n",
      "C:\\Users\\myousaf23\\anaconda3\\Lib\\site-packages\\sklearn\\linear_model\\_sag.py:349: ConvergenceWarning: The max_iter was reached which means the coef_ did not converge\n",
      "  warnings.warn(\n",
      "C:\\Users\\myousaf23\\anaconda3\\Lib\\site-packages\\sklearn\\linear_model\\_sag.py:349: ConvergenceWarning: The max_iter was reached which means the coef_ did not converge\n",
      "  warnings.warn(\n",
      "C:\\Users\\myousaf23\\anaconda3\\Lib\\site-packages\\sklearn\\linear_model\\_sag.py:349: ConvergenceWarning: The max_iter was reached which means the coef_ did not converge\n",
      "  warnings.warn(\n",
      "C:\\Users\\myousaf23\\anaconda3\\Lib\\site-packages\\sklearn\\linear_model\\_sag.py:349: ConvergenceWarning: The max_iter was reached which means the coef_ did not converge\n",
      "  warnings.warn(\n",
      "C:\\Users\\myousaf23\\anaconda3\\Lib\\site-packages\\sklearn\\linear_model\\_sag.py:349: ConvergenceWarning: The max_iter was reached which means the coef_ did not converge\n",
      "  warnings.warn(\n",
      "C:\\Users\\myousaf23\\anaconda3\\Lib\\site-packages\\sklearn\\linear_model\\_sag.py:349: ConvergenceWarning: The max_iter was reached which means the coef_ did not converge\n",
      "  warnings.warn(\n",
      "C:\\Users\\myousaf23\\anaconda3\\Lib\\site-packages\\sklearn\\linear_model\\_sag.py:349: ConvergenceWarning: The max_iter was reached which means the coef_ did not converge\n",
      "  warnings.warn(\n",
      "C:\\Users\\myousaf23\\anaconda3\\Lib\\site-packages\\sklearn\\linear_model\\_sag.py:349: ConvergenceWarning: The max_iter was reached which means the coef_ did not converge\n",
      "  warnings.warn(\n",
      "C:\\Users\\myousaf23\\anaconda3\\Lib\\site-packages\\sklearn\\linear_model\\_sag.py:349: ConvergenceWarning: The max_iter was reached which means the coef_ did not converge\n",
      "  warnings.warn(\n"
     ]
    },
    {
     "data": {
      "image/png": "[encoded data removed]",
      "text/plain": [
       "<Figure size 640x480 with 1 Axes>"
      ]
     },
     "metadata": {},
     "output_type": "display_data"
    }
   ],
   "source": [
    "# make roc curve of all folds with mean auc and mean accuracy printed on the plot\n",
    "mean_accuracy = cross_val_scores.mean() * 100\n",
    "print(f\"Mean Accuracy: {mean_accuracy:.2f}\")\n",
    "# Step 6: Generate ROC Curve\n",
    "mean_auc = roc_auc_score(y_train, best_logreg_model.predict_proba(X_train)[:, 1])\n",
    "print(f\"Mean AUC: {mean_auc:.4f}\")\n",
    "\n",
    "cv = StratifiedKFold(n_splits=10)\n",
    "tprs = []\n",
    "aucs = []\n",
    "mean_fpr = np.linspace(0, 1, 100)\n",
    "for i, (train_idx, test_idx) in enumerate(cv.split(X_train, y_train)):\n",
    "    best_logreg_model.fit(X_train.iloc[train_idx], y_train.iloc[train_idx])\n",
    "    y_prob = best_logreg_model.predict_proba(X_train.iloc[test_idx])[:, 1]\n",
    "    fpr, tpr, _ = roc_curve(y_train.iloc[test_idx], y_prob)\n",
    "    tprs.append(np.interp(mean_fpr, fpr, tpr))\n",
    "    roc_auc = auc(fpr, tpr)\n",
    "    aucs.append(roc_auc)\n",
    "    plt.plot(fpr, tpr, lw=1, alpha=0.3, label=f'Fold {i+1} (AUC = {roc_auc:.2f})')\n",
    "\n",
    "plt.plot([0, 1], [0, 1], color='gray', linestyle='--')\n",
    "mean_tpr = np.mean(tprs, axis=0)\n",
    "mean_auc = auc(mean_fpr, mean_tpr)\n",
    "plt.plot(mean_fpr, mean_tpr, label=f'Mean ROC (AUC = {mean_auc:.2f})', lw=2)\n",
    "\n",
    "plt.xlabel('False Positive Rate')\n",
    "plt.ylabel('True Positive Rate')\n",
    "plt.title('ROC Curve')\n",
    "plt.legend(loc=\"lower right\")\n",
    "plt.savefig(\"cv_roc_curve_logreg_esm2.png\", dpi=500)\n",
    "plt.show()"
   ]
  },
  {
   "cell_type": "code",
   "execution_count": null,
   "id": "d9045f0b-71c2-4339-897e-9b4e57639ba1",
   "metadata": {},
   "outputs": [],
   "source": []
  }
 ],
 "metadata": {
  "kernelspec": {
   "display_name": "Python 3 (ipykernel)",
   "language": "python",
   "name": "python3"
  },
  "language_info": {
   "codemirror_mode": {
    "name": "ipython",
    "version": 3
   },
   "file_extension": ".py",
   "mimetype": "text/x-python",
   "name": "python",
   "nbconvert_exporter": "python",
   "pygments_lexer": "ipython3",
   "version": "3.11.5"
  }
 },
 "nbformat": 4,
 "nbformat_minor": 5
}
