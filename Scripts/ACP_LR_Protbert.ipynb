{
 "cells": [
  {
   "cell_type": "code",
   "execution_count": 1,
   "id": "ef9f05b2-263f-457e-b543-8a00226aa575",
   "metadata": {},
   "outputs": [
    {
     "name": "stdout",
     "output_type": "stream",
     "text": [
      "Current Working Directory: D:\\ACP\n"
     ]
    }
   ],
   "source": [
    "import os\n",
    "# Set working directory\n",
    "os.chdir(\"D:/ACP\")  # Windows path fix: use forward slash or raw string\n",
    "\n",
    "print(\"Current Working Directory:\", os.getcwd())"
   ]
  },
  {
   "cell_type": "code",
   "execution_count": 2,
   "id": "4d94a0ce-70df-477c-bc23-3f2d7723e439",
   "metadata": {},
   "outputs": [],
   "source": [
    "import pandas as pd\n",
    "import joblib\n",
    "import numpy as np\n",
    "from sklearn.linear_model import LogisticRegression\n",
    "from sklearn.model_selection import GridSearchCV, cross_val_score\n",
    "from sklearn.model_selection import StratifiedKFold\n",
    "from sklearn.metrics import (\n",
    "    classification_report, confusion_matrix, accuracy_score, roc_auc_score, roc_curve, auc\n",
    ")\n",
    "import matplotlib.pyplot as plt"
   ]
  },
  {
   "cell_type": "code",
   "execution_count": 3,
   "id": "7571ab73-85a4-4284-988c-648207d21e77",
   "metadata": {},
   "outputs": [],
   "source": [
    "# Step 1: Load the datasets (datasets were already splited and saved as csv files, 80,20 split)\n",
    "train_data = pd.read_csv(\"acp_train_bert_features.csv\") #train data\n",
    "test_data = pd.read_csv(\"acp_test_bert_features.csv\") #test data\n",
    "# Step 2: Separate labels and features\n",
    "y_train, X_train = train_data.iloc[:, 2], train_data.iloc[:, 3:] # third column: Label, # from fourth column onward: features\n",
    "y_test, X_test = test_data.iloc[:, 2], test_data.iloc[:, 3:]"
   ]
  },
  {
   "cell_type": "code",
   "execution_count": 5,
   "id": "a319fe34-4445-4e8a-a7b5-729c1579641b",
   "metadata": {
    "scrolled": true
   },
   "outputs": [
    {
     "name": "stdout",
     "output_type": "stream",
     "text": [
      "Fitting 5 folds for each of 240 candidates, totalling 1200 fits\n",
      "[CV] END C=0.001, class_weight=None, max_iter=100, penalty=l2, solver=liblinear; total time=   0.0s\n",
      "[CV] END C=0.001, class_weight=None, max_iter=100, penalty=l2, solver=liblinear; total time=   0.0s\n",
      "[CV] END C=0.001, class_weight=None, max_iter=100, penalty=l2, solver=liblinear; total time=   0.0s\n",
      "[CV] END C=0.001, class_weight=None, max_iter=100, penalty=l2, solver=liblinear; total time=   0.0s\n",
      "[CV] END C=0.001, class_weight=None, max_iter=100, penalty=l2, solver=liblinear; total time=   0.0s\n",
      "[CV] END C=0.001, class_weight=None, max_iter=100, penalty=l2, solver=saga; total time=   0.1s\n",
      "[CV] END C=0.001, class_weight=None, max_iter=100, penalty=l2, solver=saga; total time=   0.1s\n",
      "[CV] END C=0.001, class_weight=None, max_iter=100, penalty=l2, solver=saga; total time=   0.1s\n",
      "[CV] END C=0.001, class_weight=None, max_iter=100, penalty=l2, solver=saga; total time=   0.1s\n",
      "[CV] END C=0.001, class_weight=None, max_iter=100, penalty=l2, solver=saga; total time=   0.1s\n",
      "[CV] END C=0.001, class_weight=None, max_iter=100, penalty=l1, solver=liblinear; total time=   0.0s\n",
      "[CV] END C=0.001, class_weight=None, max_iter=100, penalty=l1, solver=liblinear; total time=   0.0s\n",
      "[CV] END C=0.001, class_weight=None, max_iter=100, penalty=l1, solver=liblinear; total time=   0.0s\n",
      "[CV] END C=0.001, class_weight=None, max_iter=100, penalty=l1, solver=liblinear; total time=   0.0s\n",
      "[CV] END C=0.001, class_weight=None, max_iter=100, penalty=l1, solver=liblinear; total time=   0.0s\n",
      "[CV] END C=0.001, class_weight=None, max_iter=100, penalty=l1, solver=saga; total time=   0.0s\n",
      "[CV] END C=0.001, class_weight=None, max_iter=100, penalty=l1, solver=saga; total time=   0.0s\n",
      "[CV] END C=0.001, class_weight=None, max_iter=100, penalty=l1, solver=saga; total time=   0.0s\n",
      "[CV] END C=0.001, class_weight=None, max_iter=100, penalty=l1, solver=saga; total time=   0.0s\n",
      "[CV] END C=0.001, class_weight=None, max_iter=100, penalty=l1, solver=saga; total time=   0.0s\n",
      "[CV] END C=0.001, class_weight=None, max_iter=200, penalty=l2, solver=liblinear; total time=   0.0s\n",
      "[CV] END C=0.001, class_weight=None, max_iter=200, penalty=l2, solver=liblinear; total time=   0.0s\n",
      "[CV] END C=0.001, class_weight=None, max_iter=200, penalty=l2, solver=liblinear; total time=   0.0s\n",
      "[CV] END C=0.001, class_weight=None, max_iter=200, penalty=l2, solver=liblinear; total time=   0.0s\n",
      "[CV] END C=0.001, class_weight=None, max_iter=200, penalty=l2, solver=liblinear; total time=   0.0s\n",
      "[CV] END C=0.001, class_weight=None, max_iter=200, penalty=l2, solver=saga; total time=   0.1s\n",
      "[CV] END C=0.001, class_weight=None, max_iter=200, penalty=l2, solver=saga; total time=   0.1s\n",
      "[CV] END C=0.001, class_weight=None, max_iter=200, penalty=l2, solver=saga; total time=   0.1s\n",
      "[CV] END C=0.001, class_weight=None, max_iter=200, penalty=l2, solver=saga; total time=   0.1s\n",
      "[CV] END C=0.001, class_weight=None, max_iter=200, penalty=l2, solver=saga; total time=   0.1s\n",
      "[CV] END C=0.001, class_weight=None, max_iter=200, penalty=l1, solver=liblinear; total time=   0.0s\n",
      "[CV] END C=0.001, class_weight=None, max_iter=200, penalty=l1, solver=liblinear; total time=   0.0s\n",
      "[CV] END C=0.001, class_weight=None, max_iter=200, penalty=l1, solver=liblinear; total time=   0.0s\n",
      "[CV] END C=0.001, class_weight=None, max_iter=200, penalty=l1, solver=liblinear; total time=   0.0s\n",
      "[CV] END C=0.001, class_weight=None, max_iter=200, penalty=l1, solver=liblinear; total time=   0.0s\n",
      "[CV] END C=0.001, class_weight=None, max_iter=200, penalty=l1, solver=saga; total time=   0.0s\n",
      "[CV] END C=0.001, class_weight=None, max_iter=200, penalty=l1, solver=saga; total time=   0.0s\n",
      "[CV] END C=0.001, class_weight=None, max_iter=200, penalty=l1, solver=saga; total time=   0.0s\n",
      "[CV] END C=0.001, class_weight=None, max_iter=200, penalty=l1, solver=saga; total time=   0.0s\n",
      "[CV] END C=0.001, class_weight=None, max_iter=200, penalty=l1, solver=saga; total time=   0.0s\n",
      "[CV] END C=0.001, class_weight=None, max_iter=500, penalty=l2, solver=liblinear; total time=   0.0s\n",
      "[CV] END C=0.001, class_weight=None, max_iter=500, penalty=l2, solver=liblinear; total time=   0.0s\n",
      "[CV] END C=0.001, class_weight=None, max_iter=500, penalty=l2, solver=liblinear; total time=   0.0s\n",
      "[CV] END C=0.001, class_weight=None, max_iter=500, penalty=l2, solver=liblinear; total time=   0.0s\n",
      "[CV] END C=0.001, class_weight=None, max_iter=500, penalty=l2, solver=liblinear; total time=   0.0s\n",
      "[CV] END C=0.001, class_weight=None, max_iter=500, penalty=l2, solver=saga; total time=   0.1s\n",
      "[CV] END C=0.001, class_weight=None, max_iter=500, penalty=l2, solver=saga; total time=   0.1s\n",
      "[CV] END C=0.001, class_weight=None, max_iter=500, penalty=l2, solver=saga; total time=   0.1s\n",
      "[CV] END C=0.001, class_weight=None, max_iter=500, penalty=l2, solver=saga; total time=   0.1s\n",
      "[CV] END C=0.001, class_weight=None, max_iter=500, penalty=l2, solver=saga; total time=   0.1s\n",
      "[CV] END C=0.001, class_weight=None, max_iter=500, penalty=l1, solver=liblinear; total time=   0.0s\n",
      "[CV] END C=0.001, class_weight=None, max_iter=500, penalty=l1, solver=liblinear; total time=   0.0s\n",
      "[CV] END C=0.001, class_weight=None, max_iter=500, penalty=l1, solver=liblinear; total time=   0.0s\n",
      "[CV] END C=0.001, class_weight=None, max_iter=500, penalty=l1, solver=liblinear; total time=   0.0s\n",
      "[CV] END C=0.001, class_weight=None, max_iter=500, penalty=l1, solver=liblinear; total time=   0.0s\n",
      "[CV] END C=0.001, class_weight=None, max_iter=500, penalty=l1, solver=saga; total time=   0.0s\n",
      "[CV] END C=0.001, class_weight=None, max_iter=500, penalty=l1, solver=saga; total time=   0.0s\n",
      "[CV] END C=0.001, class_weight=None, max_iter=500, penalty=l1, solver=saga; total time=   0.0s\n",
      "[CV] END C=0.001, class_weight=None, max_iter=500, penalty=l1, solver=saga; total time=   0.0s\n",
      "[CV] END C=0.001, class_weight=None, max_iter=500, penalty=l1, solver=saga; total time=   0.0s\n",
      "[CV] END C=0.001, class_weight=None, max_iter=700, penalty=l2, solver=liblinear; total time=   0.0s\n",
      "[CV] END C=0.001, class_weight=None, max_iter=700, penalty=l2, solver=liblinear; total time=   0.0s\n",
      "[CV] END C=0.001, class_weight=None, max_iter=700, penalty=l2, solver=liblinear; total time=   0.0s\n",
      "[CV] END C=0.001, class_weight=None, max_iter=700, penalty=l2, solver=liblinear; total time=   0.0s\n",
      "[CV] END C=0.001, class_weight=None, max_iter=700, penalty=l2, solver=liblinear; total time=   0.0s\n",
      "[CV] END C=0.001, class_weight=None, max_iter=700, penalty=l2, solver=saga; total time=   0.1s\n",
      "[CV] END C=0.001, class_weight=None, max_iter=700, penalty=l2, solver=saga; total time=   0.1s\n",
      "[CV] END C=0.001, class_weight=None, max_iter=700, penalty=l2, solver=saga; total time=   0.1s\n",
      "[CV] END C=0.001, class_weight=None, max_iter=700, penalty=l2, solver=saga; total time=   0.1s\n",
      "[CV] END C=0.001, class_weight=None, max_iter=700, penalty=l2, solver=saga; total time=   0.1s\n",
      "[CV] END C=0.001, class_weight=None, max_iter=700, penalty=l1, solver=liblinear; total time=   0.0s\n",
      "[CV] END C=0.001, class_weight=None, max_iter=700, penalty=l1, solver=liblinear; total time=   0.0s\n",
      "[CV] END C=0.001, class_weight=None, max_iter=700, penalty=l1, solver=liblinear; total time=   0.0s\n",
      "[CV] END C=0.001, class_weight=None, max_iter=700, penalty=l1, solver=liblinear; total time=   0.0s\n",
      "[CV] END C=0.001, class_weight=None, max_iter=700, penalty=l1, solver=liblinear; total time=   0.0s\n",
      "[CV] END C=0.001, class_weight=None, max_iter=700, penalty=l1, solver=saga; total time=   0.0s\n",
      "[CV] END C=0.001, class_weight=None, max_iter=700, penalty=l1, solver=saga; total time=   0.0s\n",
      "[CV] END C=0.001, class_weight=None, max_iter=700, penalty=l1, solver=saga; total time=   0.0s\n",
      "[CV] END C=0.001, class_weight=None, max_iter=700, penalty=l1, solver=saga; total time=   0.0s\n",
      "[CV] END C=0.001, class_weight=None, max_iter=700, penalty=l1, solver=saga; total time=   0.0s\n",
      "[CV] END C=0.001, class_weight=None, max_iter=1000, penalty=l2, solver=liblinear; total time=   0.0s\n",
      "[CV] END C=0.001, class_weight=None, max_iter=1000, penalty=l2, solver=liblinear; total time=   0.0s\n",
      "[CV] END C=0.001, class_weight=None, max_iter=1000, penalty=l2, solver=liblinear; total time=   0.0s\n",
      "[CV] END C=0.001, class_weight=None, max_iter=1000, penalty=l2, solver=liblinear; total time=   0.0s\n",
      "[CV] END C=0.001, class_weight=None, max_iter=1000, penalty=l2, solver=liblinear; total time=   0.0s\n",
      "[CV] END C=0.001, class_weight=None, max_iter=1000, penalty=l2, solver=saga; total time=   0.1s\n",
      "[CV] END C=0.001, class_weight=None, max_iter=1000, penalty=l2, solver=saga; total time=   0.1s\n",
      "[CV] END C=0.001, class_weight=None, max_iter=1000, penalty=l2, solver=saga; total time=   0.1s\n",
      "[CV] END C=0.001, class_weight=None, max_iter=1000, penalty=l2, solver=saga; total time=   0.1s\n",
      "[CV] END C=0.001, class_weight=None, max_iter=1000, penalty=l2, solver=saga; total time=   0.1s\n",
      "[CV] END C=0.001, class_weight=None, max_iter=1000, penalty=l1, solver=liblinear; total time=   0.0s\n",
      "[CV] END C=0.001, class_weight=None, max_iter=1000, penalty=l1, solver=liblinear; total time=   0.0s\n",
      "[CV] END C=0.001, class_weight=None, max_iter=1000, penalty=l1, solver=liblinear; total time=   0.0s\n",
      "[CV] END C=0.001, class_weight=None, max_iter=1000, penalty=l1, solver=liblinear; total time=   0.0s\n",
      "[CV] END C=0.001, class_weight=None, max_iter=1000, penalty=l1, solver=liblinear; total time=   0.0s\n",
      "[CV] END C=0.001, class_weight=None, max_iter=1000, penalty=l1, solver=saga; total time=   0.0s\n",
      "[CV] END C=0.001, class_weight=None, max_iter=1000, penalty=l1, solver=saga; total time=   0.0s\n",
      "[CV] END C=0.001, class_weight=None, max_iter=1000, penalty=l1, solver=saga; total time=   0.0s\n",
      "[CV] END C=0.001, class_weight=None, max_iter=1000, penalty=l1, solver=saga; total time=   0.0s\n",
      "[CV] END C=0.001, class_weight=None, max_iter=1000, penalty=l1, solver=saga; total time=   0.0s\n",
      "[CV] END C=0.001, class_weight=balanced, max_iter=100, penalty=l2, solver=liblinear; total time=   0.0s\n",
      "[CV] END C=0.001, class_weight=balanced, max_iter=100, penalty=l2, solver=liblinear; total time=   0.0s\n",
      "[CV] END C=0.001, class_weight=balanced, max_iter=100, penalty=l2, solver=liblinear; total time=   0.0s\n",
      "[CV] END C=0.001, class_weight=balanced, max_iter=100, penalty=l2, solver=liblinear; total time=   0.0s\n",
      "[CV] END C=0.001, class_weight=balanced, max_iter=100, penalty=l2, solver=liblinear; total time=   0.0s\n",
      "[CV] END C=0.001, class_weight=balanced, max_iter=100, penalty=l2, solver=saga; total time=   0.1s\n",
      "[CV] END C=0.001, class_weight=balanced, max_iter=100, penalty=l2, solver=saga; total time=   0.1s\n",
      "[CV] END C=0.001, class_weight=balanced, max_iter=100, penalty=l2, solver=saga; total time=   0.1s\n",
      "[CV] END C=0.001, class_weight=balanced, max_iter=100, penalty=l2, solver=saga; total time=   0.1s\n",
      "[CV] END C=0.001, class_weight=balanced, max_iter=100, penalty=l2, solver=saga; total time=   0.1s\n",
      "[CV] END C=0.001, class_weight=balanced, max_iter=100, penalty=l1, solver=liblinear; total time=   0.0s\n",
      "[CV] END C=0.001, class_weight=balanced, max_iter=100, penalty=l1, solver=liblinear; total time=   0.0s\n",
      "[CV] END C=0.001, class_weight=balanced, max_iter=100, penalty=l1, solver=liblinear; total time=   0.0s\n",
      "[CV] END C=0.001, class_weight=balanced, max_iter=100, penalty=l1, solver=liblinear; total time=   0.0s\n",
      "[CV] END C=0.001, class_weight=balanced, max_iter=100, penalty=l1, solver=liblinear; total time=   0.0s\n",
      "[CV] END C=0.001, class_weight=balanced, max_iter=100, penalty=l1, solver=saga; total time=   0.0s\n",
      "[CV] END C=0.001, class_weight=balanced, max_iter=100, penalty=l1, solver=saga; total time=   0.0s\n",
      "[CV] END C=0.001, class_weight=balanced, max_iter=100, penalty=l1, solver=saga; total time=   0.0s\n",
      "[CV] END C=0.001, class_weight=balanced, max_iter=100, penalty=l1, solver=saga; total time=   0.0s\n",
      "[CV] END C=0.001, class_weight=balanced, max_iter=100, penalty=l1, solver=saga; total time=   0.0s\n",
      "[CV] END C=0.001, class_weight=balanced, max_iter=200, penalty=l2, solver=liblinear; total time=   0.0s\n",
      "[CV] END C=0.001, class_weight=balanced, max_iter=200, penalty=l2, solver=liblinear; total time=   0.0s\n",
      "[CV] END C=0.001, class_weight=balanced, max_iter=200, penalty=l2, solver=liblinear; total time=   0.0s\n",
      "[CV] END C=0.001, class_weight=balanced, max_iter=200, penalty=l2, solver=liblinear; total time=   0.0s\n",
      "[CV] END C=0.001, class_weight=balanced, max_iter=200, penalty=l2, solver=liblinear; total time=   0.0s\n",
      "[CV] END C=0.001, class_weight=balanced, max_iter=200, penalty=l2, solver=saga; total time=   0.1s\n",
      "[CV] END C=0.001, class_weight=balanced, max_iter=200, penalty=l2, solver=saga; total time=   0.1s\n",
      "[CV] END C=0.001, class_weight=balanced, max_iter=200, penalty=l2, solver=saga; total time=   0.1s\n",
      "[CV] END C=0.001, class_weight=balanced, max_iter=200, penalty=l2, solver=saga; total time=   0.1s\n",
      "[CV] END C=0.001, class_weight=balanced, max_iter=200, penalty=l2, solver=saga; total time=   0.1s\n",
      "[CV] END C=0.001, class_weight=balanced, max_iter=200, penalty=l1, solver=liblinear; total time=   0.0s\n",
      "[CV] END C=0.001, class_weight=balanced, max_iter=200, penalty=l1, solver=liblinear; total time=   0.0s\n",
      "[CV] END C=0.001, class_weight=balanced, max_iter=200, penalty=l1, solver=liblinear; total time=   0.0s\n",
      "[CV] END C=0.001, class_weight=balanced, max_iter=200, penalty=l1, solver=liblinear; total time=   0.0s\n",
      "[CV] END C=0.001, class_weight=balanced, max_iter=200, penalty=l1, solver=liblinear; total time=   0.0s\n",
      "[CV] END C=0.001, class_weight=balanced, max_iter=200, penalty=l1, solver=saga; total time=   0.0s\n",
      "[CV] END C=0.001, class_weight=balanced, max_iter=200, penalty=l1, solver=saga; total time=   0.0s\n",
      "[CV] END C=0.001, class_weight=balanced, max_iter=200, penalty=l1, solver=saga; total time=   0.0s\n",
      "[CV] END C=0.001, class_weight=balanced, max_iter=200, penalty=l1, solver=saga; total time=   0.0s\n",
      "[CV] END C=0.001, class_weight=balanced, max_iter=200, penalty=l1, solver=saga; total time=   0.0s\n",
      "[CV] END C=0.001, class_weight=balanced, max_iter=500, penalty=l2, solver=liblinear; total time=   0.0s\n",
      "[CV] END C=0.001, class_weight=balanced, max_iter=500, penalty=l2, solver=liblinear; total time=   0.0s\n",
      "[CV] END C=0.001, class_weight=balanced, max_iter=500, penalty=l2, solver=liblinear; total time=   0.0s\n",
      "[CV] END C=0.001, class_weight=balanced, max_iter=500, penalty=l2, solver=liblinear; total time=   0.0s\n",
      "[CV] END C=0.001, class_weight=balanced, max_iter=500, penalty=l2, solver=liblinear; total time=   0.0s\n",
      "[CV] END C=0.001, class_weight=balanced, max_iter=500, penalty=l2, solver=saga; total time=   0.1s\n",
      "[CV] END C=0.001, class_weight=balanced, max_iter=500, penalty=l2, solver=saga; total time=   0.1s\n",
      "[CV] END C=0.001, class_weight=balanced, max_iter=500, penalty=l2, solver=saga; total time=   0.1s\n",
      "[CV] END C=0.001, class_weight=balanced, max_iter=500, penalty=l2, solver=saga; total time=   0.1s\n",
      "[CV] END C=0.001, class_weight=balanced, max_iter=500, penalty=l2, solver=saga; total time=   0.1s\n",
      "[CV] END C=0.001, class_weight=balanced, max_iter=500, penalty=l1, solver=liblinear; total time=   0.0s\n",
      "[CV] END C=0.001, class_weight=balanced, max_iter=500, penalty=l1, solver=liblinear; total time=   0.0s\n",
      "[CV] END C=0.001, class_weight=balanced, max_iter=500, penalty=l1, solver=liblinear; total time=   0.0s\n",
      "[CV] END C=0.001, class_weight=balanced, max_iter=500, penalty=l1, solver=liblinear; total time=   0.0s\n",
      "[CV] END C=0.001, class_weight=balanced, max_iter=500, penalty=l1, solver=liblinear; total time=   0.0s\n",
      "[CV] END C=0.001, class_weight=balanced, max_iter=500, penalty=l1, solver=saga; total time=   0.0s\n",
      "[CV] END C=0.001, class_weight=balanced, max_iter=500, penalty=l1, solver=saga; total time=   0.0s\n",
      "[CV] END C=0.001, class_weight=balanced, max_iter=500, penalty=l1, solver=saga; total time=   0.0s\n",
      "[CV] END C=0.001, class_weight=balanced, max_iter=500, penalty=l1, solver=saga; total time=   0.0s\n",
      "[CV] END C=0.001, class_weight=balanced, max_iter=500, penalty=l1, solver=saga; total time=   0.0s\n",
      "[CV] END C=0.001, class_weight=balanced, max_iter=700, penalty=l2, solver=liblinear; total time=   0.0s\n",
      "[CV] END C=0.001, class_weight=balanced, max_iter=700, penalty=l2, solver=liblinear; total time=   0.0s\n",
      "[CV] END C=0.001, class_weight=balanced, max_iter=700, penalty=l2, solver=liblinear; total time=   0.0s\n",
      "[CV] END C=0.001, class_weight=balanced, max_iter=700, penalty=l2, solver=liblinear; total time=   0.0s\n",
      "[CV] END C=0.001, class_weight=balanced, max_iter=700, penalty=l2, solver=liblinear; total time=   0.0s\n",
      "[CV] END C=0.001, class_weight=balanced, max_iter=700, penalty=l2, solver=saga; total time=   0.1s\n",
      "[CV] END C=0.001, class_weight=balanced, max_iter=700, penalty=l2, solver=saga; total time=   0.1s\n",
      "[CV] END C=0.001, class_weight=balanced, max_iter=700, penalty=l2, solver=saga; total time=   0.1s\n",
      "[CV] END C=0.001, class_weight=balanced, max_iter=700, penalty=l2, solver=saga; total time=   0.1s\n",
      "[CV] END C=0.001, class_weight=balanced, max_iter=700, penalty=l2, solver=saga; total time=   0.1s\n",
      "[CV] END C=0.001, class_weight=balanced, max_iter=700, penalty=l1, solver=liblinear; total time=   0.0s\n",
      "[CV] END C=0.001, class_weight=balanced, max_iter=700, penalty=l1, solver=liblinear; total time=   0.0s\n",
      "[CV] END C=0.001, class_weight=balanced, max_iter=700, penalty=l1, solver=liblinear; total time=   0.0s\n",
      "[CV] END C=0.001, class_weight=balanced, max_iter=700, penalty=l1, solver=liblinear; total time=   0.0s\n",
      "[CV] END C=0.001, class_weight=balanced, max_iter=700, penalty=l1, solver=liblinear; total time=   0.0s\n",
      "[CV] END C=0.001, class_weight=balanced, max_iter=700, penalty=l1, solver=saga; total time=   0.0s\n",
      "[CV] END C=0.001, class_weight=balanced, max_iter=700, penalty=l1, solver=saga; total time=   0.0s\n",
      "[CV] END C=0.001, class_weight=balanced, max_iter=700, penalty=l1, solver=saga; total time=   0.0s\n",
      "[CV] END C=0.001, class_weight=balanced, max_iter=700, penalty=l1, solver=saga; total time=   0.0s\n",
      "[CV] END C=0.001, class_weight=balanced, max_iter=700, penalty=l1, solver=saga; total time=   0.0s\n",
      "[CV] END C=0.001, class_weight=balanced, max_iter=1000, penalty=l2, solver=liblinear; total time=   0.0s\n",
      "[CV] END C=0.001, class_weight=balanced, max_iter=1000, penalty=l2, solver=liblinear; total time=   0.0s\n",
      "[CV] END C=0.001, class_weight=balanced, max_iter=1000, penalty=l2, solver=liblinear; total time=   0.0s\n",
      "[CV] END C=0.001, class_weight=balanced, max_iter=1000, penalty=l2, solver=liblinear; total time=   0.0s\n",
      "[CV] END C=0.001, class_weight=balanced, max_iter=1000, penalty=l2, solver=liblinear; total time=   0.0s\n",
      "[CV] END C=0.001, class_weight=balanced, max_iter=1000, penalty=l2, solver=saga; total time=   0.1s\n",
      "[CV] END C=0.001, class_weight=balanced, max_iter=1000, penalty=l2, solver=saga; total time=   0.1s\n",
      "[CV] END C=0.001, class_weight=balanced, max_iter=1000, penalty=l2, solver=saga; total time=   0.1s\n",
      "[CV] END C=0.001, class_weight=balanced, max_iter=1000, penalty=l2, solver=saga; total time=   0.1s\n",
      "[CV] END C=0.001, class_weight=balanced, max_iter=1000, penalty=l2, solver=saga; total time=   0.1s\n",
      "[CV] END C=0.001, class_weight=balanced, max_iter=1000, penalty=l1, solver=liblinear; total time=   0.0s\n",
      "[CV] END C=0.001, class_weight=balanced, max_iter=1000, penalty=l1, solver=liblinear; total time=   0.0s\n",
      "[CV] END C=0.001, class_weight=balanced, max_iter=1000, penalty=l1, solver=liblinear; total time=   0.0s\n",
      "[CV] END C=0.001, class_weight=balanced, max_iter=1000, penalty=l1, solver=liblinear; total time=   0.0s\n",
      "[CV] END C=0.001, class_weight=balanced, max_iter=1000, penalty=l1, solver=liblinear; total time=   0.0s\n",
      "[CV] END C=0.001, class_weight=balanced, max_iter=1000, penalty=l1, solver=saga; total time=   0.0s\n",
      "[CV] END C=0.001, class_weight=balanced, max_iter=1000, penalty=l1, solver=saga; total time=   0.0s\n",
      "[CV] END C=0.001, class_weight=balanced, max_iter=1000, penalty=l1, solver=saga; total time=   0.0s\n",
      "[CV] END C=0.001, class_weight=balanced, max_iter=1000, penalty=l1, solver=saga; total time=   0.0s\n",
      "[CV] END C=0.001, class_weight=balanced, max_iter=1000, penalty=l1, solver=saga; total time=   0.0s\n",
      "[CV] END C=0.01, class_weight=None, max_iter=100, penalty=l2, solver=liblinear; total time=   0.0s\n",
      "[CV] END C=0.01, class_weight=None, max_iter=100, penalty=l2, solver=liblinear; total time=   0.0s\n",
      "[CV] END C=0.01, class_weight=None, max_iter=100, penalty=l2, solver=liblinear; total time=   0.0s\n",
      "[CV] END C=0.01, class_weight=None, max_iter=100, penalty=l2, solver=liblinear; total time=   0.0s\n",
      "[CV] END C=0.01, class_weight=None, max_iter=100, penalty=l2, solver=liblinear; total time=   0.0s\n",
      "[CV] END C=0.01, class_weight=None, max_iter=100, penalty=l2, solver=saga; total time=   0.4s\n",
      "[CV] END C=0.01, class_weight=None, max_iter=100, penalty=l2, solver=saga; total time=   0.3s\n",
      "[CV] END C=0.01, class_weight=None, max_iter=100, penalty=l2, solver=saga; total time=   0.3s\n",
      "[CV] END C=0.01, class_weight=None, max_iter=100, penalty=l2, solver=saga; total time=   0.3s\n",
      "[CV] END C=0.01, class_weight=None, max_iter=100, penalty=l2, solver=saga; total time=   0.3s\n",
      "[CV] END C=0.01, class_weight=None, max_iter=100, penalty=l1, solver=liblinear; total time=   0.0s\n",
      "[CV] END C=0.01, class_weight=None, max_iter=100, penalty=l1, solver=liblinear; total time=   0.0s\n",
      "[CV] END C=0.01, class_weight=None, max_iter=100, penalty=l1, solver=liblinear; total time=   0.0s\n",
      "[CV] END C=0.01, class_weight=None, max_iter=100, penalty=l1, solver=liblinear; total time=   0.0s\n",
      "[CV] END C=0.01, class_weight=None, max_iter=100, penalty=l1, solver=liblinear; total time=   0.0s\n",
      "[CV] END C=0.01, class_weight=None, max_iter=100, penalty=l1, solver=saga; total time=   0.0s\n",
      "[CV] END C=0.01, class_weight=None, max_iter=100, penalty=l1, solver=saga; total time=   0.2s\n",
      "[CV] END C=0.01, class_weight=None, max_iter=100, penalty=l1, solver=saga; total time=   0.0s\n",
      "[CV] END C=0.01, class_weight=None, max_iter=100, penalty=l1, solver=saga; total time=   0.0s\n",
      "[CV] END C=0.01, class_weight=None, max_iter=100, penalty=l1, solver=saga; total time=   0.0s\n",
      "[CV] END C=0.01, class_weight=None, max_iter=200, penalty=l2, solver=liblinear; total time=   0.0s\n",
      "[CV] END C=0.01, class_weight=None, max_iter=200, penalty=l2, solver=liblinear; total time=   0.0s\n",
      "[CV] END C=0.01, class_weight=None, max_iter=200, penalty=l2, solver=liblinear; total time=   0.0s\n",
      "[CV] END C=0.01, class_weight=None, max_iter=200, penalty=l2, solver=liblinear; total time=   0.0s\n",
      "[CV] END C=0.01, class_weight=None, max_iter=200, penalty=l2, solver=liblinear; total time=   0.0s\n",
      "[CV] END C=0.01, class_weight=None, max_iter=200, penalty=l2, solver=saga; total time=   0.4s\n",
      "[CV] END C=0.01, class_weight=None, max_iter=200, penalty=l2, solver=saga; total time=   0.3s\n",
      "[CV] END C=0.01, class_weight=None, max_iter=200, penalty=l2, solver=saga; total time=   0.3s\n",
      "[CV] END C=0.01, class_weight=None, max_iter=200, penalty=l2, solver=saga; total time=   0.3s\n",
      "[CV] END C=0.01, class_weight=None, max_iter=200, penalty=l2, solver=saga; total time=   0.3s\n",
      "[CV] END C=0.01, class_weight=None, max_iter=200, penalty=l1, solver=liblinear; total time=   0.0s\n",
      "[CV] END C=0.01, class_weight=None, max_iter=200, penalty=l1, solver=liblinear; total time=   0.0s\n",
      "[CV] END C=0.01, class_weight=None, max_iter=200, penalty=l1, solver=liblinear; total time=   0.0s\n",
      "[CV] END C=0.01, class_weight=None, max_iter=200, penalty=l1, solver=liblinear; total time=   0.0s\n",
      "[CV] END C=0.01, class_weight=None, max_iter=200, penalty=l1, solver=liblinear; total time=   0.0s\n",
      "[CV] END C=0.01, class_weight=None, max_iter=200, penalty=l1, solver=saga; total time=   0.0s\n",
      "[CV] END C=0.01, class_weight=None, max_iter=200, penalty=l1, solver=saga; total time=   0.0s\n",
      "[CV] END C=0.01, class_weight=None, max_iter=200, penalty=l1, solver=saga; total time=   0.0s\n",
      "[CV] END C=0.01, class_weight=None, max_iter=200, penalty=l1, solver=saga; total time=   0.0s\n",
      "[CV] END C=0.01, class_weight=None, max_iter=200, penalty=l1, solver=saga; total time=   0.0s\n",
      "[CV] END C=0.01, class_weight=None, max_iter=500, penalty=l2, solver=liblinear; total time=   0.0s\n",
      "[CV] END C=0.01, class_weight=None, max_iter=500, penalty=l2, solver=liblinear; total time=   0.0s\n",
      "[CV] END C=0.01, class_weight=None, max_iter=500, penalty=l2, solver=liblinear; total time=   0.0s\n",
      "[CV] END C=0.01, class_weight=None, max_iter=500, penalty=l2, solver=liblinear; total time=   0.0s\n",
      "[CV] END C=0.01, class_weight=None, max_iter=500, penalty=l2, solver=liblinear; total time=   0.0s\n",
      "[CV] END C=0.01, class_weight=None, max_iter=500, penalty=l2, solver=saga; total time=   0.4s\n",
      "[CV] END C=0.01, class_weight=None, max_iter=500, penalty=l2, solver=saga; total time=   0.3s\n",
      "[CV] END C=0.01, class_weight=None, max_iter=500, penalty=l2, solver=saga; total time=   0.3s\n",
      "[CV] END C=0.01, class_weight=None, max_iter=500, penalty=l2, solver=saga; total time=   0.3s\n",
      "[CV] END C=0.01, class_weight=None, max_iter=500, penalty=l2, solver=saga; total time=   0.4s\n",
      "[CV] END C=0.01, class_weight=None, max_iter=500, penalty=l1, solver=liblinear; total time=   0.0s\n",
      "[CV] END C=0.01, class_weight=None, max_iter=500, penalty=l1, solver=liblinear; total time=   0.0s\n",
      "[CV] END C=0.01, class_weight=None, max_iter=500, penalty=l1, solver=liblinear; total time=   0.0s\n",
      "[CV] END C=0.01, class_weight=None, max_iter=500, penalty=l1, solver=liblinear; total time=   0.0s\n",
      "[CV] END C=0.01, class_weight=None, max_iter=500, penalty=l1, solver=liblinear; total time=   0.0s\n",
      "[CV] END C=0.01, class_weight=None, max_iter=500, penalty=l1, solver=saga; total time=   0.0s\n",
      "[CV] END C=0.01, class_weight=None, max_iter=500, penalty=l1, solver=saga; total time=   0.0s\n",
      "[CV] END C=0.01, class_weight=None, max_iter=500, penalty=l1, solver=saga; total time=   0.0s\n",
      "[CV] END C=0.01, class_weight=None, max_iter=500, penalty=l1, solver=saga; total time=   0.0s\n",
      "[CV] END C=0.01, class_weight=None, max_iter=500, penalty=l1, solver=saga; total time=   0.0s\n",
      "[CV] END C=0.01, class_weight=None, max_iter=700, penalty=l2, solver=liblinear; total time=   0.0s\n",
      "[CV] END C=0.01, class_weight=None, max_iter=700, penalty=l2, solver=liblinear; total time=   0.0s\n",
      "[CV] END C=0.01, class_weight=None, max_iter=700, penalty=l2, solver=liblinear; total time=   0.0s\n",
      "[CV] END C=0.01, class_weight=None, max_iter=700, penalty=l2, solver=liblinear; total time=   0.0s\n",
      "[CV] END C=0.01, class_weight=None, max_iter=700, penalty=l2, solver=liblinear; total time=   0.0s\n",
      "[CV] END C=0.01, class_weight=None, max_iter=700, penalty=l2, solver=saga; total time=   0.4s\n",
      "[CV] END C=0.01, class_weight=None, max_iter=700, penalty=l2, solver=saga; total time=   0.3s\n",
      "[CV] END C=0.01, class_weight=None, max_iter=700, penalty=l2, solver=saga; total time=   0.3s\n",
      "[CV] END C=0.01, class_weight=None, max_iter=700, penalty=l2, solver=saga; total time=   0.3s\n",
      "[CV] END C=0.01, class_weight=None, max_iter=700, penalty=l2, solver=saga; total time=   0.3s\n",
      "[CV] END C=0.01, class_weight=None, max_iter=700, penalty=l1, solver=liblinear; total time=   0.0s\n",
      "[CV] END C=0.01, class_weight=None, max_iter=700, penalty=l1, solver=liblinear; total time=   0.0s\n",
      "[CV] END C=0.01, class_weight=None, max_iter=700, penalty=l1, solver=liblinear; total time=   0.0s\n",
      "[CV] END C=0.01, class_weight=None, max_iter=700, penalty=l1, solver=liblinear; total time=   0.0s\n",
      "[CV] END C=0.01, class_weight=None, max_iter=700, penalty=l1, solver=liblinear; total time=   0.0s\n",
      "[CV] END C=0.01, class_weight=None, max_iter=700, penalty=l1, solver=saga; total time=   0.0s\n",
      "[CV] END C=0.01, class_weight=None, max_iter=700, penalty=l1, solver=saga; total time=   0.0s\n",
      "[CV] END C=0.01, class_weight=None, max_iter=700, penalty=l1, solver=saga; total time=   0.0s\n",
      "[CV] END C=0.01, class_weight=None, max_iter=700, penalty=l1, solver=saga; total time=   0.0s\n",
      "[CV] END C=0.01, class_weight=None, max_iter=700, penalty=l1, solver=saga; total time=   0.0s\n",
      "[CV] END C=0.01, class_weight=None, max_iter=1000, penalty=l2, solver=liblinear; total time=   0.0s\n",
      "[CV] END C=0.01, class_weight=None, max_iter=1000, penalty=l2, solver=liblinear; total time=   0.0s\n",
      "[CV] END C=0.01, class_weight=None, max_iter=1000, penalty=l2, solver=liblinear; total time=   0.0s\n",
      "[CV] END C=0.01, class_weight=None, max_iter=1000, penalty=l2, solver=liblinear; total time=   0.0s\n",
      "[CV] END C=0.01, class_weight=None, max_iter=1000, penalty=l2, solver=liblinear; total time=   0.0s\n",
      "[CV] END C=0.01, class_weight=None, max_iter=1000, penalty=l2, solver=saga; total time=   0.4s\n",
      "[CV] END C=0.01, class_weight=None, max_iter=1000, penalty=l2, solver=saga; total time=   0.3s\n",
      "[CV] END C=0.01, class_weight=None, max_iter=1000, penalty=l2, solver=saga; total time=   0.3s\n",
      "[CV] END C=0.01, class_weight=None, max_iter=1000, penalty=l2, solver=saga; total time=   0.3s\n",
      "[CV] END C=0.01, class_weight=None, max_iter=1000, penalty=l2, solver=saga; total time=   0.3s\n",
      "[CV] END C=0.01, class_weight=None, max_iter=1000, penalty=l1, solver=liblinear; total time=   0.0s\n",
      "[CV] END C=0.01, class_weight=None, max_iter=1000, penalty=l1, solver=liblinear; total time=   0.0s\n",
      "[CV] END C=0.01, class_weight=None, max_iter=1000, penalty=l1, solver=liblinear; total time=   0.0s\n",
      "[CV] END C=0.01, class_weight=None, max_iter=1000, penalty=l1, solver=liblinear; total time=   0.0s\n",
      "[CV] END C=0.01, class_weight=None, max_iter=1000, penalty=l1, solver=liblinear; total time=   0.0s\n",
      "[CV] END C=0.01, class_weight=None, max_iter=1000, penalty=l1, solver=saga; total time=   0.0s\n",
      "[CV] END C=0.01, class_weight=None, max_iter=1000, penalty=l1, solver=saga; total time=   0.0s\n",
      "[CV] END C=0.01, class_weight=None, max_iter=1000, penalty=l1, solver=saga; total time=   0.0s\n",
      "[CV] END C=0.01, class_weight=None, max_iter=1000, penalty=l1, solver=saga; total time=   0.0s\n",
      "[CV] END C=0.01, class_weight=None, max_iter=1000, penalty=l1, solver=saga; total time=   0.0s\n",
      "[CV] END C=0.01, class_weight=balanced, max_iter=100, penalty=l2, solver=liblinear; total time=   0.0s\n",
      "[CV] END C=0.01, class_weight=balanced, max_iter=100, penalty=l2, solver=liblinear; total time=   0.0s\n",
      "[CV] END C=0.01, class_weight=balanced, max_iter=100, penalty=l2, solver=liblinear; total time=   0.0s\n",
      "[CV] END C=0.01, class_weight=balanced, max_iter=100, penalty=l2, solver=liblinear; total time=   0.0s\n",
      "[CV] END C=0.01, class_weight=balanced, max_iter=100, penalty=l2, solver=liblinear; total time=   0.0s\n",
      "[CV] END C=0.01, class_weight=balanced, max_iter=100, penalty=l2, solver=saga; total time=   0.4s\n",
      "[CV] END C=0.01, class_weight=balanced, max_iter=100, penalty=l2, solver=saga; total time=   0.3s\n",
      "[CV] END C=0.01, class_weight=balanced, max_iter=100, penalty=l2, solver=saga; total time=   0.3s\n",
      "[CV] END C=0.01, class_weight=balanced, max_iter=100, penalty=l2, solver=saga; total time=   0.3s\n",
      "[CV] END C=0.01, class_weight=balanced, max_iter=100, penalty=l2, solver=saga; total time=   0.3s\n",
      "[CV] END C=0.01, class_weight=balanced, max_iter=100, penalty=l1, solver=liblinear; total time=   0.0s\n",
      "[CV] END C=0.01, class_weight=balanced, max_iter=100, penalty=l1, solver=liblinear; total time=   0.0s\n",
      "[CV] END C=0.01, class_weight=balanced, max_iter=100, penalty=l1, solver=liblinear; total time=   0.0s\n",
      "[CV] END C=0.01, class_weight=balanced, max_iter=100, penalty=l1, solver=liblinear; total time=   0.0s\n",
      "[CV] END C=0.01, class_weight=balanced, max_iter=100, penalty=l1, solver=liblinear; total time=   0.0s\n",
      "[CV] END C=0.01, class_weight=balanced, max_iter=100, penalty=l1, solver=saga; total time=   0.0s\n",
      "[CV] END C=0.01, class_weight=balanced, max_iter=100, penalty=l1, solver=saga; total time=   0.0s\n",
      "[CV] END C=0.01, class_weight=balanced, max_iter=100, penalty=l1, solver=saga; total time=   0.0s\n",
      "[CV] END C=0.01, class_weight=balanced, max_iter=100, penalty=l1, solver=saga; total time=   0.0s\n",
      "[CV] END C=0.01, class_weight=balanced, max_iter=100, penalty=l1, solver=saga; total time=   0.0s\n",
      "[CV] END C=0.01, class_weight=balanced, max_iter=200, penalty=l2, solver=liblinear; total time=   0.0s\n",
      "[CV] END C=0.01, class_weight=balanced, max_iter=200, penalty=l2, solver=liblinear; total time=   0.0s\n",
      "[CV] END C=0.01, class_weight=balanced, max_iter=200, penalty=l2, solver=liblinear; total time=   0.0s\n",
      "[CV] END C=0.01, class_weight=balanced, max_iter=200, penalty=l2, solver=liblinear; total time=   0.0s\n",
      "[CV] END C=0.01, class_weight=balanced, max_iter=200, penalty=l2, solver=liblinear; total time=   0.0s\n",
      "[CV] END C=0.01, class_weight=balanced, max_iter=200, penalty=l2, solver=saga; total time=   0.4s\n",
      "[CV] END C=0.01, class_weight=balanced, max_iter=200, penalty=l2, solver=saga; total time=   0.3s\n",
      "[CV] END C=0.01, class_weight=balanced, max_iter=200, penalty=l2, solver=saga; total time=   0.3s\n",
      "[CV] END C=0.01, class_weight=balanced, max_iter=200, penalty=l2, solver=saga; total time=   0.3s\n",
      "[CV] END C=0.01, class_weight=balanced, max_iter=200, penalty=l2, solver=saga; total time=   0.3s\n",
      "[CV] END C=0.01, class_weight=balanced, max_iter=200, penalty=l1, solver=liblinear; total time=   0.0s\n",
      "[CV] END C=0.01, class_weight=balanced, max_iter=200, penalty=l1, solver=liblinear; total time=   0.0s\n",
      "[CV] END C=0.01, class_weight=balanced, max_iter=200, penalty=l1, solver=liblinear; total time=   0.0s\n",
      "[CV] END C=0.01, class_weight=balanced, max_iter=200, penalty=l1, solver=liblinear; total time=   0.0s\n",
      "[CV] END C=0.01, class_weight=balanced, max_iter=200, penalty=l1, solver=liblinear; total time=   0.0s\n",
      "[CV] END C=0.01, class_weight=balanced, max_iter=200, penalty=l1, solver=saga; total time=   0.0s\n",
      "[CV] END C=0.01, class_weight=balanced, max_iter=200, penalty=l1, solver=saga; total time=   0.0s\n",
      "[CV] END C=0.01, class_weight=balanced, max_iter=200, penalty=l1, solver=saga; total time=   0.0s\n",
      "[CV] END C=0.01, class_weight=balanced, max_iter=200, penalty=l1, solver=saga; total time=   0.0s\n",
      "[CV] END C=0.01, class_weight=balanced, max_iter=200, penalty=l1, solver=saga; total time=   0.0s\n",
      "[CV] END C=0.01, class_weight=balanced, max_iter=500, penalty=l2, solver=liblinear; total time=   0.0s\n",
      "[CV] END C=0.01, class_weight=balanced, max_iter=500, penalty=l2, solver=liblinear; total time=   0.0s\n",
      "[CV] END C=0.01, class_weight=balanced, max_iter=500, penalty=l2, solver=liblinear; total time=   0.0s\n",
      "[CV] END C=0.01, class_weight=balanced, max_iter=500, penalty=l2, solver=liblinear; total time=   0.0s\n",
      "[CV] END C=0.01, class_weight=balanced, max_iter=500, penalty=l2, solver=liblinear; total time=   0.0s\n",
      "[CV] END C=0.01, class_weight=balanced, max_iter=500, penalty=l2, solver=saga; total time=   0.4s\n",
      "[CV] END C=0.01, class_weight=balanced, max_iter=500, penalty=l2, solver=saga; total time=   0.3s\n",
      "[CV] END C=0.01, class_weight=balanced, max_iter=500, penalty=l2, solver=saga; total time=   0.3s\n",
      "[CV] END C=0.01, class_weight=balanced, max_iter=500, penalty=l2, solver=saga; total time=   0.3s\n",
      "[CV] END C=0.01, class_weight=balanced, max_iter=500, penalty=l2, solver=saga; total time=   0.3s\n",
      "[CV] END C=0.01, class_weight=balanced, max_iter=500, penalty=l1, solver=liblinear; total time=   0.0s\n",
      "[CV] END C=0.01, class_weight=balanced, max_iter=500, penalty=l1, solver=liblinear; total time=   0.0s\n",
      "[CV] END C=0.01, class_weight=balanced, max_iter=500, penalty=l1, solver=liblinear; total time=   0.0s\n",
      "[CV] END C=0.01, class_weight=balanced, max_iter=500, penalty=l1, solver=liblinear; total time=   0.0s\n",
      "[CV] END C=0.01, class_weight=balanced, max_iter=500, penalty=l1, solver=liblinear; total time=   0.0s\n",
      "[CV] END C=0.01, class_weight=balanced, max_iter=500, penalty=l1, solver=saga; total time=   0.0s\n",
      "[CV] END C=0.01, class_weight=balanced, max_iter=500, penalty=l1, solver=saga; total time=   0.0s\n",
      "[CV] END C=0.01, class_weight=balanced, max_iter=500, penalty=l1, solver=saga; total time=   0.0s\n",
      "[CV] END C=0.01, class_weight=balanced, max_iter=500, penalty=l1, solver=saga; total time=   0.0s\n",
      "[CV] END C=0.01, class_weight=balanced, max_iter=500, penalty=l1, solver=saga; total time=   0.0s\n",
      "[CV] END C=0.01, class_weight=balanced, max_iter=700, penalty=l2, solver=liblinear; total time=   0.0s\n",
      "[CV] END C=0.01, class_weight=balanced, max_iter=700, penalty=l2, solver=liblinear; total time=   0.0s\n",
      "[CV] END C=0.01, class_weight=balanced, max_iter=700, penalty=l2, solver=liblinear; total time=   0.0s\n",
      "[CV] END C=0.01, class_weight=balanced, max_iter=700, penalty=l2, solver=liblinear; total time=   0.0s\n",
      "[CV] END C=0.01, class_weight=balanced, max_iter=700, penalty=l2, solver=liblinear; total time=   0.0s\n",
      "[CV] END C=0.01, class_weight=balanced, max_iter=700, penalty=l2, solver=saga; total time=   0.4s\n",
      "[CV] END C=0.01, class_weight=balanced, max_iter=700, penalty=l2, solver=saga; total time=   0.3s\n",
      "[CV] END C=0.01, class_weight=balanced, max_iter=700, penalty=l2, solver=saga; total time=   0.3s\n",
      "[CV] END C=0.01, class_weight=balanced, max_iter=700, penalty=l2, solver=saga; total time=   0.3s\n",
      "[CV] END C=0.01, class_weight=balanced, max_iter=700, penalty=l2, solver=saga; total time=   0.3s\n",
      "[CV] END C=0.01, class_weight=balanced, max_iter=700, penalty=l1, solver=liblinear; total time=   0.0s\n",
      "[CV] END C=0.01, class_weight=balanced, max_iter=700, penalty=l1, solver=liblinear; total time=   0.0s\n",
      "[CV] END C=0.01, class_weight=balanced, max_iter=700, penalty=l1, solver=liblinear; total time=   0.0s\n",
      "[CV] END C=0.01, class_weight=balanced, max_iter=700, penalty=l1, solver=liblinear; total time=   0.0s\n",
      "[CV] END C=0.01, class_weight=balanced, max_iter=700, penalty=l1, solver=liblinear; total time=   0.0s\n",
      "[CV] END C=0.01, class_weight=balanced, max_iter=700, penalty=l1, solver=saga; total time=   0.0s\n",
      "[CV] END C=0.01, class_weight=balanced, max_iter=700, penalty=l1, solver=saga; total time=   0.0s\n",
      "[CV] END C=0.01, class_weight=balanced, max_iter=700, penalty=l1, solver=saga; total time=   0.0s\n",
      "[CV] END C=0.01, class_weight=balanced, max_iter=700, penalty=l1, solver=saga; total time=   0.0s\n",
      "[CV] END C=0.01, class_weight=balanced, max_iter=700, penalty=l1, solver=saga; total time=   0.1s\n",
      "[CV] END C=0.01, class_weight=balanced, max_iter=1000, penalty=l2, solver=liblinear; total time=   0.0s\n",
      "[CV] END C=0.01, class_weight=balanced, max_iter=1000, penalty=l2, solver=liblinear; total time=   0.1s\n",
      "[CV] END C=0.01, class_weight=balanced, max_iter=1000, penalty=l2, solver=liblinear; total time=   0.0s\n",
      "[CV] END C=0.01, class_weight=balanced, max_iter=1000, penalty=l2, solver=liblinear; total time=   0.0s\n",
      "[CV] END C=0.01, class_weight=balanced, max_iter=1000, penalty=l2, solver=liblinear; total time=   0.0s\n",
      "[CV] END C=0.01, class_weight=balanced, max_iter=1000, penalty=l2, solver=saga; total time=   0.4s\n",
      "[CV] END C=0.01, class_weight=balanced, max_iter=1000, penalty=l2, solver=saga; total time=   0.3s\n",
      "[CV] END C=0.01, class_weight=balanced, max_iter=1000, penalty=l2, solver=saga; total time=   0.3s\n",
      "[CV] END C=0.01, class_weight=balanced, max_iter=1000, penalty=l2, solver=saga; total time=   0.3s\n",
      "[CV] END C=0.01, class_weight=balanced, max_iter=1000, penalty=l2, solver=saga; total time=   0.3s\n",
      "[CV] END C=0.01, class_weight=balanced, max_iter=1000, penalty=l1, solver=liblinear; total time=   0.0s\n",
      "[CV] END C=0.01, class_weight=balanced, max_iter=1000, penalty=l1, solver=liblinear; total time=   0.0s\n",
      "[CV] END C=0.01, class_weight=balanced, max_iter=1000, penalty=l1, solver=liblinear; total time=   0.0s\n",
      "[CV] END C=0.01, class_weight=balanced, max_iter=1000, penalty=l1, solver=liblinear; total time=   0.0s\n",
      "[CV] END C=0.01, class_weight=balanced, max_iter=1000, penalty=l1, solver=liblinear; total time=   0.0s\n",
      "[CV] END C=0.01, class_weight=balanced, max_iter=1000, penalty=l1, solver=saga; total time=   0.0s\n",
      "[CV] END C=0.01, class_weight=balanced, max_iter=1000, penalty=l1, solver=saga; total time=   0.0s\n",
      "[CV] END C=0.01, class_weight=balanced, max_iter=1000, penalty=l1, solver=saga; total time=   0.0s\n",
      "[CV] END C=0.01, class_weight=balanced, max_iter=1000, penalty=l1, solver=saga; total time=   0.0s\n",
      "[CV] END C=0.01, class_weight=balanced, max_iter=1000, penalty=l1, solver=saga; total time=   0.0s\n",
      "[CV] END C=0.1, class_weight=None, max_iter=100, penalty=l2, solver=liblinear; total time=   0.0s\n",
      "[CV] END C=0.1, class_weight=None, max_iter=100, penalty=l2, solver=liblinear; total time=   0.0s\n",
      "[CV] END C=0.1, class_weight=None, max_iter=100, penalty=l2, solver=liblinear; total time=   0.0s\n",
      "[CV] END C=0.1, class_weight=None, max_iter=100, penalty=l2, solver=liblinear; total time=   0.0s\n",
      "[CV] END C=0.1, class_weight=None, max_iter=100, penalty=l2, solver=liblinear; total time=   0.0s\n"
     ]
    },
    {
     "name": "stderr",
     "output_type": "stream",
     "text": [
      "C:\\Users\\myousaf23\\anaconda3\\Lib\\site-packages\\sklearn\\linear_model\\_sag.py:349: ConvergenceWarning: The max_iter was reached which means the coef_ did not converge\n",
      "  warnings.warn(\n"
     ]
    },
    {
     "name": "stdout",
     "output_type": "stream",
     "text": [
      "[CV] END C=0.1, class_weight=None, max_iter=100, penalty=l2, solver=saga; total time=   0.8s\n"
     ]
    },
    {
     "name": "stderr",
     "output_type": "stream",
     "text": [
      "C:\\Users\\myousaf23\\anaconda3\\Lib\\site-packages\\sklearn\\linear_model\\_sag.py:349: ConvergenceWarning: The max_iter was reached which means the coef_ did not converge\n",
      "  warnings.warn(\n"
     ]
    },
    {
     "name": "stdout",
     "output_type": "stream",
     "text": [
      "[CV] END C=0.1, class_weight=None, max_iter=100, penalty=l2, solver=saga; total time=   0.8s\n"
     ]
    },
    {
     "name": "stderr",
     "output_type": "stream",
     "text": [
      "C:\\Users\\myousaf23\\anaconda3\\Lib\\site-packages\\sklearn\\linear_model\\_sag.py:349: ConvergenceWarning: The max_iter was reached which means the coef_ did not converge\n",
      "  warnings.warn(\n"
     ]
    },
    {
     "name": "stdout",
     "output_type": "stream",
     "text": [
      "[CV] END C=0.1, class_weight=None, max_iter=100, penalty=l2, solver=saga; total time=   0.8s\n"
     ]
    },
    {
     "name": "stderr",
     "output_type": "stream",
     "text": [
      "C:\\Users\\myousaf23\\anaconda3\\Lib\\site-packages\\sklearn\\linear_model\\_sag.py:349: ConvergenceWarning: The max_iter was reached which means the coef_ did not converge\n",
      "  warnings.warn(\n"
     ]
    },
    {
     "name": "stdout",
     "output_type": "stream",
     "text": [
      "[CV] END C=0.1, class_weight=None, max_iter=100, penalty=l2, solver=saga; total time=   0.8s\n"
     ]
    },
    {
     "name": "stderr",
     "output_type": "stream",
     "text": [
      "C:\\Users\\myousaf23\\anaconda3\\Lib\\site-packages\\sklearn\\linear_model\\_sag.py:349: ConvergenceWarning: The max_iter was reached which means the coef_ did not converge\n",
      "  warnings.warn(\n"
     ]
    },
    {
     "name": "stdout",
     "output_type": "stream",
     "text": [
      "[CV] END C=0.1, class_weight=None, max_iter=100, penalty=l2, solver=saga; total time=   0.8s\n",
      "[CV] END C=0.1, class_weight=None, max_iter=100, penalty=l1, solver=liblinear; total time=   0.0s\n",
      "[CV] END C=0.1, class_weight=None, max_iter=100, penalty=l1, solver=liblinear; total time=   0.0s\n",
      "[CV] END C=0.1, class_weight=None, max_iter=100, penalty=l1, solver=liblinear; total time=   0.0s\n",
      "[CV] END C=0.1, class_weight=None, max_iter=100, penalty=l1, solver=liblinear; total time=   0.0s\n",
      "[CV] END C=0.1, class_weight=None, max_iter=100, penalty=l1, solver=liblinear; total time=   0.0s\n",
      "[CV] END C=0.1, class_weight=None, max_iter=100, penalty=l1, solver=saga; total time=   0.1s\n",
      "[CV] END C=0.1, class_weight=None, max_iter=100, penalty=l1, solver=saga; total time=   0.2s\n",
      "[CV] END C=0.1, class_weight=None, max_iter=100, penalty=l1, solver=saga; total time=   0.4s\n",
      "[CV] END C=0.1, class_weight=None, max_iter=100, penalty=l1, solver=saga; total time=   0.1s\n",
      "[CV] END C=0.1, class_weight=None, max_iter=100, penalty=l1, solver=saga; total time=   0.3s\n",
      "[CV] END C=0.1, class_weight=None, max_iter=200, penalty=l2, solver=liblinear; total time=   0.0s\n",
      "[CV] END C=0.1, class_weight=None, max_iter=200, penalty=l2, solver=liblinear; total time=   0.0s\n",
      "[CV] END C=0.1, class_weight=None, max_iter=200, penalty=l2, solver=liblinear; total time=   0.0s\n",
      "[CV] END C=0.1, class_weight=None, max_iter=200, penalty=l2, solver=liblinear; total time=   0.0s\n",
      "[CV] END C=0.1, class_weight=None, max_iter=200, penalty=l2, solver=liblinear; total time=   0.0s\n"
     ]
    },
    {
     "name": "stderr",
     "output_type": "stream",
     "text": [
      "C:\\Users\\myousaf23\\anaconda3\\Lib\\site-packages\\sklearn\\linear_model\\_sag.py:349: ConvergenceWarning: The max_iter was reached which means the coef_ did not converge\n",
      "  warnings.warn(\n"
     ]
    },
    {
     "name": "stdout",
     "output_type": "stream",
     "text": [
      "[CV] END C=0.1, class_weight=None, max_iter=200, penalty=l2, solver=saga; total time=   1.7s\n",
      "[CV] END C=0.1, class_weight=None, max_iter=200, penalty=l2, solver=saga; total time=   1.5s\n",
      "[CV] END C=0.1, class_weight=None, max_iter=200, penalty=l2, solver=saga; total time=   1.6s\n",
      "[CV] END C=0.1, class_weight=None, max_iter=200, penalty=l2, solver=saga; total time=   1.5s\n",
      "[CV] END C=0.1, class_weight=None, max_iter=200, penalty=l2, solver=saga; total time=   1.5s\n",
      "[CV] END C=0.1, class_weight=None, max_iter=200, penalty=l1, solver=liblinear; total time=   0.0s\n",
      "[CV] END C=0.1, class_weight=None, max_iter=200, penalty=l1, solver=liblinear; total time=   0.0s\n",
      "[CV] END C=0.1, class_weight=None, max_iter=200, penalty=l1, solver=liblinear; total time=   0.0s\n",
      "[CV] END C=0.1, class_weight=None, max_iter=200, penalty=l1, solver=liblinear; total time=   0.0s\n",
      "[CV] END C=0.1, class_weight=None, max_iter=200, penalty=l1, solver=liblinear; total time=   0.0s\n",
      "[CV] END C=0.1, class_weight=None, max_iter=200, penalty=l1, solver=saga; total time=   0.2s\n",
      "[CV] END C=0.1, class_weight=None, max_iter=200, penalty=l1, solver=saga; total time=   0.2s\n",
      "[CV] END C=0.1, class_weight=None, max_iter=200, penalty=l1, solver=saga; total time=   0.4s\n",
      "[CV] END C=0.1, class_weight=None, max_iter=200, penalty=l1, solver=saga; total time=   0.2s\n",
      "[CV] END C=0.1, class_weight=None, max_iter=200, penalty=l1, solver=saga; total time=   0.3s\n",
      "[CV] END C=0.1, class_weight=None, max_iter=500, penalty=l2, solver=liblinear; total time=   0.0s\n",
      "[CV] END C=0.1, class_weight=None, max_iter=500, penalty=l2, solver=liblinear; total time=   0.0s\n",
      "[CV] END C=0.1, class_weight=None, max_iter=500, penalty=l2, solver=liblinear; total time=   0.0s\n",
      "[CV] END C=0.1, class_weight=None, max_iter=500, penalty=l2, solver=liblinear; total time=   0.0s\n",
      "[CV] END C=0.1, class_weight=None, max_iter=500, penalty=l2, solver=liblinear; total time=   0.0s\n",
      "[CV] END C=0.1, class_weight=None, max_iter=500, penalty=l2, solver=saga; total time=   1.8s\n",
      "[CV] END C=0.1, class_weight=None, max_iter=500, penalty=l2, solver=saga; total time=   1.6s\n",
      "[CV] END C=0.1, class_weight=None, max_iter=500, penalty=l2, solver=saga; total time=   1.6s\n",
      "[CV] END C=0.1, class_weight=None, max_iter=500, penalty=l2, solver=saga; total time=   1.4s\n",
      "[CV] END C=0.1, class_weight=None, max_iter=500, penalty=l2, solver=saga; total time=   1.5s\n",
      "[CV] END C=0.1, class_weight=None, max_iter=500, penalty=l1, solver=liblinear; total time=   0.0s\n",
      "[CV] END C=0.1, class_weight=None, max_iter=500, penalty=l1, solver=liblinear; total time=   0.0s\n",
      "[CV] END C=0.1, class_weight=None, max_iter=500, penalty=l1, solver=liblinear; total time=   0.0s\n",
      "[CV] END C=0.1, class_weight=None, max_iter=500, penalty=l1, solver=liblinear; total time=   0.0s\n",
      "[CV] END C=0.1, class_weight=None, max_iter=500, penalty=l1, solver=liblinear; total time=   0.0s\n",
      "[CV] END C=0.1, class_weight=None, max_iter=500, penalty=l1, solver=saga; total time=   0.2s\n",
      "[CV] END C=0.1, class_weight=None, max_iter=500, penalty=l1, solver=saga; total time=   0.2s\n",
      "[CV] END C=0.1, class_weight=None, max_iter=500, penalty=l1, solver=saga; total time=   0.3s\n",
      "[CV] END C=0.1, class_weight=None, max_iter=500, penalty=l1, solver=saga; total time=   0.1s\n",
      "[CV] END C=0.1, class_weight=None, max_iter=500, penalty=l1, solver=saga; total time=   0.3s\n",
      "[CV] END C=0.1, class_weight=None, max_iter=700, penalty=l2, solver=liblinear; total time=   0.0s\n",
      "[CV] END C=0.1, class_weight=None, max_iter=700, penalty=l2, solver=liblinear; total time=   0.0s\n",
      "[CV] END C=0.1, class_weight=None, max_iter=700, penalty=l2, solver=liblinear; total time=   0.0s\n",
      "[CV] END C=0.1, class_weight=None, max_iter=700, penalty=l2, solver=liblinear; total time=   0.0s\n",
      "[CV] END C=0.1, class_weight=None, max_iter=700, penalty=l2, solver=liblinear; total time=   0.0s\n",
      "[CV] END C=0.1, class_weight=None, max_iter=700, penalty=l2, solver=saga; total time=   1.8s\n",
      "[CV] END C=0.1, class_weight=None, max_iter=700, penalty=l2, solver=saga; total time=   1.5s\n",
      "[CV] END C=0.1, class_weight=None, max_iter=700, penalty=l2, solver=saga; total time=   1.5s\n",
      "[CV] END C=0.1, class_weight=None, max_iter=700, penalty=l2, solver=saga; total time=   1.5s\n",
      "[CV] END C=0.1, class_weight=None, max_iter=700, penalty=l2, solver=saga; total time=   1.5s\n",
      "[CV] END C=0.1, class_weight=None, max_iter=700, penalty=l1, solver=liblinear; total time=   0.1s\n",
      "[CV] END C=0.1, class_weight=None, max_iter=700, penalty=l1, solver=liblinear; total time=   0.0s\n",
      "[CV] END C=0.1, class_weight=None, max_iter=700, penalty=l1, solver=liblinear; total time=   0.0s\n",
      "[CV] END C=0.1, class_weight=None, max_iter=700, penalty=l1, solver=liblinear; total time=   0.0s\n",
      "[CV] END C=0.1, class_weight=None, max_iter=700, penalty=l1, solver=liblinear; total time=   0.0s\n",
      "[CV] END C=0.1, class_weight=None, max_iter=700, penalty=l1, solver=saga; total time=   0.1s\n",
      "[CV] END C=0.1, class_weight=None, max_iter=700, penalty=l1, solver=saga; total time=   0.1s\n",
      "[CV] END C=0.1, class_weight=None, max_iter=700, penalty=l1, solver=saga; total time=   0.4s\n",
      "[CV] END C=0.1, class_weight=None, max_iter=700, penalty=l1, solver=saga; total time=   0.2s\n",
      "[CV] END C=0.1, class_weight=None, max_iter=700, penalty=l1, solver=saga; total time=   0.3s\n",
      "[CV] END C=0.1, class_weight=None, max_iter=1000, penalty=l2, solver=liblinear; total time=   0.0s\n",
      "[CV] END C=0.1, class_weight=None, max_iter=1000, penalty=l2, solver=liblinear; total time=   0.0s\n",
      "[CV] END C=0.1, class_weight=None, max_iter=1000, penalty=l2, solver=liblinear; total time=   0.0s\n",
      "[CV] END C=0.1, class_weight=None, max_iter=1000, penalty=l2, solver=liblinear; total time=   0.0s\n",
      "[CV] END C=0.1, class_weight=None, max_iter=1000, penalty=l2, solver=liblinear; total time=   0.0s\n",
      "[CV] END C=0.1, class_weight=None, max_iter=1000, penalty=l2, solver=saga; total time=   1.9s\n",
      "[CV] END C=0.1, class_weight=None, max_iter=1000, penalty=l2, solver=saga; total time=   1.5s\n",
      "[CV] END C=0.1, class_weight=None, max_iter=1000, penalty=l2, solver=saga; total time=   1.6s\n",
      "[CV] END C=0.1, class_weight=None, max_iter=1000, penalty=l2, solver=saga; total time=   1.5s\n",
      "[CV] END C=0.1, class_weight=None, max_iter=1000, penalty=l2, solver=saga; total time=   1.4s\n",
      "[CV] END C=0.1, class_weight=None, max_iter=1000, penalty=l1, solver=liblinear; total time=   0.0s\n",
      "[CV] END C=0.1, class_weight=None, max_iter=1000, penalty=l1, solver=liblinear; total time=   0.0s\n",
      "[CV] END C=0.1, class_weight=None, max_iter=1000, penalty=l1, solver=liblinear; total time=   0.0s\n",
      "[CV] END C=0.1, class_weight=None, max_iter=1000, penalty=l1, solver=liblinear; total time=   0.0s\n",
      "[CV] END C=0.1, class_weight=None, max_iter=1000, penalty=l1, solver=liblinear; total time=   0.0s\n",
      "[CV] END C=0.1, class_weight=None, max_iter=1000, penalty=l1, solver=saga; total time=   0.2s\n",
      "[CV] END C=0.1, class_weight=None, max_iter=1000, penalty=l1, solver=saga; total time=   0.2s\n",
      "[CV] END C=0.1, class_weight=None, max_iter=1000, penalty=l1, solver=saga; total time=   0.3s\n",
      "[CV] END C=0.1, class_weight=None, max_iter=1000, penalty=l1, solver=saga; total time=   0.2s\n",
      "[CV] END C=0.1, class_weight=None, max_iter=1000, penalty=l1, solver=saga; total time=   0.4s\n",
      "[CV] END C=0.1, class_weight=balanced, max_iter=100, penalty=l2, solver=liblinear; total time=   0.0s\n",
      "[CV] END C=0.1, class_weight=balanced, max_iter=100, penalty=l2, solver=liblinear; total time=   0.0s\n",
      "[CV] END C=0.1, class_weight=balanced, max_iter=100, penalty=l2, solver=liblinear; total time=   0.0s\n",
      "[CV] END C=0.1, class_weight=balanced, max_iter=100, penalty=l2, solver=liblinear; total time=   0.0s\n",
      "[CV] END C=0.1, class_weight=balanced, max_iter=100, penalty=l2, solver=liblinear; total time=   0.0s\n"
     ]
    },
    {
     "name": "stderr",
     "output_type": "stream",
     "text": [
      "C:\\Users\\myousaf23\\anaconda3\\Lib\\site-packages\\sklearn\\linear_model\\_sag.py:349: ConvergenceWarning: The max_iter was reached which means the coef_ did not converge\n",
      "  warnings.warn(\n"
     ]
    },
    {
     "name": "stdout",
     "output_type": "stream",
     "text": [
      "[CV] END C=0.1, class_weight=balanced, max_iter=100, penalty=l2, solver=saga; total time=   0.8s\n"
     ]
    },
    {
     "name": "stderr",
     "output_type": "stream",
     "text": [
      "C:\\Users\\myousaf23\\anaconda3\\Lib\\site-packages\\sklearn\\linear_model\\_sag.py:349: ConvergenceWarning: The max_iter was reached which means the coef_ did not converge\n",
      "  warnings.warn(\n"
     ]
    },
    {
     "name": "stdout",
     "output_type": "stream",
     "text": [
      "[CV] END C=0.1, class_weight=balanced, max_iter=100, penalty=l2, solver=saga; total time=   0.8s\n"
     ]
    },
    {
     "name": "stderr",
     "output_type": "stream",
     "text": [
      "C:\\Users\\myousaf23\\anaconda3\\Lib\\site-packages\\sklearn\\linear_model\\_sag.py:349: ConvergenceWarning: The max_iter was reached which means the coef_ did not converge\n",
      "  warnings.warn(\n"
     ]
    },
    {
     "name": "stdout",
     "output_type": "stream",
     "text": [
      "[CV] END C=0.1, class_weight=balanced, max_iter=100, penalty=l2, solver=saga; total time=   0.9s\n"
     ]
    },
    {
     "name": "stderr",
     "output_type": "stream",
     "text": [
      "C:\\Users\\myousaf23\\anaconda3\\Lib\\site-packages\\sklearn\\linear_model\\_sag.py:349: ConvergenceWarning: The max_iter was reached which means the coef_ did not converge\n",
      "  warnings.warn(\n"
     ]
    },
    {
     "name": "stdout",
     "output_type": "stream",
     "text": [
      "[CV] END C=0.1, class_weight=balanced, max_iter=100, penalty=l2, solver=saga; total time=   1.3s\n"
     ]
    },
    {
     "name": "stderr",
     "output_type": "stream",
     "text": [
      "C:\\Users\\myousaf23\\anaconda3\\Lib\\site-packages\\sklearn\\linear_model\\_sag.py:349: ConvergenceWarning: The max_iter was reached which means the coef_ did not converge\n",
      "  warnings.warn(\n"
     ]
    },
    {
     "name": "stdout",
     "output_type": "stream",
     "text": [
      "[CV] END C=0.1, class_weight=balanced, max_iter=100, penalty=l2, solver=saga; total time=   0.8s\n",
      "[CV] END C=0.1, class_weight=balanced, max_iter=100, penalty=l1, solver=liblinear; total time=   0.0s\n",
      "[CV] END C=0.1, class_weight=balanced, max_iter=100, penalty=l1, solver=liblinear; total time=   0.0s\n",
      "[CV] END C=0.1, class_weight=balanced, max_iter=100, penalty=l1, solver=liblinear; total time=   0.0s\n",
      "[CV] END C=0.1, class_weight=balanced, max_iter=100, penalty=l1, solver=liblinear; total time=   0.0s\n",
      "[CV] END C=0.1, class_weight=balanced, max_iter=100, penalty=l1, solver=liblinear; total time=   0.0s\n",
      "[CV] END C=0.1, class_weight=balanced, max_iter=100, penalty=l1, solver=saga; total time=   0.1s\n",
      "[CV] END C=0.1, class_weight=balanced, max_iter=100, penalty=l1, solver=saga; total time=   0.2s\n",
      "[CV] END C=0.1, class_weight=balanced, max_iter=100, penalty=l1, solver=saga; total time=   0.3s\n",
      "[CV] END C=0.1, class_weight=balanced, max_iter=100, penalty=l1, solver=saga; total time=   0.1s\n",
      "[CV] END C=0.1, class_weight=balanced, max_iter=100, penalty=l1, solver=saga; total time=   0.3s\n",
      "[CV] END C=0.1, class_weight=balanced, max_iter=200, penalty=l2, solver=liblinear; total time=   0.0s\n",
      "[CV] END C=0.1, class_weight=balanced, max_iter=200, penalty=l2, solver=liblinear; total time=   0.0s\n",
      "[CV] END C=0.1, class_weight=balanced, max_iter=200, penalty=l2, solver=liblinear; total time=   0.0s\n",
      "[CV] END C=0.1, class_weight=balanced, max_iter=200, penalty=l2, solver=liblinear; total time=   0.0s\n",
      "[CV] END C=0.1, class_weight=balanced, max_iter=200, penalty=l2, solver=liblinear; total time=   0.0s\n"
     ]
    },
    {
     "name": "stderr",
     "output_type": "stream",
     "text": [
      "C:\\Users\\myousaf23\\anaconda3\\Lib\\site-packages\\sklearn\\linear_model\\_sag.py:349: ConvergenceWarning: The max_iter was reached which means the coef_ did not converge\n",
      "  warnings.warn(\n"
     ]
    },
    {
     "name": "stdout",
     "output_type": "stream",
     "text": [
      "[CV] END C=0.1, class_weight=balanced, max_iter=200, penalty=l2, solver=saga; total time=   1.8s\n",
      "[CV] END C=0.1, class_weight=balanced, max_iter=200, penalty=l2, solver=saga; total time=   1.5s\n",
      "[CV] END C=0.1, class_weight=balanced, max_iter=200, penalty=l2, solver=saga; total time=   1.6s\n",
      "[CV] END C=0.1, class_weight=balanced, max_iter=200, penalty=l2, solver=saga; total time=   1.5s\n",
      "[CV] END C=0.1, class_weight=balanced, max_iter=200, penalty=l2, solver=saga; total time=   1.4s\n",
      "[CV] END C=0.1, class_weight=balanced, max_iter=200, penalty=l1, solver=liblinear; total time=   0.0s\n",
      "[CV] END C=0.1, class_weight=balanced, max_iter=200, penalty=l1, solver=liblinear; total time=   0.0s\n",
      "[CV] END C=0.1, class_weight=balanced, max_iter=200, penalty=l1, solver=liblinear; total time=   0.0s\n",
      "[CV] END C=0.1, class_weight=balanced, max_iter=200, penalty=l1, solver=liblinear; total time=   0.0s\n",
      "[CV] END C=0.1, class_weight=balanced, max_iter=200, penalty=l1, solver=liblinear; total time=   0.0s\n",
      "[CV] END C=0.1, class_weight=balanced, max_iter=200, penalty=l1, solver=saga; total time=   0.1s\n",
      "[CV] END C=0.1, class_weight=balanced, max_iter=200, penalty=l1, solver=saga; total time=   0.1s\n",
      "[CV] END C=0.1, class_weight=balanced, max_iter=200, penalty=l1, solver=saga; total time=   0.3s\n",
      "[CV] END C=0.1, class_weight=balanced, max_iter=200, penalty=l1, solver=saga; total time=   0.2s\n",
      "[CV] END C=0.1, class_weight=balanced, max_iter=200, penalty=l1, solver=saga; total time=   0.3s\n",
      "[CV] END C=0.1, class_weight=balanced, max_iter=500, penalty=l2, solver=liblinear; total time=   0.0s\n",
      "[CV] END C=0.1, class_weight=balanced, max_iter=500, penalty=l2, solver=liblinear; total time=   0.0s\n",
      "[CV] END C=0.1, class_weight=balanced, max_iter=500, penalty=l2, solver=liblinear; total time=   0.0s\n",
      "[CV] END C=0.1, class_weight=balanced, max_iter=500, penalty=l2, solver=liblinear; total time=   0.0s\n",
      "[CV] END C=0.1, class_weight=balanced, max_iter=500, penalty=l2, solver=liblinear; total time=   0.0s\n",
      "[CV] END C=0.1, class_weight=balanced, max_iter=500, penalty=l2, solver=saga; total time=   1.9s\n",
      "[CV] END C=0.1, class_weight=balanced, max_iter=500, penalty=l2, solver=saga; total time=   1.5s\n",
      "[CV] END C=0.1, class_weight=balanced, max_iter=500, penalty=l2, solver=saga; total time=   1.5s\n",
      "[CV] END C=0.1, class_weight=balanced, max_iter=500, penalty=l2, solver=saga; total time=   1.4s\n",
      "[CV] END C=0.1, class_weight=balanced, max_iter=500, penalty=l2, solver=saga; total time=   1.5s\n",
      "[CV] END C=0.1, class_weight=balanced, max_iter=500, penalty=l1, solver=liblinear; total time=   0.1s\n",
      "[CV] END C=0.1, class_weight=balanced, max_iter=500, penalty=l1, solver=liblinear; total time=   0.0s\n",
      "[CV] END C=0.1, class_weight=balanced, max_iter=500, penalty=l1, solver=liblinear; total time=   0.0s\n",
      "[CV] END C=0.1, class_weight=balanced, max_iter=500, penalty=l1, solver=liblinear; total time=   0.0s\n",
      "[CV] END C=0.1, class_weight=balanced, max_iter=500, penalty=l1, solver=liblinear; total time=   0.0s\n",
      "[CV] END C=0.1, class_weight=balanced, max_iter=500, penalty=l1, solver=saga; total time=   0.2s\n",
      "[CV] END C=0.1, class_weight=balanced, max_iter=500, penalty=l1, solver=saga; total time=   0.2s\n",
      "[CV] END C=0.1, class_weight=balanced, max_iter=500, penalty=l1, solver=saga; total time=   0.4s\n",
      "[CV] END C=0.1, class_weight=balanced, max_iter=500, penalty=l1, solver=saga; total time=   0.2s\n",
      "[CV] END C=0.1, class_weight=balanced, max_iter=500, penalty=l1, solver=saga; total time=   0.4s\n",
      "[CV] END C=0.1, class_weight=balanced, max_iter=700, penalty=l2, solver=liblinear; total time=   0.0s\n",
      "[CV] END C=0.1, class_weight=balanced, max_iter=700, penalty=l2, solver=liblinear; total time=   0.0s\n",
      "[CV] END C=0.1, class_weight=balanced, max_iter=700, penalty=l2, solver=liblinear; total time=   0.0s\n",
      "[CV] END C=0.1, class_weight=balanced, max_iter=700, penalty=l2, solver=liblinear; total time=   0.0s\n",
      "[CV] END C=0.1, class_weight=balanced, max_iter=700, penalty=l2, solver=liblinear; total time=   0.0s\n",
      "[CV] END C=0.1, class_weight=balanced, max_iter=700, penalty=l2, solver=saga; total time=   1.8s\n",
      "[CV] END C=0.1, class_weight=balanced, max_iter=700, penalty=l2, solver=saga; total time=   1.5s\n",
      "[CV] END C=0.1, class_weight=balanced, max_iter=700, penalty=l2, solver=saga; total time=   1.5s\n",
      "[CV] END C=0.1, class_weight=balanced, max_iter=700, penalty=l2, solver=saga; total time=   1.4s\n",
      "[CV] END C=0.1, class_weight=balanced, max_iter=700, penalty=l2, solver=saga; total time=   1.5s\n",
      "[CV] END C=0.1, class_weight=balanced, max_iter=700, penalty=l1, solver=liblinear; total time=   0.0s\n",
      "[CV] END C=0.1, class_weight=balanced, max_iter=700, penalty=l1, solver=liblinear; total time=   0.0s\n",
      "[CV] END C=0.1, class_weight=balanced, max_iter=700, penalty=l1, solver=liblinear; total time=   0.0s\n",
      "[CV] END C=0.1, class_weight=balanced, max_iter=700, penalty=l1, solver=liblinear; total time=   0.0s\n",
      "[CV] END C=0.1, class_weight=balanced, max_iter=700, penalty=l1, solver=liblinear; total time=   0.0s\n",
      "[CV] END C=0.1, class_weight=balanced, max_iter=700, penalty=l1, solver=saga; total time=   0.2s\n",
      "[CV] END C=0.1, class_weight=balanced, max_iter=700, penalty=l1, solver=saga; total time=   0.2s\n",
      "[CV] END C=0.1, class_weight=balanced, max_iter=700, penalty=l1, solver=saga; total time=   0.3s\n",
      "[CV] END C=0.1, class_weight=balanced, max_iter=700, penalty=l1, solver=saga; total time=   0.2s\n",
      "[CV] END C=0.1, class_weight=balanced, max_iter=700, penalty=l1, solver=saga; total time=   0.3s\n",
      "[CV] END C=0.1, class_weight=balanced, max_iter=1000, penalty=l2, solver=liblinear; total time=   0.0s\n",
      "[CV] END C=0.1, class_weight=balanced, max_iter=1000, penalty=l2, solver=liblinear; total time=   0.0s\n",
      "[CV] END C=0.1, class_weight=balanced, max_iter=1000, penalty=l2, solver=liblinear; total time=   0.0s\n",
      "[CV] END C=0.1, class_weight=balanced, max_iter=1000, penalty=l2, solver=liblinear; total time=   0.0s\n",
      "[CV] END C=0.1, class_weight=balanced, max_iter=1000, penalty=l2, solver=liblinear; total time=   0.0s\n",
      "[CV] END C=0.1, class_weight=balanced, max_iter=1000, penalty=l2, solver=saga; total time=   1.9s\n",
      "[CV] END C=0.1, class_weight=balanced, max_iter=1000, penalty=l2, solver=saga; total time=   1.5s\n",
      "[CV] END C=0.1, class_weight=balanced, max_iter=1000, penalty=l2, solver=saga; total time=   1.5s\n",
      "[CV] END C=0.1, class_weight=balanced, max_iter=1000, penalty=l2, solver=saga; total time=   1.4s\n",
      "[CV] END C=0.1, class_weight=balanced, max_iter=1000, penalty=l2, solver=saga; total time=   1.5s\n",
      "[CV] END C=0.1, class_weight=balanced, max_iter=1000, penalty=l1, solver=liblinear; total time=   0.0s\n",
      "[CV] END C=0.1, class_weight=balanced, max_iter=1000, penalty=l1, solver=liblinear; total time=   0.0s\n",
      "[CV] END C=0.1, class_weight=balanced, max_iter=1000, penalty=l1, solver=liblinear; total time=   0.0s\n",
      "[CV] END C=0.1, class_weight=balanced, max_iter=1000, penalty=l1, solver=liblinear; total time=   0.0s\n",
      "[CV] END C=0.1, class_weight=balanced, max_iter=1000, penalty=l1, solver=liblinear; total time=   0.0s\n",
      "[CV] END C=0.1, class_weight=balanced, max_iter=1000, penalty=l1, solver=saga; total time=   0.2s\n",
      "[CV] END C=0.1, class_weight=balanced, max_iter=1000, penalty=l1, solver=saga; total time=   0.1s\n",
      "[CV] END C=0.1, class_weight=balanced, max_iter=1000, penalty=l1, solver=saga; total time=   0.3s\n",
      "[CV] END C=0.1, class_weight=balanced, max_iter=1000, penalty=l1, solver=saga; total time=   0.2s\n",
      "[CV] END C=0.1, class_weight=balanced, max_iter=1000, penalty=l1, solver=saga; total time=   0.3s\n",
      "[CV] END C=1, class_weight=None, max_iter=100, penalty=l2, solver=liblinear; total time=   0.1s\n",
      "[CV] END C=1, class_weight=None, max_iter=100, penalty=l2, solver=liblinear; total time=   0.1s\n",
      "[CV] END C=1, class_weight=None, max_iter=100, penalty=l2, solver=liblinear; total time=   0.1s\n",
      "[CV] END C=1, class_weight=None, max_iter=100, penalty=l2, solver=liblinear; total time=   0.0s\n",
      "[CV] END C=1, class_weight=None, max_iter=100, penalty=l2, solver=liblinear; total time=   0.0s\n"
     ]
    },
    {
     "name": "stderr",
     "output_type": "stream",
     "text": [
      "C:\\Users\\myousaf23\\anaconda3\\Lib\\site-packages\\sklearn\\linear_model\\_sag.py:349: ConvergenceWarning: The max_iter was reached which means the coef_ did not converge\n",
      "  warnings.warn(\n"
     ]
    },
    {
     "name": "stdout",
     "output_type": "stream",
     "text": [
      "[CV] END C=1, class_weight=None, max_iter=100, penalty=l2, solver=saga; total time=   0.8s\n"
     ]
    },
    {
     "name": "stderr",
     "output_type": "stream",
     "text": [
      "C:\\Users\\myousaf23\\anaconda3\\Lib\\site-packages\\sklearn\\linear_model\\_sag.py:349: ConvergenceWarning: The max_iter was reached which means the coef_ did not converge\n",
      "  warnings.warn(\n"
     ]
    },
    {
     "name": "stdout",
     "output_type": "stream",
     "text": [
      "[CV] END C=1, class_weight=None, max_iter=100, penalty=l2, solver=saga; total time=   0.9s\n"
     ]
    },
    {
     "name": "stderr",
     "output_type": "stream",
     "text": [
      "C:\\Users\\myousaf23\\anaconda3\\Lib\\site-packages\\sklearn\\linear_model\\_sag.py:349: ConvergenceWarning: The max_iter was reached which means the coef_ did not converge\n",
      "  warnings.warn(\n"
     ]
    },
    {
     "name": "stdout",
     "output_type": "stream",
     "text": [
      "[CV] END C=1, class_weight=None, max_iter=100, penalty=l2, solver=saga; total time=   0.9s\n"
     ]
    },
    {
     "name": "stderr",
     "output_type": "stream",
     "text": [
      "C:\\Users\\myousaf23\\anaconda3\\Lib\\site-packages\\sklearn\\linear_model\\_sag.py:349: ConvergenceWarning: The max_iter was reached which means the coef_ did not converge\n",
      "  warnings.warn(\n"
     ]
    },
    {
     "name": "stdout",
     "output_type": "stream",
     "text": [
      "[CV] END C=1, class_weight=None, max_iter=100, penalty=l2, solver=saga; total time=   0.9s\n"
     ]
    },
    {
     "name": "stderr",
     "output_type": "stream",
     "text": [
      "C:\\Users\\myousaf23\\anaconda3\\Lib\\site-packages\\sklearn\\linear_model\\_sag.py:349: ConvergenceWarning: The max_iter was reached which means the coef_ did not converge\n",
      "  warnings.warn(\n"
     ]
    },
    {
     "name": "stdout",
     "output_type": "stream",
     "text": [
      "[CV] END C=1, class_weight=None, max_iter=100, penalty=l2, solver=saga; total time=   0.9s\n",
      "[CV] END C=1, class_weight=None, max_iter=100, penalty=l1, solver=liblinear; total time=   0.1s\n",
      "[CV] END C=1, class_weight=None, max_iter=100, penalty=l1, solver=liblinear; total time=   0.0s\n",
      "[CV] END C=1, class_weight=None, max_iter=100, penalty=l1, solver=liblinear; total time=   0.0s\n",
      "[CV] END C=1, class_weight=None, max_iter=100, penalty=l1, solver=liblinear; total time=   0.0s\n",
      "[CV] END C=1, class_weight=None, max_iter=100, penalty=l1, solver=liblinear; total time=   0.0s\n"
     ]
    },
    {
     "name": "stderr",
     "output_type": "stream",
     "text": [
      "C:\\Users\\myousaf23\\anaconda3\\Lib\\site-packages\\sklearn\\linear_model\\_sag.py:349: ConvergenceWarning: The max_iter was reached which means the coef_ did not converge\n",
      "  warnings.warn(\n"
     ]
    },
    {
     "name": "stdout",
     "output_type": "stream",
     "text": [
      "[CV] END C=1, class_weight=None, max_iter=100, penalty=l1, solver=saga; total time=   1.1s\n"
     ]
    },
    {
     "name": "stderr",
     "output_type": "stream",
     "text": [
      "C:\\Users\\myousaf23\\anaconda3\\Lib\\site-packages\\sklearn\\linear_model\\_sag.py:349: ConvergenceWarning: The max_iter was reached which means the coef_ did not converge\n",
      "  warnings.warn(\n"
     ]
    },
    {
     "name": "stdout",
     "output_type": "stream",
     "text": [
      "[CV] END C=1, class_weight=None, max_iter=100, penalty=l1, solver=saga; total time=   1.1s\n"
     ]
    },
    {
     "name": "stderr",
     "output_type": "stream",
     "text": [
      "C:\\Users\\myousaf23\\anaconda3\\Lib\\site-packages\\sklearn\\linear_model\\_sag.py:349: ConvergenceWarning: The max_iter was reached which means the coef_ did not converge\n",
      "  warnings.warn(\n"
     ]
    },
    {
     "name": "stdout",
     "output_type": "stream",
     "text": [
      "[CV] END C=1, class_weight=None, max_iter=100, penalty=l1, solver=saga; total time=   1.1s\n"
     ]
    },
    {
     "name": "stderr",
     "output_type": "stream",
     "text": [
      "C:\\Users\\myousaf23\\anaconda3\\Lib\\site-packages\\sklearn\\linear_model\\_sag.py:349: ConvergenceWarning: The max_iter was reached which means the coef_ did not converge\n",
      "  warnings.warn(\n"
     ]
    },
    {
     "name": "stdout",
     "output_type": "stream",
     "text": [
      "[CV] END C=1, class_weight=None, max_iter=100, penalty=l1, solver=saga; total time=   1.1s\n"
     ]
    },
    {
     "name": "stderr",
     "output_type": "stream",
     "text": [
      "C:\\Users\\myousaf23\\anaconda3\\Lib\\site-packages\\sklearn\\linear_model\\_sag.py:349: ConvergenceWarning: The max_iter was reached which means the coef_ did not converge\n",
      "  warnings.warn(\n"
     ]
    },
    {
     "name": "stdout",
     "output_type": "stream",
     "text": [
      "[CV] END C=1, class_weight=None, max_iter=100, penalty=l1, solver=saga; total time=   1.2s\n",
      "[CV] END C=1, class_weight=None, max_iter=200, penalty=l2, solver=liblinear; total time=   0.1s\n",
      "[CV] END C=1, class_weight=None, max_iter=200, penalty=l2, solver=liblinear; total time=   0.1s\n",
      "[CV] END C=1, class_weight=None, max_iter=200, penalty=l2, solver=liblinear; total time=   0.1s\n",
      "[CV] END C=1, class_weight=None, max_iter=200, penalty=l2, solver=liblinear; total time=   0.1s\n",
      "[CV] END C=1, class_weight=None, max_iter=200, penalty=l2, solver=liblinear; total time=   0.1s\n"
     ]
    },
    {
     "name": "stderr",
     "output_type": "stream",
     "text": [
      "C:\\Users\\myousaf23\\anaconda3\\Lib\\site-packages\\sklearn\\linear_model\\_sag.py:349: ConvergenceWarning: The max_iter was reached which means the coef_ did not converge\n",
      "  warnings.warn(\n"
     ]
    },
    {
     "name": "stdout",
     "output_type": "stream",
     "text": [
      "[CV] END C=1, class_weight=None, max_iter=200, penalty=l2, solver=saga; total time=   1.8s\n"
     ]
    },
    {
     "name": "stderr",
     "output_type": "stream",
     "text": [
      "C:\\Users\\myousaf23\\anaconda3\\Lib\\site-packages\\sklearn\\linear_model\\_sag.py:349: ConvergenceWarning: The max_iter was reached which means the coef_ did not converge\n",
      "  warnings.warn(\n"
     ]
    },
    {
     "name": "stdout",
     "output_type": "stream",
     "text": [
      "[CV] END C=1, class_weight=None, max_iter=200, penalty=l2, solver=saga; total time=   1.8s\n"
     ]
    },
    {
     "name": "stderr",
     "output_type": "stream",
     "text": [
      "C:\\Users\\myousaf23\\anaconda3\\Lib\\site-packages\\sklearn\\linear_model\\_sag.py:349: ConvergenceWarning: The max_iter was reached which means the coef_ did not converge\n",
      "  warnings.warn(\n"
     ]
    },
    {
     "name": "stdout",
     "output_type": "stream",
     "text": [
      "[CV] END C=1, class_weight=None, max_iter=200, penalty=l2, solver=saga; total time=   1.7s\n"
     ]
    },
    {
     "name": "stderr",
     "output_type": "stream",
     "text": [
      "C:\\Users\\myousaf23\\anaconda3\\Lib\\site-packages\\sklearn\\linear_model\\_sag.py:349: ConvergenceWarning: The max_iter was reached which means the coef_ did not converge\n",
      "  warnings.warn(\n"
     ]
    },
    {
     "name": "stdout",
     "output_type": "stream",
     "text": [
      "[CV] END C=1, class_weight=None, max_iter=200, penalty=l2, solver=saga; total time=   1.8s\n"
     ]
    },
    {
     "name": "stderr",
     "output_type": "stream",
     "text": [
      "C:\\Users\\myousaf23\\anaconda3\\Lib\\site-packages\\sklearn\\linear_model\\_sag.py:349: ConvergenceWarning: The max_iter was reached which means the coef_ did not converge\n",
      "  warnings.warn(\n"
     ]
    },
    {
     "name": "stdout",
     "output_type": "stream",
     "text": [
      "[CV] END C=1, class_weight=None, max_iter=200, penalty=l2, solver=saga; total time=   1.8s\n",
      "[CV] END C=1, class_weight=None, max_iter=200, penalty=l1, solver=liblinear; total time=   0.0s\n",
      "[CV] END C=1, class_weight=None, max_iter=200, penalty=l1, solver=liblinear; total time=   0.0s\n",
      "[CV] END C=1, class_weight=None, max_iter=200, penalty=l1, solver=liblinear; total time=   0.0s\n",
      "[CV] END C=1, class_weight=None, max_iter=200, penalty=l1, solver=liblinear; total time=   0.0s\n",
      "[CV] END C=1, class_weight=None, max_iter=200, penalty=l1, solver=liblinear; total time=   0.0s\n"
     ]
    },
    {
     "name": "stderr",
     "output_type": "stream",
     "text": [
      "C:\\Users\\myousaf23\\anaconda3\\Lib\\site-packages\\sklearn\\linear_model\\_sag.py:349: ConvergenceWarning: The max_iter was reached which means the coef_ did not converge\n",
      "  warnings.warn(\n"
     ]
    },
    {
     "name": "stdout",
     "output_type": "stream",
     "text": [
      "[CV] END C=1, class_weight=None, max_iter=200, penalty=l1, solver=saga; total time=   2.3s\n"
     ]
    },
    {
     "name": "stderr",
     "output_type": "stream",
     "text": [
      "C:\\Users\\myousaf23\\anaconda3\\Lib\\site-packages\\sklearn\\linear_model\\_sag.py:349: ConvergenceWarning: The max_iter was reached which means the coef_ did not converge\n",
      "  warnings.warn(\n"
     ]
    },
    {
     "name": "stdout",
     "output_type": "stream",
     "text": [
      "[CV] END C=1, class_weight=None, max_iter=200, penalty=l1, solver=saga; total time=   2.3s\n"
     ]
    },
    {
     "name": "stderr",
     "output_type": "stream",
     "text": [
      "C:\\Users\\myousaf23\\anaconda3\\Lib\\site-packages\\sklearn\\linear_model\\_sag.py:349: ConvergenceWarning: The max_iter was reached which means the coef_ did not converge\n",
      "  warnings.warn(\n"
     ]
    },
    {
     "name": "stdout",
     "output_type": "stream",
     "text": [
      "[CV] END C=1, class_weight=None, max_iter=200, penalty=l1, solver=saga; total time=   2.3s\n"
     ]
    },
    {
     "name": "stderr",
     "output_type": "stream",
     "text": [
      "C:\\Users\\myousaf23\\anaconda3\\Lib\\site-packages\\sklearn\\linear_model\\_sag.py:349: ConvergenceWarning: The max_iter was reached which means the coef_ did not converge\n",
      "  warnings.warn(\n"
     ]
    },
    {
     "name": "stdout",
     "output_type": "stream",
     "text": [
      "[CV] END C=1, class_weight=None, max_iter=200, penalty=l1, solver=saga; total time=   2.3s\n"
     ]
    },
    {
     "name": "stderr",
     "output_type": "stream",
     "text": [
      "C:\\Users\\myousaf23\\anaconda3\\Lib\\site-packages\\sklearn\\linear_model\\_sag.py:349: ConvergenceWarning: The max_iter was reached which means the coef_ did not converge\n",
      "  warnings.warn(\n"
     ]
    },
    {
     "name": "stdout",
     "output_type": "stream",
     "text": [
      "[CV] END C=1, class_weight=None, max_iter=200, penalty=l1, solver=saga; total time=   2.3s\n",
      "[CV] END C=1, class_weight=None, max_iter=500, penalty=l2, solver=liblinear; total time=   0.1s\n",
      "[CV] END C=1, class_weight=None, max_iter=500, penalty=l2, solver=liblinear; total time=   0.1s\n",
      "[CV] END C=1, class_weight=None, max_iter=500, penalty=l2, solver=liblinear; total time=   0.1s\n",
      "[CV] END C=1, class_weight=None, max_iter=500, penalty=l2, solver=liblinear; total time=   0.1s\n",
      "[CV] END C=1, class_weight=None, max_iter=500, penalty=l2, solver=liblinear; total time=   0.0s\n"
     ]
    },
    {
     "name": "stderr",
     "output_type": "stream",
     "text": [
      "C:\\Users\\myousaf23\\anaconda3\\Lib\\site-packages\\sklearn\\linear_model\\_sag.py:349: ConvergenceWarning: The max_iter was reached which means the coef_ did not converge\n",
      "  warnings.warn(\n"
     ]
    },
    {
     "name": "stdout",
     "output_type": "stream",
     "text": [
      "[CV] END C=1, class_weight=None, max_iter=500, penalty=l2, solver=saga; total time=   4.5s\n",
      "[CV] END C=1, class_weight=None, max_iter=500, penalty=l2, solver=saga; total time=   3.3s\n",
      "[CV] END C=1, class_weight=None, max_iter=500, penalty=l2, solver=saga; total time=   4.1s\n",
      "[CV] END C=1, class_weight=None, max_iter=500, penalty=l2, solver=saga; total time=   3.6s\n",
      "[CV] END C=1, class_weight=None, max_iter=500, penalty=l2, solver=saga; total time=   3.9s\n",
      "[CV] END C=1, class_weight=None, max_iter=500, penalty=l1, solver=liblinear; total time=   0.0s\n",
      "[CV] END C=1, class_weight=None, max_iter=500, penalty=l1, solver=liblinear; total time=   0.0s\n",
      "[CV] END C=1, class_weight=None, max_iter=500, penalty=l1, solver=liblinear; total time=   0.0s\n",
      "[CV] END C=1, class_weight=None, max_iter=500, penalty=l1, solver=liblinear; total time=   0.0s\n",
      "[CV] END C=1, class_weight=None, max_iter=500, penalty=l1, solver=liblinear; total time=   0.0s\n"
     ]
    },
    {
     "name": "stderr",
     "output_type": "stream",
     "text": [
      "C:\\Users\\myousaf23\\anaconda3\\Lib\\site-packages\\sklearn\\linear_model\\_sag.py:349: ConvergenceWarning: The max_iter was reached which means the coef_ did not converge\n",
      "  warnings.warn(\n"
     ]
    },
    {
     "name": "stdout",
     "output_type": "stream",
     "text": [
      "[CV] END C=1, class_weight=None, max_iter=500, penalty=l1, solver=saga; total time=   5.9s\n"
     ]
    },
    {
     "name": "stderr",
     "output_type": "stream",
     "text": [
      "C:\\Users\\myousaf23\\anaconda3\\Lib\\site-packages\\sklearn\\linear_model\\_sag.py:349: ConvergenceWarning: The max_iter was reached which means the coef_ did not converge\n",
      "  warnings.warn(\n"
     ]
    },
    {
     "name": "stdout",
     "output_type": "stream",
     "text": [
      "[CV] END C=1, class_weight=None, max_iter=500, penalty=l1, solver=saga; total time=   5.8s\n"
     ]
    },
    {
     "name": "stderr",
     "output_type": "stream",
     "text": [
      "C:\\Users\\myousaf23\\anaconda3\\Lib\\site-packages\\sklearn\\linear_model\\_sag.py:349: ConvergenceWarning: The max_iter was reached which means the coef_ did not converge\n",
      "  warnings.warn(\n"
     ]
    },
    {
     "name": "stdout",
     "output_type": "stream",
     "text": [
      "[CV] END C=1, class_weight=None, max_iter=500, penalty=l1, solver=saga; total time=   5.9s\n"
     ]
    },
    {
     "name": "stderr",
     "output_type": "stream",
     "text": [
      "C:\\Users\\myousaf23\\anaconda3\\Lib\\site-packages\\sklearn\\linear_model\\_sag.py:349: ConvergenceWarning: The max_iter was reached which means the coef_ did not converge\n",
      "  warnings.warn(\n"
     ]
    },
    {
     "name": "stdout",
     "output_type": "stream",
     "text": [
      "[CV] END C=1, class_weight=None, max_iter=500, penalty=l1, solver=saga; total time=   5.9s\n"
     ]
    },
    {
     "name": "stderr",
     "output_type": "stream",
     "text": [
      "C:\\Users\\myousaf23\\anaconda3\\Lib\\site-packages\\sklearn\\linear_model\\_sag.py:349: ConvergenceWarning: The max_iter was reached which means the coef_ did not converge\n",
      "  warnings.warn(\n"
     ]
    },
    {
     "name": "stdout",
     "output_type": "stream",
     "text": [
      "[CV] END C=1, class_weight=None, max_iter=500, penalty=l1, solver=saga; total time=   5.6s\n",
      "[CV] END C=1, class_weight=None, max_iter=700, penalty=l2, solver=liblinear; total time=   0.0s\n",
      "[CV] END C=1, class_weight=None, max_iter=700, penalty=l2, solver=liblinear; total time=   0.1s\n",
      "[CV] END C=1, class_weight=None, max_iter=700, penalty=l2, solver=liblinear; total time=   0.1s\n",
      "[CV] END C=1, class_weight=None, max_iter=700, penalty=l2, solver=liblinear; total time=   0.1s\n",
      "[CV] END C=1, class_weight=None, max_iter=700, penalty=l2, solver=liblinear; total time=   0.1s\n",
      "[CV] END C=1, class_weight=None, max_iter=700, penalty=l2, solver=saga; total time=   6.0s\n",
      "[CV] END C=1, class_weight=None, max_iter=700, penalty=l2, solver=saga; total time=   3.3s\n",
      "[CV] END C=1, class_weight=None, max_iter=700, penalty=l2, solver=saga; total time=   4.2s\n",
      "[CV] END C=1, class_weight=None, max_iter=700, penalty=l2, solver=saga; total time=   3.7s\n",
      "[CV] END C=1, class_weight=None, max_iter=700, penalty=l2, solver=saga; total time=   3.8s\n",
      "[CV] END C=1, class_weight=None, max_iter=700, penalty=l1, solver=liblinear; total time=   0.0s\n",
      "[CV] END C=1, class_weight=None, max_iter=700, penalty=l1, solver=liblinear; total time=   0.0s\n",
      "[CV] END C=1, class_weight=None, max_iter=700, penalty=l1, solver=liblinear; total time=   0.0s\n",
      "[CV] END C=1, class_weight=None, max_iter=700, penalty=l1, solver=liblinear; total time=   0.0s\n",
      "[CV] END C=1, class_weight=None, max_iter=700, penalty=l1, solver=liblinear; total time=   0.0s\n"
     ]
    },
    {
     "name": "stderr",
     "output_type": "stream",
     "text": [
      "C:\\Users\\myousaf23\\anaconda3\\Lib\\site-packages\\sklearn\\linear_model\\_sag.py:349: ConvergenceWarning: The max_iter was reached which means the coef_ did not converge\n",
      "  warnings.warn(\n"
     ]
    },
    {
     "name": "stdout",
     "output_type": "stream",
     "text": [
      "[CV] END C=1, class_weight=None, max_iter=700, penalty=l1, solver=saga; total time=   8.2s\n"
     ]
    },
    {
     "name": "stderr",
     "output_type": "stream",
     "text": [
      "C:\\Users\\myousaf23\\anaconda3\\Lib\\site-packages\\sklearn\\linear_model\\_sag.py:349: ConvergenceWarning: The max_iter was reached which means the coef_ did not converge\n",
      "  warnings.warn(\n"
     ]
    },
    {
     "name": "stdout",
     "output_type": "stream",
     "text": [
      "[CV] END C=1, class_weight=None, max_iter=700, penalty=l1, solver=saga; total time=   8.1s\n"
     ]
    },
    {
     "name": "stderr",
     "output_type": "stream",
     "text": [
      "C:\\Users\\myousaf23\\anaconda3\\Lib\\site-packages\\sklearn\\linear_model\\_sag.py:349: ConvergenceWarning: The max_iter was reached which means the coef_ did not converge\n",
      "  warnings.warn(\n"
     ]
    },
    {
     "name": "stdout",
     "output_type": "stream",
     "text": [
      "[CV] END C=1, class_weight=None, max_iter=700, penalty=l1, solver=saga; total time=   8.2s\n"
     ]
    },
    {
     "name": "stderr",
     "output_type": "stream",
     "text": [
      "C:\\Users\\myousaf23\\anaconda3\\Lib\\site-packages\\sklearn\\linear_model\\_sag.py:349: ConvergenceWarning: The max_iter was reached which means the coef_ did not converge\n",
      "  warnings.warn(\n"
     ]
    },
    {
     "name": "stdout",
     "output_type": "stream",
     "text": [
      "[CV] END C=1, class_weight=None, max_iter=700, penalty=l1, solver=saga; total time=   8.1s\n"
     ]
    },
    {
     "name": "stderr",
     "output_type": "stream",
     "text": [
      "C:\\Users\\myousaf23\\anaconda3\\Lib\\site-packages\\sklearn\\linear_model\\_sag.py:349: ConvergenceWarning: The max_iter was reached which means the coef_ did not converge\n",
      "  warnings.warn(\n"
     ]
    },
    {
     "name": "stdout",
     "output_type": "stream",
     "text": [
      "[CV] END C=1, class_weight=None, max_iter=700, penalty=l1, solver=saga; total time=   8.2s\n",
      "[CV] END C=1, class_weight=None, max_iter=1000, penalty=l2, solver=liblinear; total time=   0.1s\n",
      "[CV] END C=1, class_weight=None, max_iter=1000, penalty=l2, solver=liblinear; total time=   0.1s\n",
      "[CV] END C=1, class_weight=None, max_iter=1000, penalty=l2, solver=liblinear; total time=   0.0s\n",
      "[CV] END C=1, class_weight=None, max_iter=1000, penalty=l2, solver=liblinear; total time=   0.0s\n",
      "[CV] END C=1, class_weight=None, max_iter=1000, penalty=l2, solver=liblinear; total time=   0.0s\n",
      "[CV] END C=1, class_weight=None, max_iter=1000, penalty=l2, solver=saga; total time=   5.9s\n",
      "[CV] END C=1, class_weight=None, max_iter=1000, penalty=l2, solver=saga; total time=   3.4s\n",
      "[CV] END C=1, class_weight=None, max_iter=1000, penalty=l2, solver=saga; total time=   4.0s\n",
      "[CV] END C=1, class_weight=None, max_iter=1000, penalty=l2, solver=saga; total time=   3.6s\n",
      "[CV] END C=1, class_weight=None, max_iter=1000, penalty=l2, solver=saga; total time=   3.8s\n",
      "[CV] END C=1, class_weight=None, max_iter=1000, penalty=l1, solver=liblinear; total time=   0.0s\n",
      "[CV] END C=1, class_weight=None, max_iter=1000, penalty=l1, solver=liblinear; total time=   0.0s\n",
      "[CV] END C=1, class_weight=None, max_iter=1000, penalty=l1, solver=liblinear; total time=   0.0s\n",
      "[CV] END C=1, class_weight=None, max_iter=1000, penalty=l1, solver=liblinear; total time=   0.0s\n",
      "[CV] END C=1, class_weight=None, max_iter=1000, penalty=l1, solver=liblinear; total time=   0.0s\n"
     ]
    },
    {
     "name": "stderr",
     "output_type": "stream",
     "text": [
      "C:\\Users\\myousaf23\\anaconda3\\Lib\\site-packages\\sklearn\\linear_model\\_sag.py:349: ConvergenceWarning: The max_iter was reached which means the coef_ did not converge\n",
      "  warnings.warn(\n"
     ]
    },
    {
     "name": "stdout",
     "output_type": "stream",
     "text": [
      "[CV] END C=1, class_weight=None, max_iter=1000, penalty=l1, solver=saga; total time=  11.8s\n",
      "[CV] END C=1, class_weight=None, max_iter=1000, penalty=l1, solver=saga; total time=  11.4s\n"
     ]
    },
    {
     "name": "stderr",
     "output_type": "stream",
     "text": [
      "C:\\Users\\myousaf23\\anaconda3\\Lib\\site-packages\\sklearn\\linear_model\\_sag.py:349: ConvergenceWarning: The max_iter was reached which means the coef_ did not converge\n",
      "  warnings.warn(\n"
     ]
    },
    {
     "name": "stdout",
     "output_type": "stream",
     "text": [
      "[CV] END C=1, class_weight=None, max_iter=1000, penalty=l1, solver=saga; total time=  11.6s\n"
     ]
    },
    {
     "name": "stderr",
     "output_type": "stream",
     "text": [
      "C:\\Users\\myousaf23\\anaconda3\\Lib\\site-packages\\sklearn\\linear_model\\_sag.py:349: ConvergenceWarning: The max_iter was reached which means the coef_ did not converge\n",
      "  warnings.warn(\n"
     ]
    },
    {
     "name": "stdout",
     "output_type": "stream",
     "text": [
      "[CV] END C=1, class_weight=None, max_iter=1000, penalty=l1, solver=saga; total time=  11.5s\n"
     ]
    },
    {
     "name": "stderr",
     "output_type": "stream",
     "text": [
      "C:\\Users\\myousaf23\\anaconda3\\Lib\\site-packages\\sklearn\\linear_model\\_sag.py:349: ConvergenceWarning: The max_iter was reached which means the coef_ did not converge\n",
      "  warnings.warn(\n"
     ]
    },
    {
     "name": "stdout",
     "output_type": "stream",
     "text": [
      "[CV] END C=1, class_weight=None, max_iter=1000, penalty=l1, solver=saga; total time=  11.8s\n",
      "[CV] END C=1, class_weight=balanced, max_iter=100, penalty=l2, solver=liblinear; total time=   0.1s\n",
      "[CV] END C=1, class_weight=balanced, max_iter=100, penalty=l2, solver=liblinear; total time=   0.1s\n",
      "[CV] END C=1, class_weight=balanced, max_iter=100, penalty=l2, solver=liblinear; total time=   0.1s\n",
      "[CV] END C=1, class_weight=balanced, max_iter=100, penalty=l2, solver=liblinear; total time=   0.1s\n",
      "[CV] END C=1, class_weight=balanced, max_iter=100, penalty=l2, solver=liblinear; total time=   0.1s\n"
     ]
    },
    {
     "name": "stderr",
     "output_type": "stream",
     "text": [
      "C:\\Users\\myousaf23\\anaconda3\\Lib\\site-packages\\sklearn\\linear_model\\_sag.py:349: ConvergenceWarning: The max_iter was reached which means the coef_ did not converge\n",
      "  warnings.warn(\n"
     ]
    },
    {
     "name": "stdout",
     "output_type": "stream",
     "text": [
      "[CV] END C=1, class_weight=balanced, max_iter=100, penalty=l2, solver=saga; total time=   0.9s\n"
     ]
    },
    {
     "name": "stderr",
     "output_type": "stream",
     "text": [
      "C:\\Users\\myousaf23\\anaconda3\\Lib\\site-packages\\sklearn\\linear_model\\_sag.py:349: ConvergenceWarning: The max_iter was reached which means the coef_ did not converge\n",
      "  warnings.warn(\n"
     ]
    },
    {
     "name": "stdout",
     "output_type": "stream",
     "text": [
      "[CV] END C=1, class_weight=balanced, max_iter=100, penalty=l2, solver=saga; total time=   0.8s\n"
     ]
    },
    {
     "name": "stderr",
     "output_type": "stream",
     "text": [
      "C:\\Users\\myousaf23\\anaconda3\\Lib\\site-packages\\sklearn\\linear_model\\_sag.py:349: ConvergenceWarning: The max_iter was reached which means the coef_ did not converge\n",
      "  warnings.warn(\n"
     ]
    },
    {
     "name": "stdout",
     "output_type": "stream",
     "text": [
      "[CV] END C=1, class_weight=balanced, max_iter=100, penalty=l2, solver=saga; total time=   0.8s\n"
     ]
    },
    {
     "name": "stderr",
     "output_type": "stream",
     "text": [
      "C:\\Users\\myousaf23\\anaconda3\\Lib\\site-packages\\sklearn\\linear_model\\_sag.py:349: ConvergenceWarning: The max_iter was reached which means the coef_ did not converge\n",
      "  warnings.warn(\n"
     ]
    },
    {
     "name": "stdout",
     "output_type": "stream",
     "text": [
      "[CV] END C=1, class_weight=balanced, max_iter=100, penalty=l2, solver=saga; total time=   0.9s\n"
     ]
    },
    {
     "name": "stderr",
     "output_type": "stream",
     "text": [
      "C:\\Users\\myousaf23\\anaconda3\\Lib\\site-packages\\sklearn\\linear_model\\_sag.py:349: ConvergenceWarning: The max_iter was reached which means the coef_ did not converge\n",
      "  warnings.warn(\n"
     ]
    },
    {
     "name": "stdout",
     "output_type": "stream",
     "text": [
      "[CV] END C=1, class_weight=balanced, max_iter=100, penalty=l2, solver=saga; total time=   0.9s\n",
      "[CV] END C=1, class_weight=balanced, max_iter=100, penalty=l1, solver=liblinear; total time=   0.0s\n",
      "[CV] END C=1, class_weight=balanced, max_iter=100, penalty=l1, solver=liblinear; total time=   0.0s\n",
      "[CV] END C=1, class_weight=balanced, max_iter=100, penalty=l1, solver=liblinear; total time=   0.0s\n",
      "[CV] END C=1, class_weight=balanced, max_iter=100, penalty=l1, solver=liblinear; total time=   0.0s\n",
      "[CV] END C=1, class_weight=balanced, max_iter=100, penalty=l1, solver=liblinear; total time=   0.0s\n"
     ]
    },
    {
     "name": "stderr",
     "output_type": "stream",
     "text": [
      "C:\\Users\\myousaf23\\anaconda3\\Lib\\site-packages\\sklearn\\linear_model\\_sag.py:349: ConvergenceWarning: The max_iter was reached which means the coef_ did not converge\n",
      "  warnings.warn(\n"
     ]
    },
    {
     "name": "stdout",
     "output_type": "stream",
     "text": [
      "[CV] END C=1, class_weight=balanced, max_iter=100, penalty=l1, solver=saga; total time=   1.1s\n"
     ]
    },
    {
     "name": "stderr",
     "output_type": "stream",
     "text": [
      "C:\\Users\\myousaf23\\anaconda3\\Lib\\site-packages\\sklearn\\linear_model\\_sag.py:349: ConvergenceWarning: The max_iter was reached which means the coef_ did not converge\n",
      "  warnings.warn(\n"
     ]
    },
    {
     "name": "stdout",
     "output_type": "stream",
     "text": [
      "[CV] END C=1, class_weight=balanced, max_iter=100, penalty=l1, solver=saga; total time=   1.1s\n"
     ]
    },
    {
     "name": "stderr",
     "output_type": "stream",
     "text": [
      "C:\\Users\\myousaf23\\anaconda3\\Lib\\site-packages\\sklearn\\linear_model\\_sag.py:349: ConvergenceWarning: The max_iter was reached which means the coef_ did not converge\n",
      "  warnings.warn(\n"
     ]
    },
    {
     "name": "stdout",
     "output_type": "stream",
     "text": [
      "[CV] END C=1, class_weight=balanced, max_iter=100, penalty=l1, solver=saga; total time=   1.2s\n"
     ]
    },
    {
     "name": "stderr",
     "output_type": "stream",
     "text": [
      "C:\\Users\\myousaf23\\anaconda3\\Lib\\site-packages\\sklearn\\linear_model\\_sag.py:349: ConvergenceWarning: The max_iter was reached which means the coef_ did not converge\n",
      "  warnings.warn(\n"
     ]
    },
    {
     "name": "stdout",
     "output_type": "stream",
     "text": [
      "[CV] END C=1, class_weight=balanced, max_iter=100, penalty=l1, solver=saga; total time=   1.1s\n"
     ]
    },
    {
     "name": "stderr",
     "output_type": "stream",
     "text": [
      "C:\\Users\\myousaf23\\anaconda3\\Lib\\site-packages\\sklearn\\linear_model\\_sag.py:349: ConvergenceWarning: The max_iter was reached which means the coef_ did not converge\n",
      "  warnings.warn(\n"
     ]
    },
    {
     "name": "stdout",
     "output_type": "stream",
     "text": [
      "[CV] END C=1, class_weight=balanced, max_iter=100, penalty=l1, solver=saga; total time=   1.2s\n",
      "[CV] END C=1, class_weight=balanced, max_iter=200, penalty=l2, solver=liblinear; total time=   0.1s\n",
      "[CV] END C=1, class_weight=balanced, max_iter=200, penalty=l2, solver=liblinear; total time=   0.1s\n",
      "[CV] END C=1, class_weight=balanced, max_iter=200, penalty=l2, solver=liblinear; total time=   0.1s\n",
      "[CV] END C=1, class_weight=balanced, max_iter=200, penalty=l2, solver=liblinear; total time=   0.1s\n",
      "[CV] END C=1, class_weight=balanced, max_iter=200, penalty=l2, solver=liblinear; total time=   0.1s\n"
     ]
    },
    {
     "name": "stderr",
     "output_type": "stream",
     "text": [
      "C:\\Users\\myousaf23\\anaconda3\\Lib\\site-packages\\sklearn\\linear_model\\_sag.py:349: ConvergenceWarning: The max_iter was reached which means the coef_ did not converge\n",
      "  warnings.warn(\n"
     ]
    },
    {
     "name": "stdout",
     "output_type": "stream",
     "text": [
      "[CV] END C=1, class_weight=balanced, max_iter=200, penalty=l2, solver=saga; total time=   1.7s\n"
     ]
    },
    {
     "name": "stderr",
     "output_type": "stream",
     "text": [
      "C:\\Users\\myousaf23\\anaconda3\\Lib\\site-packages\\sklearn\\linear_model\\_sag.py:349: ConvergenceWarning: The max_iter was reached which means the coef_ did not converge\n",
      "  warnings.warn(\n"
     ]
    },
    {
     "name": "stdout",
     "output_type": "stream",
     "text": [
      "[CV] END C=1, class_weight=balanced, max_iter=200, penalty=l2, solver=saga; total time=   1.8s\n"
     ]
    },
    {
     "name": "stderr",
     "output_type": "stream",
     "text": [
      "C:\\Users\\myousaf23\\anaconda3\\Lib\\site-packages\\sklearn\\linear_model\\_sag.py:349: ConvergenceWarning: The max_iter was reached which means the coef_ did not converge\n",
      "  warnings.warn(\n"
     ]
    },
    {
     "name": "stdout",
     "output_type": "stream",
     "text": [
      "[CV] END C=1, class_weight=balanced, max_iter=200, penalty=l2, solver=saga; total time=   1.8s\n"
     ]
    },
    {
     "name": "stderr",
     "output_type": "stream",
     "text": [
      "C:\\Users\\myousaf23\\anaconda3\\Lib\\site-packages\\sklearn\\linear_model\\_sag.py:349: ConvergenceWarning: The max_iter was reached which means the coef_ did not converge\n",
      "  warnings.warn(\n"
     ]
    },
    {
     "name": "stdout",
     "output_type": "stream",
     "text": [
      "[CV] END C=1, class_weight=balanced, max_iter=200, penalty=l2, solver=saga; total time=   1.7s\n"
     ]
    },
    {
     "name": "stderr",
     "output_type": "stream",
     "text": [
      "C:\\Users\\myousaf23\\anaconda3\\Lib\\site-packages\\sklearn\\linear_model\\_sag.py:349: ConvergenceWarning: The max_iter was reached which means the coef_ did not converge\n",
      "  warnings.warn(\n"
     ]
    },
    {
     "name": "stdout",
     "output_type": "stream",
     "text": [
      "[CV] END C=1, class_weight=balanced, max_iter=200, penalty=l2, solver=saga; total time=   1.8s\n",
      "[CV] END C=1, class_weight=balanced, max_iter=200, penalty=l1, solver=liblinear; total time=   0.0s\n",
      "[CV] END C=1, class_weight=balanced, max_iter=200, penalty=l1, solver=liblinear; total time=   0.0s\n",
      "[CV] END C=1, class_weight=balanced, max_iter=200, penalty=l1, solver=liblinear; total time=   0.0s\n",
      "[CV] END C=1, class_weight=balanced, max_iter=200, penalty=l1, solver=liblinear; total time=   0.0s\n",
      "[CV] END C=1, class_weight=balanced, max_iter=200, penalty=l1, solver=liblinear; total time=   0.0s\n"
     ]
    },
    {
     "name": "stderr",
     "output_type": "stream",
     "text": [
      "C:\\Users\\myousaf23\\anaconda3\\Lib\\site-packages\\sklearn\\linear_model\\_sag.py:349: ConvergenceWarning: The max_iter was reached which means the coef_ did not converge\n",
      "  warnings.warn(\n"
     ]
    },
    {
     "name": "stdout",
     "output_type": "stream",
     "text": [
      "[CV] END C=1, class_weight=balanced, max_iter=200, penalty=l1, solver=saga; total time=   2.3s\n"
     ]
    },
    {
     "name": "stderr",
     "output_type": "stream",
     "text": [
      "C:\\Users\\myousaf23\\anaconda3\\Lib\\site-packages\\sklearn\\linear_model\\_sag.py:349: ConvergenceWarning: The max_iter was reached which means the coef_ did not converge\n",
      "  warnings.warn(\n"
     ]
    },
    {
     "name": "stdout",
     "output_type": "stream",
     "text": [
      "[CV] END C=1, class_weight=balanced, max_iter=200, penalty=l1, solver=saga; total time=   2.3s\n"
     ]
    },
    {
     "name": "stderr",
     "output_type": "stream",
     "text": [
      "C:\\Users\\myousaf23\\anaconda3\\Lib\\site-packages\\sklearn\\linear_model\\_sag.py:349: ConvergenceWarning: The max_iter was reached which means the coef_ did not converge\n",
      "  warnings.warn(\n"
     ]
    },
    {
     "name": "stdout",
     "output_type": "stream",
     "text": [
      "[CV] END C=1, class_weight=balanced, max_iter=200, penalty=l1, solver=saga; total time=   2.3s\n"
     ]
    },
    {
     "name": "stderr",
     "output_type": "stream",
     "text": [
      "C:\\Users\\myousaf23\\anaconda3\\Lib\\site-packages\\sklearn\\linear_model\\_sag.py:349: ConvergenceWarning: The max_iter was reached which means the coef_ did not converge\n",
      "  warnings.warn(\n"
     ]
    },
    {
     "name": "stdout",
     "output_type": "stream",
     "text": [
      "[CV] END C=1, class_weight=balanced, max_iter=200, penalty=l1, solver=saga; total time=   2.3s\n"
     ]
    },
    {
     "name": "stderr",
     "output_type": "stream",
     "text": [
      "C:\\Users\\myousaf23\\anaconda3\\Lib\\site-packages\\sklearn\\linear_model\\_sag.py:349: ConvergenceWarning: The max_iter was reached which means the coef_ did not converge\n",
      "  warnings.warn(\n"
     ]
    },
    {
     "name": "stdout",
     "output_type": "stream",
     "text": [
      "[CV] END C=1, class_weight=balanced, max_iter=200, penalty=l1, solver=saga; total time=   2.3s\n",
      "[CV] END C=1, class_weight=balanced, max_iter=500, penalty=l2, solver=liblinear; total time=   0.1s\n",
      "[CV] END C=1, class_weight=balanced, max_iter=500, penalty=l2, solver=liblinear; total time=   0.0s\n",
      "[CV] END C=1, class_weight=balanced, max_iter=500, penalty=l2, solver=liblinear; total time=   0.0s\n",
      "[CV] END C=1, class_weight=balanced, max_iter=500, penalty=l2, solver=liblinear; total time=   0.0s\n",
      "[CV] END C=1, class_weight=balanced, max_iter=500, penalty=l2, solver=liblinear; total time=   0.0s\n"
     ]
    },
    {
     "name": "stderr",
     "output_type": "stream",
     "text": [
      "C:\\Users\\myousaf23\\anaconda3\\Lib\\site-packages\\sklearn\\linear_model\\_sag.py:349: ConvergenceWarning: The max_iter was reached which means the coef_ did not converge\n",
      "  warnings.warn(\n"
     ]
    },
    {
     "name": "stdout",
     "output_type": "stream",
     "text": [
      "[CV] END C=1, class_weight=balanced, max_iter=500, penalty=l2, solver=saga; total time=   4.5s\n",
      "[CV] END C=1, class_weight=balanced, max_iter=500, penalty=l2, solver=saga; total time=   3.3s\n",
      "[CV] END C=1, class_weight=balanced, max_iter=500, penalty=l2, solver=saga; total time=   4.0s\n",
      "[CV] END C=1, class_weight=balanced, max_iter=500, penalty=l2, solver=saga; total time=   3.5s\n",
      "[CV] END C=1, class_weight=balanced, max_iter=500, penalty=l2, solver=saga; total time=   3.8s\n",
      "[CV] END C=1, class_weight=balanced, max_iter=500, penalty=l1, solver=liblinear; total time=   0.0s\n",
      "[CV] END C=1, class_weight=balanced, max_iter=500, penalty=l1, solver=liblinear; total time=   0.0s\n",
      "[CV] END C=1, class_weight=balanced, max_iter=500, penalty=l1, solver=liblinear; total time=   0.0s\n",
      "[CV] END C=1, class_weight=balanced, max_iter=500, penalty=l1, solver=liblinear; total time=   0.0s\n",
      "[CV] END C=1, class_weight=balanced, max_iter=500, penalty=l1, solver=liblinear; total time=   0.0s\n"
     ]
    },
    {
     "name": "stderr",
     "output_type": "stream",
     "text": [
      "C:\\Users\\myousaf23\\anaconda3\\Lib\\site-packages\\sklearn\\linear_model\\_sag.py:349: ConvergenceWarning: The max_iter was reached which means the coef_ did not converge\n",
      "  warnings.warn(\n"
     ]
    },
    {
     "name": "stdout",
     "output_type": "stream",
     "text": [
      "[CV] END C=1, class_weight=balanced, max_iter=500, penalty=l1, solver=saga; total time=   5.7s\n"
     ]
    },
    {
     "name": "stderr",
     "output_type": "stream",
     "text": [
      "C:\\Users\\myousaf23\\anaconda3\\Lib\\site-packages\\sklearn\\linear_model\\_sag.py:349: ConvergenceWarning: The max_iter was reached which means the coef_ did not converge\n",
      "  warnings.warn(\n"
     ]
    },
    {
     "name": "stdout",
     "output_type": "stream",
     "text": [
      "[CV] END C=1, class_weight=balanced, max_iter=500, penalty=l1, solver=saga; total time=   5.7s\n"
     ]
    },
    {
     "name": "stderr",
     "output_type": "stream",
     "text": [
      "C:\\Users\\myousaf23\\anaconda3\\Lib\\site-packages\\sklearn\\linear_model\\_sag.py:349: ConvergenceWarning: The max_iter was reached which means the coef_ did not converge\n",
      "  warnings.warn(\n"
     ]
    },
    {
     "name": "stdout",
     "output_type": "stream",
     "text": [
      "[CV] END C=1, class_weight=balanced, max_iter=500, penalty=l1, solver=saga; total time=   5.9s\n"
     ]
    },
    {
     "name": "stderr",
     "output_type": "stream",
     "text": [
      "C:\\Users\\myousaf23\\anaconda3\\Lib\\site-packages\\sklearn\\linear_model\\_sag.py:349: ConvergenceWarning: The max_iter was reached which means the coef_ did not converge\n",
      "  warnings.warn(\n"
     ]
    },
    {
     "name": "stdout",
     "output_type": "stream",
     "text": [
      "[CV] END C=1, class_weight=balanced, max_iter=500, penalty=l1, solver=saga; total time=   5.9s\n"
     ]
    },
    {
     "name": "stderr",
     "output_type": "stream",
     "text": [
      "C:\\Users\\myousaf23\\anaconda3\\Lib\\site-packages\\sklearn\\linear_model\\_sag.py:349: ConvergenceWarning: The max_iter was reached which means the coef_ did not converge\n",
      "  warnings.warn(\n"
     ]
    },
    {
     "name": "stdout",
     "output_type": "stream",
     "text": [
      "[CV] END C=1, class_weight=balanced, max_iter=500, penalty=l1, solver=saga; total time=   5.9s\n",
      "[CV] END C=1, class_weight=balanced, max_iter=700, penalty=l2, solver=liblinear; total time=   0.0s\n",
      "[CV] END C=1, class_weight=balanced, max_iter=700, penalty=l2, solver=liblinear; total time=   0.1s\n",
      "[CV] END C=1, class_weight=balanced, max_iter=700, penalty=l2, solver=liblinear; total time=   0.1s\n",
      "[CV] END C=1, class_weight=balanced, max_iter=700, penalty=l2, solver=liblinear; total time=   0.1s\n",
      "[CV] END C=1, class_weight=balanced, max_iter=700, penalty=l2, solver=liblinear; total time=   0.1s\n",
      "[CV] END C=1, class_weight=balanced, max_iter=700, penalty=l2, solver=saga; total time=   5.9s\n",
      "[CV] END C=1, class_weight=balanced, max_iter=700, penalty=l2, solver=saga; total time=   3.3s\n",
      "[CV] END C=1, class_weight=balanced, max_iter=700, penalty=l2, solver=saga; total time=   4.0s\n",
      "[CV] END C=1, class_weight=balanced, max_iter=700, penalty=l2, solver=saga; total time=   3.6s\n",
      "[CV] END C=1, class_weight=balanced, max_iter=700, penalty=l2, solver=saga; total time=   3.9s\n",
      "[CV] END C=1, class_weight=balanced, max_iter=700, penalty=l1, solver=liblinear; total time=   0.0s\n",
      "[CV] END C=1, class_weight=balanced, max_iter=700, penalty=l1, solver=liblinear; total time=   0.0s\n",
      "[CV] END C=1, class_weight=balanced, max_iter=700, penalty=l1, solver=liblinear; total time=   0.0s\n",
      "[CV] END C=1, class_weight=balanced, max_iter=700, penalty=l1, solver=liblinear; total time=   0.0s\n",
      "[CV] END C=1, class_weight=balanced, max_iter=700, penalty=l1, solver=liblinear; total time=   0.0s\n"
     ]
    },
    {
     "name": "stderr",
     "output_type": "stream",
     "text": [
      "C:\\Users\\myousaf23\\anaconda3\\Lib\\site-packages\\sklearn\\linear_model\\_sag.py:349: ConvergenceWarning: The max_iter was reached which means the coef_ did not converge\n",
      "  warnings.warn(\n"
     ]
    },
    {
     "name": "stdout",
     "output_type": "stream",
     "text": [
      "[CV] END C=1, class_weight=balanced, max_iter=700, penalty=l1, solver=saga; total time=   8.2s\n"
     ]
    },
    {
     "name": "stderr",
     "output_type": "stream",
     "text": [
      "C:\\Users\\myousaf23\\anaconda3\\Lib\\site-packages\\sklearn\\linear_model\\_sag.py:349: ConvergenceWarning: The max_iter was reached which means the coef_ did not converge\n",
      "  warnings.warn(\n"
     ]
    },
    {
     "name": "stdout",
     "output_type": "stream",
     "text": [
      "[CV] END C=1, class_weight=balanced, max_iter=700, penalty=l1, solver=saga; total time=   8.2s\n"
     ]
    },
    {
     "name": "stderr",
     "output_type": "stream",
     "text": [
      "C:\\Users\\myousaf23\\anaconda3\\Lib\\site-packages\\sklearn\\linear_model\\_sag.py:349: ConvergenceWarning: The max_iter was reached which means the coef_ did not converge\n",
      "  warnings.warn(\n"
     ]
    },
    {
     "name": "stdout",
     "output_type": "stream",
     "text": [
      "[CV] END C=1, class_weight=balanced, max_iter=700, penalty=l1, solver=saga; total time=   8.4s\n"
     ]
    },
    {
     "name": "stderr",
     "output_type": "stream",
     "text": [
      "C:\\Users\\myousaf23\\anaconda3\\Lib\\site-packages\\sklearn\\linear_model\\_sag.py:349: ConvergenceWarning: The max_iter was reached which means the coef_ did not converge\n",
      "  warnings.warn(\n"
     ]
    },
    {
     "name": "stdout",
     "output_type": "stream",
     "text": [
      "[CV] END C=1, class_weight=balanced, max_iter=700, penalty=l1, solver=saga; total time=   8.4s\n"
     ]
    },
    {
     "name": "stderr",
     "output_type": "stream",
     "text": [
      "C:\\Users\\myousaf23\\anaconda3\\Lib\\site-packages\\sklearn\\linear_model\\_sag.py:349: ConvergenceWarning: The max_iter was reached which means the coef_ did not converge\n",
      "  warnings.warn(\n"
     ]
    },
    {
     "name": "stdout",
     "output_type": "stream",
     "text": [
      "[CV] END C=1, class_weight=balanced, max_iter=700, penalty=l1, solver=saga; total time=   8.2s\n",
      "[CV] END C=1, class_weight=balanced, max_iter=1000, penalty=l2, solver=liblinear; total time=   0.1s\n",
      "[CV] END C=1, class_weight=balanced, max_iter=1000, penalty=l2, solver=liblinear; total time=   0.1s\n",
      "[CV] END C=1, class_weight=balanced, max_iter=1000, penalty=l2, solver=liblinear; total time=   0.1s\n",
      "[CV] END C=1, class_weight=balanced, max_iter=1000, penalty=l2, solver=liblinear; total time=   0.1s\n",
      "[CV] END C=1, class_weight=balanced, max_iter=1000, penalty=l2, solver=liblinear; total time=   0.1s\n",
      "[CV] END C=1, class_weight=balanced, max_iter=1000, penalty=l2, solver=saga; total time=   6.1s\n",
      "[CV] END C=1, class_weight=balanced, max_iter=1000, penalty=l2, solver=saga; total time=   3.4s\n",
      "[CV] END C=1, class_weight=balanced, max_iter=1000, penalty=l2, solver=saga; total time=   4.2s\n",
      "[CV] END C=1, class_weight=balanced, max_iter=1000, penalty=l2, solver=saga; total time=   3.4s\n",
      "[CV] END C=1, class_weight=balanced, max_iter=1000, penalty=l2, solver=saga; total time=   4.0s\n",
      "[CV] END C=1, class_weight=balanced, max_iter=1000, penalty=l1, solver=liblinear; total time=   0.0s\n",
      "[CV] END C=1, class_weight=balanced, max_iter=1000, penalty=l1, solver=liblinear; total time=   0.1s\n",
      "[CV] END C=1, class_weight=balanced, max_iter=1000, penalty=l1, solver=liblinear; total time=   0.0s\n",
      "[CV] END C=1, class_weight=balanced, max_iter=1000, penalty=l1, solver=liblinear; total time=   0.0s\n",
      "[CV] END C=1, class_weight=balanced, max_iter=1000, penalty=l1, solver=liblinear; total time=   0.1s\n"
     ]
    },
    {
     "name": "stderr",
     "output_type": "stream",
     "text": [
      "C:\\Users\\myousaf23\\anaconda3\\Lib\\site-packages\\sklearn\\linear_model\\_sag.py:349: ConvergenceWarning: The max_iter was reached which means the coef_ did not converge\n",
      "  warnings.warn(\n"
     ]
    },
    {
     "name": "stdout",
     "output_type": "stream",
     "text": [
      "[CV] END C=1, class_weight=balanced, max_iter=1000, penalty=l1, solver=saga; total time=  12.4s\n",
      "[CV] END C=1, class_weight=balanced, max_iter=1000, penalty=l1, solver=saga; total time=  11.9s\n"
     ]
    },
    {
     "name": "stderr",
     "output_type": "stream",
     "text": [
      "C:\\Users\\myousaf23\\anaconda3\\Lib\\site-packages\\sklearn\\linear_model\\_sag.py:349: ConvergenceWarning: The max_iter was reached which means the coef_ did not converge\n",
      "  warnings.warn(\n"
     ]
    },
    {
     "name": "stdout",
     "output_type": "stream",
     "text": [
      "[CV] END C=1, class_weight=balanced, max_iter=1000, penalty=l1, solver=saga; total time=  12.1s\n"
     ]
    },
    {
     "name": "stderr",
     "output_type": "stream",
     "text": [
      "C:\\Users\\myousaf23\\anaconda3\\Lib\\site-packages\\sklearn\\linear_model\\_sag.py:349: ConvergenceWarning: The max_iter was reached which means the coef_ did not converge\n",
      "  warnings.warn(\n"
     ]
    },
    {
     "name": "stdout",
     "output_type": "stream",
     "text": [
      "[CV] END C=1, class_weight=balanced, max_iter=1000, penalty=l1, solver=saga; total time=  12.1s\n"
     ]
    },
    {
     "name": "stderr",
     "output_type": "stream",
     "text": [
      "C:\\Users\\myousaf23\\anaconda3\\Lib\\site-packages\\sklearn\\linear_model\\_sag.py:349: ConvergenceWarning: The max_iter was reached which means the coef_ did not converge\n",
      "  warnings.warn(\n"
     ]
    },
    {
     "name": "stdout",
     "output_type": "stream",
     "text": [
      "[CV] END C=1, class_weight=balanced, max_iter=1000, penalty=l1, solver=saga; total time=  11.9s\n",
      "[CV] END C=10, class_weight=None, max_iter=100, penalty=l2, solver=liblinear; total time=   0.2s\n",
      "[CV] END C=10, class_weight=None, max_iter=100, penalty=l2, solver=liblinear; total time=   0.3s\n",
      "[CV] END C=10, class_weight=None, max_iter=100, penalty=l2, solver=liblinear; total time=   0.2s\n",
      "[CV] END C=10, class_weight=None, max_iter=100, penalty=l2, solver=liblinear; total time=   0.2s\n",
      "[CV] END C=10, class_weight=None, max_iter=100, penalty=l2, solver=liblinear; total time=   0.2s\n"
     ]
    },
    {
     "name": "stderr",
     "output_type": "stream",
     "text": [
      "C:\\Users\\myousaf23\\anaconda3\\Lib\\site-packages\\sklearn\\linear_model\\_sag.py:349: ConvergenceWarning: The max_iter was reached which means the coef_ did not converge\n",
      "  warnings.warn(\n"
     ]
    },
    {
     "name": "stdout",
     "output_type": "stream",
     "text": [
      "[CV] END C=10, class_weight=None, max_iter=100, penalty=l2, solver=saga; total time=   0.9s\n"
     ]
    },
    {
     "name": "stderr",
     "output_type": "stream",
     "text": [
      "C:\\Users\\myousaf23\\anaconda3\\Lib\\site-packages\\sklearn\\linear_model\\_sag.py:349: ConvergenceWarning: The max_iter was reached which means the coef_ did not converge\n",
      "  warnings.warn(\n"
     ]
    },
    {
     "name": "stdout",
     "output_type": "stream",
     "text": [
      "[CV] END C=10, class_weight=None, max_iter=100, penalty=l2, solver=saga; total time=   0.8s\n"
     ]
    },
    {
     "name": "stderr",
     "output_type": "stream",
     "text": [
      "C:\\Users\\myousaf23\\anaconda3\\Lib\\site-packages\\sklearn\\linear_model\\_sag.py:349: ConvergenceWarning: The max_iter was reached which means the coef_ did not converge\n",
      "  warnings.warn(\n"
     ]
    },
    {
     "name": "stdout",
     "output_type": "stream",
     "text": [
      "[CV] END C=10, class_weight=None, max_iter=100, penalty=l2, solver=saga; total time=   0.8s\n"
     ]
    },
    {
     "name": "stderr",
     "output_type": "stream",
     "text": [
      "C:\\Users\\myousaf23\\anaconda3\\Lib\\site-packages\\sklearn\\linear_model\\_sag.py:349: ConvergenceWarning: The max_iter was reached which means the coef_ did not converge\n",
      "  warnings.warn(\n"
     ]
    },
    {
     "name": "stdout",
     "output_type": "stream",
     "text": [
      "[CV] END C=10, class_weight=None, max_iter=100, penalty=l2, solver=saga; total time=   0.8s\n"
     ]
    },
    {
     "name": "stderr",
     "output_type": "stream",
     "text": [
      "C:\\Users\\myousaf23\\anaconda3\\Lib\\site-packages\\sklearn\\linear_model\\_sag.py:349: ConvergenceWarning: The max_iter was reached which means the coef_ did not converge\n",
      "  warnings.warn(\n"
     ]
    },
    {
     "name": "stdout",
     "output_type": "stream",
     "text": [
      "[CV] END C=10, class_weight=None, max_iter=100, penalty=l2, solver=saga; total time=   0.9s\n",
      "[CV] END C=10, class_weight=None, max_iter=100, penalty=l1, solver=liblinear; total time=   0.8s\n",
      "[CV] END C=10, class_weight=None, max_iter=100, penalty=l1, solver=liblinear; total time=   1.7s\n",
      "[CV] END C=10, class_weight=None, max_iter=100, penalty=l1, solver=liblinear; total time=   1.1s\n",
      "[CV] END C=10, class_weight=None, max_iter=100, penalty=l1, solver=liblinear; total time=   1.2s\n",
      "[CV] END C=10, class_weight=None, max_iter=100, penalty=l1, solver=liblinear; total time=   1.1s\n"
     ]
    },
    {
     "name": "stderr",
     "output_type": "stream",
     "text": [
      "C:\\Users\\myousaf23\\anaconda3\\Lib\\site-packages\\sklearn\\linear_model\\_sag.py:349: ConvergenceWarning: The max_iter was reached which means the coef_ did not converge\n",
      "  warnings.warn(\n"
     ]
    },
    {
     "name": "stdout",
     "output_type": "stream",
     "text": [
      "[CV] END C=10, class_weight=None, max_iter=100, penalty=l1, solver=saga; total time=   1.4s\n"
     ]
    },
    {
     "name": "stderr",
     "output_type": "stream",
     "text": [
      "C:\\Users\\myousaf23\\anaconda3\\Lib\\site-packages\\sklearn\\linear_model\\_sag.py:349: ConvergenceWarning: The max_iter was reached which means the coef_ did not converge\n",
      "  warnings.warn(\n"
     ]
    },
    {
     "name": "stdout",
     "output_type": "stream",
     "text": [
      "[CV] END C=10, class_weight=None, max_iter=100, penalty=l1, solver=saga; total time=   1.4s\n"
     ]
    },
    {
     "name": "stderr",
     "output_type": "stream",
     "text": [
      "C:\\Users\\myousaf23\\anaconda3\\Lib\\site-packages\\sklearn\\linear_model\\_sag.py:349: ConvergenceWarning: The max_iter was reached which means the coef_ did not converge\n",
      "  warnings.warn(\n"
     ]
    },
    {
     "name": "stdout",
     "output_type": "stream",
     "text": [
      "[CV] END C=10, class_weight=None, max_iter=100, penalty=l1, solver=saga; total time=   1.4s\n"
     ]
    },
    {
     "name": "stderr",
     "output_type": "stream",
     "text": [
      "C:\\Users\\myousaf23\\anaconda3\\Lib\\site-packages\\sklearn\\linear_model\\_sag.py:349: ConvergenceWarning: The max_iter was reached which means the coef_ did not converge\n",
      "  warnings.warn(\n"
     ]
    },
    {
     "name": "stdout",
     "output_type": "stream",
     "text": [
      "[CV] END C=10, class_weight=None, max_iter=100, penalty=l1, solver=saga; total time=   1.4s\n"
     ]
    },
    {
     "name": "stderr",
     "output_type": "stream",
     "text": [
      "C:\\Users\\myousaf23\\anaconda3\\Lib\\site-packages\\sklearn\\linear_model\\_sag.py:349: ConvergenceWarning: The max_iter was reached which means the coef_ did not converge\n",
      "  warnings.warn(\n"
     ]
    },
    {
     "name": "stdout",
     "output_type": "stream",
     "text": [
      "[CV] END C=10, class_weight=None, max_iter=100, penalty=l1, solver=saga; total time=   1.4s\n",
      "[CV] END C=10, class_weight=None, max_iter=200, penalty=l2, solver=liblinear; total time=   0.3s\n",
      "[CV] END C=10, class_weight=None, max_iter=200, penalty=l2, solver=liblinear; total time=   0.2s\n",
      "[CV] END C=10, class_weight=None, max_iter=200, penalty=l2, solver=liblinear; total time=   0.2s\n",
      "[CV] END C=10, class_weight=None, max_iter=200, penalty=l2, solver=liblinear; total time=   0.2s\n",
      "[CV] END C=10, class_weight=None, max_iter=200, penalty=l2, solver=liblinear; total time=   0.2s\n"
     ]
    },
    {
     "name": "stderr",
     "output_type": "stream",
     "text": [
      "C:\\Users\\myousaf23\\anaconda3\\Lib\\site-packages\\sklearn\\linear_model\\_sag.py:349: ConvergenceWarning: The max_iter was reached which means the coef_ did not converge\n",
      "  warnings.warn(\n"
     ]
    },
    {
     "name": "stdout",
     "output_type": "stream",
     "text": [
      "[CV] END C=10, class_weight=None, max_iter=200, penalty=l2, solver=saga; total time=   1.8s\n"
     ]
    },
    {
     "name": "stderr",
     "output_type": "stream",
     "text": [
      "C:\\Users\\myousaf23\\anaconda3\\Lib\\site-packages\\sklearn\\linear_model\\_sag.py:349: ConvergenceWarning: The max_iter was reached which means the coef_ did not converge\n",
      "  warnings.warn(\n"
     ]
    },
    {
     "name": "stdout",
     "output_type": "stream",
     "text": [
      "[CV] END C=10, class_weight=None, max_iter=200, penalty=l2, solver=saga; total time=   1.8s\n"
     ]
    },
    {
     "name": "stderr",
     "output_type": "stream",
     "text": [
      "C:\\Users\\myousaf23\\anaconda3\\Lib\\site-packages\\sklearn\\linear_model\\_sag.py:349: ConvergenceWarning: The max_iter was reached which means the coef_ did not converge\n",
      "  warnings.warn(\n"
     ]
    },
    {
     "name": "stdout",
     "output_type": "stream",
     "text": [
      "[CV] END C=10, class_weight=None, max_iter=200, penalty=l2, solver=saga; total time=   1.8s\n"
     ]
    },
    {
     "name": "stderr",
     "output_type": "stream",
     "text": [
      "C:\\Users\\myousaf23\\anaconda3\\Lib\\site-packages\\sklearn\\linear_model\\_sag.py:349: ConvergenceWarning: The max_iter was reached which means the coef_ did not converge\n",
      "  warnings.warn(\n"
     ]
    },
    {
     "name": "stdout",
     "output_type": "stream",
     "text": [
      "[CV] END C=10, class_weight=None, max_iter=200, penalty=l2, solver=saga; total time=   1.9s\n"
     ]
    },
    {
     "name": "stderr",
     "output_type": "stream",
     "text": [
      "C:\\Users\\myousaf23\\anaconda3\\Lib\\site-packages\\sklearn\\linear_model\\_sag.py:349: ConvergenceWarning: The max_iter was reached which means the coef_ did not converge\n",
      "  warnings.warn(\n"
     ]
    },
    {
     "name": "stdout",
     "output_type": "stream",
     "text": [
      "[CV] END C=10, class_weight=None, max_iter=200, penalty=l2, solver=saga; total time=   1.9s\n",
      "[CV] END C=10, class_weight=None, max_iter=200, penalty=l1, solver=liblinear; total time=   1.0s\n",
      "[CV] END C=10, class_weight=None, max_iter=200, penalty=l1, solver=liblinear; total time=   1.8s\n",
      "[CV] END C=10, class_weight=None, max_iter=200, penalty=l1, solver=liblinear; total time=   1.1s\n",
      "[CV] END C=10, class_weight=None, max_iter=200, penalty=l1, solver=liblinear; total time=   1.1s\n",
      "[CV] END C=10, class_weight=None, max_iter=200, penalty=l1, solver=liblinear; total time=   1.0s\n"
     ]
    },
    {
     "name": "stderr",
     "output_type": "stream",
     "text": [
      "C:\\Users\\myousaf23\\anaconda3\\Lib\\site-packages\\sklearn\\linear_model\\_sag.py:349: ConvergenceWarning: The max_iter was reached which means the coef_ did not converge\n",
      "  warnings.warn(\n"
     ]
    },
    {
     "name": "stdout",
     "output_type": "stream",
     "text": [
      "[CV] END C=10, class_weight=None, max_iter=200, penalty=l1, solver=saga; total time=   2.7s\n"
     ]
    },
    {
     "name": "stderr",
     "output_type": "stream",
     "text": [
      "C:\\Users\\myousaf23\\anaconda3\\Lib\\site-packages\\sklearn\\linear_model\\_sag.py:349: ConvergenceWarning: The max_iter was reached which means the coef_ did not converge\n",
      "  warnings.warn(\n"
     ]
    },
    {
     "name": "stdout",
     "output_type": "stream",
     "text": [
      "[CV] END C=10, class_weight=None, max_iter=200, penalty=l1, solver=saga; total time=   2.8s\n"
     ]
    },
    {
     "name": "stderr",
     "output_type": "stream",
     "text": [
      "C:\\Users\\myousaf23\\anaconda3\\Lib\\site-packages\\sklearn\\linear_model\\_sag.py:349: ConvergenceWarning: The max_iter was reached which means the coef_ did not converge\n",
      "  warnings.warn(\n"
     ]
    },
    {
     "name": "stdout",
     "output_type": "stream",
     "text": [
      "[CV] END C=10, class_weight=None, max_iter=200, penalty=l1, solver=saga; total time=   2.7s\n"
     ]
    },
    {
     "name": "stderr",
     "output_type": "stream",
     "text": [
      "C:\\Users\\myousaf23\\anaconda3\\Lib\\site-packages\\sklearn\\linear_model\\_sag.py:349: ConvergenceWarning: The max_iter was reached which means the coef_ did not converge\n",
      "  warnings.warn(\n"
     ]
    },
    {
     "name": "stdout",
     "output_type": "stream",
     "text": [
      "[CV] END C=10, class_weight=None, max_iter=200, penalty=l1, solver=saga; total time=   2.6s\n"
     ]
    },
    {
     "name": "stderr",
     "output_type": "stream",
     "text": [
      "C:\\Users\\myousaf23\\anaconda3\\Lib\\site-packages\\sklearn\\linear_model\\_sag.py:349: ConvergenceWarning: The max_iter was reached which means the coef_ did not converge\n",
      "  warnings.warn(\n"
     ]
    },
    {
     "name": "stdout",
     "output_type": "stream",
     "text": [
      "[CV] END C=10, class_weight=None, max_iter=200, penalty=l1, solver=saga; total time=   2.6s\n",
      "[CV] END C=10, class_weight=None, max_iter=500, penalty=l2, solver=liblinear; total time=   0.2s\n",
      "[CV] END C=10, class_weight=None, max_iter=500, penalty=l2, solver=liblinear; total time=   0.2s\n",
      "[CV] END C=10, class_weight=None, max_iter=500, penalty=l2, solver=liblinear; total time=   0.2s\n",
      "[CV] END C=10, class_weight=None, max_iter=500, penalty=l2, solver=liblinear; total time=   0.2s\n",
      "[CV] END C=10, class_weight=None, max_iter=500, penalty=l2, solver=liblinear; total time=   0.2s\n"
     ]
    },
    {
     "name": "stderr",
     "output_type": "stream",
     "text": [
      "C:\\Users\\myousaf23\\anaconda3\\Lib\\site-packages\\sklearn\\linear_model\\_sag.py:349: ConvergenceWarning: The max_iter was reached which means the coef_ did not converge\n",
      "  warnings.warn(\n"
     ]
    },
    {
     "name": "stdout",
     "output_type": "stream",
     "text": [
      "[CV] END C=10, class_weight=None, max_iter=500, penalty=l2, solver=saga; total time=   4.3s\n"
     ]
    },
    {
     "name": "stderr",
     "output_type": "stream",
     "text": [
      "C:\\Users\\myousaf23\\anaconda3\\Lib\\site-packages\\sklearn\\linear_model\\_sag.py:349: ConvergenceWarning: The max_iter was reached which means the coef_ did not converge\n",
      "  warnings.warn(\n"
     ]
    },
    {
     "name": "stdout",
     "output_type": "stream",
     "text": [
      "[CV] END C=10, class_weight=None, max_iter=500, penalty=l2, solver=saga; total time=   4.4s\n"
     ]
    },
    {
     "name": "stderr",
     "output_type": "stream",
     "text": [
      "C:\\Users\\myousaf23\\anaconda3\\Lib\\site-packages\\sklearn\\linear_model\\_sag.py:349: ConvergenceWarning: The max_iter was reached which means the coef_ did not converge\n",
      "  warnings.warn(\n"
     ]
    },
    {
     "name": "stdout",
     "output_type": "stream",
     "text": [
      "[CV] END C=10, class_weight=None, max_iter=500, penalty=l2, solver=saga; total time=   4.6s\n"
     ]
    },
    {
     "name": "stderr",
     "output_type": "stream",
     "text": [
      "C:\\Users\\myousaf23\\anaconda3\\Lib\\site-packages\\sklearn\\linear_model\\_sag.py:349: ConvergenceWarning: The max_iter was reached which means the coef_ did not converge\n",
      "  warnings.warn(\n"
     ]
    },
    {
     "name": "stdout",
     "output_type": "stream",
     "text": [
      "[CV] END C=10, class_weight=None, max_iter=500, penalty=l2, solver=saga; total time=   4.3s\n"
     ]
    },
    {
     "name": "stderr",
     "output_type": "stream",
     "text": [
      "C:\\Users\\myousaf23\\anaconda3\\Lib\\site-packages\\sklearn\\linear_model\\_sag.py:349: ConvergenceWarning: The max_iter was reached which means the coef_ did not converge\n",
      "  warnings.warn(\n"
     ]
    },
    {
     "name": "stdout",
     "output_type": "stream",
     "text": [
      "[CV] END C=10, class_weight=None, max_iter=500, penalty=l2, solver=saga; total time=   4.6s\n",
      "[CV] END C=10, class_weight=None, max_iter=500, penalty=l1, solver=liblinear; total time=   0.8s\n",
      "[CV] END C=10, class_weight=None, max_iter=500, penalty=l1, solver=liblinear; total time=   1.6s\n",
      "[CV] END C=10, class_weight=None, max_iter=500, penalty=l1, solver=liblinear; total time=   1.1s\n",
      "[CV] END C=10, class_weight=None, max_iter=500, penalty=l1, solver=liblinear; total time=   1.1s\n",
      "[CV] END C=10, class_weight=None, max_iter=500, penalty=l1, solver=liblinear; total time=   1.0s\n"
     ]
    },
    {
     "name": "stderr",
     "output_type": "stream",
     "text": [
      "C:\\Users\\myousaf23\\anaconda3\\Lib\\site-packages\\sklearn\\linear_model\\_sag.py:349: ConvergenceWarning: The max_iter was reached which means the coef_ did not converge\n",
      "  warnings.warn(\n"
     ]
    },
    {
     "name": "stdout",
     "output_type": "stream",
     "text": [
      "[CV] END C=10, class_weight=None, max_iter=500, penalty=l1, solver=saga; total time=   6.2s\n"
     ]
    },
    {
     "name": "stderr",
     "output_type": "stream",
     "text": [
      "C:\\Users\\myousaf23\\anaconda3\\Lib\\site-packages\\sklearn\\linear_model\\_sag.py:349: ConvergenceWarning: The max_iter was reached which means the coef_ did not converge\n",
      "  warnings.warn(\n"
     ]
    },
    {
     "name": "stdout",
     "output_type": "stream",
     "text": [
      "[CV] END C=10, class_weight=None, max_iter=500, penalty=l1, solver=saga; total time=   6.7s\n"
     ]
    },
    {
     "name": "stderr",
     "output_type": "stream",
     "text": [
      "C:\\Users\\myousaf23\\anaconda3\\Lib\\site-packages\\sklearn\\linear_model\\_sag.py:349: ConvergenceWarning: The max_iter was reached which means the coef_ did not converge\n",
      "  warnings.warn(\n"
     ]
    },
    {
     "name": "stdout",
     "output_type": "stream",
     "text": [
      "[CV] END C=10, class_weight=None, max_iter=500, penalty=l1, solver=saga; total time=   6.4s\n"
     ]
    },
    {
     "name": "stderr",
     "output_type": "stream",
     "text": [
      "C:\\Users\\myousaf23\\anaconda3\\Lib\\site-packages\\sklearn\\linear_model\\_sag.py:349: ConvergenceWarning: The max_iter was reached which means the coef_ did not converge\n",
      "  warnings.warn(\n"
     ]
    },
    {
     "name": "stdout",
     "output_type": "stream",
     "text": [
      "[CV] END C=10, class_weight=None, max_iter=500, penalty=l1, solver=saga; total time=   6.6s\n"
     ]
    },
    {
     "name": "stderr",
     "output_type": "stream",
     "text": [
      "C:\\Users\\myousaf23\\anaconda3\\Lib\\site-packages\\sklearn\\linear_model\\_sag.py:349: ConvergenceWarning: The max_iter was reached which means the coef_ did not converge\n",
      "  warnings.warn(\n"
     ]
    },
    {
     "name": "stdout",
     "output_type": "stream",
     "text": [
      "[CV] END C=10, class_weight=None, max_iter=500, penalty=l1, solver=saga; total time=   6.4s\n",
      "[CV] END C=10, class_weight=None, max_iter=700, penalty=l2, solver=liblinear; total time=   0.3s\n",
      "[CV] END C=10, class_weight=None, max_iter=700, penalty=l2, solver=liblinear; total time=   0.2s\n",
      "[CV] END C=10, class_weight=None, max_iter=700, penalty=l2, solver=liblinear; total time=   0.2s\n",
      "[CV] END C=10, class_weight=None, max_iter=700, penalty=l2, solver=liblinear; total time=   0.2s\n",
      "[CV] END C=10, class_weight=None, max_iter=700, penalty=l2, solver=liblinear; total time=   0.2s\n"
     ]
    },
    {
     "name": "stderr",
     "output_type": "stream",
     "text": [
      "C:\\Users\\myousaf23\\anaconda3\\Lib\\site-packages\\sklearn\\linear_model\\_sag.py:349: ConvergenceWarning: The max_iter was reached which means the coef_ did not converge\n",
      "  warnings.warn(\n"
     ]
    },
    {
     "name": "stdout",
     "output_type": "stream",
     "text": [
      "[CV] END C=10, class_weight=None, max_iter=700, penalty=l2, solver=saga; total time=   6.7s\n",
      "[CV] END C=10, class_weight=None, max_iter=700, penalty=l2, solver=saga; total time=   5.6s\n",
      "[CV] END C=10, class_weight=None, max_iter=700, penalty=l2, solver=saga; total time=   5.4s\n",
      "[CV] END C=10, class_weight=None, max_iter=700, penalty=l2, solver=saga; total time=   5.5s\n",
      "[CV] END C=10, class_weight=None, max_iter=700, penalty=l2, solver=saga; total time=   5.4s\n",
      "[CV] END C=10, class_weight=None, max_iter=700, penalty=l1, solver=liblinear; total time=   0.9s\n",
      "[CV] END C=10, class_weight=None, max_iter=700, penalty=l1, solver=liblinear; total time=   1.7s\n",
      "[CV] END C=10, class_weight=None, max_iter=700, penalty=l1, solver=liblinear; total time=   1.1s\n",
      "[CV] END C=10, class_weight=None, max_iter=700, penalty=l1, solver=liblinear; total time=   1.2s\n",
      "[CV] END C=10, class_weight=None, max_iter=700, penalty=l1, solver=liblinear; total time=   1.0s\n"
     ]
    },
    {
     "name": "stderr",
     "output_type": "stream",
     "text": [
      "C:\\Users\\myousaf23\\anaconda3\\Lib\\site-packages\\sklearn\\linear_model\\_sag.py:349: ConvergenceWarning: The max_iter was reached which means the coef_ did not converge\n",
      "  warnings.warn(\n"
     ]
    },
    {
     "name": "stdout",
     "output_type": "stream",
     "text": [
      "[CV] END C=10, class_weight=None, max_iter=700, penalty=l1, solver=saga; total time=   8.9s\n"
     ]
    },
    {
     "name": "stderr",
     "output_type": "stream",
     "text": [
      "C:\\Users\\myousaf23\\anaconda3\\Lib\\site-packages\\sklearn\\linear_model\\_sag.py:349: ConvergenceWarning: The max_iter was reached which means the coef_ did not converge\n",
      "  warnings.warn(\n"
     ]
    },
    {
     "name": "stdout",
     "output_type": "stream",
     "text": [
      "[CV] END C=10, class_weight=None, max_iter=700, penalty=l1, solver=saga; total time=   9.0s\n"
     ]
    },
    {
     "name": "stderr",
     "output_type": "stream",
     "text": [
      "C:\\Users\\myousaf23\\anaconda3\\Lib\\site-packages\\sklearn\\linear_model\\_sag.py:349: ConvergenceWarning: The max_iter was reached which means the coef_ did not converge\n",
      "  warnings.warn(\n"
     ]
    },
    {
     "name": "stdout",
     "output_type": "stream",
     "text": [
      "[CV] END C=10, class_weight=None, max_iter=700, penalty=l1, solver=saga; total time=   9.0s\n"
     ]
    },
    {
     "name": "stderr",
     "output_type": "stream",
     "text": [
      "C:\\Users\\myousaf23\\anaconda3\\Lib\\site-packages\\sklearn\\linear_model\\_sag.py:349: ConvergenceWarning: The max_iter was reached which means the coef_ did not converge\n",
      "  warnings.warn(\n"
     ]
    },
    {
     "name": "stdout",
     "output_type": "stream",
     "text": [
      "[CV] END C=10, class_weight=None, max_iter=700, penalty=l1, solver=saga; total time=   8.8s\n"
     ]
    },
    {
     "name": "stderr",
     "output_type": "stream",
     "text": [
      "C:\\Users\\myousaf23\\anaconda3\\Lib\\site-packages\\sklearn\\linear_model\\_sag.py:349: ConvergenceWarning: The max_iter was reached which means the coef_ did not converge\n",
      "  warnings.warn(\n"
     ]
    },
    {
     "name": "stdout",
     "output_type": "stream",
     "text": [
      "[CV] END C=10, class_weight=None, max_iter=700, penalty=l1, solver=saga; total time=   9.0s\n",
      "[CV] END C=10, class_weight=None, max_iter=1000, penalty=l2, solver=liblinear; total time=   0.3s\n",
      "[CV] END C=10, class_weight=None, max_iter=1000, penalty=l2, solver=liblinear; total time=   0.2s\n",
      "[CV] END C=10, class_weight=None, max_iter=1000, penalty=l2, solver=liblinear; total time=   0.2s\n",
      "[CV] END C=10, class_weight=None, max_iter=1000, penalty=l2, solver=liblinear; total time=   0.2s\n",
      "[CV] END C=10, class_weight=None, max_iter=1000, penalty=l2, solver=liblinear; total time=   0.2s\n",
      "[CV] END C=10, class_weight=None, max_iter=1000, penalty=l2, solver=saga; total time=   7.8s\n",
      "[CV] END C=10, class_weight=None, max_iter=1000, penalty=l2, solver=saga; total time=   5.4s\n",
      "[CV] END C=10, class_weight=None, max_iter=1000, penalty=l2, solver=saga; total time=   5.5s\n",
      "[CV] END C=10, class_weight=None, max_iter=1000, penalty=l2, solver=saga; total time=   5.4s\n",
      "[CV] END C=10, class_weight=None, max_iter=1000, penalty=l2, solver=saga; total time=   5.4s\n",
      "[CV] END C=10, class_weight=None, max_iter=1000, penalty=l1, solver=liblinear; total time=   0.9s\n",
      "[CV] END C=10, class_weight=None, max_iter=1000, penalty=l1, solver=liblinear; total time=   1.7s\n",
      "[CV] END C=10, class_weight=None, max_iter=1000, penalty=l1, solver=liblinear; total time=   1.2s\n",
      "[CV] END C=10, class_weight=None, max_iter=1000, penalty=l1, solver=liblinear; total time=   1.1s\n",
      "[CV] END C=10, class_weight=None, max_iter=1000, penalty=l1, solver=liblinear; total time=   1.0s\n"
     ]
    },
    {
     "name": "stderr",
     "output_type": "stream",
     "text": [
      "C:\\Users\\myousaf23\\anaconda3\\Lib\\site-packages\\sklearn\\linear_model\\_sag.py:349: ConvergenceWarning: The max_iter was reached which means the coef_ did not converge\n",
      "  warnings.warn(\n"
     ]
    },
    {
     "name": "stdout",
     "output_type": "stream",
     "text": [
      "[CV] END C=10, class_weight=None, max_iter=1000, penalty=l1, solver=saga; total time=  12.4s\n"
     ]
    },
    {
     "name": "stderr",
     "output_type": "stream",
     "text": [
      "C:\\Users\\myousaf23\\anaconda3\\Lib\\site-packages\\sklearn\\linear_model\\_sag.py:349: ConvergenceWarning: The max_iter was reached which means the coef_ did not converge\n",
      "  warnings.warn(\n"
     ]
    },
    {
     "name": "stdout",
     "output_type": "stream",
     "text": [
      "[CV] END C=10, class_weight=None, max_iter=1000, penalty=l1, solver=saga; total time=  13.3s\n"
     ]
    },
    {
     "name": "stderr",
     "output_type": "stream",
     "text": [
      "C:\\Users\\myousaf23\\anaconda3\\Lib\\site-packages\\sklearn\\linear_model\\_sag.py:349: ConvergenceWarning: The max_iter was reached which means the coef_ did not converge\n",
      "  warnings.warn(\n"
     ]
    },
    {
     "name": "stdout",
     "output_type": "stream",
     "text": [
      "[CV] END C=10, class_weight=None, max_iter=1000, penalty=l1, solver=saga; total time=  12.6s\n"
     ]
    },
    {
     "name": "stderr",
     "output_type": "stream",
     "text": [
      "C:\\Users\\myousaf23\\anaconda3\\Lib\\site-packages\\sklearn\\linear_model\\_sag.py:349: ConvergenceWarning: The max_iter was reached which means the coef_ did not converge\n",
      "  warnings.warn(\n"
     ]
    },
    {
     "name": "stdout",
     "output_type": "stream",
     "text": [
      "[CV] END C=10, class_weight=None, max_iter=1000, penalty=l1, solver=saga; total time=  12.8s\n"
     ]
    },
    {
     "name": "stderr",
     "output_type": "stream",
     "text": [
      "C:\\Users\\myousaf23\\anaconda3\\Lib\\site-packages\\sklearn\\linear_model\\_sag.py:349: ConvergenceWarning: The max_iter was reached which means the coef_ did not converge\n",
      "  warnings.warn(\n"
     ]
    },
    {
     "name": "stdout",
     "output_type": "stream",
     "text": [
      "[CV] END C=10, class_weight=None, max_iter=1000, penalty=l1, solver=saga; total time=  13.0s\n",
      "[CV] END C=10, class_weight=balanced, max_iter=100, penalty=l2, solver=liblinear; total time=   0.2s\n",
      "[CV] END C=10, class_weight=balanced, max_iter=100, penalty=l2, solver=liblinear; total time=   0.2s\n",
      "[CV] END C=10, class_weight=balanced, max_iter=100, penalty=l2, solver=liblinear; total time=   0.2s\n",
      "[CV] END C=10, class_weight=balanced, max_iter=100, penalty=l2, solver=liblinear; total time=   0.2s\n",
      "[CV] END C=10, class_weight=balanced, max_iter=100, penalty=l2, solver=liblinear; total time=   0.2s\n"
     ]
    },
    {
     "name": "stderr",
     "output_type": "stream",
     "text": [
      "C:\\Users\\myousaf23\\anaconda3\\Lib\\site-packages\\sklearn\\linear_model\\_sag.py:349: ConvergenceWarning: The max_iter was reached which means the coef_ did not converge\n",
      "  warnings.warn(\n"
     ]
    },
    {
     "name": "stdout",
     "output_type": "stream",
     "text": [
      "[CV] END C=10, class_weight=balanced, max_iter=100, penalty=l2, solver=saga; total time=   0.9s\n"
     ]
    },
    {
     "name": "stderr",
     "output_type": "stream",
     "text": [
      "C:\\Users\\myousaf23\\anaconda3\\Lib\\site-packages\\sklearn\\linear_model\\_sag.py:349: ConvergenceWarning: The max_iter was reached which means the coef_ did not converge\n",
      "  warnings.warn(\n"
     ]
    },
    {
     "name": "stdout",
     "output_type": "stream",
     "text": [
      "[CV] END C=10, class_weight=balanced, max_iter=100, penalty=l2, solver=saga; total time=   0.9s\n"
     ]
    },
    {
     "name": "stderr",
     "output_type": "stream",
     "text": [
      "C:\\Users\\myousaf23\\anaconda3\\Lib\\site-packages\\sklearn\\linear_model\\_sag.py:349: ConvergenceWarning: The max_iter was reached which means the coef_ did not converge\n",
      "  warnings.warn(\n"
     ]
    },
    {
     "name": "stdout",
     "output_type": "stream",
     "text": [
      "[CV] END C=10, class_weight=balanced, max_iter=100, penalty=l2, solver=saga; total time=   0.8s\n"
     ]
    },
    {
     "name": "stderr",
     "output_type": "stream",
     "text": [
      "C:\\Users\\myousaf23\\anaconda3\\Lib\\site-packages\\sklearn\\linear_model\\_sag.py:349: ConvergenceWarning: The max_iter was reached which means the coef_ did not converge\n",
      "  warnings.warn(\n"
     ]
    },
    {
     "name": "stdout",
     "output_type": "stream",
     "text": [
      "[CV] END C=10, class_weight=balanced, max_iter=100, penalty=l2, solver=saga; total time=   0.8s\n"
     ]
    },
    {
     "name": "stderr",
     "output_type": "stream",
     "text": [
      "C:\\Users\\myousaf23\\anaconda3\\Lib\\site-packages\\sklearn\\linear_model\\_sag.py:349: ConvergenceWarning: The max_iter was reached which means the coef_ did not converge\n",
      "  warnings.warn(\n"
     ]
    },
    {
     "name": "stdout",
     "output_type": "stream",
     "text": [
      "[CV] END C=10, class_weight=balanced, max_iter=100, penalty=l2, solver=saga; total time=   0.8s\n",
      "[CV] END C=10, class_weight=balanced, max_iter=100, penalty=l1, solver=liblinear; total time=   0.9s\n",
      "[CV] END C=10, class_weight=balanced, max_iter=100, penalty=l1, solver=liblinear; total time=   1.8s\n",
      "[CV] END C=10, class_weight=balanced, max_iter=100, penalty=l1, solver=liblinear; total time=   1.2s\n",
      "[CV] END C=10, class_weight=balanced, max_iter=100, penalty=l1, solver=liblinear; total time=   1.2s\n",
      "[CV] END C=10, class_weight=balanced, max_iter=100, penalty=l1, solver=liblinear; total time=   1.1s\n"
     ]
    },
    {
     "name": "stderr",
     "output_type": "stream",
     "text": [
      "C:\\Users\\myousaf23\\anaconda3\\Lib\\site-packages\\sklearn\\linear_model\\_sag.py:349: ConvergenceWarning: The max_iter was reached which means the coef_ did not converge\n",
      "  warnings.warn(\n"
     ]
    },
    {
     "name": "stdout",
     "output_type": "stream",
     "text": [
      "[CV] END C=10, class_weight=balanced, max_iter=100, penalty=l1, solver=saga; total time=   1.5s\n"
     ]
    },
    {
     "name": "stderr",
     "output_type": "stream",
     "text": [
      "C:\\Users\\myousaf23\\anaconda3\\Lib\\site-packages\\sklearn\\linear_model\\_sag.py:349: ConvergenceWarning: The max_iter was reached which means the coef_ did not converge\n",
      "  warnings.warn(\n"
     ]
    },
    {
     "name": "stdout",
     "output_type": "stream",
     "text": [
      "[CV] END C=10, class_weight=balanced, max_iter=100, penalty=l1, solver=saga; total time=   1.5s\n"
     ]
    },
    {
     "name": "stderr",
     "output_type": "stream",
     "text": [
      "C:\\Users\\myousaf23\\anaconda3\\Lib\\site-packages\\sklearn\\linear_model\\_sag.py:349: ConvergenceWarning: The max_iter was reached which means the coef_ did not converge\n",
      "  warnings.warn(\n"
     ]
    },
    {
     "name": "stdout",
     "output_type": "stream",
     "text": [
      "[CV] END C=10, class_weight=balanced, max_iter=100, penalty=l1, solver=saga; total time=   1.5s\n"
     ]
    },
    {
     "name": "stderr",
     "output_type": "stream",
     "text": [
      "C:\\Users\\myousaf23\\anaconda3\\Lib\\site-packages\\sklearn\\linear_model\\_sag.py:349: ConvergenceWarning: The max_iter was reached which means the coef_ did not converge\n",
      "  warnings.warn(\n"
     ]
    },
    {
     "name": "stdout",
     "output_type": "stream",
     "text": [
      "[CV] END C=10, class_weight=balanced, max_iter=100, penalty=l1, solver=saga; total time=   1.5s\n"
     ]
    },
    {
     "name": "stderr",
     "output_type": "stream",
     "text": [
      "C:\\Users\\myousaf23\\anaconda3\\Lib\\site-packages\\sklearn\\linear_model\\_sag.py:349: ConvergenceWarning: The max_iter was reached which means the coef_ did not converge\n",
      "  warnings.warn(\n"
     ]
    },
    {
     "name": "stdout",
     "output_type": "stream",
     "text": [
      "[CV] END C=10, class_weight=balanced, max_iter=100, penalty=l1, solver=saga; total time=   1.4s\n",
      "[CV] END C=10, class_weight=balanced, max_iter=200, penalty=l2, solver=liblinear; total time=   0.3s\n",
      "[CV] END C=10, class_weight=balanced, max_iter=200, penalty=l2, solver=liblinear; total time=   0.2s\n",
      "[CV] END C=10, class_weight=balanced, max_iter=200, penalty=l2, solver=liblinear; total time=   0.3s\n",
      "[CV] END C=10, class_weight=balanced, max_iter=200, penalty=l2, solver=liblinear; total time=   0.2s\n",
      "[CV] END C=10, class_weight=balanced, max_iter=200, penalty=l2, solver=liblinear; total time=   0.2s\n"
     ]
    },
    {
     "name": "stderr",
     "output_type": "stream",
     "text": [
      "C:\\Users\\myousaf23\\anaconda3\\Lib\\site-packages\\sklearn\\linear_model\\_sag.py:349: ConvergenceWarning: The max_iter was reached which means the coef_ did not converge\n",
      "  warnings.warn(\n"
     ]
    },
    {
     "name": "stdout",
     "output_type": "stream",
     "text": [
      "[CV] END C=10, class_weight=balanced, max_iter=200, penalty=l2, solver=saga; total time=   1.7s\n"
     ]
    },
    {
     "name": "stderr",
     "output_type": "stream",
     "text": [
      "C:\\Users\\myousaf23\\anaconda3\\Lib\\site-packages\\sklearn\\linear_model\\_sag.py:349: ConvergenceWarning: The max_iter was reached which means the coef_ did not converge\n",
      "  warnings.warn(\n"
     ]
    },
    {
     "name": "stdout",
     "output_type": "stream",
     "text": [
      "[CV] END C=10, class_weight=balanced, max_iter=200, penalty=l2, solver=saga; total time=   1.8s\n"
     ]
    },
    {
     "name": "stderr",
     "output_type": "stream",
     "text": [
      "C:\\Users\\myousaf23\\anaconda3\\Lib\\site-packages\\sklearn\\linear_model\\_sag.py:349: ConvergenceWarning: The max_iter was reached which means the coef_ did not converge\n",
      "  warnings.warn(\n"
     ]
    },
    {
     "name": "stdout",
     "output_type": "stream",
     "text": [
      "[CV] END C=10, class_weight=balanced, max_iter=200, penalty=l2, solver=saga; total time=   1.9s\n"
     ]
    },
    {
     "name": "stderr",
     "output_type": "stream",
     "text": [
      "C:\\Users\\myousaf23\\anaconda3\\Lib\\site-packages\\sklearn\\linear_model\\_sag.py:349: ConvergenceWarning: The max_iter was reached which means the coef_ did not converge\n",
      "  warnings.warn(\n"
     ]
    },
    {
     "name": "stdout",
     "output_type": "stream",
     "text": [
      "[CV] END C=10, class_weight=balanced, max_iter=200, penalty=l2, solver=saga; total time=   1.9s\n"
     ]
    },
    {
     "name": "stderr",
     "output_type": "stream",
     "text": [
      "C:\\Users\\myousaf23\\anaconda3\\Lib\\site-packages\\sklearn\\linear_model\\_sag.py:349: ConvergenceWarning: The max_iter was reached which means the coef_ did not converge\n",
      "  warnings.warn(\n"
     ]
    },
    {
     "name": "stdout",
     "output_type": "stream",
     "text": [
      "[CV] END C=10, class_weight=balanced, max_iter=200, penalty=l2, solver=saga; total time=   1.9s\n",
      "[CV] END C=10, class_weight=balanced, max_iter=200, penalty=l1, solver=liblinear; total time=   0.8s\n",
      "[CV] END C=10, class_weight=balanced, max_iter=200, penalty=l1, solver=liblinear; total time=   1.8s\n",
      "[CV] END C=10, class_weight=balanced, max_iter=200, penalty=l1, solver=liblinear; total time=   1.2s\n",
      "[CV] END C=10, class_weight=balanced, max_iter=200, penalty=l1, solver=liblinear; total time=   1.1s\n",
      "[CV] END C=10, class_weight=balanced, max_iter=200, penalty=l1, solver=liblinear; total time=   1.1s\n"
     ]
    },
    {
     "name": "stderr",
     "output_type": "stream",
     "text": [
      "C:\\Users\\myousaf23\\anaconda3\\Lib\\site-packages\\sklearn\\linear_model\\_sag.py:349: ConvergenceWarning: The max_iter was reached which means the coef_ did not converge\n",
      "  warnings.warn(\n"
     ]
    },
    {
     "name": "stdout",
     "output_type": "stream",
     "text": [
      "[CV] END C=10, class_weight=balanced, max_iter=200, penalty=l1, solver=saga; total time=   2.6s\n"
     ]
    },
    {
     "name": "stderr",
     "output_type": "stream",
     "text": [
      "C:\\Users\\myousaf23\\anaconda3\\Lib\\site-packages\\sklearn\\linear_model\\_sag.py:349: ConvergenceWarning: The max_iter was reached which means the coef_ did not converge\n",
      "  warnings.warn(\n"
     ]
    },
    {
     "name": "stdout",
     "output_type": "stream",
     "text": [
      "[CV] END C=10, class_weight=balanced, max_iter=200, penalty=l1, solver=saga; total time=   2.7s\n"
     ]
    },
    {
     "name": "stderr",
     "output_type": "stream",
     "text": [
      "C:\\Users\\myousaf23\\anaconda3\\Lib\\site-packages\\sklearn\\linear_model\\_sag.py:349: ConvergenceWarning: The max_iter was reached which means the coef_ did not converge\n",
      "  warnings.warn(\n"
     ]
    },
    {
     "name": "stdout",
     "output_type": "stream",
     "text": [
      "[CV] END C=10, class_weight=balanced, max_iter=200, penalty=l1, solver=saga; total time=   2.7s\n"
     ]
    },
    {
     "name": "stderr",
     "output_type": "stream",
     "text": [
      "C:\\Users\\myousaf23\\anaconda3\\Lib\\site-packages\\sklearn\\linear_model\\_sag.py:349: ConvergenceWarning: The max_iter was reached which means the coef_ did not converge\n",
      "  warnings.warn(\n"
     ]
    },
    {
     "name": "stdout",
     "output_type": "stream",
     "text": [
      "[CV] END C=10, class_weight=balanced, max_iter=200, penalty=l1, solver=saga; total time=   2.7s\n"
     ]
    },
    {
     "name": "stderr",
     "output_type": "stream",
     "text": [
      "C:\\Users\\myousaf23\\anaconda3\\Lib\\site-packages\\sklearn\\linear_model\\_sag.py:349: ConvergenceWarning: The max_iter was reached which means the coef_ did not converge\n",
      "  warnings.warn(\n"
     ]
    },
    {
     "name": "stdout",
     "output_type": "stream",
     "text": [
      "[CV] END C=10, class_weight=balanced, max_iter=200, penalty=l1, solver=saga; total time=   2.8s\n",
      "[CV] END C=10, class_weight=balanced, max_iter=500, penalty=l2, solver=liblinear; total time=   0.2s\n",
      "[CV] END C=10, class_weight=balanced, max_iter=500, penalty=l2, solver=liblinear; total time=   0.3s\n",
      "[CV] END C=10, class_weight=balanced, max_iter=500, penalty=l2, solver=liblinear; total time=   0.3s\n",
      "[CV] END C=10, class_weight=balanced, max_iter=500, penalty=l2, solver=liblinear; total time=   0.2s\n",
      "[CV] END C=10, class_weight=balanced, max_iter=500, penalty=l2, solver=liblinear; total time=   0.2s\n"
     ]
    },
    {
     "name": "stderr",
     "output_type": "stream",
     "text": [
      "C:\\Users\\myousaf23\\anaconda3\\Lib\\site-packages\\sklearn\\linear_model\\_sag.py:349: ConvergenceWarning: The max_iter was reached which means the coef_ did not converge\n",
      "  warnings.warn(\n"
     ]
    },
    {
     "name": "stdout",
     "output_type": "stream",
     "text": [
      "[CV] END C=10, class_weight=balanced, max_iter=500, penalty=l2, solver=saga; total time=   4.8s\n"
     ]
    },
    {
     "name": "stderr",
     "output_type": "stream",
     "text": [
      "C:\\Users\\myousaf23\\anaconda3\\Lib\\site-packages\\sklearn\\linear_model\\_sag.py:349: ConvergenceWarning: The max_iter was reached which means the coef_ did not converge\n",
      "  warnings.warn(\n"
     ]
    },
    {
     "name": "stdout",
     "output_type": "stream",
     "text": [
      "[CV] END C=10, class_weight=balanced, max_iter=500, penalty=l2, solver=saga; total time=   4.7s\n"
     ]
    },
    {
     "name": "stderr",
     "output_type": "stream",
     "text": [
      "C:\\Users\\myousaf23\\anaconda3\\Lib\\site-packages\\sklearn\\linear_model\\_sag.py:349: ConvergenceWarning: The max_iter was reached which means the coef_ did not converge\n",
      "  warnings.warn(\n"
     ]
    },
    {
     "name": "stdout",
     "output_type": "stream",
     "text": [
      "[CV] END C=10, class_weight=balanced, max_iter=500, penalty=l2, solver=saga; total time=   4.8s\n"
     ]
    },
    {
     "name": "stderr",
     "output_type": "stream",
     "text": [
      "C:\\Users\\myousaf23\\anaconda3\\Lib\\site-packages\\sklearn\\linear_model\\_sag.py:349: ConvergenceWarning: The max_iter was reached which means the coef_ did not converge\n",
      "  warnings.warn(\n"
     ]
    },
    {
     "name": "stdout",
     "output_type": "stream",
     "text": [
      "[CV] END C=10, class_weight=balanced, max_iter=500, penalty=l2, solver=saga; total time=   4.9s\n"
     ]
    },
    {
     "name": "stderr",
     "output_type": "stream",
     "text": [
      "C:\\Users\\myousaf23\\anaconda3\\Lib\\site-packages\\sklearn\\linear_model\\_sag.py:349: ConvergenceWarning: The max_iter was reached which means the coef_ did not converge\n",
      "  warnings.warn(\n"
     ]
    },
    {
     "name": "stdout",
     "output_type": "stream",
     "text": [
      "[CV] END C=10, class_weight=balanced, max_iter=500, penalty=l2, solver=saga; total time=   4.9s\n",
      "[CV] END C=10, class_weight=balanced, max_iter=500, penalty=l1, solver=liblinear; total time=   0.9s\n",
      "[CV] END C=10, class_weight=balanced, max_iter=500, penalty=l1, solver=liblinear; total time=   1.7s\n",
      "[CV] END C=10, class_weight=balanced, max_iter=500, penalty=l1, solver=liblinear; total time=   1.1s\n",
      "[CV] END C=10, class_weight=balanced, max_iter=500, penalty=l1, solver=liblinear; total time=   1.2s\n",
      "[CV] END C=10, class_weight=balanced, max_iter=500, penalty=l1, solver=liblinear; total time=   1.0s\n"
     ]
    },
    {
     "name": "stderr",
     "output_type": "stream",
     "text": [
      "C:\\Users\\myousaf23\\anaconda3\\Lib\\site-packages\\sklearn\\linear_model\\_sag.py:349: ConvergenceWarning: The max_iter was reached which means the coef_ did not converge\n",
      "  warnings.warn(\n"
     ]
    },
    {
     "name": "stdout",
     "output_type": "stream",
     "text": [
      "[CV] END C=10, class_weight=balanced, max_iter=500, penalty=l1, solver=saga; total time=   6.6s\n"
     ]
    },
    {
     "name": "stderr",
     "output_type": "stream",
     "text": [
      "C:\\Users\\myousaf23\\anaconda3\\Lib\\site-packages\\sklearn\\linear_model\\_sag.py:349: ConvergenceWarning: The max_iter was reached which means the coef_ did not converge\n",
      "  warnings.warn(\n"
     ]
    },
    {
     "name": "stdout",
     "output_type": "stream",
     "text": [
      "[CV] END C=10, class_weight=balanced, max_iter=500, penalty=l1, solver=saga; total time=   6.6s\n"
     ]
    },
    {
     "name": "stderr",
     "output_type": "stream",
     "text": [
      "C:\\Users\\myousaf23\\anaconda3\\Lib\\site-packages\\sklearn\\linear_model\\_sag.py:349: ConvergenceWarning: The max_iter was reached which means the coef_ did not converge\n",
      "  warnings.warn(\n"
     ]
    },
    {
     "name": "stdout",
     "output_type": "stream",
     "text": [
      "[CV] END C=10, class_weight=balanced, max_iter=500, penalty=l1, solver=saga; total time=   6.4s\n"
     ]
    },
    {
     "name": "stderr",
     "output_type": "stream",
     "text": [
      "C:\\Users\\myousaf23\\anaconda3\\Lib\\site-packages\\sklearn\\linear_model\\_sag.py:349: ConvergenceWarning: The max_iter was reached which means the coef_ did not converge\n",
      "  warnings.warn(\n"
     ]
    },
    {
     "name": "stdout",
     "output_type": "stream",
     "text": [
      "[CV] END C=10, class_weight=balanced, max_iter=500, penalty=l1, solver=saga; total time=   6.6s\n"
     ]
    },
    {
     "name": "stderr",
     "output_type": "stream",
     "text": [
      "C:\\Users\\myousaf23\\anaconda3\\Lib\\site-packages\\sklearn\\linear_model\\_sag.py:349: ConvergenceWarning: The max_iter was reached which means the coef_ did not converge\n",
      "  warnings.warn(\n"
     ]
    },
    {
     "name": "stdout",
     "output_type": "stream",
     "text": [
      "[CV] END C=10, class_weight=balanced, max_iter=500, penalty=l1, solver=saga; total time=   6.5s\n",
      "[CV] END C=10, class_weight=balanced, max_iter=700, penalty=l2, solver=liblinear; total time=   0.2s\n",
      "[CV] END C=10, class_weight=balanced, max_iter=700, penalty=l2, solver=liblinear; total time=   0.3s\n",
      "[CV] END C=10, class_weight=balanced, max_iter=700, penalty=l2, solver=liblinear; total time=   0.3s\n",
      "[CV] END C=10, class_weight=balanced, max_iter=700, penalty=l2, solver=liblinear; total time=   0.2s\n",
      "[CV] END C=10, class_weight=balanced, max_iter=700, penalty=l2, solver=liblinear; total time=   0.2s\n"
     ]
    },
    {
     "name": "stderr",
     "output_type": "stream",
     "text": [
      "C:\\Users\\myousaf23\\anaconda3\\Lib\\site-packages\\sklearn\\linear_model\\_sag.py:349: ConvergenceWarning: The max_iter was reached which means the coef_ did not converge\n",
      "  warnings.warn(\n"
     ]
    },
    {
     "name": "stdout",
     "output_type": "stream",
     "text": [
      "[CV] END C=10, class_weight=balanced, max_iter=700, penalty=l2, solver=saga; total time=   6.4s\n",
      "[CV] END C=10, class_weight=balanced, max_iter=700, penalty=l2, solver=saga; total time=   5.9s\n",
      "[CV] END C=10, class_weight=balanced, max_iter=700, penalty=l2, solver=saga; total time=   5.5s\n",
      "[CV] END C=10, class_weight=balanced, max_iter=700, penalty=l2, solver=saga; total time=   5.3s\n",
      "[CV] END C=10, class_weight=balanced, max_iter=700, penalty=l2, solver=saga; total time=   5.5s\n",
      "[CV] END C=10, class_weight=balanced, max_iter=700, penalty=l1, solver=liblinear; total time=   0.8s\n",
      "[CV] END C=10, class_weight=balanced, max_iter=700, penalty=l1, solver=liblinear; total time=   1.7s\n",
      "[CV] END C=10, class_weight=balanced, max_iter=700, penalty=l1, solver=liblinear; total time=   1.3s\n",
      "[CV] END C=10, class_weight=balanced, max_iter=700, penalty=l1, solver=liblinear; total time=   1.1s\n",
      "[CV] END C=10, class_weight=balanced, max_iter=700, penalty=l1, solver=liblinear; total time=   1.0s\n"
     ]
    },
    {
     "name": "stderr",
     "output_type": "stream",
     "text": [
      "C:\\Users\\myousaf23\\anaconda3\\Lib\\site-packages\\sklearn\\linear_model\\_sag.py:349: ConvergenceWarning: The max_iter was reached which means the coef_ did not converge\n",
      "  warnings.warn(\n"
     ]
    },
    {
     "name": "stdout",
     "output_type": "stream",
     "text": [
      "[CV] END C=10, class_weight=balanced, max_iter=700, penalty=l1, solver=saga; total time=   8.8s\n"
     ]
    },
    {
     "name": "stderr",
     "output_type": "stream",
     "text": [
      "C:\\Users\\myousaf23\\anaconda3\\Lib\\site-packages\\sklearn\\linear_model\\_sag.py:349: ConvergenceWarning: The max_iter was reached which means the coef_ did not converge\n",
      "  warnings.warn(\n"
     ]
    },
    {
     "name": "stdout",
     "output_type": "stream",
     "text": [
      "[CV] END C=10, class_weight=balanced, max_iter=700, penalty=l1, solver=saga; total time=   8.8s\n"
     ]
    },
    {
     "name": "stderr",
     "output_type": "stream",
     "text": [
      "C:\\Users\\myousaf23\\anaconda3\\Lib\\site-packages\\sklearn\\linear_model\\_sag.py:349: ConvergenceWarning: The max_iter was reached which means the coef_ did not converge\n",
      "  warnings.warn(\n"
     ]
    },
    {
     "name": "stdout",
     "output_type": "stream",
     "text": [
      "[CV] END C=10, class_weight=balanced, max_iter=700, penalty=l1, solver=saga; total time=   8.8s\n"
     ]
    },
    {
     "name": "stderr",
     "output_type": "stream",
     "text": [
      "C:\\Users\\myousaf23\\anaconda3\\Lib\\site-packages\\sklearn\\linear_model\\_sag.py:349: ConvergenceWarning: The max_iter was reached which means the coef_ did not converge\n",
      "  warnings.warn(\n"
     ]
    },
    {
     "name": "stdout",
     "output_type": "stream",
     "text": [
      "[CV] END C=10, class_weight=balanced, max_iter=700, penalty=l1, solver=saga; total time=   8.8s\n"
     ]
    },
    {
     "name": "stderr",
     "output_type": "stream",
     "text": [
      "C:\\Users\\myousaf23\\anaconda3\\Lib\\site-packages\\sklearn\\linear_model\\_sag.py:349: ConvergenceWarning: The max_iter was reached which means the coef_ did not converge\n",
      "  warnings.warn(\n"
     ]
    },
    {
     "name": "stdout",
     "output_type": "stream",
     "text": [
      "[CV] END C=10, class_weight=balanced, max_iter=700, penalty=l1, solver=saga; total time=   8.7s\n",
      "[CV] END C=10, class_weight=balanced, max_iter=1000, penalty=l2, solver=liblinear; total time=   0.1s\n",
      "[CV] END C=10, class_weight=balanced, max_iter=1000, penalty=l2, solver=liblinear; total time=   0.2s\n",
      "[CV] END C=10, class_weight=balanced, max_iter=1000, penalty=l2, solver=liblinear; total time=   0.2s\n",
      "[CV] END C=10, class_weight=balanced, max_iter=1000, penalty=l2, solver=liblinear; total time=   0.1s\n",
      "[CV] END C=10, class_weight=balanced, max_iter=1000, penalty=l2, solver=liblinear; total time=   0.2s\n",
      "[CV] END C=10, class_weight=balanced, max_iter=1000, penalty=l2, solver=saga; total time=   7.6s\n",
      "[CV] END C=10, class_weight=balanced, max_iter=1000, penalty=l2, solver=saga; total time=   5.3s\n",
      "[CV] END C=10, class_weight=balanced, max_iter=1000, penalty=l2, solver=saga; total time=   5.3s\n",
      "[CV] END C=10, class_weight=balanced, max_iter=1000, penalty=l2, solver=saga; total time=   5.1s\n",
      "[CV] END C=10, class_weight=balanced, max_iter=1000, penalty=l2, solver=saga; total time=   5.5s\n",
      "[CV] END C=10, class_weight=balanced, max_iter=1000, penalty=l1, solver=liblinear; total time=   0.8s\n",
      "[CV] END C=10, class_weight=balanced, max_iter=1000, penalty=l1, solver=liblinear; total time=   1.6s\n",
      "[CV] END C=10, class_weight=balanced, max_iter=1000, penalty=l1, solver=liblinear; total time=   1.1s\n",
      "[CV] END C=10, class_weight=balanced, max_iter=1000, penalty=l1, solver=liblinear; total time=   1.0s\n",
      "[CV] END C=10, class_weight=balanced, max_iter=1000, penalty=l1, solver=liblinear; total time=   1.0s\n"
     ]
    },
    {
     "name": "stderr",
     "output_type": "stream",
     "text": [
      "C:\\Users\\myousaf23\\anaconda3\\Lib\\site-packages\\sklearn\\linear_model\\_sag.py:349: ConvergenceWarning: The max_iter was reached which means the coef_ did not converge\n",
      "  warnings.warn(\n"
     ]
    },
    {
     "name": "stdout",
     "output_type": "stream",
     "text": [
      "[CV] END C=10, class_weight=balanced, max_iter=1000, penalty=l1, solver=saga; total time=  12.2s\n"
     ]
    },
    {
     "name": "stderr",
     "output_type": "stream",
     "text": [
      "C:\\Users\\myousaf23\\anaconda3\\Lib\\site-packages\\sklearn\\linear_model\\_sag.py:349: ConvergenceWarning: The max_iter was reached which means the coef_ did not converge\n",
      "  warnings.warn(\n"
     ]
    },
    {
     "name": "stdout",
     "output_type": "stream",
     "text": [
      "[CV] END C=10, class_weight=balanced, max_iter=1000, penalty=l1, solver=saga; total time=  12.3s\n"
     ]
    },
    {
     "name": "stderr",
     "output_type": "stream",
     "text": [
      "C:\\Users\\myousaf23\\anaconda3\\Lib\\site-packages\\sklearn\\linear_model\\_sag.py:349: ConvergenceWarning: The max_iter was reached which means the coef_ did not converge\n",
      "  warnings.warn(\n"
     ]
    },
    {
     "name": "stdout",
     "output_type": "stream",
     "text": [
      "[CV] END C=10, class_weight=balanced, max_iter=1000, penalty=l1, solver=saga; total time=  12.0s\n"
     ]
    },
    {
     "name": "stderr",
     "output_type": "stream",
     "text": [
      "C:\\Users\\myousaf23\\anaconda3\\Lib\\site-packages\\sklearn\\linear_model\\_sag.py:349: ConvergenceWarning: The max_iter was reached which means the coef_ did not converge\n",
      "  warnings.warn(\n"
     ]
    },
    {
     "name": "stdout",
     "output_type": "stream",
     "text": [
      "[CV] END C=10, class_weight=balanced, max_iter=1000, penalty=l1, solver=saga; total time=  12.1s\n"
     ]
    },
    {
     "name": "stderr",
     "output_type": "stream",
     "text": [
      "C:\\Users\\myousaf23\\anaconda3\\Lib\\site-packages\\sklearn\\linear_model\\_sag.py:349: ConvergenceWarning: The max_iter was reached which means the coef_ did not converge\n",
      "  warnings.warn(\n"
     ]
    },
    {
     "name": "stdout",
     "output_type": "stream",
     "text": [
      "[CV] END C=10, class_weight=balanced, max_iter=1000, penalty=l1, solver=saga; total time=  12.0s\n",
      "[CV] END C=100, class_weight=None, max_iter=100, penalty=l2, solver=liblinear; total time=   0.6s\n",
      "[CV] END C=100, class_weight=None, max_iter=100, penalty=l2, solver=liblinear; total time=   0.4s\n",
      "[CV] END C=100, class_weight=None, max_iter=100, penalty=l2, solver=liblinear; total time=   0.4s\n",
      "[CV] END C=100, class_weight=None, max_iter=100, penalty=l2, solver=liblinear; total time=   0.4s\n",
      "[CV] END C=100, class_weight=None, max_iter=100, penalty=l2, solver=liblinear; total time=   0.5s\n"
     ]
    },
    {
     "name": "stderr",
     "output_type": "stream",
     "text": [
      "C:\\Users\\myousaf23\\anaconda3\\Lib\\site-packages\\sklearn\\linear_model\\_sag.py:349: ConvergenceWarning: The max_iter was reached which means the coef_ did not converge\n",
      "  warnings.warn(\n"
     ]
    },
    {
     "name": "stdout",
     "output_type": "stream",
     "text": [
      "[CV] END C=100, class_weight=None, max_iter=100, penalty=l2, solver=saga; total time=   0.8s\n"
     ]
    },
    {
     "name": "stderr",
     "output_type": "stream",
     "text": [
      "C:\\Users\\myousaf23\\anaconda3\\Lib\\site-packages\\sklearn\\linear_model\\_sag.py:349: ConvergenceWarning: The max_iter was reached which means the coef_ did not converge\n",
      "  warnings.warn(\n"
     ]
    },
    {
     "name": "stdout",
     "output_type": "stream",
     "text": [
      "[CV] END C=100, class_weight=None, max_iter=100, penalty=l2, solver=saga; total time=   0.8s\n"
     ]
    },
    {
     "name": "stderr",
     "output_type": "stream",
     "text": [
      "C:\\Users\\myousaf23\\anaconda3\\Lib\\site-packages\\sklearn\\linear_model\\_sag.py:349: ConvergenceWarning: The max_iter was reached which means the coef_ did not converge\n",
      "  warnings.warn(\n"
     ]
    },
    {
     "name": "stdout",
     "output_type": "stream",
     "text": [
      "[CV] END C=100, class_weight=None, max_iter=100, penalty=l2, solver=saga; total time=   0.8s\n"
     ]
    },
    {
     "name": "stderr",
     "output_type": "stream",
     "text": [
      "C:\\Users\\myousaf23\\anaconda3\\Lib\\site-packages\\sklearn\\linear_model\\_sag.py:349: ConvergenceWarning: The max_iter was reached which means the coef_ did not converge\n",
      "  warnings.warn(\n"
     ]
    },
    {
     "name": "stdout",
     "output_type": "stream",
     "text": [
      "[CV] END C=100, class_weight=None, max_iter=100, penalty=l2, solver=saga; total time=   0.8s\n"
     ]
    },
    {
     "name": "stderr",
     "output_type": "stream",
     "text": [
      "C:\\Users\\myousaf23\\anaconda3\\Lib\\site-packages\\sklearn\\linear_model\\_sag.py:349: ConvergenceWarning: The max_iter was reached which means the coef_ did not converge\n",
      "  warnings.warn(\n"
     ]
    },
    {
     "name": "stdout",
     "output_type": "stream",
     "text": [
      "[CV] END C=100, class_weight=None, max_iter=100, penalty=l2, solver=saga; total time=   0.9s\n",
      "[CV] END C=100, class_weight=None, max_iter=100, penalty=l1, solver=liblinear; total time=   2.1s\n",
      "[CV] END C=100, class_weight=None, max_iter=100, penalty=l1, solver=liblinear; total time=   3.3s\n",
      "[CV] END C=100, class_weight=None, max_iter=100, penalty=l1, solver=liblinear; total time=   1.8s\n",
      "[CV] END C=100, class_weight=None, max_iter=100, penalty=l1, solver=liblinear; total time=   1.7s\n",
      "[CV] END C=100, class_weight=None, max_iter=100, penalty=l1, solver=liblinear; total time=   1.3s\n"
     ]
    },
    {
     "name": "stderr",
     "output_type": "stream",
     "text": [
      "C:\\Users\\myousaf23\\anaconda3\\Lib\\site-packages\\sklearn\\linear_model\\_sag.py:349: ConvergenceWarning: The max_iter was reached which means the coef_ did not converge\n",
      "  warnings.warn(\n"
     ]
    },
    {
     "name": "stdout",
     "output_type": "stream",
     "text": [
      "[CV] END C=100, class_weight=None, max_iter=100, penalty=l1, solver=saga; total time=   1.4s\n"
     ]
    },
    {
     "name": "stderr",
     "output_type": "stream",
     "text": [
      "C:\\Users\\myousaf23\\anaconda3\\Lib\\site-packages\\sklearn\\linear_model\\_sag.py:349: ConvergenceWarning: The max_iter was reached which means the coef_ did not converge\n",
      "  warnings.warn(\n"
     ]
    },
    {
     "name": "stdout",
     "output_type": "stream",
     "text": [
      "[CV] END C=100, class_weight=None, max_iter=100, penalty=l1, solver=saga; total time=   1.4s\n"
     ]
    },
    {
     "name": "stderr",
     "output_type": "stream",
     "text": [
      "C:\\Users\\myousaf23\\anaconda3\\Lib\\site-packages\\sklearn\\linear_model\\_sag.py:349: ConvergenceWarning: The max_iter was reached which means the coef_ did not converge\n",
      "  warnings.warn(\n"
     ]
    },
    {
     "name": "stdout",
     "output_type": "stream",
     "text": [
      "[CV] END C=100, class_weight=None, max_iter=100, penalty=l1, solver=saga; total time=   1.4s\n"
     ]
    },
    {
     "name": "stderr",
     "output_type": "stream",
     "text": [
      "C:\\Users\\myousaf23\\anaconda3\\Lib\\site-packages\\sklearn\\linear_model\\_sag.py:349: ConvergenceWarning: The max_iter was reached which means the coef_ did not converge\n",
      "  warnings.warn(\n"
     ]
    },
    {
     "name": "stdout",
     "output_type": "stream",
     "text": [
      "[CV] END C=100, class_weight=None, max_iter=100, penalty=l1, solver=saga; total time=   1.4s\n"
     ]
    },
    {
     "name": "stderr",
     "output_type": "stream",
     "text": [
      "C:\\Users\\myousaf23\\anaconda3\\Lib\\site-packages\\sklearn\\linear_model\\_sag.py:349: ConvergenceWarning: The max_iter was reached which means the coef_ did not converge\n",
      "  warnings.warn(\n"
     ]
    },
    {
     "name": "stdout",
     "output_type": "stream",
     "text": [
      "[CV] END C=100, class_weight=None, max_iter=100, penalty=l1, solver=saga; total time=   1.4s\n",
      "[CV] END C=100, class_weight=None, max_iter=200, penalty=l2, solver=liblinear; total time=   0.5s\n",
      "[CV] END C=100, class_weight=None, max_iter=200, penalty=l2, solver=liblinear; total time=   0.3s\n",
      "[CV] END C=100, class_weight=None, max_iter=200, penalty=l2, solver=liblinear; total time=   0.4s\n",
      "[CV] END C=100, class_weight=None, max_iter=200, penalty=l2, solver=liblinear; total time=   0.5s\n",
      "[CV] END C=100, class_weight=None, max_iter=200, penalty=l2, solver=liblinear; total time=   0.5s\n"
     ]
    },
    {
     "name": "stderr",
     "output_type": "stream",
     "text": [
      "C:\\Users\\myousaf23\\anaconda3\\Lib\\site-packages\\sklearn\\linear_model\\_sag.py:349: ConvergenceWarning: The max_iter was reached which means the coef_ did not converge\n",
      "  warnings.warn(\n"
     ]
    },
    {
     "name": "stdout",
     "output_type": "stream",
     "text": [
      "[CV] END C=100, class_weight=None, max_iter=200, penalty=l2, solver=saga; total time=   1.8s\n"
     ]
    },
    {
     "name": "stderr",
     "output_type": "stream",
     "text": [
      "C:\\Users\\myousaf23\\anaconda3\\Lib\\site-packages\\sklearn\\linear_model\\_sag.py:349: ConvergenceWarning: The max_iter was reached which means the coef_ did not converge\n",
      "  warnings.warn(\n"
     ]
    },
    {
     "name": "stdout",
     "output_type": "stream",
     "text": [
      "[CV] END C=100, class_weight=None, max_iter=200, penalty=l2, solver=saga; total time=   1.8s\n"
     ]
    },
    {
     "name": "stderr",
     "output_type": "stream",
     "text": [
      "C:\\Users\\myousaf23\\anaconda3\\Lib\\site-packages\\sklearn\\linear_model\\_sag.py:349: ConvergenceWarning: The max_iter was reached which means the coef_ did not converge\n",
      "  warnings.warn(\n"
     ]
    },
    {
     "name": "stdout",
     "output_type": "stream",
     "text": [
      "[CV] END C=100, class_weight=None, max_iter=200, penalty=l2, solver=saga; total time=   1.8s\n"
     ]
    },
    {
     "name": "stderr",
     "output_type": "stream",
     "text": [
      "C:\\Users\\myousaf23\\anaconda3\\Lib\\site-packages\\sklearn\\linear_model\\_sag.py:349: ConvergenceWarning: The max_iter was reached which means the coef_ did not converge\n",
      "  warnings.warn(\n"
     ]
    },
    {
     "name": "stdout",
     "output_type": "stream",
     "text": [
      "[CV] END C=100, class_weight=None, max_iter=200, penalty=l2, solver=saga; total time=   1.8s\n"
     ]
    },
    {
     "name": "stderr",
     "output_type": "stream",
     "text": [
      "C:\\Users\\myousaf23\\anaconda3\\Lib\\site-packages\\sklearn\\linear_model\\_sag.py:349: ConvergenceWarning: The max_iter was reached which means the coef_ did not converge\n",
      "  warnings.warn(\n"
     ]
    },
    {
     "name": "stdout",
     "output_type": "stream",
     "text": [
      "[CV] END C=100, class_weight=None, max_iter=200, penalty=l2, solver=saga; total time=   1.8s\n",
      "[CV] END C=100, class_weight=None, max_iter=200, penalty=l1, solver=liblinear; total time=   2.1s\n",
      "[CV] END C=100, class_weight=None, max_iter=200, penalty=l1, solver=liblinear; total time=   3.4s\n",
      "[CV] END C=100, class_weight=None, max_iter=200, penalty=l1, solver=liblinear; total time=   1.7s\n",
      "[CV] END C=100, class_weight=None, max_iter=200, penalty=l1, solver=liblinear; total time=   2.0s\n",
      "[CV] END C=100, class_weight=None, max_iter=200, penalty=l1, solver=liblinear; total time=   1.3s\n"
     ]
    },
    {
     "name": "stderr",
     "output_type": "stream",
     "text": [
      "C:\\Users\\myousaf23\\anaconda3\\Lib\\site-packages\\sklearn\\linear_model\\_sag.py:349: ConvergenceWarning: The max_iter was reached which means the coef_ did not converge\n",
      "  warnings.warn(\n"
     ]
    },
    {
     "name": "stdout",
     "output_type": "stream",
     "text": [
      "[CV] END C=100, class_weight=None, max_iter=200, penalty=l1, solver=saga; total time=   2.9s\n"
     ]
    },
    {
     "name": "stderr",
     "output_type": "stream",
     "text": [
      "C:\\Users\\myousaf23\\anaconda3\\Lib\\site-packages\\sklearn\\linear_model\\_sag.py:349: ConvergenceWarning: The max_iter was reached which means the coef_ did not converge\n",
      "  warnings.warn(\n"
     ]
    },
    {
     "name": "stdout",
     "output_type": "stream",
     "text": [
      "[CV] END C=100, class_weight=None, max_iter=200, penalty=l1, solver=saga; total time=   2.9s\n"
     ]
    },
    {
     "name": "stderr",
     "output_type": "stream",
     "text": [
      "C:\\Users\\myousaf23\\anaconda3\\Lib\\site-packages\\sklearn\\linear_model\\_sag.py:349: ConvergenceWarning: The max_iter was reached which means the coef_ did not converge\n",
      "  warnings.warn(\n"
     ]
    },
    {
     "name": "stdout",
     "output_type": "stream",
     "text": [
      "[CV] END C=100, class_weight=None, max_iter=200, penalty=l1, solver=saga; total time=   2.9s\n"
     ]
    },
    {
     "name": "stderr",
     "output_type": "stream",
     "text": [
      "C:\\Users\\myousaf23\\anaconda3\\Lib\\site-packages\\sklearn\\linear_model\\_sag.py:349: ConvergenceWarning: The max_iter was reached which means the coef_ did not converge\n",
      "  warnings.warn(\n"
     ]
    },
    {
     "name": "stdout",
     "output_type": "stream",
     "text": [
      "[CV] END C=100, class_weight=None, max_iter=200, penalty=l1, solver=saga; total time=   2.9s\n"
     ]
    },
    {
     "name": "stderr",
     "output_type": "stream",
     "text": [
      "C:\\Users\\myousaf23\\anaconda3\\Lib\\site-packages\\sklearn\\linear_model\\_sag.py:349: ConvergenceWarning: The max_iter was reached which means the coef_ did not converge\n",
      "  warnings.warn(\n"
     ]
    },
    {
     "name": "stdout",
     "output_type": "stream",
     "text": [
      "[CV] END C=100, class_weight=None, max_iter=200, penalty=l1, solver=saga; total time=   3.0s\n",
      "[CV] END C=100, class_weight=None, max_iter=500, penalty=l2, solver=liblinear; total time=   0.5s\n",
      "[CV] END C=100, class_weight=None, max_iter=500, penalty=l2, solver=liblinear; total time=   0.4s\n",
      "[CV] END C=100, class_weight=None, max_iter=500, penalty=l2, solver=liblinear; total time=   0.4s\n",
      "[CV] END C=100, class_weight=None, max_iter=500, penalty=l2, solver=liblinear; total time=   0.4s\n",
      "[CV] END C=100, class_weight=None, max_iter=500, penalty=l2, solver=liblinear; total time=   0.4s\n"
     ]
    },
    {
     "name": "stderr",
     "output_type": "stream",
     "text": [
      "C:\\Users\\myousaf23\\anaconda3\\Lib\\site-packages\\sklearn\\linear_model\\_sag.py:349: ConvergenceWarning: The max_iter was reached which means the coef_ did not converge\n",
      "  warnings.warn(\n"
     ]
    },
    {
     "name": "stdout",
     "output_type": "stream",
     "text": [
      "[CV] END C=100, class_weight=None, max_iter=500, penalty=l2, solver=saga; total time=   4.4s\n"
     ]
    },
    {
     "name": "stderr",
     "output_type": "stream",
     "text": [
      "C:\\Users\\myousaf23\\anaconda3\\Lib\\site-packages\\sklearn\\linear_model\\_sag.py:349: ConvergenceWarning: The max_iter was reached which means the coef_ did not converge\n",
      "  warnings.warn(\n"
     ]
    },
    {
     "name": "stdout",
     "output_type": "stream",
     "text": [
      "[CV] END C=100, class_weight=None, max_iter=500, penalty=l2, solver=saga; total time=   4.5s\n"
     ]
    },
    {
     "name": "stderr",
     "output_type": "stream",
     "text": [
      "C:\\Users\\myousaf23\\anaconda3\\Lib\\site-packages\\sklearn\\linear_model\\_sag.py:349: ConvergenceWarning: The max_iter was reached which means the coef_ did not converge\n",
      "  warnings.warn(\n"
     ]
    },
    {
     "name": "stdout",
     "output_type": "stream",
     "text": [
      "[CV] END C=100, class_weight=None, max_iter=500, penalty=l2, solver=saga; total time=   4.5s\n"
     ]
    },
    {
     "name": "stderr",
     "output_type": "stream",
     "text": [
      "C:\\Users\\myousaf23\\anaconda3\\Lib\\site-packages\\sklearn\\linear_model\\_sag.py:349: ConvergenceWarning: The max_iter was reached which means the coef_ did not converge\n",
      "  warnings.warn(\n"
     ]
    },
    {
     "name": "stdout",
     "output_type": "stream",
     "text": [
      "[CV] END C=100, class_weight=None, max_iter=500, penalty=l2, solver=saga; total time=   4.3s\n"
     ]
    },
    {
     "name": "stderr",
     "output_type": "stream",
     "text": [
      "C:\\Users\\myousaf23\\anaconda3\\Lib\\site-packages\\sklearn\\linear_model\\_sag.py:349: ConvergenceWarning: The max_iter was reached which means the coef_ did not converge\n",
      "  warnings.warn(\n"
     ]
    },
    {
     "name": "stdout",
     "output_type": "stream",
     "text": [
      "[CV] END C=100, class_weight=None, max_iter=500, penalty=l2, solver=saga; total time=   4.5s\n",
      "[CV] END C=100, class_weight=None, max_iter=500, penalty=l1, solver=liblinear; total time=   2.1s\n",
      "[CV] END C=100, class_weight=None, max_iter=500, penalty=l1, solver=liblinear; total time=   3.3s\n",
      "[CV] END C=100, class_weight=None, max_iter=500, penalty=l1, solver=liblinear; total time=   2.1s\n",
      "[CV] END C=100, class_weight=None, max_iter=500, penalty=l1, solver=liblinear; total time=   2.1s\n",
      "[CV] END C=100, class_weight=None, max_iter=500, penalty=l1, solver=liblinear; total time=   1.1s\n"
     ]
    },
    {
     "name": "stderr",
     "output_type": "stream",
     "text": [
      "C:\\Users\\myousaf23\\anaconda3\\Lib\\site-packages\\sklearn\\linear_model\\_sag.py:349: ConvergenceWarning: The max_iter was reached which means the coef_ did not converge\n",
      "  warnings.warn(\n"
     ]
    },
    {
     "name": "stdout",
     "output_type": "stream",
     "text": [
      "[CV] END C=100, class_weight=None, max_iter=500, penalty=l1, solver=saga; total time=   7.1s\n"
     ]
    },
    {
     "name": "stderr",
     "output_type": "stream",
     "text": [
      "C:\\Users\\myousaf23\\anaconda3\\Lib\\site-packages\\sklearn\\linear_model\\_sag.py:349: ConvergenceWarning: The max_iter was reached which means the coef_ did not converge\n",
      "  warnings.warn(\n"
     ]
    },
    {
     "name": "stdout",
     "output_type": "stream",
     "text": [
      "[CV] END C=100, class_weight=None, max_iter=500, penalty=l1, solver=saga; total time=   7.2s\n"
     ]
    },
    {
     "name": "stderr",
     "output_type": "stream",
     "text": [
      "C:\\Users\\myousaf23\\anaconda3\\Lib\\site-packages\\sklearn\\linear_model\\_sag.py:349: ConvergenceWarning: The max_iter was reached which means the coef_ did not converge\n",
      "  warnings.warn(\n"
     ]
    },
    {
     "name": "stdout",
     "output_type": "stream",
     "text": [
      "[CV] END C=100, class_weight=None, max_iter=500, penalty=l1, solver=saga; total time=   7.0s\n"
     ]
    },
    {
     "name": "stderr",
     "output_type": "stream",
     "text": [
      "C:\\Users\\myousaf23\\anaconda3\\Lib\\site-packages\\sklearn\\linear_model\\_sag.py:349: ConvergenceWarning: The max_iter was reached which means the coef_ did not converge\n",
      "  warnings.warn(\n"
     ]
    },
    {
     "name": "stdout",
     "output_type": "stream",
     "text": [
      "[CV] END C=100, class_weight=None, max_iter=500, penalty=l1, solver=saga; total time=   7.1s\n"
     ]
    },
    {
     "name": "stderr",
     "output_type": "stream",
     "text": [
      "C:\\Users\\myousaf23\\anaconda3\\Lib\\site-packages\\sklearn\\linear_model\\_sag.py:349: ConvergenceWarning: The max_iter was reached which means the coef_ did not converge\n",
      "  warnings.warn(\n"
     ]
    },
    {
     "name": "stdout",
     "output_type": "stream",
     "text": [
      "[CV] END C=100, class_weight=None, max_iter=500, penalty=l1, solver=saga; total time=   7.2s\n",
      "[CV] END C=100, class_weight=None, max_iter=700, penalty=l2, solver=liblinear; total time=   0.5s\n",
      "[CV] END C=100, class_weight=None, max_iter=700, penalty=l2, solver=liblinear; total time=   0.4s\n",
      "[CV] END C=100, class_weight=None, max_iter=700, penalty=l2, solver=liblinear; total time=   0.4s\n",
      "[CV] END C=100, class_weight=None, max_iter=700, penalty=l2, solver=liblinear; total time=   0.5s\n",
      "[CV] END C=100, class_weight=None, max_iter=700, penalty=l2, solver=liblinear; total time=   0.5s\n"
     ]
    },
    {
     "name": "stderr",
     "output_type": "stream",
     "text": [
      "C:\\Users\\myousaf23\\anaconda3\\Lib\\site-packages\\sklearn\\linear_model\\_sag.py:349: ConvergenceWarning: The max_iter was reached which means the coef_ did not converge\n",
      "  warnings.warn(\n"
     ]
    },
    {
     "name": "stdout",
     "output_type": "stream",
     "text": [
      "[CV] END C=100, class_weight=None, max_iter=700, penalty=l2, solver=saga; total time=   6.3s\n"
     ]
    },
    {
     "name": "stderr",
     "output_type": "stream",
     "text": [
      "C:\\Users\\myousaf23\\anaconda3\\Lib\\site-packages\\sklearn\\linear_model\\_sag.py:349: ConvergenceWarning: The max_iter was reached which means the coef_ did not converge\n",
      "  warnings.warn(\n"
     ]
    },
    {
     "name": "stdout",
     "output_type": "stream",
     "text": [
      "[CV] END C=100, class_weight=None, max_iter=700, penalty=l2, solver=saga; total time=   6.2s\n"
     ]
    },
    {
     "name": "stderr",
     "output_type": "stream",
     "text": [
      "C:\\Users\\myousaf23\\anaconda3\\Lib\\site-packages\\sklearn\\linear_model\\_sag.py:349: ConvergenceWarning: The max_iter was reached which means the coef_ did not converge\n",
      "  warnings.warn(\n"
     ]
    },
    {
     "name": "stdout",
     "output_type": "stream",
     "text": [
      "[CV] END C=100, class_weight=None, max_iter=700, penalty=l2, solver=saga; total time=   6.3s\n"
     ]
    },
    {
     "name": "stderr",
     "output_type": "stream",
     "text": [
      "C:\\Users\\myousaf23\\anaconda3\\Lib\\site-packages\\sklearn\\linear_model\\_sag.py:349: ConvergenceWarning: The max_iter was reached which means the coef_ did not converge\n",
      "  warnings.warn(\n"
     ]
    },
    {
     "name": "stdout",
     "output_type": "stream",
     "text": [
      "[CV] END C=100, class_weight=None, max_iter=700, penalty=l2, solver=saga; total time=   6.3s\n"
     ]
    },
    {
     "name": "stderr",
     "output_type": "stream",
     "text": [
      "C:\\Users\\myousaf23\\anaconda3\\Lib\\site-packages\\sklearn\\linear_model\\_sag.py:349: ConvergenceWarning: The max_iter was reached which means the coef_ did not converge\n",
      "  warnings.warn(\n"
     ]
    },
    {
     "name": "stdout",
     "output_type": "stream",
     "text": [
      "[CV] END C=100, class_weight=None, max_iter=700, penalty=l2, solver=saga; total time=   6.3s\n",
      "[CV] END C=100, class_weight=None, max_iter=700, penalty=l1, solver=liblinear; total time=   2.0s\n",
      "[CV] END C=100, class_weight=None, max_iter=700, penalty=l1, solver=liblinear; total time=   3.2s\n",
      "[CV] END C=100, class_weight=None, max_iter=700, penalty=l1, solver=liblinear; total time=   1.6s\n",
      "[CV] END C=100, class_weight=None, max_iter=700, penalty=l1, solver=liblinear; total time=   1.6s\n",
      "[CV] END C=100, class_weight=None, max_iter=700, penalty=l1, solver=liblinear; total time=   1.7s\n"
     ]
    },
    {
     "name": "stderr",
     "output_type": "stream",
     "text": [
      "C:\\Users\\myousaf23\\anaconda3\\Lib\\site-packages\\sklearn\\linear_model\\_sag.py:349: ConvergenceWarning: The max_iter was reached which means the coef_ did not converge\n",
      "  warnings.warn(\n"
     ]
    },
    {
     "name": "stdout",
     "output_type": "stream",
     "text": [
      "[CV] END C=100, class_weight=None, max_iter=700, penalty=l1, solver=saga; total time=  10.2s\n"
     ]
    },
    {
     "name": "stderr",
     "output_type": "stream",
     "text": [
      "C:\\Users\\myousaf23\\anaconda3\\Lib\\site-packages\\sklearn\\linear_model\\_sag.py:349: ConvergenceWarning: The max_iter was reached which means the coef_ did not converge\n",
      "  warnings.warn(\n"
     ]
    },
    {
     "name": "stdout",
     "output_type": "stream",
     "text": [
      "[CV] END C=100, class_weight=None, max_iter=700, penalty=l1, solver=saga; total time=  10.3s\n"
     ]
    },
    {
     "name": "stderr",
     "output_type": "stream",
     "text": [
      "C:\\Users\\myousaf23\\anaconda3\\Lib\\site-packages\\sklearn\\linear_model\\_sag.py:349: ConvergenceWarning: The max_iter was reached which means the coef_ did not converge\n",
      "  warnings.warn(\n"
     ]
    },
    {
     "name": "stdout",
     "output_type": "stream",
     "text": [
      "[CV] END C=100, class_weight=None, max_iter=700, penalty=l1, solver=saga; total time=  10.2s\n"
     ]
    },
    {
     "name": "stderr",
     "output_type": "stream",
     "text": [
      "C:\\Users\\myousaf23\\anaconda3\\Lib\\site-packages\\sklearn\\linear_model\\_sag.py:349: ConvergenceWarning: The max_iter was reached which means the coef_ did not converge\n",
      "  warnings.warn(\n"
     ]
    },
    {
     "name": "stdout",
     "output_type": "stream",
     "text": [
      "[CV] END C=100, class_weight=None, max_iter=700, penalty=l1, solver=saga; total time=  10.4s\n"
     ]
    },
    {
     "name": "stderr",
     "output_type": "stream",
     "text": [
      "C:\\Users\\myousaf23\\anaconda3\\Lib\\site-packages\\sklearn\\linear_model\\_sag.py:349: ConvergenceWarning: The max_iter was reached which means the coef_ did not converge\n",
      "  warnings.warn(\n"
     ]
    },
    {
     "name": "stdout",
     "output_type": "stream",
     "text": [
      "[CV] END C=100, class_weight=None, max_iter=700, penalty=l1, solver=saga; total time=  10.3s\n",
      "[CV] END C=100, class_weight=None, max_iter=1000, penalty=l2, solver=liblinear; total time=   0.6s\n",
      "[CV] END C=100, class_weight=None, max_iter=1000, penalty=l2, solver=liblinear; total time=   0.5s\n",
      "[CV] END C=100, class_weight=None, max_iter=1000, penalty=l2, solver=liblinear; total time=   0.4s\n",
      "[CV] END C=100, class_weight=None, max_iter=1000, penalty=l2, solver=liblinear; total time=   0.5s\n",
      "[CV] END C=100, class_weight=None, max_iter=1000, penalty=l2, solver=liblinear; total time=   0.5s\n"
     ]
    },
    {
     "name": "stderr",
     "output_type": "stream",
     "text": [
      "C:\\Users\\myousaf23\\anaconda3\\Lib\\site-packages\\sklearn\\linear_model\\_sag.py:349: ConvergenceWarning: The max_iter was reached which means the coef_ did not converge\n",
      "  warnings.warn(\n"
     ]
    },
    {
     "name": "stdout",
     "output_type": "stream",
     "text": [
      "[CV] END C=100, class_weight=None, max_iter=1000, penalty=l2, solver=saga; total time=   9.1s\n"
     ]
    },
    {
     "name": "stderr",
     "output_type": "stream",
     "text": [
      "C:\\Users\\myousaf23\\anaconda3\\Lib\\site-packages\\sklearn\\linear_model\\_sag.py:349: ConvergenceWarning: The max_iter was reached which means the coef_ did not converge\n",
      "  warnings.warn(\n"
     ]
    },
    {
     "name": "stdout",
     "output_type": "stream",
     "text": [
      "[CV] END C=100, class_weight=None, max_iter=1000, penalty=l2, solver=saga; total time=   9.1s\n"
     ]
    },
    {
     "name": "stderr",
     "output_type": "stream",
     "text": [
      "C:\\Users\\myousaf23\\anaconda3\\Lib\\site-packages\\sklearn\\linear_model\\_sag.py:349: ConvergenceWarning: The max_iter was reached which means the coef_ did not converge\n",
      "  warnings.warn(\n"
     ]
    },
    {
     "name": "stdout",
     "output_type": "stream",
     "text": [
      "[CV] END C=100, class_weight=None, max_iter=1000, penalty=l2, solver=saga; total time=   9.0s\n"
     ]
    },
    {
     "name": "stderr",
     "output_type": "stream",
     "text": [
      "C:\\Users\\myousaf23\\anaconda3\\Lib\\site-packages\\sklearn\\linear_model\\_sag.py:349: ConvergenceWarning: The max_iter was reached which means the coef_ did not converge\n",
      "  warnings.warn(\n"
     ]
    },
    {
     "name": "stdout",
     "output_type": "stream",
     "text": [
      "[CV] END C=100, class_weight=None, max_iter=1000, penalty=l2, solver=saga; total time=   9.0s\n"
     ]
    },
    {
     "name": "stderr",
     "output_type": "stream",
     "text": [
      "C:\\Users\\myousaf23\\anaconda3\\Lib\\site-packages\\sklearn\\linear_model\\_sag.py:349: ConvergenceWarning: The max_iter was reached which means the coef_ did not converge\n",
      "  warnings.warn(\n"
     ]
    },
    {
     "name": "stdout",
     "output_type": "stream",
     "text": [
      "[CV] END C=100, class_weight=None, max_iter=1000, penalty=l2, solver=saga; total time=   9.4s\n",
      "[CV] END C=100, class_weight=None, max_iter=1000, penalty=l1, solver=liblinear; total time=   2.2s\n",
      "[CV] END C=100, class_weight=None, max_iter=1000, penalty=l1, solver=liblinear; total time=   3.4s\n",
      "[CV] END C=100, class_weight=None, max_iter=1000, penalty=l1, solver=liblinear; total time=   2.0s\n",
      "[CV] END C=100, class_weight=None, max_iter=1000, penalty=l1, solver=liblinear; total time=   1.6s\n",
      "[CV] END C=100, class_weight=None, max_iter=1000, penalty=l1, solver=liblinear; total time=   1.6s\n"
     ]
    },
    {
     "name": "stderr",
     "output_type": "stream",
     "text": [
      "C:\\Users\\myousaf23\\anaconda3\\Lib\\site-packages\\sklearn\\linear_model\\_sag.py:349: ConvergenceWarning: The max_iter was reached which means the coef_ did not converge\n",
      "  warnings.warn(\n"
     ]
    },
    {
     "name": "stdout",
     "output_type": "stream",
     "text": [
      "[CV] END C=100, class_weight=None, max_iter=1000, penalty=l1, solver=saga; total time=  14.4s\n"
     ]
    },
    {
     "name": "stderr",
     "output_type": "stream",
     "text": [
      "C:\\Users\\myousaf23\\anaconda3\\Lib\\site-packages\\sklearn\\linear_model\\_sag.py:349: ConvergenceWarning: The max_iter was reached which means the coef_ did not converge\n",
      "  warnings.warn(\n"
     ]
    },
    {
     "name": "stdout",
     "output_type": "stream",
     "text": [
      "[CV] END C=100, class_weight=None, max_iter=1000, penalty=l1, solver=saga; total time=  14.3s\n"
     ]
    },
    {
     "name": "stderr",
     "output_type": "stream",
     "text": [
      "C:\\Users\\myousaf23\\anaconda3\\Lib\\site-packages\\sklearn\\linear_model\\_sag.py:349: ConvergenceWarning: The max_iter was reached which means the coef_ did not converge\n",
      "  warnings.warn(\n"
     ]
    },
    {
     "name": "stdout",
     "output_type": "stream",
     "text": [
      "[CV] END C=100, class_weight=None, max_iter=1000, penalty=l1, solver=saga; total time=  14.2s\n"
     ]
    },
    {
     "name": "stderr",
     "output_type": "stream",
     "text": [
      "C:\\Users\\myousaf23\\anaconda3\\Lib\\site-packages\\sklearn\\linear_model\\_sag.py:349: ConvergenceWarning: The max_iter was reached which means the coef_ did not converge\n",
      "  warnings.warn(\n"
     ]
    },
    {
     "name": "stdout",
     "output_type": "stream",
     "text": [
      "[CV] END C=100, class_weight=None, max_iter=1000, penalty=l1, solver=saga; total time=  14.5s\n"
     ]
    },
    {
     "name": "stderr",
     "output_type": "stream",
     "text": [
      "C:\\Users\\myousaf23\\anaconda3\\Lib\\site-packages\\sklearn\\linear_model\\_sag.py:349: ConvergenceWarning: The max_iter was reached which means the coef_ did not converge\n",
      "  warnings.warn(\n"
     ]
    },
    {
     "name": "stdout",
     "output_type": "stream",
     "text": [
      "[CV] END C=100, class_weight=None, max_iter=1000, penalty=l1, solver=saga; total time=  14.5s\n",
      "[CV] END C=100, class_weight=balanced, max_iter=100, penalty=l2, solver=liblinear; total time=   0.5s\n",
      "[CV] END C=100, class_weight=balanced, max_iter=100, penalty=l2, solver=liblinear; total time=   0.4s\n",
      "[CV] END C=100, class_weight=balanced, max_iter=100, penalty=l2, solver=liblinear; total time=   0.4s\n",
      "[CV] END C=100, class_weight=balanced, max_iter=100, penalty=l2, solver=liblinear; total time=   0.5s\n",
      "[CV] END C=100, class_weight=balanced, max_iter=100, penalty=l2, solver=liblinear; total time=   0.6s\n"
     ]
    },
    {
     "name": "stderr",
     "output_type": "stream",
     "text": [
      "C:\\Users\\myousaf23\\anaconda3\\Lib\\site-packages\\sklearn\\linear_model\\_sag.py:349: ConvergenceWarning: The max_iter was reached which means the coef_ did not converge\n",
      "  warnings.warn(\n"
     ]
    },
    {
     "name": "stdout",
     "output_type": "stream",
     "text": [
      "[CV] END C=100, class_weight=balanced, max_iter=100, penalty=l2, solver=saga; total time=   0.8s\n"
     ]
    },
    {
     "name": "stderr",
     "output_type": "stream",
     "text": [
      "C:\\Users\\myousaf23\\anaconda3\\Lib\\site-packages\\sklearn\\linear_model\\_sag.py:349: ConvergenceWarning: The max_iter was reached which means the coef_ did not converge\n",
      "  warnings.warn(\n"
     ]
    },
    {
     "name": "stdout",
     "output_type": "stream",
     "text": [
      "[CV] END C=100, class_weight=balanced, max_iter=100, penalty=l2, solver=saga; total time=   0.9s\n"
     ]
    },
    {
     "name": "stderr",
     "output_type": "stream",
     "text": [
      "C:\\Users\\myousaf23\\anaconda3\\Lib\\site-packages\\sklearn\\linear_model\\_sag.py:349: ConvergenceWarning: The max_iter was reached which means the coef_ did not converge\n",
      "  warnings.warn(\n"
     ]
    },
    {
     "name": "stdout",
     "output_type": "stream",
     "text": [
      "[CV] END C=100, class_weight=balanced, max_iter=100, penalty=l2, solver=saga; total time=   0.9s\n"
     ]
    },
    {
     "name": "stderr",
     "output_type": "stream",
     "text": [
      "C:\\Users\\myousaf23\\anaconda3\\Lib\\site-packages\\sklearn\\linear_model\\_sag.py:349: ConvergenceWarning: The max_iter was reached which means the coef_ did not converge\n",
      "  warnings.warn(\n"
     ]
    },
    {
     "name": "stdout",
     "output_type": "stream",
     "text": [
      "[CV] END C=100, class_weight=balanced, max_iter=100, penalty=l2, solver=saga; total time=   0.9s\n"
     ]
    },
    {
     "name": "stderr",
     "output_type": "stream",
     "text": [
      "C:\\Users\\myousaf23\\anaconda3\\Lib\\site-packages\\sklearn\\linear_model\\_sag.py:349: ConvergenceWarning: The max_iter was reached which means the coef_ did not converge\n",
      "  warnings.warn(\n"
     ]
    },
    {
     "name": "stdout",
     "output_type": "stream",
     "text": [
      "[CV] END C=100, class_weight=balanced, max_iter=100, penalty=l2, solver=saga; total time=   0.9s\n",
      "[CV] END C=100, class_weight=balanced, max_iter=100, penalty=l1, solver=liblinear; total time=   1.9s\n",
      "[CV] END C=100, class_weight=balanced, max_iter=100, penalty=l1, solver=liblinear; total time=   3.5s\n",
      "[CV] END C=100, class_weight=balanced, max_iter=100, penalty=l1, solver=liblinear; total time=   2.0s\n",
      "[CV] END C=100, class_weight=balanced, max_iter=100, penalty=l1, solver=liblinear; total time=   1.6s\n",
      "[CV] END C=100, class_weight=balanced, max_iter=100, penalty=l1, solver=liblinear; total time=   1.3s\n"
     ]
    },
    {
     "name": "stderr",
     "output_type": "stream",
     "text": [
      "C:\\Users\\myousaf23\\anaconda3\\Lib\\site-packages\\sklearn\\linear_model\\_sag.py:349: ConvergenceWarning: The max_iter was reached which means the coef_ did not converge\n",
      "  warnings.warn(\n"
     ]
    },
    {
     "name": "stdout",
     "output_type": "stream",
     "text": [
      "[CV] END C=100, class_weight=balanced, max_iter=100, penalty=l1, solver=saga; total time=   1.4s\n"
     ]
    },
    {
     "name": "stderr",
     "output_type": "stream",
     "text": [
      "C:\\Users\\myousaf23\\anaconda3\\Lib\\site-packages\\sklearn\\linear_model\\_sag.py:349: ConvergenceWarning: The max_iter was reached which means the coef_ did not converge\n",
      "  warnings.warn(\n"
     ]
    },
    {
     "name": "stdout",
     "output_type": "stream",
     "text": [
      "[CV] END C=100, class_weight=balanced, max_iter=100, penalty=l1, solver=saga; total time=   1.5s\n"
     ]
    },
    {
     "name": "stderr",
     "output_type": "stream",
     "text": [
      "C:\\Users\\myousaf23\\anaconda3\\Lib\\site-packages\\sklearn\\linear_model\\_sag.py:349: ConvergenceWarning: The max_iter was reached which means the coef_ did not converge\n",
      "  warnings.warn(\n"
     ]
    },
    {
     "name": "stdout",
     "output_type": "stream",
     "text": [
      "[CV] END C=100, class_weight=balanced, max_iter=100, penalty=l1, solver=saga; total time=   1.5s\n"
     ]
    },
    {
     "name": "stderr",
     "output_type": "stream",
     "text": [
      "C:\\Users\\myousaf23\\anaconda3\\Lib\\site-packages\\sklearn\\linear_model\\_sag.py:349: ConvergenceWarning: The max_iter was reached which means the coef_ did not converge\n",
      "  warnings.warn(\n"
     ]
    },
    {
     "name": "stdout",
     "output_type": "stream",
     "text": [
      "[CV] END C=100, class_weight=balanced, max_iter=100, penalty=l1, solver=saga; total time=   1.5s\n"
     ]
    },
    {
     "name": "stderr",
     "output_type": "stream",
     "text": [
      "C:\\Users\\myousaf23\\anaconda3\\Lib\\site-packages\\sklearn\\linear_model\\_sag.py:349: ConvergenceWarning: The max_iter was reached which means the coef_ did not converge\n",
      "  warnings.warn(\n"
     ]
    },
    {
     "name": "stdout",
     "output_type": "stream",
     "text": [
      "[CV] END C=100, class_weight=balanced, max_iter=100, penalty=l1, solver=saga; total time=   1.5s\n",
      "[CV] END C=100, class_weight=balanced, max_iter=200, penalty=l2, solver=liblinear; total time=   0.6s\n",
      "[CV] END C=100, class_weight=balanced, max_iter=200, penalty=l2, solver=liblinear; total time=   0.5s\n",
      "[CV] END C=100, class_weight=balanced, max_iter=200, penalty=l2, solver=liblinear; total time=   0.5s\n",
      "[CV] END C=100, class_weight=balanced, max_iter=200, penalty=l2, solver=liblinear; total time=   0.5s\n",
      "[CV] END C=100, class_weight=balanced, max_iter=200, penalty=l2, solver=liblinear; total time=   0.5s\n"
     ]
    },
    {
     "name": "stderr",
     "output_type": "stream",
     "text": [
      "C:\\Users\\myousaf23\\anaconda3\\Lib\\site-packages\\sklearn\\linear_model\\_sag.py:349: ConvergenceWarning: The max_iter was reached which means the coef_ did not converge\n",
      "  warnings.warn(\n"
     ]
    },
    {
     "name": "stdout",
     "output_type": "stream",
     "text": [
      "[CV] END C=100, class_weight=balanced, max_iter=200, penalty=l2, solver=saga; total time=   1.8s\n"
     ]
    },
    {
     "name": "stderr",
     "output_type": "stream",
     "text": [
      "C:\\Users\\myousaf23\\anaconda3\\Lib\\site-packages\\sklearn\\linear_model\\_sag.py:349: ConvergenceWarning: The max_iter was reached which means the coef_ did not converge\n",
      "  warnings.warn(\n"
     ]
    },
    {
     "name": "stdout",
     "output_type": "stream",
     "text": [
      "[CV] END C=100, class_weight=balanced, max_iter=200, penalty=l2, solver=saga; total time=   1.8s\n"
     ]
    },
    {
     "name": "stderr",
     "output_type": "stream",
     "text": [
      "C:\\Users\\myousaf23\\anaconda3\\Lib\\site-packages\\sklearn\\linear_model\\_sag.py:349: ConvergenceWarning: The max_iter was reached which means the coef_ did not converge\n",
      "  warnings.warn(\n"
     ]
    },
    {
     "name": "stdout",
     "output_type": "stream",
     "text": [
      "[CV] END C=100, class_weight=balanced, max_iter=200, penalty=l2, solver=saga; total time=   1.8s\n"
     ]
    },
    {
     "name": "stderr",
     "output_type": "stream",
     "text": [
      "C:\\Users\\myousaf23\\anaconda3\\Lib\\site-packages\\sklearn\\linear_model\\_sag.py:349: ConvergenceWarning: The max_iter was reached which means the coef_ did not converge\n",
      "  warnings.warn(\n"
     ]
    },
    {
     "name": "stdout",
     "output_type": "stream",
     "text": [
      "[CV] END C=100, class_weight=balanced, max_iter=200, penalty=l2, solver=saga; total time=   1.7s\n"
     ]
    },
    {
     "name": "stderr",
     "output_type": "stream",
     "text": [
      "C:\\Users\\myousaf23\\anaconda3\\Lib\\site-packages\\sklearn\\linear_model\\_sag.py:349: ConvergenceWarning: The max_iter was reached which means the coef_ did not converge\n",
      "  warnings.warn(\n"
     ]
    },
    {
     "name": "stdout",
     "output_type": "stream",
     "text": [
      "[CV] END C=100, class_weight=balanced, max_iter=200, penalty=l2, solver=saga; total time=   1.8s\n",
      "[CV] END C=100, class_weight=balanced, max_iter=200, penalty=l1, solver=liblinear; total time=   2.2s\n",
      "[CV] END C=100, class_weight=balanced, max_iter=200, penalty=l1, solver=liblinear; total time=   3.6s\n",
      "[CV] END C=100, class_weight=balanced, max_iter=200, penalty=l1, solver=liblinear; total time=   2.1s\n",
      "[CV] END C=100, class_weight=balanced, max_iter=200, penalty=l1, solver=liblinear; total time=   1.7s\n",
      "[CV] END C=100, class_weight=balanced, max_iter=200, penalty=l1, solver=liblinear; total time=   1.4s\n"
     ]
    },
    {
     "name": "stderr",
     "output_type": "stream",
     "text": [
      "C:\\Users\\myousaf23\\anaconda3\\Lib\\site-packages\\sklearn\\linear_model\\_sag.py:349: ConvergenceWarning: The max_iter was reached which means the coef_ did not converge\n",
      "  warnings.warn(\n"
     ]
    },
    {
     "name": "stdout",
     "output_type": "stream",
     "text": [
      "[CV] END C=100, class_weight=balanced, max_iter=200, penalty=l1, solver=saga; total time=   2.9s\n"
     ]
    },
    {
     "name": "stderr",
     "output_type": "stream",
     "text": [
      "C:\\Users\\myousaf23\\anaconda3\\Lib\\site-packages\\sklearn\\linear_model\\_sag.py:349: ConvergenceWarning: The max_iter was reached which means the coef_ did not converge\n",
      "  warnings.warn(\n"
     ]
    },
    {
     "name": "stdout",
     "output_type": "stream",
     "text": [
      "[CV] END C=100, class_weight=balanced, max_iter=200, penalty=l1, solver=saga; total time=   3.0s\n"
     ]
    },
    {
     "name": "stderr",
     "output_type": "stream",
     "text": [
      "C:\\Users\\myousaf23\\anaconda3\\Lib\\site-packages\\sklearn\\linear_model\\_sag.py:349: ConvergenceWarning: The max_iter was reached which means the coef_ did not converge\n",
      "  warnings.warn(\n"
     ]
    },
    {
     "name": "stdout",
     "output_type": "stream",
     "text": [
      "[CV] END C=100, class_weight=balanced, max_iter=200, penalty=l1, solver=saga; total time=   2.9s\n"
     ]
    },
    {
     "name": "stderr",
     "output_type": "stream",
     "text": [
      "C:\\Users\\myousaf23\\anaconda3\\Lib\\site-packages\\sklearn\\linear_model\\_sag.py:349: ConvergenceWarning: The max_iter was reached which means the coef_ did not converge\n",
      "  warnings.warn(\n"
     ]
    },
    {
     "name": "stdout",
     "output_type": "stream",
     "text": [
      "[CV] END C=100, class_weight=balanced, max_iter=200, penalty=l1, solver=saga; total time=   2.9s\n"
     ]
    },
    {
     "name": "stderr",
     "output_type": "stream",
     "text": [
      "C:\\Users\\myousaf23\\anaconda3\\Lib\\site-packages\\sklearn\\linear_model\\_sag.py:349: ConvergenceWarning: The max_iter was reached which means the coef_ did not converge\n",
      "  warnings.warn(\n"
     ]
    },
    {
     "name": "stdout",
     "output_type": "stream",
     "text": [
      "[CV] END C=100, class_weight=balanced, max_iter=200, penalty=l1, solver=saga; total time=   3.0s\n",
      "[CV] END C=100, class_weight=balanced, max_iter=500, penalty=l2, solver=liblinear; total time=   0.5s\n",
      "[CV] END C=100, class_weight=balanced, max_iter=500, penalty=l2, solver=liblinear; total time=   0.5s\n",
      "[CV] END C=100, class_weight=balanced, max_iter=500, penalty=l2, solver=liblinear; total time=   0.4s\n",
      "[CV] END C=100, class_weight=balanced, max_iter=500, penalty=l2, solver=liblinear; total time=   0.5s\n",
      "[CV] END C=100, class_weight=balanced, max_iter=500, penalty=l2, solver=liblinear; total time=   0.5s\n"
     ]
    },
    {
     "name": "stderr",
     "output_type": "stream",
     "text": [
      "C:\\Users\\myousaf23\\anaconda3\\Lib\\site-packages\\sklearn\\linear_model\\_sag.py:349: ConvergenceWarning: The max_iter was reached which means the coef_ did not converge\n",
      "  warnings.warn(\n"
     ]
    },
    {
     "name": "stdout",
     "output_type": "stream",
     "text": [
      "[CV] END C=100, class_weight=balanced, max_iter=500, penalty=l2, solver=saga; total time=   4.5s\n"
     ]
    },
    {
     "name": "stderr",
     "output_type": "stream",
     "text": [
      "C:\\Users\\myousaf23\\anaconda3\\Lib\\site-packages\\sklearn\\linear_model\\_sag.py:349: ConvergenceWarning: The max_iter was reached which means the coef_ did not converge\n",
      "  warnings.warn(\n"
     ]
    },
    {
     "name": "stdout",
     "output_type": "stream",
     "text": [
      "[CV] END C=100, class_weight=balanced, max_iter=500, penalty=l2, solver=saga; total time=   4.6s\n"
     ]
    },
    {
     "name": "stderr",
     "output_type": "stream",
     "text": [
      "C:\\Users\\myousaf23\\anaconda3\\Lib\\site-packages\\sklearn\\linear_model\\_sag.py:349: ConvergenceWarning: The max_iter was reached which means the coef_ did not converge\n",
      "  warnings.warn(\n"
     ]
    },
    {
     "name": "stdout",
     "output_type": "stream",
     "text": [
      "[CV] END C=100, class_weight=balanced, max_iter=500, penalty=l2, solver=saga; total time=   4.5s\n"
     ]
    },
    {
     "name": "stderr",
     "output_type": "stream",
     "text": [
      "C:\\Users\\myousaf23\\anaconda3\\Lib\\site-packages\\sklearn\\linear_model\\_sag.py:349: ConvergenceWarning: The max_iter was reached which means the coef_ did not converge\n",
      "  warnings.warn(\n"
     ]
    },
    {
     "name": "stdout",
     "output_type": "stream",
     "text": [
      "[CV] END C=100, class_weight=balanced, max_iter=500, penalty=l2, solver=saga; total time=   4.6s\n"
     ]
    },
    {
     "name": "stderr",
     "output_type": "stream",
     "text": [
      "C:\\Users\\myousaf23\\anaconda3\\Lib\\site-packages\\sklearn\\linear_model\\_sag.py:349: ConvergenceWarning: The max_iter was reached which means the coef_ did not converge\n",
      "  warnings.warn(\n"
     ]
    },
    {
     "name": "stdout",
     "output_type": "stream",
     "text": [
      "[CV] END C=100, class_weight=balanced, max_iter=500, penalty=l2, solver=saga; total time=   4.6s\n",
      "[CV] END C=100, class_weight=balanced, max_iter=500, penalty=l1, solver=liblinear; total time=   2.2s\n",
      "[CV] END C=100, class_weight=balanced, max_iter=500, penalty=l1, solver=liblinear; total time=   3.5s\n",
      "[CV] END C=100, class_weight=balanced, max_iter=500, penalty=l1, solver=liblinear; total time=   1.9s\n",
      "[CV] END C=100, class_weight=balanced, max_iter=500, penalty=l1, solver=liblinear; total time=   1.7s\n",
      "[CV] END C=100, class_weight=balanced, max_iter=500, penalty=l1, solver=liblinear; total time=   1.2s\n"
     ]
    },
    {
     "name": "stderr",
     "output_type": "stream",
     "text": [
      "C:\\Users\\myousaf23\\anaconda3\\Lib\\site-packages\\sklearn\\linear_model\\_sag.py:349: ConvergenceWarning: The max_iter was reached which means the coef_ did not converge\n",
      "  warnings.warn(\n"
     ]
    },
    {
     "name": "stdout",
     "output_type": "stream",
     "text": [
      "[CV] END C=100, class_weight=balanced, max_iter=500, penalty=l1, solver=saga; total time=   7.4s\n"
     ]
    },
    {
     "name": "stderr",
     "output_type": "stream",
     "text": [
      "C:\\Users\\myousaf23\\anaconda3\\Lib\\site-packages\\sklearn\\linear_model\\_sag.py:349: ConvergenceWarning: The max_iter was reached which means the coef_ did not converge\n",
      "  warnings.warn(\n"
     ]
    },
    {
     "name": "stdout",
     "output_type": "stream",
     "text": [
      "[CV] END C=100, class_weight=balanced, max_iter=500, penalty=l1, solver=saga; total time=   7.4s\n"
     ]
    },
    {
     "name": "stderr",
     "output_type": "stream",
     "text": [
      "C:\\Users\\myousaf23\\anaconda3\\Lib\\site-packages\\sklearn\\linear_model\\_sag.py:349: ConvergenceWarning: The max_iter was reached which means the coef_ did not converge\n",
      "  warnings.warn(\n"
     ]
    },
    {
     "name": "stdout",
     "output_type": "stream",
     "text": [
      "[CV] END C=100, class_weight=balanced, max_iter=500, penalty=l1, solver=saga; total time=   7.3s\n"
     ]
    },
    {
     "name": "stderr",
     "output_type": "stream",
     "text": [
      "C:\\Users\\myousaf23\\anaconda3\\Lib\\site-packages\\sklearn\\linear_model\\_sag.py:349: ConvergenceWarning: The max_iter was reached which means the coef_ did not converge\n",
      "  warnings.warn(\n"
     ]
    },
    {
     "name": "stdout",
     "output_type": "stream",
     "text": [
      "[CV] END C=100, class_weight=balanced, max_iter=500, penalty=l1, solver=saga; total time=   7.4s\n"
     ]
    },
    {
     "name": "stderr",
     "output_type": "stream",
     "text": [
      "C:\\Users\\myousaf23\\anaconda3\\Lib\\site-packages\\sklearn\\linear_model\\_sag.py:349: ConvergenceWarning: The max_iter was reached which means the coef_ did not converge\n",
      "  warnings.warn(\n"
     ]
    },
    {
     "name": "stdout",
     "output_type": "stream",
     "text": [
      "[CV] END C=100, class_weight=balanced, max_iter=500, penalty=l1, solver=saga; total time=   7.3s\n",
      "[CV] END C=100, class_weight=balanced, max_iter=700, penalty=l2, solver=liblinear; total time=   0.6s\n",
      "[CV] END C=100, class_weight=balanced, max_iter=700, penalty=l2, solver=liblinear; total time=   0.7s\n",
      "[CV] END C=100, class_weight=balanced, max_iter=700, penalty=l2, solver=liblinear; total time=   0.5s\n",
      "[CV] END C=100, class_weight=balanced, max_iter=700, penalty=l2, solver=liblinear; total time=   0.6s\n",
      "[CV] END C=100, class_weight=balanced, max_iter=700, penalty=l2, solver=liblinear; total time=   0.6s\n"
     ]
    },
    {
     "name": "stderr",
     "output_type": "stream",
     "text": [
      "C:\\Users\\myousaf23\\anaconda3\\Lib\\site-packages\\sklearn\\linear_model\\_sag.py:349: ConvergenceWarning: The max_iter was reached which means the coef_ did not converge\n",
      "  warnings.warn(\n"
     ]
    },
    {
     "name": "stdout",
     "output_type": "stream",
     "text": [
      "[CV] END C=100, class_weight=balanced, max_iter=700, penalty=l2, solver=saga; total time=   6.2s\n"
     ]
    },
    {
     "name": "stderr",
     "output_type": "stream",
     "text": [
      "C:\\Users\\myousaf23\\anaconda3\\Lib\\site-packages\\sklearn\\linear_model\\_sag.py:349: ConvergenceWarning: The max_iter was reached which means the coef_ did not converge\n",
      "  warnings.warn(\n"
     ]
    },
    {
     "name": "stdout",
     "output_type": "stream",
     "text": [
      "[CV] END C=100, class_weight=balanced, max_iter=700, penalty=l2, solver=saga; total time=   6.4s\n"
     ]
    },
    {
     "name": "stderr",
     "output_type": "stream",
     "text": [
      "C:\\Users\\myousaf23\\anaconda3\\Lib\\site-packages\\sklearn\\linear_model\\_sag.py:349: ConvergenceWarning: The max_iter was reached which means the coef_ did not converge\n",
      "  warnings.warn(\n"
     ]
    },
    {
     "name": "stdout",
     "output_type": "stream",
     "text": [
      "[CV] END C=100, class_weight=balanced, max_iter=700, penalty=l2, solver=saga; total time=   6.4s\n"
     ]
    },
    {
     "name": "stderr",
     "output_type": "stream",
     "text": [
      "C:\\Users\\myousaf23\\anaconda3\\Lib\\site-packages\\sklearn\\linear_model\\_sag.py:349: ConvergenceWarning: The max_iter was reached which means the coef_ did not converge\n",
      "  warnings.warn(\n"
     ]
    },
    {
     "name": "stdout",
     "output_type": "stream",
     "text": [
      "[CV] END C=100, class_weight=balanced, max_iter=700, penalty=l2, solver=saga; total time=   6.4s\n"
     ]
    },
    {
     "name": "stderr",
     "output_type": "stream",
     "text": [
      "C:\\Users\\myousaf23\\anaconda3\\Lib\\site-packages\\sklearn\\linear_model\\_sag.py:349: ConvergenceWarning: The max_iter was reached which means the coef_ did not converge\n",
      "  warnings.warn(\n"
     ]
    },
    {
     "name": "stdout",
     "output_type": "stream",
     "text": [
      "[CV] END C=100, class_weight=balanced, max_iter=700, penalty=l2, solver=saga; total time=   6.4s\n",
      "[CV] END C=100, class_weight=balanced, max_iter=700, penalty=l1, solver=liblinear; total time=   2.6s\n",
      "[CV] END C=100, class_weight=balanced, max_iter=700, penalty=l1, solver=liblinear; total time=   3.4s\n",
      "[CV] END C=100, class_weight=balanced, max_iter=700, penalty=l1, solver=liblinear; total time=   2.0s\n",
      "[CV] END C=100, class_weight=balanced, max_iter=700, penalty=l1, solver=liblinear; total time=   1.8s\n",
      "[CV] END C=100, class_weight=balanced, max_iter=700, penalty=l1, solver=liblinear; total time=   1.6s\n"
     ]
    },
    {
     "name": "stderr",
     "output_type": "stream",
     "text": [
      "C:\\Users\\myousaf23\\anaconda3\\Lib\\site-packages\\sklearn\\linear_model\\_sag.py:349: ConvergenceWarning: The max_iter was reached which means the coef_ did not converge\n",
      "  warnings.warn(\n"
     ]
    },
    {
     "name": "stdout",
     "output_type": "stream",
     "text": [
      "[CV] END C=100, class_weight=balanced, max_iter=700, penalty=l1, solver=saga; total time=  10.3s\n"
     ]
    },
    {
     "name": "stderr",
     "output_type": "stream",
     "text": [
      "C:\\Users\\myousaf23\\anaconda3\\Lib\\site-packages\\sklearn\\linear_model\\_sag.py:349: ConvergenceWarning: The max_iter was reached which means the coef_ did not converge\n",
      "  warnings.warn(\n"
     ]
    },
    {
     "name": "stdout",
     "output_type": "stream",
     "text": [
      "[CV] END C=100, class_weight=balanced, max_iter=700, penalty=l1, solver=saga; total time=  10.7s\n"
     ]
    },
    {
     "name": "stderr",
     "output_type": "stream",
     "text": [
      "C:\\Users\\myousaf23\\anaconda3\\Lib\\site-packages\\sklearn\\linear_model\\_sag.py:349: ConvergenceWarning: The max_iter was reached which means the coef_ did not converge\n",
      "  warnings.warn(\n"
     ]
    },
    {
     "name": "stdout",
     "output_type": "stream",
     "text": [
      "[CV] END C=100, class_weight=balanced, max_iter=700, penalty=l1, solver=saga; total time=  10.2s\n"
     ]
    },
    {
     "name": "stderr",
     "output_type": "stream",
     "text": [
      "C:\\Users\\myousaf23\\anaconda3\\Lib\\site-packages\\sklearn\\linear_model\\_sag.py:349: ConvergenceWarning: The max_iter was reached which means the coef_ did not converge\n",
      "  warnings.warn(\n"
     ]
    },
    {
     "name": "stdout",
     "output_type": "stream",
     "text": [
      "[CV] END C=100, class_weight=balanced, max_iter=700, penalty=l1, solver=saga; total time=  10.1s\n"
     ]
    },
    {
     "name": "stderr",
     "output_type": "stream",
     "text": [
      "C:\\Users\\myousaf23\\anaconda3\\Lib\\site-packages\\sklearn\\linear_model\\_sag.py:349: ConvergenceWarning: The max_iter was reached which means the coef_ did not converge\n",
      "  warnings.warn(\n"
     ]
    },
    {
     "name": "stdout",
     "output_type": "stream",
     "text": [
      "[CV] END C=100, class_weight=balanced, max_iter=700, penalty=l1, solver=saga; total time=  10.1s\n",
      "[CV] END C=100, class_weight=balanced, max_iter=1000, penalty=l2, solver=liblinear; total time=   0.6s\n",
      "[CV] END C=100, class_weight=balanced, max_iter=1000, penalty=l2, solver=liblinear; total time=   0.6s\n",
      "[CV] END C=100, class_weight=balanced, max_iter=1000, penalty=l2, solver=liblinear; total time=   0.5s\n",
      "[CV] END C=100, class_weight=balanced, max_iter=1000, penalty=l2, solver=liblinear; total time=   0.5s\n",
      "[CV] END C=100, class_weight=balanced, max_iter=1000, penalty=l2, solver=liblinear; total time=   0.6s\n"
     ]
    },
    {
     "name": "stderr",
     "output_type": "stream",
     "text": [
      "C:\\Users\\myousaf23\\anaconda3\\Lib\\site-packages\\sklearn\\linear_model\\_sag.py:349: ConvergenceWarning: The max_iter was reached which means the coef_ did not converge\n",
      "  warnings.warn(\n"
     ]
    },
    {
     "name": "stdout",
     "output_type": "stream",
     "text": [
      "[CV] END C=100, class_weight=balanced, max_iter=1000, penalty=l2, solver=saga; total time=   8.9s\n"
     ]
    },
    {
     "name": "stderr",
     "output_type": "stream",
     "text": [
      "C:\\Users\\myousaf23\\anaconda3\\Lib\\site-packages\\sklearn\\linear_model\\_sag.py:349: ConvergenceWarning: The max_iter was reached which means the coef_ did not converge\n",
      "  warnings.warn(\n"
     ]
    },
    {
     "name": "stdout",
     "output_type": "stream",
     "text": [
      "[CV] END C=100, class_weight=balanced, max_iter=1000, penalty=l2, solver=saga; total time=   8.6s\n"
     ]
    },
    {
     "name": "stderr",
     "output_type": "stream",
     "text": [
      "C:\\Users\\myousaf23\\anaconda3\\Lib\\site-packages\\sklearn\\linear_model\\_sag.py:349: ConvergenceWarning: The max_iter was reached which means the coef_ did not converge\n",
      "  warnings.warn(\n"
     ]
    },
    {
     "name": "stdout",
     "output_type": "stream",
     "text": [
      "[CV] END C=100, class_weight=balanced, max_iter=1000, penalty=l2, solver=saga; total time=   8.5s\n"
     ]
    },
    {
     "name": "stderr",
     "output_type": "stream",
     "text": [
      "C:\\Users\\myousaf23\\anaconda3\\Lib\\site-packages\\sklearn\\linear_model\\_sag.py:349: ConvergenceWarning: The max_iter was reached which means the coef_ did not converge\n",
      "  warnings.warn(\n"
     ]
    },
    {
     "name": "stdout",
     "output_type": "stream",
     "text": [
      "[CV] END C=100, class_weight=balanced, max_iter=1000, penalty=l2, solver=saga; total time=   8.4s\n"
     ]
    },
    {
     "name": "stderr",
     "output_type": "stream",
     "text": [
      "C:\\Users\\myousaf23\\anaconda3\\Lib\\site-packages\\sklearn\\linear_model\\_sag.py:349: ConvergenceWarning: The max_iter was reached which means the coef_ did not converge\n",
      "  warnings.warn(\n"
     ]
    },
    {
     "name": "stdout",
     "output_type": "stream",
     "text": [
      "[CV] END C=100, class_weight=balanced, max_iter=1000, penalty=l2, solver=saga; total time=   8.6s\n",
      "[CV] END C=100, class_weight=balanced, max_iter=1000, penalty=l1, solver=liblinear; total time=   2.0s\n",
      "[CV] END C=100, class_weight=balanced, max_iter=1000, penalty=l1, solver=liblinear; total time=   3.4s\n",
      "[CV] END C=100, class_weight=balanced, max_iter=1000, penalty=l1, solver=liblinear; total time=   1.8s\n",
      "[CV] END C=100, class_weight=balanced, max_iter=1000, penalty=l1, solver=liblinear; total time=   1.6s\n",
      "[CV] END C=100, class_weight=balanced, max_iter=1000, penalty=l1, solver=liblinear; total time=   1.3s\n"
     ]
    },
    {
     "name": "stderr",
     "output_type": "stream",
     "text": [
      "C:\\Users\\myousaf23\\anaconda3\\Lib\\site-packages\\sklearn\\linear_model\\_sag.py:349: ConvergenceWarning: The max_iter was reached which means the coef_ did not converge\n",
      "  warnings.warn(\n"
     ]
    },
    {
     "name": "stdout",
     "output_type": "stream",
     "text": [
      "[CV] END C=100, class_weight=balanced, max_iter=1000, penalty=l1, solver=saga; total time=  14.4s\n"
     ]
    },
    {
     "name": "stderr",
     "output_type": "stream",
     "text": [
      "C:\\Users\\myousaf23\\anaconda3\\Lib\\site-packages\\sklearn\\linear_model\\_sag.py:349: ConvergenceWarning: The max_iter was reached which means the coef_ did not converge\n",
      "  warnings.warn(\n"
     ]
    },
    {
     "name": "stdout",
     "output_type": "stream",
     "text": [
      "[CV] END C=100, class_weight=balanced, max_iter=1000, penalty=l1, solver=saga; total time=  14.3s\n"
     ]
    },
    {
     "name": "stderr",
     "output_type": "stream",
     "text": [
      "C:\\Users\\myousaf23\\anaconda3\\Lib\\site-packages\\sklearn\\linear_model\\_sag.py:349: ConvergenceWarning: The max_iter was reached which means the coef_ did not converge\n",
      "  warnings.warn(\n"
     ]
    },
    {
     "name": "stdout",
     "output_type": "stream",
     "text": [
      "[CV] END C=100, class_weight=balanced, max_iter=1000, penalty=l1, solver=saga; total time=  14.7s\n"
     ]
    },
    {
     "name": "stderr",
     "output_type": "stream",
     "text": [
      "C:\\Users\\myousaf23\\anaconda3\\Lib\\site-packages\\sklearn\\linear_model\\_sag.py:349: ConvergenceWarning: The max_iter was reached which means the coef_ did not converge\n",
      "  warnings.warn(\n"
     ]
    },
    {
     "name": "stdout",
     "output_type": "stream",
     "text": [
      "[CV] END C=100, class_weight=balanced, max_iter=1000, penalty=l1, solver=saga; total time=  14.5s\n"
     ]
    },
    {
     "name": "stderr",
     "output_type": "stream",
     "text": [
      "C:\\Users\\myousaf23\\anaconda3\\Lib\\site-packages\\sklearn\\linear_model\\_sag.py:349: ConvergenceWarning: The max_iter was reached which means the coef_ did not converge\n",
      "  warnings.warn(\n"
     ]
    },
    {
     "name": "stdout",
     "output_type": "stream",
     "text": [
      "[CV] END C=100, class_weight=balanced, max_iter=1000, penalty=l1, solver=saga; total time=  14.4s\n",
      "Best Parameters: {'C': 10, 'class_weight': 'balanced', 'max_iter': 200, 'penalty': 'l1', 'solver': 'saga'}\n",
      "Best model information has been saved to 'best_model_info_logreg_protbert.txt'\n"
     ]
    },
    {
     "name": "stderr",
     "output_type": "stream",
     "text": [
      "C:\\Users\\myousaf23\\anaconda3\\Lib\\site-packages\\sklearn\\linear_model\\_sag.py:349: ConvergenceWarning: The max_iter was reached which means the coef_ did not converge\n",
      "  warnings.warn(\n"
     ]
    },
    {
     "data": {
      "text/plain": [
       "['best_logreg_protbert_model.pkl']"
      ]
     },
     "execution_count": 5,
     "metadata": {},
     "output_type": "execute_result"
    }
   ],
   "source": [
    "# Step 4: Define hyperparameter grid\n",
    "param_grid = {\n",
    "    'C': [0.001, 0.01, 0.1, 1, 10, 100],           # Regularization strength (inverse of penalty), [0.001, 0.01, 0.1, 1, 10, 100], default value=1.0\n",
    "    'penalty': ['l2', 'l1'],               # Regularization type (l1 = Lasso, l2 = Ridge)['l1', 'l2'] (use 'elasticnet' with caution), default=l2\n",
    "    'solver': ['liblinear', 'saga'],               # Solver that supports l1 and l2, ['liblinear', 'saga'] (for l1 or imbalanced data), default= lbfgs\n",
    "    'max_iter': [100, 200, 500, 700, 1000],           # Maximum number of iterations to converge, [100, 200, 500, 1000], default =100\n",
    "    'class_weight': [None, 'balanced']     # Handles class imbalance, [None, 'balanced'], default=none\n",
    "}\n",
    "\n",
    "# Step 5: Grid Search with Cross-Validation\n",
    "logreg = LogisticRegression()\n",
    "cv = StratifiedKFold(n_splits=5, shuffle=True, random_state=42)\n",
    "grid_search = GridSearchCV(logreg, param_grid, cv=cv, scoring='accuracy', n_jobs=1, verbose=2)\n",
    "grid_search.fit(X_train, y_train)\n",
    "\n",
    "# Step 6: Best model\n",
    "best_logreg_model = grid_search.best_estimator_\n",
    "print(\"Best Parameters:\", grid_search.best_params_)\n",
    "\n",
    "# Step 6: Use the best model from GridSearchCV\n",
    "best_logreg_model = grid_search.best_estimator_\n",
    "\n",
    "# Save best hyperparameters to a file\n",
    "with open('best_model_info_logreg_protbert.txt', 'w') as f:\n",
    "    f.write(\"Best Hyperparameters:\\n\")\n",
    "    for param, value in grid_search.best_params_.items():\n",
    "        f.write(f\"{param}: {value}\\n\")\n",
    "\n",
    "print(\"Best model information has been saved to 'best_model_info_logreg_protbert.txt'\")\n",
    "\n",
    "#save best model to a file\n",
    "joblib.dump(best_logreg_model, \"best_logreg_protbert_model.pkl\")"
   ]
  },
  {
   "cell_type": "code",
   "execution_count": 6,
   "id": "6a002915-4bff-4965-99f3-ad13370b5ec5",
   "metadata": {},
   "outputs": [
    {
     "name": "stdout",
     "output_type": "stream",
     "text": [
      "logreg Test Accuracy: 78.92%\n",
      "Confusion Matrix (Test Data):\n",
      " [[69 22]\n",
      " [17 77]]\n",
      "Test Data - Sensitivity: 0.8191489361702128 Specificity: 0.7582417582417582\n"
     ]
    },
    {
     "name": "stderr",
     "output_type": "stream",
     "text": [
      "C:\\Users\\myousaf23\\anaconda3\\Lib\\site-packages\\sklearn\\linear_model\\_sag.py:349: ConvergenceWarning: The max_iter was reached which means the coef_ did not converge\n",
      "  warnings.warn(\n"
     ]
    }
   ],
   "source": [
    "# Step 8: Fit the model on the training data\n",
    "best_logreg_model.fit(X_train, y_train)\n",
    "\n",
    "# Evaluate on the test dataset\n",
    "y_test_pred = best_logreg_model.predict(X_test)\n",
    "y_test_prob = best_logreg_model.predict_proba(X_test)[:, 1]\n",
    "\n",
    "# Calculate and print accuracy, classification reports, and confusion matrices\n",
    "test_accuracy = accuracy_score(y_test, y_test_pred)\n",
    "print(f\"logreg Test Accuracy: {test_accuracy * 100:.2f}%\")\n",
    "\n",
    "# Confusion Matrices\n",
    "confusion_matrix_test = confusion_matrix(y_test, y_test_pred)\n",
    "print(\"Confusion Matrix (Test Data):\\n\", confusion_matrix_test)\n",
    "\n",
    "# Sensitivity and Specificity calculation\n",
    "def calculate_sensitivity_specificity(conf_matrix):\n",
    "    tn, fp, fn, tp = conf_matrix.ravel()\n",
    "    sensitivity = tp / (tp + fn)\n",
    "    specificity = tn / (tn + fp)\n",
    "    return sensitivity, specificity\n",
    "\n",
    "sensitivity_test, specificity_test = calculate_sensitivity_specificity(confusion_matrix_test)\n",
    "print(\"Test Data - Sensitivity:\", sensitivity_test, \"Specificity:\", specificity_test)"
   ]
  },
  {
   "cell_type": "code",
   "execution_count": 7,
   "id": "3d48155d-6305-43d5-8b9b-510b597e84b5",
   "metadata": {},
   "outputs": [
    {
     "name": "stdout",
     "output_type": "stream",
     "text": [
      "Confusion Matrix (Test Data):\n",
      "TN: 69  FP: 22\n",
      "FN: 17  TP: 77\n"
     ]
    }
   ],
   "source": [
    "print(\"Confusion Matrix (Test Data):\")\n",
    "print(f\"TN: {confusion_matrix_test[0,0]}  FP: {confusion_matrix_test[0,1]}\")\n",
    "print(f\"FN: {confusion_matrix_test[1,0]}  TP: {confusion_matrix_test[1,1]}\")"
   ]
  },
  {
   "cell_type": "code",
   "execution_count": 8,
   "id": "50d27f0a-6531-46a3-90ae-7f2a8e2a8289",
   "metadata": {},
   "outputs": [
    {
     "name": "stdout",
     "output_type": "stream",
     "text": [
      "F1 Score (Test Data): 0.7979274611398963\n",
      "Classification Report (Test Data):\n",
      "               precision    recall  f1-score   support\n",
      "\n",
      "           0       0.80      0.76      0.78        91\n",
      "           1       0.78      0.82      0.80        94\n",
      "\n",
      "    accuracy                           0.79       185\n",
      "   macro avg       0.79      0.79      0.79       185\n",
      "weighted avg       0.79      0.79      0.79       185\n",
      "\n",
      "Precision: 0.7777777777777778\n",
      "Recall: 0.8191489361702128\n",
      "F1 Score: 0.7979274611398963\n",
      "Matthews Correlation Coefficient (MCC): 0.5787454374625243\n"
     ]
    }
   ],
   "source": [
    "from sklearn.metrics import f1_score\n",
    "# calculation of F1 score\n",
    "f1_test = f1_score(y_test, y_test_pred)\n",
    "print(\"F1 Score (Test Data):\", f1_test)\n",
    "\n",
    "#calculation of classification report for test and evaluation data\n",
    "print(\"Classification Report (Test Data):\\n\", classification_report(y_test, y_test_pred))\n",
    "\n",
    "from sklearn.metrics import precision_score, recall_score, f1_score, matthews_corrcoef\n",
    "# Compute metrics\n",
    "precision = precision_score(y_test, y_test_pred)\n",
    "recall = recall_score(y_test, y_test_pred)\n",
    "f1 = f1_score(y_test, y_test_pred)\n",
    "mcc = matthews_corrcoef(y_test, y_test_pred)\n",
    "\n",
    "# Print the results\n",
    "print(\"Precision:\", precision)\n",
    "print(\"Recall:\", recall)\n",
    "print(\"F1 Score:\", f1)\n",
    "print(\"Matthews Correlation Coefficient (MCC):\", mcc)"
   ]
  },
  {
   "cell_type": "code",
   "execution_count": 9,
   "id": "5c1d420b-cbd2-4529-9442-0504b63c4ce2",
   "metadata": {
    "scrolled": true
   },
   "outputs": [
    {
     "name": "stdout",
     "output_type": "stream",
     "text": [
      "Test Data ROC AUC: 0.855973813420622\n",
      "Test Data FPR: [0.         0.         0.         0.01098901 0.01098901 0.02197802\n",
      " 0.02197802 0.03296703 0.03296703 0.04395604 0.04395604 0.05494505\n",
      " 0.05494505 0.06593407 0.06593407 0.07692308 0.07692308 0.08791209\n",
      " 0.08791209 0.10989011 0.10989011 0.12087912 0.12087912 0.13186813\n",
      " 0.13186813 0.15384615 0.15384615 0.16483516 0.16483516 0.17582418\n",
      " 0.17582418 0.18681319 0.18681319 0.20879121 0.20879121 0.23076923\n",
      " 0.23076923 0.25274725 0.25274725 0.27472527 0.27472527 0.28571429\n",
      " 0.28571429 0.32967033 0.32967033 0.35164835 0.35164835 0.36263736\n",
      " 0.36263736 0.3956044  0.3956044  0.40659341 0.40659341 0.46153846\n",
      " 0.46153846 0.53846154 0.53846154 0.54945055 0.54945055 0.68131868\n",
      " 0.68131868 0.76923077 0.76923077 1.        ]\n",
      "Test Data TPR: [0.         0.0106383  0.07446809 0.07446809 0.08510638 0.08510638\n",
      " 0.13829787 0.13829787 0.24468085 0.24468085 0.32978723 0.32978723\n",
      " 0.36170213 0.36170213 0.41489362 0.41489362 0.5106383  0.5106383\n",
      " 0.56382979 0.56382979 0.57446809 0.57446809 0.58510638 0.58510638\n",
      " 0.63829787 0.63829787 0.65957447 0.65957447 0.68085106 0.68085106\n",
      " 0.71276596 0.71276596 0.74468085 0.74468085 0.77659574 0.77659574\n",
      " 0.81914894 0.81914894 0.82978723 0.82978723 0.86170213 0.86170213\n",
      " 0.87234043 0.87234043 0.89361702 0.89361702 0.90425532 0.90425532\n",
      " 0.91489362 0.91489362 0.92553191 0.92553191 0.94680851 0.94680851\n",
      " 0.95744681 0.95744681 0.96808511 0.96808511 0.9787234  0.9787234\n",
      " 0.9893617  0.9893617  1.         1.        ]\n",
      "Test Data Thresholds: [       inf 0.98998576 0.95299459 0.95277936 0.95002314 0.94814017\n",
      " 0.93535751 0.93034179 0.90614876 0.89908996 0.880141   0.87711354\n",
      " 0.87439265 0.87017904 0.83502354 0.83467011 0.80090415 0.79003619\n",
      " 0.76928736 0.7609001  0.75724682 0.75566355 0.75448544 0.75420758\n",
      " 0.73505605 0.72522255 0.71942518 0.71088995 0.68447209 0.68336155\n",
      " 0.65682466 0.65197831 0.62674877 0.59129613 0.5414129  0.52931679\n",
      " 0.50729224 0.49348811 0.48514747 0.45997806 0.44579982 0.44138917\n",
      " 0.42742238 0.41108592 0.3945595  0.35652046 0.34477658 0.34399617\n",
      " 0.34336935 0.30262395 0.29459968 0.28498093 0.26048686 0.19825222\n",
      " 0.19623097 0.14633983 0.1456594  0.13949794 0.13749273 0.07387352\n",
      " 0.06586741 0.0350034  0.03186325 0.0014338 ]\n",
      "ROC curve saved as 'logreg_protbert_roc_auc_curve.png'.\n"
     ]
    },
    {
     "data": {
      "image/png": "[encoded data removed]",
      "text/plain": [
       "<Figure size 600x600 with 1 Axes>"
      ]
     },
     "metadata": {},
     "output_type": "display_data"
    }
   ],
   "source": [
    "# Evaluate on the test dataset\n",
    "y_test_pred = best_logreg_model.predict(X_test)\n",
    "y_test_prob = best_logreg_model.predict_proba(X_test)[:, 1]\n",
    "\n",
    "import matplotlib.pyplot as plt\n",
    "from sklearn.metrics import roc_curve, auc\n",
    "\n",
    "# Generate ROC for test dataset\n",
    "fpr_test, tpr_test, thresholds_test = roc_curve(y_test, y_test_prob)\n",
    "roc_auc_test = auc(fpr_test, tpr_test)\n",
    "\n",
    "# Print the values\n",
    "print(\"Test Data ROC AUC:\", roc_auc_test)\n",
    "print(\"Test Data FPR:\", fpr_test)\n",
    "print(\"Test Data TPR:\", tpr_test)\n",
    "print(\"Test Data Thresholds:\", thresholds_test)\n",
    "\n",
    "# Create a plot\n",
    "fig, ax = plt.subplots(figsize=(6, 6))  # This defines 'ax' properly\n",
    "\n",
    "# Plot ROC curve\n",
    "ax.plot(fpr_test, tpr_test, label=f\"ROC AUC = {roc_auc_test:.2f}\", color=\"blue\")\n",
    "ax.plot([0, 1], [0, 1], 'k--', label=\"Random Classifier (AUC = 0.50)\")\n",
    "ax.set_title(\"Test Data - ROC Curve\")\n",
    "ax.set_xlabel(\"False Positive Rate\")\n",
    "ax.set_ylabel(\"True Positive Rate\")\n",
    "ax.legend(loc=\"lower right\")\n",
    "\n",
    "# Adjust layout and save figure\n",
    "plt.tight_layout()\n",
    "plt.savefig(\"logreg_protbert_roc_auc_curve.png\", dpi=500)\n",
    "print(\"ROC curve saved as 'logreg_protbert_roc_auc_curve.png'.\")\n",
    "\n",
    "# Show the plot\n",
    "plt.show()"
   ]
  },
  {
   "cell_type": "code",
   "execution_count": 10,
   "id": "12ba2dcd-ac9e-4aac-b166-dcca0aa2f654",
   "metadata": {
    "scrolled": true
   },
   "outputs": [
    {
     "name": "stderr",
     "output_type": "stream",
     "text": [
      "C:\\Users\\myousaf23\\anaconda3\\Lib\\site-packages\\sklearn\\linear_model\\_sag.py:349: ConvergenceWarning: The max_iter was reached which means the coef_ did not converge\n",
      "  warnings.warn(\n",
      "C:\\Users\\myousaf23\\anaconda3\\Lib\\site-packages\\sklearn\\linear_model\\_sag.py:349: ConvergenceWarning: The max_iter was reached which means the coef_ did not converge\n",
      "  warnings.warn(\n",
      "C:\\Users\\myousaf23\\anaconda3\\Lib\\site-packages\\sklearn\\linear_model\\_sag.py:349: ConvergenceWarning: The max_iter was reached which means the coef_ did not converge\n",
      "  warnings.warn(\n",
      "C:\\Users\\myousaf23\\anaconda3\\Lib\\site-packages\\sklearn\\linear_model\\_sag.py:349: ConvergenceWarning: The max_iter was reached which means the coef_ did not converge\n",
      "  warnings.warn(\n",
      "C:\\Users\\myousaf23\\anaconda3\\Lib\\site-packages\\sklearn\\linear_model\\_sag.py:349: ConvergenceWarning: The max_iter was reached which means the coef_ did not converge\n",
      "  warnings.warn(\n",
      "C:\\Users\\myousaf23\\anaconda3\\Lib\\site-packages\\sklearn\\linear_model\\_sag.py:349: ConvergenceWarning: The max_iter was reached which means the coef_ did not converge\n",
      "  warnings.warn(\n",
      "C:\\Users\\myousaf23\\anaconda3\\Lib\\site-packages\\sklearn\\linear_model\\_sag.py:349: ConvergenceWarning: The max_iter was reached which means the coef_ did not converge\n",
      "  warnings.warn(\n",
      "C:\\Users\\myousaf23\\anaconda3\\Lib\\site-packages\\sklearn\\linear_model\\_sag.py:349: ConvergenceWarning: The max_iter was reached which means the coef_ did not converge\n",
      "  warnings.warn(\n",
      "C:\\Users\\myousaf23\\anaconda3\\Lib\\site-packages\\sklearn\\linear_model\\_sag.py:349: ConvergenceWarning: The max_iter was reached which means the coef_ did not converge\n",
      "  warnings.warn(\n"
     ]
    },
    {
     "name": "stdout",
     "output_type": "stream",
     "text": [
      "10-Fold Cross-Validation Accuracy Scores: [0.68918919 0.82432432 0.83783784 0.81081081 0.81081081 0.7972973\n",
      " 0.90540541 0.72972973 0.78082192 0.80821918]\n",
      "Mean 10-Fold CV Accuracy: 0.7994446501295817\n",
      "Accuracy of each fold has been saved to 'cv_accuracies_logreg_protbert.txt'\n"
     ]
    },
    {
     "name": "stderr",
     "output_type": "stream",
     "text": [
      "C:\\Users\\myousaf23\\anaconda3\\Lib\\site-packages\\sklearn\\linear_model\\_sag.py:349: ConvergenceWarning: The max_iter was reached which means the coef_ did not converge\n",
      "  warnings.warn(\n"
     ]
    }
   ],
   "source": [
    "# Perform 10-fold cross-validation on the best model\n",
    "cross_val_scores = cross_val_score(best_logreg_model, X_train, y_train, cv=10, scoring='accuracy')\n",
    "print(\"10-Fold Cross-Validation Accuracy Scores:\", cross_val_scores)\n",
    "print(\"Mean 10-Fold CV Accuracy:\", cross_val_scores.mean())\n",
    "\n",
    "# save accuracy of each fold to a text file\n",
    "with open('cv_accuracies_logreg_protbert.txt', 'w') as f:\n",
    "    f.write(\"Cross-Validation Accuracies for each fold:\\n\")\n",
    "    for i, score in enumerate(cross_val_scores):\n",
    "        f.write(f\"Fold {i+1} Accuracy: {score:.4f}\\n\")\n",
    "\n",
    "print(\"Accuracy of each fold has been saved to 'cv_accuracies_logreg_protbert.txt'\")"
   ]
  },
  {
   "cell_type": "code",
   "execution_count": 11,
   "id": "0d35ad97-382f-42e6-aa6d-c4d251704642",
   "metadata": {
    "scrolled": true
   },
   "outputs": [
    {
     "name": "stdout",
     "output_type": "stream",
     "text": [
      "Mean Accuracy: 79.94\n",
      "Mean AUC: 0.9393\n"
     ]
    },
    {
     "name": "stderr",
     "output_type": "stream",
     "text": [
      "C:\\Users\\myousaf23\\anaconda3\\Lib\\site-packages\\sklearn\\linear_model\\_sag.py:349: ConvergenceWarning: The max_iter was reached which means the coef_ did not converge\n",
      "  warnings.warn(\n",
      "C:\\Users\\myousaf23\\anaconda3\\Lib\\site-packages\\sklearn\\linear_model\\_sag.py:349: ConvergenceWarning: The max_iter was reached which means the coef_ did not converge\n",
      "  warnings.warn(\n",
      "C:\\Users\\myousaf23\\anaconda3\\Lib\\site-packages\\sklearn\\linear_model\\_sag.py:349: ConvergenceWarning: The max_iter was reached which means the coef_ did not converge\n",
      "  warnings.warn(\n",
      "C:\\Users\\myousaf23\\anaconda3\\Lib\\site-packages\\sklearn\\linear_model\\_sag.py:349: ConvergenceWarning: The max_iter was reached which means the coef_ did not converge\n",
      "  warnings.warn(\n",
      "C:\\Users\\myousaf23\\anaconda3\\Lib\\site-packages\\sklearn\\linear_model\\_sag.py:349: ConvergenceWarning: The max_iter was reached which means the coef_ did not converge\n",
      "  warnings.warn(\n",
      "C:\\Users\\myousaf23\\anaconda3\\Lib\\site-packages\\sklearn\\linear_model\\_sag.py:349: ConvergenceWarning: The max_iter was reached which means the coef_ did not converge\n",
      "  warnings.warn(\n",
      "C:\\Users\\myousaf23\\anaconda3\\Lib\\site-packages\\sklearn\\linear_model\\_sag.py:349: ConvergenceWarning: The max_iter was reached which means the coef_ did not converge\n",
      "  warnings.warn(\n",
      "C:\\Users\\myousaf23\\anaconda3\\Lib\\site-packages\\sklearn\\linear_model\\_sag.py:349: ConvergenceWarning: The max_iter was reached which means the coef_ did not converge\n",
      "  warnings.warn(\n",
      "C:\\Users\\myousaf23\\anaconda3\\Lib\\site-packages\\sklearn\\linear_model\\_sag.py:349: ConvergenceWarning: The max_iter was reached which means the coef_ did not converge\n",
      "  warnings.warn(\n",
      "C:\\Users\\myousaf23\\anaconda3\\Lib\\site-packages\\sklearn\\linear_model\\_sag.py:349: ConvergenceWarning: The max_iter was reached which means the coef_ did not converge\n",
      "  warnings.warn(\n"
     ]
    },
    {
     "data": {
      "image/png": "[encoded data removed]",
      "text/plain": [
       "<Figure size 640x480 with 1 Axes>"
      ]
     },
     "metadata": {},
     "output_type": "display_data"
    }
   ],
   "source": [
    "# make roc curve of all folds with mean auc and mean accuracy printed on the plot\n",
    "mean_accuracy = cross_val_scores.mean() * 100\n",
    "print(f\"Mean Accuracy: {mean_accuracy:.2f}\")\n",
    "# Step 6: Generate ROC Curve\n",
    "mean_auc = roc_auc_score(y_train, best_logreg_model.predict_proba(X_train)[:, 1])\n",
    "print(f\"Mean AUC: {mean_auc:.4f}\")\n",
    "\n",
    "cv = StratifiedKFold(n_splits=10)\n",
    "tprs = []\n",
    "aucs = []\n",
    "mean_fpr = np.linspace(0, 1, 100)\n",
    "for i, (train_idx, test_idx) in enumerate(cv.split(X_train, y_train)):\n",
    "    best_logreg_model.fit(X_train.iloc[train_idx], y_train.iloc[train_idx])\n",
    "    y_prob = best_logreg_model.predict_proba(X_train.iloc[test_idx])[:, 1]\n",
    "    fpr, tpr, _ = roc_curve(y_train.iloc[test_idx], y_prob)\n",
    "    tprs.append(np.interp(mean_fpr, fpr, tpr))\n",
    "    roc_auc = auc(fpr, tpr)\n",
    "    aucs.append(roc_auc)\n",
    "    plt.plot(fpr, tpr, lw=1, alpha=0.3, label=f'Fold {i+1} (AUC = {roc_auc:.2f})')\n",
    "\n",
    "plt.plot([0, 1], [0, 1], color='gray', linestyle='--')\n",
    "mean_tpr = np.mean(tprs, axis=0)\n",
    "mean_auc = auc(mean_fpr, mean_tpr)\n",
    "plt.plot(mean_fpr, mean_tpr, label=f'Mean ROC (AUC = {mean_auc:.2f})', lw=2)\n",
    "\n",
    "plt.xlabel('False Positive Rate')\n",
    "plt.ylabel('True Positive Rate')\n",
    "plt.title('ROC Curve')\n",
    "plt.legend(loc=\"lower right\")\n",
    "plt.savefig(\"cv_roc_curve_logreg_protbert.png\", dpi=500)\n",
    "plt.show()"
   ]
  },
  {
   "cell_type": "code",
   "execution_count": null,
   "id": "e0f8eac9-9032-44d2-9c1e-5f6f8cd388d9",
   "metadata": {},
   "outputs": [],
   "source": []
  }
 ],
 "metadata": {
  "kernelspec": {
   "display_name": "Python 3 (ipykernel)",
   "language": "python",
   "name": "python3"
  },
  "language_info": {
   "codemirror_mode": {
    "name": "ipython",
    "version": 3
   },
   "file_extension": ".py",
   "mimetype": "text/x-python",
   "name": "python",
   "nbconvert_exporter": "python",
   "pygments_lexer": "ipython3",
   "version": "3.11.5"
  }
 },
 "nbformat": 4,
 "nbformat_minor": 5
}
